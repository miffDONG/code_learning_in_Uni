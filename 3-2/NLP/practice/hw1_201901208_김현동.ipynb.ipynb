{
 "cells": [
  {
   "cell_type": "markdown",
   "id": "6c46b7ef",
   "metadata": {
    "id": "6c46b7ef"
   },
   "source": [
    "# *Homework #1*"
   ]
  },
  {
   "cell_type": "markdown",
   "id": "7d03dfea",
   "metadata": {
    "id": "7d03dfea"
   },
   "source": [
    "**Double Click here to edit this cell**\n",
    "- Name : 김현동\n",
    "- Student Id : 201901208\n",
    "- Submission date : 2023/10/01"
   ]
  },
  {
   "cell_type": "markdown",
   "id": "7b6d61e1",
   "metadata": {
    "id": "7b6d61e1"
   },
   "source": [
    "# Part 1 [5점]\n",
    "\n",
    "### **Part 1의 학습 목표입니다.**\n",
    "\n",
    "1. tensor의 기본 연산에 대해 익숙해지기.\n",
    "2. Tensor의 broadcasting에 대해 알아보기.\n",
    "3. Gradient descent를 이해하고 적용해보기\n"
   ]
  },
  {
   "cell_type": "markdown",
   "id": "8d31d6ae",
   "metadata": {
    "id": "8d31d6ae"
   },
   "source": [
    "# 1-1\n",
    "\n",
    "- **주어진 tensor x와 torch library function을 이용하여** 결과값을 다음과 같이 출력하시오."
   ]
  },
  {
   "cell_type": "code",
   "execution_count": 1,
   "id": "5d0f02b5",
   "metadata": {
    "colab": {
     "base_uri": "https://localhost:8080/"
    },
    "id": "5d0f02b5",
    "outputId": "7ff4c7ec-8449-4daf-e85d-cf2302f5172f",
    "scrolled": true
   },
   "outputs": [
    {
     "name": "stdout",
     "output_type": "stream",
     "text": [
      "tensor([[[ 0,  1,  2,  3],\n",
      "         [ 4,  5,  6,  7],\n",
      "         [ 8,  9, 10, 11]],\n",
      "\n",
      "        [[12, 13, 14, 15],\n",
      "         [16, 17, 18, 19],\n",
      "         [20, 21, 22, 23]]])\n",
      "--------------------------------------------\n",
      "tensor([[[ 0,  1,  2,  3],\n",
      "         [ 4,  5,  6,  7],\n",
      "         [ 8,  9, 10, 11],\n",
      "         [ 0,  1,  2,  3],\n",
      "         [ 4,  5,  6,  7],\n",
      "         [ 8,  9, 10, 11]],\n",
      "\n",
      "        [[12, 13, 14, 15],\n",
      "         [16, 17, 18, 19],\n",
      "         [20, 21, 22, 23],\n",
      "         [12, 13, 14, 15],\n",
      "         [16, 17, 18, 19],\n",
      "         [20, 21, 22, 23]]])\n",
      "--------------------------------------------\n",
      "tensor([[[ 0,  1,  2,  3],\n",
      "         [12, 13, 14, 15]],\n",
      "\n",
      "        [[ 4,  5,  6,  7],\n",
      "         [16, 17, 18, 19]],\n",
      "\n",
      "        [[ 8,  9, 10, 11],\n",
      "         [20, 21, 22, 23]]])\n",
      "--------------------------------------------\n",
      "tensor([[[ 1,  3],\n",
      "         [ 5,  7],\n",
      "         [ 9, 11]],\n",
      "\n",
      "        [[13, 15],\n",
      "         [17, 19],\n",
      "         [21, 23]]])\n",
      "--------------------------------------------\n",
      "tensor([[[ 0,  4,  8],\n",
      "         [ 1,  5,  9],\n",
      "         [ 2,  6, 10],\n",
      "         [ 3,  7, 11]],\n",
      "\n",
      "        [[12, 16, 20],\n",
      "         [13, 17, 21],\n",
      "         [14, 18, 22],\n",
      "         [15, 19, 23]]])\n"
     ]
    }
   ],
   "source": [
    "import torch\n",
    "\n",
    "x_batch_size,  x_seq_size, x_feature_size = 2, 3, 4\n",
    "\n",
    "x = torch.arange(x_batch_size * x_seq_size * x_feature_size).view(x_batch_size, x_seq_size, x_feature_size)\n",
    "\n",
    "print(x)\n",
    "print(\"-----------\"*4)\n",
    "# Write your codes here\n",
    "print(torch.cat([x, x], dim=1))\n",
    "print(\"-----------\"*4)\n",
    "\n",
    "# Write your codes here\n",
    "print(x.transpose(1,0))\n",
    "print(\"-----------\"*4)\n",
    "\n",
    "# Write your codes here\n",
    "print(x[:,:,1::2])\n",
    "print(\"-----------\"*4)\n",
    "\n",
    "# Write your codes here\n",
    "print(x.transpose(1,2))"
   ]
  },
  {
   "cell_type": "markdown",
   "id": "-MOtvSXDxqAf",
   "metadata": {
    "id": "-MOtvSXDxqAf"
   },
   "source": [
    "**Your output must be** </br>\n",
    "\n",
    "![1-1.PNG](data:image/png;base64,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)"
   ]
  },
  {
   "cell_type": "markdown",
   "id": "91302ddf",
   "metadata": {
    "id": "91302ddf"
   },
   "source": [
    "# 1-2\n",
    "\n",
    "**1) Tensor의 broadcasting에 대해 설명하고, broadcast가 성립하기 위한 규칙들(broadcastable)에 대해 설명하시오.**\n",
    "        \n",
    "\n",
    "**2) 두 tensor의 shape이 (3, 1, 2)와 (1, 3, 1)이라면 두 tensor는 broadcastable한가\n",
    " 이유와 함께 설명하시오.**\n",
    "\n",
    "**3) 두 tensor의 shape이 (3, 2, 1)과 (3, 3, 3)이라면 broadcastable한가? 이유와 함께 설명하시오**"
   ]
  },
  {
   "cell_type": "markdown",
   "id": "7b0bb84d",
   "metadata": {
    "id": "7b0bb84d"
   },
   "source": [
    "**Double Click here to write your answer**\n",
    "\n",
    "1) 서로 다른 shape을 가진 텐서들을 연산할 때 사용하는 기능입니다. Tensor Broadcasting 기능을 사용하면 아래 규칙에 따라 차원 수(shape)를 일치 시킬 수 있고, 결국 연산이 가능하게 됩니다.\n",
    "    * Broadcasting 규칙 : \n",
    "        1. 두 텐서의 차원 수가 다를 경우, 차원 수가 더 적은 텐서의 차원을 앞쪽에 1을 추가하여 차원 수를 일치시킵니다.\n",
    "        2. 각 차원의 크기가 일치하거나 한 축이 1일경우, broadcasting이 가능합니다.\n",
    "        3. 만약 어떤 차원에서 크기가 일치하지 않고 1도 아니라면, broadcasting 오류가 발생합니다.\n",
    "           \n",
    "\n",
    "\n",
    "2) broadcastable 합니다. shape을 일치시키기 위해서 한 축이 1이여야 한다는 2 규칙을 각 dim이 만족합니다. 따라서 broadcasting을 할 수 있습니다.\n",
    "   \n",
    "\n",
    "4) broadcastable 하지 않습니다. dim=1이 2 규칙에 만족하지 않아 broadcasting 할 수 없습니다."
   ]
  },
  {
   "cell_type": "markdown",
   "id": "866a7ce8",
   "metadata": {
    "id": "866a7ce8"
   },
   "source": [
    "# 1-3\n",
    "\n",
    "**1. 주석 처리된 부분의 코드(2개)를 작성하시오.**\n",
    "- torch.autograd.grad를 이용하여 gradient 계산\n",
    "- 계산된 gradient 및 learning rate(lr)을 이용하여 x를 update"
   ]
  },
  {
   "cell_type": "code",
   "execution_count": 4,
   "id": "e6a92ec5",
   "metadata": {
    "id": "e6a92ec5",
    "outputId": "e483aa6c-6e9b-4a8d-bc00-f54778ea39e6"
   },
   "outputs": [
    {
     "name": "stdout",
     "output_type": "stream",
     "text": [
      "Gradients : \n",
      " tensor([[ 2., -1.],\n",
      "        [ 2., 11.]])\n",
      "update tensor : \n",
      " tensor([[0.8000, 2.1000],\n",
      "        [2.8000, 2.9000]], grad_fn=<AsStridedBackward0>)\n"
     ]
    }
   ],
   "source": [
    "def func(x) :\n",
    "    return (x-3)*(x-1)*(x-2)+5\n",
    "\n",
    "x = torch.arange(1.0, 5.0, requires_grad = True).reshape(2, 2)\n",
    "lr = 0.1\n",
    "\n",
    "y = func(x)\n",
    "\n",
    "gradients = torch.autograd.grad(y.sum(),x)\n",
    "\n",
    "print(\"Gradients : \\n\", gradients[0])\n",
    "\n",
    "with torch.no_grad() :\n",
    "    x -= lr * gradients[0]\n",
    "\n",
    "\n",
    "print(\"update tensor : \\n\", x)"
   ]
  },
  {
   "cell_type": "markdown",
   "id": "C24kxeXGyFmH",
   "metadata": {
    "id": "C24kxeXGyFmH"
   },
   "source": [
    "**Your output must be**\n",
    "</br>\n",
    "\n",
    "![1-2.PNG](data:image/png;base64,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)"
   ]
  },
  {
   "cell_type": "markdown",
   "id": "XCDPry1lw76W",
   "metadata": {
    "id": "XCDPry1lw76W"
   },
   "source": [
    "**2. update된 x의 값이 다음과 같이 출력된 이유를 작성하시오.**\n",
    "- 경사하강법을 사용하여 x 값을 업데이트합니다. 경사하강법은 함수의 기울기를 계산하고, 기울기가 가르키는 방향의 반대로 x 값을 조금씩 변경하는 방법입니다. 따라서 업데이트된 x 값은 기존 x 값에서 학습률, 기울기의 곱을 뺀 값이 됩니다. 이렇게 x의 값을 함수의 최소값을 향해 점진적으로 이동시킬 수 있습니다.\n",
    "\n",
    "\n",
    "**3. Gradient Descent는 왜 derivative의 반대 방향으로 가중치를 업데이트 하는지 작성하시오.**\n",
    "- 경사하강법의 목적은 함수의 최소값을 찾는 것입니다. 미분 값은 함수가 가장 크게 증가하는 방향을 카르키므로, 그 반대방향으로 이동하면 함수의 값이 감소하게 됩니다. 따라서 미분 값의 반대 방향으로 가중치를 조금씩 변경하여 함수의 최소값을 찾아갑니다.\n"
   ]
  },
  {
   "cell_type": "markdown",
   "id": "02fc08f2",
   "metadata": {
    "id": "02fc08f2"
   },
   "source": [
    "# Part 2 [5점]\n",
    "\n",
    "### **Part 2의 학습 목표입니다.**\n",
    "\n",
    "1. nltk library를 활용하여 NLP 전처리 기법 적용해보기.\n",
    "2. TF, IDF, TF-IDF를 이해하고 구현해보기.\n",
    "3. 전처리 기법과 TF-IDF의 사용 사례 알아보기."
   ]
  },
  {
   "cell_type": "code",
   "execution_count": 6,
   "id": "174fc84b",
   "metadata": {
    "id": "174fc84b",
    "outputId": "419da27f-9531-4faf-e05d-cf71cdf782de"
   },
   "outputs": [
    {
     "name": "stderr",
     "output_type": "stream",
     "text": [
      "[nltk_data] Downloading package webtext to\n",
      "[nltk_data]     C:\\Users\\hyundong\\AppData\\Roaming\\nltk_data...\n",
      "[nltk_data]   Package webtext is already up-to-date!\n"
     ]
    },
    {
     "data": {
      "text/plain": [
       "True"
      ]
     },
     "execution_count": 6,
     "metadata": {},
     "output_type": "execute_result"
    }
   ],
   "source": [
    "# run this cell\n",
    "import nltk\n",
    "nltk.download('webtext')"
   ]
  },
  {
   "cell_type": "code",
   "execution_count": 7,
   "id": "6b8e94f4",
   "metadata": {
    "id": "6b8e94f4",
    "outputId": "f70cc33f-14ae-4e75-90c4-7b58cf4b94d3"
   },
   "outputs": [
    {
     "data": {
      "text/plain": [
       "['firefox.txt',\n",
       " 'grail.txt',\n",
       " 'overheard.txt',\n",
       " 'pirates.txt',\n",
       " 'singles.txt',\n",
       " 'wine.txt']"
      ]
     },
     "execution_count": 7,
     "metadata": {},
     "output_type": "execute_result"
    }
   ],
   "source": [
    "# run this cell\n",
    "#  nltk corpus의 webtext를 활용함.\n",
    "from nltk.corpus import webtext\n",
    "\n",
    "webtext.fileids()"
   ]
  },
  {
   "cell_type": "code",
   "execution_count": 8,
   "id": "96d5b579",
   "metadata": {
    "id": "96d5b579",
    "outputId": "a4093bdb-e61b-4e95-ac83-1eb8cd5af30a"
   },
   "outputs": [
    {
     "name": "stdout",
     "output_type": "stream",
     "text": [
      "0:\t25 SEXY MALE, seeks attrac older single lady, for discreet encounters.\n",
      "1:\t35YO Security Guard, seeking lady in uniform for fun times.\n",
      "2:\t40 yo SINGLE DAD, sincere friendly DTE seeks r/ship with fem age open S/E\n",
      "3:\t44yo tall seeks working single mum or lady below 45 fship rship. Nat Open\n",
      "4:\t6.2 35 yr old OUTGOING M seeks fem 28-35 for o/door sports - w/e away\n",
      "5:\tA professional business male, late 40s, 6 feet tall, slim build, well groomed, great personality, home owner, interests include the arts travel and all things good, Ringwood area, is seeking a genuine female of similar age or older, in same area or surrounds, for a meaningful long term rship. Looking forward to hearing from you all.\n",
      "6:\tABLE young man seeks, sexy older women. Phone for fun ready to play\n",
      "7:\tAFFECTIONATE LADY Sought by generous guy, 40s, mutual fulfillment\n",
      "8:\tARE YOU ALONE or lost in a r/ship too, with no hope in sight? Maybe we could explore new beginnings together? Im 45 Slim/Med build, GSOH, high needs and looking for someone similar. You WONT be disappointed.\n",
      "9:\tAMIABLE 43 y.o. gentleman with European background, 170 cm, medium build, employed, never married, no children. Enjoys sports, music, cafes, beach &c. Seeks an honest, attractive lady with a European background, without children, who would like to get married and have chil dren in the future. 29-39 y.o. Prefer non-smoker and living in Adelaide.\n",
      "10:\tARE YOU A COPPER REDHEAD? I am 36 y.o. and looking for companionship/friendship. I enjoy the AFL, animals and dining out.\n"
     ]
    }
   ],
   "source": [
    "# run this cell\n",
    "# singles.txt의 첫 10개 ads 확인\n",
    "for i, line in enumerate(webtext.raw('singles.txt').split('\\n')):\n",
    "    if i > 10:\n",
    "        break\n",
    "    print(str(i) + ':\\t' + line)"
   ]
  },
  {
   "cell_type": "markdown",
   "id": "9bbf54a8",
   "metadata": {
    "id": "9bbf54a8"
   },
   "source": [
    "# 2-1\n",
    "- singles.txt의 8번째 ads에 대한 sentence tokenize 출력해보기.\n",
    "- **nltk의 sent_tokenize를 사용할 것.**"
   ]
  },
  {
   "cell_type": "code",
   "execution_count": 9,
   "id": "be08ab40",
   "metadata": {
    "id": "be08ab40",
    "outputId": "9aca3d23-17b1-4855-e85d-208d1420efbf"
   },
   "outputs": [
    {
     "name": "stdout",
     "output_type": "stream",
     "text": [
      "['ARE YOU ALONE or lost in a r/ship too, with no hope in sight?', 'Maybe we could explore new beginnings together?', 'Im 45 Slim/Med build, GSOH, high needs and looking for someone similar.', 'You WONT be disappointed.']\n"
     ]
    }
   ],
   "source": [
    "from nltk import sent_tokenize, word_tokenize\n",
    "ads = webtext.raw('singles.txt').split('\\n')\n",
    "ad = ads[8]\n",
    "sent_token = sent_tokenize(ad)\n",
    "print(sent_token)"
   ]
  },
  {
   "cell_type": "markdown",
   "id": "5zzl_oO9ykD3",
   "metadata": {
    "id": "5zzl_oO9ykD3"
   },
   "source": [
    "**Your output must be**\n",
    "\n",
    "</br>\n",
    "\n",
    "![image.png](data:image/png;base64,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)"
   ]
  },
  {
   "cell_type": "markdown",
   "id": "6ea1bb53",
   "metadata": {
    "id": "6ea1bb53"
   },
   "source": [
    "# 2-2\n",
    "- sentence tokenize 된 문장에 대해 word tokenize 후 lowercase로 출력해보기\n",
    "- **nltk의 word_tokenize를 사용할 것.**"
   ]
  },
  {
   "cell_type": "code",
   "execution_count": 12,
   "id": "a2e9871a",
   "metadata": {
    "id": "a2e9871a",
    "outputId": "5cd91af4-b8bf-4895-c627-8ceff987cc4f"
   },
   "outputs": [
    {
     "name": "stdout",
     "output_type": "stream",
     "text": [
      "['are', 'you', 'alone', 'or', 'lost', 'in', 'a', 'r/ship', 'too', ',', 'with', 'no', 'hope', 'in', 'sight', '?']\n",
      "['maybe', 'we', 'could', 'explore', 'new', 'beginnings', 'together', '?']\n",
      "['im', '45', 'slim/med', 'build', ',', 'gsoh', ',', 'high', 'needs', 'and', 'looking', 'for', 'someone', 'similar', '.']\n",
      "['you', 'wont', 'be', 'disappointed', '.']\n"
     ]
    }
   ],
   "source": [
    "for sent in sent_token :\n",
    "    words = word_tokenize(sent)\n",
    "    lower_words = [word.lower() for word in words]\n",
    "    print(lower_words)"
   ]
  },
  {
   "cell_type": "markdown",
   "id": "pOHzhVlWyyEW",
   "metadata": {
    "id": "pOHzhVlWyyEW"
   },
   "source": [
    "**Your Output must be**\n",
    "\n",
    "</br>\n",
    "\n",
    "![image.png](data:image/png;base64,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)"
   ]
  },
  {
   "cell_type": "markdown",
   "id": "d1768b80",
   "metadata": {
    "id": "d1768b80"
   },
   "source": [
    "# 2-3\n",
    "**1. sentence tokenize 된 문장에 대해 parsing 진행해보기**"
   ]
  },
  {
   "cell_type": "code",
   "execution_count": 13,
   "id": "9609f48f",
   "metadata": {
    "id": "9609f48f",
    "outputId": "5d4e45f0-31ac-4683-d42f-dea44ea0bacf",
    "scrolled": true
   },
   "outputs": [
    {
     "name": "stdout",
     "output_type": "stream",
     "text": [
      "[('are', 'VBP'), ('you', 'PRP'), ('alone', 'RB'), ('or', 'CC'), ('lost', 'VBN'), ('in', 'IN'), ('a', 'DT'), ('r', 'NN'), ('ship', 'NN'), ('too', 'RB'), ('with', 'IN'), ('no', 'DT'), ('hope', 'NN'), ('in', 'IN'), ('sight', 'NN')]\n",
      "[('maybe', 'RB'), ('we', 'PRP'), ('could', 'MD'), ('explore', 'VB'), ('new', 'JJ'), ('beginnings', 'NNS'), ('together', 'RB')]\n",
      "[('im', 'NN'), ('45', 'CD'), ('slim', 'NN'), ('med', 'VBD'), ('build', 'JJ'), ('gsoh', 'JJ'), ('high', 'JJ'), ('needs', 'NNS'), ('and', 'CC'), ('looking', 'VBG'), ('for', 'IN'), ('someone', 'NN'), ('similar', 'JJ')]\n",
      "[('you', 'PRP'), ('wont', 'VBP'), ('be', 'VB'), ('disappointed', 'VBN')]\n"
     ]
    }
   ],
   "source": [
    "from nltk import pos_tag\n",
    "from tensorflow.keras.preprocessing.text import text_to_word_sequence\n",
    "\n",
    "for sent in sent_token :\n",
    "    tokenies = text_to_word_sequence(sent)\n",
    "    # print(tokenies)\n",
    "    tags_en = pos_tag(text_to_word_sequence(sent))\n",
    "\n",
    "    print(tags_en)"
   ]
  },
  {
   "cell_type": "markdown",
   "id": "BH1P6OlBy6Su",
   "metadata": {
    "id": "BH1P6OlBy6Su"
   },
   "source": [
    "**Your Output must be**\n",
    "\n",
    "</br>\n",
    "\n",
    "![image.png](data:image/png;base64,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)"
   ]
  },
  {
   "cell_type": "markdown",
   "id": "71kPUeyf4XdE",
   "metadata": {
    "id": "71kPUeyf4XdE"
   },
   "source": [
    "**2. parsing이 어떤 경우에 사용되는지 작성하시오.(사용 사례)**\n",
    "\n",
    "'구문 분석(Syntax Analysis)'에 사용된다. 문장의 구성요소를 분해하고, 그들 사이의 위계 관계를 분석해 문장의 구조를 찾아내기 위함이다.  \n",
    "보통은 각각의 어절 단위로 나눠 Parsing tree를 이용해 해당하는 tag를 부여해서 분류한다. 가령 ‘Time flies like an arrow.’라는 문장을 구문 분석하는 경우, flies를 명사 또는 동사로 분석하는지, like를 동사 또는 전치사로 분석하는지에 따라 분석 결과가 확연히 달라진다.\n",
    "분석 결과에 영향을 주는만큼 중요한 단계로 여겨진다.\n",
    "\n",
    "출처: KTenterprise https://enterprise.kt.com/bt/dxstory/746.do\n"
   ]
  },
  {
   "cell_type": "markdown",
   "id": "77c7c65d",
   "metadata": {
    "id": "77c7c65d"
   },
   "source": [
    "# 2-4\n",
    "**1. tf, idf, tf-idf 구현하기** </br>"
   ]
  },
  {
   "cell_type": "code",
   "execution_count": 18,
   "id": "f730e5de",
   "metadata": {
    "id": "f730e5de",
    "outputId": "cc4f8fd4-7534-41d8-ed38-fecbdca33d39"
   },
   "outputs": [],
   "source": [
    "import pandas as pd\n",
    "from math import log\n",
    "\n",
    "pd.set_option('display.max_columns', None)\n",
    "\n",
    "vocab = sorted(list(set(x for word in sent_token for x in word.split())))\n",
    "\n",
    "def tf(t, d):\n",
    "    return d.count(t)\n",
    "\n",
    "def idf(t, D):\n",
    "    df = 0\n",
    "    for doc in D:\n",
    "        df += t in doc\n",
    "    return log(len(D)/(df + 1))\n",
    "\n",
    "def tf_idf(t, d, D):\n",
    "    return tf(t, d) * idf(t, D)"
   ]
  },
  {
   "cell_type": "markdown",
   "id": "19bf6d1a",
   "metadata": {},
   "source": [
    "**2. 주어진 vocab을 구현한 tf, idf, if_idf function을 사용하여 변수 이름이 tf_, idf_, tfidf_인 dataframe으로 구현하시오.** </br>"
   ]
  },
  {
   "cell_type": "code",
   "execution_count": 11,
   "id": "128ef810",
   "metadata": {
    "colab": {
     "base_uri": "https://localhost:8080/",
     "height": 183
    },
    "id": "128ef810",
    "outputId": "c3e14107-a4e8-455b-f076-a07d399aa382"
   },
   "outputs": [],
   "source": [
    "# run this cell\n",
    "N = len(sent_token)"
   ]
  },
  {
   "cell_type": "code",
   "execution_count": 12,
   "id": "4a302fa1",
   "metadata": {
    "id": "4a302fa1",
    "outputId": "ce47dfd7-7797-46a6-8b16-fae0418e7e42"
   },
   "outputs": [],
   "source": [
    "import pandas as pd\n",
    "# 문서 집합 D 정의\n",
    "D = sent_token\n",
    "\n",
    "# 데이터프레임 초기화\n",
    "tf_ = pd.DataFrame()\n",
    "\n",
    "# 각 단어에 대해 tf, idf, tf-idf 계산\n",
    "for t in vocab:\n",
    "    tf_[t] = [tf(t, d) for d in D]"
   ]
  },
  {
   "cell_type": "code",
   "execution_count": 13,
   "id": "iEpY3DBp1Wd-",
   "metadata": {
    "id": "iEpY3DBp1Wd-"
   },
   "outputs": [
    {
     "data": {
      "text/html": [
       "<div>\n",
       "<style scoped>\n",
       "    .dataframe tbody tr th:only-of-type {\n",
       "        vertical-align: middle;\n",
       "    }\n",
       "\n",
       "    .dataframe tbody tr th {\n",
       "        vertical-align: top;\n",
       "    }\n",
       "\n",
       "    .dataframe thead th {\n",
       "        text-align: right;\n",
       "    }\n",
       "</style>\n",
       "<table border=\"1\" class=\"dataframe\">\n",
       "  <thead>\n",
       "    <tr style=\"text-align: right;\">\n",
       "      <th></th>\n",
       "      <th>45</th>\n",
       "      <th>ALONE</th>\n",
       "      <th>ARE</th>\n",
       "      <th>GSOH,</th>\n",
       "      <th>Im</th>\n",
       "      <th>Maybe</th>\n",
       "      <th>Slim/Med</th>\n",
       "      <th>WONT</th>\n",
       "      <th>YOU</th>\n",
       "      <th>You</th>\n",
       "      <th>a</th>\n",
       "      <th>and</th>\n",
       "      <th>be</th>\n",
       "      <th>beginnings</th>\n",
       "      <th>build,</th>\n",
       "      <th>could</th>\n",
       "      <th>disappointed.</th>\n",
       "      <th>explore</th>\n",
       "      <th>for</th>\n",
       "      <th>high</th>\n",
       "      <th>hope</th>\n",
       "      <th>in</th>\n",
       "      <th>looking</th>\n",
       "      <th>lost</th>\n",
       "      <th>needs</th>\n",
       "      <th>new</th>\n",
       "      <th>no</th>\n",
       "      <th>or</th>\n",
       "      <th>r/ship</th>\n",
       "      <th>sight?</th>\n",
       "      <th>similar.</th>\n",
       "      <th>someone</th>\n",
       "      <th>together?</th>\n",
       "      <th>too,</th>\n",
       "      <th>we</th>\n",
       "      <th>with</th>\n",
       "    </tr>\n",
       "  </thead>\n",
       "  <tbody>\n",
       "    <tr>\n",
       "      <th>0</th>\n",
       "      <td>0</td>\n",
       "      <td>1</td>\n",
       "      <td>1</td>\n",
       "      <td>0</td>\n",
       "      <td>0</td>\n",
       "      <td>0</td>\n",
       "      <td>0</td>\n",
       "      <td>0</td>\n",
       "      <td>1</td>\n",
       "      <td>0</td>\n",
       "      <td>1</td>\n",
       "      <td>0</td>\n",
       "      <td>0</td>\n",
       "      <td>0</td>\n",
       "      <td>0</td>\n",
       "      <td>0</td>\n",
       "      <td>0</td>\n",
       "      <td>0</td>\n",
       "      <td>0</td>\n",
       "      <td>0</td>\n",
       "      <td>1</td>\n",
       "      <td>2</td>\n",
       "      <td>0</td>\n",
       "      <td>1</td>\n",
       "      <td>0</td>\n",
       "      <td>0</td>\n",
       "      <td>1</td>\n",
       "      <td>1</td>\n",
       "      <td>1</td>\n",
       "      <td>1</td>\n",
       "      <td>0</td>\n",
       "      <td>0</td>\n",
       "      <td>0</td>\n",
       "      <td>1</td>\n",
       "      <td>0</td>\n",
       "      <td>1</td>\n",
       "    </tr>\n",
       "    <tr>\n",
       "      <th>1</th>\n",
       "      <td>0</td>\n",
       "      <td>0</td>\n",
       "      <td>0</td>\n",
       "      <td>0</td>\n",
       "      <td>0</td>\n",
       "      <td>1</td>\n",
       "      <td>0</td>\n",
       "      <td>0</td>\n",
       "      <td>0</td>\n",
       "      <td>0</td>\n",
       "      <td>1</td>\n",
       "      <td>0</td>\n",
       "      <td>2</td>\n",
       "      <td>1</td>\n",
       "      <td>0</td>\n",
       "      <td>1</td>\n",
       "      <td>0</td>\n",
       "      <td>1</td>\n",
       "      <td>0</td>\n",
       "      <td>0</td>\n",
       "      <td>0</td>\n",
       "      <td>2</td>\n",
       "      <td>0</td>\n",
       "      <td>0</td>\n",
       "      <td>0</td>\n",
       "      <td>1</td>\n",
       "      <td>0</td>\n",
       "      <td>1</td>\n",
       "      <td>0</td>\n",
       "      <td>0</td>\n",
       "      <td>0</td>\n",
       "      <td>0</td>\n",
       "      <td>1</td>\n",
       "      <td>0</td>\n",
       "      <td>1</td>\n",
       "      <td>0</td>\n",
       "    </tr>\n",
       "    <tr>\n",
       "      <th>2</th>\n",
       "      <td>1</td>\n",
       "      <td>0</td>\n",
       "      <td>0</td>\n",
       "      <td>1</td>\n",
       "      <td>1</td>\n",
       "      <td>0</td>\n",
       "      <td>1</td>\n",
       "      <td>0</td>\n",
       "      <td>0</td>\n",
       "      <td>0</td>\n",
       "      <td>2</td>\n",
       "      <td>1</td>\n",
       "      <td>0</td>\n",
       "      <td>0</td>\n",
       "      <td>1</td>\n",
       "      <td>0</td>\n",
       "      <td>0</td>\n",
       "      <td>0</td>\n",
       "      <td>1</td>\n",
       "      <td>1</td>\n",
       "      <td>0</td>\n",
       "      <td>1</td>\n",
       "      <td>1</td>\n",
       "      <td>0</td>\n",
       "      <td>1</td>\n",
       "      <td>0</td>\n",
       "      <td>0</td>\n",
       "      <td>1</td>\n",
       "      <td>0</td>\n",
       "      <td>0</td>\n",
       "      <td>1</td>\n",
       "      <td>1</td>\n",
       "      <td>0</td>\n",
       "      <td>0</td>\n",
       "      <td>0</td>\n",
       "      <td>0</td>\n",
       "    </tr>\n",
       "    <tr>\n",
       "      <th>3</th>\n",
       "      <td>0</td>\n",
       "      <td>0</td>\n",
       "      <td>0</td>\n",
       "      <td>0</td>\n",
       "      <td>0</td>\n",
       "      <td>0</td>\n",
       "      <td>0</td>\n",
       "      <td>1</td>\n",
       "      <td>0</td>\n",
       "      <td>1</td>\n",
       "      <td>1</td>\n",
       "      <td>0</td>\n",
       "      <td>1</td>\n",
       "      <td>0</td>\n",
       "      <td>0</td>\n",
       "      <td>0</td>\n",
       "      <td>1</td>\n",
       "      <td>0</td>\n",
       "      <td>0</td>\n",
       "      <td>0</td>\n",
       "      <td>0</td>\n",
       "      <td>1</td>\n",
       "      <td>0</td>\n",
       "      <td>0</td>\n",
       "      <td>0</td>\n",
       "      <td>0</td>\n",
       "      <td>0</td>\n",
       "      <td>0</td>\n",
       "      <td>0</td>\n",
       "      <td>0</td>\n",
       "      <td>0</td>\n",
       "      <td>0</td>\n",
       "      <td>0</td>\n",
       "      <td>0</td>\n",
       "      <td>0</td>\n",
       "      <td>0</td>\n",
       "    </tr>\n",
       "  </tbody>\n",
       "</table>\n",
       "</div>"
      ],
      "text/plain": [
       "   45  ALONE  ARE  GSOH,  Im  Maybe  Slim/Med  WONT  YOU  You  a  and  be  \\\n",
       "0   0      1    1      0   0      0         0     0    1    0  1    0   0   \n",
       "1   0      0    0      0   0      1         0     0    0    0  1    0   2   \n",
       "2   1      0    0      1   1      0         1     0    0    0  2    1   0   \n",
       "3   0      0    0      0   0      0         0     1    0    1  1    0   1   \n",
       "\n",
       "   beginnings  build,  could  disappointed.  explore  for  high  hope  in  \\\n",
       "0           0       0      0              0        0    0     0     1   2   \n",
       "1           1       0      1              0        1    0     0     0   2   \n",
       "2           0       1      0              0        0    1     1     0   1   \n",
       "3           0       0      0              1        0    0     0     0   1   \n",
       "\n",
       "   looking  lost  needs  new  no  or  r/ship  sight?  similar.  someone  \\\n",
       "0        0     1      0    0   1   1       1       1         0        0   \n",
       "1        0     0      0    1   0   1       0       0         0        0   \n",
       "2        1     0      1    0   0   1       0       0         1        1   \n",
       "3        0     0      0    0   0   0       0       0         0        0   \n",
       "\n",
       "   together?  too,  we  with  \n",
       "0          0     1   0     1  \n",
       "1          1     0   1     0  \n",
       "2          0     0   0     0  \n",
       "3          0     0   0     0  "
      ]
     },
     "execution_count": 13,
     "metadata": {},
     "output_type": "execute_result"
    }
   ],
   "source": [
    "# run this cell\n",
    "tf_"
   ]
  },
  {
   "cell_type": "markdown",
   "id": "NBC2GOap1C9m",
   "metadata": {
    "id": "NBC2GOap1C9m"
   },
   "source": [
    "**Your Output must be**\n",
    "\n",
    "</br>\n",
    "\n",
    "![image.png](data:image/png;base64,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)"
   ]
  },
  {
   "cell_type": "code",
   "execution_count": 14,
   "id": "33796e56",
   "metadata": {
    "id": "33796e56",
    "outputId": "9464db14-cfe5-486b-aa4d-e50cfdc94215",
    "scrolled": true
   },
   "outputs": [],
   "source": [
    "import math\n",
    "# # Write your codes here\n",
    "\n",
    "# 데이터프레임 초기화 (단어 개수 x 1)\n",
    "idf_ = pd.DataFrame(index=vocab, columns=[\"IDF\"])\n",
    "\n",
    "# 각 단어에 대해 idf 계산 및 저장\n",
    "for t in vocab:\n",
    "    idf_[\"IDF\"][t] = idf(t, D)"
   ]
  },
  {
   "cell_type": "code",
   "execution_count": 15,
   "id": "KjwlTB781T_d",
   "metadata": {
    "id": "KjwlTB781T_d"
   },
   "outputs": [
    {
     "data": {
      "text/html": [
       "<div>\n",
       "<style scoped>\n",
       "    .dataframe tbody tr th:only-of-type {\n",
       "        vertical-align: middle;\n",
       "    }\n",
       "\n",
       "    .dataframe tbody tr th {\n",
       "        vertical-align: top;\n",
       "    }\n",
       "\n",
       "    .dataframe thead th {\n",
       "        text-align: right;\n",
       "    }\n",
       "</style>\n",
       "<table border=\"1\" class=\"dataframe\">\n",
       "  <thead>\n",
       "    <tr style=\"text-align: right;\">\n",
       "      <th></th>\n",
       "      <th>IDF</th>\n",
       "    </tr>\n",
       "  </thead>\n",
       "  <tbody>\n",
       "    <tr>\n",
       "      <th>45</th>\n",
       "      <td>0.693147</td>\n",
       "    </tr>\n",
       "    <tr>\n",
       "      <th>ALONE</th>\n",
       "      <td>0.693147</td>\n",
       "    </tr>\n",
       "    <tr>\n",
       "      <th>ARE</th>\n",
       "      <td>0.693147</td>\n",
       "    </tr>\n",
       "    <tr>\n",
       "      <th>GSOH,</th>\n",
       "      <td>0.693147</td>\n",
       "    </tr>\n",
       "    <tr>\n",
       "      <th>Im</th>\n",
       "      <td>0.693147</td>\n",
       "    </tr>\n",
       "    <tr>\n",
       "      <th>Maybe</th>\n",
       "      <td>0.693147</td>\n",
       "    </tr>\n",
       "    <tr>\n",
       "      <th>Slim/Med</th>\n",
       "      <td>0.693147</td>\n",
       "    </tr>\n",
       "    <tr>\n",
       "      <th>WONT</th>\n",
       "      <td>0.693147</td>\n",
       "    </tr>\n",
       "    <tr>\n",
       "      <th>YOU</th>\n",
       "      <td>0.693147</td>\n",
       "    </tr>\n",
       "    <tr>\n",
       "      <th>You</th>\n",
       "      <td>0.693147</td>\n",
       "    </tr>\n",
       "    <tr>\n",
       "      <th>a</th>\n",
       "      <td>-0.223144</td>\n",
       "    </tr>\n",
       "    <tr>\n",
       "      <th>and</th>\n",
       "      <td>0.693147</td>\n",
       "    </tr>\n",
       "    <tr>\n",
       "      <th>be</th>\n",
       "      <td>0.287682</td>\n",
       "    </tr>\n",
       "    <tr>\n",
       "      <th>beginnings</th>\n",
       "      <td>0.693147</td>\n",
       "    </tr>\n",
       "    <tr>\n",
       "      <th>build,</th>\n",
       "      <td>0.693147</td>\n",
       "    </tr>\n",
       "    <tr>\n",
       "      <th>could</th>\n",
       "      <td>0.693147</td>\n",
       "    </tr>\n",
       "    <tr>\n",
       "      <th>disappointed.</th>\n",
       "      <td>0.693147</td>\n",
       "    </tr>\n",
       "    <tr>\n",
       "      <th>explore</th>\n",
       "      <td>0.693147</td>\n",
       "    </tr>\n",
       "    <tr>\n",
       "      <th>for</th>\n",
       "      <td>0.693147</td>\n",
       "    </tr>\n",
       "    <tr>\n",
       "      <th>high</th>\n",
       "      <td>0.693147</td>\n",
       "    </tr>\n",
       "    <tr>\n",
       "      <th>hope</th>\n",
       "      <td>0.693147</td>\n",
       "    </tr>\n",
       "    <tr>\n",
       "      <th>in</th>\n",
       "      <td>-0.223144</td>\n",
       "    </tr>\n",
       "    <tr>\n",
       "      <th>looking</th>\n",
       "      <td>0.693147</td>\n",
       "    </tr>\n",
       "    <tr>\n",
       "      <th>lost</th>\n",
       "      <td>0.693147</td>\n",
       "    </tr>\n",
       "    <tr>\n",
       "      <th>needs</th>\n",
       "      <td>0.693147</td>\n",
       "    </tr>\n",
       "    <tr>\n",
       "      <th>new</th>\n",
       "      <td>0.693147</td>\n",
       "    </tr>\n",
       "    <tr>\n",
       "      <th>no</th>\n",
       "      <td>0.693147</td>\n",
       "    </tr>\n",
       "    <tr>\n",
       "      <th>or</th>\n",
       "      <td>0.0</td>\n",
       "    </tr>\n",
       "    <tr>\n",
       "      <th>r/ship</th>\n",
       "      <td>0.693147</td>\n",
       "    </tr>\n",
       "    <tr>\n",
       "      <th>sight?</th>\n",
       "      <td>0.693147</td>\n",
       "    </tr>\n",
       "    <tr>\n",
       "      <th>similar.</th>\n",
       "      <td>0.693147</td>\n",
       "    </tr>\n",
       "    <tr>\n",
       "      <th>someone</th>\n",
       "      <td>0.693147</td>\n",
       "    </tr>\n",
       "    <tr>\n",
       "      <th>together?</th>\n",
       "      <td>0.693147</td>\n",
       "    </tr>\n",
       "    <tr>\n",
       "      <th>too,</th>\n",
       "      <td>0.693147</td>\n",
       "    </tr>\n",
       "    <tr>\n",
       "      <th>we</th>\n",
       "      <td>0.693147</td>\n",
       "    </tr>\n",
       "    <tr>\n",
       "      <th>with</th>\n",
       "      <td>0.693147</td>\n",
       "    </tr>\n",
       "  </tbody>\n",
       "</table>\n",
       "</div>"
      ],
      "text/plain": [
       "                    IDF\n",
       "45             0.693147\n",
       "ALONE          0.693147\n",
       "ARE            0.693147\n",
       "GSOH,          0.693147\n",
       "Im             0.693147\n",
       "Maybe          0.693147\n",
       "Slim/Med       0.693147\n",
       "WONT           0.693147\n",
       "YOU            0.693147\n",
       "You            0.693147\n",
       "a             -0.223144\n",
       "and            0.693147\n",
       "be             0.287682\n",
       "beginnings     0.693147\n",
       "build,         0.693147\n",
       "could          0.693147\n",
       "disappointed.  0.693147\n",
       "explore        0.693147\n",
       "for            0.693147\n",
       "high           0.693147\n",
       "hope           0.693147\n",
       "in            -0.223144\n",
       "looking        0.693147\n",
       "lost           0.693147\n",
       "needs          0.693147\n",
       "new            0.693147\n",
       "no             0.693147\n",
       "or                  0.0\n",
       "r/ship         0.693147\n",
       "sight?         0.693147\n",
       "similar.       0.693147\n",
       "someone        0.693147\n",
       "together?      0.693147\n",
       "too,           0.693147\n",
       "we             0.693147\n",
       "with           0.693147"
      ]
     },
     "execution_count": 15,
     "metadata": {},
     "output_type": "execute_result"
    }
   ],
   "source": [
    "# run this cell\n",
    "idf_"
   ]
  },
  {
   "cell_type": "markdown",
   "id": "pPxOEYBs07Ue",
   "metadata": {
    "id": "pPxOEYBs07Ue"
   },
   "source": [
    "**Your Output must be**\n",
    "\n",
    "</br>\n",
    "\n",
    "![image.png](data:image/png;base64,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)"
   ]
  },
  {
   "cell_type": "code",
   "execution_count": 16,
   "id": "255905e6",
   "metadata": {
    "id": "255905e6",
    "outputId": "6043b9e5-c683-4ade-b21b-c3abd4422b63"
   },
   "outputs": [],
   "source": [
    "# Write your codes here\n",
    "tfidf_ = pd.DataFrame()\n",
    "for t in vocab:\n",
    "    tfidf_[t] = [tf_idf(t, d, sent_token) for d in sent_token]"
   ]
  },
  {
   "cell_type": "code",
   "execution_count": 17,
   "id": "0c2f9157",
   "metadata": {
    "id": "0c2f9157"
   },
   "outputs": [
    {
     "data": {
      "text/html": [
       "<div>\n",
       "<style scoped>\n",
       "    .dataframe tbody tr th:only-of-type {\n",
       "        vertical-align: middle;\n",
       "    }\n",
       "\n",
       "    .dataframe tbody tr th {\n",
       "        vertical-align: top;\n",
       "    }\n",
       "\n",
       "    .dataframe thead th {\n",
       "        text-align: right;\n",
       "    }\n",
       "</style>\n",
       "<table border=\"1\" class=\"dataframe\">\n",
       "  <thead>\n",
       "    <tr style=\"text-align: right;\">\n",
       "      <th></th>\n",
       "      <th>45</th>\n",
       "      <th>ALONE</th>\n",
       "      <th>ARE</th>\n",
       "      <th>GSOH,</th>\n",
       "      <th>Im</th>\n",
       "      <th>Maybe</th>\n",
       "      <th>Slim/Med</th>\n",
       "      <th>WONT</th>\n",
       "      <th>YOU</th>\n",
       "      <th>You</th>\n",
       "      <th>a</th>\n",
       "      <th>and</th>\n",
       "      <th>be</th>\n",
       "      <th>beginnings</th>\n",
       "      <th>build,</th>\n",
       "      <th>could</th>\n",
       "      <th>disappointed.</th>\n",
       "      <th>explore</th>\n",
       "      <th>for</th>\n",
       "      <th>high</th>\n",
       "      <th>hope</th>\n",
       "      <th>in</th>\n",
       "      <th>looking</th>\n",
       "      <th>lost</th>\n",
       "      <th>needs</th>\n",
       "      <th>new</th>\n",
       "      <th>no</th>\n",
       "      <th>or</th>\n",
       "      <th>r/ship</th>\n",
       "      <th>sight?</th>\n",
       "      <th>similar.</th>\n",
       "      <th>someone</th>\n",
       "      <th>together?</th>\n",
       "      <th>too,</th>\n",
       "      <th>we</th>\n",
       "      <th>with</th>\n",
       "    </tr>\n",
       "  </thead>\n",
       "  <tbody>\n",
       "    <tr>\n",
       "      <th>0</th>\n",
       "      <td>0.000000</td>\n",
       "      <td>0.693147</td>\n",
       "      <td>0.693147</td>\n",
       "      <td>0.000000</td>\n",
       "      <td>0.000000</td>\n",
       "      <td>0.000000</td>\n",
       "      <td>0.000000</td>\n",
       "      <td>0.000000</td>\n",
       "      <td>0.693147</td>\n",
       "      <td>0.000000</td>\n",
       "      <td>-0.223144</td>\n",
       "      <td>0.000000</td>\n",
       "      <td>0.000000</td>\n",
       "      <td>0.000000</td>\n",
       "      <td>0.000000</td>\n",
       "      <td>0.000000</td>\n",
       "      <td>0.000000</td>\n",
       "      <td>0.000000</td>\n",
       "      <td>0.000000</td>\n",
       "      <td>0.000000</td>\n",
       "      <td>0.693147</td>\n",
       "      <td>-0.446287</td>\n",
       "      <td>0.000000</td>\n",
       "      <td>0.693147</td>\n",
       "      <td>0.000000</td>\n",
       "      <td>0.000000</td>\n",
       "      <td>0.693147</td>\n",
       "      <td>0.0</td>\n",
       "      <td>0.693147</td>\n",
       "      <td>0.693147</td>\n",
       "      <td>0.000000</td>\n",
       "      <td>0.000000</td>\n",
       "      <td>0.000000</td>\n",
       "      <td>0.693147</td>\n",
       "      <td>0.000000</td>\n",
       "      <td>0.693147</td>\n",
       "    </tr>\n",
       "    <tr>\n",
       "      <th>1</th>\n",
       "      <td>0.000000</td>\n",
       "      <td>0.000000</td>\n",
       "      <td>0.000000</td>\n",
       "      <td>0.000000</td>\n",
       "      <td>0.000000</td>\n",
       "      <td>0.693147</td>\n",
       "      <td>0.000000</td>\n",
       "      <td>0.000000</td>\n",
       "      <td>0.000000</td>\n",
       "      <td>0.000000</td>\n",
       "      <td>-0.223144</td>\n",
       "      <td>0.000000</td>\n",
       "      <td>0.575364</td>\n",
       "      <td>0.693147</td>\n",
       "      <td>0.000000</td>\n",
       "      <td>0.693147</td>\n",
       "      <td>0.000000</td>\n",
       "      <td>0.693147</td>\n",
       "      <td>0.000000</td>\n",
       "      <td>0.000000</td>\n",
       "      <td>0.000000</td>\n",
       "      <td>-0.446287</td>\n",
       "      <td>0.000000</td>\n",
       "      <td>0.000000</td>\n",
       "      <td>0.000000</td>\n",
       "      <td>0.693147</td>\n",
       "      <td>0.000000</td>\n",
       "      <td>0.0</td>\n",
       "      <td>0.000000</td>\n",
       "      <td>0.000000</td>\n",
       "      <td>0.000000</td>\n",
       "      <td>0.000000</td>\n",
       "      <td>0.693147</td>\n",
       "      <td>0.000000</td>\n",
       "      <td>0.693147</td>\n",
       "      <td>0.000000</td>\n",
       "    </tr>\n",
       "    <tr>\n",
       "      <th>2</th>\n",
       "      <td>0.693147</td>\n",
       "      <td>0.000000</td>\n",
       "      <td>0.000000</td>\n",
       "      <td>0.693147</td>\n",
       "      <td>0.693147</td>\n",
       "      <td>0.000000</td>\n",
       "      <td>0.693147</td>\n",
       "      <td>0.000000</td>\n",
       "      <td>0.000000</td>\n",
       "      <td>0.000000</td>\n",
       "      <td>-0.446287</td>\n",
       "      <td>0.693147</td>\n",
       "      <td>0.000000</td>\n",
       "      <td>0.000000</td>\n",
       "      <td>0.693147</td>\n",
       "      <td>0.000000</td>\n",
       "      <td>0.000000</td>\n",
       "      <td>0.000000</td>\n",
       "      <td>0.693147</td>\n",
       "      <td>0.693147</td>\n",
       "      <td>0.000000</td>\n",
       "      <td>-0.223144</td>\n",
       "      <td>0.693147</td>\n",
       "      <td>0.000000</td>\n",
       "      <td>0.693147</td>\n",
       "      <td>0.000000</td>\n",
       "      <td>0.000000</td>\n",
       "      <td>0.0</td>\n",
       "      <td>0.000000</td>\n",
       "      <td>0.000000</td>\n",
       "      <td>0.693147</td>\n",
       "      <td>0.693147</td>\n",
       "      <td>0.000000</td>\n",
       "      <td>0.000000</td>\n",
       "      <td>0.000000</td>\n",
       "      <td>0.000000</td>\n",
       "    </tr>\n",
       "    <tr>\n",
       "      <th>3</th>\n",
       "      <td>0.000000</td>\n",
       "      <td>0.000000</td>\n",
       "      <td>0.000000</td>\n",
       "      <td>0.000000</td>\n",
       "      <td>0.000000</td>\n",
       "      <td>0.000000</td>\n",
       "      <td>0.000000</td>\n",
       "      <td>0.693147</td>\n",
       "      <td>0.000000</td>\n",
       "      <td>0.693147</td>\n",
       "      <td>-0.223144</td>\n",
       "      <td>0.000000</td>\n",
       "      <td>0.287682</td>\n",
       "      <td>0.000000</td>\n",
       "      <td>0.000000</td>\n",
       "      <td>0.000000</td>\n",
       "      <td>0.693147</td>\n",
       "      <td>0.000000</td>\n",
       "      <td>0.000000</td>\n",
       "      <td>0.000000</td>\n",
       "      <td>0.000000</td>\n",
       "      <td>-0.223144</td>\n",
       "      <td>0.000000</td>\n",
       "      <td>0.000000</td>\n",
       "      <td>0.000000</td>\n",
       "      <td>0.000000</td>\n",
       "      <td>0.000000</td>\n",
       "      <td>0.0</td>\n",
       "      <td>0.000000</td>\n",
       "      <td>0.000000</td>\n",
       "      <td>0.000000</td>\n",
       "      <td>0.000000</td>\n",
       "      <td>0.000000</td>\n",
       "      <td>0.000000</td>\n",
       "      <td>0.000000</td>\n",
       "      <td>0.000000</td>\n",
       "    </tr>\n",
       "  </tbody>\n",
       "</table>\n",
       "</div>"
      ],
      "text/plain": [
       "         45     ALONE       ARE     GSOH,        Im     Maybe  Slim/Med  \\\n",
       "0  0.000000  0.693147  0.693147  0.000000  0.000000  0.000000  0.000000   \n",
       "1  0.000000  0.000000  0.000000  0.000000  0.000000  0.693147  0.000000   \n",
       "2  0.693147  0.000000  0.000000  0.693147  0.693147  0.000000  0.693147   \n",
       "3  0.000000  0.000000  0.000000  0.000000  0.000000  0.000000  0.000000   \n",
       "\n",
       "       WONT       YOU       You         a       and        be  beginnings  \\\n",
       "0  0.000000  0.693147  0.000000 -0.223144  0.000000  0.000000    0.000000   \n",
       "1  0.000000  0.000000  0.000000 -0.223144  0.000000  0.575364    0.693147   \n",
       "2  0.000000  0.000000  0.000000 -0.446287  0.693147  0.000000    0.000000   \n",
       "3  0.693147  0.000000  0.693147 -0.223144  0.000000  0.287682    0.000000   \n",
       "\n",
       "     build,     could  disappointed.   explore       for      high      hope  \\\n",
       "0  0.000000  0.000000       0.000000  0.000000  0.000000  0.000000  0.693147   \n",
       "1  0.000000  0.693147       0.000000  0.693147  0.000000  0.000000  0.000000   \n",
       "2  0.693147  0.000000       0.000000  0.000000  0.693147  0.693147  0.000000   \n",
       "3  0.000000  0.000000       0.693147  0.000000  0.000000  0.000000  0.000000   \n",
       "\n",
       "         in   looking      lost     needs       new        no   or    r/ship  \\\n",
       "0 -0.446287  0.000000  0.693147  0.000000  0.000000  0.693147  0.0  0.693147   \n",
       "1 -0.446287  0.000000  0.000000  0.000000  0.693147  0.000000  0.0  0.000000   \n",
       "2 -0.223144  0.693147  0.000000  0.693147  0.000000  0.000000  0.0  0.000000   \n",
       "3 -0.223144  0.000000  0.000000  0.000000  0.000000  0.000000  0.0  0.000000   \n",
       "\n",
       "     sight?  similar.   someone  together?      too,        we      with  \n",
       "0  0.693147  0.000000  0.000000   0.000000  0.693147  0.000000  0.693147  \n",
       "1  0.000000  0.000000  0.000000   0.693147  0.000000  0.693147  0.000000  \n",
       "2  0.000000  0.693147  0.693147   0.000000  0.000000  0.000000  0.000000  \n",
       "3  0.000000  0.000000  0.000000   0.000000  0.000000  0.000000  0.000000  "
      ]
     },
     "execution_count": 17,
     "metadata": {},
     "output_type": "execute_result"
    }
   ],
   "source": [
    "# run this cell\n",
    "tfidf_"
   ]
  },
  {
   "cell_type": "markdown",
   "id": "zVWHwnVk1e-d",
   "metadata": {
    "id": "zVWHwnVk1e-d"
   },
   "source": [
    "**Your Output must be**\n",
    "\n",
    "</br>\n",
    "\n",
    "![image.png](data:image/png;base64,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)"
   ]
  },
  {
   "cell_type": "markdown",
   "id": "9t6K7wyg1xvW",
   "metadata": {
    "id": "9t6K7wyg1xvW"
   },
   "source": [
    "**3. tf-idf가 사용되는 사례(경우)를 서술하시오.**\n",
    "\n",
    "‘TF-IDF’ 알고리즘은 특정 단어의 중요도를 측정하는 데 사용되며, 이는 단어가 출현한 횟수와 그 단어가 언급된 모든 문서의 총수에 비례합니다. 이 알고리즘은 검색 결과에서 키워드에 가장 잘 맞는 문서를 최상위에 배치하는 데 사용됩니다.\r\n",
    "\r\n",
    "‘TF-IDF’ 가중치를 활용하여 검색 쿼리와 문서 간의 유사성을 측정하고, 가장 관련성이 높은 문서를 검색 결과의 상위에 배치합니다. 이를 통해 사용자는 원하는 정보를 더욱 빠르게 찾을 수 있습니다. 또한, 웹 페이지의 컨텐츠를 분석하여 검색 엔진에서 상위 랭크를 얻을 수 있는 키워드를 식별하고, 이를 검색 엔진 최적화에 활용할 수 있습니다.\r\n",
    "\r\n",
    "요약하면, 'TF-IDF’는 검색 엔진과 정보 검색 시스템에서 텍스트 문서의 중요성을 측정하고 검색 결과를 개선하는 핵심적인 역할을 합니다. 이로 인해 사용자는 원하는 정보를 보다 정확하고 관련성이 높은 문서로 쉽게 찾을 수 있게 됩니다.\n",
    "될 수 있다.\r\n",
    "\r\n",
    "출처 : 블로터(https://www.bloter.net)"
   ]
  },
  {
   "cell_type": "code",
   "execution_count": null,
   "id": "6cdde0c4-8768-40c7-a722-ff19358f5865",
   "metadata": {},
   "outputs": [],
   "source": []
  }
 ],
 "metadata": {
  "colab": {
   "provenance": []
  },
  "kernelspec": {
   "display_name": "Python 3 (ipykernel)",
   "language": "python",
   "name": "python3"
  },
  "language_info": {
   "codemirror_mode": {
    "name": "ipython",
    "version": 3
   },
   "file_extension": ".py",
   "mimetype": "text/x-python",
   "name": "python",
   "nbconvert_exporter": "python",
   "pygments_lexer": "ipython3",
   "version": "3.9.17"
  }
 },
 "nbformat": 4,
 "nbformat_minor": 5
}
