{
  "cells": [
    {
      "cell_type": "markdown",
      "id": "017e9265",
      "metadata": {
        "id": "017e9265"
      },
      "source": [
        "# 영업 성공 여부 분류 경진대회"
      ]
    },
    {
      "cell_type": "markdown",
      "id": "acdab431",
      "metadata": {
        "id": "acdab431"
      },
      "source": [
        "# 0. ⭕ 필수 라이브러리"
      ]
    },
    {
      "cell_type": "code",
      "execution_count": null,
      "id": "FWkZSVZsI9f0",
      "metadata": {
        "colab": {
          "base_uri": "https://localhost:8080/",
          "height": 1000,
          "referenced_widgets": [
            "32e2da2a7d2f448580a4405a7f4b1da1",
            "ae2e16784c9a4c8ba15f162da6ee4656",
            "28607d13a271463786ae0d5ec9f6ce35",
            "e90ec54f234344bab2277c81a62458a7",
            "4f2cc54fce4b4134b6e3a58eab4e6fc9",
            "99bbfba503714c218eed8bd27edd795e"
          ]
        },
        "id": "FWkZSVZsI9f0",
        "outputId": "c6da86bd-5983-4e37-b9ae-ca352a0b09c2"
      },
      "outputs": [
        {
          "name": "stdout",
          "output_type": "stream",
          "text": [
            "Defaulting to user installation because normal site-packages is not writeable\n",
            "Requirement already satisfied: catboost in ./.local/lib/python3.10/site-packages (1.2.2)\n",
            "Requirement already satisfied: graphviz in ./.local/lib/python3.10/site-packages (from catboost) (0.20.1)\n",
            "Requirement already satisfied: scipy in ./.local/lib/python3.10/site-packages (from catboost) (1.11.4)\n",
            "Requirement already satisfied: plotly in ./.local/lib/python3.10/site-packages (from catboost) (5.18.0)\n",
            "Requirement already satisfied: matplotlib in ./.local/lib/python3.10/site-packages (from catboost) (3.8.2)\n",
            "Requirement already satisfied: numpy>=1.16.0 in ./.local/lib/python3.10/site-packages (from catboost) (1.23.5)\n",
            "Requirement already satisfied: six in ./.local/lib/python3.10/site-packages (from catboost) (1.16.0)\n",
            "Requirement already satisfied: pandas>=0.24 in ./.local/lib/python3.10/site-packages (from catboost) (2.1.4)\n",
            "Requirement already satisfied: tzdata>=2022.1 in ./.local/lib/python3.10/site-packages (from pandas>=0.24->catboost) (2023.4)\n",
            "Requirement already satisfied: pytz>=2020.1 in ./.local/lib/python3.10/site-packages (from pandas>=0.24->catboost) (2023.3.post1)\n",
            "Requirement already satisfied: python-dateutil>=2.8.2 in ./.local/lib/python3.10/site-packages (from pandas>=0.24->catboost) (2.8.2)\n",
            "Requirement already satisfied: packaging>=20.0 in ./.local/lib/python3.10/site-packages (from matplotlib->catboost) (23.2)\n",
            "Requirement already satisfied: pillow>=8 in ./.local/lib/python3.10/site-packages (from matplotlib->catboost) (10.2.0)\n",
            "Requirement already satisfied: fonttools>=4.22.0 in ./.local/lib/python3.10/site-packages (from matplotlib->catboost) (4.47.2)\n",
            "Requirement already satisfied: pyparsing>=2.3.1 in ./.local/lib/python3.10/site-packages (from matplotlib->catboost) (3.1.1)\n",
            "Requirement already satisfied: kiwisolver>=1.3.1 in ./.local/lib/python3.10/site-packages (from matplotlib->catboost) (1.4.5)\n",
            "Requirement already satisfied: contourpy>=1.0.1 in ./.local/lib/python3.10/site-packages (from matplotlib->catboost) (1.2.0)\n",
            "Requirement already satisfied: cycler>=0.10 in ./.local/lib/python3.10/site-packages (from matplotlib->catboost) (0.12.1)\n",
            "Requirement already satisfied: tenacity>=6.2.0 in ./.local/lib/python3.10/site-packages (from plotly->catboost) (8.2.3)\n",
            "\n",
            "\u001b[1m[\u001b[0m\u001b[34;49mnotice\u001b[0m\u001b[1;39;49m]\u001b[0m\u001b[39;49m A new release of pip is available: \u001b[0m\u001b[31;49m23.0.1\u001b[0m\u001b[39;49m -> \u001b[0m\u001b[32;49m24.0\u001b[0m\n",
            "\u001b[1m[\u001b[0m\u001b[34;49mnotice\u001b[0m\u001b[1;39;49m]\u001b[0m\u001b[39;49m To update, run: \u001b[0m\u001b[32;49mpip install --upgrade pip\u001b[0m\n",
            "Defaulting to user installation because normal site-packages is not writeable\n",
            "Requirement already satisfied: ipywidgets in ./.local/lib/python3.10/site-packages (7.7.0)\n",
            "Requirement already satisfied: ipython-genutils~=0.2.0 in ./.local/lib/python3.10/site-packages (from ipywidgets) (0.2.0)\n",
            "Requirement already satisfied: jupyterlab-widgets>=1.0.0 in ./.local/lib/python3.10/site-packages (from ipywidgets) (1.0.0)\n",
            "Requirement already satisfied: ipykernel>=4.5.1 in ./.local/lib/python3.10/site-packages (from ipywidgets) (6.27.1)\n",
            "Requirement already satisfied: widgetsnbextension~=3.6.0 in ./.local/lib/python3.10/site-packages (from ipywidgets) (3.6.6)\n",
            "Requirement already satisfied: ipython>=4.0.0 in ./.local/lib/python3.10/site-packages (from ipywidgets) (8.18.1)\n",
            "Requirement already satisfied: traitlets>=4.3.1 in ./.local/lib/python3.10/site-packages (from ipywidgets) (5.14.0)\n",
            "Requirement already satisfied: nbformat>=4.2.0 in ./.local/lib/python3.10/site-packages (from ipywidgets) (5.9.2)\n",
            "Requirement already satisfied: comm>=0.1.1 in ./.local/lib/python3.10/site-packages (from ipykernel>=4.5.1->ipywidgets) (0.2.0)\n",
            "Requirement already satisfied: jupyter-core!=5.0.*,>=4.12 in ./.local/lib/python3.10/site-packages (from ipykernel>=4.5.1->ipywidgets) (5.5.0)\n",
            "Requirement already satisfied: packaging in ./.local/lib/python3.10/site-packages (from ipykernel>=4.5.1->ipywidgets) (23.2)\n",
            "Requirement already satisfied: pyzmq>=20 in ./.local/lib/python3.10/site-packages (from ipykernel>=4.5.1->ipywidgets) (25.1.2)\n",
            "Requirement already satisfied: tornado>=6.1 in ./.local/lib/python3.10/site-packages (from ipykernel>=4.5.1->ipywidgets) (6.4)\n",
            "Requirement already satisfied: debugpy>=1.6.5 in ./.local/lib/python3.10/site-packages (from ipykernel>=4.5.1->ipywidgets) (1.8.0)\n",
            "Requirement already satisfied: matplotlib-inline>=0.1 in ./.local/lib/python3.10/site-packages (from ipykernel>=4.5.1->ipywidgets) (0.1.6)\n",
            "Requirement already satisfied: jupyter-client>=6.1.12 in ./.local/lib/python3.10/site-packages (from ipykernel>=4.5.1->ipywidgets) (8.6.0)\n",
            "Requirement already satisfied: nest-asyncio in ./.local/lib/python3.10/site-packages (from ipykernel>=4.5.1->ipywidgets) (1.5.8)\n",
            "Requirement already satisfied: psutil in ./.local/lib/python3.10/site-packages (from ipykernel>=4.5.1->ipywidgets) (5.9.6)\n",
            "Requirement already satisfied: decorator in ./.local/lib/python3.10/site-packages (from ipython>=4.0.0->ipywidgets) (5.1.1)\n",
            "Requirement already satisfied: jedi>=0.16 in ./.local/lib/python3.10/site-packages (from ipython>=4.0.0->ipywidgets) (0.19.1)\n",
            "Requirement already satisfied: pexpect>4.3 in ./.local/lib/python3.10/site-packages (from ipython>=4.0.0->ipywidgets) (4.9.0)\n",
            "Requirement already satisfied: pygments>=2.4.0 in ./.local/lib/python3.10/site-packages (from ipython>=4.0.0->ipywidgets) (2.17.2)\n",
            "Requirement already satisfied: prompt-toolkit<3.1.0,>=3.0.41 in ./.local/lib/python3.10/site-packages (from ipython>=4.0.0->ipywidgets) (3.0.41)\n",
            "Requirement already satisfied: exceptiongroup in ./.local/lib/python3.10/site-packages (from ipython>=4.0.0->ipywidgets) (1.2.0)\n",
            "Requirement already satisfied: stack-data in ./.local/lib/python3.10/site-packages (from ipython>=4.0.0->ipywidgets) (0.6.3)\n",
            "Requirement already satisfied: fastjsonschema in ./.local/lib/python3.10/site-packages (from nbformat>=4.2.0->ipywidgets) (2.19.1)\n",
            "Requirement already satisfied: jsonschema>=2.6 in ./.local/lib/python3.10/site-packages (from nbformat>=4.2.0->ipywidgets) (4.21.1)\n",
            "Requirement already satisfied: notebook>=4.4.1 in ./.local/lib/python3.10/site-packages (from widgetsnbextension~=3.6.0->ipywidgets) (7.0.7)\n",
            "Requirement already satisfied: parso<0.9.0,>=0.8.3 in ./.local/lib/python3.10/site-packages (from jedi>=0.16->ipython>=4.0.0->ipywidgets) (0.8.3)\n",
            "Requirement already satisfied: rpds-py>=0.7.1 in ./.local/lib/python3.10/site-packages (from jsonschema>=2.6->nbformat>=4.2.0->ipywidgets) (0.17.1)\n",
            "Requirement already satisfied: jsonschema-specifications>=2023.03.6 in ./.local/lib/python3.10/site-packages (from jsonschema>=2.6->nbformat>=4.2.0->ipywidgets) (2023.12.1)\n",
            "Requirement already satisfied: referencing>=0.28.4 in ./.local/lib/python3.10/site-packages (from jsonschema>=2.6->nbformat>=4.2.0->ipywidgets) (0.33.0)\n",
            "Requirement already satisfied: attrs>=22.2.0 in ./.local/lib/python3.10/site-packages (from jsonschema>=2.6->nbformat>=4.2.0->ipywidgets) (23.2.0)\n",
            "Requirement already satisfied: python-dateutil>=2.8.2 in ./.local/lib/python3.10/site-packages (from jupyter-client>=6.1.12->ipykernel>=4.5.1->ipywidgets) (2.8.2)\n",
            "Requirement already satisfied: platformdirs>=2.5 in ./.local/lib/python3.10/site-packages (from jupyter-core!=5.0.*,>=4.12->ipykernel>=4.5.1->ipywidgets) (4.1.0)\n",
            "Requirement already satisfied: notebook-shim<0.3,>=0.2 in ./.local/lib/python3.10/site-packages (from notebook>=4.4.1->widgetsnbextension~=3.6.0->ipywidgets) (0.2.3)\n",
            "Requirement already satisfied: jupyterlab-server<3,>=2.22.1 in ./.local/lib/python3.10/site-packages (from notebook>=4.4.1->widgetsnbextension~=3.6.0->ipywidgets) (2.25.2)\n",
            "Requirement already satisfied: jupyterlab<5,>=4.0.2 in ./.local/lib/python3.10/site-packages (from notebook>=4.4.1->widgetsnbextension~=3.6.0->ipywidgets) (4.0.12)\n",
            "Requirement already satisfied: jupyter-server<3,>=2.4.0 in ./.local/lib/python3.10/site-packages (from notebook>=4.4.1->widgetsnbextension~=3.6.0->ipywidgets) (2.12.5)\n",
            "Requirement already satisfied: ptyprocess>=0.5 in ./.local/lib/python3.10/site-packages (from pexpect>4.3->ipython>=4.0.0->ipywidgets) (0.7.0)\n",
            "Requirement already satisfied: wcwidth in ./.local/lib/python3.10/site-packages (from prompt-toolkit<3.1.0,>=3.0.41->ipython>=4.0.0->ipywidgets) (0.2.12)\n"
          ]
        },
        {
          "name": "stdout",
          "output_type": "stream",
          "text": [
            "Requirement already satisfied: asttokens>=2.1.0 in ./.local/lib/python3.10/site-packages (from stack-data->ipython>=4.0.0->ipywidgets) (2.4.1)\n",
            "Requirement already satisfied: pure-eval in ./.local/lib/python3.10/site-packages (from stack-data->ipython>=4.0.0->ipywidgets) (0.2.2)\n",
            "Requirement already satisfied: executing>=1.2.0 in ./.local/lib/python3.10/site-packages (from stack-data->ipython>=4.0.0->ipywidgets) (2.0.1)\n",
            "Requirement already satisfied: six>=1.12.0 in ./.local/lib/python3.10/site-packages (from asttokens>=2.1.0->stack-data->ipython>=4.0.0->ipywidgets) (1.16.0)\n",
            "Requirement already satisfied: jupyter-events>=0.9.0 in ./.local/lib/python3.10/site-packages (from jupyter-server<3,>=2.4.0->notebook>=4.4.1->widgetsnbextension~=3.6.0->ipywidgets) (0.9.0)\n",
            "Requirement already satisfied: terminado>=0.8.3 in ./.local/lib/python3.10/site-packages (from jupyter-server<3,>=2.4.0->notebook>=4.4.1->widgetsnbextension~=3.6.0->ipywidgets) (0.18.0)\n",
            "Requirement already satisfied: send2trash>=1.8.2 in ./.local/lib/python3.10/site-packages (from jupyter-server<3,>=2.4.0->notebook>=4.4.1->widgetsnbextension~=3.6.0->ipywidgets) (1.8.2)\n",
            "Requirement already satisfied: argon2-cffi in ./.local/lib/python3.10/site-packages (from jupyter-server<3,>=2.4.0->notebook>=4.4.1->widgetsnbextension~=3.6.0->ipywidgets) (23.1.0)\n",
            "Requirement already satisfied: websocket-client in ./.local/lib/python3.10/site-packages (from jupyter-server<3,>=2.4.0->notebook>=4.4.1->widgetsnbextension~=3.6.0->ipywidgets) (1.7.0)\n",
            "Requirement already satisfied: overrides in ./.local/lib/python3.10/site-packages (from jupyter-server<3,>=2.4.0->notebook>=4.4.1->widgetsnbextension~=3.6.0->ipywidgets) (7.7.0)\n",
            "Requirement already satisfied: nbconvert>=6.4.4 in ./.local/lib/python3.10/site-packages (from jupyter-server<3,>=2.4.0->notebook>=4.4.1->widgetsnbextension~=3.6.0->ipywidgets) (7.14.2)\n",
            "Requirement already satisfied: anyio>=3.1.0 in ./.local/lib/python3.10/site-packages (from jupyter-server<3,>=2.4.0->notebook>=4.4.1->widgetsnbextension~=3.6.0->ipywidgets) (3.7.1)\n",
            "Requirement already satisfied: prometheus-client in ./.local/lib/python3.10/site-packages (from jupyter-server<3,>=2.4.0->notebook>=4.4.1->widgetsnbextension~=3.6.0->ipywidgets) (0.19.0)\n",
            "Requirement already satisfied: jinja2 in ./.local/lib/python3.10/site-packages (from jupyter-server<3,>=2.4.0->notebook>=4.4.1->widgetsnbextension~=3.6.0->ipywidgets) (3.1.2)\n",
            "Requirement already satisfied: jupyter-server-terminals in ./.local/lib/python3.10/site-packages (from jupyter-server<3,>=2.4.0->notebook>=4.4.1->widgetsnbextension~=3.6.0->ipywidgets) (0.5.2)\n",
            "Requirement already satisfied: async-lru>=1.0.0 in ./.local/lib/python3.10/site-packages (from jupyterlab<5,>=4.0.2->notebook>=4.4.1->widgetsnbextension~=3.6.0->ipywidgets) (2.0.4)\n",
            "Requirement already satisfied: tomli in ./.local/lib/python3.10/site-packages (from jupyterlab<5,>=4.0.2->notebook>=4.4.1->widgetsnbextension~=3.6.0->ipywidgets) (2.0.1)\n",
            "Requirement already satisfied: jupyter-lsp>=2.0.0 in ./.local/lib/python3.10/site-packages (from jupyterlab<5,>=4.0.2->notebook>=4.4.1->widgetsnbextension~=3.6.0->ipywidgets) (2.2.2)\n",
            "Requirement already satisfied: json5>=0.9.0 in ./.local/lib/python3.10/site-packages (from jupyterlab-server<3,>=2.22.1->notebook>=4.4.1->widgetsnbextension~=3.6.0->ipywidgets) (0.9.14)\n",
            "Requirement already satisfied: babel>=2.10 in ./.local/lib/python3.10/site-packages (from jupyterlab-server<3,>=2.22.1->notebook>=4.4.1->widgetsnbextension~=3.6.0->ipywidgets) (2.14.0)\n",
            "Requirement already satisfied: requests>=2.31 in ./.local/lib/python3.10/site-packages (from jupyterlab-server<3,>=2.22.1->notebook>=4.4.1->widgetsnbextension~=3.6.0->ipywidgets) (2.31.0)\n",
            "Requirement already satisfied: sniffio>=1.1 in ./.local/lib/python3.10/site-packages (from anyio>=3.1.0->jupyter-server<3,>=2.4.0->notebook>=4.4.1->widgetsnbextension~=3.6.0->ipywidgets) (1.3.0)\n",
            "Requirement already satisfied: idna>=2.8 in ./.local/lib/python3.10/site-packages (from anyio>=3.1.0->jupyter-server<3,>=2.4.0->notebook>=4.4.1->widgetsnbextension~=3.6.0->ipywidgets) (2.10)\n",
            "Requirement already satisfied: typing-extensions>=4.0.0 in ./.local/lib/python3.10/site-packages (from async-lru>=1.0.0->jupyterlab<5,>=4.0.2->notebook>=4.4.1->widgetsnbextension~=3.6.0->ipywidgets) (4.4.0)\n",
            "Requirement already satisfied: MarkupSafe>=2.0 in ./.local/lib/python3.10/site-packages (from jinja2->jupyter-server<3,>=2.4.0->notebook>=4.4.1->widgetsnbextension~=3.6.0->ipywidgets) (2.1.3)\n",
            "Requirement already satisfied: pyyaml>=5.3 in ./.local/lib/python3.10/site-packages (from jupyter-events>=0.9.0->jupyter-server<3,>=2.4.0->notebook>=4.4.1->widgetsnbextension~=3.6.0->ipywidgets) (6.0.1)\n",
            "Requirement already satisfied: python-json-logger>=2.0.4 in ./.local/lib/python3.10/site-packages (from jupyter-events>=0.9.0->jupyter-server<3,>=2.4.0->notebook>=4.4.1->widgetsnbextension~=3.6.0->ipywidgets) (2.0.7)\n",
            "Requirement already satisfied: rfc3339-validator in ./.local/lib/python3.10/site-packages (from jupyter-events>=0.9.0->jupyter-server<3,>=2.4.0->notebook>=4.4.1->widgetsnbextension~=3.6.0->ipywidgets) (0.1.4)\n",
            "Requirement already satisfied: rfc3986-validator>=0.1.1 in ./.local/lib/python3.10/site-packages (from jupyter-events>=0.9.0->jupyter-server<3,>=2.4.0->notebook>=4.4.1->widgetsnbextension~=3.6.0->ipywidgets) (0.1.1)\n",
            "Requirement already satisfied: mistune<4,>=2.0.3 in ./.local/lib/python3.10/site-packages (from nbconvert>=6.4.4->jupyter-server<3,>=2.4.0->notebook>=4.4.1->widgetsnbextension~=3.6.0->ipywidgets) (3.0.2)\n",
            "Requirement already satisfied: defusedxml in ./.local/lib/python3.10/site-packages (from nbconvert>=6.4.4->jupyter-server<3,>=2.4.0->notebook>=4.4.1->widgetsnbextension~=3.6.0->ipywidgets) (0.7.1)\n",
            "Requirement already satisfied: tinycss2 in ./.local/lib/python3.10/site-packages (from nbconvert>=6.4.4->jupyter-server<3,>=2.4.0->notebook>=4.4.1->widgetsnbextension~=3.6.0->ipywidgets) (1.2.1)\n",
            "Requirement already satisfied: bleach!=5.0.0 in ./.local/lib/python3.10/site-packages (from nbconvert>=6.4.4->jupyter-server<3,>=2.4.0->notebook>=4.4.1->widgetsnbextension~=3.6.0->ipywidgets) (6.1.0)\n",
            "Requirement already satisfied: pandocfilters>=1.4.1 in ./.local/lib/python3.10/site-packages (from nbconvert>=6.4.4->jupyter-server<3,>=2.4.0->notebook>=4.4.1->widgetsnbextension~=3.6.0->ipywidgets) (1.5.1)\n",
            "Requirement already satisfied: nbclient>=0.5.0 in ./.local/lib/python3.10/site-packages (from nbconvert>=6.4.4->jupyter-server<3,>=2.4.0->notebook>=4.4.1->widgetsnbextension~=3.6.0->ipywidgets) (0.9.0)\n",
            "Requirement already satisfied: beautifulsoup4 in ./.local/lib/python3.10/site-packages (from nbconvert>=6.4.4->jupyter-server<3,>=2.4.0->notebook>=4.4.1->widgetsnbextension~=3.6.0->ipywidgets) (4.12.3)\n",
            "Requirement already satisfied: jupyterlab-pygments in ./.local/lib/python3.10/site-packages (from nbconvert>=6.4.4->jupyter-server<3,>=2.4.0->notebook>=4.4.1->widgetsnbextension~=3.6.0->ipywidgets) (0.3.0)\n",
            "Requirement already satisfied: certifi>=2017.4.17 in ./.local/lib/python3.10/site-packages (from requests>=2.31->jupyterlab-server<3,>=2.22.1->notebook>=4.4.1->widgetsnbextension~=3.6.0->ipywidgets) (2023.11.17)\n",
            "Requirement already satisfied: urllib3<3,>=1.21.1 in ./.local/lib/python3.10/site-packages (from requests>=2.31->jupyterlab-server<3,>=2.22.1->notebook>=4.4.1->widgetsnbextension~=3.6.0->ipywidgets) (2.1.0)\n",
            "Requirement already satisfied: charset-normalizer<4,>=2 in ./.local/lib/python3.10/site-packages (from requests>=2.31->jupyterlab-server<3,>=2.22.1->notebook>=4.4.1->widgetsnbextension~=3.6.0->ipywidgets) (3.3.2)\n",
            "Requirement already satisfied: argon2-cffi-bindings in ./.local/lib/python3.10/site-packages (from argon2-cffi->jupyter-server<3,>=2.4.0->notebook>=4.4.1->widgetsnbextension~=3.6.0->ipywidgets) (21.2.0)\n",
            "Requirement already satisfied: webencodings in ./.local/lib/python3.10/site-packages (from bleach!=5.0.0->nbconvert>=6.4.4->jupyter-server<3,>=2.4.0->notebook>=4.4.1->widgetsnbextension~=3.6.0->ipywidgets) (0.5.1)\n",
            "Requirement already satisfied: jsonpointer>1.13 in ./.local/lib/python3.10/site-packages (from jsonschema>=2.6->nbformat>=4.2.0->ipywidgets) (2.4)\n",
            "Requirement already satisfied: fqdn in ./.local/lib/python3.10/site-packages (from jsonschema>=2.6->nbformat>=4.2.0->ipywidgets) (1.5.1)\n",
            "Requirement already satisfied: isoduration in ./.local/lib/python3.10/site-packages (from jsonschema>=2.6->nbformat>=4.2.0->ipywidgets) (20.11.0)\n",
            "Requirement already satisfied: webcolors>=1.11 in ./.local/lib/python3.10/site-packages (from jsonschema>=2.6->nbformat>=4.2.0->ipywidgets) (1.13)\n",
            "Requirement already satisfied: uri-template in ./.local/lib/python3.10/site-packages (from jsonschema>=2.6->nbformat>=4.2.0->ipywidgets) (1.3.0)\n"
          ]
        },
        {
          "name": "stdout",
          "output_type": "stream",
          "text": [
            "Requirement already satisfied: cffi>=1.0.1 in ./.local/lib/python3.10/site-packages (from argon2-cffi-bindings->argon2-cffi->jupyter-server<3,>=2.4.0->notebook>=4.4.1->widgetsnbextension~=3.6.0->ipywidgets) (1.16.0)\n",
            "Requirement already satisfied: soupsieve>1.2 in ./.local/lib/python3.10/site-packages (from beautifulsoup4->nbconvert>=6.4.4->jupyter-server<3,>=2.4.0->notebook>=4.4.1->widgetsnbextension~=3.6.0->ipywidgets) (2.5)\n",
            "Requirement already satisfied: pycparser in ./.local/lib/python3.10/site-packages (from cffi>=1.0.1->argon2-cffi-bindings->argon2-cffi->jupyter-server<3,>=2.4.0->notebook>=4.4.1->widgetsnbextension~=3.6.0->ipywidgets) (2.21)\n",
            "Requirement already satisfied: arrow>=0.15.0 in ./.local/lib/python3.10/site-packages (from isoduration->jsonschema>=2.6->nbformat>=4.2.0->ipywidgets) (1.3.0)\n",
            "Requirement already satisfied: types-python-dateutil>=2.8.10 in ./.local/lib/python3.10/site-packages (from arrow>=0.15.0->isoduration->jsonschema>=2.6->nbformat>=4.2.0->ipywidgets) (2.8.19.20240106)\n",
            "\n",
            "\u001b[1m[\u001b[0m\u001b[34;49mnotice\u001b[0m\u001b[1;39;49m]\u001b[0m\u001b[39;49m A new release of pip is available: \u001b[0m\u001b[31;49m23.0.1\u001b[0m\u001b[39;49m -> \u001b[0m\u001b[32;49m24.0\u001b[0m\n",
            "\u001b[1m[\u001b[0m\u001b[34;49mnotice\u001b[0m\u001b[1;39;49m]\u001b[0m\u001b[39;49m To update, run: \u001b[0m\u001b[32;49mpip install --upgrade pip\u001b[0m\n"
          ]
        },
        {
          "data": {
            "application/vnd.jupyter.widget-view+json": {
              "model_id": "99bbfba503714c218eed8bd27edd795e",
              "version_major": 2,
              "version_minor": 0
            },
            "text/plain": [
              "IntSlider(value=0)"
            ]
          },
          "metadata": {},
          "output_type": "display_data"
        }
      ],
      "source": [
        "!pip install catboost\n",
        "!pip install ipywidgets\n",
        "import ipywidgets as widgets\n",
        "widgets.IntSlider()"
      ]
    },
    {
      "cell_type": "code",
      "execution_count": null,
      "id": "a315cc58",
      "metadata": {
        "id": "a315cc58"
      },
      "outputs": [],
      "source": [
        "# 사용 라이브러리\n",
        "import numpy as np\n",
        "import pandas as pd\n",
        "from datetime import datetime\n",
        "from sklearn.model_selection import train_test_split\n",
        "from sklearn.metrics import (\n",
        "    accuracy_score,\n",
        "    confusion_matrix,\n",
        "    f1_score,\n",
        "    precision_score,\n",
        "    recall_score,\n",
        "    classification_report\n",
        ")\n",
        "import matplotlib.pyplot as plt\n",
        "import seaborn as sns\n",
        "import warnings\n",
        "warnings.filterwarnings(\"ignore\")\n",
        "\n",
        "from sklearn.utils.class_weight import compute_class_weight # 가중치 부여\n",
        "\n",
        "import math\n",
        "from sklearn.preprocessing import LabelEncoder\n",
        "from sklearn.model_selection import KFold, StratifiedKFold\n",
        "from sklearn.metrics import mean_squared_error\n",
        "from sklearn.metrics import confusion_matrix\n",
        "from sklearn.inspection import permutation_importance\n",
        "\n",
        "from mpl_toolkits.mplot3d import Axes3D\n",
        "from sklearn.metrics import roc_curve, auc\n",
        "\n",
        "#모델 라이브러리\n",
        "from catboost import CatBoostClassifier, Pool"
      ]
    },
    {
      "cell_type": "markdown",
      "id": "412f98cc",
      "metadata": {
        "id": "412f98cc"
      },
      "source": [
        "## 데이터 셋 읽어오기"
      ]
    },
    {
      "cell_type": "code",
      "execution_count": null,
      "id": "7ada941e",
      "metadata": {
        "id": "7ada941e"
      },
      "outputs": [],
      "source": [
        "df_train = pd.read_csv(\"train.csv\") # 학습용 데이터\n",
        "df_test = pd.read_csv(\"submission.csv\") # 테스트 데이터(제출파일의 데이터)\n",
        "\n",
        "# submission 제출하면서 저장된 열 삭제\n",
        "if 'is_converted' in df_test.columns:\n",
        "    df_test.drop(['is_converted'], axis=1, inplace=True)"
      ]
    },
    {
      "cell_type": "markdown",
      "id": "OgyOtsKnTxWT",
      "metadata": {
        "id": "OgyOtsKnTxWT"
      },
      "source": [
        "# 1. ⭕ EDA"
      ]
    },
    {
      "cell_type": "code",
      "execution_count": null,
      "id": "be9af12a",
      "metadata": {
        "colab": {
          "base_uri": "https://localhost:8080/"
        },
        "id": "be9af12a",
        "outputId": "52f3112e-14b4-4125-8d46-131b86afa450"
      },
      "outputs": [
        {
          "name": "stdout",
          "output_type": "stream",
          "text": [
            "df_train information\n",
            "<class 'pandas.core.frame.DataFrame'>\n",
            "RangeIndex: 59299 entries, 0 to 59298\n",
            "Data columns (total 29 columns):\n",
            " #   Column                   Non-Null Count  Dtype  \n",
            "---  ------                   --------------  -----  \n",
            " 0   bant_submit              59299 non-null  float64\n",
            " 1   customer_country         58317 non-null  object \n",
            " 2   business_unit            59299 non-null  object \n",
            " 3   com_reg_ver_win_rate     14568 non-null  float64\n",
            " 4   customer_idx             59299 non-null  int64  \n",
            " 5   customer_type            15338 non-null  object \n",
            " 6   enterprise               59299 non-null  object \n",
            " 7   historical_existing_cnt  13756 non-null  float64\n",
            " 8   id_strategic_ver         3444 non-null   float64\n",
            " 9   it_strategic_ver         1121 non-null   float64\n",
            " 10  idit_strategic_ver       4565 non-null   float64\n",
            " 11  customer_job             40566 non-null  object \n",
            " 12  lead_desc_length         59299 non-null  int64  \n",
            " 13  inquiry_type             58358 non-null  object \n",
            " 14  product_category         39925 non-null  object \n",
            " 15  product_subcategory      9235 non-null   object \n",
            " 16  product_modelname        9229 non-null   object \n",
            " 17  customer_country.1       58317 non-null  object \n",
            " 18  customer_position        59299 non-null  object \n",
            " 19  response_corporate       59299 non-null  object \n",
            " 20  expected_timeline        28436 non-null  object \n",
            " 21  ver_cus                  59299 non-null  int64  \n",
            " 22  ver_pro                  59299 non-null  int64  \n",
            " 23  ver_win_rate_x           18417 non-null  float64\n",
            " 24  ver_win_ratio_per_bu     15304 non-null  float64\n",
            " 25  business_area            18417 non-null  object \n",
            " 26  business_subarea         5526 non-null   object \n",
            " 27  lead_owner               59299 non-null  int64  \n",
            " 28  is_converted             59299 non-null  bool   \n",
            "dtypes: bool(1), float64(8), int64(5), object(15)\n",
            "memory usage: 12.7+ MB\n",
            "None\n",
            "\n",
            "df_test information\n",
            "<class 'pandas.core.frame.DataFrame'>\n",
            "RangeIndex: 5271 entries, 0 to 5270\n",
            "Data columns (total 29 columns):\n",
            " #   Column                   Non-Null Count  Dtype  \n",
            "---  ------                   --------------  -----  \n",
            " 0   id                       5271 non-null   int64  \n",
            " 1   bant_submit              5271 non-null   float64\n",
            " 2   customer_country         5271 non-null   object \n",
            " 3   business_unit            5271 non-null   object \n",
            " 4   com_reg_ver_win_rate     1788 non-null   float64\n",
            " 5   customer_idx             5271 non-null   int64  \n",
            " 6   customer_type            3814 non-null   object \n",
            " 7   enterprise               5271 non-null   object \n",
            " 8   historical_existing_cnt  1275 non-null   float64\n",
            " 9   id_strategic_ver         593 non-null    float64\n",
            " 10  it_strategic_ver         53 non-null     float64\n",
            " 11  idit_strategic_ver       646 non-null    float64\n",
            " 12  customer_job             3832 non-null   object \n",
            " 13  lead_desc_length         5271 non-null   int64  \n",
            " 14  inquiry_type             3979 non-null   object \n",
            " 15  product_category         3413 non-null   object \n",
            " 16  product_subcategory      793 non-null    object \n",
            " 17  product_modelname        562 non-null    object \n",
            " 18  customer_country.1       5271 non-null   object \n",
            " 19  customer_position        5271 non-null   object \n",
            " 20  response_corporate       5271 non-null   object \n",
            " 21  expected_timeline        2863 non-null   object \n",
            " 22  ver_cus                  5271 non-null   int64  \n",
            " 23  ver_pro                  5271 non-null   int64  \n",
            " 24  ver_win_rate_x           2373 non-null   float64\n",
            " 25  ver_win_ratio_per_bu     1906 non-null   float64\n",
            " 26  business_area            2373 non-null   object \n",
            " 27  business_subarea         1816 non-null   object \n",
            " 28  lead_owner               5271 non-null   int64  \n",
            "dtypes: float64(8), int64(6), object(15)\n",
            "memory usage: 1.2+ MB\n",
            "None\n"
          ]
        }
      ],
      "source": [
        "# train data 컬럼 별 유형 확인\n",
        "print('df_train information')\n",
        "print(df_train.info())\n",
        "print()\n",
        "\n",
        "# test data 컬럼 별 유형 확인\n",
        "print('df_test information')\n",
        "print(df_test.info())"
      ]
    },
    {
      "cell_type": "code",
      "execution_count": null,
      "id": "qB8OmxcoTsDh",
      "metadata": {
        "id": "qB8OmxcoTsDh"
      },
      "outputs": [],
      "source": [
        "# 기본적인 전처리와 EDA를 진행하기 위해 train data와 test data를 합치고, 이를 구분할 수 있도록 index 저장\n",
        "data = pd.concat([df_train,df_test])\n",
        "data.index = range(len(data))\n",
        "train_index = range(len(df_train))\n",
        "test_index = range(len(df_train),len(data))\n",
        "\n",
        "# 수치형 컬럼과 범주형 컬럼 구분 (id 와, Target columns 제외)\n",
        "numeric_columns = list(data.drop(['id','is_converted'],axis=1).select_dtypes(include='number').columns)\n",
        "categorical_columns = list(data.drop(['id','is_converted'],axis=1).columns.difference(numeric_columns))\n",
        "\n",
        "# Feature 컬럼과 Target 컬럼 분할 (모델 학습시에 id는 사용하지 않음)\n",
        "feature_columns = list(data.drop(['id','is_converted'],axis=1).columns)\n",
        "target_columns = ['is_converted']"
      ]
    },
    {
      "cell_type": "markdown",
      "id": "h3WJG7UEUTsl",
      "metadata": {
        "id": "h3WJG7UEUTsl"
      },
      "source": [
        "### 1-1. 데이터의 형태 **확인**"
      ]
    },
    {
      "cell_type": "code",
      "execution_count": null,
      "id": "whxEr-C7UWET",
      "metadata": {
        "colab": {
          "base_uri": "https://localhost:8080/"
        },
        "id": "whxEr-C7UWET",
        "outputId": "556f4aa9-e76f-4dbf-b684-49ff1d12690a"
      },
      "outputs": [
        {
          "name": "stdout",
          "output_type": "stream",
          "text": [
            "train data의 데이터 수: 59299, train data의 컬럼 수: 29\n",
            "test data의 데이터 수: 5271, test data의 컬럼 수: 30\n"
          ]
        }
      ],
      "source": [
        "# 데이터의 형태 확인\n",
        "print('train data의 데이터 수: %d, train data의 컬럼 수: %d' %(len(data.loc[train_index,:]),len(data.loc[train_index,:].columns)-1))\n",
        "print('test data의 데이터 수: %d, test data의 컬럼 수: %d' %(len(data.loc[test_index,:]),len(data.loc[test_index,:].columns)))"
      ]
    },
    {
      "cell_type": "code",
      "execution_count": null,
      "id": "902T9cwSVN5b",
      "metadata": {
        "colab": {
          "base_uri": "https://localhost:8080/"
        },
        "id": "902T9cwSVN5b",
        "outputId": "b4dcd5f9-084f-4c37-8c65-0d09ccb556ac"
      },
      "outputs": [
        {
          "data": {
            "text/plain": [
              "Index(['bant_submit', 'customer_country', 'business_unit',\n",
              "       'com_reg_ver_win_rate', 'customer_idx', 'customer_type', 'enterprise',\n",
              "       'historical_existing_cnt', 'id_strategic_ver', 'it_strategic_ver',\n",
              "       'idit_strategic_ver', 'customer_job', 'lead_desc_length',\n",
              "       'inquiry_type', 'product_category', 'product_subcategory',\n",
              "       'product_modelname', 'customer_country.1', 'customer_position',\n",
              "       'response_corporate', 'expected_timeline', 'ver_cus', 'ver_pro',\n",
              "       'ver_win_rate_x', 'ver_win_ratio_per_bu', 'business_area',\n",
              "       'business_subarea', 'lead_owner', 'is_converted', 'id'],\n",
              "      dtype='object')"
            ]
          },
          "execution_count": 7,
          "metadata": {},
          "output_type": "execute_result"
        }
      ],
      "source": [
        "data.columns"
      ]
    },
    {
      "cell_type": "code",
      "execution_count": null,
      "id": "G0wwb0rnU0b4",
      "metadata": {
        "colab": {
          "base_uri": "https://localhost:8080/",
          "height": 320
        },
        "id": "G0wwb0rnU0b4",
        "outputId": "97761a74-38d3-436d-d3de-76de8770acc7"
      },
      "outputs": [
        {
          "data": {
            "text/html": [
              "<div>\n",
              "<style scoped>\n",
              "    .dataframe tbody tr th:only-of-type {\n",
              "        vertical-align: middle;\n",
              "    }\n",
              "\n",
              "    .dataframe tbody tr th {\n",
              "        vertical-align: top;\n",
              "    }\n",
              "\n",
              "    .dataframe thead th {\n",
              "        text-align: right;\n",
              "    }\n",
              "</style>\n",
              "<table border=\"1\" class=\"dataframe\">\n",
              "  <thead>\n",
              "    <tr style=\"text-align: right;\">\n",
              "      <th></th>\n",
              "      <th>bant_submit</th>\n",
              "      <th>com_reg_ver_win_rate</th>\n",
              "      <th>customer_idx</th>\n",
              "      <th>historical_existing_cnt</th>\n",
              "      <th>id_strategic_ver</th>\n",
              "      <th>it_strategic_ver</th>\n",
              "      <th>idit_strategic_ver</th>\n",
              "      <th>lead_desc_length</th>\n",
              "      <th>ver_cus</th>\n",
              "      <th>ver_pro</th>\n",
              "      <th>ver_win_rate_x</th>\n",
              "      <th>ver_win_ratio_per_bu</th>\n",
              "      <th>lead_owner</th>\n",
              "      <th>id</th>\n",
              "    </tr>\n",
              "  </thead>\n",
              "  <tbody>\n",
              "    <tr>\n",
              "      <th>count</th>\n",
              "      <td>64570.000000</td>\n",
              "      <td>16356.000000</td>\n",
              "      <td>64570.000000</td>\n",
              "      <td>15031.000000</td>\n",
              "      <td>4037.0</td>\n",
              "      <td>1174.0</td>\n",
              "      <td>5211.0</td>\n",
              "      <td>64570.000000</td>\n",
              "      <td>64570.000000</td>\n",
              "      <td>64570.000000</td>\n",
              "      <td>20790.000000</td>\n",
              "      <td>17210.000000</td>\n",
              "      <td>64570.000000</td>\n",
              "      <td>5271.000000</td>\n",
              "    </tr>\n",
              "    <tr>\n",
              "      <th>mean</th>\n",
              "      <td>0.632236</td>\n",
              "      <td>0.092849</td>\n",
              "      <td>26914.552315</td>\n",
              "      <td>20.027610</td>\n",
              "      <td>1.0</td>\n",
              "      <td>1.0</td>\n",
              "      <td>1.0</td>\n",
              "      <td>79.479309</td>\n",
              "      <td>0.050194</td>\n",
              "      <td>0.053306</td>\n",
              "      <td>0.001114</td>\n",
              "      <td>0.050296</td>\n",
              "      <td>265.983862</td>\n",
              "      <td>10686.395940</td>\n",
              "    </tr>\n",
              "    <tr>\n",
              "      <th>std</th>\n",
              "      <td>0.293474</td>\n",
              "      <td>0.151108</td>\n",
              "      <td>14666.049872</td>\n",
              "      <td>48.039031</td>\n",
              "      <td>0.0</td>\n",
              "      <td>0.0</td>\n",
              "      <td>0.0</td>\n",
              "      <td>132.758693</td>\n",
              "      <td>0.218346</td>\n",
              "      <td>0.224646</td>\n",
              "      <td>0.001114</td>\n",
              "      <td>0.029054</td>\n",
              "      <td>232.710329</td>\n",
              "      <td>6141.012698</td>\n",
              "    </tr>\n",
              "    <tr>\n",
              "      <th>min</th>\n",
              "      <td>0.000000</td>\n",
              "      <td>0.003788</td>\n",
              "      <td>1.000000</td>\n",
              "      <td>0.000000</td>\n",
              "      <td>1.0</td>\n",
              "      <td>1.0</td>\n",
              "      <td>1.0</td>\n",
              "      <td>1.000000</td>\n",
              "      <td>0.000000</td>\n",
              "      <td>0.000000</td>\n",
              "      <td>0.000002</td>\n",
              "      <td>0.011583</td>\n",
              "      <td>0.000000</td>\n",
              "      <td>1.000000</td>\n",
              "    </tr>\n",
              "    <tr>\n",
              "      <th>25%</th>\n",
              "      <td>0.500000</td>\n",
              "      <td>0.024432</td>\n",
              "      <td>14614.250000</td>\n",
              "      <td>1.000000</td>\n",
              "      <td>1.0</td>\n",
              "      <td>1.0</td>\n",
              "      <td>1.0</td>\n",
              "      <td>7.000000</td>\n",
              "      <td>0.000000</td>\n",
              "      <td>0.000000</td>\n",
              "      <td>0.000298</td>\n",
              "      <td>0.026846</td>\n",
              "      <td>97.000000</td>\n",
              "      <td>5644.000000</td>\n",
              "    </tr>\n",
              "    <tr>\n",
              "      <th>50%</th>\n",
              "      <td>0.500000</td>\n",
              "      <td>0.049180</td>\n",
              "      <td>26527.000000</td>\n",
              "      <td>4.000000</td>\n",
              "      <td>1.0</td>\n",
              "      <td>1.0</td>\n",
              "      <td>1.0</td>\n",
              "      <td>29.000000</td>\n",
              "      <td>0.000000</td>\n",
              "      <td>0.000000</td>\n",
              "      <td>0.000572</td>\n",
              "      <td>0.049840</td>\n",
              "      <td>175.000000</td>\n",
              "      <td>10067.000000</td>\n",
              "    </tr>\n",
              "    <tr>\n",
              "      <th>75%</th>\n",
              "      <td>1.000000</td>\n",
              "      <td>0.074949</td>\n",
              "      <td>40177.250000</td>\n",
              "      <td>19.000000</td>\n",
              "      <td>1.0</td>\n",
              "      <td>1.0</td>\n",
              "      <td>1.0</td>\n",
              "      <td>93.000000</td>\n",
              "      <td>0.000000</td>\n",
              "      <td>0.000000</td>\n",
              "      <td>0.001183</td>\n",
              "      <td>0.064566</td>\n",
              "      <td>375.000000</td>\n",
              "      <td>16019.500000</td>\n",
              "    </tr>\n",
              "    <tr>\n",
              "      <th>max</th>\n",
              "      <td>1.000000</td>\n",
              "      <td>1.000000</td>\n",
              "      <td>47466.000000</td>\n",
              "      <td>2219.000000</td>\n",
              "      <td>1.0</td>\n",
              "      <td>1.0</td>\n",
              "      <td>1.0</td>\n",
              "      <td>1264.000000</td>\n",
              "      <td>1.000000</td>\n",
              "      <td>1.000000</td>\n",
              "      <td>0.003079</td>\n",
              "      <td>0.285714</td>\n",
              "      <td>1114.000000</td>\n",
              "      <td>21340.000000</td>\n",
              "    </tr>\n",
              "  </tbody>\n",
              "</table>\n",
              "</div>"
            ],
            "text/plain": [
              "        bant_submit  com_reg_ver_win_rate  customer_idx  \\\n",
              "count  64570.000000          16356.000000  64570.000000   \n",
              "mean       0.632236              0.092849  26914.552315   \n",
              "std        0.293474              0.151108  14666.049872   \n",
              "min        0.000000              0.003788      1.000000   \n",
              "25%        0.500000              0.024432  14614.250000   \n",
              "50%        0.500000              0.049180  26527.000000   \n",
              "75%        1.000000              0.074949  40177.250000   \n",
              "max        1.000000              1.000000  47466.000000   \n",
              "\n",
              "       historical_existing_cnt  id_strategic_ver  it_strategic_ver  \\\n",
              "count             15031.000000            4037.0            1174.0   \n",
              "mean                 20.027610               1.0               1.0   \n",
              "std                  48.039031               0.0               0.0   \n",
              "min                   0.000000               1.0               1.0   \n",
              "25%                   1.000000               1.0               1.0   \n",
              "50%                   4.000000               1.0               1.0   \n",
              "75%                  19.000000               1.0               1.0   \n",
              "max                2219.000000               1.0               1.0   \n",
              "\n",
              "       idit_strategic_ver  lead_desc_length       ver_cus       ver_pro  \\\n",
              "count              5211.0      64570.000000  64570.000000  64570.000000   \n",
              "mean                  1.0         79.479309      0.050194      0.053306   \n",
              "std                   0.0        132.758693      0.218346      0.224646   \n",
              "min                   1.0          1.000000      0.000000      0.000000   \n",
              "25%                   1.0          7.000000      0.000000      0.000000   \n",
              "50%                   1.0         29.000000      0.000000      0.000000   \n",
              "75%                   1.0         93.000000      0.000000      0.000000   \n",
              "max                   1.0       1264.000000      1.000000      1.000000   \n",
              "\n",
              "       ver_win_rate_x  ver_win_ratio_per_bu    lead_owner            id  \n",
              "count    20790.000000          17210.000000  64570.000000   5271.000000  \n",
              "mean         0.001114              0.050296    265.983862  10686.395940  \n",
              "std          0.001114              0.029054    232.710329   6141.012698  \n",
              "min          0.000002              0.011583      0.000000      1.000000  \n",
              "25%          0.000298              0.026846     97.000000   5644.000000  \n",
              "50%          0.000572              0.049840    175.000000  10067.000000  \n",
              "75%          0.001183              0.064566    375.000000  16019.500000  \n",
              "max          0.003079              0.285714   1114.000000  21340.000000  "
            ]
          },
          "execution_count": 8,
          "metadata": {},
          "output_type": "execute_result"
        }
      ],
      "source": [
        "# 수치형 데이터 컬럼 별 통계값 확인\n",
        "data.describe()"
      ]
    },
    {
      "cell_type": "code",
      "execution_count": null,
      "id": "f7wfraiEYjQK",
      "metadata": {
        "colab": {
          "base_uri": "https://localhost:8080/"
        },
        "id": "f7wfraiEYjQK",
        "outputId": "5e390682-3a39-4e83-a427-ce45efbe27f2"
      },
      "outputs": [
        {
          "name": "stdout",
          "output_type": "stream",
          "text": [
            "<class 'pandas.core.frame.DataFrame'>\n",
            "RangeIndex: 64570 entries, 0 to 64569\n",
            "Data columns (total 30 columns):\n",
            " #   Column                   Non-Null Count  Dtype  \n",
            "---  ------                   --------------  -----  \n",
            " 0   bant_submit              64570 non-null  float64\n",
            " 1   customer_country         63588 non-null  object \n",
            " 2   business_unit            64570 non-null  object \n",
            " 3   com_reg_ver_win_rate     16356 non-null  float64\n",
            " 4   customer_idx             64570 non-null  int64  \n",
            " 5   customer_type            19152 non-null  object \n",
            " 6   enterprise               64570 non-null  object \n",
            " 7   historical_existing_cnt  15031 non-null  float64\n",
            " 8   id_strategic_ver         4037 non-null   float64\n",
            " 9   it_strategic_ver         1174 non-null   float64\n",
            " 10  idit_strategic_ver       5211 non-null   float64\n",
            " 11  customer_job             44398 non-null  object \n",
            " 12  lead_desc_length         64570 non-null  int64  \n",
            " 13  inquiry_type             62337 non-null  object \n",
            " 14  product_category         43338 non-null  object \n",
            " 15  product_subcategory      10028 non-null  object \n",
            " 16  product_modelname        9791 non-null   object \n",
            " 17  customer_country.1       63588 non-null  object \n",
            " 18  customer_position        64570 non-null  object \n",
            " 19  response_corporate       64570 non-null  object \n",
            " 20  expected_timeline        31299 non-null  object \n",
            " 21  ver_cus                  64570 non-null  int64  \n",
            " 22  ver_pro                  64570 non-null  int64  \n",
            " 23  ver_win_rate_x           20790 non-null  float64\n",
            " 24  ver_win_ratio_per_bu     17210 non-null  float64\n",
            " 25  business_area            20790 non-null  object \n",
            " 26  business_subarea         7342 non-null   object \n",
            " 27  lead_owner               64570 non-null  int64  \n",
            " 28  is_converted             59299 non-null  object \n",
            " 29  id                       5271 non-null   float64\n",
            "dtypes: float64(9), int64(5), object(16)\n",
            "memory usage: 14.8+ MB\n"
          ]
        }
      ],
      "source": [
        "data.info()"
      ]
    },
    {
      "cell_type": "markdown",
      "id": "BAmPqq6ibyIL",
      "metadata": {
        "id": "BAmPqq6ibyIL"
      },
      "source": [
        "### 1-2. Feature Data 확인"
      ]
    },
    {
      "cell_type": "markdown",
      "id": "lys6kPI1c4U9",
      "metadata": {
        "id": "lys6kPI1c4U9"
      },
      "source": [
        "#### numerical data의 분포 train set과 test set 비교\n",
        "파랑색: train set\n",
        "\n",
        "초록색: test set"
      ]
    },
    {
      "cell_type": "code",
      "execution_count": null,
      "id": "cwVodrBDb1Cu",
      "metadata": {
        "colab": {
          "base_uri": "https://localhost:8080/",
          "height": 744
        },
        "id": "cwVodrBDb1Cu",
        "outputId": "6381f5e0-0a5b-4dec-8813-4170b4ba9a20"
      },
      "outputs": [
        {
          "data": {
            "image/png": "[encoded data removed]",
            "text/plain": [
              "<Figure size 1500x2500 with 26 Axes>"
            ]
          },
          "metadata": {},
          "output_type": "display_data"
        }
      ],
      "source": [
        "# 숫자형 데이터만 추출 (id 제외)\n",
        "numeric_train_df = data.loc[train_index,numeric_columns]\n",
        "numeric_test_df = data.loc[test_index,numeric_columns]\n",
        "\n",
        "# 숫자형 데이터의 개수와 히스토그램 subplot 생성\n",
        "num_rows = 14\n",
        "num_cols = 8\n",
        "fig, axes = plt.subplots(num_rows, num_cols, figsize=(15, 25))\n",
        "\n",
        "# 각 숫자형 데이터 컬럼에 대해 히스토그램 그리기\n",
        "for i, col in zip(range(0,len(numeric_train_df)*2,2),numeric_columns):\n",
        "    row_idx = i // num_cols\n",
        "    col_idx = i % num_cols\n",
        "    axes[row_idx, col_idx].hist(numeric_train_df[col], bins=10, color='skyblue', edgecolor='black', alpha=0.7)\n",
        "    axes[row_idx, col_idx].set_title(col)\n",
        "    axes[row_idx, col_idx].set_xlabel('Value')\n",
        "    axes[row_idx, col_idx].set_ylabel('Frequency')\n",
        "\n",
        "    axes[row_idx, col_idx+1].hist(numeric_test_df[col], bins=10, color='lightgreen', edgecolor='black', alpha=0.7)\n",
        "    axes[row_idx, col_idx+1].set_title(col)\n",
        "    axes[row_idx, col_idx+1].set_xlabel('Value')\n",
        "    axes[row_idx, col_idx+1].set_ylabel('Frequency')\n",
        "\n",
        "# 빈 subplot 숨기기\n",
        "for i in range(len(numeric_train_df.columns)*2, num_rows*num_cols):\n",
        "    row_idx = i // num_cols\n",
        "    col_idx = i % num_cols\n",
        "    fig.delaxes(axes[row_idx, col_idx])\n",
        "\n",
        "#그래프 출력\n",
        "plt.tight_layout()\n",
        "plt.show()"
      ]
    },
    {
      "cell_type": "code",
      "execution_count": null,
      "id": "igtqrMZL17qT",
      "metadata": {
        "colab": {
          "base_uri": "https://localhost:8080/",
          "height": 531
        },
        "id": "igtqrMZL17qT",
        "outputId": "7d2e745f-3023-41ec-c659-242df4e77c16"
      },
      "outputs": [
        {
          "data": {
            "text/plain": [
              "([<matplotlib.axis.XTick at 0x7f87d55dfa30>,\n",
              "  <matplotlib.axis.XTick at 0x7f87d55df640>],\n",
              " [Text(False, 0, 'False'), Text(True, 0, 'True')])"
            ]
          },
          "execution_count": 11,
          "metadata": {},
          "output_type": "execute_result"
        },
        {
          "data": {
            "image/png": "[encoded data removed]",
            "text/plain": [
              "<Figure size 640x480 with 1 Axes>"
            ]
          },
          "metadata": {},
          "output_type": "display_data"
        }
      ],
      "source": [
        "# 빈도수를 시각화하는 히스토그램 그리기\n",
        "target_name = list(data.loc[train_index,'is_converted'].value_counts().index)\n",
        "target_freq = list(data.loc[train_index,'is_converted'].value_counts().values)\n",
        "plt.bar(target_name, target_freq, color= ['skyblue', 'lightgreen'], alpha=0.7)\n",
        "\n",
        "# 그래프 제목과 축 레이블 설정\n",
        "plt.title('Target Variable Histogram')\n",
        "plt.xlabel('Class')\n",
        "plt.ylabel('Frequency')\n",
        "\n",
        "# x축에 라벨링\n",
        "plt.xticks(target_name, ['False', 'True'])\n",
        "\n",
        "# 그래프 출력\n",
        "# plt.show()"
      ]
    },
    {
      "cell_type": "code",
      "execution_count": null,
      "id": "M170Rn57zETT",
      "metadata": {
        "colab": {
          "base_uri": "https://localhost:8080/",
          "height": 976
        },
        "id": "M170Rn57zETT",
        "outputId": "f3db8ab5-b93a-4f97-970a-d4c2e581781a"
      },
      "outputs": [
        {
          "name": "stderr",
          "output_type": "stream",
          "text": [
            "No artists with labels found to put in legend.  Note that artists whose label start with an underscore are ignored when legend() is called with no argument.\n",
            "No artists with labels found to put in legend.  Note that artists whose label start with an underscore are ignored when legend() is called with no argument.\n",
            "No artists with labels found to put in legend.  Note that artists whose label start with an underscore are ignored when legend() is called with no argument.\n"
          ]
        },
        {
          "data": {
            "image/png": "[encoded data removed]",
            "text/plain": [
              "<Figure size 1000x3000 with 13 Axes>"
            ]
          },
          "metadata": {},
          "output_type": "display_data"
        },
        {
          "data": {
            "text/plain": [
              "<Figure size 640x480 with 0 Axes>"
            ]
          },
          "metadata": {},
          "output_type": "display_data"
        }
      ],
      "source": [
        "# 숫자형 데이터의 개수와 KDE plot subplot 생성\n",
        "num_rows = 14\n",
        "num_cols = 4\n",
        "fig, axes = plt.subplots(num_rows, num_cols, figsize=(10, 30), squeeze=False)\n",
        "\n",
        "# 각 숫자형 데이터 컬럼에 대해 KDE plot 그리기 (inst_id, OC 제외)\n",
        "for i, col in enumerate(numeric_columns):\n",
        "    row_idx = i//num_cols\n",
        "    col_idx = i%num_cols\n",
        "\n",
        "    sns.kdeplot(numeric_train_df[col], bw_method='silverman', label='Training Set', shade=True, ax=axes[row_idx, col_idx])\n",
        "    sns.kdeplot(numeric_test_df[col], bw_method='silverman', label='Test Set', shade=True, ax=axes[row_idx, col_idx])\n",
        "    axes[row_idx, col_idx].set_title(col)\n",
        "    axes[row_idx, col_idx].set_xlabel('Value')\n",
        "    axes[row_idx, col_idx].set_ylabel('Density')\n",
        "    axes[row_idx, col_idx].legend()\n",
        "\n",
        "# 빈 subplot 숨기기\n",
        "for i in range(len(numeric_train_df.columns), num_rows*num_cols):\n",
        "    row_idx = i // num_cols\n",
        "    col_idx = i % num_cols\n",
        "    fig.delaxes(axes[row_idx, col_idx])\n",
        "\n",
        "plt.tight_layout()\n",
        "plt.show()\n",
        "\n",
        "# 그래프 출력\n",
        "plt.tight_layout()\n",
        "plt.show()"
      ]
    },
    {
      "cell_type": "markdown",
      "id": "ciyjXTuVzYqO",
      "metadata": {
        "id": "ciyjXTuVzYqO"
      },
      "source": [
        "#### ❗ log 변환\n",
        "- ['historical_existing_cnt', 'lead_desc_length']의 분포가 왼쪽으로 치우짐\n",
        "- log 변환 후 이상치 시각화"
      ]
    },
    {
      "cell_type": "code",
      "execution_count": null,
      "id": "p8G6p7UTE4UZ",
      "metadata": {
        "id": "p8G6p7UTE4UZ"
      },
      "outputs": [],
      "source": [
        "features = ['historical_existing_cnt', 'lead_desc_length']\n",
        "\n",
        "# 선택한 열에 로그 변환 적용\n",
        "df_train[features] = np.log1p(df_train[features])\n",
        "df_test[features] = np.log1p(df_test[features])\n",
        "\n",
        "# 숫자형 데이터만 추출 (id 제외)\n",
        "numeric_train_df = df_train[numeric_columns]\n",
        "numeric_test_df = df_test[numeric_columns]"
      ]
    },
    {
      "cell_type": "markdown",
      "id": "q_riEpHDb9Zm",
      "metadata": {
        "id": "q_riEpHDb9Zm"
      },
      "source": [
        "## 1-3. 이상치 시각화\n",
        "\n",
        "- historical existing cnt와 lead desc length에 대해 정규화가 잘 진행된 것을 확인할 수 있음"
      ]
    },
    {
      "cell_type": "code",
      "execution_count": null,
      "id": "XZPKrY3S6nJk",
      "metadata": {
        "colab": {
          "base_uri": "https://localhost:8080/",
          "height": 972
        },
        "id": "XZPKrY3S6nJk",
        "outputId": "2ea6804f-cfdc-49c1-da89-c38290a0a84b"
      },
      "outputs": [
        {
          "data": {
            "image/png": "[encoded data removed]",
            "text/plain": [
              "<Figure size 1000x1000 with 16 Axes>"
            ]
          },
          "metadata": {},
          "output_type": "display_data"
        }
      ],
      "source": [
        "#박스플롯\n",
        "numeric_train_df.index = df_train.index\n",
        "numeric_train_df['is_converted'] = df_train['is_converted']\n",
        "\n",
        "fig, axes = plt.subplots(4, 4, figsize=(10, 10))\n",
        "fig.suptitle('feature distributions per target', fontsize= 30)\n",
        "for ax, col in zip(axes.flat, numeric_train_df.columns[:-1]):\n",
        "    sns.boxplot(x= 'is_converted', y= col, ax=ax, data=numeric_train_df)\n",
        "    ax.set_title(col, fontsize=10)\n",
        "plt.tight_layout(rect=[0, 0.03, 1, 0.95])\n",
        "# plt.show()"
      ]
    },
    {
      "cell_type": "code",
      "execution_count": null,
      "id": "PSOUd1VOOOGb",
      "metadata": {
        "id": "PSOUd1VOOOGb"
      },
      "outputs": [],
      "source": [
        "# def outliers_iqr(data):\n",
        "#     q1, q3 = np.percentile(data, [25, 75])\n",
        "#     # 넘파이의 값을 퍼센트로 표시해주는 함수\n",
        "\n",
        "#     iqr = q3 - q1\n",
        "#     lower_bound = q1 - (iqr * 1.5)\n",
        "#     upper_bound = q3 + (iqr * 1.5)\n",
        "\n",
        "#     return np.where((data > upper_bound) | (data < lower_bound))"
      ]
    },
    {
      "cell_type": "markdown",
      "id": "af526c13",
      "metadata": {
        "id": "af526c13"
      },
      "source": [
        "# 2. ⭕ 데이터 전처리"
      ]
    },
    {
      "cell_type": "markdown",
      "id": "oL0nQXLfnwPi",
      "metadata": {
        "id": "oL0nQXLfnwPi"
      },
      "source": [
        "## 2-1. 학습 데이터 중 결측값이 많은 데이터 삭제"
      ]
    },
    {
      "cell_type": "code",
      "execution_count": null,
      "id": "QIjzzgwInRa2",
      "metadata": {
        "colab": {
          "base_uri": "https://localhost:8080/"
        },
        "id": "QIjzzgwInRa2",
        "outputId": "d09c1ad2-fa2a-41ab-ddc4-6f22b93cf39b"
      },
      "outputs": [
        {
          "name": "stdout",
          "output_type": "stream",
          "text": [
            "기존 학습 데이터 행 개수: 59299\n",
            "결측값이 많은 데이터를 삭제한 후, 남은 학습 데이터의 행 개수: 59178\n"
          ]
        }
      ],
      "source": [
        "# 한 행에 Null값 16이상 제거\n",
        "# 학습하는데에 방해될 것 같음\n",
        "del_nan_train_df = df_train[df_train.isnull().sum(axis=1) <= 15].copy()\n",
        "\n",
        "print('기존 학습 데이터 행 개수: %d' %len(df_train))\n",
        "print('결측값이 많은 데이터를 삭제한 후, 남은 학습 데이터의 행 개수: %d' %len(del_nan_train_df))\n",
        "\n",
        "# 학습데이터 index 업데이트\n",
        "train_index = del_nan_train_df.index"
      ]
    },
    {
      "cell_type": "markdown",
      "id": "-LN71c2OoSh0",
      "metadata": {
        "id": "-LN71c2OoSh0"
      },
      "source": [
        "## 2-2. 중복 데이터 삭제"
      ]
    },
    {
      "cell_type": "code",
      "execution_count": null,
      "id": "B6mx3ZBNoWcq",
      "metadata": {
        "colab": {
          "base_uri": "https://localhost:8080/"
        },
        "id": "B6mx3ZBNoWcq",
        "outputId": "f97cba7b-bfc3-4937-90d4-d66d1d75e5c5"
      },
      "outputs": [
        {
          "name": "stdout",
          "output_type": "stream",
          "text": [
            "기존 학습 데이터 행 개수: 59178\n",
            "중복값을 제거한 후, 남은 학습 데이터의 행 개수: 55664\n"
          ]
        }
      ],
      "source": [
        "## 데이터의 중복 제거\n",
        "del_dup_train_df = del_nan_train_df.drop_duplicates()\n",
        "print('기존 학습 데이터 행 개수: %d' %len(del_nan_train_df))\n",
        "print('중복값을 제거한 후, 남은 학습 데이터의 행 개수: %d' %len(del_dup_train_df))\n",
        "\n",
        "# 학습데이터 index 업데이트\n",
        "train_index = del_dup_train_df.index"
      ]
    },
    {
      "cell_type": "markdown",
      "id": "NQNorIgztboU",
      "metadata": {
        "id": "NQNorIgztboU"
      },
      "source": [
        "## 2-3. 학습에 방해되는 열 drop"
      ]
    },
    {
      "cell_type": "code",
      "execution_count": null,
      "id": "ujSYqNOr7wV4",
      "metadata": {
        "id": "ujSYqNOr7wV4"
      },
      "outputs": [],
      "source": [
        "new_train_df = del_dup_train_df.copy()\n",
        "new_test_df = df_test.copy()"
      ]
    },
    {
      "cell_type": "code",
      "execution_count": null,
      "id": "OB7oGNGwxfPU",
      "metadata": {
        "colab": {
          "base_uri": "https://localhost:8080/"
        },
        "id": "OB7oGNGwxfPU",
        "outputId": "764998f0-5f79-42a8-c13b-d5a8abb9c74e"
      },
      "outputs": [
        {
          "name": "stdout",
          "output_type": "stream",
          "text": [
            "기존 학습 데이터의 열 개수: 29\n",
            "중복된 값을 가지는 열을 삭제한 학습 데이터의 열 개수: 23\n",
            "\n",
            "기존 시험 데이터의 열 개수: 29\n",
            "중복된 값을 가지는 열을 삭제한 시험 데이터의 열 개수: 22\n"
          ]
        }
      ],
      "source": [
        "# 22. ver_cus\t\t\t특정 Vertical Level 1(사업영역) 이면서 Customer_type(고객 유형)이 소비자 (End-user)인 경우에 대한 가중치\n",
        "# 23. ver_pro\t\t\t특정 Vertical Level 1(사업영역) 이면서 특정 Product Category(제품 유형)인 경우에 대한 가중치\n",
        "## 가중치에 관한 열 중요하지 않다고 판단, drop\n",
        "\n",
        "new_train_df.drop(['ver_cus','ver_pro','id_strategic_ver','it_strategic_ver','idit_strategic_ver','customer_country.1'], axis=1, inplace=True)\n",
        "new_test_df.drop(['id','ver_cus','ver_pro','id_strategic_ver','it_strategic_ver','idit_strategic_ver','customer_country.1'], axis=1, inplace=True)\n",
        "\n",
        "print('기존 학습 데이터의 열 개수: %d' %len(del_dup_train_df.columns))\n",
        "print('중복된 값을 가지는 열을 삭제한 학습 데이터의 열 개수: %d' %len(new_train_df.columns))\n",
        "print('')\n",
        "print('기존 시험 데이터의 열 개수: %d' %len(df_test.columns))\n",
        "print('중복된 값을 가지는 열을 삭제한 시험 데이터의 열 개수: %d' %len(new_test_df.columns))"
      ]
    },
    {
      "cell_type": "markdown",
      "id": "u0cC3f3clj43",
      "metadata": {
        "id": "u0cC3f3clj43"
      },
      "source": [
        "## 2-4. 범주형 데이터 cleaning\n",
        "⬜ : 수정필요 🟦 : 완료"
      ]
    },
    {
      "cell_type": "code",
      "execution_count": null,
      "id": "FpPkl7FJ6fpg",
      "metadata": {
        "id": "FpPkl7FJ6fpg"
      },
      "outputs": [],
      "source": [
        "label_columns = [\n",
        "    \"customer_country\",\n",
        "    \"business_area\", \"business_subarea\",\n",
        "    \"business_unit\",\n",
        "    \"customer_type\",\n",
        "    \"enterprise\",\n",
        "    \"customer_job\",\n",
        "    \"inquiry_type\",\n",
        "    \"product_category\",\n",
        "    \"product_subcategory\",\n",
        "    \"product_modelname\",\n",
        "    \"customer_position\",\n",
        "    \"response_corporate\",\n",
        "    \"expected_timeline\",\n",
        "]\n",
        "numerical_features = [\n",
        "  'bant_submit',\n",
        "  'com_reg_ver_win_rate',\n",
        "  'historical_existing_cnt',\n",
        "  'lead_desc_length',\n",
        "  'ver_win_rate_x',\n",
        "  'ver_win_ratio_per_bu',\n",
        "]"
      ]
    },
    {
      "cell_type": "markdown",
      "id": "-gNGIiq7MWo-",
      "metadata": {
        "id": "-gNGIiq7MWo-"
      },
      "source": [
        "### 전처리 진행 전 category 상위 범주 만들어주기\n",
        "- , 로 분류된 데이터들은 integrated solution에 포함"
      ]
    },
    {
      "cell_type": "code",
      "execution_count": null,
      "id": "nIfH8uF8MJeV",
      "metadata": {
        "id": "nIfH8uF8MJeV"
      },
      "outputs": [],
      "source": [
        "def is_top_category(text):\n",
        "\n",
        "  if pd.isna(text):\n",
        "        return np.nan\n",
        "\n",
        "  if ',' in text:\n",
        "    return True\n",
        "  else:\n",
        "    return False\n",
        "\n",
        "top_category = new_train_df['product_category'].apply(is_top_category)"
      ]
    },
    {
      "cell_type": "code",
      "execution_count": null,
      "id": "8n6jGXdIMUIW",
      "metadata": {
        "id": "8n6jGXdIMUIW"
      },
      "outputs": [],
      "source": [
        "top_category = top_category.fillna(False)"
      ]
    },
    {
      "cell_type": "markdown",
      "id": "2c6HpMGVhFuF",
      "metadata": {
        "id": "2c6HpMGVhFuF"
      },
      "source": [
        "#### 🟦 특수문자/공백/결측치 처리"
      ]
    },
    {
      "cell_type": "code",
      "execution_count": null,
      "id": "FziJYjzy8aKR",
      "metadata": {
        "id": "FziJYjzy8aKR"
      },
      "outputs": [],
      "source": [
        "# 데이터 값들 사이에 의미는 같지만 여백이 존재해서 다르게 처리할 수 있음\n",
        "import string\n",
        "import re\n",
        "\n",
        "def remove_punctuation(text):\n",
        "    if pd.isna(text):\n",
        "        return np.nan\n",
        "\n",
        "    text = re.sub('[~_-]', ' ', text)\n",
        "    text = re.sub('[,&(]', ' ', text)\n",
        "    text = re.sub('[).]', ' ', text)\n",
        "    text = text.rstrip()\n",
        "    text = text.lstrip()\n",
        "    text = re.sub('\\s\\s', ' ', text)\n",
        "    text = re.sub('\\s\\s', ' ', text)  # 띄어쓰기 연속 제거\n",
        "\n",
        "    return text\n",
        "\n",
        "def remove_slash(text):\n",
        "    if pd.isna(text):\n",
        "        return np.nan\n",
        "    return re.sub('/', ' ', text)"
      ]
    },
    {
      "cell_type": "code",
      "execution_count": null,
      "id": "vH--POIhh78s",
      "metadata": {
        "id": "vH--POIhh78s"
      },
      "outputs": [],
      "source": [
        "new_train_df[numerical_features] = new_train_df[numerical_features].fillna(0)\n",
        "new_train_df[numerical_features] = new_train_df[numerical_features].fillna(0)"
      ]
    },
    {
      "cell_type": "code",
      "execution_count": null,
      "id": "K_QgWdNThEA8",
      "metadata": {
        "id": "K_QgWdNThEA8"
      },
      "outputs": [],
      "source": [
        "for feature in label_columns:\n",
        "  new_train_df[feature] = new_train_df[feature].str.lower()\n",
        "  new_train_df[feature] = new_train_df[feature].apply(remove_punctuation)\n",
        "\n",
        "  new_test_df[feature] = new_test_df[feature].str.lower()\n",
        "  new_test_df[feature] = new_test_df[feature].apply(remove_punctuation)"
      ]
    },
    {
      "cell_type": "markdown",
      "id": "RuK8UhEsii69",
      "metadata": {
        "id": "RuK8UhEsii69"
      },
      "source": [
        "### 🟦 영어 외의 언어 >> 영어로"
      ]
    },
    {
      "cell_type": "code",
      "execution_count": null,
      "id": "iQyLinW0io0x",
      "metadata": {
        "colab": {
          "base_uri": "https://localhost:8080/"
        },
        "id": "iQyLinW0io0x",
        "outputId": "60d139b3-1c31-44a3-c86d-6ac9be36420f"
      },
      "outputs": [
        {
          "name": "stdout",
          "output_type": "stream",
          "text": [
            "Defaulting to user installation because normal site-packages is not writeable\n",
            "Requirement already satisfied: googletrans==3.1.0a0 in ./.local/lib/python3.10/site-packages (3.1.0a0)\n",
            "Requirement already satisfied: httpx==0.13.3 in ./.local/lib/python3.10/site-packages (from googletrans==3.1.0a0) (0.13.3)\n",
            "Requirement already satisfied: sniffio in ./.local/lib/python3.10/site-packages (from httpx==0.13.3->googletrans==3.1.0a0) (1.3.0)\n",
            "Requirement already satisfied: chardet==3.* in ./.local/lib/python3.10/site-packages (from httpx==0.13.3->googletrans==3.1.0a0) (3.0.4)\n",
            "Requirement already satisfied: hstspreload in ./.local/lib/python3.10/site-packages (from httpx==0.13.3->googletrans==3.1.0a0) (2024.2.1)\n",
            "Requirement already satisfied: idna==2.* in ./.local/lib/python3.10/site-packages (from httpx==0.13.3->googletrans==3.1.0a0) (2.10)\n",
            "Requirement already satisfied: rfc3986<2,>=1.3 in ./.local/lib/python3.10/site-packages (from httpx==0.13.3->googletrans==3.1.0a0) (1.5.0)\n",
            "Requirement already satisfied: httpcore==0.9.* in ./.local/lib/python3.10/site-packages (from httpx==0.13.3->googletrans==3.1.0a0) (0.9.1)\n",
            "Requirement already satisfied: certifi in ./.local/lib/python3.10/site-packages (from httpx==0.13.3->googletrans==3.1.0a0) (2023.11.17)\n",
            "Requirement already satisfied: h11<0.10,>=0.8 in ./.local/lib/python3.10/site-packages (from httpcore==0.9.*->httpx==0.13.3->googletrans==3.1.0a0) (0.9.0)\n",
            "Requirement already satisfied: h2==3.* in ./.local/lib/python3.10/site-packages (from httpcore==0.9.*->httpx==0.13.3->googletrans==3.1.0a0) (3.2.0)\n",
            "Requirement already satisfied: hyperframe<6,>=5.2.0 in ./.local/lib/python3.10/site-packages (from h2==3.*->httpcore==0.9.*->httpx==0.13.3->googletrans==3.1.0a0) (5.2.0)\n",
            "Requirement already satisfied: hpack<4,>=3.0 in ./.local/lib/python3.10/site-packages (from h2==3.*->httpcore==0.9.*->httpx==0.13.3->googletrans==3.1.0a0) (3.0.0)\n",
            "\n",
            "\u001b[1m[\u001b[0m\u001b[34;49mnotice\u001b[0m\u001b[1;39;49m]\u001b[0m\u001b[39;49m A new release of pip is available: \u001b[0m\u001b[31;49m23.0.1\u001b[0m\u001b[39;49m -> \u001b[0m\u001b[32;49m24.0\u001b[0m\n",
            "\u001b[1m[\u001b[0m\u001b[34;49mnotice\u001b[0m\u001b[1;39;49m]\u001b[0m\u001b[39;49m To update, run: \u001b[0m\u001b[32;49mpip install --upgrade pip\u001b[0m\n"
          ]
        }
      ],
      "source": [
        "!pip install googletrans==3.1.0a0"
      ]
    },
    {
      "cell_type": "code",
      "execution_count": null,
      "id": "c3CXSWjxxK0e",
      "metadata": {
        "id": "c3CXSWjxxK0e"
      },
      "outputs": [],
      "source": [
        "from googletrans import Translator\n",
        "translator = Translator()\n",
        "\n",
        "def en_dic(df,col):\n",
        "    unique_value = df[col].unique()\n",
        "    trans_dic = {}\n",
        "\n",
        "    for sen in unique_value:\n",
        "        if sen is np.nan:\n",
        "            trans_dic[sen] = sen\n",
        "            continue\n",
        "\n",
        "        non_alpha_chars = re.sub(r'\\W+', '', sen)\n",
        "        non_alpha_chars = re.search(r'[^a-zA-Z0-9]', non_alpha_chars)\n",
        "\n",
        "        if non_alpha_chars:\n",
        "            changed_chars = translator.translate(sen, dest='en').text\n",
        "            trans_dic[sen] = changed_chars\n",
        "\n",
        "    return trans_dic\n",
        "\n",
        "def to_english(df,col):\n",
        "    # en_dic에 있는 값이면 해당 행 값을 사전의 값으로 교체\n",
        "    df[col] = df[col].apply(lambda x: dic[x] if x in dic else x)"
      ]
    },
    {
      "cell_type": "code",
      "execution_count": null,
      "id": "6AQkre2hxMb0",
      "metadata": {
        "id": "6AQkre2hxMb0"
      },
      "outputs": [],
      "source": [
        "need_to_en = ['customer_job' , 'inquiry_type' , 'product_category' , 'product_subcategory' , 'product_modelname']\n",
        "for n in need_to_en:\n",
        "    dic = en_dic(new_train_df, n)\n",
        "    to_english(new_train_df, n)\n",
        "\n",
        "for n in need_to_en:\n",
        "    dic = en_dic(new_train_df,n)\n",
        "    to_english(new_train_df,n)"
      ]
    },
    {
      "cell_type": "markdown",
      "id": "f11RCUAX736J",
      "metadata": {
        "id": "f11RCUAX736J"
      },
      "source": [
        "### 🟦 customer_country\n",
        "- '/'를 기준으로 country와 city 나누기\n",
        "- country 결측치 값 city값을 통해 채우기"
      ]
    },
    {
      "cell_type": "code",
      "execution_count": null,
      "id": "g41xmzlM7r3T",
      "metadata": {
        "id": "g41xmzlM7r3T"
      },
      "outputs": [],
      "source": [
        "# 국가에 대한 소도시 단위 제거, 국가 단위의 데이터가 없는 경우 nan 처리\n",
        "# 만약 국가 단위만 없고 수도만 있는 경우 수도 이름으로 대체\n",
        "def process_country(country):\n",
        "    result = np.nan\n",
        "\n",
        "    if pd.isna(country):\n",
        "        return np.nan\n",
        "\n",
        "    if \"/\" not in str(country):\n",
        "        return np.nan\n",
        "\n",
        "    parts = [x.strip() for x in country.split('/')]  # 모든 요소를 포함하여 분할\n",
        "\n",
        "    if len(parts) >= 1 and parts[-1] != '':\n",
        "        return parts[-1]\n",
        "    else:\n",
        "        return np.nan\n",
        "\n",
        "    if '@' in str(result):\n",
        "        return np.nan\n",
        "\n",
        "    return result\n",
        "\n",
        "\n",
        "def process_city(city):\n",
        "\n",
        "    result = np.nan\n",
        "\n",
        "    if pd.isna(city):\n",
        "        return np.nan\n",
        "\n",
        "    if \"/\" not in str(city):\n",
        "        return np.nan\n",
        "\n",
        "    parts = [x.strip() for x in city.split('/')]  # 모든 요소를 포함하여 분할\n",
        "\n",
        "    if len(parts) >= 2 and parts[-2] != '':\n",
        "        return parts[-2]\n",
        "    else:\n",
        "        return np.nan\n",
        "\n",
        "    if '@' in str(result):\n",
        "        return np.nan\n",
        "\n",
        "    return result\n",
        "# 사이트 참고\n",
        "us_states = [\n",
        "    \"al\", \"ak\", \"az\", \"ar\", \"ca\", \"co\", \"ct\", \"de\", \"fl\", \"ga\",\n",
        "    \"hi\", \"ia\", \"id\", \"il\", \"in\", \"ks\", \"ky\", \"la\", \"ma\", \"md\",\n",
        "    \"me\", \"mi\", \"mn\", \"ms\", \"mo\", \"mt\", \"nc\", \"nd\", \"ne\", \"nh\",\n",
        "    \"nj\", \"nm\", \"nv\", \"ny\", \"oh\", \"ok\", \"or\", \"pa\", \"ri\", \"sc\",\n",
        "    \"sd\", \"tn\", \"tx\", \"ut\", \"vt\", \"va\", \"wa\", \"wi\", \"wv\", \"wy\",\n",
        "    \"usa\", \"zip\",\"us\", \"ohio\", \"48201\", \"nevada\",\n",
        "    \"hampshire\",\n",
        "    ]\n",
        "\n",
        "india_states = [\n",
        "    \"odisha\", \"indore\", \"kerela\", \"gujarat\", \"uttar\",\n",
        "    \"gurgaon\", \"anand\", \"pune\", \"lucknow\", \"bhilwara\",\n",
        "    \"chennai\", \"hyderabad\", \"telangana\", \"mumbai\",\"bangalore\"]\n",
        "\n",
        "brazil_states = [\n",
        "    'br', 'rj'\n",
        "]\n",
        "\n",
        "other = [\n",
        "    'country'\n",
        "]\n",
        "\n",
        "def process_unique(country):\n",
        "\n",
        "  if pd.isna(country):\n",
        "        return np.nan\n",
        "\n",
        "  if 'united states' in country:\n",
        "    return 'us'\n",
        "\n",
        "  is_states = country.split()\n",
        "\n",
        "  for state in is_states:\n",
        "    if state in us_states:\n",
        "      return 'us'\n",
        "    elif state in india_states:\n",
        "      return 'india'\n",
        "    elif state in brazil_states:\n",
        "      return 'brazil'\n",
        "    elif state == 'netherlands':\n",
        "      return 'nethernads'\n",
        "    elif state == 'colombia':\n",
        "      return 'colombia'\n",
        "    elif state in other:\n",
        "      return np.nan\n",
        "  else:\n",
        "    return country\n"
      ]
    },
    {
      "cell_type": "code",
      "execution_count": null,
      "id": "lv4SflDh7nLV",
      "metadata": {
        "colab": {
          "base_uri": "https://localhost:8080/"
        },
        "id": "lv4SflDh7nLV",
        "outputId": "0473bd20-ec62-4f0e-e631-f2d1fec58832"
      },
      "outputs": [
        {
          "name": "stdout",
          "output_type": "stream",
          "text": [
            "train set\n",
            "전처리 전 country nunique: 269\n",
            "전처리 후 country nunique: 171\n",
            "test set\n",
            "전처리 전 country nunique: 94\n",
            "전처리 후 country nunique: 87\n"
          ]
        }
      ],
      "source": [
        "print(\"train set\")\n",
        "\n",
        "new_train_df['country'] = new_train_df['customer_country'].apply(process_country)\n",
        "print(\"전처리 전 country nunique:\",new_train_df['country'].nunique())\n",
        "\n",
        "new_train_df['country'] = new_train_df['country'].apply(process_unique)\n",
        "\n",
        "new_train_df['country'] = new_train_df['country'].replace(\"a\", np.nan)\n",
        "new_train_df['country'] = new_train_df['country'].replace(\"u a e\", \"uae\")\n",
        "new_train_df['country'] = new_train_df['country'].replace(\"uae dubai\", \"uae\")\n",
        "\n",
        "print(\"전처리 후 country nunique:\",new_train_df['country'].nunique())\n",
        "## city\n",
        "new_train_df['city'] = new_train_df['customer_country'].apply(process_city)\n",
        "new_train_df['city'] = new_train_df['city'].replace(\"dubai uae\", \"dubai\")\n",
        "# ------------ test\n",
        "print(\"test set\")\n",
        "new_test_df['customer_country'] = new_test_df['customer_country'].replace(\"uae dubai\", \"uae\")\n",
        "\n",
        "new_test_df['country'] = new_test_df['customer_country'].apply(process_country)\n",
        "print(\"전처리 전 country nunique:\",new_test_df['country'].nunique())\n",
        "\n",
        "new_train_df['country'] = new_train_df['country'].replace(\"a\", np.nan)\n",
        "new_train_df['country'] = new_train_df['country'].replace(\"u a e\", \"uae\")\n",
        "new_train_df['country'] = new_train_df['country'].replace(\"uae dubai\", \"uae\")\n",
        "\n",
        "new_test_df['country'] = new_test_df['country'].apply(process_unique)\n",
        "print(\"전처리 후 country nunique:\",new_test_df['country'].nunique())\n",
        "\n",
        "## city\n",
        "new_test_df['city'] = new_test_df['customer_country'].apply(process_city)\n",
        "new_test_df['city'] = new_test_df['city'].replace(\"dubai uae\", \"dubai\")"
      ]
    },
    {
      "cell_type": "code",
      "execution_count": null,
      "id": "tLbO6Ww9QsX1",
      "metadata": {
        "id": "tLbO6Ww9QsX1"
      },
      "outputs": [],
      "source": [
        "new_train_df.drop(['customer_country'],axis=1,inplace=True)\n",
        "new_test_df.drop(['customer_country'],axis=1,inplace=True)"
      ]
    },
    {
      "cell_type": "code",
      "execution_count": null,
      "id": "3r8vA-5EEaxf",
      "metadata": {
        "colab": {
          "base_uri": "https://localhost:8080/"
        },
        "id": "3r8vA-5EEaxf",
        "outputId": "2f1668b7-7277-4330-f041-99f99ba4028a"
      },
      "outputs": [
        {
          "data": {
            "text/plain": [
              "is_converted\n",
              "False    1317\n",
              "True      213\n",
              "Name: count, dtype: int64"
            ]
          },
          "execution_count": 32,
          "metadata": {},
          "output_type": "execute_result"
        }
      ],
      "source": [
        "new_train_df[new_train_df['country'] == 'uae']['is_converted'].value_counts()"
      ]
    },
    {
      "cell_type": "code",
      "execution_count": null,
      "id": "igDxx0rwP3WB",
      "metadata": {
        "colab": {
          "base_uri": "https://localhost:8080/"
        },
        "id": "igDxx0rwP3WB",
        "outputId": "b619e4f0-e8f3-4901-fe0d-ea5518285492"
      },
      "outputs": [
        {
          "data": {
            "text/plain": [
              "array(['philippines', 'india', 'nigeria', 'saudi arabia', 'singapore',\n",
              "       'brazil', 'uae', 'south africa', 'us', 'colombia', 'mexico',\n",
              "       'ghana', 'egypt', 'democratic republic of the congo', 'ethiopia',\n",
              "       'australia', nan, 'kenya', 'indonesia', 'oman', 'pakistan',\n",
              "       'united kingdom', 'guatemala', 'panama', 'canada', 'bangladesh',\n",
              "       'papua new guinea', 'united republic of tanzania', 'qatar',\n",
              "       'afghanistan', 'chile', 'mozambique', 'turkey', 'türkiye',\n",
              "       'el salvador', 'togo', 'jordan', 'iraq', 'israel', 'sri lanka',\n",
              "       'south korea', 'portugal', 'mauritania', 'uruguay', 'peru',\n",
              "       'germany', 'romania', 'norway', 'jamaica', 'hungary', 'poland',\n",
              "       'czech', 'spain', 'argentina', 'ecuador', 'senegal', 'hong kong',\n",
              "       'malaysia', 'japan', 'kuwait', 'ireland', 'albania', 'greece',\n",
              "       'algeria', 'nicaragua', 'slovenia', 'italy', 'nethernads',\n",
              "       'dominican republic', 'france', 'uganda', 'iran', 'paraguay',\n",
              "       'bolivia', 'namibia', 'tunisia', 'puerto rico', 'anguilla',\n",
              "       'croatia', 'fiji', 'denmark', 'sweden', 'cyprus', 'belgium',\n",
              "       'venezuela', 'maldives', 'morocco', 'switzerland', 'honduras',\n",
              "       'austria', 'russia', 'bahamas', 'burkina faso', 'thailand',\n",
              "       'ivory coast', 'cambodia', 'zimbabwe', 'vietnam', 'barbados',\n",
              "       'suriname', 'costa rica', 'botswana', 'curaçao', 'guyana', 'mali',\n",
              "       'china', 'latvia', 'libya', 'central african republic',\n",
              "       'azerbaijan', 'yemen', 'antigua and barbuda', 'lebanon', 'angola',\n",
              "       'bulgaria', 'armenia', 'trinidad and tobago', 'nepal',\n",
              "       'luxembourg', 'somalia', 'rwanda', 'bahrain', 'georgia',\n",
              "       'mauritius', 'turks and caicos islands', 'brunei', 'malta',\n",
              "       'taiwan', 'saint kitts and nevis', 'myanmar', 'sierra leone',\n",
              "       'sudan', 'cameroon', \"cote d'ivoire\", 'syria', 'gambia', 'gabon',\n",
              "       'montenegro', 'laos', 'lithuania', 'zambia', 'estonia',\n",
              "       'british virgin islands', 'serbia', 'benin', 'macedonia',\n",
              "       'bosnia and herzegovina', 'bermuda', 'new zealand', 'ukraine',\n",
              "       'congo', 'kazakhstan', 'belarus', 'palestine', 'cayman islands',\n",
              "       'swaziland', 'finland', 'kosovo', 'st kitts', 'iceland',\n",
              "       'saint lucia', 'antigua', 'djibouti', 'belize', 'st maarten',\n",
              "       'guinea', 'cuba', 'aruba', 'haiti', 'mongolia', 'isle of man',\n",
              "       'slovakia'], dtype=object)"
            ]
          },
          "execution_count": 33,
          "metadata": {},
          "output_type": "execute_result"
        }
      ],
      "source": [
        "new_train_df['country'].unique()"
      ]
    },
    {
      "cell_type": "markdown",
      "id": "1Y7RdeVYD42v",
      "metadata": {
        "id": "1Y7RdeVYD42v"
      },
      "source": [
        "country 열 결측치값 city 열 이용해서 채우기"
      ]
    },
    {
      "cell_type": "code",
      "execution_count": null,
      "id": "noCY7OrsLdrv",
      "metadata": {
        "colab": {
          "base_uri": "https://localhost:8080/"
        },
        "id": "noCY7OrsLdrv",
        "outputId": "911a2569-c09d-42c7-f8a3-da0a2a740dd9"
      },
      "outputs": [
        {
          "name": "stdout",
          "output_type": "stream",
          "text": [
            "도시값으로 결측치 채우기 전 country 결측치 개수\n"
          ]
        },
        {
          "data": {
            "text/plain": [
              "3938"
            ]
          },
          "execution_count": 34,
          "metadata": {},
          "output_type": "execute_result"
        }
      ],
      "source": [
        "print('도시값으로 결측치 채우기 전 country 결측치 개수')\n",
        "new_train_df['country'].isnull().sum()"
      ]
    },
    {
      "cell_type": "code",
      "execution_count": null,
      "id": "ULjCsidWMJQ-",
      "metadata": {
        "id": "ULjCsidWMJQ-"
      },
      "outputs": [],
      "source": [
        "# new_train_df[(new_train_df['country'].isna()) & (~new_train_df['city'].isna())]['city'].value_counts().iloc[:50]"
      ]
    },
    {
      "cell_type": "code",
      "execution_count": null,
      "id": "2glxLMfUFafE",
      "metadata": {
        "id": "2glxLMfUFafE"
      },
      "outputs": [],
      "source": [
        "city_to_country = {\n",
        "    'uae': ['abudhabi','rak','دبي','al ain','uae','dubai', 'abu dhabi', 'sharjah', 'ajman', 'ras al khaimah', 'ابوظبي', 'deira', 'الشارقة', 'alain', 'عجمان', 'fujairah','dubai uae', 'shj', 'ras al khaima'],\n",
        "\n",
        "    'us': ['new york', 'houston', 'phoenix', 'washington', 'miami', 'los angeles', 'tampa', 'newark', 'chicago', 'san diego', 'indianapolis', 'san antonio', 'salt lake city', 'el paso',\n",
        "           'austin', 'wichita', 'jacksonville', 'virginia beach', 'san francisco', 'omaha', 'orlando', 'las vegas', 'anaheim', 'philadelphia', 'tucson', 'danville', 'buffalo', 'bellevue',\n",
        "           'columbus', 'lubbock', 'irvine', 'scottsdale', 'detroit', 'grand rapids', 'fort lauderdale', 'nashville', 'charlotte', 'seattle', 'south bend', 'boca raton', 'new orleans', 'alpharetta',\n",
        "           'raleigh', 'charleston', 'tulsa', 'greenville', 'spring', 'sacramento', 'providencaies', 'topeka', 'fayetteville', 'atlanta', 'aurora', 'cincinnati', 'hollywood', 'eglin afb', 'montgomery',\n",
        "           'lincoln', 'irving', 'apo', 'champaign', 'norcross', 'plano', 'federal way', 'silver spring', 'maroa', 'naperville', 'dallas', 'columbia', 'minneapolis', 'boston', 'rancho cucamonga', 'oklahoma city',\n",
        "           'morristown', 'fort collins', 'baltimore', 'offutt afb', 'saint petersburg', 'santa monica', 'fort worth', 'decatur', 'woodhaven', 'schaumburg', 'mahopac', 'winston', 'birmingham', 'amherst', 'coalgate', 'chesterfield',\n",
        "           'brooklyn','kansas city','sierra vista', 'bell gardens', 'pigeon forge', 'delray beach', 'augusta', 'cloverdale', 'cypress', 'staten island', 'harrisburg', 'north hollywood', 'colorado springs',\n",
        "           'olathe', 'elkhart', 'sunnyvale', 'flushing', 'peachtree corners', 'cambridge', 'albuquerque', 'san marcos', 'gaithersburg', 'san jose', 'costa mesa', 'reston', 'malvern', 'dexter', 'jackson',\n",
        "           'ras al khaima', 'monrovia', 'bridgeport', 'katy', 'long beach', 'bowie', 'lexington', 'lakewood', 'la jolla', 'overland park', 'miami gardens', 'hapeville', 'camden', 'orting', 'richmond'],\n",
        "\n",
        "    'philippines': ['manila', 'makati', 'quezon city', 'mandaluyong','makati city'],\n",
        "    'india': ['bangalore', 'mumbai','bengaluru'],\n",
        "    'saudi arabia': ['riyadh', 'الرياض','riaydh', 'khobar'],\n",
        "    'oman': ['muscat'],\n",
        "    'egypt': ['cairo'],\n",
        "    'kuwait': ['الكويت'],\n",
        "    'sri lanka': ['colombo 03'],\n",
        "    'united kingdom': ['liverpool'],\n",
        "}\n"
      ]
    },
    {
      "cell_type": "code",
      "execution_count": null,
      "id": "WW948CQlIGPn",
      "metadata": {
        "id": "WW948CQlIGPn"
      },
      "outputs": [],
      "source": [
        "# country 열이 NaN이고 city 열 값이 딕셔너리의 도시에 해당하는 경우에 대해 country 값을 해당 도시에 대응하는 국가로 채움\n",
        "new_train_df['country'] = new_train_df.apply(lambda row: next((key for key, value in city_to_country.items() if pd.isna(row['country']) and row['city'] in value), row['country']), axis=1)\n",
        "new_test_df['country'] = new_test_df.apply(lambda row: next((key for key, value in city_to_country.items() if pd.isna(row['country']) and row['city'] in value), row['country']), axis=1)"
      ]
    },
    {
      "cell_type": "code",
      "execution_count": null,
      "id": "P_w1KZA9JNhp",
      "metadata": {
        "colab": {
          "base_uri": "https://localhost:8080/"
        },
        "id": "P_w1KZA9JNhp",
        "outputId": "ae1ceead-0dde-4fc7-8f2a-d72acd14f964"
      },
      "outputs": [
        {
          "name": "stdout",
          "output_type": "stream",
          "text": [
            "도시값으로 결측치 채운 후 country 결측치 개수\n"
          ]
        },
        {
          "data": {
            "text/plain": [
              "3386"
            ]
          },
          "execution_count": 38,
          "metadata": {},
          "output_type": "execute_result"
        }
      ],
      "source": [
        "print('도시값으로 결측치 채운 후 country 결측치 개수')\n",
        "new_train_df['country'].isnull().sum()"
      ]
    },
    {
      "cell_type": "code",
      "execution_count": null,
      "id": "ujX0YcIQYXtF",
      "metadata": {
        "id": "ujX0YcIQYXtF"
      },
      "outputs": [],
      "source": [
        "new_train_df[['country', 'city']] = new_train_df[['country', 'city']].fillna('other')\n",
        "new_test_df[['country', 'city']] = new_test_df[['country', 'city']].fillna('other')"
      ]
    },
    {
      "cell_type": "code",
      "execution_count": null,
      "id": "LpgXvI3H9u1S",
      "metadata": {
        "id": "LpgXvI3H9u1S"
      },
      "outputs": [],
      "source": [
        "label_columns = [\n",
        "    \"country\",\"city\",\n",
        "    \"business_area\", \"business_subarea\",\n",
        "    \"business_unit\",\n",
        "    \"customer_type\",\n",
        "    \"enterprise\",\n",
        "    \"customer_job\",\n",
        "    \"inquiry_type\",\n",
        "    \"product_category\",\n",
        "    \"product_subcategory\",\n",
        "    \"product_modelname\",\n",
        "    \"customer_position\",\n",
        "    \"response_corporate\",\n",
        "    \"expected_timeline\",\n",
        "]"
      ]
    },
    {
      "cell_type": "markdown",
      "id": "eKs_WH5ZCenr",
      "metadata": {
        "id": "eKs_WH5ZCenr"
      },
      "source": [
        "### 🟦 response_corporate\n",
        "- 앞의 문자열 공통 'lge' 제거\n"
      ]
    },
    {
      "cell_type": "code",
      "execution_count": null,
      "id": "wnVkgvUiCdlF",
      "metadata": {
        "id": "wnVkgvUiCdlF"
      },
      "outputs": [],
      "source": [
        "new_train_df['response_corporate'] = new_train_df['response_corporate'].str.replace(\"lge\", \"\")\n",
        "new_test_df['response_corporate'] = new_test_df['response_corporate'].str.replace(\"lge\", \"\")"
      ]
    },
    {
      "cell_type": "code",
      "execution_count": null,
      "id": "1GVAM2nLuUkH",
      "metadata": {
        "colab": {
          "base_uri": "https://localhost:8080/"
        },
        "id": "1GVAM2nLuUkH",
        "outputId": "1010088c-9aea-4ef4-db90-42cc73b5322b"
      },
      "outputs": [
        {
          "data": {
            "text/plain": [
              "0       sp\n",
              "1       us\n",
              "2       gf\n",
              "3       us\n",
              "4       sp\n",
              "        ..\n",
              "5266    sp\n",
              "5267    us\n",
              "5268    sp\n",
              "5269    dg\n",
              "5270    il\n",
              "Name: response_corporate, Length: 5271, dtype: object"
            ]
          },
          "execution_count": 42,
          "metadata": {},
          "output_type": "execute_result"
        }
      ],
      "source": [
        "new_test_df['response_corporate']"
      ]
    },
    {
      "cell_type": "markdown",
      "id": "vQoBI4Cno_EK",
      "metadata": {
        "id": "vQoBI4Cno_EK"
      },
      "source": [
        "### 🟦  inquiry_type"
      ]
    },
    {
      "cell_type": "code",
      "execution_count": null,
      "id": "l9ho1O-ql1k6",
      "metadata": {
        "id": "l9ho1O-ql1k6"
      },
      "outputs": [],
      "source": [
        "# Other, Others, Etc., ETC., Not specified  >> 똑같은 데이터로 처리 : other\n",
        "# 결측치 처리 >> other\n",
        "def process_etc(data):\n",
        "    if data in [\n",
        "        'other', 'others', 'etc.', 'not specified', 'none',\n",
        "        'Other Stores', 'Others', 'nan', 'etc', 'no longer available','not applicable','no influence',\n",
        "        ]:\n",
        "        return np.nan\n",
        "    else:\n",
        "        return data\n",
        "\n",
        "def process_inquiry(df):\n",
        "  df['inquiry_type'].replace({\n",
        "      'purchase' : 'quotation or purchase consultation',\n",
        "      'quotation' : 'quotation or purchase consultation',\n",
        "      'purchase or quotation' : 'quotation or purchase consultation',\n",
        "      'hola me pueden cotizar 19 pantallas interactivas de 100 pulgadas entregadas en guayaquil ecuador' : 'quotation or purchase consultation',\n",
        "      'Please give me a quote for the body temperature measurement product, thank you' : 'quotation or purchase consultation',\n",
        "      'probeam precio' : 'quotation or purchase consultation',\n",
        "      'I request support to make a quote for the devices they offer in the one quick solution' : 'quotation or purchase consultation',\n",
        "      'please give me a quote for the body temperature measurement product, thank you' : 'quotation or purchase consultation',\n",
        "      'i request support to make a quote for the devices they offer in the one quick solution:' : 'quotation or purchase consultation',\n",
        "      'i need to consult prices and solutions from lg' : 'quotation or purchase consultation',\n",
        "\n",
        "      'usage_or_technical_consultation' : 'usage or technical consultation',\n",
        "      'I need to consult prices and solutions from LG' : 'usage or technical consultation',\n",
        "\n",
        "      'technical support' : 'technical consultation',\n",
        "      'technical' : 'technical consultation',\n",
        "\n",
        "      'one quick:flex' : 'product information',\n",
        "      'aio' : 'product information',\n",
        "      'i want to know the details about it' : 'product information',\n",
        "      'hospital tv' : 'product information',\n",
        "      'educational equipments' : 'product information',\n",
        "      'tv interactive' : 'product information',\n",
        "      'digital platform' : 'product information',\n",
        "      'high inch 86   98 or 110' : 'product information',\n",
        "      'display textbook and photos' : 'product information',\n",
        "      'display product' : 'product information',\n",
        "      'window facing product' : 'product information',\n",
        "      'hotel tv products' : 'product information',\n",
        "      'pantallas interactivas para clinicas' : 'product information',\n",
        "      'toi muon tim hieu thong tin ky thuat gia ca cua sp de su dung' : 'product information',\n",
        "      'led signage' : 'product information',\n",
        "      'for school' : 'product information',\n",
        "      'video wall' : 'product information',\n",
        "      'first info and pricing' : 'product information',\n",
        "      'idb' : 'product information',\n",
        "      'vrf' : 'product information',\n",
        "      'standalone' : 'product information',\n",
        "      'high inch 86 / 98 or 110' : 'product information',\n",
        "      'i am looking for this lg magnit micro led product for ecuador for a 138-inch client with sea shipping' : 'product information',\n",
        "      'i need a medical monitor for conventional radiography and tomography' : 'product information',\n",
        "\n",
        "\n",
        "      'evento sdelestero' : 'event inquiry',\n",
        "\n",
        "      'select id needs' : 'other',\n",
        "      'needs' : 'other',\n",
        "      'teach' : 'other',\n",
        "      'event inquiry' : 'other',\n",
        "      'media inquiry' : 'other',\n",
        "      'historical integrator of george v' : 'other',\n",
        "\n",
        "      'not specified' : 'other',\n",
        "      'nan' : 'other',\n",
        "      'no influence' : 'other',\n",
        "      'not applicable' : 'other',\n",
        "      'no longer available' : 'other'\n",
        "      }, inplace = True)\n",
        "\n",
        "# 동일 범주형 데이터에 대한 대소문자 구별 없애기\n",
        "new_train_df['inquiry_type'] = new_train_df['inquiry_type'].str.lower()\n",
        "new_train_df['inquiry_type'] = new_train_df['inquiry_type'].apply(process_etc)\n",
        "\n",
        "\n",
        "new_test_df['inquiry_type'] = new_test_df['inquiry_type'].str.lower()\n",
        "new_test_df['inquiry_type'] = new_test_df['inquiry_type'].apply(process_etc)\n",
        "\n",
        "# 학습 데이터프레임 처리\n",
        "process_inquiry(new_train_df)\n",
        "\n",
        "# 테스트 데이터프레임 처리\n",
        "process_inquiry(new_test_df)"
      ]
    },
    {
      "cell_type": "code",
      "execution_count": null,
      "id": "8jDY6fP9dlpK",
      "metadata": {
        "id": "8jDY6fP9dlpK"
      },
      "outputs": [],
      "source": [
        "new_train_df['inquiry_type'].fillna('other', inplace=True)\n",
        "new_test_df['inquiry_type'].fillna('other', inplace=True)"
      ]
    },
    {
      "cell_type": "code",
      "execution_count": null,
      "id": "iyGyZOz7bpS5",
      "metadata": {
        "colab": {
          "base_uri": "https://localhost:8080/"
        },
        "id": "iyGyZOz7bpS5",
        "outputId": "5d56fe48-73af-4b22-bfb6-952cd345d0e7"
      },
      "outputs": [
        {
          "name": "stdout",
          "output_type": "stream",
          "text": [
            "quotation or purchase consultation 40250\n",
            "product information 1132\n",
            "other 2156\n",
            "usage or technical consultation 1118\n",
            "trainings 376\n",
            "services 361\n",
            "sales inquiry 8846\n",
            "technical consultation 535\n",
            "request for partnership 273\n",
            "sales 100\n",
            "request a demo 174\n",
            "request for distributorship 67\n",
            "request for quotation or purchase 221\n",
            "request for technical consulting 37\n",
            "customer suggestions 12\n",
            "oem/odm request 5\n",
            "event inquiry 1\n"
          ]
        }
      ],
      "source": [
        "for x in new_train_df['inquiry_type'].unique():\n",
        "    print(x, new_train_df['inquiry_type'].value_counts()[x])"
      ]
    },
    {
      "cell_type": "code",
      "execution_count": null,
      "id": "wsGj5npTd0aL",
      "metadata": {
        "colab": {
          "base_uri": "https://localhost:8080/"
        },
        "id": "wsGj5npTd0aL",
        "outputId": "b327a1ad-3606-4cec-894c-3a373e759e85"
      },
      "outputs": [
        {
          "name": "stdout",
          "output_type": "stream",
          "text": [
            "other 1416\n",
            "quotation or purchase consultation 3465\n",
            "product information 68\n",
            "technical consultation 135\n",
            "request for partnership 63\n",
            "usage or technical consultation 52\n",
            "services 34\n",
            "customer suggestions 4\n",
            "request a demo 9\n",
            "trainings 21\n",
            "oem/odm request 3\n",
            "request for distributorship 1\n"
          ]
        }
      ],
      "source": [
        "for x in new_test_df['inquiry_type'].unique():\n",
        "    print(x, new_test_df['inquiry_type'].value_counts()[x])"
      ]
    },
    {
      "cell_type": "markdown",
      "id": "_OH4bURypiGH",
      "metadata": {
        "id": "_OH4bURypiGH"
      },
      "source": [
        "### 🟦 customer_type\n",
        "- 사이트 참고하여 sub type으로 작성된 경우 상위 type으로 변경해주는 작업 진행"
      ]
    },
    {
      "cell_type": "code",
      "execution_count": null,
      "id": "yAg7i3YIo6Kf",
      "metadata": {
        "id": "yAg7i3YIo6Kf"
      },
      "outputs": [],
      "source": [
        "new_train_df['customer_type'] = new_train_df['customer_type'].apply(lambda x: x.replace(' ', '') if isinstance(x, str) else x)\n",
        "new_test_df['customer_type'] = new_test_df['customer_type'].apply(lambda x: x.replace(' ', '') if isinstance(x, str) else x)\n",
        "\n",
        "new_train_df['customer_type'].replace('enduser', 'endcustomer',inplace=True)\n",
        "new_train_df['customer_type'].replace('commercialenduser', 'endcustomer',inplace=True)\n",
        "new_train_df['customer_type'] = new_train_df['customer_type'].apply(process_etc)\n",
        "\n",
        "new_test_df['customer_type'].replace('enduser', 'endcustomer',inplace=True)\n",
        "new_test_df['customer_type'].replace('commercialenduser', 'endcustomer',inplace=True)\n",
        "new_test_df['customer_type'] = new_test_df['customer_type'].apply(process_etc)"
      ]
    },
    {
      "cell_type": "code",
      "execution_count": null,
      "id": "fmkNTod8-FB3",
      "metadata": {
        "id": "fmkNTod8-FB3"
      },
      "outputs": [],
      "source": [
        "new_train_df['customer_type'].fillna('other', inplace=True)\n",
        "new_test_df['customer_type'].fillna('other', inplace=True)"
      ]
    },
    {
      "cell_type": "code",
      "execution_count": null,
      "id": "kgwpE4PJ9CBe",
      "metadata": {
        "id": "kgwpE4PJ9CBe"
      },
      "outputs": [],
      "source": [
        "def process_type_mapping(df):\n",
        "  # 사이트 참고하여 딕셔너리 구성\n",
        "  customer_type_mapping =  {\n",
        "    'endcustomer' : ['construction company', 'owner', 'homeowner', 'developer', 'medical/healthcare facility',\n",
        "                      'goverment/public sector', 'corporate', 'education', 'retail', 'fitness', 'manager/director', 'administrator'],\n",
        "\n",
        "    'channelpartner' : ['agent','distributor','reseller','nsp','national reseller','regional reseller', 'si', 'pro', 'var'],\n",
        "\n",
        "    'specifier/influencer' : ['architect', 'consultant', 'contractor', 'technical/design firm', 'region builder', 'installer', 'ad&contents provider', 'applied rep'],\n",
        "\n",
        "    'solutionecopartner' : ['cms/webos/isv', 'mount/metal fabrication','meeting solution', 'control/processor', 'external compute'],\n",
        "\n",
        "    'other' : ['hvacengineer', 'engineer', 'technician', 'systemintegrator'] # 분류를 어떻게 해야 할지 모르는 train unique한 값들\n",
        "    }\n",
        "  for new_type, keywords in customer_type_mapping.items():\n",
        "      df.loc[df['customer_type'].str.contains('|'.join(keywords), case=False), 'customer_type'] = new_type\n",
        "\n",
        "new_train_df['customer_type'] = new_train_df['customer_type'].astype(str)\n",
        "new_test_df['customer_type'] = new_test_df['customer_type'].astype(str)\n",
        "\n",
        "# 학습 데이터프레임 처리\n",
        "process_type_mapping(new_train_df)\n",
        "\n",
        "# 테스트 데이터프레임 처리\n",
        "process_type_mapping(new_test_df)"
      ]
    },
    {
      "cell_type": "code",
      "execution_count": null,
      "id": "eXyf0yHO7Fhl",
      "metadata": {
        "colab": {
          "base_uri": "https://localhost:8080/"
        },
        "id": "eXyf0yHO7Fhl",
        "outputId": "ebc262a5-80b5-4c94-ccb3-b8163dabdcb0"
      },
      "outputs": [
        {
          "data": {
            "text/plain": [
              "customer_type\n",
              "other                   41314\n",
              "endcustomer             10167\n",
              "specifier/influencer     2433\n",
              "channelpartner           1306\n",
              "servicepartner            316\n",
              "solutionecopartner        128\n",
              "Name: count, dtype: int64"
            ]
          },
          "execution_count": 50,
          "metadata": {},
          "output_type": "execute_result"
        }
      ],
      "source": [
        " new_train_df['customer_type'].value_counts()"
      ]
    },
    {
      "cell_type": "code",
      "execution_count": null,
      "id": "o4lrH7GjpF-v",
      "metadata": {
        "colab": {
          "base_uri": "https://localhost:8080/"
        },
        "id": "o4lrH7GjpF-v",
        "outputId": "af2625c0-e0d6-4df7-9188-4ab68a06957e"
      },
      "outputs": [
        {
          "data": {
            "text/plain": [
              "customer_type\n",
              "endcustomer             2455\n",
              "other                   1457\n",
              "specifier/influencer     788\n",
              "channelpartner           327\n",
              "solutionecopartner       146\n",
              "servicepartner            98\n",
              "Name: count, dtype: int64"
            ]
          },
          "execution_count": 51,
          "metadata": {},
          "output_type": "execute_result"
        }
      ],
      "source": [
        "new_test_df['customer_type'].value_counts()"
      ]
    },
    {
      "cell_type": "markdown",
      "id": "B7Q25jeDqA6O",
      "metadata": {
        "id": "B7Q25jeDqA6O"
      },
      "source": [
        "### 🟦 customer_position\n",
        "- 하드코딩으로 분류"
      ]
    },
    {
      "cell_type": "code",
      "execution_count": null,
      "id": "wQtQoTjwpq-l",
      "metadata": {
        "id": "wQtQoTjwpq-l"
      },
      "outputs": [],
      "source": [
        "# 공통 함수 정의\n",
        "def process_position(df):\n",
        "    df['customer_position'].replace({\n",
        "        'founder' : 'ceo founder',\n",
        "        'ceo/fundador': 'ceo founder',\n",
        "        'ceo/founder' : 'ceo founder',\n",
        "        'co founder': 'ceo founder',\n",
        "        'mindenes': 'ceo founder',\n",
        "        'genel müdür': 'ceo founder',\n",
        "        'leadership/executive office/owner': 'ceo founder',\n",
        "        'the big boss': 'ceo founder',\n",
        "        'entrepreneur' : 'ceo founder',\n",
        "        'entrepreneurship' :'ceo founder',\n",
        "        'business development': 'ceo founder',\n",
        "        'chairman': 'ceo founder',\n",
        "        'president' : 'ceo founder',\n",
        "\n",
        "        'decision influencer': 'decision-influencer',\n",
        "        'decision maker': 'decision-influencer',\n",
        "\n",
        "        'vp': 'vice president',\n",
        "        'vicepresident':'vice president',\n",
        "        'visepresident' : 'vice president',\n",
        "        'gerente': 'vice president',\n",
        "\n",
        "        'architecture/consult' : 'consultant',\n",
        "        'architect/consultant': 'consultant',\n",
        "        'consulting': 'consultant',\n",
        "\n",
        "        'asst prof' : 'assistant professor',\n",
        "        'prof' : 'professor',\n",
        "        'education' : 'professor',\n",
        "        'educator' : 'professor',\n",
        "        'education professional': 'professor',\n",
        "        'főorvos': 'professor',\n",
        "        'english trainer for ielts toefl pte gre sat exams' : 'professor',\n",
        "        'career coach' : 'professor',\n",
        "        'hon dean' : 'professor',\n",
        "        'academic specialist' : 'professor',\n",
        "\n",
        "        'business partner': 'partner',\n",
        "        'commercial consultant': 'partner',\n",
        "\n",
        "        'c levelexecutive': 'c level executive',\n",
        "        'chief executive officer': 'c level executive',\n",
        "\n",
        "        'entrylevel': 'entry level',\n",
        "\n",
        "        'lider de desarrollo': 'manager',\n",
        "        'administrative' : 'manager',\n",
        "        'market intelligence/research': 'manager',\n",
        "        'operations': 'manager',\n",
        "\n",
        "        'business development/sales': 'associate/analyst',\n",
        "\n",
        "        'principal at oxford integrated pu science college': 'director',\n",
        "        'professional trainer': 'director',\n",
        "\n",
        "        'unpaid': 'intern',\n",
        "\n",
        "        'exhibitiontv': 'exhibition',\n",
        "\n",
        "        'proprietário a': 'homeowner',\n",
        "\n",
        "        'this is a consume display requirement for home purpose':'customer',\n",
        "        'end user': 'customer',\n",
        "        'commercial end user' : 'customer',\n",
        "\n",
        "        'surgery professional': 'hospital',\n",
        "        'tierarzt' : 'hospital',\n",
        "        'pathologist' : 'hospital',\n",
        "        'radiology professional' : 'hospital',\n",
        "\n",
        "        'medical imaging specialist': 'manufacturer',\n",
        "        'business development/sales': 'manufacturer',\n",
        "        'carge': 'manufacturer',\n",
        "\n",
        "        'research': 'software/solution provider',\n",
        "        'software /solution provider':'software/solution provider',\n",
        "\n",
        "\n",
        "        'technical' : 'technician',\n",
        "        'técnico' : 'technician',\n",
        "    }, inplace=True)\n",
        "\n",
        "    df['customer_position'] = df['customer_position'].str.lower()\n",
        "    df.loc[df['customer_position'].str.contains('teacher'), 'customer_position'] = 'professor'\n",
        "    df.loc[df['customer_position'].str.contains('professor'), 'customer_position'] = 'professor'\n",
        "    df.loc[df['customer_position'].str.contains('lecturer'), 'customer_position'] = 'professor'\n",
        "    df.loc[df['customer_position'].str.contains('pgt'), 'customer_position'] = 'professor'\n",
        "    df.loc[df['customer_position'].str.contains('faculty'), 'customer_position'] = 'professor'\n",
        "\n",
        "    df.loc[df['customer_position'].str.contains('management'), 'customer_position'] = 'manager'\n",
        "\n",
        "    df.loc[df['customer_position'].str.contains('director'), 'customer_position'] = 'director'\n",
        "\n",
        "    df.loc[df['customer_position'].str.contains('association'), 'customer_position'] = 'associate/analyst'\n",
        "\n",
        "    df.loc[df['customer_position'].str.contains('sales'), 'customer_position'] = 'manufacturer'\n",
        "    df.loc[df['customer_position'].str.contains('manufacturer'), 'customer_position'] = 'manufacturer'\n",
        "\n",
        "    df['customer_position'] = df['customer_position'].apply(process_etc)\n",
        "\n",
        "new_train_df['customer_position'] = new_train_df['customer_position'].astype(str)\n",
        "new_test_df['customer_position'] = new_test_df['customer_position'].astype(str)\n",
        "# 학습 데이터프레임 처리\n",
        "process_position(new_train_df)\n",
        "\n",
        "# 테스트 데이터프레임 처리\n",
        "process_position(new_test_df)"
      ]
    },
    {
      "cell_type": "code",
      "execution_count": null,
      "id": "moxxKTJFy7TK",
      "metadata": {
        "id": "moxxKTJFy7TK"
      },
      "outputs": [],
      "source": [
        "new_train_df['customer_position'].fillna('other', inplace=True)\n",
        "new_test_df['customer_position'].fillna('other', inplace =True)"
      ]
    },
    {
      "cell_type": "code",
      "execution_count": null,
      "id": "GX8llFf8zHbA",
      "metadata": {
        "colab": {
          "base_uri": "https://localhost:8080/"
        },
        "id": "GX8llFf8zHbA",
        "outputId": "37cbfec5-b6ce-4883-83ef-786ca7b573e0"
      },
      "outputs": [
        {
          "name": "stdout",
          "output_type": "stream",
          "text": [
            "entry level 2126\n",
            "ceo founder 7766\n",
            "partner 2480\n",
            "manager 7906\n",
            "vice president 507\n",
            "associate/analyst 2507\n",
            "c level executive 821\n",
            "other 24567\n",
            "director 4738\n",
            "intern 434\n",
            "trainee 820\n",
            "customer 433\n",
            "consultant 27\n",
            "professor 43\n",
            "installer 59\n",
            "homeowner 22\n",
            "employee 14\n",
            "bulgaria 7\n",
            "decision-influencer 26\n",
            "technician 2\n",
            "exhibition 4\n",
            "hospital 203\n",
            "government 29\n",
            "manufacturer 40\n",
            "software/solution provider 26\n",
            "system integrator 21\n",
            "distributor 1\n",
            "engineering 8\n",
            "cargo 27\n"
          ]
        }
      ],
      "source": [
        "for x in new_train_df['customer_position'].unique():\n",
        "    print(x, new_train_df['customer_position'].value_counts()[x])"
      ]
    },
    {
      "cell_type": "code",
      "execution_count": null,
      "id": "Sb7uQwr-6ONg",
      "metadata": {
        "colab": {
          "base_uri": "https://localhost:8080/"
        },
        "id": "Sb7uQwr-6ONg",
        "outputId": "f6d5d10f-bd0b-4a74-c53a-6331ca1be29c"
      },
      "outputs": [
        {
          "name": "stdout",
          "output_type": "stream",
          "text": [
            "other 2621\n",
            "manager 726\n",
            "associate/analyst 279\n",
            "director 343\n",
            "entry level 225\n",
            "ceo founder 594\n",
            "partner 224\n",
            "c level executive 85\n",
            "trainee 49\n",
            "vice president 54\n",
            "intern 60\n",
            "professor 9\n",
            "customer 2\n"
          ]
        }
      ],
      "source": [
        "for x in new_test_df['customer_position'].unique():\n",
        "    print(x, new_test_df['customer_position'].value_counts()[x])"
      ]
    },
    {
      "cell_type": "markdown",
      "id": "RI9IjfK_rl2F",
      "metadata": {
        "id": "RI9IjfK_rl2F"
      },
      "source": [
        "### 🟦 customer_job (진행중)\n",
        "- sentence transformer 적용"
      ]
    },
    {
      "cell_type": "code",
      "execution_count": null,
      "id": "Dl-oe0e776pC",
      "metadata": {
        "colab": {
          "base_uri": "https://localhost:8080/"
        },
        "id": "Dl-oe0e776pC",
        "outputId": "c9e53365-8950-49fa-85c4-655ca551ba4a"
      },
      "outputs": [
        {
          "name": "stdout",
          "output_type": "stream",
          "text": [
            "Defaulting to user installation because normal site-packages is not writeable\n",
            "Requirement already satisfied: sentence-transformers in ./.local/lib/python3.10/site-packages (2.4.0)\n",
            "Requirement already satisfied: torch>=1.11.0 in ./.local/lib/python3.10/site-packages (from sentence-transformers) (2.1.1+cpu)\n",
            "Requirement already satisfied: Pillow in ./.local/lib/python3.10/site-packages (from sentence-transformers) (10.2.0)\n",
            "Requirement already satisfied: transformers<5.0.0,>=4.32.0 in ./.local/lib/python3.10/site-packages (from sentence-transformers) (4.36.2)\n",
            "Requirement already satisfied: scipy in ./.local/lib/python3.10/site-packages (from sentence-transformers) (1.11.4)\n",
            "Requirement already satisfied: huggingface-hub>=0.15.1 in ./.local/lib/python3.10/site-packages (from sentence-transformers) (0.20.2)\n",
            "Requirement already satisfied: numpy in ./.local/lib/python3.10/site-packages (from sentence-transformers) (1.23.5)\n",
            "Requirement already satisfied: tqdm in ./.local/lib/python3.10/site-packages (from sentence-transformers) (4.66.1)\n",
            "Requirement already satisfied: scikit-learn in ./.local/lib/python3.10/site-packages (from sentence-transformers) (1.2.2)\n",
            "Requirement already satisfied: pyyaml>=5.1 in ./.local/lib/python3.10/site-packages (from huggingface-hub>=0.15.1->sentence-transformers) (6.0.1)\n",
            "Requirement already satisfied: typing-extensions>=3.7.4.3 in ./.local/lib/python3.10/site-packages (from huggingface-hub>=0.15.1->sentence-transformers) (4.4.0)\n",
            "Requirement already satisfied: packaging>=20.9 in ./.local/lib/python3.10/site-packages (from huggingface-hub>=0.15.1->sentence-transformers) (23.2)\n",
            "Requirement already satisfied: fsspec>=2023.5.0 in ./.local/lib/python3.10/site-packages (from huggingface-hub>=0.15.1->sentence-transformers) (2023.12.2)\n",
            "Requirement already satisfied: requests in ./.local/lib/python3.10/site-packages (from huggingface-hub>=0.15.1->sentence-transformers) (2.31.0)\n",
            "Requirement already satisfied: filelock in ./.local/lib/python3.10/site-packages (from huggingface-hub>=0.15.1->sentence-transformers) (3.9.0)\n",
            "Requirement already satisfied: jinja2 in ./.local/lib/python3.10/site-packages (from torch>=1.11.0->sentence-transformers) (3.1.2)\n",
            "Requirement already satisfied: networkx in ./.local/lib/python3.10/site-packages (from torch>=1.11.0->sentence-transformers) (3.0)\n",
            "Requirement already satisfied: sympy in ./.local/lib/python3.10/site-packages (from torch>=1.11.0->sentence-transformers) (1.12)\n",
            "Requirement already satisfied: regex!=2019.12.17 in ./.local/lib/python3.10/site-packages (from transformers<5.0.0,>=4.32.0->sentence-transformers) (2023.12.25)\n",
            "Requirement already satisfied: tokenizers<0.19,>=0.14 in ./.local/lib/python3.10/site-packages (from transformers<5.0.0,>=4.32.0->sentence-transformers) (0.15.0)\n",
            "Requirement already satisfied: safetensors>=0.3.1 in ./.local/lib/python3.10/site-packages (from transformers<5.0.0,>=4.32.0->sentence-transformers) (0.4.1)\n",
            "Requirement already satisfied: threadpoolctl>=2.0.0 in ./.local/lib/python3.10/site-packages (from scikit-learn->sentence-transformers) (3.2.0)\n",
            "Requirement already satisfied: joblib>=1.1.1 in ./.local/lib/python3.10/site-packages (from scikit-learn->sentence-transformers) (1.3.2)\n",
            "Requirement already satisfied: MarkupSafe>=2.0 in ./.local/lib/python3.10/site-packages (from jinja2->torch>=1.11.0->sentence-transformers) (2.1.3)\n",
            "Requirement already satisfied: urllib3<3,>=1.21.1 in ./.local/lib/python3.10/site-packages (from requests->huggingface-hub>=0.15.1->sentence-transformers) (2.1.0)\n",
            "Requirement already satisfied: idna<4,>=2.5 in ./.local/lib/python3.10/site-packages (from requests->huggingface-hub>=0.15.1->sentence-transformers) (2.10)\n",
            "Requirement already satisfied: certifi>=2017.4.17 in ./.local/lib/python3.10/site-packages (from requests->huggingface-hub>=0.15.1->sentence-transformers) (2023.11.17)\n",
            "Requirement already satisfied: charset-normalizer<4,>=2 in ./.local/lib/python3.10/site-packages (from requests->huggingface-hub>=0.15.1->sentence-transformers) (3.3.2)\n",
            "Requirement already satisfied: mpmath>=0.19 in ./.local/lib/python3.10/site-packages (from sympy->torch>=1.11.0->sentence-transformers) (1.3.0)\n",
            "\n",
            "\u001b[1m[\u001b[0m\u001b[34;49mnotice\u001b[0m\u001b[1;39;49m]\u001b[0m\u001b[39;49m A new release of pip is available: \u001b[0m\u001b[31;49m23.0.1\u001b[0m\u001b[39;49m -> \u001b[0m\u001b[32;49m24.0\u001b[0m\n",
            "\u001b[1m[\u001b[0m\u001b[34;49mnotice\u001b[0m\u001b[1;39;49m]\u001b[0m\u001b[39;49m To update, run: \u001b[0m\u001b[32;49mpip install --upgrade pip\u001b[0m\n"
          ]
        }
      ],
      "source": [
        "!pip install -U sentence-transformers"
      ]
    },
    {
      "cell_type": "code",
      "execution_count": null,
      "id": "VjGrM71079O9",
      "metadata": {
        "id": "VjGrM71079O9"
      },
      "outputs": [],
      "source": [
        "# https://www.lg.com/global/business/inquiry-to-buy\n",
        "# 사이트 내 job function 참고\n",
        "customer_job_list = [\n",
        "  'accounting', 'administrative', 'arts and design', 'business development',\n",
        "  'community and social services', 'consulting', 'curation', 'education',\n",
        "  'engineering', 'entrepreneurship', 'finance', 'healthcare services', 'human resources',\n",
        "  'information technology', 'legal', 'marketing', 'media and communication',\n",
        "  'military and protective services', 'operations', 'product management',\n",
        "  'program and project management', 'purchasing', 'quality assurance',\n",
        "  'real estate', 'research', 'sales', 'support', 'other'\n",
        "]\n",
        "\n",
        "# vertrieb, sonstiges 같은 번역이 안된 단어는 처리가 안됨 -> 💥사전에 번역하는 코드 더 추가해야함💥\n",
        "customer_job_replace_words = {\n",
        "    'sonstiges' : 'other',\n",
        "    'otro' : 'other',\n",
        "    'vertrieb' : 'sales'\n",
        "}"
      ]
    },
    {
      "cell_type": "code",
      "execution_count": null,
      "id": "1_pwZZfkrqMx",
      "metadata": {
        "id": "1_pwZZfkrqMx"
      },
      "outputs": [],
      "source": [
        "new_train_df['customer_job'] = new_train_df['customer_job'].apply(process_etc)\n",
        "new_train_df['customer_job'] = new_train_df['customer_job'].fillna('other')\n",
        "\n",
        "new_test_df['customer_job'] = new_test_df['customer_job'].apply(process_etc)\n",
        "new_test_df['customer_job'] = new_test_df['customer_job'].fillna('other')"
      ]
    },
    {
      "cell_type": "code",
      "execution_count": null,
      "id": "WgzwNaKF8cb5",
      "metadata": {
        "id": "WgzwNaKF8cb5"
      },
      "outputs": [],
      "source": [
        "from sentence_transformers import SentenceTransformer\n",
        "\n",
        "model = SentenceTransformer('sentence-transformers/all-MiniLM-L6-v2')\n",
        "job_embeddings = model.encode(customer_job_list)"
      ]
    },
    {
      "cell_type": "code",
      "execution_count": null,
      "id": "g5VRCT-y8p_e",
      "metadata": {
        "colab": {
          "base_uri": "https://localhost:8080/"
        },
        "id": "g5VRCT-y8p_e",
        "outputId": "d827cdf2-e76b-48e0-fd05-1909f581e101"
      },
      "outputs": [
        {
          "data": {
            "text/plain": [
              "('human resources', 0.7098565)"
            ]
          },
          "execution_count": 60,
          "metadata": {},
          "output_type": "execute_result"
        }
      ],
      "source": [
        "# 테스트 해보기\n",
        "from sklearn.metrics.pairwise import cosine_similarity\n",
        "\n",
        "test = 'hr'\n",
        "test_vector = model.encode([test])\n",
        "\n",
        "# 새로운 직업과 기존 직업들 간의 코사인 유사도 계산\n",
        "similarities = cosine_similarity(test_vector, job_embeddings)\n",
        "\n",
        "# 가장 유사도가 높은 직업 카테고리 찾기\n",
        "most_similar_index = np.argmax(similarities)\n",
        "most_similar_job = customer_job_list[most_similar_index]\n",
        "most_similar_job, np.max(similarities)"
      ]
    },
    {
      "cell_type": "code",
      "execution_count": null,
      "id": "jkoAMpb88rgY",
      "metadata": {
        "id": "jkoAMpb88rgY"
      },
      "outputs": [],
      "source": [
        "def preprocess_job(job):\n",
        "  if isinstance(job, str):\n",
        "    if job in customer_job_list:\n",
        "      return job\n",
        "    else:\n",
        "      job_vector = model.encode([job])\n",
        "      similarities = cosine_similarity(job_vector, job_embeddings)\n",
        "\n",
        "      if np.max(similarities) < 0.4:\n",
        "        return 'other'\n",
        "      else:\n",
        "        most_similar_index = np.argmax(similarities)\n",
        "        most_similar_job = customer_job_list[most_similar_index]\n",
        "        return most_similar_job\n",
        "  else:\n",
        "    return job"
      ]
    },
    {
      "cell_type": "code",
      "execution_count": null,
      "id": "AHZVPgJz8t96",
      "metadata": {
        "id": "AHZVPgJz8t96"
      },
      "outputs": [],
      "source": [
        "# 1~2분 정도 소요\n",
        "new_train_df['customer_job'] = new_train_df['customer_job'].apply(preprocess_job)\n",
        "new_test_df['customer_job'] = new_test_df['customer_job'].apply(preprocess_job)"
      ]
    },
    {
      "cell_type": "code",
      "execution_count": null,
      "id": "Z3Pf_0qyBZvv",
      "metadata": {
        "colab": {
          "base_uri": "https://localhost:8080/"
        },
        "id": "Z3Pf_0qyBZvv",
        "outputId": "2eb105d1-0bca-4099-c144-fd1aace952dc"
      },
      "outputs": [
        {
          "data": {
            "text/plain": [
              "customer_job\n",
              "other                               22666\n",
              "engineering                          6083\n",
              "administrative                       3494\n",
              "sales                                2407\n",
              "education                            2272\n",
              "purchasing                           2027\n",
              "information technology               1961\n",
              "operations                           1890\n",
              "arts and design                      1851\n",
              "business development                 1747\n",
              "consulting                           1342\n",
              "entrepreneurship                     1173\n",
              "marketing                            1124\n",
              "healthcare services                  1114\n",
              "program and project management       1032\n",
              "media and communication               700\n",
              "product management                    577\n",
              "finance                               460\n",
              "accounting                            394\n",
              "support                               350\n",
              "real estate                           294\n",
              "legal                                 149\n",
              "community and social services         140\n",
              "research                              139\n",
              "human resources                       112\n",
              "military and protective services       82\n",
              "quality assurance                      42\n",
              "curation                               42\n",
              "Name: count, dtype: int64"
            ]
          },
          "execution_count": 63,
          "metadata": {},
          "output_type": "execute_result"
        }
      ],
      "source": [
        "new_train_df['customer_job'].value_counts()"
      ]
    },
    {
      "cell_type": "code",
      "execution_count": null,
      "id": "lKWfyWipB4DN",
      "metadata": {
        "colab": {
          "base_uri": "https://localhost:8080/"
        },
        "id": "lKWfyWipB4DN",
        "outputId": "4dfe8d98-943f-4169-9571-e14d579b5a63"
      },
      "outputs": [
        {
          "data": {
            "text/plain": [
              "customer_job\n",
              "other                               1954\n",
              "engineering                          728\n",
              "education                            409\n",
              "administrative                       307\n",
              "information technology               231\n",
              "operations                           195\n",
              "purchasing                           180\n",
              "consulting                           166\n",
              "sales                                164\n",
              "business development                 164\n",
              "entrepreneurship                     119\n",
              "arts and design                      104\n",
              "program and project management        96\n",
              "marketing                             94\n",
              "media and communication               49\n",
              "healthcare services                   49\n",
              "support                               47\n",
              "finance                               42\n",
              "product management                    36\n",
              "accounting                            34\n",
              "real estate                           26\n",
              "community and social services         22\n",
              "legal                                 17\n",
              "human resources                       14\n",
              "research                               9\n",
              "military and protective services       7\n",
              "quality assurance                      5\n",
              "curation                               3\n",
              "Name: count, dtype: int64"
            ]
          },
          "execution_count": 64,
          "metadata": {},
          "output_type": "execute_result"
        }
      ],
      "source": [
        "new_test_df['customer_job'].value_counts()"
      ]
    },
    {
      "cell_type": "markdown",
      "id": "TU39opOu9a8Q",
      "metadata": {
        "id": "TU39opOu9a8Q"
      },
      "source": [
        "### ⬜ product category (진행중)"
      ]
    },
    {
      "cell_type": "code",
      "execution_count": null,
      "id": "VKHlwcjF9aQE",
      "metadata": {
        "id": "VKHlwcjF9aQE"
      },
      "outputs": [],
      "source": [
        "def process_product_category(category):\n",
        "\n",
        "    if pd.isna(category):\n",
        "        return np.nan\n",
        "\n",
        "    # 카테고리 치환 사전\n",
        "    category_mapping =  {\n",
        "        'signage': ['awzm', 'lg led bloc', 'gsca', 'gscd', 'lsca039'],\n",
        "        'tv': ['awz', 'bwz', 'tv signage', 'digital signage or commercial tvs', 'htv', 'tv 60',\n",
        "               'ctv','tv55', 'tv43pol', 'ur640', 'ur640s', '50uq801c0sb.bwz',\n",
        "               'uh', 'vl', 'high inch 86 / 98 or 110', '43us660h', 'hoteleria us670h','tv 55'],\n",
        "        'system ac': ['cac', 'sac', 'vrfcentralairconditioner', 'aire acondicionado residencial', 'systemac', 'onorseveralreversibleac', 'ar condicionado residencial'],\n",
        "        'vrf': ['vrf', 'variablerefrigerantflow(drv)systems'],\n",
        "        'video wall': ['wall', '49vl5g', 'vm', '55svh7f a'],\n",
        "        'procentric': ['centric'],\n",
        "        'monitor': ['pol', '28mq780', '55tc3d'],\n",
        "        'multiv': ['multiv'],\n",
        "        'display': ['display'],\n",
        "        'audio': ['audio'],\n",
        "        'aio': ['aio'],\n",
        "        'led': ['led', 'gscd046', 'laec'],\n",
        "        'chiller': ['chill'],\n",
        "        'one quick': ['one', 'quick'],\n",
        "        'washing machine': ['washing'],\n",
        "        'multi split': ['multi', 'split'],\n",
        "        'single split': ['single', 'split'],\n",
        "        'projector': ['bu50nst'],\n",
        "        'board': ['board', 'tr3'],\n",
        "        'airsolution': ['airsolution', 'acrumah'],\n",
        "        'other': ['etc.','Other']\n",
        "    }\n",
        "\n",
        "    # 카테고리 치환\n",
        "    for key, values in category_mapping.items():\n",
        "        if any(value in category for value in values):\n",
        "            return key\n",
        "\n",
        "    return category\n",
        "\n",
        "new_train_df['product_category'] = new_train_df['product_category'].apply(process_etc)\n",
        "new_test_df['product_category'] = new_test_df['product_category'].apply(process_etc)\n",
        "\n",
        "new_train_df['product_category'] = new_train_df['product_category'].apply(process_product_category)\n",
        "new_test_df['product_category'] = new_test_df['product_category'].apply(process_product_category)"
      ]
    },
    {
      "cell_type": "code",
      "execution_count": null,
      "id": "F5p2l36bCaJB",
      "metadata": {
        "colab": {
          "base_uri": "https://localhost:8080/"
        },
        "id": "F5p2l36bCaJB",
        "outputId": "7f1a9ca0-4492-4122-d3ec-21dc3862eaca"
      },
      "outputs": [
        {
          "data": {
            "text/plain": [
              "product_category\n",
              "board                                6104\n",
              "multi split                          5405\n",
              "vrf                                  5367\n",
              "led                                  3165\n",
              "video wall                           2124\n",
              "interactive signage                  1829\n",
              "one quick                            1548\n",
              "rac                                  1427\n",
              "display                              1100\n",
              "hotel tv                             1085\n",
              "chiller                              1039\n",
              "standard signage                      972\n",
              "monitor                               749\n",
              "heating                               639\n",
              "high brightness signage               458\n",
              "ventilation                           391\n",
              "teto ou cassete inverter              298\n",
              "tv                                    282\n",
              "system ac                             243\n",
              "high brightness                       219\n",
              "control                               197\n",
              "software solution                     186\n",
              "accessories                           173\n",
              "special signage                       164\n",
              "hospital tv                           147\n",
              "webos                                 140\n",
              "procentric                            112\n",
              "pc                                    110\n",
              "projector                              80\n",
              "outros                                 53\n",
              "signage care solution                  53\n",
              "technical support                      50\n",
              "cloud device                           46\n",
              "laptop                                 37\n",
              "a thermodynamic water heater           33\n",
              "idb                                    31\n",
              "virtual production                     30\n",
              "monitor signage monior/monitor tv      30\n",
              "heat pump heating                      29\n",
              "commercial tv                          27\n",
              "Name: count, dtype: int64"
            ]
          },
          "execution_count": 66,
          "metadata": {},
          "output_type": "execute_result"
        }
      ],
      "source": [
        "new_train_df['product_category'].value_counts().iloc[:40]"
      ]
    },
    {
      "cell_type": "code",
      "execution_count": null,
      "id": "mbPEe_4DI--J",
      "metadata": {
        "colab": {
          "base_uri": "https://localhost:8080/"
        },
        "id": "mbPEe_4DI--J",
        "outputId": "10892a47-e223-43bc-e652-fc07b46a6cff"
      },
      "outputs": [
        {
          "data": {
            "text/plain": [
              "19060"
            ]
          },
          "execution_count": 67,
          "metadata": {},
          "output_type": "execute_result"
        }
      ],
      "source": [
        "new_train_df['product_category'].isna().sum()"
      ]
    },
    {
      "cell_type": "markdown",
      "id": "HuAFgofW3Sc0",
      "metadata": {
        "id": "HuAFgofW3Sc0"
      },
      "source": [
        "#### ❗product category 결측치 채우기\n",
        "- sub category , category는 상속관계\n",
        "- 만약 sub category가 같은 값을 가지는 데 category가 다른 값을 가지는 경우 통일 시켜 **결측치 채우기**"
      ]
    },
    {
      "cell_type": "code",
      "execution_count": null,
      "id": "G0xLjdhm-8D-",
      "metadata": {
        "id": "G0xLjdhm-8D-"
      },
      "outputs": [],
      "source": [
        "# 최빈값으로 채우는 데에 방해되는 요소들 replace\n",
        "new_train_df['product_subcategory'].replace(\"diagnostic monitors\\u200b\",\"diagnostic monitors\", inplace=True)\n",
        "new_train_df['product_subcategory'].replace(\"all medical displays\",\"all medical display\", inplace=True)"
      ]
    },
    {
      "cell_type": "code",
      "execution_count": null,
      "id": "1npBFJXcOqbV",
      "metadata": {
        "colab": {
          "base_uri": "https://localhost:8080/"
        },
        "id": "1npBFJXcOqbV",
        "outputId": "1baab08a-462d-494b-ed58-23c48f91f8b2"
      },
      "outputs": [
        {
          "data": {
            "text/plain": [
              "{'oled pro monitor': 'led',\n",
              " 'diagnostic monitors': 'display',\n",
              " 'thin clients': 'cloud device',\n",
              " 'uhd 4k monitors': 'monitor pc',\n",
              " 'digital x ray detectors': 'display',\n",
              " 'zero clients': 'cloud device',\n",
              " 'all medical display': 'display',\n",
              " 'clinical review monitors': 'display',\n",
              " 'ips monitors': 'monitor pc',\n",
              " 'surgical monitors': 'display',\n",
              " 'other': 'display',\n",
              " 'all monitors pcs': 'monitor pc',\n",
              " 'laptops': 'monitor pc',\n",
              " 'probeam': 'projector',\n",
              " 'all cloud devices': 'cloud device',\n",
              " 'all projectors': 'projector',\n",
              " 'others': 'monitor',\n",
              " 'ultrawide™ monitors': 'monitor',\n",
              " 'tv monitors': 'monitor pc',\n",
              " 'interactive digital board': 'interactive signage'}"
            ]
          },
          "execution_count": 69,
          "metadata": {},
          "output_type": "execute_result"
        }
      ],
      "source": [
        "from collections import Counter\n",
        "\n",
        "# category가 null이고 subcategory가 null이 아닌 행을 필터링 후 리스트에 담기\n",
        "missing_category = new_train_df[(new_train_df['product_category'].isna()) & (~new_train_df['product_subcategory'].isna())]\n",
        "sub_list = missing_category['product_subcategory'].unique().tolist()\n",
        "\n",
        "# 리스트에 있는 값들 중 category가 null값이 아닌 값들\n",
        "filtered_rows = new_train_df[(new_train_df['product_subcategory'].isin(sub_list)) & (~new_train_df['product_category'].isna())][['product_category','product_subcategory']]\n",
        "\n",
        "# 딕셔너리에 매칭\n",
        "matching_dict = {}\n",
        "\n",
        "\n",
        "# 각 subcategory에 대해 가장 빈도가 높은 category 값을 찾기\n",
        "for subcategory in sub_list:\n",
        "    category_counts = Counter(filtered_rows[filtered_rows['product_subcategory'] == subcategory]['product_category'])\n",
        "    most_common_category = category_counts.most_common(1)\n",
        "    if most_common_category:\n",
        "        matching_dict[subcategory] = most_common_category[0][0]\n",
        "matching_dict"
      ]
    },
    {
      "cell_type": "code",
      "execution_count": null,
      "id": "wfaxvX9IQ8n7",
      "metadata": {
        "id": "wfaxvX9IQ8n7"
      },
      "outputs": [],
      "source": [
        "for index, row in new_train_df[(new_train_df['product_subcategory'].isin(sub_list)) & (new_train_df['product_category'].isna())].iterrows():\n",
        "    if row['product_subcategory'] in matching_dict:\n",
        "        new_train_df.at[index, 'product_category'] = matching_dict[row['product_subcategory']]"
      ]
    },
    {
      "cell_type": "code",
      "execution_count": null,
      "id": "32UwJ67JSAvn",
      "metadata": {
        "id": "32UwJ67JSAvn"
      },
      "outputs": [],
      "source": [
        "# new_train_df[new_train_df['product_subcategory'] == 'oled pro monitor'][['product_category','product_subcategory']]"
      ]
    },
    {
      "cell_type": "code",
      "execution_count": null,
      "id": "Vj_AsqImR3qW",
      "metadata": {
        "colab": {
          "base_uri": "https://localhost:8080/"
        },
        "id": "Vj_AsqImR3qW",
        "outputId": "d64b0610-a849-45f8-bd37-e73f0b31b182"
      },
      "outputs": [
        {
          "data": {
            "text/plain": [
              "18779"
            ]
          },
          "execution_count": 72,
          "metadata": {},
          "output_type": "execute_result"
        }
      ],
      "source": [
        "new_train_df['product_category'].isna().sum()"
      ]
    },
    {
      "cell_type": "code",
      "execution_count": null,
      "id": "sX0GxmnCg5GU",
      "metadata": {
        "colab": {
          "base_uri": "https://localhost:8080/"
        },
        "id": "sX0GxmnCg5GU",
        "outputId": "bd53ab58-79d0-4444-da57-afb2ecae8b68"
      },
      "outputs": [
        {
          "data": {
            "text/plain": [
              "{'lg supersign cms': 'board',\n",
              " '55ct5wj 43ht3wj sc 00da': 'procentric',\n",
              " 'sc 00da': 'one quick',\n",
              " '43ht3wj': 'one quick',\n",
              " '55ct5wj': 'one quick',\n",
              " 'ultrafine ergo 32un880': 'display',\n",
              " 'ergo dual 27qp88d': 'cloud device',\n",
              " '32un880': 'monitor',\n",
              " '31hn713d': 'display',\n",
              " '21hq513d': 'display',\n",
              " 'ultrawide ergo 34wn780': 'display',\n",
              " '28mq780': 'display'}"
            ]
          },
          "execution_count": 73,
          "metadata": {},
          "output_type": "execute_result"
        }
      ],
      "source": [
        "# model name으로도 똑같이 진행\n",
        "\n",
        "missing_category = new_train_df[(new_train_df['product_category'].isna()) & (~new_train_df['product_modelname'].isna())]\n",
        "sub_list = missing_category['product_modelname'].unique().tolist()\n",
        "\n",
        "# 리스트에 있는 값들 중 category가 null값이 아닌 값들\n",
        "filtered_rows = new_train_df[(new_train_df['product_modelname'].isin(sub_list)) & (~new_train_df['product_category'].isna())][['product_category','product_modelname']]\n",
        "\n",
        "# 딕셔너리에 매칭\n",
        "matching_dict = {}\n",
        "\n",
        "for subcategory in sub_list:\n",
        "    category_counts = Counter(filtered_rows[filtered_rows['product_modelname'] == subcategory]['product_category'])\n",
        "    most_common_category = category_counts.most_common(1)\n",
        "    if most_common_category:\n",
        "        matching_dict[subcategory] = most_common_category[0][0]\n",
        "matching_dict"
      ]
    },
    {
      "cell_type": "code",
      "execution_count": null,
      "id": "4ha2egvhTAXb",
      "metadata": {
        "id": "4ha2egvhTAXb"
      },
      "outputs": [],
      "source": [
        "for index, row in new_train_df[(new_train_df['product_modelname'].isin(sub_list)) & (new_train_df['product_category'].isna())].iterrows():\n",
        "    if row['product_modelname'] in matching_dict:\n",
        "        new_train_df.at[index, 'product_category'] = matching_dict[row['product_modelname']]"
      ]
    },
    {
      "cell_type": "code",
      "execution_count": null,
      "id": "juAc5nLhhNhM",
      "metadata": {
        "colab": {
          "base_uri": "https://localhost:8080/"
        },
        "id": "juAc5nLhhNhM",
        "outputId": "00a58866-5559-45ac-b2ca-859d114b067b"
      },
      "outputs": [
        {
          "data": {
            "text/plain": [
              "17425"
            ]
          },
          "execution_count": 75,
          "metadata": {},
          "output_type": "execute_result"
        }
      ],
      "source": [
        "new_train_df['product_category'].isna().sum()"
      ]
    },
    {
      "cell_type": "code",
      "execution_count": null,
      "id": "8jYTfBrfK0wp",
      "metadata": {
        "colab": {
          "base_uri": "https://localhost:8080/"
        },
        "id": "8jYTfBrfK0wp",
        "outputId": "62479ea4-f52b-47b6-b906-1ada909fd0fe"
      },
      "outputs": [
        {
          "data": {
            "text/plain": [
              "161"
            ]
          },
          "execution_count": 76,
          "metadata": {},
          "output_type": "execute_result"
        }
      ],
      "source": [
        "new_train_df['product_category'].nunique()"
      ]
    },
    {
      "cell_type": "code",
      "execution_count": null,
      "id": "4HZBAhiRE6MX",
      "metadata": {
        "id": "4HZBAhiRE6MX"
      },
      "outputs": [],
      "source": [
        "new_train_df['product_category'] = new_train_df['product_category'].fillna('other')\n",
        "new_test_df['product_category'] = new_test_df['product_category'].fillna('other')"
      ]
    },
    {
      "cell_type": "markdown",
      "id": "KvIWPfQr-fEN",
      "metadata": {
        "id": "KvIWPfQr-fEN"
      },
      "source": [
        "#### product category 상위범주 만들기"
      ]
    },
    {
      "cell_type": "code",
      "execution_count": null,
      "id": "8nh-vZh4-AMv",
      "metadata": {
        "id": "8nh-vZh4-AMv"
      },
      "outputs": [],
      "source": [
        "product_category_dict = {\n",
        "    # B2B Product Inquiry\n",
        "    'commmercial display' : ['commercial display', 'digital signage', 'commercial tv',\n",
        "                             'oled signage', 'led signage', 'video wall signage', 'interactive signage',\n",
        "                             'high brightness signage','special signage', 'standard signage', 'hotel tv',\n",
        "                             'hospital tv', 'accessories', 'software solution', 'signage care solution',\n",
        "                             'webos', 'pro:centric', 'one:quick series'],\n",
        "\n",
        "    'it products' : ['monitor', 'laptop', 'projector', 'cloud device', 'medical display'],\n",
        "\n",
        "    'hvac/ess' : ['control', 'ventilation', 'vrf', 'multi split', 'single split', 'chiller', 'heating'],\n",
        "\n",
        "    'commmercial laundry' : ['titan','giant'],\n",
        "\n",
        "    'compressor&motor' : ['compressor', 'reciprocating compressor', 'rotary compressor', 'scroll compressor', 'motor'],\n",
        "\n",
        "    'robot' : ['lg cloi carrybot', 'lg cloi servebot', 'lg cloi servebot', 'lg cloi guidebot'],\n",
        "\n",
        "    'advanced materials' : ['antimicrobial', 'porcelain enamel', 'specialty glass'],\n",
        "\n",
        "    # Integrated Solution Inquiry\n",
        "    'integrated solutions' : ['integrated solutions',\n",
        "                              'monitor', 'signage', 'commercial tv', 'ess', 'monior monitor tv',\n",
        "                              'pc', 'projector', 'robot', 'system ac', 'ems', 'rac', 'chiller', 'tv',\n",
        "                              'refrigerator', 'washing machine', 'aircare', 'vacuum cleaner', 'styler',\n",
        "                              'dryer', 'built in cooking', 'home beauty', 'water care', 'audio video']\n",
        "    # === monitor, robot, chiller이 B2B Product Inquiry과 중복 === 여러개 선택해서 그런듯\n",
        "    }\n",
        "\n",
        "product_category_replace_words = {\n",
        "    'robots' : 'robot',\n",
        "    'lg one:quick series' : 'one:quick series',\n",
        "    'lg one:quick' : 'one:quick series',\n",
        "    'aio | one quick' : 'one:quick series',\n",
        "    'onequick series' : 'one:quick series',\n",
        "    'one quick:flex' : 'one:quick series',\n",
        "    'one:quick flex' : 'one:quick series',\n",
        "    'one:quick' : 'one:quick series',\n",
        "    'standard' : 'standard signage',\n",
        "    'interactive digital board' : 'interactive signage',\n",
        "    'video wall' : 'video wall signage',\n",
        "    'high brightness' : 'high brightness signage',\n",
        "\n",
        "    'multi v 5 air' : 'vrf',\n",
        "    'multi v' : 'vrf',\n",
        "    'all lg vrf systems' : 'vrf',\n",
        "    'kimatyzacja vrf' : 'vrf',\n",
        "\n",
        "    'klimatyzacja multi split' : 'multi split',\n",
        "\n",
        "    'teto ou cassete inverter' : 'single split',\n",
        "    'ar condicionado residencial' : 'single split',\n",
        "    'residential air conditioner' : 'single split',\n",
        "\n",
        "    'medical displays' : 'medical display',\n",
        "    'surgical monitor' : 'monitor',\n",
        "    'medical monitors' : 'monitor',\n",
        "    'medical monitor' : 'monitor',\n",
        "\n",
        "    'uhd signage' : 'digital signage',\n",
        "    'ur640' : 'digital signage',\n",
        "    'ur640s' : 'digital signage'\n",
        "  }"
      ]
    },
    {
      "cell_type": "code",
      "execution_count": null,
      "id": "56z9ITDYM61f",
      "metadata": {
        "id": "56z9ITDYM61f"
      },
      "outputs": [],
      "source": [
        "new_train_df['product_category'][top_category] = 'integrated solutions'"
      ]
    },
    {
      "cell_type": "code",
      "execution_count": null,
      "id": "rex5qlat-Do7",
      "metadata": {
        "id": "rex5qlat-Do7"
      },
      "outputs": [],
      "source": [
        "product_category_list = []\n",
        "\n",
        "for category in list(product_category_dict.keys()):\n",
        "  product_category_list = product_category_list + product_category_dict[category]"
      ]
    },
    {
      "cell_type": "code",
      "execution_count": null,
      "id": "Pj6Q3YzBLnZy",
      "metadata": {
        "id": "Pj6Q3YzBLnZy"
      },
      "outputs": [],
      "source": [
        "new_train_df['product_category'] = new_train_df['product_category'].replace(product_category_replace_words)\n",
        "new_test_df['product_category'] = new_test_df['product_category'].replace(product_category_replace_words)"
      ]
    },
    {
      "cell_type": "code",
      "execution_count": null,
      "id": "76VHYn249-mE",
      "metadata": {
        "id": "76VHYn249-mE"
      },
      "outputs": [],
      "source": [
        "def process_product_category(text):\n",
        "  result = text\n",
        "\n",
        "  if pd.isna(text):\n",
        "    return 'other'\n",
        "\n",
        "  for new_category, keywords in product_category_dict.items():\n",
        "    if text == new_category or text in keywords:\n",
        "      return new_category\n",
        "\n",
        "  return 'other'"
      ]
    },
    {
      "cell_type": "code",
      "execution_count": null,
      "id": "MtbBSOz7-XiV",
      "metadata": {
        "id": "MtbBSOz7-XiV"
      },
      "outputs": [],
      "source": [
        "# product_category 상위 범주\n",
        "new_train_df['product_category_0'] = new_train_df['product_category'].apply(process_product_category)\n",
        "new_test_df['product_category_0'] = new_test_df['product_category'].apply(process_product_category)"
      ]
    },
    {
      "cell_type": "code",
      "execution_count": null,
      "id": "1085Rsix-49R",
      "metadata": {
        "colab": {
          "base_uri": "https://localhost:8080/"
        },
        "id": "1085Rsix-49R",
        "outputId": "5df5beec-6dbe-4446-e366-6fc1a2f043f1"
      },
      "outputs": [
        {
          "data": {
            "text/plain": [
              "product_category_0\n",
              "other                   31241\n",
              "hvac/ess                13263\n",
              "commmercial display      7602\n",
              "integrated solutions     2385\n",
              "it products              1166\n",
              "robot                       6\n",
              "compressor&motor            1\n",
              "Name: count, dtype: int64"
            ]
          },
          "execution_count": 84,
          "metadata": {},
          "output_type": "execute_result"
        }
      ],
      "source": [
        "new_train_df['product_category_0'].value_counts()"
      ]
    },
    {
      "cell_type": "code",
      "execution_count": null,
      "id": "283kcM1x_BtK",
      "metadata": {
        "colab": {
          "base_uri": "https://localhost:8080/"
        },
        "id": "283kcM1x_BtK",
        "outputId": "6d4af8e2-d4f3-4754-c4b5-a11b222a9e00"
      },
      "outputs": [
        {
          "data": {
            "text/plain": [
              "product_category_0\n",
              "other                   2597\n",
              "hvac/ess                1659\n",
              "commmercial display      910\n",
              "it products              101\n",
              "integrated solutions       4\n",
              "Name: count, dtype: int64"
            ]
          },
          "execution_count": 85,
          "metadata": {},
          "output_type": "execute_result"
        }
      ],
      "source": [
        "new_test_df['product_category_0'].value_counts()"
      ]
    },
    {
      "cell_type": "markdown",
      "id": "-e0sg_Vym2-T",
      "metadata": {
        "id": "-e0sg_Vym2-T"
      },
      "source": [
        "### ⬜ ❗ product_subcategory"
      ]
    },
    {
      "cell_type": "code",
      "execution_count": null,
      "id": "n6GxHniLgnmj",
      "metadata": {
        "colab": {
          "base_uri": "https://localhost:8080/"
        },
        "id": "n6GxHniLgnmj",
        "outputId": "acf58802-0eb8-4094-b162-866653ef989b"
      },
      "outputs": [
        {
          "data": {
            "text/plain": [
              "46658"
            ]
          },
          "execution_count": 86,
          "metadata": {},
          "output_type": "execute_result"
        }
      ],
      "source": [
        "new_train_df['product_subcategory'].isna().sum()"
      ]
    },
    {
      "cell_type": "code",
      "execution_count": null,
      "id": "L57BkQsPgMn5",
      "metadata": {
        "colab": {
          "base_uri": "https://localhost:8080/"
        },
        "id": "L57BkQsPgMn5",
        "outputId": "e0e5d3d2-ad04-4271-be02-4f38d6a81efe"
      },
      "outputs": [
        {
          "data": {
            "text/plain": [
              "{'sc 00da': 'one:quick share',\n",
              " '43ht3wj': 'one:quick flex',\n",
              " '55ct5wj': 'one:quick works',\n",
              " 'ultrafine ergo 32un880': 'all medical display',\n",
              " '32un880': 'oled monitors',\n",
              " '31hn713d': 'diagnostic monitors',\n",
              " '21hq513d': 'all medical display',\n",
              " '28mq780': 'diagnostic monitors',\n",
              " 'ltak140': 'transparent led film',\n",
              " 'lad033f': 'led cinema',\n",
              " '75xs4g': 'window facing display',\n",
              " '43us660h': 'us660h series',\n",
              " '49vl5g m': '49\" 500 nits fhd slim bezel video wall',\n",
              " 'idb': 'idb',\n",
              " 'ultrawide ergo 34wn780': 'diagnostic monitors',\n",
              " '32hl512d': 'diagnostic monitors'}"
            ]
          },
          "execution_count": 87,
          "metadata": {},
          "output_type": "execute_result"
        }
      ],
      "source": [
        "# model name으로 sub category 채우기\n",
        "\n",
        "missing_category = new_train_df[(new_train_df['product_subcategory'].isna()) & (~new_train_df['product_modelname'].isna())]\n",
        "sub_list = missing_category['product_modelname'].unique().tolist()\n",
        "\n",
        "# 리스트에 있는 값들 중 category가 null값이 아닌 값들\n",
        "filtered_rows = new_train_df[(new_train_df['product_modelname'].isin(sub_list)) & (~new_train_df['product_subcategory'].isna())][['product_subcategory','product_modelname']]\n",
        "\n",
        "# 딕셔너리에 매칭\n",
        "matching_dict = {}\n",
        "\n",
        "for subcategory in sub_list:\n",
        "    category_counts = Counter(filtered_rows[filtered_rows['product_modelname'] == subcategory]['product_subcategory'])\n",
        "    most_common_category = category_counts.most_common(1)\n",
        "    if most_common_category:\n",
        "        matching_dict[subcategory] = most_common_category[0][0]\n",
        "\n",
        "matching_dict"
      ]
    },
    {
      "cell_type": "code",
      "execution_count": null,
      "id": "dRb8X85aTqnB",
      "metadata": {
        "id": "dRb8X85aTqnB"
      },
      "outputs": [],
      "source": [
        "for index, row in new_train_df[(new_train_df['product_modelname'].isin(sub_list)) & (new_train_df['product_subcategory'].isna())].iterrows():\n",
        "    if row['product_modelname'] in matching_dict:\n",
        "        new_train_df.at[index, 'product_subcategory'] = matching_dict[row['product_modelname']]"
      ]
    },
    {
      "cell_type": "code",
      "execution_count": null,
      "id": "eu1hZArKgx2_",
      "metadata": {
        "colab": {
          "base_uri": "https://localhost:8080/"
        },
        "id": "eu1hZArKgx2_",
        "outputId": "16fbcd31-fe80-44bf-b226-1ffdeebbb02f"
      },
      "outputs": [
        {
          "data": {
            "text/plain": [
              "45465"
            ]
          },
          "execution_count": 89,
          "metadata": {},
          "output_type": "execute_result"
        }
      ],
      "source": [
        "new_train_df['product_subcategory'].isna().sum()"
      ]
    },
    {
      "cell_type": "code",
      "execution_count": null,
      "id": "TrzRuYVOV8g_",
      "metadata": {
        "id": "TrzRuYVOV8g_"
      },
      "outputs": [],
      "source": [
        "new_train_df['product_subcategory'].fillna('other', inplace=True)\n",
        "new_test_df['product_subcategory'].fillna('other', inplace=True)\n",
        "new_train_df['product_modelname'].fillna('other', inplace=True)\n",
        "new_test_df['product_modelname'].fillna('other', inplace=True)"
      ]
    },
    {
      "cell_type": "markdown",
      "id": "HlAlof9Gs2Ek",
      "metadata": {
        "id": "HlAlof9Gs2Ek"
      },
      "source": [
        "### 🟦 business_area, business_subarea\n",
        "- business area는 다른데 business_subarea가 같은 경우를 다르게 처리하기 위해 열을 묶어서 하나의 열로 만들어주기"
      ]
    },
    {
      "cell_type": "code",
      "execution_count": null,
      "id": "wg7xQHaVtAo1",
      "metadata": {
        "id": "wg7xQHaVtAo1"
      },
      "outputs": [],
      "source": [
        "new_train_df['business_subarea'] = new_train_df['business_subarea'].apply(process_etc)\n",
        "new_train_df['business_area'] = new_train_df['business_area'].apply(process_etc)\n",
        "\n",
        "new_train_df['business'] = new_train_df['business_subarea'].str.cat(new_train_df['business_area'], sep=' / ')\n",
        "\n",
        "##\n",
        "new_test_df['business_subarea'] = new_test_df['business_subarea'].apply(process_etc)\n",
        "new_test_df['business_area'] = new_test_df['business_area'].apply(process_etc)\n",
        "\n",
        "new_test_df['business'] = new_test_df['business_subarea'].str.cat(new_test_df['business_area'], sep=' / ')"
      ]
    },
    {
      "cell_type": "code",
      "execution_count": null,
      "id": "ABG9ynvBhx6U",
      "metadata": {
        "id": "ABG9ynvBhx6U"
      },
      "outputs": [],
      "source": [
        "new_train_df['business_area'].fillna('other', inplace=True)\n",
        "new_train_df['business'].fillna('other', inplace=True)"
      ]
    },
    {
      "cell_type": "code",
      "execution_count": null,
      "id": "lNP_g6LA3X4e",
      "metadata": {
        "colab": {
          "base_uri": "https://localhost:8080/"
        },
        "id": "lNP_g6LA3X4e",
        "outputId": "e0843fb9-bbeb-4e83-fa72-27f57d104dc0"
      },
      "outputs": [
        {
          "name": "stdout",
          "output_type": "stream",
          "text": [
            "corporate / office 3989\n",
            "other 37877\n",
            "education 1682\n",
            "hotel accommodation 1960\n",
            "hospital health care 1023\n",
            "special purpose 1873\n",
            "residential home 1786\n",
            "government department 635\n",
            "retail 2924\n",
            "factory 1013\n",
            "power plant / renewable energy 108\n",
            "transportation 292\n",
            "public facility 502\n"
          ]
        }
      ],
      "source": [
        "for x in new_train_df['business_area'].unique():\n",
        "    print(x, new_train_df['business_area'].value_counts()[x])"
      ]
    },
    {
      "cell_type": "code",
      "execution_count": null,
      "id": "oXEd9LK3Ma1S",
      "metadata": {
        "colab": {
          "base_uri": "https://localhost:8080/"
        },
        "id": "oXEd9LK3Ma1S",
        "outputId": "32788084-3101-4079-e463-e9d7e2d9c470"
      },
      "outputs": [
        {
          "name": "stdout",
          "output_type": "stream",
          "text": [
            "engineering / corporate / office 173\n",
            "advertising / corporate / office 118\n",
            "construction / corporate / office 182\n",
            "it/software / corporate / office 125\n",
            "other 52069\n",
            "manufacturing / corporate / office 40\n",
            "energy / corporate / office 24\n",
            "developer/property / corporate / office 27\n",
            "entertainment / corporate / office 33\n",
            "agriculture / corporate / office 13\n",
            "pharmaceutical / corporate / office 7\n",
            "banking / corporate / office 16\n",
            "consulting / corporate / office 46\n",
            "healthcare / corporate / office 24\n",
            "finance / corporate / office 30\n",
            "broadcasting media / corporate / office 38\n",
            "distribution center / corporate / office 16\n",
            "law firm / corporate / office 16\n",
            "logistics / corporate / office 14\n",
            "telecommunication / corporate / office 37\n",
            "aerospace / corporate / office 5\n",
            "network/cabling / corporate / office 6\n",
            "insurance / corporate / office 5\n",
            "institute academy / education 102\n",
            "hotel / hotel accommodation 35\n",
            "k12 kindergarten schools / education 125\n",
            "hospital / hospital health care 245\n",
            "mixed use multi complex / special purpose 98\n",
            "telecom base station / data call / special purpose 19\n",
            "botanical garden / green house / special purpose 8\n",
            "higher education college university / education 177\n",
            "clinic / hospital health care 98\n",
            "general hospital / hospital health care 58\n",
            "fitness / hospital health care 7\n",
            "ltc long term care / hospital health care 6\n",
            "villa / single family home / residential home 166\n",
            "apartment / residential home 157\n",
            "townhouse / residential home 20\n",
            "officetel / residential home 2\n",
            "general government office / government department 88\n",
            "military / government department 28\n",
            "police / fire station / government department 9\n",
            "welfare facilities / government department 5\n",
            "other stores / retail 270\n",
            "luxury watch/jewelry shop / retail 14\n",
            "electronics telco / retail 131\n",
            "sports entertainment / retail 20\n",
            "cvs convenience store / retail 2\n",
            "car dealership / retail 15\n",
            "fashion / retail 96\n",
            "qsr quick service restaurant / retail 10\n",
            "hyper market grocery / retail 10\n",
            "shopping mall / retail 46\n",
            "cosmetics / retail 18\n",
            "gas station / retail 4\n",
            "bookstore / retail 11\n",
            "pharmacy / retail 11\n",
            "real estate agency / retail 11\n",
            "restaurant / retail 3\n",
            "f b food and beverage / retail 2\n",
            "resort / hotel accommodation 7\n",
            "casino resort / hotel accommodation 1\n",
            "cruise / hotel accommodation 49\n",
            "dormitory / hotel accommodation 1\n",
            "manufacturing factory / plant / factory 190\n",
            "chemical factory / plant / factory 20\n",
            "pharmaceutical factory / factory 9\n",
            "renewable energy / power plant / renewable energy 27\n",
            "power plant / power plant / renewable energy 15\n",
            "energy storage saving / power plant / renewable energy 10\n",
            "railway metro station / transportation 9\n",
            "airport / airfield / helipad / transportation 30\n",
            "bus terminal / transportation 5\n",
            "sea passenger terminal / port / transportation 9\n",
            "exhibition / convention center / public facility 16\n",
            "museum / gallery / public facility 13\n",
            "outdoor advertisement / public facility 8\n",
            "cinema /theater / public facility 5\n",
            "religious facility / public facility 8\n",
            "sports / public facility 21\n",
            "mining / corporate / office 10\n",
            "holdings / corporate / office 1\n",
            "airline / corporate / office 4\n",
            "investment / corporate / office 2\n",
            "travel agency / retail 1\n",
            "duty free shop / retail 2\n"
          ]
        }
      ],
      "source": [
        "for x in new_train_df['business'].unique():\n",
        "    print(x, new_train_df['business'].value_counts()[x])"
      ]
    },
    {
      "cell_type": "markdown",
      "id": "h7yV1t_G6FSM",
      "metadata": {
        "id": "h7yV1t_G6FSM"
      },
      "source": [
        "### 🟦 business_unit"
      ]
    },
    {
      "cell_type": "code",
      "execution_count": null,
      "id": "_8x8gtgW6G0U",
      "metadata": {
        "colab": {
          "base_uri": "https://localhost:8080/"
        },
        "id": "_8x8gtgW6G0U",
        "outputId": "be52da0f-303c-488a-d317-17e5ecd6da72"
      },
      "outputs": [
        {
          "name": "stdout",
          "output_type": "stream",
          "text": [
            "as 22623\n",
            "id 24777\n",
            "it 7976\n",
            "solution 287\n",
            "cm 1\n"
          ]
        }
      ],
      "source": [
        "for x in new_train_df['business_unit'].unique():\n",
        "    print(x, new_train_df['business_unit'].value_counts()[x])"
      ]
    },
    {
      "cell_type": "code",
      "execution_count": null,
      "id": "ZEgGGAlY7Jx0",
      "metadata": {
        "colab": {
          "base_uri": "https://localhost:8080/"
        },
        "id": "ZEgGGAlY7Jx0",
        "outputId": "a79df8ec-8f46-4a7a-84a2-5929ce4ae331"
      },
      "outputs": [
        {
          "name": "stdout",
          "output_type": "stream",
          "text": [
            "as 22623\n",
            "id 24777\n",
            "it 7976\n",
            "solution 287\n",
            "cm 1\n"
          ]
        }
      ],
      "source": [
        "for x in new_train_df['business_unit'].unique():\n",
        "    print(x, new_train_df['business_unit'].value_counts()[x])"
      ]
    },
    {
      "cell_type": "markdown",
      "id": "56uZJmhfD6BZ",
      "metadata": {
        "id": "56uZJmhfD6BZ"
      },
      "source": [
        "### 🟦 enterprise\n",
        "- 캣부스트에 의해 원핫인코딩이 진행됨"
      ]
    },
    {
      "cell_type": "markdown",
      "id": "OEEEUovCYBFn",
      "metadata": {
        "id": "OEEEUovCYBFn"
      },
      "source": []
    },
    {
      "cell_type": "markdown",
      "id": "iT_Zmic6sFX_",
      "metadata": {
        "id": "iT_Zmic6sFX_"
      },
      "source": [
        "### 🟦 expected_timeline\n",
        "\n",
        "ex.\n",
        "less than 3 months => 0~3개월 => 1.5\n",
        "\n",
        "3 months 6 months => 3~6개월 => 4.5\n",
        "\n",
        "more than a year => 12개월 + 6개월 => 18\n",
        "\n",
        "9 months 1 year => 9~12개월 => 10.5\n",
        "\n",
        "그 외 => 평균값"
      ]
    },
    {
      "cell_type": "code",
      "execution_count": null,
      "id": "ajaB5GiEsYQM",
      "metadata": {
        "colab": {
          "base_uri": "https://localhost:8080/"
        },
        "id": "ajaB5GiEsYQM",
        "outputId": "a9acb5c5-817c-4ded-f4f6-c43e26722cf4"
      },
      "outputs": [
        {
          "data": {
            "text/plain": [
              "expected_timeline\n",
              "less than 3 months                                                                                                         16843\n",
              "3 months 6 months                                                                                                           4807\n",
              "more than a year                                                                                                            2878\n",
              "9 months 1 year                                                                                                             1077\n",
              "6 months 9 months                                                                                                           1047\n",
              "                                                                                                                           ...  \n",
              "our partner vis networks is working on this inquiry and client is cross checking the prices hence closing in the system        1\n",
              "looking for active led in a range of 5 lakhs not a prospetive buyer                                                            1\n",
              "not answering call | as on 11th june customer phone is not reachable i am dropping this lead and forwarding to partner         1\n",
              "his budget is very low                                                                                                         1\n",
              "up to december                                                                                                                 1\n",
              "Name: count, Length: 436, dtype: int64"
            ]
          },
          "execution_count": 97,
          "metadata": {},
          "output_type": "execute_result"
        }
      ],
      "source": [
        "new_train_df['expected_timeline'].value_counts()"
      ]
    },
    {
      "cell_type": "code",
      "execution_count": null,
      "id": "BUM-XMc7sgDu",
      "metadata": {
        "colab": {
          "base_uri": "https://localhost:8080/"
        },
        "id": "BUM-XMc7sgDu",
        "outputId": "b48158fd-6318-431b-d4b8-9710a12902a5"
      },
      "outputs": [
        {
          "data": {
            "text/plain": [
              "expected_timeline\n",
              "less than 3 months    1734\n",
              "3 months 6 months      426\n",
              "more than a year       272\n",
              "9 months 1 year        264\n",
              "6 months 9 months      167\n",
              "Name: count, dtype: int64"
            ]
          },
          "execution_count": 98,
          "metadata": {},
          "output_type": "execute_result"
        }
      ],
      "source": [
        "new_test_df['expected_timeline'].value_counts()"
      ]
    },
    {
      "cell_type": "code",
      "execution_count": null,
      "id": "io32pEXQsiwm",
      "metadata": {
        "id": "io32pEXQsiwm"
      },
      "outputs": [],
      "source": [
        "def is_period(text):\n",
        "  if pd.isna(text):\n",
        "      return np.nan\n",
        "  for keyword in ['month', 'year']:\n",
        "    if keyword in text:\n",
        "      return text\n",
        "    else:\n",
        "      continue\n",
        "  return np.nan"
      ]
    },
    {
      "cell_type": "code",
      "execution_count": null,
      "id": "QGwSuBqOskml",
      "metadata": {
        "id": "QGwSuBqOskml"
      },
      "outputs": [],
      "source": [
        "# 기간으로 표현할 수 있는 데이터만 뽑아냄\n",
        "period_timeline_train = new_train_df['expected_timeline'].apply(is_period).copy()\n",
        "period_timeline_test = new_test_df['expected_timeline'].apply(is_period).copy()"
      ]
    },
    {
      "cell_type": "code",
      "execution_count": null,
      "id": "aC6-C8hzsu2A",
      "metadata": {
        "colab": {
          "base_uri": "https://localhost:8080/"
        },
        "id": "aC6-C8hzsu2A",
        "outputId": "f75801cb-f14e-4bf4-b722-bcd68dde0d8f"
      },
      "outputs": [
        {
          "data": {
            "text/plain": [
              "('9 months 2 years', [9.0, 24.0])"
            ]
          },
          "execution_count": 101,
          "metadata": {},
          "output_type": "execute_result"
        }
      ],
      "source": [
        "def extract_numbers(text):\n",
        "  # 'a', 'one', 'next'을 숫자 1로 대체\n",
        "  text = re.sub(r'\\ba\\b', '1', text)\n",
        "  text = re.sub(r'\\bone\\b', '1', text)\n",
        "  text = re.sub(r'\\bnext\\b', '1', text)\n",
        "\n",
        "  numbers = re.findall(r'\\d+', text)\n",
        "\n",
        "  cleaned_numbers = []\n",
        "  for number in numbers:\n",
        "    # 숫자 뒤에 'month'나 'year'가 있는지 확인하고 number list에 담아줌\n",
        "    # year이면 12개월이므로 12를 곱해줌\n",
        "    if re.search(r'\\b{}\\s*(month)s?\\b'.format(number), text):\n",
        "      cleaned_numbers.append(float(number))\n",
        "    elif re.search(r'\\b{}\\s*(year)s?\\b'.format(number), text):\n",
        "      cleaned_numbers.append(float(number)*12)\n",
        "\n",
        "  return text, cleaned_numbers\n",
        "\n",
        "t, n = extract_numbers('9 months 2 years')\n",
        "t, n"
      ]
    },
    {
      "cell_type": "code",
      "execution_count": null,
      "id": "DFKSHIp9szdL",
      "metadata": {
        "colab": {
          "base_uri": "https://localhost:8080/"
        },
        "id": "DFKSHIp9szdL",
        "outputId": "1682ab1b-4bc9-4f03-9622-1bd9f8349039"
      },
      "outputs": [
        {
          "data": {
            "text/plain": [
              "16.5"
            ]
          },
          "execution_count": 102,
          "metadata": {},
          "output_type": "execute_result"
        }
      ],
      "source": [
        "def timeline_to_number(text):\n",
        "  if pd.isna(text):\n",
        "        return np.nan\n",
        "\n",
        "  # 문자열에서 숫자 추출\n",
        "  _, numbers = extract_numbers(text)\n",
        "  if len(numbers) == 1:\n",
        "    num = numbers[0]\n",
        "    if 'less than' in text:\n",
        "      return num / 2\n",
        "    elif 'more than' in text: # 6개월 후로 바꿔줌\n",
        "      return (6 + num)\n",
        "    else:\n",
        "      return num\n",
        "\n",
        "  elif len(numbers) == 2: # 기간일 때\n",
        "      num1 = numbers[0]\n",
        "      num2 = numbers[1]\n",
        "      return (num1 + num2) / 2\n",
        "\n",
        "  else:\n",
        "      return np.nan  # 처리할 수 없는 경우 np.nan 반환\n",
        "\n",
        "timeline_to_number('9 months 2 years')"
      ]
    },
    {
      "cell_type": "code",
      "execution_count": null,
      "id": "Bguy7EF9s76i",
      "metadata": {
        "id": "Bguy7EF9s76i"
      },
      "outputs": [],
      "source": [
        "period_timeline_train = period_timeline_train.apply(timeline_to_number)\n",
        "period_timeline_test = period_timeline_test.apply(timeline_to_number)\n",
        "\n",
        "# data leakage 조심"
      ]
    },
    {
      "cell_type": "code",
      "execution_count": null,
      "id": "i1S2X_nEtAAi",
      "metadata": {
        "id": "i1S2X_nEtAAi"
      },
      "outputs": [],
      "source": [
        "new_train_df['expected_timeline_num'] = period_timeline_train.fillna(0)\n",
        "new_test_df['expected_timeline_num'] = period_timeline_test.fillna(0)"
      ]
    },
    {
      "cell_type": "code",
      "execution_count": null,
      "id": "CF-NUHRWt6Zq",
      "metadata": {
        "id": "CF-NUHRWt6Zq"
      },
      "outputs": [],
      "source": [
        "new_train_df.drop(['expected_timeline'], axis = 1, inplace = True)\n",
        "new_test_df.drop(['expected_timeline'], axis = 1, inplace = True)"
      ]
    },
    {
      "cell_type": "code",
      "execution_count": null,
      "id": "zZcFCLL_uDr_",
      "metadata": {
        "colab": {
          "base_uri": "https://localhost:8080/",
          "height": 738
        },
        "id": "zZcFCLL_uDr_",
        "outputId": "f66b73e1-b908-44fc-ddc5-bb779a65c564"
      },
      "outputs": [
        {
          "data": {
            "text/html": [
              "<div>\n",
              "<style scoped>\n",
              "    .dataframe tbody tr th:only-of-type {\n",
              "        vertical-align: middle;\n",
              "    }\n",
              "\n",
              "    .dataframe tbody tr th {\n",
              "        vertical-align: top;\n",
              "    }\n",
              "\n",
              "    .dataframe thead th {\n",
              "        text-align: right;\n",
              "    }\n",
              "</style>\n",
              "<table border=\"1\" class=\"dataframe\">\n",
              "  <thead>\n",
              "    <tr style=\"text-align: right;\">\n",
              "      <th></th>\n",
              "      <th>bant_submit</th>\n",
              "      <th>business_unit</th>\n",
              "      <th>com_reg_ver_win_rate</th>\n",
              "      <th>customer_idx</th>\n",
              "      <th>customer_type</th>\n",
              "      <th>enterprise</th>\n",
              "      <th>historical_existing_cnt</th>\n",
              "      <th>customer_job</th>\n",
              "      <th>lead_desc_length</th>\n",
              "      <th>inquiry_type</th>\n",
              "      <th>...</th>\n",
              "      <th>ver_win_ratio_per_bu</th>\n",
              "      <th>business_area</th>\n",
              "      <th>business_subarea</th>\n",
              "      <th>lead_owner</th>\n",
              "      <th>is_converted</th>\n",
              "      <th>country</th>\n",
              "      <th>city</th>\n",
              "      <th>product_category_0</th>\n",
              "      <th>business</th>\n",
              "      <th>expected_timeline_num</th>\n",
              "    </tr>\n",
              "  </thead>\n",
              "  <tbody>\n",
              "    <tr>\n",
              "      <th>0</th>\n",
              "      <td>1.00</td>\n",
              "      <td>as</td>\n",
              "      <td>0.066667</td>\n",
              "      <td>32160</td>\n",
              "      <td>endcustomer</td>\n",
              "      <td>enterprise</td>\n",
              "      <td>0.000000</td>\n",
              "      <td>purchasing</td>\n",
              "      <td>4.143135</td>\n",
              "      <td>quotation or purchase consultation</td>\n",
              "      <td>...</td>\n",
              "      <td>0.026846</td>\n",
              "      <td>corporate / office</td>\n",
              "      <td>engineering</td>\n",
              "      <td>0</td>\n",
              "      <td>True</td>\n",
              "      <td>philippines</td>\n",
              "      <td>quezon city</td>\n",
              "      <td>hvac/ess</td>\n",
              "      <td>engineering / corporate / office</td>\n",
              "      <td>1.5</td>\n",
              "    </tr>\n",
              "    <tr>\n",
              "      <th>1</th>\n",
              "      <td>1.00</td>\n",
              "      <td>as</td>\n",
              "      <td>0.066667</td>\n",
              "      <td>23122</td>\n",
              "      <td>endcustomer</td>\n",
              "      <td>enterprise</td>\n",
              "      <td>2.564949</td>\n",
              "      <td>media and communication</td>\n",
              "      <td>4.574711</td>\n",
              "      <td>quotation or purchase consultation</td>\n",
              "      <td>...</td>\n",
              "      <td>0.026846</td>\n",
              "      <td>corporate / office</td>\n",
              "      <td>advertising</td>\n",
              "      <td>1</td>\n",
              "      <td>True</td>\n",
              "      <td>philippines</td>\n",
              "      <td>ph 00</td>\n",
              "      <td>hvac/ess</td>\n",
              "      <td>advertising / corporate / office</td>\n",
              "      <td>1.5</td>\n",
              "    </tr>\n",
              "    <tr>\n",
              "      <th>2</th>\n",
              "      <td>1.00</td>\n",
              "      <td>as</td>\n",
              "      <td>0.088889</td>\n",
              "      <td>1755</td>\n",
              "      <td>endcustomer</td>\n",
              "      <td>enterprise</td>\n",
              "      <td>4.976734</td>\n",
              "      <td>engineering</td>\n",
              "      <td>4.043051</td>\n",
              "      <td>product information</td>\n",
              "      <td>...</td>\n",
              "      <td>0.026846</td>\n",
              "      <td>corporate / office</td>\n",
              "      <td>construction</td>\n",
              "      <td>2</td>\n",
              "      <td>True</td>\n",
              "      <td>india</td>\n",
              "      <td>kolkata</td>\n",
              "      <td>hvac/ess</td>\n",
              "      <td>construction / corporate / office</td>\n",
              "      <td>1.5</td>\n",
              "    </tr>\n",
              "    <tr>\n",
              "      <th>3</th>\n",
              "      <td>1.00</td>\n",
              "      <td>as</td>\n",
              "      <td>0.088889</td>\n",
              "      <td>4919</td>\n",
              "      <td>endcustomer</td>\n",
              "      <td>enterprise</td>\n",
              "      <td>0.000000</td>\n",
              "      <td>entrepreneurship</td>\n",
              "      <td>3.806662</td>\n",
              "      <td>quotation or purchase consultation</td>\n",
              "      <td>...</td>\n",
              "      <td>0.026846</td>\n",
              "      <td>corporate / office</td>\n",
              "      <td>it/software</td>\n",
              "      <td>3</td>\n",
              "      <td>True</td>\n",
              "      <td>india</td>\n",
              "      <td>bhubaneswar</td>\n",
              "      <td>hvac/ess</td>\n",
              "      <td>it/software / corporate / office</td>\n",
              "      <td>1.5</td>\n",
              "    </tr>\n",
              "    <tr>\n",
              "      <th>4</th>\n",
              "      <td>1.00</td>\n",
              "      <td>as</td>\n",
              "      <td>0.088889</td>\n",
              "      <td>17126</td>\n",
              "      <td>specifier/influencer</td>\n",
              "      <td>enterprise</td>\n",
              "      <td>0.000000</td>\n",
              "      <td>consulting</td>\n",
              "      <td>4.584967</td>\n",
              "      <td>quotation or purchase consultation</td>\n",
              "      <td>...</td>\n",
              "      <td>0.026846</td>\n",
              "      <td>corporate / office</td>\n",
              "      <td>NaN</td>\n",
              "      <td>4</td>\n",
              "      <td>True</td>\n",
              "      <td>india</td>\n",
              "      <td>hyderabad</td>\n",
              "      <td>hvac/ess</td>\n",
              "      <td>other</td>\n",
              "      <td>1.5</td>\n",
              "    </tr>\n",
              "    <tr>\n",
              "      <th>...</th>\n",
              "      <td>...</td>\n",
              "      <td>...</td>\n",
              "      <td>...</td>\n",
              "      <td>...</td>\n",
              "      <td>...</td>\n",
              "      <td>...</td>\n",
              "      <td>...</td>\n",
              "      <td>...</td>\n",
              "      <td>...</td>\n",
              "      <td>...</td>\n",
              "      <td>...</td>\n",
              "      <td>...</td>\n",
              "      <td>...</td>\n",
              "      <td>...</td>\n",
              "      <td>...</td>\n",
              "      <td>...</td>\n",
              "      <td>...</td>\n",
              "      <td>...</td>\n",
              "      <td>...</td>\n",
              "      <td>...</td>\n",
              "      <td>...</td>\n",
              "    </tr>\n",
              "    <tr>\n",
              "      <th>59293</th>\n",
              "      <td>1.00</td>\n",
              "      <td>as</td>\n",
              "      <td>0.000000</td>\n",
              "      <td>33747</td>\n",
              "      <td>endcustomer</td>\n",
              "      <td>smb</td>\n",
              "      <td>0.000000</td>\n",
              "      <td>engineering</td>\n",
              "      <td>5.303305</td>\n",
              "      <td>product information</td>\n",
              "      <td>...</td>\n",
              "      <td>0.028777</td>\n",
              "      <td>public facility</td>\n",
              "      <td>NaN</td>\n",
              "      <td>694</td>\n",
              "      <td>False</td>\n",
              "      <td>poland</td>\n",
              "      <td>sląskie</td>\n",
              "      <td>hvac/ess</td>\n",
              "      <td>other</td>\n",
              "      <td>4.5</td>\n",
              "    </tr>\n",
              "    <tr>\n",
              "      <th>59295</th>\n",
              "      <td>0.75</td>\n",
              "      <td>as</td>\n",
              "      <td>0.040000</td>\n",
              "      <td>35420</td>\n",
              "      <td>specifier/influencer</td>\n",
              "      <td>enterprise</td>\n",
              "      <td>0.000000</td>\n",
              "      <td>entrepreneurship</td>\n",
              "      <td>4.262680</td>\n",
              "      <td>other</td>\n",
              "      <td>...</td>\n",
              "      <td>0.028777</td>\n",
              "      <td>public facility</td>\n",
              "      <td>NaN</td>\n",
              "      <td>39</td>\n",
              "      <td>False</td>\n",
              "      <td>colombia</td>\n",
              "      <td>bogotá dc</td>\n",
              "      <td>other</td>\n",
              "      <td>other</td>\n",
              "      <td>10.5</td>\n",
              "    </tr>\n",
              "    <tr>\n",
              "      <th>59296</th>\n",
              "      <td>0.75</td>\n",
              "      <td>as</td>\n",
              "      <td>0.040000</td>\n",
              "      <td>19249</td>\n",
              "      <td>specifier/influencer</td>\n",
              "      <td>enterprise</td>\n",
              "      <td>0.000000</td>\n",
              "      <td>engineering</td>\n",
              "      <td>3.555348</td>\n",
              "      <td>other</td>\n",
              "      <td>...</td>\n",
              "      <td>0.028777</td>\n",
              "      <td>public facility</td>\n",
              "      <td>NaN</td>\n",
              "      <td>125</td>\n",
              "      <td>False</td>\n",
              "      <td>peru</td>\n",
              "      <td>pisco</td>\n",
              "      <td>hvac/ess</td>\n",
              "      <td>other</td>\n",
              "      <td>1.5</td>\n",
              "    </tr>\n",
              "    <tr>\n",
              "      <th>59297</th>\n",
              "      <td>1.00</td>\n",
              "      <td>as</td>\n",
              "      <td>0.040000</td>\n",
              "      <td>40327</td>\n",
              "      <td>other</td>\n",
              "      <td>enterprise</td>\n",
              "      <td>0.000000</td>\n",
              "      <td>entrepreneurship</td>\n",
              "      <td>5.934894</td>\n",
              "      <td>quotation or purchase consultation</td>\n",
              "      <td>...</td>\n",
              "      <td>0.028777</td>\n",
              "      <td>public facility</td>\n",
              "      <td>NaN</td>\n",
              "      <td>134</td>\n",
              "      <td>False</td>\n",
              "      <td>peru</td>\n",
              "      <td>santa cruz bolivia</td>\n",
              "      <td>other</td>\n",
              "      <td>other</td>\n",
              "      <td>18.0</td>\n",
              "    </tr>\n",
              "    <tr>\n",
              "      <th>59298</th>\n",
              "      <td>0.75</td>\n",
              "      <td>solution</td>\n",
              "      <td>0.000000</td>\n",
              "      <td>30268</td>\n",
              "      <td>other</td>\n",
              "      <td>enterprise</td>\n",
              "      <td>0.000000</td>\n",
              "      <td>other</td>\n",
              "      <td>4.369448</td>\n",
              "      <td>request for quotation or purchase</td>\n",
              "      <td>...</td>\n",
              "      <td>0.000000</td>\n",
              "      <td>public facility</td>\n",
              "      <td>NaN</td>\n",
              "      <td>441</td>\n",
              "      <td>False</td>\n",
              "      <td>france</td>\n",
              "      <td>paris</td>\n",
              "      <td>integrated solutions</td>\n",
              "      <td>other</td>\n",
              "      <td>1.5</td>\n",
              "    </tr>\n",
              "  </tbody>\n",
              "</table>\n",
              "<p>55664 rows × 26 columns</p>\n",
              "</div>"
            ],
            "text/plain": [
              "       bant_submit business_unit  com_reg_ver_win_rate  customer_idx  \\\n",
              "0             1.00            as              0.066667         32160   \n",
              "1             1.00            as              0.066667         23122   \n",
              "2             1.00            as              0.088889          1755   \n",
              "3             1.00            as              0.088889          4919   \n",
              "4             1.00            as              0.088889         17126   \n",
              "...            ...           ...                   ...           ...   \n",
              "59293         1.00            as              0.000000         33747   \n",
              "59295         0.75            as              0.040000         35420   \n",
              "59296         0.75            as              0.040000         19249   \n",
              "59297         1.00            as              0.040000         40327   \n",
              "59298         0.75      solution              0.000000         30268   \n",
              "\n",
              "              customer_type  enterprise  historical_existing_cnt  \\\n",
              "0               endcustomer  enterprise                 0.000000   \n",
              "1               endcustomer  enterprise                 2.564949   \n",
              "2               endcustomer  enterprise                 4.976734   \n",
              "3               endcustomer  enterprise                 0.000000   \n",
              "4      specifier/influencer  enterprise                 0.000000   \n",
              "...                     ...         ...                      ...   \n",
              "59293           endcustomer         smb                 0.000000   \n",
              "59295  specifier/influencer  enterprise                 0.000000   \n",
              "59296  specifier/influencer  enterprise                 0.000000   \n",
              "59297                 other  enterprise                 0.000000   \n",
              "59298                 other  enterprise                 0.000000   \n",
              "\n",
              "                  customer_job  lead_desc_length  \\\n",
              "0                   purchasing          4.143135   \n",
              "1      media and communication          4.574711   \n",
              "2                  engineering          4.043051   \n",
              "3             entrepreneurship          3.806662   \n",
              "4                   consulting          4.584967   \n",
              "...                        ...               ...   \n",
              "59293              engineering          5.303305   \n",
              "59295         entrepreneurship          4.262680   \n",
              "59296              engineering          3.555348   \n",
              "59297         entrepreneurship          5.934894   \n",
              "59298                    other          4.369448   \n",
              "\n",
              "                             inquiry_type  ... ver_win_ratio_per_bu  \\\n",
              "0      quotation or purchase consultation  ...             0.026846   \n",
              "1      quotation or purchase consultation  ...             0.026846   \n",
              "2                     product information  ...             0.026846   \n",
              "3      quotation or purchase consultation  ...             0.026846   \n",
              "4      quotation or purchase consultation  ...             0.026846   \n",
              "...                                   ...  ...                  ...   \n",
              "59293                 product information  ...             0.028777   \n",
              "59295                               other  ...             0.028777   \n",
              "59296                               other  ...             0.028777   \n",
              "59297  quotation or purchase consultation  ...             0.028777   \n",
              "59298   request for quotation or purchase  ...             0.000000   \n",
              "\n",
              "            business_area business_subarea lead_owner is_converted  \\\n",
              "0      corporate / office      engineering          0         True   \n",
              "1      corporate / office      advertising          1         True   \n",
              "2      corporate / office     construction          2         True   \n",
              "3      corporate / office      it/software          3         True   \n",
              "4      corporate / office              NaN          4         True   \n",
              "...                   ...              ...        ...          ...   \n",
              "59293     public facility              NaN        694        False   \n",
              "59295     public facility              NaN         39        False   \n",
              "59296     public facility              NaN        125        False   \n",
              "59297     public facility              NaN        134        False   \n",
              "59298     public facility              NaN        441        False   \n",
              "\n",
              "           country                city    product_category_0  \\\n",
              "0      philippines         quezon city              hvac/ess   \n",
              "1      philippines               ph 00              hvac/ess   \n",
              "2            india             kolkata              hvac/ess   \n",
              "3            india         bhubaneswar              hvac/ess   \n",
              "4            india           hyderabad              hvac/ess   \n",
              "...            ...                 ...                   ...   \n",
              "59293       poland             sląskie              hvac/ess   \n",
              "59295     colombia           bogotá dc                 other   \n",
              "59296         peru               pisco              hvac/ess   \n",
              "59297         peru  santa cruz bolivia                 other   \n",
              "59298       france               paris  integrated solutions   \n",
              "\n",
              "                                business  expected_timeline_num  \n",
              "0       engineering / corporate / office                    1.5  \n",
              "1       advertising / corporate / office                    1.5  \n",
              "2      construction / corporate / office                    1.5  \n",
              "3       it/software / corporate / office                    1.5  \n",
              "4                                  other                    1.5  \n",
              "...                                  ...                    ...  \n",
              "59293                              other                    4.5  \n",
              "59295                              other                   10.5  \n",
              "59296                              other                    1.5  \n",
              "59297                              other                   18.0  \n",
              "59298                              other                    1.5  \n",
              "\n",
              "[55664 rows x 26 columns]"
            ]
          },
          "execution_count": 106,
          "metadata": {},
          "output_type": "execute_result"
        }
      ],
      "source": [
        "new_train_df"
      ]
    },
    {
      "cell_type": "code",
      "execution_count": null,
      "id": "TyEvOP53idRK",
      "metadata": {
        "id": "TyEvOP53idRK"
      },
      "outputs": [],
      "source": [
        "label_columns = [\n",
        "    \"country\",\"city\",\n",
        "    \"business\",\n",
        "    \"enterprise\",\n",
        "    \"business_area\",\n",
        "    \"business_subarea\",\n",
        "    \"business_unit\",\n",
        "    \"customer_type\",\n",
        "    \"customer_job\",\n",
        "    \"inquiry_type\",\n",
        "    \"product_category_0\",\n",
        "    \"product_category\",\n",
        "    \"product_subcategory\",\n",
        "    \"product_modelname\",\n",
        "    \"customer_position\",\n",
        "    \"response_corporate\",\n",
        "]\n",
        "for feature in label_columns:\n",
        "  new_train_df[feature].astype(str)\n",
        "  new_test_df[feature].astype(str)"
      ]
    },
    {
      "cell_type": "markdown",
      "id": "rLhXkKrlhdfe",
      "metadata": {
        "id": "rLhXkKrlhdfe"
      },
      "source": [
        "## 2-5. 수치형 데이터 cleaning"
      ]
    },
    {
      "cell_type": "code",
      "execution_count": null,
      "id": "oZmMYa29huEd",
      "metadata": {
        "id": "oZmMYa29huEd"
      },
      "outputs": [],
      "source": [
        "numerical_columns = [col for col in new_train_df.columns if col not in label_columns]\n",
        "numerical_columns.remove('is_converted')"
      ]
    },
    {
      "cell_type": "code",
      "execution_count": null,
      "id": "KR53WvM9hglN",
      "metadata": {
        "colab": {
          "base_uri": "https://localhost:8080/"
        },
        "id": "KR53WvM9hglN",
        "outputId": "39a08389-ba1e-4998-d64d-b46205a5556f"
      },
      "outputs": [
        {
          "name": "stdout",
          "output_type": "stream",
          "text": [
            "              bant_submit      5  float64      0\n",
            "     com_reg_ver_win_rate     81  float64      0\n",
            "             customer_idx  35076    int64      0\n",
            "  historical_existing_cnt    134  float64      0\n",
            "         lead_desc_length    907  float64      0\n",
            "           ver_win_rate_x     13  float64      0\n",
            "     ver_win_ratio_per_bu     24  float64      0\n",
            "               lead_owner    983    int64      0\n",
            "    expected_timeline_num     14  float64      0\n",
            "----------------------------------------------------\n",
            "              bant_submit      5  float64      0\n",
            "     com_reg_ver_win_rate     78  float64   3483\n",
            "             customer_idx   4069    int64      0\n",
            "  historical_existing_cnt     75  float64   3996\n",
            "         lead_desc_length    481  float64      0\n",
            "           ver_win_rate_x     13  float64   2898\n",
            "     ver_win_ratio_per_bu     23  float64   3365\n",
            "               lead_owner    440    int64      0\n",
            "    expected_timeline_num      6  float64      0\n"
          ]
        }
      ],
      "source": [
        "for feature in numerical_columns:\n",
        "  print('%25s %6d %8s %6d'%(feature, len(new_train_df[feature].unique()), new_train_df[feature].dtypes, new_train_df[feature].isnull().sum()))\n",
        "print('----------------------------------------------------')\n",
        "for feature in numerical_columns:\n",
        "  print('%25s %6d %8s %6d'%(feature, len(new_test_df[feature].unique()), new_test_df[feature].dtypes, new_test_df[feature].isnull().sum()))"
      ]
    },
    {
      "cell_type": "markdown",
      "id": "J_CFO8Ka7M0P",
      "metadata": {
        "id": "J_CFO8Ka7M0P"
      },
      "source": [
        "### historical_existing_cnt\n",
        "- 0의 값의 차별화를 둬야함\n",
        "- 결측치는 평균값으로 처리 >> 0으로 처리하는게 성능 더 좋음"
      ]
    },
    {
      "cell_type": "code",
      "execution_count": null,
      "id": "KjI8IN9Y7PWB",
      "metadata": {
        "id": "KjI8IN9Y7PWB"
      },
      "outputs": [],
      "source": [
        "# historical_existing_cnt의 결측치는 0의 값과 차별화를 두기 위해 평균값으로 처리 >> 0으로 처리했을 때 점수 더 잘나옴\n",
        "\n",
        "new_train_df['historical_existing_cnt'] = new_train_df['historical_existing_cnt'].fillna(0)\n",
        "new_test_df['historical_existing_cnt'] = new_test_df['historical_existing_cnt'].fillna(0)"
      ]
    },
    {
      "cell_type": "markdown",
      "id": "QzIqH0BILUGs",
      "metadata": {
        "id": "QzIqH0BILUGs"
      },
      "source": [
        "### ❗feature selection"
      ]
    },
    {
      "cell_type": "code",
      "execution_count": null,
      "id": "Ffxj2uNU5qsL",
      "metadata": {
        "id": "Ffxj2uNU5qsL"
      },
      "outputs": [],
      "source": [
        "train_x = new_train_df.fillna(0).copy()\n",
        "train_y = new_test_df.fillna(0).copy()\n",
        "\n",
        "# stf = StratifiedKFold(n_splits = 5, random_state = 42, shuffle = True)\n",
        "# class_weights = compute_class_weight('balanced', classes=[0, 1], y=train_y)\n",
        "# result = []\n",
        "\n",
        "# n = 0\n",
        "\n",
        "# for train_index, valid_index in stf.split(train_x, train_y):\n",
        "#     train_X = np.array(train_x)\n",
        "#     train_Y = np.array(train_y)\n",
        "\n",
        "#     X_train, X_valid = train_X[train_index], train_X[valid_index]\n",
        "#     y_train, y_valid = train_Y[train_index], train_Y[valid_index]\n",
        "#     print(n, 'start')\n",
        "\n",
        "#     model = CatBoostClassifier(random_seed=42, cat_features = cat_features_index, eval_metric=\"F1\",\n",
        "#                                class_weights = {0:class_weights[0], 1:class_weights[1]})\n",
        "\n",
        "#     summary = model.select_features(\n",
        "#         X = X_train,\n",
        "#         y = y_train,\n",
        "#         features_for_select = '0-24',\n",
        "#         eval_set=(X_valid, y_valid),\n",
        "#         num_features_to_select=15,\n",
        "#         steps=9,\n",
        "#         train_final_model=False,\n",
        "#         logging_level='Silent',\n",
        "#         plot=False\n",
        "#     )\n",
        "#     result.append(summary['selected_features'])\n",
        "\n",
        "#     print(n, 'end')\n",
        "#     n += 1\n",
        "# print(\"done\")\n",
        "\n",
        "# print(result)\n",
        "# feature_se = []\n",
        "# for i in range(5):\n",
        "#     for j in result[i]:\n",
        "#         feature_se.append(j)\n",
        "# feature_se = set(feature_se)\n",
        "# feature_selects = [train_x.columns[i] for i in feature_se]\n",
        "# print(len(feature_selects))\n",
        "# print(feature_selects)"
      ]
    },
    {
      "cell_type": "code",
      "execution_count": null,
      "id": "979db206",
      "metadata": {
        "id": "979db206"
      },
      "outputs": [],
      "source": [
        "new_train_df['idx_owner'] = new_train_df['customer_idx'].astype(str) + new_train_df['lead_owner'].astype(str)\n",
        "new_test_df['idx_owner'] = new_test_df['customer_idx'].astype(str) + new_test_df['lead_owner'].astype(str)\n",
        "\n",
        "new_train_df['lead_unit'] = new_train_df['business_unit'].astype(str) + new_train_df['lead_owner'].astype(str)\n",
        "new_test_df['lead_unit'] = new_test_df['business_unit'].astype(str) + new_test_df['lead_owner'].astype(str)\n",
        "\n",
        "new_train_df['idx_position'] = new_train_df['customer_idx'].astype(str) + new_train_df['customer_position'].astype(str)\n",
        "new_test_df['idx_position'] = new_test_df['customer_idx'].astype(str) + new_test_df['customer_position'].astype(str)"
      ]
    },
    {
      "cell_type": "markdown",
      "id": "d332358a",
      "metadata": {
        "id": "d332358a"
      },
      "source": [
        "## 2-6. 학습, 검증 데이터 분리"
      ]
    },
    {
      "cell_type": "code",
      "execution_count": null,
      "id": "DSyl24UtLZjU",
      "metadata": {
        "id": "DSyl24UtLZjU"
      },
      "outputs": [],
      "source": [
        "# index를 기준으로 최종적으로 만들어진 데이터 프레임과 일치하는 Target 값 저장\n",
        "y_train = data.loc[train_index,'is_converted']\n",
        "\n",
        "# Label encoding을 진행 (False: 0, True: 1 로 수정)\n",
        "y_train = y_train.astype(int)\n",
        "y_train = y_train.reset_index(drop=True)"
      ]
    },
    {
      "cell_type": "code",
      "execution_count": null,
      "id": "6mGFeb7_R8fK",
      "metadata": {
        "id": "6mGFeb7_R8fK"
      },
      "outputs": [],
      "source": [
        "new_train_df = new_train_df.fillna(0)\n",
        "new_test_df = new_test_df.fillna(0)"
      ]
    },
    {
      "cell_type": "code",
      "execution_count": null,
      "id": "Q1sLdXLU545Q",
      "metadata": {
        "id": "Q1sLdXLU545Q"
      },
      "outputs": [],
      "source": [
        "df_train = new_train_df.drop(['is_converted'],axis=1)\n",
        "df_test = new_test_df"
      ]
    },
    {
      "cell_type": "code",
      "execution_count": null,
      "id": "27c9e205",
      "metadata": {
        "id": "27c9e205"
      },
      "outputs": [],
      "source": [
        "x_train, x_val, y__train, y_val = train_test_split(\n",
        "    df_train,\n",
        "    y_train,\n",
        "    test_size=0.2,\n",
        "    shuffle=True,\n",
        "    random_state=1000,\n",
        ")"
      ]
    },
    {
      "cell_type": "code",
      "execution_count": null,
      "id": "03233614",
      "metadata": {
        "id": "03233614"
      },
      "outputs": [],
      "source": [
        "train_x = df_train.copy()\n",
        "train_y = y_train.copy()"
      ]
    },
    {
      "cell_type": "code",
      "execution_count": null,
      "id": "c9b995e0",
      "metadata": {
        "id": "c9b995e0",
        "outputId": "b7132af5-4416-49b5-fb68-a010a958e29f"
      },
      "outputs": [
        {
          "data": {
            "text/html": [
              "<div>\n",
              "<style scoped>\n",
              "    .dataframe tbody tr th:only-of-type {\n",
              "        vertical-align: middle;\n",
              "    }\n",
              "\n",
              "    .dataframe tbody tr th {\n",
              "        vertical-align: top;\n",
              "    }\n",
              "\n",
              "    .dataframe thead th {\n",
              "        text-align: right;\n",
              "    }\n",
              "</style>\n",
              "<table border=\"1\" class=\"dataframe\">\n",
              "  <thead>\n",
              "    <tr style=\"text-align: right;\">\n",
              "      <th></th>\n",
              "      <th>bant_submit</th>\n",
              "      <th>business_unit</th>\n",
              "      <th>com_reg_ver_win_rate</th>\n",
              "      <th>customer_idx</th>\n",
              "      <th>customer_type</th>\n",
              "      <th>enterprise</th>\n",
              "      <th>historical_existing_cnt</th>\n",
              "      <th>customer_job</th>\n",
              "      <th>lead_desc_length</th>\n",
              "      <th>inquiry_type</th>\n",
              "      <th>...</th>\n",
              "      <th>business_subarea</th>\n",
              "      <th>lead_owner</th>\n",
              "      <th>country</th>\n",
              "      <th>city</th>\n",
              "      <th>product_category_0</th>\n",
              "      <th>business</th>\n",
              "      <th>expected_timeline_num</th>\n",
              "      <th>idx_owner</th>\n",
              "      <th>lead_unit</th>\n",
              "      <th>idx_position</th>\n",
              "    </tr>\n",
              "  </thead>\n",
              "  <tbody>\n",
              "    <tr>\n",
              "      <th>0</th>\n",
              "      <td>1.00</td>\n",
              "      <td>as</td>\n",
              "      <td>0.066667</td>\n",
              "      <td>32160</td>\n",
              "      <td>endcustomer</td>\n",
              "      <td>enterprise</td>\n",
              "      <td>0.000000</td>\n",
              "      <td>purchasing</td>\n",
              "      <td>4.143135</td>\n",
              "      <td>quotation or purchase consultation</td>\n",
              "      <td>...</td>\n",
              "      <td>engineering</td>\n",
              "      <td>0</td>\n",
              "      <td>philippines</td>\n",
              "      <td>quezon city</td>\n",
              "      <td>hvac/ess</td>\n",
              "      <td>engineering / corporate / office</td>\n",
              "      <td>1.5</td>\n",
              "      <td>321600</td>\n",
              "      <td>as0</td>\n",
              "      <td>32160entry level</td>\n",
              "    </tr>\n",
              "    <tr>\n",
              "      <th>1</th>\n",
              "      <td>1.00</td>\n",
              "      <td>as</td>\n",
              "      <td>0.066667</td>\n",
              "      <td>23122</td>\n",
              "      <td>endcustomer</td>\n",
              "      <td>enterprise</td>\n",
              "      <td>2.564949</td>\n",
              "      <td>media and communication</td>\n",
              "      <td>4.574711</td>\n",
              "      <td>quotation or purchase consultation</td>\n",
              "      <td>...</td>\n",
              "      <td>advertising</td>\n",
              "      <td>1</td>\n",
              "      <td>philippines</td>\n",
              "      <td>ph 00</td>\n",
              "      <td>hvac/ess</td>\n",
              "      <td>advertising / corporate / office</td>\n",
              "      <td>1.5</td>\n",
              "      <td>231221</td>\n",
              "      <td>as1</td>\n",
              "      <td>23122ceo founder</td>\n",
              "    </tr>\n",
              "    <tr>\n",
              "      <th>2</th>\n",
              "      <td>1.00</td>\n",
              "      <td>as</td>\n",
              "      <td>0.088889</td>\n",
              "      <td>1755</td>\n",
              "      <td>endcustomer</td>\n",
              "      <td>enterprise</td>\n",
              "      <td>4.976734</td>\n",
              "      <td>engineering</td>\n",
              "      <td>4.043051</td>\n",
              "      <td>product information</td>\n",
              "      <td>...</td>\n",
              "      <td>construction</td>\n",
              "      <td>2</td>\n",
              "      <td>india</td>\n",
              "      <td>kolkata</td>\n",
              "      <td>hvac/ess</td>\n",
              "      <td>construction / corporate / office</td>\n",
              "      <td>1.5</td>\n",
              "      <td>17552</td>\n",
              "      <td>as2</td>\n",
              "      <td>1755partner</td>\n",
              "    </tr>\n",
              "    <tr>\n",
              "      <th>3</th>\n",
              "      <td>1.00</td>\n",
              "      <td>as</td>\n",
              "      <td>0.088889</td>\n",
              "      <td>4919</td>\n",
              "      <td>endcustomer</td>\n",
              "      <td>enterprise</td>\n",
              "      <td>0.000000</td>\n",
              "      <td>entrepreneurship</td>\n",
              "      <td>3.806662</td>\n",
              "      <td>quotation or purchase consultation</td>\n",
              "      <td>...</td>\n",
              "      <td>it/software</td>\n",
              "      <td>3</td>\n",
              "      <td>india</td>\n",
              "      <td>bhubaneswar</td>\n",
              "      <td>hvac/ess</td>\n",
              "      <td>it/software / corporate / office</td>\n",
              "      <td>1.5</td>\n",
              "      <td>49193</td>\n",
              "      <td>as3</td>\n",
              "      <td>4919ceo founder</td>\n",
              "    </tr>\n",
              "    <tr>\n",
              "      <th>4</th>\n",
              "      <td>1.00</td>\n",
              "      <td>as</td>\n",
              "      <td>0.088889</td>\n",
              "      <td>17126</td>\n",
              "      <td>specifier/influencer</td>\n",
              "      <td>enterprise</td>\n",
              "      <td>0.000000</td>\n",
              "      <td>consulting</td>\n",
              "      <td>4.584967</td>\n",
              "      <td>quotation or purchase consultation</td>\n",
              "      <td>...</td>\n",
              "      <td>0</td>\n",
              "      <td>4</td>\n",
              "      <td>india</td>\n",
              "      <td>hyderabad</td>\n",
              "      <td>hvac/ess</td>\n",
              "      <td>other</td>\n",
              "      <td>1.5</td>\n",
              "      <td>171264</td>\n",
              "      <td>as4</td>\n",
              "      <td>17126partner</td>\n",
              "    </tr>\n",
              "    <tr>\n",
              "      <th>...</th>\n",
              "      <td>...</td>\n",
              "      <td>...</td>\n",
              "      <td>...</td>\n",
              "      <td>...</td>\n",
              "      <td>...</td>\n",
              "      <td>...</td>\n",
              "      <td>...</td>\n",
              "      <td>...</td>\n",
              "      <td>...</td>\n",
              "      <td>...</td>\n",
              "      <td>...</td>\n",
              "      <td>...</td>\n",
              "      <td>...</td>\n",
              "      <td>...</td>\n",
              "      <td>...</td>\n",
              "      <td>...</td>\n",
              "      <td>...</td>\n",
              "      <td>...</td>\n",
              "      <td>...</td>\n",
              "      <td>...</td>\n",
              "      <td>...</td>\n",
              "    </tr>\n",
              "    <tr>\n",
              "      <th>59293</th>\n",
              "      <td>1.00</td>\n",
              "      <td>as</td>\n",
              "      <td>0.000000</td>\n",
              "      <td>33747</td>\n",
              "      <td>endcustomer</td>\n",
              "      <td>smb</td>\n",
              "      <td>0.000000</td>\n",
              "      <td>engineering</td>\n",
              "      <td>5.303305</td>\n",
              "      <td>product information</td>\n",
              "      <td>...</td>\n",
              "      <td>0</td>\n",
              "      <td>694</td>\n",
              "      <td>poland</td>\n",
              "      <td>sląskie</td>\n",
              "      <td>hvac/ess</td>\n",
              "      <td>other</td>\n",
              "      <td>4.5</td>\n",
              "      <td>33747694</td>\n",
              "      <td>as694</td>\n",
              "      <td>33747entry level</td>\n",
              "    </tr>\n",
              "    <tr>\n",
              "      <th>59295</th>\n",
              "      <td>0.75</td>\n",
              "      <td>as</td>\n",
              "      <td>0.040000</td>\n",
              "      <td>35420</td>\n",
              "      <td>specifier/influencer</td>\n",
              "      <td>enterprise</td>\n",
              "      <td>0.000000</td>\n",
              "      <td>entrepreneurship</td>\n",
              "      <td>4.262680</td>\n",
              "      <td>other</td>\n",
              "      <td>...</td>\n",
              "      <td>0</td>\n",
              "      <td>39</td>\n",
              "      <td>colombia</td>\n",
              "      <td>bogotá dc</td>\n",
              "      <td>other</td>\n",
              "      <td>other</td>\n",
              "      <td>10.5</td>\n",
              "      <td>3542039</td>\n",
              "      <td>as39</td>\n",
              "      <td>35420trainee</td>\n",
              "    </tr>\n",
              "    <tr>\n",
              "      <th>59296</th>\n",
              "      <td>0.75</td>\n",
              "      <td>as</td>\n",
              "      <td>0.040000</td>\n",
              "      <td>19249</td>\n",
              "      <td>specifier/influencer</td>\n",
              "      <td>enterprise</td>\n",
              "      <td>0.000000</td>\n",
              "      <td>engineering</td>\n",
              "      <td>3.555348</td>\n",
              "      <td>other</td>\n",
              "      <td>...</td>\n",
              "      <td>0</td>\n",
              "      <td>125</td>\n",
              "      <td>peru</td>\n",
              "      <td>pisco</td>\n",
              "      <td>hvac/ess</td>\n",
              "      <td>other</td>\n",
              "      <td>1.5</td>\n",
              "      <td>19249125</td>\n",
              "      <td>as125</td>\n",
              "      <td>19249entry level</td>\n",
              "    </tr>\n",
              "    <tr>\n",
              "      <th>59297</th>\n",
              "      <td>1.00</td>\n",
              "      <td>as</td>\n",
              "      <td>0.040000</td>\n",
              "      <td>40327</td>\n",
              "      <td>other</td>\n",
              "      <td>enterprise</td>\n",
              "      <td>0.000000</td>\n",
              "      <td>entrepreneurship</td>\n",
              "      <td>5.934894</td>\n",
              "      <td>quotation or purchase consultation</td>\n",
              "      <td>...</td>\n",
              "      <td>0</td>\n",
              "      <td>134</td>\n",
              "      <td>peru</td>\n",
              "      <td>santa cruz bolivia</td>\n",
              "      <td>other</td>\n",
              "      <td>other</td>\n",
              "      <td>18.0</td>\n",
              "      <td>40327134</td>\n",
              "      <td>as134</td>\n",
              "      <td>40327other</td>\n",
              "    </tr>\n",
              "    <tr>\n",
              "      <th>59298</th>\n",
              "      <td>0.75</td>\n",
              "      <td>solution</td>\n",
              "      <td>0.000000</td>\n",
              "      <td>30268</td>\n",
              "      <td>other</td>\n",
              "      <td>enterprise</td>\n",
              "      <td>0.000000</td>\n",
              "      <td>other</td>\n",
              "      <td>4.369448</td>\n",
              "      <td>request for quotation or purchase</td>\n",
              "      <td>...</td>\n",
              "      <td>0</td>\n",
              "      <td>441</td>\n",
              "      <td>france</td>\n",
              "      <td>paris</td>\n",
              "      <td>integrated solutions</td>\n",
              "      <td>other</td>\n",
              "      <td>1.5</td>\n",
              "      <td>30268441</td>\n",
              "      <td>solution441</td>\n",
              "      <td>30268ceo founder</td>\n",
              "    </tr>\n",
              "  </tbody>\n",
              "</table>\n",
              "<p>55664 rows × 28 columns</p>\n",
              "</div>"
            ],
            "text/plain": [
              "       bant_submit business_unit  com_reg_ver_win_rate  customer_idx  \\\n",
              "0             1.00            as              0.066667         32160   \n",
              "1             1.00            as              0.066667         23122   \n",
              "2             1.00            as              0.088889          1755   \n",
              "3             1.00            as              0.088889          4919   \n",
              "4             1.00            as              0.088889         17126   \n",
              "...            ...           ...                   ...           ...   \n",
              "59293         1.00            as              0.000000         33747   \n",
              "59295         0.75            as              0.040000         35420   \n",
              "59296         0.75            as              0.040000         19249   \n",
              "59297         1.00            as              0.040000         40327   \n",
              "59298         0.75      solution              0.000000         30268   \n",
              "\n",
              "              customer_type  enterprise  historical_existing_cnt  \\\n",
              "0               endcustomer  enterprise                 0.000000   \n",
              "1               endcustomer  enterprise                 2.564949   \n",
              "2               endcustomer  enterprise                 4.976734   \n",
              "3               endcustomer  enterprise                 0.000000   \n",
              "4      specifier/influencer  enterprise                 0.000000   \n",
              "...                     ...         ...                      ...   \n",
              "59293           endcustomer         smb                 0.000000   \n",
              "59295  specifier/influencer  enterprise                 0.000000   \n",
              "59296  specifier/influencer  enterprise                 0.000000   \n",
              "59297                 other  enterprise                 0.000000   \n",
              "59298                 other  enterprise                 0.000000   \n",
              "\n",
              "                  customer_job  lead_desc_length  \\\n",
              "0                   purchasing          4.143135   \n",
              "1      media and communication          4.574711   \n",
              "2                  engineering          4.043051   \n",
              "3             entrepreneurship          3.806662   \n",
              "4                   consulting          4.584967   \n",
              "...                        ...               ...   \n",
              "59293              engineering          5.303305   \n",
              "59295         entrepreneurship          4.262680   \n",
              "59296              engineering          3.555348   \n",
              "59297         entrepreneurship          5.934894   \n",
              "59298                    other          4.369448   \n",
              "\n",
              "                             inquiry_type  ... business_subarea lead_owner  \\\n",
              "0      quotation or purchase consultation  ...      engineering          0   \n",
              "1      quotation or purchase consultation  ...      advertising          1   \n",
              "2                     product information  ...     construction          2   \n",
              "3      quotation or purchase consultation  ...      it/software          3   \n",
              "4      quotation or purchase consultation  ...                0          4   \n",
              "...                                   ...  ...              ...        ...   \n",
              "59293                 product information  ...                0        694   \n",
              "59295                               other  ...                0         39   \n",
              "59296                               other  ...                0        125   \n",
              "59297  quotation or purchase consultation  ...                0        134   \n",
              "59298   request for quotation or purchase  ...                0        441   \n",
              "\n",
              "           country                city    product_category_0  \\\n",
              "0      philippines         quezon city              hvac/ess   \n",
              "1      philippines               ph 00              hvac/ess   \n",
              "2            india             kolkata              hvac/ess   \n",
              "3            india         bhubaneswar              hvac/ess   \n",
              "4            india           hyderabad              hvac/ess   \n",
              "...            ...                 ...                   ...   \n",
              "59293       poland             sląskie              hvac/ess   \n",
              "59295     colombia           bogotá dc                 other   \n",
              "59296         peru               pisco              hvac/ess   \n",
              "59297         peru  santa cruz bolivia                 other   \n",
              "59298       france               paris  integrated solutions   \n",
              "\n",
              "                                business  expected_timeline_num idx_owner  \\\n",
              "0       engineering / corporate / office                    1.5    321600   \n",
              "1       advertising / corporate / office                    1.5    231221   \n",
              "2      construction / corporate / office                    1.5     17552   \n",
              "3       it/software / corporate / office                    1.5     49193   \n",
              "4                                  other                    1.5    171264   \n",
              "...                                  ...                    ...       ...   \n",
              "59293                              other                    4.5  33747694   \n",
              "59295                              other                   10.5   3542039   \n",
              "59296                              other                    1.5  19249125   \n",
              "59297                              other                   18.0  40327134   \n",
              "59298                              other                    1.5  30268441   \n",
              "\n",
              "         lead_unit      idx_position  \n",
              "0              as0  32160entry level  \n",
              "1              as1  23122ceo founder  \n",
              "2              as2       1755partner  \n",
              "3              as3   4919ceo founder  \n",
              "4              as4      17126partner  \n",
              "...            ...               ...  \n",
              "59293        as694  33747entry level  \n",
              "59295         as39      35420trainee  \n",
              "59296        as125  19249entry level  \n",
              "59297        as134        40327other  \n",
              "59298  solution441  30268ceo founder  \n",
              "\n",
              "[55664 rows x 28 columns]"
            ]
          },
          "execution_count": 118,
          "metadata": {},
          "output_type": "execute_result"
        }
      ],
      "source": [
        "df_train"
      ]
    },
    {
      "cell_type": "code",
      "execution_count": null,
      "id": "43a18e41",
      "metadata": {
        "id": "43a18e41"
      },
      "outputs": [],
      "source": [
        "label_columns = [\n",
        "    'idx_owner', 'lead_unit', 'idx_position',\n",
        "    \"country\",\"city\",\n",
        "    \"business\",\n",
        "    \"business_area\",\n",
        "    \"business_subarea\",\n",
        "    \"business_unit\",\n",
        "    \"customer_type\",\n",
        "    \"enterprise\",\n",
        "    \"customer_job\",\n",
        "    \"inquiry_type\",\n",
        "    \"product_category\",\n",
        "    \"product_subcategory\",\n",
        "    \"product_modelname\",\n",
        "    \"customer_position\",\n",
        "    \"response_corporate\",\n",
        "]"
      ]
    },
    {
      "cell_type": "code",
      "execution_count": null,
      "id": "d3616f8a",
      "metadata": {
        "id": "d3616f8a"
      },
      "outputs": [],
      "source": [
        "drop = ['business_subarea', 'bant_submit', 'product_subcategory','historical_exciting_cnt']\n",
        "feature_selects = [ 'business_unit', 'com_reg_ver_win_rate', 'customer_idx',\n",
        "                   'customer_type', 'enterprise', 'historical_existing_cnt', 'customer_job',\n",
        "                   'lead_desc_length', 'inquiry_type', 'product_category', 'product_modelname',\n",
        "                   'customer_position', 'response_corporate', 'business_area', 'lead_owner',\n",
        "                   'country', 'city', 'business', 'expected_timeline_num',\n",
        "                   'idx_owner', 'lead_unit', 'idx_position',\n",
        "                  ]\n",
        "\n",
        "a = set(feature_selects)\n",
        "b = set(label_columns)\n",
        "label_columns = list(a&b)\n",
        "\n",
        "df_train = df_train[feature_selects]\n",
        "df_test = df_test[feature_selects]\n",
        "x_train = x_train[feature_selects]\n",
        "x_val = x_val[feature_selects]\n",
        "y_train = train_y.copy()"
      ]
    },
    {
      "cell_type": "code",
      "execution_count": null,
      "id": "e7ad58b9",
      "metadata": {
        "id": "e7ad58b9",
        "outputId": "7532bb76-129e-4ca7-fe66-db245a6ac628"
      },
      "outputs": [
        {
          "data": {
            "text/plain": [
              "['idx_position',\n",
              " 'idx_owner',\n",
              " 'enterprise',\n",
              " 'customer_position',\n",
              " 'product_modelname',\n",
              " 'country',\n",
              " 'business_unit',\n",
              " 'product_category',\n",
              " 'city',\n",
              " 'lead_unit',\n",
              " 'business',\n",
              " 'response_corporate',\n",
              " 'customer_job',\n",
              " 'inquiry_type',\n",
              " 'customer_type',\n",
              " 'business_area']"
            ]
          },
          "execution_count": 121,
          "metadata": {},
          "output_type": "execute_result"
        }
      ],
      "source": [
        "label_columns"
      ]
    },
    {
      "cell_type": "markdown",
      "id": "79ecfa9b",
      "metadata": {
        "id": "79ecfa9b"
      },
      "source": [
        "# 3.  ⭕ 모델 학습"
      ]
    },
    {
      "cell_type": "markdown",
      "id": "3caf257b",
      "metadata": {
        "id": "3caf257b"
      },
      "source": [
        "## 모델 정의"
      ]
    },
    {
      "cell_type": "code",
      "execution_count": null,
      "id": "e4509af0",
      "metadata": {
        "id": "e4509af0",
        "outputId": "23a81de5-d90c-413e-f729-637e58c41049"
      },
      "outputs": [
        {
          "name": "stderr",
          "output_type": "stream",
          "text": [
            "huggingface/tokenizers: The current process just got forked, after parallelism has already been used. Disabling parallelism to avoid deadlocks...\n",
            "To disable this warning, you can either:\n",
            "\t- Avoid using `tokenizers` before the fork if possible\n",
            "\t- Explicitly set the environment variable TOKENIZERS_PARALLELISM=(true | false)\n"
          ]
        },
        {
          "name": "stdout",
          "output_type": "stream",
          "text": [
            "\r\n",
            "\u001b[1m[\u001b[0m\u001b[34;49mnotice\u001b[0m\u001b[1;39;49m]\u001b[0m\u001b[39;49m A new release of pip is available: \u001b[0m\u001b[31;49m23.0.1\u001b[0m\u001b[39;49m -> \u001b[0m\u001b[32;49m24.0\u001b[0m\r\n",
            "\u001b[1m[\u001b[0m\u001b[34;49mnotice\u001b[0m\u001b[1;39;49m]\u001b[0m\u001b[39;49m To update, run: \u001b[0m\u001b[32;49mpip install --upgrade pip\u001b[0m\r\n"
          ]
        }
      ],
      "source": [
        "!pip install -q catboost"
      ]
    },
    {
      "cell_type": "markdown",
      "id": "cacd5ed8",
      "metadata": {
        "id": "cacd5ed8"
      },
      "source": [
        "## 모델 학습 - CatBoost"
      ]
    },
    {
      "cell_type": "markdown",
      "id": "0542Nz7E0x-o",
      "metadata": {
        "id": "0542Nz7E0x-o"
      },
      "source": [
        "### K Fold Cross Validation\n",
        "참고: https://dacon.io/en/codeshare/3887"
      ]
    },
    {
      "cell_type": "code",
      "execution_count": null,
      "id": "11wEbAuOXxRO",
      "metadata": {
        "colab": {
          "base_uri": "https://localhost:8080/"
        },
        "id": "11wEbAuOXxRO",
        "outputId": "56bbfe01-4a1c-4ad7-e569-7bbb966140bc"
      },
      "outputs": [
        {
          "data": {
            "text/plain": [
              "<generator object _BaseKFold.split at 0x7f87ca303840>"
            ]
          },
          "execution_count": 123,
          "metadata": {},
          "output_type": "execute_result"
        }
      ],
      "source": [
        "is_holdout = False\n",
        "n_splits = 5\n",
        "iterations = 3000\n",
        "patience = 50\n",
        "SEED = 42\n",
        "cv = KFold(n_splits=n_splits, shuffle=True, random_state=SEED)\n",
        "cv.split(df_train)"
      ]
    },
    {
      "cell_type": "code",
      "execution_count": null,
      "id": "Lx_tki2rSXA2",
      "metadata": {
        "colab": {
          "base_uri": "https://localhost:8080/"
        },
        "id": "Lx_tki2rSXA2",
        "outputId": "00f9ab67-475f-4c42-b8b3-222b0d031338"
      },
      "outputs": [
        {
          "data": {
            "text/plain": [
              "Index(['business_unit', 'com_reg_ver_win_rate', 'customer_idx',\n",
              "       'customer_type', 'enterprise', 'historical_existing_cnt',\n",
              "       'customer_job', 'lead_desc_length', 'inquiry_type', 'product_category',\n",
              "       'product_modelname', 'customer_position', 'response_corporate',\n",
              "       'business_area', 'lead_owner', 'country', 'city', 'business',\n",
              "       'expected_timeline_num', 'idx_owner', 'lead_unit', 'idx_position'],\n",
              "      dtype='object')"
            ]
          },
          "execution_count": 124,
          "metadata": {},
          "output_type": "execute_result"
        }
      ],
      "source": [
        "df_train.columns"
      ]
    },
    {
      "cell_type": "code",
      "execution_count": null,
      "id": "A3Z2LMRd_bmR",
      "metadata": {
        "colab": {
          "base_uri": "https://localhost:8080/"
        },
        "id": "A3Z2LMRd_bmR",
        "outputId": "d3edfa82-6525-4d72-b972-48cc1d2ff3ad"
      },
      "outputs": [
        {
          "name": "stdout",
          "output_type": "stream",
          "text": [
            "==================================================\n",
            "Learning rate set to 0.050186\n",
            "0:\tlearn: 0.8955101\ttest: 0.9118427\tbest: 0.9118427 (0)\ttotal: 153ms\tremaining: 7m 37s\n",
            "100:\tlearn: 0.9414561\ttest: 0.9509076\tbest: 0.9509076 (100)\ttotal: 6.83s\tremaining: 3m 15s\n",
            "200:\tlearn: 0.9477867\ttest: 0.9529112\tbest: 0.9533898 (184)\ttotal: 12.7s\tremaining: 2m 56s\n",
            "Stopped by overfitting detector  (50 iterations wait)\n",
            "\n",
            "bestTest = 0.953389843\n",
            "bestIteration = 184\n",
            "\n",
            "Shrink model to first 185 iterations.\n",
            "==================================================\n",
            "Learning rate set to 0.050186\n",
            "0:\tlearn: 0.9089816\ttest: 0.9151819\tbest: 0.9151819 (0)\ttotal: 86.1ms\tremaining: 4m 18s\n",
            "100:\tlearn: 0.9415713\ttest: 0.9444652\tbest: 0.9446954 (69)\ttotal: 6.37s\tremaining: 3m 2s\n",
            "200:\tlearn: 0.9485794\ttest: 0.9441101\tbest: 0.9450386 (165)\ttotal: 12.6s\tremaining: 2m 55s\n",
            "Stopped by overfitting detector  (50 iterations wait)\n",
            "\n",
            "bestTest = 0.9450385673\n",
            "bestIteration = 165\n",
            "\n",
            "Shrink model to first 166 iterations.\n",
            "==================================================\n",
            "Learning rate set to 0.050186\n",
            "0:\tlearn: 0.9086004\ttest: 0.9150627\tbest: 0.9150627 (0)\ttotal: 95.5ms\tremaining: 4m 46s\n",
            "100:\tlearn: 0.9419905\ttest: 0.9397964\tbest: 0.9397964 (100)\ttotal: 6.32s\tremaining: 3m 1s\n",
            "Stopped by overfitting detector  (50 iterations wait)\n",
            "\n",
            "bestTest = 0.9432738891\n",
            "bestIteration = 149\n",
            "\n",
            "Shrink model to first 150 iterations.\n",
            "==================================================\n",
            "Learning rate set to 0.050186\n",
            "0:\tlearn: 0.8981162\ttest: 0.9181244\tbest: 0.9181244 (0)\ttotal: 79.4ms\tremaining: 3m 58s\n",
            "100:\tlearn: 0.9388164\ttest: 0.9492716\tbest: 0.9497074 (93)\ttotal: 6.46s\tremaining: 3m 5s\n",
            "200:\tlearn: 0.9472383\ttest: 0.9549903\tbest: 0.9550367 (197)\ttotal: 12.7s\tremaining: 2m 56s\n",
            "300:\tlearn: 0.9521739\ttest: 0.9560113\tbest: 0.9560113 (297)\ttotal: 18.5s\tremaining: 2m 46s\n",
            "Stopped by overfitting detector  (50 iterations wait)\n",
            "\n",
            "bestTest = 0.956476084\n",
            "bestIteration = 321\n",
            "\n",
            "Shrink model to first 322 iterations.\n",
            "==================================================\n",
            "Learning rate set to 0.050186\n",
            "0:\tlearn: 0.9061223\ttest: 0.9236628\tbest: 0.9236628 (0)\ttotal: 106ms\tremaining: 5m 19s\n",
            "100:\tlearn: 0.9428703\ttest: 0.9456930\tbest: 0.9461804 (93)\ttotal: 6.4s\tremaining: 3m 3s\n",
            "200:\tlearn: 0.9504585\ttest: 0.9462937\tbest: 0.9470378 (161)\ttotal: 12.7s\tremaining: 2m 57s\n",
            "Stopped by overfitting detector  (50 iterations wait)\n",
            "\n",
            "bestTest = 0.9470377947\n",
            "bestIteration = 161\n",
            "\n",
            "Shrink model to first 162 iterations.\n"
          ]
        }
      ],
      "source": [
        "class_weights = compute_class_weight('balanced', classes=[0, 1], y=y_train)\n",
        "stf = StratifiedKFold(n_splits = 5, random_state = 42, shuffle = True)\n",
        "\n",
        "scores = []\n",
        "models = []\n",
        "\n",
        "\n",
        "models = []\n",
        "for tri, vai in stf.split(df_train, y_train):\n",
        "    print(\"=\"*50)\n",
        "    preds = []\n",
        "\n",
        "    model = CatBoostClassifier(\n",
        "        iterations=iterations,\n",
        "        loss_function='Logloss',\n",
        "        random_state=SEED,\n",
        "        task_type=\"CPU\",\n",
        "        eval_metric=\"F1\",\n",
        "        cat_features=label_columns,\n",
        "        one_hot_max_size=4,\n",
        "        class_weights = {0:class_weights[0], 1:class_weights[1]}\n",
        "    )\n",
        "    model.fit(df_train.iloc[tri], y_train[tri],\n",
        "            eval_set=[(df_train.iloc[vai], y_train[vai])],\n",
        "            early_stopping_rounds=patience ,\n",
        "            verbose = 100\n",
        "        )\n",
        "\n",
        "    models.append(model)\n",
        "    scores.append(model.get_best_score()[\"validation\"][\"F1\"])\n",
        "    if is_holdout:\n",
        "        break"
      ]
    },
    {
      "cell_type": "markdown",
      "id": "6bf2de5f",
      "metadata": {
        "id": "6bf2de5f"
      },
      "source": [
        "## 모델 성능 보기"
      ]
    },
    {
      "cell_type": "code",
      "execution_count": null,
      "id": "y4h1c_r5m9oN",
      "metadata": {
        "id": "y4h1c_r5m9oN"
      },
      "outputs": [],
      "source": [
        "threshold = 0.381"
      ]
    },
    {
      "cell_type": "code",
      "execution_count": null,
      "id": "8sF1VVLJm-G2",
      "metadata": {
        "colab": {
          "base_uri": "https://localhost:8080/"
        },
        "id": "8sF1VVLJm-G2",
        "outputId": "e281af7c-4e38-4066-861f-e4ec6644c3e1"
      },
      "outputs": [
        {
          "name": "stdout",
          "output_type": "stream",
          "text": [
            "[0.6968503937007874, 0.6977671451355661, 0.7014028056112225, 0.7140536149471974, 0.7061207944872314]\n",
            "0.703238950776401\n"
          ]
        }
      ],
      "source": [
        "pred_list = []\n",
        "scores = []\n",
        "for i,(tri, vai) in enumerate( stf.split(df_train, y_train) ):\n",
        "    pred_val = models[i].predict_proba(df_train.iloc[vai])[:, 1]\n",
        "    pred_val = np.where(pred_val >= threshold , 1, 0)\n",
        "    score = f1_score(y_train[vai],pred_val)\n",
        "    scores.append(score)\n",
        "    pred_val = models[i].predict_proba(x_val)[:, 1]\n",
        "    pred_list.append(pred_val)\n",
        "print(scores)\n",
        "print(np.mean(scores))"
      ]
    },
    {
      "cell_type": "code",
      "execution_count": null,
      "id": "2IVzrbsNm_RM",
      "metadata": {
        "id": "2IVzrbsNm_RM"
      },
      "outputs": [],
      "source": [
        "pred_val = np.mean( pred_list , axis = 0 )\n",
        "pred_val = np.where(pred_val >= threshold , 1, 0)"
      ]
    },
    {
      "cell_type": "code",
      "execution_count": null,
      "id": "c8871444",
      "metadata": {
        "id": "c8871444"
      },
      "outputs": [],
      "source": [
        "def get_clf_eval(y_test, y_pred=None):\n",
        "    confusion = confusion_matrix(y_test, y_pred, labels=[True, False])\n",
        "    accuracy = accuracy_score(y_test, y_pred)\n",
        "    precision = precision_score(y_test, y_pred, labels=[True, False])\n",
        "    recall = recall_score(y_test, y_pred)\n",
        "    F1 = f1_score(y_test, y_pred, labels=[True, False])\n",
        "\n",
        "    print(\"오차행렬:\\n\", confusion)\n",
        "    print(\"\\n정확도: {:.4f}\".format(accuracy))\n",
        "    print(\"정밀도: {:.4f}\".format(precision))\n",
        "    print(\"재현율: {:.4f}\".format(recall))\n",
        "    print(\"F1: {:.4f}\".format(F1))"
      ]
    },
    {
      "cell_type": "code",
      "execution_count": null,
      "id": "56a86373",
      "metadata": {
        "colab": {
          "base_uri": "https://localhost:8080/"
        },
        "id": "56a86373",
        "outputId": "f98e9b7a-1d32-456d-8b0f-2f5ca654cb73"
      },
      "outputs": [
        {
          "name": "stdout",
          "output_type": "stream",
          "text": [
            "오차행렬:\n",
            " [[ 978    4]\n",
            " [ 343 9808]]\n",
            "\n",
            "정확도: 0.9688\n",
            "정밀도: 0.7403\n",
            "재현율: 0.9959\n",
            "F1: 0.8493\n"
          ]
        }
      ],
      "source": [
        "get_clf_eval(y_val, pred_val)"
      ]
    },
    {
      "cell_type": "code",
      "execution_count": null,
      "id": "8iKIzDKzsmW9",
      "metadata": {
        "colab": {
          "base_uri": "https://localhost:8080/",
          "height": 875
        },
        "id": "8iKIzDKzsmW9",
        "outputId": "dce65ede-3683-4c45-c9d2-c6baa2076056"
      },
      "outputs": [
        {
          "data": {
            "image/png": "[encoded data removed]",
            "text/plain": [
              "<Figure size 800x800 with 1 Axes>"
            ]
          },
          "metadata": {},
          "output_type": "display_data"
        },
        {
          "name": "stdout",
          "output_type": "stream",
          "text": [
            "오차행렬:\n",
            " [[  959    23]\n",
            " [  101 10050]]\n",
            "\n",
            "정확도: 0.9889\n",
            "정밀도: 0.9047\n",
            "재현율: 0.9766\n",
            "F1: 0.9393\n"
          ]
        }
      ],
      "source": [
        "# # 테스트 데이터에 대한 예측 확률을 얻음\n",
        "pred_val = model.predict_proba(x_val.fillna(0))[:, 1]\n",
        "\n",
        "# ROC 곡선 계산\n",
        "fpr, tpr, thresholds = roc_curve(y_val, pred_val)\n",
        "\n",
        "# AUC(Area Under the Curve) 계산\n",
        "roc_auc = auc(fpr, tpr)\n",
        "\n",
        "# ROC 곡선 및 AUC 출력\n",
        "plt.figure(figsize=(8, 8))\n",
        "plt.plot(fpr, tpr, color='darkorange', lw=2, label=f'ROC curve (AUC = {roc_auc:.2f})')\n",
        "plt.plot([0, 1], [0, 1], color='navy', lw=2, linestyle='--')\n",
        "plt.xlabel('False Positive Rate')\n",
        "plt.ylabel('True Positive Rate (Recall)')\n",
        "plt.title('Receiver Operating Characteristic (ROC) Curve')\n",
        "plt.legend(loc='lower right')\n",
        "\n",
        "# ROC 곡선에서의 적절한 임계값 선택\n",
        "optimal_threshold_idx = np.argmax(tpr - fpr)\n",
        "optimal_threshold = thresholds[optimal_threshold_idx]\n",
        "plt.scatter(fpr[optimal_threshold_idx], tpr[optimal_threshold_idx], marker='o', color='red', label=f'Optimal Threshold = {optimal_threshold:.2f}')\n",
        "plt.legend(loc='lower right')\n",
        "\n",
        "plt.show()\n",
        "\n",
        "# 선택된 임계값을 사용하여 예측 클래스를 얻음\n",
        "pred = (pred_val > optimal_threshold).astype(int)\n",
        "\n",
        "get_clf_eval(y_val, pred)"
      ]
    },
    {
      "cell_type": "code",
      "execution_count": null,
      "id": "FmGUiNSvoGC2",
      "metadata": {
        "id": "FmGUiNSvoGC2"
      },
      "outputs": [],
      "source": [
        "# threshold = 0.37 >> public score : 0.7541\n",
        "# 최적의 값 : 0.46\n",
        "threshold = 0.381"
      ]
    },
    {
      "cell_type": "code",
      "execution_count": null,
      "id": "aOiKU5L7n2cj",
      "metadata": {
        "colab": {
          "base_uri": "https://localhost:8080/"
        },
        "id": "aOiKU5L7n2cj",
        "outputId": "1302cd48-de1d-432a-ef62-730480feec19"
      },
      "outputs": [
        {
          "name": "stdout",
          "output_type": "stream",
          "text": [
            "[0.6968503937007874, 0.6977671451355661, 0.7014028056112225, 0.7140536149471974, 0.7061207944872314]\n",
            "0.703238950776401\n"
          ]
        }
      ],
      "source": [
        "pred_list = []\n",
        "scores = []\n",
        "for i,(tri, vai) in enumerate( stf.split(df_train, y_train) ):\n",
        "    pred = models[i].predict_proba(df_train.iloc[vai])[:, 1]\n",
        "    pred = np.where(pred >= threshold , 1, 0)\n",
        "    score = f1_score(y_train[vai],pred)\n",
        "    scores.append(score)\n",
        "    pred = models[i].predict_proba(df_test)[:, 1]\n",
        "    pred_list.append(pred)\n",
        "print(scores)\n",
        "print(np.mean(scores))"
      ]
    },
    {
      "cell_type": "code",
      "execution_count": null,
      "id": "_jnn3GXMn7LT",
      "metadata": {
        "colab": {
          "base_uri": "https://localhost:8080/"
        },
        "id": "_jnn3GXMn7LT",
        "outputId": "ed89e6cd-ce84-4f0b-eb2c-76d09bfc51dd"
      },
      "outputs": [
        {
          "data": {
            "text/plain": [
              "2199"
            ]
          },
          "execution_count": 151,
          "metadata": {},
          "output_type": "execute_result"
        }
      ],
      "source": [
        "pred = np.mean( pred_list , axis = 0 )\n",
        "pred = np.where(pred >= threshold , 1, 0)\n",
        "sum(pred) # True로 예측된 개수"
      ]
    },
    {
      "cell_type": "markdown",
      "id": "8hSmUow8Yx2l",
      "metadata": {
        "id": "8hSmUow8Yx2l"
      },
      "source": [
        "## feature_importance"
      ]
    },
    {
      "cell_type": "code",
      "execution_count": null,
      "id": "jaVmoCWr_6Xq",
      "metadata": {
        "colab": {
          "base_uri": "https://localhost:8080/",
          "height": 833
        },
        "id": "jaVmoCWr_6Xq",
        "outputId": "776fc062-4284-4664-97e2-f99889eb03d1"
      },
      "outputs": [
        {
          "data": {
            "text/html": [
              "<div>\n",
              "<style scoped>\n",
              "    .dataframe tbody tr th:only-of-type {\n",
              "        vertical-align: middle;\n",
              "    }\n",
              "\n",
              "    .dataframe tbody tr th {\n",
              "        vertical-align: top;\n",
              "    }\n",
              "\n",
              "    .dataframe thead th {\n",
              "        text-align: right;\n",
              "    }\n",
              "</style>\n",
              "<table border=\"1\" class=\"dataframe\">\n",
              "  <thead>\n",
              "    <tr style=\"text-align: right;\">\n",
              "      <th></th>\n",
              "      <th>Feature Id</th>\n",
              "      <th>Importances</th>\n",
              "    </tr>\n",
              "  </thead>\n",
              "  <tbody>\n",
              "    <tr>\n",
              "      <th>0</th>\n",
              "      <td>idx_position</td>\n",
              "      <td>21.019839</td>\n",
              "    </tr>\n",
              "    <tr>\n",
              "      <th>1</th>\n",
              "      <td>lead_unit</td>\n",
              "      <td>19.617239</td>\n",
              "    </tr>\n",
              "    <tr>\n",
              "      <th>2</th>\n",
              "      <td>customer_idx</td>\n",
              "      <td>13.139347</td>\n",
              "    </tr>\n",
              "    <tr>\n",
              "      <th>3</th>\n",
              "      <td>customer_type</td>\n",
              "      <td>12.681342</td>\n",
              "    </tr>\n",
              "    <tr>\n",
              "      <th>4</th>\n",
              "      <td>idx_owner</td>\n",
              "      <td>5.194441</td>\n",
              "    </tr>\n",
              "    <tr>\n",
              "      <th>5</th>\n",
              "      <td>response_corporate</td>\n",
              "      <td>4.254902</td>\n",
              "    </tr>\n",
              "    <tr>\n",
              "      <th>6</th>\n",
              "      <td>country</td>\n",
              "      <td>3.717720</td>\n",
              "    </tr>\n",
              "    <tr>\n",
              "      <th>7</th>\n",
              "      <td>business_area</td>\n",
              "      <td>3.390235</td>\n",
              "    </tr>\n",
              "    <tr>\n",
              "      <th>8</th>\n",
              "      <td>lead_desc_length</td>\n",
              "      <td>3.211420</td>\n",
              "    </tr>\n",
              "    <tr>\n",
              "      <th>9</th>\n",
              "      <td>product_category</td>\n",
              "      <td>2.191123</td>\n",
              "    </tr>\n",
              "    <tr>\n",
              "      <th>10</th>\n",
              "      <td>com_reg_ver_win_rate</td>\n",
              "      <td>2.031127</td>\n",
              "    </tr>\n",
              "    <tr>\n",
              "      <th>11</th>\n",
              "      <td>inquiry_type</td>\n",
              "      <td>1.777574</td>\n",
              "    </tr>\n",
              "    <tr>\n",
              "      <th>12</th>\n",
              "      <td>lead_owner</td>\n",
              "      <td>1.409392</td>\n",
              "    </tr>\n",
              "    <tr>\n",
              "      <th>13</th>\n",
              "      <td>business_unit</td>\n",
              "      <td>1.406176</td>\n",
              "    </tr>\n",
              "    <tr>\n",
              "      <th>14</th>\n",
              "      <td>historical_existing_cnt</td>\n",
              "      <td>1.396164</td>\n",
              "    </tr>\n",
              "    <tr>\n",
              "      <th>15</th>\n",
              "      <td>customer_job</td>\n",
              "      <td>1.265959</td>\n",
              "    </tr>\n",
              "    <tr>\n",
              "      <th>16</th>\n",
              "      <td>business</td>\n",
              "      <td>0.677734</td>\n",
              "    </tr>\n",
              "    <tr>\n",
              "      <th>17</th>\n",
              "      <td>enterprise</td>\n",
              "      <td>0.641505</td>\n",
              "    </tr>\n",
              "    <tr>\n",
              "      <th>18</th>\n",
              "      <td>product_modelname</td>\n",
              "      <td>0.564048</td>\n",
              "    </tr>\n",
              "    <tr>\n",
              "      <th>19</th>\n",
              "      <td>expected_timeline_num</td>\n",
              "      <td>0.231616</td>\n",
              "    </tr>\n",
              "    <tr>\n",
              "      <th>20</th>\n",
              "      <td>city</td>\n",
              "      <td>0.125206</td>\n",
              "    </tr>\n",
              "    <tr>\n",
              "      <th>21</th>\n",
              "      <td>customer_position</td>\n",
              "      <td>0.055892</td>\n",
              "    </tr>\n",
              "  </tbody>\n",
              "</table>\n",
              "</div>"
            ],
            "text/plain": [
              "                 Feature Id  Importances\n",
              "0              idx_position    21.019839\n",
              "1                 lead_unit    19.617239\n",
              "2              customer_idx    13.139347\n",
              "3             customer_type    12.681342\n",
              "4                 idx_owner     5.194441\n",
              "5        response_corporate     4.254902\n",
              "6                   country     3.717720\n",
              "7             business_area     3.390235\n",
              "8          lead_desc_length     3.211420\n",
              "9          product_category     2.191123\n",
              "10     com_reg_ver_win_rate     2.031127\n",
              "11             inquiry_type     1.777574\n",
              "12               lead_owner     1.409392\n",
              "13            business_unit     1.406176\n",
              "14  historical_existing_cnt     1.396164\n",
              "15             customer_job     1.265959\n",
              "16                 business     0.677734\n",
              "17               enterprise     0.641505\n",
              "18        product_modelname     0.564048\n",
              "19    expected_timeline_num     0.231616\n",
              "20                     city     0.125206\n",
              "21        customer_position     0.055892"
            ]
          },
          "execution_count": 152,
          "metadata": {},
          "output_type": "execute_result"
        }
      ],
      "source": [
        "model.get_feature_importance(prettified=True)"
      ]
    },
    {
      "cell_type": "markdown",
      "id": "7adf8300",
      "metadata": {
        "id": "7adf8300"
      },
      "source": [
        "# 4. ⭕ 제출하기"
      ]
    },
    {
      "cell_type": "markdown",
      "id": "47f18e6a",
      "metadata": {
        "id": "47f18e6a"
      },
      "source": [
        "## 제출 파일 작성"
      ]
    },
    {
      "cell_type": "code",
      "execution_count": null,
      "id": "3128a458",
      "metadata": {
        "id": "3128a458",
        "outputId": "ad4eb2a5-28a4-4544-9cf0-1a7a32f8f44e"
      },
      "outputs": [
        {
          "name": "stdout",
          "output_type": "stream",
          "text": [
            "제출 파일 저장 완료\n"
          ]
        }
      ],
      "source": [
        "# 제출 데이터 읽어오기 (df_test는 전처리된 데이터가 저장됨)\n",
        "df_sub = pd.read_csv(\"submission.csv\")\n",
        "df_sub[\"is_converted\"] = pred\n",
        "\n",
        "# 제출 파일 저장\n",
        "df_sub.to_csv(\"submission.csv\", index=False)\n",
        "print(\"제출 파일 저장 완료\")"
      ]
    },
    {
      "cell_type": "markdown",
      "id": "ec7867ce",
      "metadata": {
        "id": "ec7867ce"
      },
      "source": [
        "**우측 상단의 제출 버튼을 클릭해 결과를 확인하세요**"
      ]
    },
    {
      "cell_type": "code",
      "execution_count": null,
      "id": "8faeef9c",
      "metadata": {
        "id": "8faeef9c"
      },
      "outputs": [],
      "source": []
    },
    {
      "cell_type": "code",
      "execution_count": null,
      "id": "2a44c5dd",
      "metadata": {
        "id": "2a44c5dd"
      },
      "outputs": [],
      "source": []
    }
  ],
  "metadata": {
    "colab": {
      "provenance": [],
      "toc_visible": true
    },
    "kernelspec": {
      "display_name": "Python 3 (ipykernel)",
      "language": "python",
      "name": "python3"
    },
    "language_info": {
      "codemirror_mode": {
        "name": "ipython",
        "version": 3
      },
      "file_extension": ".py",
      "mimetype": "text/x-python",
      "name": "python",
      "nbconvert_exporter": "python",
      "pygments_lexer": "ipython3",
      "version": "3.10.13"
    },
    "widgets": {
      "application/vnd.jupyter.widget-state+json": {
        "28607d13a271463786ae0d5ec9f6ce35": {
          "model_module": "@jupyter-widgets/controls",
          "model_module_version": "1.5.0",
          "model_name": "SliderStyleModel",
          "state": {
            "_model_module": "@jupyter-widgets/controls",
            "_model_module_version": "1.5.0",
            "_model_name": "SliderStyleModel",
            "_view_count": null,
            "_view_module": "@jupyter-widgets/base",
            "_view_module_version": "1.2.0",
            "_view_name": "StyleView",
            "description_width": "",
            "handle_color": null
          }
        },
        "32e2da2a7d2f448580a4405a7f4b1da1": {
          "model_module": "@jupyter-widgets/controls",
          "model_module_version": "1.5.0",
          "model_name": "IntSliderModel",
          "state": {
            "_dom_classes": [],
            "_model_module": "@jupyter-widgets/controls",
            "_model_module_version": "1.5.0",
            "_model_name": "IntSliderModel",
            "_view_count": null,
            "_view_module": "@jupyter-widgets/controls",
            "_view_module_version": "1.5.0",
            "_view_name": "IntSliderView",
            "continuous_update": true,
            "description": "",
            "description_tooltip": null,
            "disabled": false,
            "layout": "IPY_MODEL_ae2e16784c9a4c8ba15f162da6ee4656",
            "max": 100,
            "min": 0,
            "orientation": "horizontal",
            "readout": true,
            "readout_format": "d",
            "step": 1,
            "style": "IPY_MODEL_28607d13a271463786ae0d5ec9f6ce35",
            "value": 0
          }
        },
        "ae2e16784c9a4c8ba15f162da6ee4656": {
          "model_module": "@jupyter-widgets/base",
          "model_module_version": "1.2.0",
          "model_name": "LayoutModel",
          "state": {
            "_model_module": "@jupyter-widgets/base",
            "_model_module_version": "1.2.0",
            "_model_name": "LayoutModel",
            "_view_count": null,
            "_view_module": "@jupyter-widgets/base",
            "_view_module_version": "1.2.0",
            "_view_name": "LayoutView",
            "align_content": null,
            "align_items": null,
            "align_self": null,
            "border": null,
            "bottom": null,
            "display": null,
            "flex": null,
            "flex_flow": null,
            "grid_area": null,
            "grid_auto_columns": null,
            "grid_auto_flow": null,
            "grid_auto_rows": null,
            "grid_column": null,
            "grid_gap": null,
            "grid_row": null,
            "grid_template_areas": null,
            "grid_template_columns": null,
            "grid_template_rows": null,
            "height": null,
            "justify_content": null,
            "justify_items": null,
            "left": null,
            "margin": null,
            "max_height": null,
            "max_width": null,
            "min_height": null,
            "min_width": null,
            "object_fit": null,
            "object_position": null,
            "order": null,
            "overflow": null,
            "overflow_x": null,
            "overflow_y": null,
            "padding": null,
            "right": null,
            "top": null,
            "visibility": null,
            "width": null
          }
        }
      }
    }
  },
  "nbformat": 4,
  "nbformat_minor": 5
}