{
  "nbformat": 4,
  "nbformat_minor": 0,
  "metadata": {
    "colab": {
      "provenance": []
    },
    "kernelspec": {
      "name": "python3",
      "display_name": "Python 3"
    },
    "language_info": {
      "name": "python"
    }
  },
  "cells": [
    {
      "cell_type": "code",
      "execution_count": null,
      "metadata": {
        "id": "FolkZLb_IOP6"
      },
      "outputs": [],
      "source": [
        "import numpy as np\n",
        "import pandas as pd\n",
        "import matplotlib.pyplot as plt\n",
        "\n",
        "import tensorflow as tf\n",
        "import keras"
      ]
    },
    {
      "cell_type": "code",
      "source": [
        "!pip install ipython-autotime\n",
        "%load_ext autotime"
      ],
      "metadata": {
        "colab": {
          "base_uri": "https://localhost:8080/"
        },
        "id": "vaQqZ8foIYkV",
        "outputId": "18d0746c-de93-4773-ab71-4e704b98564e"
      },
      "execution_count": null,
      "outputs": [
        {
          "output_type": "stream",
          "name": "stdout",
          "text": [
            "Collecting ipython-autotime\n",
            "  Downloading ipython_autotime-0.3.2-py2.py3-none-any.whl (7.0 kB)\n",
            "Requirement already satisfied: ipython in /usr/local/lib/python3.10/dist-packages (from ipython-autotime) (7.34.0)\n",
            "Requirement already satisfied: setuptools>=18.5 in /usr/local/lib/python3.10/dist-packages (from ipython->ipython-autotime) (67.7.2)\n",
            "Collecting jedi>=0.16 (from ipython->ipython-autotime)\n",
            "  Downloading jedi-0.19.1-py2.py3-none-any.whl (1.6 MB)\n",
            "\u001b[2K     \u001b[90m━━━━━━━━━━━━━━━━━━━━━━━━━━━━━━━━━━━━━━━━\u001b[0m \u001b[32m1.6/1.6 MB\u001b[0m \u001b[31m7.3 MB/s\u001b[0m eta \u001b[36m0:00:00\u001b[0m\n",
            "\u001b[?25hRequirement already satisfied: decorator in /usr/local/lib/python3.10/dist-packages (from ipython->ipython-autotime) (4.4.2)\n",
            "Requirement already satisfied: pickleshare in /usr/local/lib/python3.10/dist-packages (from ipython->ipython-autotime) (0.7.5)\n",
            "Requirement already satisfied: traitlets>=4.2 in /usr/local/lib/python3.10/dist-packages (from ipython->ipython-autotime) (5.7.1)\n",
            "Requirement already satisfied: prompt-toolkit!=3.0.0,!=3.0.1,<3.1.0,>=2.0.0 in /usr/local/lib/python3.10/dist-packages (from ipython->ipython-autotime) (3.0.47)\n",
            "Requirement already satisfied: pygments in /usr/local/lib/python3.10/dist-packages (from ipython->ipython-autotime) (2.16.1)\n",
            "Requirement already satisfied: backcall in /usr/local/lib/python3.10/dist-packages (from ipython->ipython-autotime) (0.2.0)\n",
            "Requirement already satisfied: matplotlib-inline in /usr/local/lib/python3.10/dist-packages (from ipython->ipython-autotime) (0.1.7)\n",
            "Requirement already satisfied: pexpect>4.3 in /usr/local/lib/python3.10/dist-packages (from ipython->ipython-autotime) (4.9.0)\n",
            "Requirement already satisfied: parso<0.9.0,>=0.8.3 in /usr/local/lib/python3.10/dist-packages (from jedi>=0.16->ipython->ipython-autotime) (0.8.4)\n",
            "Requirement already satisfied: ptyprocess>=0.5 in /usr/local/lib/python3.10/dist-packages (from pexpect>4.3->ipython->ipython-autotime) (0.7.0)\n",
            "Requirement already satisfied: wcwidth in /usr/local/lib/python3.10/dist-packages (from prompt-toolkit!=3.0.0,!=3.0.1,<3.1.0,>=2.0.0->ipython->ipython-autotime) (0.2.13)\n",
            "Installing collected packages: jedi, ipython-autotime\n",
            "Successfully installed ipython-autotime-0.3.2 jedi-0.19.1\n",
            "time: 361 µs (started: 2024-06-28 04:37:10 +00:00)\n"
          ]
        }
      ]
    },
    {
      "cell_type": "code",
      "source": [
        "df = pd.read_csv('https://raw.githubusercontent.com/devdio/flyai_datasets/main/auto-mpg.csv')\n",
        "df.shape"
      ],
      "metadata": {
        "colab": {
          "base_uri": "https://localhost:8080/"
        },
        "id": "qf6t_PKzIYw2",
        "outputId": "b5acdf56-13d8-4f36-b62d-33e49d768628"
      },
      "execution_count": null,
      "outputs": [
        {
          "output_type": "execute_result",
          "data": {
            "text/plain": [
              "(398, 9)"
            ]
          },
          "metadata": {},
          "execution_count": 25
        },
        {
          "output_type": "stream",
          "name": "stdout",
          "text": [
            "time: 59.1 ms (started: 2024-06-28 04:56:55 +00:00)\n"
          ]
        }
      ]
    },
    {
      "cell_type": "code",
      "source": [
        "df.info()"
      ],
      "metadata": {
        "colab": {
          "base_uri": "https://localhost:8080/"
        },
        "id": "zjYIHyk0I6OJ",
        "outputId": "0cf1dac1-d194-4655-c527-22ee775262b0"
      },
      "execution_count": null,
      "outputs": [
        {
          "output_type": "stream",
          "name": "stdout",
          "text": [
            "<class 'pandas.core.frame.DataFrame'>\n",
            "RangeIndex: 398 entries, 0 to 397\n",
            "Data columns (total 9 columns):\n",
            " #   Column        Non-Null Count  Dtype  \n",
            "---  ------        --------------  -----  \n",
            " 0   mpg           398 non-null    float64\n",
            " 1   cylinders     398 non-null    int64  \n",
            " 2   displacement  398 non-null    float64\n",
            " 3   horsepower    398 non-null    object \n",
            " 4   weight        398 non-null    int64  \n",
            " 5   acceleration  398 non-null    float64\n",
            " 6   model year    398 non-null    int64  \n",
            " 7   origin        398 non-null    int64  \n",
            " 8   car name      398 non-null    object \n",
            "dtypes: float64(3), int64(4), object(2)\n",
            "memory usage: 28.1+ KB\n",
            "time: 15.4 ms (started: 2024-06-28 04:56:56 +00:00)\n"
          ]
        }
      ]
    },
    {
      "cell_type": "code",
      "source": [
        "df.columns = [col.replace(' ','_') for col in df.columns]\n",
        "df"
      ],
      "metadata": {
        "colab": {
          "base_uri": "https://localhost:8080/",
          "height": 442
        },
        "id": "rdV2TFMlJcGX",
        "outputId": "1cfa66db-55e5-42bf-930e-b1483be49af9"
      },
      "execution_count": null,
      "outputs": [
        {
          "output_type": "execute_result",
          "data": {
            "text/plain": [
              "      mpg  cylinders  displacement horsepower  weight  acceleration  \\\n",
              "0    18.0          8         307.0        130    3504          12.0   \n",
              "1    15.0          8         350.0        165    3693          11.5   \n",
              "2    18.0          8         318.0        150    3436          11.0   \n",
              "3    16.0          8         304.0        150    3433          12.0   \n",
              "4    17.0          8         302.0        140    3449          10.5   \n",
              "..    ...        ...           ...        ...     ...           ...   \n",
              "393  27.0          4         140.0         86    2790          15.6   \n",
              "394  44.0          4          97.0         52    2130          24.6   \n",
              "395  32.0          4         135.0         84    2295          11.6   \n",
              "396  28.0          4         120.0         79    2625          18.6   \n",
              "397  31.0          4         119.0         82    2720          19.4   \n",
              "\n",
              "     model_year  origin                   car_name  \n",
              "0            70       1  chevrolet chevelle malibu  \n",
              "1            70       1          buick skylark 320  \n",
              "2            70       1         plymouth satellite  \n",
              "3            70       1              amc rebel sst  \n",
              "4            70       1                ford torino  \n",
              "..          ...     ...                        ...  \n",
              "393          82       1            ford mustang gl  \n",
              "394          82       2                  vw pickup  \n",
              "395          82       1              dodge rampage  \n",
              "396          82       1                ford ranger  \n",
              "397          82       1                 chevy s-10  \n",
              "\n",
              "[398 rows x 9 columns]"
            ],
            "text/html": [
              "\n",
              "  <div id=\"df-736d02e9-29bf-4ecc-826d-00cedf661039\" class=\"colab-df-container\">\n",
              "    <div>\n",
              "<style scoped>\n",
              "    .dataframe tbody tr th:only-of-type {\n",
              "        vertical-align: middle;\n",
              "    }\n",
              "\n",
              "    .dataframe tbody tr th {\n",
              "        vertical-align: top;\n",
              "    }\n",
              "\n",
              "    .dataframe thead th {\n",
              "        text-align: right;\n",
              "    }\n",
              "</style>\n",
              "<table border=\"1\" class=\"dataframe\">\n",
              "  <thead>\n",
              "    <tr style=\"text-align: right;\">\n",
              "      <th></th>\n",
              "      <th>mpg</th>\n",
              "      <th>cylinders</th>\n",
              "      <th>displacement</th>\n",
              "      <th>horsepower</th>\n",
              "      <th>weight</th>\n",
              "      <th>acceleration</th>\n",
              "      <th>model_year</th>\n",
              "      <th>origin</th>\n",
              "      <th>car_name</th>\n",
              "    </tr>\n",
              "  </thead>\n",
              "  <tbody>\n",
              "    <tr>\n",
              "      <th>0</th>\n",
              "      <td>18.0</td>\n",
              "      <td>8</td>\n",
              "      <td>307.0</td>\n",
              "      <td>130</td>\n",
              "      <td>3504</td>\n",
              "      <td>12.0</td>\n",
              "      <td>70</td>\n",
              "      <td>1</td>\n",
              "      <td>chevrolet chevelle malibu</td>\n",
              "    </tr>\n",
              "    <tr>\n",
              "      <th>1</th>\n",
              "      <td>15.0</td>\n",
              "      <td>8</td>\n",
              "      <td>350.0</td>\n",
              "      <td>165</td>\n",
              "      <td>3693</td>\n",
              "      <td>11.5</td>\n",
              "      <td>70</td>\n",
              "      <td>1</td>\n",
              "      <td>buick skylark 320</td>\n",
              "    </tr>\n",
              "    <tr>\n",
              "      <th>2</th>\n",
              "      <td>18.0</td>\n",
              "      <td>8</td>\n",
              "      <td>318.0</td>\n",
              "      <td>150</td>\n",
              "      <td>3436</td>\n",
              "      <td>11.0</td>\n",
              "      <td>70</td>\n",
              "      <td>1</td>\n",
              "      <td>plymouth satellite</td>\n",
              "    </tr>\n",
              "    <tr>\n",
              "      <th>3</th>\n",
              "      <td>16.0</td>\n",
              "      <td>8</td>\n",
              "      <td>304.0</td>\n",
              "      <td>150</td>\n",
              "      <td>3433</td>\n",
              "      <td>12.0</td>\n",
              "      <td>70</td>\n",
              "      <td>1</td>\n",
              "      <td>amc rebel sst</td>\n",
              "    </tr>\n",
              "    <tr>\n",
              "      <th>4</th>\n",
              "      <td>17.0</td>\n",
              "      <td>8</td>\n",
              "      <td>302.0</td>\n",
              "      <td>140</td>\n",
              "      <td>3449</td>\n",
              "      <td>10.5</td>\n",
              "      <td>70</td>\n",
              "      <td>1</td>\n",
              "      <td>ford torino</td>\n",
              "    </tr>\n",
              "    <tr>\n",
              "      <th>...</th>\n",
              "      <td>...</td>\n",
              "      <td>...</td>\n",
              "      <td>...</td>\n",
              "      <td>...</td>\n",
              "      <td>...</td>\n",
              "      <td>...</td>\n",
              "      <td>...</td>\n",
              "      <td>...</td>\n",
              "      <td>...</td>\n",
              "    </tr>\n",
              "    <tr>\n",
              "      <th>393</th>\n",
              "      <td>27.0</td>\n",
              "      <td>4</td>\n",
              "      <td>140.0</td>\n",
              "      <td>86</td>\n",
              "      <td>2790</td>\n",
              "      <td>15.6</td>\n",
              "      <td>82</td>\n",
              "      <td>1</td>\n",
              "      <td>ford mustang gl</td>\n",
              "    </tr>\n",
              "    <tr>\n",
              "      <th>394</th>\n",
              "      <td>44.0</td>\n",
              "      <td>4</td>\n",
              "      <td>97.0</td>\n",
              "      <td>52</td>\n",
              "      <td>2130</td>\n",
              "      <td>24.6</td>\n",
              "      <td>82</td>\n",
              "      <td>2</td>\n",
              "      <td>vw pickup</td>\n",
              "    </tr>\n",
              "    <tr>\n",
              "      <th>395</th>\n",
              "      <td>32.0</td>\n",
              "      <td>4</td>\n",
              "      <td>135.0</td>\n",
              "      <td>84</td>\n",
              "      <td>2295</td>\n",
              "      <td>11.6</td>\n",
              "      <td>82</td>\n",
              "      <td>1</td>\n",
              "      <td>dodge rampage</td>\n",
              "    </tr>\n",
              "    <tr>\n",
              "      <th>396</th>\n",
              "      <td>28.0</td>\n",
              "      <td>4</td>\n",
              "      <td>120.0</td>\n",
              "      <td>79</td>\n",
              "      <td>2625</td>\n",
              "      <td>18.6</td>\n",
              "      <td>82</td>\n",
              "      <td>1</td>\n",
              "      <td>ford ranger</td>\n",
              "    </tr>\n",
              "    <tr>\n",
              "      <th>397</th>\n",
              "      <td>31.0</td>\n",
              "      <td>4</td>\n",
              "      <td>119.0</td>\n",
              "      <td>82</td>\n",
              "      <td>2720</td>\n",
              "      <td>19.4</td>\n",
              "      <td>82</td>\n",
              "      <td>1</td>\n",
              "      <td>chevy s-10</td>\n",
              "    </tr>\n",
              "  </tbody>\n",
              "</table>\n",
              "<p>398 rows × 9 columns</p>\n",
              "</div>\n",
              "    <div class=\"colab-df-buttons\">\n",
              "\n",
              "  <div class=\"colab-df-container\">\n",
              "    <button class=\"colab-df-convert\" onclick=\"convertToInteractive('df-736d02e9-29bf-4ecc-826d-00cedf661039')\"\n",
              "            title=\"Convert this dataframe to an interactive table.\"\n",
              "            style=\"display:none;\">\n",
              "\n",
              "  <svg xmlns=\"http://www.w3.org/2000/svg\" height=\"24px\" viewBox=\"0 -960 960 960\">\n",
              "    <path d=\"M120-120v-720h720v720H120Zm60-500h600v-160H180v160Zm220 220h160v-160H400v160Zm0 220h160v-160H400v160ZM180-400h160v-160H180v160Zm440 0h160v-160H620v160ZM180-180h160v-160H180v160Zm440 0h160v-160H620v160Z\"/>\n",
              "  </svg>\n",
              "    </button>\n",
              "\n",
              "  <style>\n",
              "    .colab-df-container {\n",
              "      display:flex;\n",
              "      gap: 12px;\n",
              "    }\n",
              "\n",
              "    .colab-df-convert {\n",
              "      background-color: #E8F0FE;\n",
              "      border: none;\n",
              "      border-radius: 50%;\n",
              "      cursor: pointer;\n",
              "      display: none;\n",
              "      fill: #1967D2;\n",
              "      height: 32px;\n",
              "      padding: 0 0 0 0;\n",
              "      width: 32px;\n",
              "    }\n",
              "\n",
              "    .colab-df-convert:hover {\n",
              "      background-color: #E2EBFA;\n",
              "      box-shadow: 0px 1px 2px rgba(60, 64, 67, 0.3), 0px 1px 3px 1px rgba(60, 64, 67, 0.15);\n",
              "      fill: #174EA6;\n",
              "    }\n",
              "\n",
              "    .colab-df-buttons div {\n",
              "      margin-bottom: 4px;\n",
              "    }\n",
              "\n",
              "    [theme=dark] .colab-df-convert {\n",
              "      background-color: #3B4455;\n",
              "      fill: #D2E3FC;\n",
              "    }\n",
              "\n",
              "    [theme=dark] .colab-df-convert:hover {\n",
              "      background-color: #434B5C;\n",
              "      box-shadow: 0px 1px 3px 1px rgba(0, 0, 0, 0.15);\n",
              "      filter: drop-shadow(0px 1px 2px rgba(0, 0, 0, 0.3));\n",
              "      fill: #FFFFFF;\n",
              "    }\n",
              "  </style>\n",
              "\n",
              "    <script>\n",
              "      const buttonEl =\n",
              "        document.querySelector('#df-736d02e9-29bf-4ecc-826d-00cedf661039 button.colab-df-convert');\n",
              "      buttonEl.style.display =\n",
              "        google.colab.kernel.accessAllowed ? 'block' : 'none';\n",
              "\n",
              "      async function convertToInteractive(key) {\n",
              "        const element = document.querySelector('#df-736d02e9-29bf-4ecc-826d-00cedf661039');\n",
              "        const dataTable =\n",
              "          await google.colab.kernel.invokeFunction('convertToInteractive',\n",
              "                                                    [key], {});\n",
              "        if (!dataTable) return;\n",
              "\n",
              "        const docLinkHtml = 'Like what you see? Visit the ' +\n",
              "          '<a target=\"_blank\" href=https://colab.research.google.com/notebooks/data_table.ipynb>data table notebook</a>'\n",
              "          + ' to learn more about interactive tables.';\n",
              "        element.innerHTML = '';\n",
              "        dataTable['output_type'] = 'display_data';\n",
              "        await google.colab.output.renderOutput(dataTable, element);\n",
              "        const docLink = document.createElement('div');\n",
              "        docLink.innerHTML = docLinkHtml;\n",
              "        element.appendChild(docLink);\n",
              "      }\n",
              "    </script>\n",
              "  </div>\n",
              "\n",
              "\n",
              "<div id=\"df-1dcd82a2-0ba5-4de1-b1d0-307ca853d403\">\n",
              "  <button class=\"colab-df-quickchart\" onclick=\"quickchart('df-1dcd82a2-0ba5-4de1-b1d0-307ca853d403')\"\n",
              "            title=\"Suggest charts\"\n",
              "            style=\"display:none;\">\n",
              "\n",
              "<svg xmlns=\"http://www.w3.org/2000/svg\" height=\"24px\"viewBox=\"0 0 24 24\"\n",
              "     width=\"24px\">\n",
              "    <g>\n",
              "        <path d=\"M19 3H5c-1.1 0-2 .9-2 2v14c0 1.1.9 2 2 2h14c1.1 0 2-.9 2-2V5c0-1.1-.9-2-2-2zM9 17H7v-7h2v7zm4 0h-2V7h2v10zm4 0h-2v-4h2v4z\"/>\n",
              "    </g>\n",
              "</svg>\n",
              "  </button>\n",
              "\n",
              "<style>\n",
              "  .colab-df-quickchart {\n",
              "      --bg-color: #E8F0FE;\n",
              "      --fill-color: #1967D2;\n",
              "      --hover-bg-color: #E2EBFA;\n",
              "      --hover-fill-color: #174EA6;\n",
              "      --disabled-fill-color: #AAA;\n",
              "      --disabled-bg-color: #DDD;\n",
              "  }\n",
              "\n",
              "  [theme=dark] .colab-df-quickchart {\n",
              "      --bg-color: #3B4455;\n",
              "      --fill-color: #D2E3FC;\n",
              "      --hover-bg-color: #434B5C;\n",
              "      --hover-fill-color: #FFFFFF;\n",
              "      --disabled-bg-color: #3B4455;\n",
              "      --disabled-fill-color: #666;\n",
              "  }\n",
              "\n",
              "  .colab-df-quickchart {\n",
              "    background-color: var(--bg-color);\n",
              "    border: none;\n",
              "    border-radius: 50%;\n",
              "    cursor: pointer;\n",
              "    display: none;\n",
              "    fill: var(--fill-color);\n",
              "    height: 32px;\n",
              "    padding: 0;\n",
              "    width: 32px;\n",
              "  }\n",
              "\n",
              "  .colab-df-quickchart:hover {\n",
              "    background-color: var(--hover-bg-color);\n",
              "    box-shadow: 0 1px 2px rgba(60, 64, 67, 0.3), 0 1px 3px 1px rgba(60, 64, 67, 0.15);\n",
              "    fill: var(--button-hover-fill-color);\n",
              "  }\n",
              "\n",
              "  .colab-df-quickchart-complete:disabled,\n",
              "  .colab-df-quickchart-complete:disabled:hover {\n",
              "    background-color: var(--disabled-bg-color);\n",
              "    fill: var(--disabled-fill-color);\n",
              "    box-shadow: none;\n",
              "  }\n",
              "\n",
              "  .colab-df-spinner {\n",
              "    border: 2px solid var(--fill-color);\n",
              "    border-color: transparent;\n",
              "    border-bottom-color: var(--fill-color);\n",
              "    animation:\n",
              "      spin 1s steps(1) infinite;\n",
              "  }\n",
              "\n",
              "  @keyframes spin {\n",
              "    0% {\n",
              "      border-color: transparent;\n",
              "      border-bottom-color: var(--fill-color);\n",
              "      border-left-color: var(--fill-color);\n",
              "    }\n",
              "    20% {\n",
              "      border-color: transparent;\n",
              "      border-left-color: var(--fill-color);\n",
              "      border-top-color: var(--fill-color);\n",
              "    }\n",
              "    30% {\n",
              "      border-color: transparent;\n",
              "      border-left-color: var(--fill-color);\n",
              "      border-top-color: var(--fill-color);\n",
              "      border-right-color: var(--fill-color);\n",
              "    }\n",
              "    40% {\n",
              "      border-color: transparent;\n",
              "      border-right-color: var(--fill-color);\n",
              "      border-top-color: var(--fill-color);\n",
              "    }\n",
              "    60% {\n",
              "      border-color: transparent;\n",
              "      border-right-color: var(--fill-color);\n",
              "    }\n",
              "    80% {\n",
              "      border-color: transparent;\n",
              "      border-right-color: var(--fill-color);\n",
              "      border-bottom-color: var(--fill-color);\n",
              "    }\n",
              "    90% {\n",
              "      border-color: transparent;\n",
              "      border-bottom-color: var(--fill-color);\n",
              "    }\n",
              "  }\n",
              "</style>\n",
              "\n",
              "  <script>\n",
              "    async function quickchart(key) {\n",
              "      const quickchartButtonEl =\n",
              "        document.querySelector('#' + key + ' button');\n",
              "      quickchartButtonEl.disabled = true;  // To prevent multiple clicks.\n",
              "      quickchartButtonEl.classList.add('colab-df-spinner');\n",
              "      try {\n",
              "        const charts = await google.colab.kernel.invokeFunction(\n",
              "            'suggestCharts', [key], {});\n",
              "      } catch (error) {\n",
              "        console.error('Error during call to suggestCharts:', error);\n",
              "      }\n",
              "      quickchartButtonEl.classList.remove('colab-df-spinner');\n",
              "      quickchartButtonEl.classList.add('colab-df-quickchart-complete');\n",
              "    }\n",
              "    (() => {\n",
              "      let quickchartButtonEl =\n",
              "        document.querySelector('#df-1dcd82a2-0ba5-4de1-b1d0-307ca853d403 button');\n",
              "      quickchartButtonEl.style.display =\n",
              "        google.colab.kernel.accessAllowed ? 'block' : 'none';\n",
              "    })();\n",
              "  </script>\n",
              "</div>\n",
              "\n",
              "  <div id=\"id_fba3704d-8354-4a90-ba4f-5357b9274c24\">\n",
              "    <style>\n",
              "      .colab-df-generate {\n",
              "        background-color: #E8F0FE;\n",
              "        border: none;\n",
              "        border-radius: 50%;\n",
              "        cursor: pointer;\n",
              "        display: none;\n",
              "        fill: #1967D2;\n",
              "        height: 32px;\n",
              "        padding: 0 0 0 0;\n",
              "        width: 32px;\n",
              "      }\n",
              "\n",
              "      .colab-df-generate:hover {\n",
              "        background-color: #E2EBFA;\n",
              "        box-shadow: 0px 1px 2px rgba(60, 64, 67, 0.3), 0px 1px 3px 1px rgba(60, 64, 67, 0.15);\n",
              "        fill: #174EA6;\n",
              "      }\n",
              "\n",
              "      [theme=dark] .colab-df-generate {\n",
              "        background-color: #3B4455;\n",
              "        fill: #D2E3FC;\n",
              "      }\n",
              "\n",
              "      [theme=dark] .colab-df-generate:hover {\n",
              "        background-color: #434B5C;\n",
              "        box-shadow: 0px 1px 3px 1px rgba(0, 0, 0, 0.15);\n",
              "        filter: drop-shadow(0px 1px 2px rgba(0, 0, 0, 0.3));\n",
              "        fill: #FFFFFF;\n",
              "      }\n",
              "    </style>\n",
              "    <button class=\"colab-df-generate\" onclick=\"generateWithVariable('df')\"\n",
              "            title=\"Generate code using this dataframe.\"\n",
              "            style=\"display:none;\">\n",
              "\n",
              "  <svg xmlns=\"http://www.w3.org/2000/svg\" height=\"24px\"viewBox=\"0 0 24 24\"\n",
              "       width=\"24px\">\n",
              "    <path d=\"M7,19H8.4L18.45,9,17,7.55,7,17.6ZM5,21V16.75L18.45,3.32a2,2,0,0,1,2.83,0l1.4,1.43a1.91,1.91,0,0,1,.58,1.4,1.91,1.91,0,0,1-.58,1.4L9.25,21ZM18.45,9,17,7.55Zm-12,3A5.31,5.31,0,0,0,4.9,8.1,5.31,5.31,0,0,0,1,6.5,5.31,5.31,0,0,0,4.9,4.9,5.31,5.31,0,0,0,6.5,1,5.31,5.31,0,0,0,8.1,4.9,5.31,5.31,0,0,0,12,6.5,5.46,5.46,0,0,0,6.5,12Z\"/>\n",
              "  </svg>\n",
              "    </button>\n",
              "    <script>\n",
              "      (() => {\n",
              "      const buttonEl =\n",
              "        document.querySelector('#id_fba3704d-8354-4a90-ba4f-5357b9274c24 button.colab-df-generate');\n",
              "      buttonEl.style.display =\n",
              "        google.colab.kernel.accessAllowed ? 'block' : 'none';\n",
              "\n",
              "      buttonEl.onclick = () => {\n",
              "        google.colab.notebook.generateWithVariable('df');\n",
              "      }\n",
              "      })();\n",
              "    </script>\n",
              "  </div>\n",
              "\n",
              "    </div>\n",
              "  </div>\n"
            ],
            "application/vnd.google.colaboratory.intrinsic+json": {
              "type": "dataframe",
              "variable_name": "df",
              "summary": "{\n  \"name\": \"df\",\n  \"rows\": 398,\n  \"fields\": [\n    {\n      \"column\": \"mpg\",\n      \"properties\": {\n        \"dtype\": \"number\",\n        \"std\": 7.815984312565782,\n        \"min\": 9.0,\n        \"max\": 46.6,\n        \"num_unique_values\": 129,\n        \"samples\": [\n          17.7,\n          30.5,\n          30.0\n        ],\n        \"semantic_type\": \"\",\n        \"description\": \"\"\n      }\n    },\n    {\n      \"column\": \"cylinders\",\n      \"properties\": {\n        \"dtype\": \"number\",\n        \"std\": 1,\n        \"min\": 3,\n        \"max\": 8,\n        \"num_unique_values\": 5,\n        \"samples\": [\n          4,\n          5,\n          6\n        ],\n        \"semantic_type\": \"\",\n        \"description\": \"\"\n      }\n    },\n    {\n      \"column\": \"displacement\",\n      \"properties\": {\n        \"dtype\": \"number\",\n        \"std\": 104.26983817119591,\n        \"min\": 68.0,\n        \"max\": 455.0,\n        \"num_unique_values\": 82,\n        \"samples\": [\n          122.0,\n          307.0,\n          360.0\n        ],\n        \"semantic_type\": \"\",\n        \"description\": \"\"\n      }\n    },\n    {\n      \"column\": \"horsepower\",\n      \"properties\": {\n        \"dtype\": \"category\",\n        \"num_unique_values\": 94,\n        \"samples\": [\n          \"112\",\n          \"?\",\n          \"78\"\n        ],\n        \"semantic_type\": \"\",\n        \"description\": \"\"\n      }\n    },\n    {\n      \"column\": \"weight\",\n      \"properties\": {\n        \"dtype\": \"number\",\n        \"std\": 846,\n        \"min\": 1613,\n        \"max\": 5140,\n        \"num_unique_values\": 351,\n        \"samples\": [\n          3730,\n          1995,\n          2215\n        ],\n        \"semantic_type\": \"\",\n        \"description\": \"\"\n      }\n    },\n    {\n      \"column\": \"acceleration\",\n      \"properties\": {\n        \"dtype\": \"number\",\n        \"std\": 2.757688929812676,\n        \"min\": 8.0,\n        \"max\": 24.8,\n        \"num_unique_values\": 95,\n        \"samples\": [\n          14.7,\n          18.0,\n          14.3\n        ],\n        \"semantic_type\": \"\",\n        \"description\": \"\"\n      }\n    },\n    {\n      \"column\": \"model_year\",\n      \"properties\": {\n        \"dtype\": \"number\",\n        \"std\": 3,\n        \"min\": 70,\n        \"max\": 82,\n        \"num_unique_values\": 13,\n        \"samples\": [\n          81,\n          79,\n          70\n        ],\n        \"semantic_type\": \"\",\n        \"description\": \"\"\n      }\n    },\n    {\n      \"column\": \"origin\",\n      \"properties\": {\n        \"dtype\": \"number\",\n        \"std\": 0,\n        \"min\": 1,\n        \"max\": 3,\n        \"num_unique_values\": 3,\n        \"samples\": [\n          1,\n          3,\n          2\n        ],\n        \"semantic_type\": \"\",\n        \"description\": \"\"\n      }\n    },\n    {\n      \"column\": \"car_name\",\n      \"properties\": {\n        \"dtype\": \"string\",\n        \"num_unique_values\": 305,\n        \"samples\": [\n          \"mazda rx-4\",\n          \"ford f108\",\n          \"buick century luxus (sw)\"\n        ],\n        \"semantic_type\": \"\",\n        \"description\": \"\"\n      }\n    }\n  ]\n}"
            }
          },
          "metadata": {},
          "execution_count": 27
        },
        {
          "output_type": "stream",
          "name": "stdout",
          "text": [
            "time: 42.8 ms (started: 2024-06-28 04:56:56 +00:00)\n"
          ]
        }
      ]
    },
    {
      "cell_type": "code",
      "source": [
        "df['horsepower'].sort_values()"
      ],
      "metadata": {
        "colab": {
          "base_uri": "https://localhost:8080/"
        },
        "id": "Kea_oJRkJmRY",
        "outputId": "1322f1b0-5c37-4d2c-ab8c-6eeaaaa9b0df"
      },
      "execution_count": null,
      "outputs": [
        {
          "output_type": "execute_result",
          "data": {
            "text/plain": [
              "133    100\n",
              "98     100\n",
              "256    100\n",
              "107    100\n",
              "334    100\n",
              "      ... \n",
              "126      ?\n",
              "374      ?\n",
              "354      ?\n",
              "32       ?\n",
              "336      ?\n",
              "Name: horsepower, Length: 398, dtype: object"
            ]
          },
          "metadata": {},
          "execution_count": 28
        },
        {
          "output_type": "stream",
          "name": "stdout",
          "text": [
            "time: 6.18 ms (started: 2024-06-28 04:56:56 +00:00)\n"
          ]
        }
      ]
    },
    {
      "cell_type": "code",
      "source": [
        "df.loc[df['horsepower']=='?','horsepower'] = np.nan\n",
        "df['horsepower'] = df['horsepower'].astype(float)"
      ],
      "metadata": {
        "colab": {
          "base_uri": "https://localhost:8080/"
        },
        "id": "-paqoVcuKPZ9",
        "outputId": "988ab4ad-5765-477d-8921-1671e4d528f4"
      },
      "execution_count": null,
      "outputs": [
        {
          "output_type": "stream",
          "name": "stdout",
          "text": [
            "time: 2.66 ms (started: 2024-06-28 04:56:56 +00:00)\n"
          ]
        }
      ]
    },
    {
      "cell_type": "code",
      "source": [
        "df.isna().sum()"
      ],
      "metadata": {
        "colab": {
          "base_uri": "https://localhost:8080/"
        },
        "id": "1IL4idGCKlO4",
        "outputId": "13069f23-a2a8-4971-f61a-485280de52c7"
      },
      "execution_count": null,
      "outputs": [
        {
          "output_type": "execute_result",
          "data": {
            "text/plain": [
              "mpg             0\n",
              "cylinders       0\n",
              "displacement    0\n",
              "horsepower      6\n",
              "weight          0\n",
              "acceleration    0\n",
              "model_year      0\n",
              "origin          0\n",
              "car_name        0\n",
              "dtype: int64"
            ]
          },
          "metadata": {},
          "execution_count": 30
        },
        {
          "output_type": "stream",
          "name": "stdout",
          "text": [
            "time: 5.06 ms (started: 2024-06-28 04:56:57 +00:00)\n"
          ]
        }
      ]
    },
    {
      "cell_type": "code",
      "source": [
        "df.dropna(inplace=True,axis=0,subset=['horsepower'])\n",
        "df.info()"
      ],
      "metadata": {
        "colab": {
          "base_uri": "https://localhost:8080/"
        },
        "id": "iA0fRoWwKxN-",
        "outputId": "34983a20-ed24-42fa-b2ff-48ef84ea6372"
      },
      "execution_count": null,
      "outputs": [
        {
          "output_type": "stream",
          "name": "stdout",
          "text": [
            "<class 'pandas.core.frame.DataFrame'>\n",
            "Index: 392 entries, 0 to 397\n",
            "Data columns (total 9 columns):\n",
            " #   Column        Non-Null Count  Dtype  \n",
            "---  ------        --------------  -----  \n",
            " 0   mpg           392 non-null    float64\n",
            " 1   cylinders     392 non-null    int64  \n",
            " 2   displacement  392 non-null    float64\n",
            " 3   horsepower    392 non-null    float64\n",
            " 4   weight        392 non-null    int64  \n",
            " 5   acceleration  392 non-null    float64\n",
            " 6   model_year    392 non-null    int64  \n",
            " 7   origin        392 non-null    int64  \n",
            " 8   car_name      392 non-null    object \n",
            "dtypes: float64(4), int64(4), object(1)\n",
            "memory usage: 30.6+ KB\n",
            "time: 11.1 ms (started: 2024-06-28 04:56:57 +00:00)\n"
          ]
        }
      ]
    },
    {
      "cell_type": "code",
      "source": [
        "df = df.drop(['origin','car_name'],axis=1)"
      ],
      "metadata": {
        "colab": {
          "base_uri": "https://localhost:8080/"
        },
        "id": "C56duSG7MSMr",
        "outputId": "977e3f95-5843-4ad2-ba2b-a089750ab602"
      },
      "execution_count": null,
      "outputs": [
        {
          "output_type": "stream",
          "name": "stdout",
          "text": [
            "time: 1.71 ms (started: 2024-06-28 04:56:59 +00:00)\n"
          ]
        }
      ]
    },
    {
      "cell_type": "code",
      "source": [
        "from sklearn.model_selection import train_test_split\n",
        "\n",
        "X = df.drop('mpg',axis=1)\n",
        "y = df['mpg']\n",
        "\n",
        "X_train, X_test, y_train, y_test = train_test_split(X, y, test_size=0.2, random_state=42)"
      ],
      "metadata": {
        "colab": {
          "base_uri": "https://localhost:8080/"
        },
        "id": "29zBk9FCLsqP",
        "outputId": "56df178b-69b6-48f9-9073-78e17f62bdcc"
      },
      "execution_count": null,
      "outputs": [
        {
          "output_type": "stream",
          "name": "stdout",
          "text": [
            "time: 9.96 ms (started: 2024-06-28 04:58:17 +00:00)\n"
          ]
        }
      ]
    },
    {
      "cell_type": "code",
      "source": [
        "X_train.info()"
      ],
      "metadata": {
        "colab": {
          "base_uri": "https://localhost:8080/"
        },
        "id": "Zw9owiUTNqVt",
        "outputId": "ed4ec563-365d-44c1-eb2e-0d1fd8c1c4e1"
      },
      "execution_count": null,
      "outputs": [
        {
          "output_type": "stream",
          "name": "stdout",
          "text": [
            "<class 'pandas.core.frame.DataFrame'>\n",
            "Index: 313 entries, 260 to 103\n",
            "Data columns (total 6 columns):\n",
            " #   Column        Non-Null Count  Dtype  \n",
            "---  ------        --------------  -----  \n",
            " 0   cylinders     313 non-null    float64\n",
            " 1   displacement  313 non-null    float64\n",
            " 2   horsepower    313 non-null    float64\n",
            " 3   weight        313 non-null    float64\n",
            " 4   acceleration  313 non-null    float64\n",
            " 5   model_year    313 non-null    float64\n",
            "dtypes: float64(6)\n",
            "memory usage: 17.1 KB\n",
            "time: 16.2 ms (started: 2024-06-28 04:59:48 +00:00)\n"
          ]
        }
      ]
    },
    {
      "cell_type": "code",
      "source": [
        "num_cols = X_train.select_dtypes(include=['int64','float64']).columns"
      ],
      "metadata": {
        "colab": {
          "base_uri": "https://localhost:8080/"
        },
        "id": "UrY_qmm_L8rl",
        "outputId": "6a78ec63-1c9b-4d5e-b3a3-26d2d89f73bd"
      },
      "execution_count": null,
      "outputs": [
        {
          "output_type": "stream",
          "name": "stdout",
          "text": [
            "time: 1.49 ms (started: 2024-06-28 04:58:19 +00:00)\n"
          ]
        }
      ]
    },
    {
      "cell_type": "code",
      "source": [
        "type(num_cols)"
      ],
      "metadata": {
        "colab": {
          "base_uri": "https://localhost:8080/"
        },
        "id": "AWylsunIMoEU",
        "outputId": "37d1f28a-5b53-407a-a2ea-b0f05733d59c"
      },
      "execution_count": null,
      "outputs": [
        {
          "output_type": "execute_result",
          "data": {
            "text/plain": [
              "pandas.core.indexes.base.Index"
            ]
          },
          "metadata": {},
          "execution_count": 42
        },
        {
          "output_type": "stream",
          "name": "stdout",
          "text": [
            "time: 3.82 ms (started: 2024-06-28 04:58:19 +00:00)\n"
          ]
        }
      ]
    },
    {
      "cell_type": "code",
      "source": [
        "from sklearn.preprocessing import StandardScaler\n",
        "\n",
        "scaler = StandardScaler()\n",
        "X_train[num_cols] = scaler.fit_transform(X_train[num_cols])\n",
        "X_test[num_cols] = scaler.transform(X_test[num_cols])\n",
        "X_train.head()"
      ],
      "metadata": {
        "colab": {
          "base_uri": "https://localhost:8080/",
          "height": 225
        },
        "id": "CYF3xMT1LOXk",
        "outputId": "6cc965e2-fba4-42d3-c506-2be665513341"
      },
      "execution_count": null,
      "outputs": [
        {
          "output_type": "execute_result",
          "data": {
            "text/plain": [
              "    mpg  cylinders  displacement  horsepower  weight  acceleration  model_year\n",
              "0  18.0          8         307.0       130.0    3504          12.0          70\n",
              "1  15.0          8         350.0       165.0    3693          11.5          70\n",
              "2  18.0          8         318.0       150.0    3436          11.0          70\n",
              "3  16.0          8         304.0       150.0    3433          12.0          70\n",
              "4  17.0          8         302.0       140.0    3449          10.5          70"
            ],
            "text/html": [
              "\n",
              "  <div id=\"df-f17e6c65-5dcc-4d70-96e4-f706f6b15424\" class=\"colab-df-container\">\n",
              "    <div>\n",
              "<style scoped>\n",
              "    .dataframe tbody tr th:only-of-type {\n",
              "        vertical-align: middle;\n",
              "    }\n",
              "\n",
              "    .dataframe tbody tr th {\n",
              "        vertical-align: top;\n",
              "    }\n",
              "\n",
              "    .dataframe thead th {\n",
              "        text-align: right;\n",
              "    }\n",
              "</style>\n",
              "<table border=\"1\" class=\"dataframe\">\n",
              "  <thead>\n",
              "    <tr style=\"text-align: right;\">\n",
              "      <th></th>\n",
              "      <th>mpg</th>\n",
              "      <th>cylinders</th>\n",
              "      <th>displacement</th>\n",
              "      <th>horsepower</th>\n",
              "      <th>weight</th>\n",
              "      <th>acceleration</th>\n",
              "      <th>model_year</th>\n",
              "    </tr>\n",
              "  </thead>\n",
              "  <tbody>\n",
              "    <tr>\n",
              "      <th>0</th>\n",
              "      <td>18.0</td>\n",
              "      <td>8</td>\n",
              "      <td>307.0</td>\n",
              "      <td>130.0</td>\n",
              "      <td>3504</td>\n",
              "      <td>12.0</td>\n",
              "      <td>70</td>\n",
              "    </tr>\n",
              "    <tr>\n",
              "      <th>1</th>\n",
              "      <td>15.0</td>\n",
              "      <td>8</td>\n",
              "      <td>350.0</td>\n",
              "      <td>165.0</td>\n",
              "      <td>3693</td>\n",
              "      <td>11.5</td>\n",
              "      <td>70</td>\n",
              "    </tr>\n",
              "    <tr>\n",
              "      <th>2</th>\n",
              "      <td>18.0</td>\n",
              "      <td>8</td>\n",
              "      <td>318.0</td>\n",
              "      <td>150.0</td>\n",
              "      <td>3436</td>\n",
              "      <td>11.0</td>\n",
              "      <td>70</td>\n",
              "    </tr>\n",
              "    <tr>\n",
              "      <th>3</th>\n",
              "      <td>16.0</td>\n",
              "      <td>8</td>\n",
              "      <td>304.0</td>\n",
              "      <td>150.0</td>\n",
              "      <td>3433</td>\n",
              "      <td>12.0</td>\n",
              "      <td>70</td>\n",
              "    </tr>\n",
              "    <tr>\n",
              "      <th>4</th>\n",
              "      <td>17.0</td>\n",
              "      <td>8</td>\n",
              "      <td>302.0</td>\n",
              "      <td>140.0</td>\n",
              "      <td>3449</td>\n",
              "      <td>10.5</td>\n",
              "      <td>70</td>\n",
              "    </tr>\n",
              "  </tbody>\n",
              "</table>\n",
              "</div>\n",
              "    <div class=\"colab-df-buttons\">\n",
              "\n",
              "  <div class=\"colab-df-container\">\n",
              "    <button class=\"colab-df-convert\" onclick=\"convertToInteractive('df-f17e6c65-5dcc-4d70-96e4-f706f6b15424')\"\n",
              "            title=\"Convert this dataframe to an interactive table.\"\n",
              "            style=\"display:none;\">\n",
              "\n",
              "  <svg xmlns=\"http://www.w3.org/2000/svg\" height=\"24px\" viewBox=\"0 -960 960 960\">\n",
              "    <path d=\"M120-120v-720h720v720H120Zm60-500h600v-160H180v160Zm220 220h160v-160H400v160Zm0 220h160v-160H400v160ZM180-400h160v-160H180v160Zm440 0h160v-160H620v160ZM180-180h160v-160H180v160Zm440 0h160v-160H620v160Z\"/>\n",
              "  </svg>\n",
              "    </button>\n",
              "\n",
              "  <style>\n",
              "    .colab-df-container {\n",
              "      display:flex;\n",
              "      gap: 12px;\n",
              "    }\n",
              "\n",
              "    .colab-df-convert {\n",
              "      background-color: #E8F0FE;\n",
              "      border: none;\n",
              "      border-radius: 50%;\n",
              "      cursor: pointer;\n",
              "      display: none;\n",
              "      fill: #1967D2;\n",
              "      height: 32px;\n",
              "      padding: 0 0 0 0;\n",
              "      width: 32px;\n",
              "    }\n",
              "\n",
              "    .colab-df-convert:hover {\n",
              "      background-color: #E2EBFA;\n",
              "      box-shadow: 0px 1px 2px rgba(60, 64, 67, 0.3), 0px 1px 3px 1px rgba(60, 64, 67, 0.15);\n",
              "      fill: #174EA6;\n",
              "    }\n",
              "\n",
              "    .colab-df-buttons div {\n",
              "      margin-bottom: 4px;\n",
              "    }\n",
              "\n",
              "    [theme=dark] .colab-df-convert {\n",
              "      background-color: #3B4455;\n",
              "      fill: #D2E3FC;\n",
              "    }\n",
              "\n",
              "    [theme=dark] .colab-df-convert:hover {\n",
              "      background-color: #434B5C;\n",
              "      box-shadow: 0px 1px 3px 1px rgba(0, 0, 0, 0.15);\n",
              "      filter: drop-shadow(0px 1px 2px rgba(0, 0, 0, 0.3));\n",
              "      fill: #FFFFFF;\n",
              "    }\n",
              "  </style>\n",
              "\n",
              "    <script>\n",
              "      const buttonEl =\n",
              "        document.querySelector('#df-f17e6c65-5dcc-4d70-96e4-f706f6b15424 button.colab-df-convert');\n",
              "      buttonEl.style.display =\n",
              "        google.colab.kernel.accessAllowed ? 'block' : 'none';\n",
              "\n",
              "      async function convertToInteractive(key) {\n",
              "        const element = document.querySelector('#df-f17e6c65-5dcc-4d70-96e4-f706f6b15424');\n",
              "        const dataTable =\n",
              "          await google.colab.kernel.invokeFunction('convertToInteractive',\n",
              "                                                    [key], {});\n",
              "        if (!dataTable) return;\n",
              "\n",
              "        const docLinkHtml = 'Like what you see? Visit the ' +\n",
              "          '<a target=\"_blank\" href=https://colab.research.google.com/notebooks/data_table.ipynb>data table notebook</a>'\n",
              "          + ' to learn more about interactive tables.';\n",
              "        element.innerHTML = '';\n",
              "        dataTable['output_type'] = 'display_data';\n",
              "        await google.colab.output.renderOutput(dataTable, element);\n",
              "        const docLink = document.createElement('div');\n",
              "        docLink.innerHTML = docLinkHtml;\n",
              "        element.appendChild(docLink);\n",
              "      }\n",
              "    </script>\n",
              "  </div>\n",
              "\n",
              "\n",
              "<div id=\"df-2d3628b0-520f-488e-9973-7ebbeda49037\">\n",
              "  <button class=\"colab-df-quickchart\" onclick=\"quickchart('df-2d3628b0-520f-488e-9973-7ebbeda49037')\"\n",
              "            title=\"Suggest charts\"\n",
              "            style=\"display:none;\">\n",
              "\n",
              "<svg xmlns=\"http://www.w3.org/2000/svg\" height=\"24px\"viewBox=\"0 0 24 24\"\n",
              "     width=\"24px\">\n",
              "    <g>\n",
              "        <path d=\"M19 3H5c-1.1 0-2 .9-2 2v14c0 1.1.9 2 2 2h14c1.1 0 2-.9 2-2V5c0-1.1-.9-2-2-2zM9 17H7v-7h2v7zm4 0h-2V7h2v10zm4 0h-2v-4h2v4z\"/>\n",
              "    </g>\n",
              "</svg>\n",
              "  </button>\n",
              "\n",
              "<style>\n",
              "  .colab-df-quickchart {\n",
              "      --bg-color: #E8F0FE;\n",
              "      --fill-color: #1967D2;\n",
              "      --hover-bg-color: #E2EBFA;\n",
              "      --hover-fill-color: #174EA6;\n",
              "      --disabled-fill-color: #AAA;\n",
              "      --disabled-bg-color: #DDD;\n",
              "  }\n",
              "\n",
              "  [theme=dark] .colab-df-quickchart {\n",
              "      --bg-color: #3B4455;\n",
              "      --fill-color: #D2E3FC;\n",
              "      --hover-bg-color: #434B5C;\n",
              "      --hover-fill-color: #FFFFFF;\n",
              "      --disabled-bg-color: #3B4455;\n",
              "      --disabled-fill-color: #666;\n",
              "  }\n",
              "\n",
              "  .colab-df-quickchart {\n",
              "    background-color: var(--bg-color);\n",
              "    border: none;\n",
              "    border-radius: 50%;\n",
              "    cursor: pointer;\n",
              "    display: none;\n",
              "    fill: var(--fill-color);\n",
              "    height: 32px;\n",
              "    padding: 0;\n",
              "    width: 32px;\n",
              "  }\n",
              "\n",
              "  .colab-df-quickchart:hover {\n",
              "    background-color: var(--hover-bg-color);\n",
              "    box-shadow: 0 1px 2px rgba(60, 64, 67, 0.3), 0 1px 3px 1px rgba(60, 64, 67, 0.15);\n",
              "    fill: var(--button-hover-fill-color);\n",
              "  }\n",
              "\n",
              "  .colab-df-quickchart-complete:disabled,\n",
              "  .colab-df-quickchart-complete:disabled:hover {\n",
              "    background-color: var(--disabled-bg-color);\n",
              "    fill: var(--disabled-fill-color);\n",
              "    box-shadow: none;\n",
              "  }\n",
              "\n",
              "  .colab-df-spinner {\n",
              "    border: 2px solid var(--fill-color);\n",
              "    border-color: transparent;\n",
              "    border-bottom-color: var(--fill-color);\n",
              "    animation:\n",
              "      spin 1s steps(1) infinite;\n",
              "  }\n",
              "\n",
              "  @keyframes spin {\n",
              "    0% {\n",
              "      border-color: transparent;\n",
              "      border-bottom-color: var(--fill-color);\n",
              "      border-left-color: var(--fill-color);\n",
              "    }\n",
              "    20% {\n",
              "      border-color: transparent;\n",
              "      border-left-color: var(--fill-color);\n",
              "      border-top-color: var(--fill-color);\n",
              "    }\n",
              "    30% {\n",
              "      border-color: transparent;\n",
              "      border-left-color: var(--fill-color);\n",
              "      border-top-color: var(--fill-color);\n",
              "      border-right-color: var(--fill-color);\n",
              "    }\n",
              "    40% {\n",
              "      border-color: transparent;\n",
              "      border-right-color: var(--fill-color);\n",
              "      border-top-color: var(--fill-color);\n",
              "    }\n",
              "    60% {\n",
              "      border-color: transparent;\n",
              "      border-right-color: var(--fill-color);\n",
              "    }\n",
              "    80% {\n",
              "      border-color: transparent;\n",
              "      border-right-color: var(--fill-color);\n",
              "      border-bottom-color: var(--fill-color);\n",
              "    }\n",
              "    90% {\n",
              "      border-color: transparent;\n",
              "      border-bottom-color: var(--fill-color);\n",
              "    }\n",
              "  }\n",
              "</style>\n",
              "\n",
              "  <script>\n",
              "    async function quickchart(key) {\n",
              "      const quickchartButtonEl =\n",
              "        document.querySelector('#' + key + ' button');\n",
              "      quickchartButtonEl.disabled = true;  // To prevent multiple clicks.\n",
              "      quickchartButtonEl.classList.add('colab-df-spinner');\n",
              "      try {\n",
              "        const charts = await google.colab.kernel.invokeFunction(\n",
              "            'suggestCharts', [key], {});\n",
              "      } catch (error) {\n",
              "        console.error('Error during call to suggestCharts:', error);\n",
              "      }\n",
              "      quickchartButtonEl.classList.remove('colab-df-spinner');\n",
              "      quickchartButtonEl.classList.add('colab-df-quickchart-complete');\n",
              "    }\n",
              "    (() => {\n",
              "      let quickchartButtonEl =\n",
              "        document.querySelector('#df-2d3628b0-520f-488e-9973-7ebbeda49037 button');\n",
              "      quickchartButtonEl.style.display =\n",
              "        google.colab.kernel.accessAllowed ? 'block' : 'none';\n",
              "    })();\n",
              "  </script>\n",
              "</div>\n",
              "\n",
              "    </div>\n",
              "  </div>\n"
            ],
            "application/vnd.google.colaboratory.intrinsic+json": {
              "type": "dataframe",
              "variable_name": "df",
              "summary": "{\n  \"name\": \"df\",\n  \"rows\": 392,\n  \"fields\": [\n    {\n      \"column\": \"mpg\",\n      \"properties\": {\n        \"dtype\": \"number\",\n        \"std\": 7.8050074865717995,\n        \"min\": 9.0,\n        \"max\": 46.6,\n        \"num_unique_values\": 127,\n        \"samples\": [\n          17.5,\n          35.1,\n          28.8\n        ],\n        \"semantic_type\": \"\",\n        \"description\": \"\"\n      }\n    },\n    {\n      \"column\": \"cylinders\",\n      \"properties\": {\n        \"dtype\": \"number\",\n        \"std\": 1,\n        \"min\": 3,\n        \"max\": 8,\n        \"num_unique_values\": 5,\n        \"samples\": [\n          4,\n          5,\n          6\n        ],\n        \"semantic_type\": \"\",\n        \"description\": \"\"\n      }\n    },\n    {\n      \"column\": \"displacement\",\n      \"properties\": {\n        \"dtype\": \"number\",\n        \"std\": 104.64400390890466,\n        \"min\": 68.0,\n        \"max\": 455.0,\n        \"num_unique_values\": 81,\n        \"samples\": [\n          116.0,\n          307.0,\n          360.0\n        ],\n        \"semantic_type\": \"\",\n        \"description\": \"\"\n      }\n    },\n    {\n      \"column\": \"horsepower\",\n      \"properties\": {\n        \"dtype\": \"number\",\n        \"std\": 38.49115993282849,\n        \"min\": 46.0,\n        \"max\": 230.0,\n        \"num_unique_values\": 93,\n        \"samples\": [\n          92.0,\n          100.0,\n          52.0\n        ],\n        \"semantic_type\": \"\",\n        \"description\": \"\"\n      }\n    },\n    {\n      \"column\": \"weight\",\n      \"properties\": {\n        \"dtype\": \"number\",\n        \"std\": 849,\n        \"min\": 1613,\n        \"max\": 5140,\n        \"num_unique_values\": 346,\n        \"samples\": [\n          2472,\n          3221,\n          2700\n        ],\n        \"semantic_type\": \"\",\n        \"description\": \"\"\n      }\n    },\n    {\n      \"column\": \"acceleration\",\n      \"properties\": {\n        \"dtype\": \"number\",\n        \"std\": 2.758864119188082,\n        \"min\": 8.0,\n        \"max\": 24.8,\n        \"num_unique_values\": 95,\n        \"samples\": [\n          14.7,\n          18.0,\n          14.3\n        ],\n        \"semantic_type\": \"\",\n        \"description\": \"\"\n      }\n    },\n    {\n      \"column\": \"model_year\",\n      \"properties\": {\n        \"dtype\": \"number\",\n        \"std\": 3,\n        \"min\": 70,\n        \"max\": 82,\n        \"num_unique_values\": 13,\n        \"samples\": [\n          81,\n          79,\n          70\n        ],\n        \"semantic_type\": \"\",\n        \"description\": \"\"\n      }\n    }\n  ]\n}"
            }
          },
          "metadata": {},
          "execution_count": 43
        },
        {
          "output_type": "stream",
          "name": "stdout",
          "text": [
            "time: 33.5 ms (started: 2024-06-28 04:58:23 +00:00)\n"
          ]
        }
      ]
    },
    {
      "cell_type": "code",
      "source": [
        "X_train_n = X_train.to_numpy()\n",
        "X_test_n = X_test.to_numpy()\n",
        "\n",
        "y_train_n = y_train.to_numpy()\n",
        "y_test_n = y_test.to_numpy()"
      ],
      "metadata": {
        "colab": {
          "base_uri": "https://localhost:8080/"
        },
        "id": "EVA_FAoPOJ0B",
        "outputId": "b95f54a3-b222-4fab-a8a7-cd7d2c6e9ab5"
      },
      "execution_count": null,
      "outputs": [
        {
          "output_type": "stream",
          "name": "stdout",
          "text": [
            "time: 3.2 ms (started: 2024-06-28 05:22:54 +00:00)\n"
          ]
        }
      ]
    },
    {
      "cell_type": "code",
      "source": [
        "from keras import layers\n",
        "\n",
        "model = keras.Sequential([\n",
        "    layers.Dense(units=5,activation ='relu',input_shape=(6,)),\n",
        "    layers.Dense(units=3, activation='relu'),\n",
        "    layers.Dense(1)\n",
        "])\n",
        "\n",
        "model.summary()"
      ],
      "metadata": {
        "colab": {
          "base_uri": "https://localhost:8080/"
        },
        "id": "L0KSS3ArNQVg",
        "outputId": "1ba602c4-01bf-44ee-f9bc-75b672ca5f90"
      },
      "execution_count": null,
      "outputs": [
        {
          "output_type": "stream",
          "name": "stdout",
          "text": [
            "Model: \"sequential_2\"\n",
            "_________________________________________________________________\n",
            " Layer (type)                Output Shape              Param #   \n",
            "=================================================================\n",
            " dense_6 (Dense)             (None, 5)                 35        \n",
            "                                                                 \n",
            " dense_7 (Dense)             (None, 3)                 18        \n",
            "                                                                 \n",
            " dense_8 (Dense)             (None, 1)                 4         \n",
            "                                                                 \n",
            "=================================================================\n",
            "Total params: 57 (228.00 Byte)\n",
            "Trainable params: 57 (228.00 Byte)\n",
            "Non-trainable params: 0 (0.00 Byte)\n",
            "_________________________________________________________________\n",
            "time: 207 ms (started: 2024-06-28 05:22:56 +00:00)\n"
          ]
        }
      ]
    },
    {
      "cell_type": "code",
      "source": [
        "model.compile(\n",
        "    loss = 'mse',\n",
        "    optimizer = 'adam',\n",
        "    metrics = ['mae','mse'],\n",
        ")\n",
        "\n",
        "history = model.fit(\n",
        "    X_train_n,\n",
        "    y_train_n,\n",
        "    epochs = 100,\n",
        "    validation_split = 0.2,\n",
        "    batch_size = 16,\n",
        "    verbose = 1\n",
        ")"
      ],
      "metadata": {
        "colab": {
          "base_uri": "https://localhost:8080/"
        },
        "id": "b7s7mcZfM40X",
        "outputId": "6e537b44-99e9-4df1-c94d-fe6265822277"
      },
      "execution_count": null,
      "outputs": [
        {
          "output_type": "stream",
          "name": "stdout",
          "text": [
            "Epoch 1/100\n",
            "16/16 [==============================] - 3s 29ms/step - loss: 56.7646 - mae: 5.8820 - mse: 56.7646 - val_loss: 63.0777 - val_mae: 6.0059 - val_mse: 63.0777\n",
            "Epoch 2/100\n",
            "16/16 [==============================] - 0s 11ms/step - loss: 55.3111 - mae: 5.8334 - mse: 55.3111 - val_loss: 61.4791 - val_mae: 5.9350 - val_mse: 61.4791\n",
            "Epoch 3/100\n",
            "16/16 [==============================] - 0s 7ms/step - loss: 53.9824 - mae: 5.7804 - mse: 53.9824 - val_loss: 60.1752 - val_mae: 5.8836 - val_mse: 60.1752\n",
            "Epoch 4/100\n",
            "16/16 [==============================] - 0s 4ms/step - loss: 52.8170 - mae: 5.7350 - mse: 52.8170 - val_loss: 58.8435 - val_mae: 5.8283 - val_mse: 58.8435\n",
            "Epoch 5/100\n",
            "16/16 [==============================] - 0s 5ms/step - loss: 51.6103 - mae: 5.6761 - mse: 51.6103 - val_loss: 57.6718 - val_mae: 5.7749 - val_mse: 57.6718\n",
            "Epoch 6/100\n",
            "16/16 [==============================] - 0s 4ms/step - loss: 50.5731 - mae: 5.6283 - mse: 50.5731 - val_loss: 56.5244 - val_mae: 5.7267 - val_mse: 56.5244\n",
            "Epoch 7/100\n",
            "16/16 [==============================] - 0s 8ms/step - loss: 49.5599 - mae: 5.5843 - mse: 49.5599 - val_loss: 55.2654 - val_mae: 5.6672 - val_mse: 55.2654\n",
            "Epoch 8/100\n",
            "16/16 [==============================] - 0s 9ms/step - loss: 48.5075 - mae: 5.5243 - mse: 48.5075 - val_loss: 54.3809 - val_mae: 5.6242 - val_mse: 54.3809\n",
            "Epoch 9/100\n",
            "16/16 [==============================] - 0s 11ms/step - loss: 47.5874 - mae: 5.4739 - mse: 47.5874 - val_loss: 53.2118 - val_mae: 5.5669 - val_mse: 53.2118\n",
            "Epoch 10/100\n",
            "16/16 [==============================] - 0s 12ms/step - loss: 46.5846 - mae: 5.4268 - mse: 46.5846 - val_loss: 52.2007 - val_mae: 5.5187 - val_mse: 52.2007\n",
            "Epoch 11/100\n",
            "16/16 [==============================] - 0s 7ms/step - loss: 45.7210 - mae: 5.3761 - mse: 45.7210 - val_loss: 51.1885 - val_mae: 5.4688 - val_mse: 51.1885\n",
            "Epoch 12/100\n",
            "16/16 [==============================] - 0s 7ms/step - loss: 44.7478 - mae: 5.3210 - mse: 44.7478 - val_loss: 50.1661 - val_mae: 5.4143 - val_mse: 50.1661\n",
            "Epoch 13/100\n",
            "16/16 [==============================] - 0s 7ms/step - loss: 43.8944 - mae: 5.2790 - mse: 43.8944 - val_loss: 49.1792 - val_mae: 5.3653 - val_mse: 49.1792\n",
            "Epoch 14/100\n",
            "16/16 [==============================] - 0s 7ms/step - loss: 43.0113 - mae: 5.2282 - mse: 43.0113 - val_loss: 48.2690 - val_mae: 5.3194 - val_mse: 48.2690\n",
            "Epoch 15/100\n",
            "16/16 [==============================] - 0s 7ms/step - loss: 42.1962 - mae: 5.1827 - mse: 42.1962 - val_loss: 47.2786 - val_mae: 5.2669 - val_mse: 47.2786\n",
            "Epoch 16/100\n",
            "16/16 [==============================] - 0s 8ms/step - loss: 41.3447 - mae: 5.1294 - mse: 41.3447 - val_loss: 46.3692 - val_mae: 5.2178 - val_mse: 46.3692\n",
            "Epoch 17/100\n",
            "16/16 [==============================] - 0s 10ms/step - loss: 40.5460 - mae: 5.0845 - mse: 40.5460 - val_loss: 45.3338 - val_mae: 5.1634 - val_mse: 45.3338\n",
            "Epoch 18/100\n",
            "16/16 [==============================] - 0s 7ms/step - loss: 39.6795 - mae: 5.0332 - mse: 39.6795 - val_loss: 44.4326 - val_mae: 5.1129 - val_mse: 44.4326\n",
            "Epoch 19/100\n",
            "16/16 [==============================] - 0s 7ms/step - loss: 38.8854 - mae: 4.9815 - mse: 38.8854 - val_loss: 43.4691 - val_mae: 5.0594 - val_mse: 43.4691\n",
            "Epoch 20/100\n",
            "16/16 [==============================] - 0s 8ms/step - loss: 38.0687 - mae: 4.9290 - mse: 38.0687 - val_loss: 42.5145 - val_mae: 5.0047 - val_mse: 42.5145\n",
            "Epoch 21/100\n",
            "16/16 [==============================] - 0s 8ms/step - loss: 37.2263 - mae: 4.8770 - mse: 37.2263 - val_loss: 41.5934 - val_mae: 4.9516 - val_mse: 41.5934\n",
            "Epoch 22/100\n",
            "16/16 [==============================] - 0s 8ms/step - loss: 36.4022 - mae: 4.8209 - mse: 36.4022 - val_loss: 40.6750 - val_mae: 4.9011 - val_mse: 40.6750\n",
            "Epoch 23/100\n",
            "16/16 [==============================] - 0s 8ms/step - loss: 35.5412 - mae: 4.7656 - mse: 35.5412 - val_loss: 39.6843 - val_mae: 4.8427 - val_mse: 39.6843\n",
            "Epoch 24/100\n",
            "16/16 [==============================] - 0s 13ms/step - loss: 34.7327 - mae: 4.7124 - mse: 34.7327 - val_loss: 38.7975 - val_mae: 4.7895 - val_mse: 38.7975\n",
            "Epoch 25/100\n",
            "16/16 [==============================] - 0s 10ms/step - loss: 33.8603 - mae: 4.6481 - mse: 33.8603 - val_loss: 37.9270 - val_mae: 4.7364 - val_mse: 37.9270\n",
            "Epoch 26/100\n",
            "16/16 [==============================] - 0s 7ms/step - loss: 33.1120 - mae: 4.5925 - mse: 33.1120 - val_loss: 37.0443 - val_mae: 4.6781 - val_mse: 37.0443\n",
            "Epoch 27/100\n",
            "16/16 [==============================] - 0s 12ms/step - loss: 32.2075 - mae: 4.5266 - mse: 32.2075 - val_loss: 36.1233 - val_mae: 4.6220 - val_mse: 36.1233\n",
            "Epoch 28/100\n",
            "16/16 [==============================] - 0s 12ms/step - loss: 31.4346 - mae: 4.4687 - mse: 31.4346 - val_loss: 35.0718 - val_mae: 4.5544 - val_mse: 35.0718\n",
            "Epoch 29/100\n",
            "16/16 [==============================] - 0s 8ms/step - loss: 30.5820 - mae: 4.4061 - mse: 30.5820 - val_loss: 34.1386 - val_mae: 4.4931 - val_mse: 34.1386\n",
            "Epoch 30/100\n",
            "16/16 [==============================] - 0s 10ms/step - loss: 29.7558 - mae: 4.3419 - mse: 29.7558 - val_loss: 33.2837 - val_mae: 4.4349 - val_mse: 33.2837\n",
            "Epoch 31/100\n",
            "16/16 [==============================] - 0s 9ms/step - loss: 28.9451 - mae: 4.2780 - mse: 28.9451 - val_loss: 32.4016 - val_mae: 4.3709 - val_mse: 32.4016\n",
            "Epoch 32/100\n",
            "16/16 [==============================] - 0s 7ms/step - loss: 28.1574 - mae: 4.2145 - mse: 28.1574 - val_loss: 31.4864 - val_mae: 4.3068 - val_mse: 31.4864\n",
            "Epoch 33/100\n",
            "16/16 [==============================] - 0s 8ms/step - loss: 27.3960 - mae: 4.1546 - mse: 27.3960 - val_loss: 30.5476 - val_mae: 4.2397 - val_mse: 30.5476\n",
            "Epoch 34/100\n",
            "16/16 [==============================] - 0s 5ms/step - loss: 26.5877 - mae: 4.0916 - mse: 26.5877 - val_loss: 29.5804 - val_mae: 4.1683 - val_mse: 29.5804\n",
            "Epoch 35/100\n",
            "16/16 [==============================] - 0s 4ms/step - loss: 25.8490 - mae: 4.0315 - mse: 25.8490 - val_loss: 28.6964 - val_mae: 4.1028 - val_mse: 28.6964\n",
            "Epoch 36/100\n",
            "16/16 [==============================] - 0s 7ms/step - loss: 25.1197 - mae: 3.9695 - mse: 25.1197 - val_loss: 27.9214 - val_mae: 4.0428 - val_mse: 27.9214\n",
            "Epoch 37/100\n",
            "16/16 [==============================] - 0s 7ms/step - loss: 24.4531 - mae: 3.9144 - mse: 24.4531 - val_loss: 27.1077 - val_mae: 3.9799 - val_mse: 27.1077\n",
            "Epoch 38/100\n",
            "16/16 [==============================] - 0s 8ms/step - loss: 23.7508 - mae: 3.8541 - mse: 23.7508 - val_loss: 26.2570 - val_mae: 3.9114 - val_mse: 26.2570\n",
            "Epoch 39/100\n",
            "16/16 [==============================] - 0s 9ms/step - loss: 23.0908 - mae: 3.7958 - mse: 23.0908 - val_loss: 25.5551 - val_mae: 3.8523 - val_mse: 25.5551\n",
            "Epoch 40/100\n",
            "16/16 [==============================] - 0s 7ms/step - loss: 22.4509 - mae: 3.7417 - mse: 22.4509 - val_loss: 24.8241 - val_mae: 3.7900 - val_mse: 24.8241\n",
            "Epoch 41/100\n",
            "16/16 [==============================] - 0s 6ms/step - loss: 21.8400 - mae: 3.6853 - mse: 21.8400 - val_loss: 24.0891 - val_mae: 3.7291 - val_mse: 24.0891\n",
            "Epoch 42/100\n",
            "16/16 [==============================] - 0s 7ms/step - loss: 21.2321 - mae: 3.6348 - mse: 21.2321 - val_loss: 23.3724 - val_mae: 3.6694 - val_mse: 23.3724\n",
            "Epoch 43/100\n",
            "16/16 [==============================] - 0s 7ms/step - loss: 20.7026 - mae: 3.5877 - mse: 20.7026 - val_loss: 22.7091 - val_mae: 3.6087 - val_mse: 22.7091\n",
            "Epoch 44/100\n",
            "16/16 [==============================] - 0s 7ms/step - loss: 20.1377 - mae: 3.5406 - mse: 20.1377 - val_loss: 22.0826 - val_mae: 3.5549 - val_mse: 22.0826\n",
            "Epoch 45/100\n",
            "16/16 [==============================] - 0s 7ms/step - loss: 19.6118 - mae: 3.4978 - mse: 19.6118 - val_loss: 21.3341 - val_mae: 3.4932 - val_mse: 21.3341\n",
            "Epoch 46/100\n",
            "16/16 [==============================] - 0s 6ms/step - loss: 19.1564 - mae: 3.4573 - mse: 19.1564 - val_loss: 20.7207 - val_mae: 3.4349 - val_mse: 20.7207\n",
            "Epoch 47/100\n",
            "16/16 [==============================] - 0s 9ms/step - loss: 18.6518 - mae: 3.4119 - mse: 18.6518 - val_loss: 20.1736 - val_mae: 3.3849 - val_mse: 20.1736\n",
            "Epoch 48/100\n",
            "16/16 [==============================] - 0s 9ms/step - loss: 18.1931 - mae: 3.3686 - mse: 18.1931 - val_loss: 19.6520 - val_mae: 3.3356 - val_mse: 19.6520\n",
            "Epoch 49/100\n",
            "16/16 [==============================] - 0s 8ms/step - loss: 17.7388 - mae: 3.3264 - mse: 17.7388 - val_loss: 19.1573 - val_mae: 3.2895 - val_mse: 19.1573\n",
            "Epoch 50/100\n",
            "16/16 [==============================] - 0s 7ms/step - loss: 17.3549 - mae: 3.2886 - mse: 17.3549 - val_loss: 18.5954 - val_mae: 3.2370 - val_mse: 18.5954\n",
            "Epoch 51/100\n",
            "16/16 [==============================] - 0s 6ms/step - loss: 16.9193 - mae: 3.2470 - mse: 16.9193 - val_loss: 18.1090 - val_mae: 3.1896 - val_mse: 18.1090\n",
            "Epoch 52/100\n",
            "16/16 [==============================] - 0s 8ms/step - loss: 16.5344 - mae: 3.2097 - mse: 16.5344 - val_loss: 17.6280 - val_mae: 3.1422 - val_mse: 17.6280\n",
            "Epoch 53/100\n",
            "16/16 [==============================] - 0s 7ms/step - loss: 16.2137 - mae: 3.1792 - mse: 16.2137 - val_loss: 17.0886 - val_mae: 3.0890 - val_mse: 17.0886\n",
            "Epoch 54/100\n",
            "16/16 [==============================] - 0s 8ms/step - loss: 15.8549 - mae: 3.1388 - mse: 15.8549 - val_loss: 16.8009 - val_mae: 3.0537 - val_mse: 16.8009\n",
            "Epoch 55/100\n",
            "16/16 [==============================] - 0s 9ms/step - loss: 15.4776 - mae: 3.0971 - mse: 15.4776 - val_loss: 16.3799 - val_mae: 3.0099 - val_mse: 16.3799\n",
            "Epoch 56/100\n",
            "16/16 [==============================] - 0s 10ms/step - loss: 15.1394 - mae: 3.0604 - mse: 15.1394 - val_loss: 15.8892 - val_mae: 2.9568 - val_mse: 15.8892\n",
            "Epoch 57/100\n",
            "16/16 [==============================] - 0s 7ms/step - loss: 14.8326 - mae: 3.0291 - mse: 14.8326 - val_loss: 15.4498 - val_mae: 2.9108 - val_mse: 15.4498\n",
            "Epoch 58/100\n",
            "16/16 [==============================] - 0s 7ms/step - loss: 14.5105 - mae: 2.9881 - mse: 14.5105 - val_loss: 15.1165 - val_mae: 2.8731 - val_mse: 15.1165\n",
            "Epoch 59/100\n",
            "16/16 [==============================] - 0s 7ms/step - loss: 14.2364 - mae: 2.9536 - mse: 14.2364 - val_loss: 14.8221 - val_mae: 2.8401 - val_mse: 14.8221\n",
            "Epoch 60/100\n",
            "16/16 [==============================] - 0s 7ms/step - loss: 13.9655 - mae: 2.9233 - mse: 13.9655 - val_loss: 14.3840 - val_mae: 2.7938 - val_mse: 14.3840\n",
            "Epoch 61/100\n",
            "16/16 [==============================] - 0s 7ms/step - loss: 13.6921 - mae: 2.8853 - mse: 13.6921 - val_loss: 14.1381 - val_mae: 2.7647 - val_mse: 14.1381\n",
            "Epoch 62/100\n",
            "16/16 [==============================] - 0s 6ms/step - loss: 13.4400 - mae: 2.8547 - mse: 13.4400 - val_loss: 13.7973 - val_mae: 2.7279 - val_mse: 13.7973\n",
            "Epoch 63/100\n",
            "16/16 [==============================] - 0s 5ms/step - loss: 13.2019 - mae: 2.8259 - mse: 13.2019 - val_loss: 13.4521 - val_mae: 2.6923 - val_mse: 13.4521\n",
            "Epoch 64/100\n",
            "16/16 [==============================] - 0s 5ms/step - loss: 12.9709 - mae: 2.7979 - mse: 12.9709 - val_loss: 13.1475 - val_mae: 2.6603 - val_mse: 13.1475\n",
            "Epoch 65/100\n",
            "16/16 [==============================] - 0s 5ms/step - loss: 12.7614 - mae: 2.7681 - mse: 12.7614 - val_loss: 12.8425 - val_mae: 2.6297 - val_mse: 12.8425\n",
            "Epoch 66/100\n",
            "16/16 [==============================] - 0s 6ms/step - loss: 12.5333 - mae: 2.7395 - mse: 12.5333 - val_loss: 12.5546 - val_mae: 2.6024 - val_mse: 12.5546\n",
            "Epoch 67/100\n",
            "16/16 [==============================] - 0s 4ms/step - loss: 12.3440 - mae: 2.7129 - mse: 12.3440 - val_loss: 12.3442 - val_mae: 2.5824 - val_mse: 12.3442\n",
            "Epoch 68/100\n",
            "16/16 [==============================] - 0s 4ms/step - loss: 12.1658 - mae: 2.6908 - mse: 12.1658 - val_loss: 12.0897 - val_mae: 2.5582 - val_mse: 12.0897\n",
            "Epoch 69/100\n",
            "16/16 [==============================] - 0s 5ms/step - loss: 11.9849 - mae: 2.6651 - mse: 11.9849 - val_loss: 11.8406 - val_mae: 2.5347 - val_mse: 11.8406\n",
            "Epoch 70/100\n",
            "16/16 [==============================] - 0s 4ms/step - loss: 11.8138 - mae: 2.6407 - mse: 11.8138 - val_loss: 11.6202 - val_mae: 2.5163 - val_mse: 11.6202\n",
            "Epoch 71/100\n",
            "16/16 [==============================] - 0s 5ms/step - loss: 11.6569 - mae: 2.6196 - mse: 11.6569 - val_loss: 11.4312 - val_mae: 2.4991 - val_mse: 11.4312\n",
            "Epoch 72/100\n",
            "16/16 [==============================] - 0s 5ms/step - loss: 11.5038 - mae: 2.5995 - mse: 11.5038 - val_loss: 11.2165 - val_mae: 2.4788 - val_mse: 11.2165\n",
            "Epoch 73/100\n",
            "16/16 [==============================] - 0s 5ms/step - loss: 11.3718 - mae: 2.5795 - mse: 11.3718 - val_loss: 11.0161 - val_mae: 2.4594 - val_mse: 11.0161\n",
            "Epoch 74/100\n",
            "16/16 [==============================] - 0s 6ms/step - loss: 11.2277 - mae: 2.5587 - mse: 11.2277 - val_loss: 10.7999 - val_mae: 2.4396 - val_mse: 10.7999\n",
            "Epoch 75/100\n",
            "16/16 [==============================] - 0s 6ms/step - loss: 11.0819 - mae: 2.5412 - mse: 11.0819 - val_loss: 10.6311 - val_mae: 2.4237 - val_mse: 10.6311\n",
            "Epoch 76/100\n",
            "16/16 [==============================] - 0s 4ms/step - loss: 10.9830 - mae: 2.5291 - mse: 10.9830 - val_loss: 10.4017 - val_mae: 2.4046 - val_mse: 10.4017\n",
            "Epoch 77/100\n",
            "16/16 [==============================] - 0s 5ms/step - loss: 10.8372 - mae: 2.5088 - mse: 10.8372 - val_loss: 10.2768 - val_mae: 2.3912 - val_mse: 10.2768\n",
            "Epoch 78/100\n",
            "16/16 [==============================] - 0s 6ms/step - loss: 10.7194 - mae: 2.4882 - mse: 10.7194 - val_loss: 10.2225 - val_mae: 2.3829 - val_mse: 10.2225\n",
            "Epoch 79/100\n",
            "16/16 [==============================] - 0s 5ms/step - loss: 10.6422 - mae: 2.4726 - mse: 10.6422 - val_loss: 10.0501 - val_mae: 2.3684 - val_mse: 10.0501\n",
            "Epoch 80/100\n",
            "16/16 [==============================] - 0s 4ms/step - loss: 10.5203 - mae: 2.4554 - mse: 10.5203 - val_loss: 9.9527 - val_mae: 2.3582 - val_mse: 9.9527\n",
            "Epoch 81/100\n",
            "16/16 [==============================] - 0s 4ms/step - loss: 10.4236 - mae: 2.4399 - mse: 10.4236 - val_loss: 9.7361 - val_mae: 2.3369 - val_mse: 9.7361\n",
            "Epoch 82/100\n",
            "16/16 [==============================] - 0s 5ms/step - loss: 10.3250 - mae: 2.4259 - mse: 10.3250 - val_loss: 9.5755 - val_mae: 2.3203 - val_mse: 9.5755\n",
            "Epoch 83/100\n",
            "16/16 [==============================] - 0s 4ms/step - loss: 10.2745 - mae: 2.4175 - mse: 10.2745 - val_loss: 9.5134 - val_mae: 2.3156 - val_mse: 9.5134\n",
            "Epoch 84/100\n",
            "16/16 [==============================] - 0s 5ms/step - loss: 10.1500 - mae: 2.4000 - mse: 10.1500 - val_loss: 9.3319 - val_mae: 2.2940 - val_mse: 9.3319\n",
            "Epoch 85/100\n",
            "16/16 [==============================] - 0s 5ms/step - loss: 10.0920 - mae: 2.3892 - mse: 10.0920 - val_loss: 9.2874 - val_mae: 2.2900 - val_mse: 9.2874\n",
            "Epoch 86/100\n",
            "16/16 [==============================] - 0s 5ms/step - loss: 9.9971 - mae: 2.3744 - mse: 9.9971 - val_loss: 9.1213 - val_mae: 2.2713 - val_mse: 9.1213\n",
            "Epoch 87/100\n",
            "16/16 [==============================] - 0s 4ms/step - loss: 9.9215 - mae: 2.3627 - mse: 9.9215 - val_loss: 9.0240 - val_mae: 2.2603 - val_mse: 9.0240\n",
            "Epoch 88/100\n",
            "16/16 [==============================] - 0s 5ms/step - loss: 9.8675 - mae: 2.3524 - mse: 9.8675 - val_loss: 9.0092 - val_mae: 2.2613 - val_mse: 9.0092\n",
            "Epoch 89/100\n",
            "16/16 [==============================] - 0s 4ms/step - loss: 9.8029 - mae: 2.3382 - mse: 9.8029 - val_loss: 8.8908 - val_mae: 2.2449 - val_mse: 8.8908\n",
            "Epoch 90/100\n",
            "16/16 [==============================] - 0s 6ms/step - loss: 9.7293 - mae: 2.3311 - mse: 9.7293 - val_loss: 8.7898 - val_mae: 2.2338 - val_mse: 8.7898\n",
            "Epoch 91/100\n",
            "16/16 [==============================] - 0s 4ms/step - loss: 9.6877 - mae: 2.3206 - mse: 9.6877 - val_loss: 8.7538 - val_mae: 2.2290 - val_mse: 8.7538\n",
            "Epoch 92/100\n",
            "16/16 [==============================] - 0s 4ms/step - loss: 9.6197 - mae: 2.3104 - mse: 9.6197 - val_loss: 8.6508 - val_mae: 2.2158 - val_mse: 8.6508\n",
            "Epoch 93/100\n",
            "16/16 [==============================] - 0s 4ms/step - loss: 9.5642 - mae: 2.3021 - mse: 9.5642 - val_loss: 8.5889 - val_mae: 2.2076 - val_mse: 8.5889\n",
            "Epoch 94/100\n",
            "16/16 [==============================] - 0s 5ms/step - loss: 9.5113 - mae: 2.2930 - mse: 9.5113 - val_loss: 8.5282 - val_mae: 2.2011 - val_mse: 8.5282\n",
            "Epoch 95/100\n",
            "16/16 [==============================] - 0s 5ms/step - loss: 9.4578 - mae: 2.2842 - mse: 9.4578 - val_loss: 8.4456 - val_mae: 2.1903 - val_mse: 8.4456\n",
            "Epoch 96/100\n",
            "16/16 [==============================] - 0s 4ms/step - loss: 9.4497 - mae: 2.2770 - mse: 9.4497 - val_loss: 8.4233 - val_mae: 2.1875 - val_mse: 8.4233\n",
            "Epoch 97/100\n",
            "16/16 [==============================] - 0s 6ms/step - loss: 9.3824 - mae: 2.2686 - mse: 9.3824 - val_loss: 8.3013 - val_mae: 2.1716 - val_mse: 8.3013\n",
            "Epoch 98/100\n",
            "16/16 [==============================] - 0s 6ms/step - loss: 9.3373 - mae: 2.2622 - mse: 9.3373 - val_loss: 8.2958 - val_mae: 2.1694 - val_mse: 8.2958\n",
            "Epoch 99/100\n",
            "16/16 [==============================] - 0s 6ms/step - loss: 9.2963 - mae: 2.2547 - mse: 9.2963 - val_loss: 8.2342 - val_mae: 2.1605 - val_mse: 8.2342\n",
            "Epoch 100/100\n",
            "16/16 [==============================] - 0s 4ms/step - loss: 9.2906 - mae: 2.2534 - mse: 9.2906 - val_loss: 8.1488 - val_mae: 2.1501 - val_mse: 8.1488\n",
            "time: 22.8 s (started: 2024-06-28 05:28:03 +00:00)\n"
          ]
        }
      ]
    },
    {
      "cell_type": "code",
      "source": [
        "hist = history.history\n",
        "epochs = history.epoch\n",
        "\n",
        "plt.plot(epochs,hist['loss'],label='train')\n",
        "plt.plot(epochs,hist['val_loss'],label='val')\n",
        "plt.legend()"
      ],
      "metadata": {
        "colab": {
          "base_uri": "https://localhost:8080/",
          "height": 467
        },
        "id": "bMTcgb3zQeOH",
        "outputId": "20e55092-7f1c-487f-addd-153a77a1ea6e"
      },
      "execution_count": null,
      "outputs": [
        {
          "output_type": "execute_result",
          "data": {
            "text/plain": [
              "<matplotlib.legend.Legend at 0x7b9a4ed6f9a0>"
            ]
          },
          "metadata": {},
          "execution_count": 62
        },
        {
          "output_type": "display_data",
          "data": {
            "text/plain": [
              "<Figure size 640x480 with 1 Axes>"
            ],
            "image/png": "[encoded data removed]"
          },
          "metadata": {}
        },
        {
          "output_type": "stream",
          "name": "stdout",
          "text": [
            "time: 776 ms (started: 2024-06-28 05:28:26 +00:00)\n"
          ]
        }
      ]
    },
    {
      "cell_type": "code",
      "source": [
        "y_pred = model.predict(X_test)\n",
        "y_pred"
      ],
      "metadata": {
        "colab": {
          "base_uri": "https://localhost:8080/"
        },
        "id": "UnBW68TCTo03",
        "outputId": "f46ca6cc-23a2-4e2d-997b-0a2b567fc62a"
      },
      "execution_count": null,
      "outputs": [
        {
          "output_type": "stream",
          "name": "stdout",
          "text": [
            "3/3 [==============================] - 0s 9ms/step\n"
          ]
        },
        {
          "output_type": "execute_result",
          "data": {
            "text/plain": [
              "array([[25.834923 ],\n",
              "       [19.610779 ],\n",
              "       [36.25013  ],\n",
              "       [27.976719 ],\n",
              "       [28.128187 ],\n",
              "       [28.948483 ],\n",
              "       [15.983661 ],\n",
              "       [31.179325 ],\n",
              "       [ 4.2273602],\n",
              "       [35.231285 ],\n",
              "       [16.698734 ],\n",
              "       [ 8.057738 ],\n",
              "       [10.201253 ],\n",
              "       [27.215952 ],\n",
              "       [ 5.7153783],\n",
              "       [34.035038 ],\n",
              "       [ 5.497229 ],\n",
              "       [34.092842 ],\n",
              "       [26.59547  ],\n",
              "       [27.530743 ],\n",
              "       [ 6.969363 ],\n",
              "       [47.420475 ],\n",
              "       [37.645935 ],\n",
              "       [11.889745 ],\n",
              "       [29.111757 ],\n",
              "       [21.209106 ],\n",
              "       [18.402733 ],\n",
              "       [ 6.4021044],\n",
              "       [34.46573  ],\n",
              "       [21.281713 ],\n",
              "       [11.760195 ],\n",
              "       [ 7.897026 ],\n",
              "       [ 6.7730136],\n",
              "       [33.16143  ],\n",
              "       [14.073309 ],\n",
              "       [39.238976 ],\n",
              "       [10.979019 ],\n",
              "       [23.475645 ],\n",
              "       [11.420226 ],\n",
              "       [16.865711 ],\n",
              "       [11.317526 ],\n",
              "       [26.305084 ],\n",
              "       [36.46932  ],\n",
              "       [23.513702 ],\n",
              "       [12.240607 ],\n",
              "       [17.73785  ],\n",
              "       [ 6.5631943],\n",
              "       [33.024155 ],\n",
              "       [23.703253 ],\n",
              "       [29.56234  ],\n",
              "       [13.522593 ],\n",
              "       [17.962803 ],\n",
              "       [15.959822 ],\n",
              "       [31.582136 ],\n",
              "       [ 9.162209 ],\n",
              "       [ 5.6778173],\n",
              "       [ 7.655491 ],\n",
              "       [ 4.683221 ],\n",
              "       [17.099346 ],\n",
              "       [16.43601  ],\n",
              "       [18.617758 ],\n",
              "       [ 6.839162 ],\n",
              "       [ 8.341103 ],\n",
              "       [20.262741 ],\n",
              "       [22.59908  ],\n",
              "       [26.722187 ],\n",
              "       [22.724531 ],\n",
              "       [28.077234 ],\n",
              "       [ 6.1239595],\n",
              "       [17.911886 ],\n",
              "       [20.614511 ],\n",
              "       [13.552957 ],\n",
              "       [10.689008 ],\n",
              "       [26.174496 ],\n",
              "       [10.483844 ],\n",
              "       [21.598469 ],\n",
              "       [12.392662 ],\n",
              "       [12.518196 ],\n",
              "       [18.190159 ]], dtype=float32)"
            ]
          },
          "metadata": {},
          "execution_count": 58
        },
        {
          "output_type": "stream",
          "name": "stdout",
          "text": [
            "time: 671 ms (started: 2024-06-28 05:25:57 +00:00)\n"
          ]
        }
      ]
    },
    {
      "cell_type": "code",
      "source": [
        "from sklearn.metrics import mean_squared_error\n",
        "\n",
        "y_pred = model.predict(X_test_n)\n",
        "mean_squared_error(y_test_n,y_pred)"
      ],
      "metadata": {
        "colab": {
          "base_uri": "https://localhost:8080/"
        },
        "id": "WHOtUxWgTSwD",
        "outputId": "23d20c4e-b60d-4034-c236-b5d588c6215c"
      },
      "execution_count": null,
      "outputs": [
        {
          "output_type": "stream",
          "name": "stdout",
          "text": [
            "3/3 [==============================] - 0s 4ms/step\n"
          ]
        },
        {
          "output_type": "execute_result",
          "data": {
            "text/plain": [
              "7.989481172964943"
            ]
          },
          "metadata": {},
          "execution_count": 63
        },
        {
          "output_type": "stream",
          "name": "stdout",
          "text": [
            "time: 206 ms (started: 2024-06-28 05:29:03 +00:00)\n"
          ]
        }
      ]
    },
    {
      "cell_type": "code",
      "source": [
        "plt.scatter(y_test_n,y_pred)\n",
        "plt.plot(y_train)\n",
        "plt.legend(['y_pred','y_test'])\n",
        "plt.xlabel('y_test')\n",
        "plt.ylabel('y_pred')"
      ],
      "metadata": {
        "colab": {
          "base_uri": "https://localhost:8080/",
          "height": 486
        },
        "id": "iW6TlQWTTrgG",
        "outputId": "256538f8-fc6c-4375-8546-a15b445e868d"
      },
      "execution_count": null,
      "outputs": [
        {
          "output_type": "execute_result",
          "data": {
            "text/plain": [
              "Text(0, 0.5, 'y_pred')"
            ]
          },
          "metadata": {},
          "execution_count": 68
        },
        {
          "output_type": "display_data",
          "data": {
            "text/plain": [
              "<Figure size 640x480 with 1 Axes>"
            ],
            "image/png": "[encoded data removed]"
          },
          "metadata": {}
        },
        {
          "output_type": "stream",
          "name": "stdout",
          "text": [
            "time: 350 ms (started: 2024-06-28 05:31:24 +00:00)\n"
          ]
        }
      ]
    }
  ]
}