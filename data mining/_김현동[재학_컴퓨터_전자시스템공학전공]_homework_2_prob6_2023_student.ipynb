{
  "cells": [
    {
      "cell_type": "markdown",
      "metadata": {
        "id": "2sgkc1ZhCgMZ"
      },
      "source": [
        "# Homework 2 Prob 6."
      ]
    },
    {
      "cell_type": "markdown",
      "metadata": {
        "id": "nsA-pTCWCgMb"
      },
      "source": [
        "***Double Click here to edit this cell***\n",
        "\n",
        "- Name: 김현동\n",
        "- Student ID: 201901208\n",
        "- Submission date: 2023-04-12"
      ]
    },
    {
      "cell_type": "markdown",
      "source": [
        "# You must run this homework code on Google Colab\n",
        "\n",
        "- DON'T run on Google Colab Pro\n",
        "- DON'T use GPU or TPU"
      ],
      "metadata": {
        "id": "x_h9Xn0TRme-"
      }
    },
    {
      "cell_type": "markdown",
      "metadata": {
        "id": "-BvveCJECgMb"
      },
      "source": [
        "## Remark. If any kind of loops including for-loop, while-loops, list comprehension, and other loops are found, you get no points (0점).\n",
        "\n",
        "## Use numpy wherever it is possible.\n"
      ]
    },
    {
      "cell_type": "markdown",
      "metadata": {
        "id": "vFvDEj9yCgMb"
      },
      "source": [
        "## Total: 30 pts"
      ]
    },
    {
      "cell_type": "markdown",
      "source": [
        "### You must run the following two cells to make sure you are running on Google Colab"
      ],
      "metadata": {
        "id": "6VOpdRvNIeEu"
      }
    },
    {
      "cell_type": "code",
      "source": [
        "!cat /proc/cpuinfo"
      ],
      "metadata": {
        "id": "qUvm0lJcHt52",
        "colab": {
          "base_uri": "https://localhost:8080/"
        },
        "outputId": "b4422126-0ae9-4b6e-bfbd-9aaf9fe95305"
      },
      "execution_count": null,
      "outputs": [
        {
          "output_type": "stream",
          "name": "stdout",
          "text": [
            "processor\t: 0\n",
            "vendor_id\t: GenuineIntel\n",
            "cpu family\t: 6\n",
            "model\t\t: 79\n",
            "model name\t: Intel(R) Xeon(R) CPU @ 2.20GHz\n",
            "stepping\t: 0\n",
            "microcode\t: 0xffffffff\n",
            "cpu MHz\t\t: 2199.998\n",
            "cache size\t: 56320 KB\n",
            "physical id\t: 0\n",
            "siblings\t: 2\n",
            "core id\t\t: 0\n",
            "cpu cores\t: 1\n",
            "apicid\t\t: 0\n",
            "initial apicid\t: 0\n",
            "fpu\t\t: yes\n",
            "fpu_exception\t: yes\n",
            "cpuid level\t: 13\n",
            "wp\t\t: yes\n",
            "flags\t\t: fpu vme de pse tsc msr pae mce cx8 apic sep mtrr pge mca cmov pat pse36 clflush mmx fxsr sse sse2 ss ht syscall nx pdpe1gb rdtscp lm constant_tsc rep_good nopl xtopology nonstop_tsc cpuid tsc_known_freq pni pclmulqdq ssse3 fma cx16 pcid sse4_1 sse4_2 x2apic movbe popcnt aes xsave avx f16c rdrand hypervisor lahf_lm abm 3dnowprefetch invpcid_single ssbd ibrs ibpb stibp fsgsbase tsc_adjust bmi1 hle avx2 smep bmi2 erms invpcid rtm rdseed adx smap xsaveopt arat md_clear arch_capabilities\n",
            "bugs\t\t: cpu_meltdown spectre_v1 spectre_v2 spec_store_bypass l1tf mds swapgs taa mmio_stale_data retbleed\n",
            "bogomips\t: 4399.99\n",
            "clflush size\t: 64\n",
            "cache_alignment\t: 64\n",
            "address sizes\t: 46 bits physical, 48 bits virtual\n",
            "power management:\n",
            "\n",
            "processor\t: 1\n",
            "vendor_id\t: GenuineIntel\n",
            "cpu family\t: 6\n",
            "model\t\t: 79\n",
            "model name\t: Intel(R) Xeon(R) CPU @ 2.20GHz\n",
            "stepping\t: 0\n",
            "microcode\t: 0xffffffff\n",
            "cpu MHz\t\t: 2199.998\n",
            "cache size\t: 56320 KB\n",
            "physical id\t: 0\n",
            "siblings\t: 2\n",
            "core id\t\t: 0\n",
            "cpu cores\t: 1\n",
            "apicid\t\t: 1\n",
            "initial apicid\t: 1\n",
            "fpu\t\t: yes\n",
            "fpu_exception\t: yes\n",
            "cpuid level\t: 13\n",
            "wp\t\t: yes\n",
            "flags\t\t: fpu vme de pse tsc msr pae mce cx8 apic sep mtrr pge mca cmov pat pse36 clflush mmx fxsr sse sse2 ss ht syscall nx pdpe1gb rdtscp lm constant_tsc rep_good nopl xtopology nonstop_tsc cpuid tsc_known_freq pni pclmulqdq ssse3 fma cx16 pcid sse4_1 sse4_2 x2apic movbe popcnt aes xsave avx f16c rdrand hypervisor lahf_lm abm 3dnowprefetch invpcid_single ssbd ibrs ibpb stibp fsgsbase tsc_adjust bmi1 hle avx2 smep bmi2 erms invpcid rtm rdseed adx smap xsaveopt arat md_clear arch_capabilities\n",
            "bugs\t\t: cpu_meltdown spectre_v1 spectre_v2 spec_store_bypass l1tf mds swapgs taa mmio_stale_data retbleed\n",
            "bogomips\t: 4399.99\n",
            "clflush size\t: 64\n",
            "cache_alignment\t: 64\n",
            "address sizes\t: 46 bits physical, 48 bits virtual\n",
            "power management:\n",
            "\n"
          ]
        }
      ]
    },
    {
      "cell_type": "code",
      "source": [
        "!cat /proc/meminfo"
      ],
      "metadata": {
        "id": "7D_PG8-KIP_k",
        "colab": {
          "base_uri": "https://localhost:8080/"
        },
        "outputId": "a40c8587-e7e5-492c-b944-e5ecef554800"
      },
      "execution_count": null,
      "outputs": [
        {
          "output_type": "stream",
          "name": "stdout",
          "text": [
            "MemTotal:       13297184 kB\n",
            "MemFree:         8389152 kB\n",
            "MemAvailable:   12405692 kB\n",
            "Buffers:          327300 kB\n",
            "Cached:          3839944 kB\n",
            "SwapCached:            0 kB\n",
            "Active:           597392 kB\n",
            "Inactive:        4074500 kB\n",
            "Active(anon):       1136 kB\n",
            "Inactive(anon):   484148 kB\n",
            "Active(file):     596256 kB\n",
            "Inactive(file):  3590352 kB\n",
            "Unevictable:           0 kB\n",
            "Mlocked:               0 kB\n",
            "SwapTotal:             0 kB\n",
            "SwapFree:              0 kB\n",
            "Dirty:               948 kB\n",
            "Writeback:             0 kB\n",
            "AnonPages:        504532 kB\n",
            "Mapped:           251688 kB\n",
            "Shmem:              1432 kB\n",
            "KReclaimable:     143020 kB\n",
            "Slab:             174052 kB\n",
            "SReclaimable:     143020 kB\n",
            "SUnreclaim:        31032 kB\n",
            "KernelStack:        4176 kB\n",
            "PageTables:         6924 kB\n",
            "NFS_Unstable:          0 kB\n",
            "Bounce:                0 kB\n",
            "WritebackTmp:          0 kB\n",
            "CommitLimit:     6648592 kB\n",
            "Committed_AS:    2578576 kB\n",
            "VmallocTotal:   34359738367 kB\n",
            "VmallocUsed:        9044 kB\n",
            "VmallocChunk:          0 kB\n",
            "Percpu:             1320 kB\n",
            "HardwareCorrupted:     0 kB\n",
            "AnonHugePages:         0 kB\n",
            "ShmemHugePages:        0 kB\n",
            "ShmemPmdMapped:        0 kB\n",
            "FileHugePages:         0 kB\n",
            "FilePmdMapped:         0 kB\n",
            "CmaTotal:              0 kB\n",
            "CmaFree:               0 kB\n",
            "HugePages_Total:       0\n",
            "HugePages_Free:        0\n",
            "HugePages_Rsvd:        0\n",
            "HugePages_Surp:        0\n",
            "Hugepagesize:       2048 kB\n",
            "Hugetlb:               0 kB\n",
            "DirectMap4k:       82744 kB\n",
            "DirectMap2M:     3059712 kB\n",
            "DirectMap1G:    12582912 kB\n"
          ]
        }
      ]
    },
    {
      "cell_type": "markdown",
      "metadata": {
        "id": "5ncLWB0XCgMh"
      },
      "source": [
        "## Problem 6 (20 pts)\n",
        "\n",
        "- **find_k_nearest_index_big** returns the index of the k-nearest for 50 million data\n",
        "- We want to time the execution\n",
        "- *Do not use sklearn, scipy or any module computing k-nearest points directly*\n",
        "- Use numpy functions only"
      ]
    },
    {
      "cell_type": "code",
      "execution_count": null,
      "metadata": {
        "id": "Y7dnMU8zCgMh"
      },
      "outputs": [],
      "source": [
        "# import part here\n",
        "import numpy as np\n",
        "\n",
        "def find_k_nearest_index(data, center, k=1):\n",
        "\n",
        "# YOUR CODE MUST BE HERE\n",
        "    distances = np.sqrt(np.sum((data-center)**2,axis=1))\n",
        "\n",
        "    nearest_index = np.argpartition(distances, k)[:k]\n",
        "    nearest = np.where(distances <= np.max(distances[nearest_index]))[0]\n",
        "    return np.sort(nearest)\n",
        "def find_k_nearest_index_big(data, center, k=1):\n",
        "\n",
        "# YOUR CODE MUST BE HERE\n",
        "    block_size = 100000\n",
        "    num_blocks = len(data) // block_size\n",
        "    blocks = np.array_split(data, num_blocks)\n",
        "\n",
        "    nearest_blocks = np.array(list(map(lambda x: find_k_nearest_index(x,center,k),blocks)))\n",
        "    nearest_blocks = np.concatenate(nearest_blocks) + np.repeat(np.arange(num_blocks) * block_size, k)\n",
        "    distances = np.sqrt(np.sum((data[nearest_blocks] - center) ** 2, axis=1))\n",
        "    nearest = nearest_blocks[np.argpartition(distances, k)[:k]]\n",
        "    return np.sort(nearest)\n",
        "\n",
        "\n",
        "\n",
        "\n"
      ]
    },
    {
      "cell_type": "code",
      "execution_count": null,
      "metadata": {
        "id": "QqGKrOspCgMh",
        "colab": {
          "base_uri": "https://localhost:8080/"
        },
        "outputId": "72dea392-b987-4dc0-819c-03efed6b431d"
      },
      "outputs": [
        {
          "output_type": "stream",
          "name": "stdout",
          "text": [
            "[ 5594529  9743426 16101792 17966020 26121068]\n",
            "Total time taken : 3.3194377422332764 seconds\n",
            "My point is 10\n"
          ]
        }
      ],
      "source": [
        "# DO NOT EDIT THIS CELL\n",
        "\n",
        "import time\n",
        "\n",
        "np.random.seed(100)\n",
        "data = np.random.randn(30000000,20)   # 30 million data\n",
        "k = 5\n",
        "center = np.random.randn(20)\n",
        "start = time.time()\n",
        "print(find_k_nearest_index_big(data, center, k))\n",
        "end = time.time()\n",
        "\n",
        "lapse = end - start\n",
        "total = 10\n",
        "weight = 1.5\n",
        "grace = 20\n",
        "my_point = int(total / (weight ** (lapse // grace)))\n",
        "print(f'Total time taken : {lapse} seconds')\n",
        "print(f'My point is {my_point}')"
      ]
    },
    {
      "cell_type": "markdown",
      "metadata": {
        "id": "kyCXerWZCgMi"
      },
      "source": [
        "**Your time must be around:**\n",
        "```\n",
        "[ _____________________________________________ ]\n",
        "Total time taken : 5.2564404010772705 seconds\n",
        "My point is 10\n",
        "```"
      ]
    },
    {
      "cell_type": "code",
      "execution_count": null,
      "metadata": {
        "id": "Zs-W1WoICgMi",
        "colab": {
          "base_uri": "https://localhost:8080/"
        },
        "outputId": "d3ce591d-f30b-4389-9bc2-7d016612b4c5"
      },
      "outputs": [
        {
          "output_type": "stream",
          "name": "stdout",
          "text": [
            "[ 7095946 12357774 16298750 17671994 37962997]\n",
            "Total time taken : 6.052914619445801 seconds\n",
            "My point is 10\n"
          ]
        }
      ],
      "source": [
        "# DO NOT EDIT THIS CELL\n",
        "\n",
        "import time\n",
        "\n",
        "np.random.seed(100)\n",
        "data = np.random.randn(50000000,20)   # 50 million data\n",
        "k = 5\n",
        "center = np.random.randn(20)\n",
        "start = time.time()\n",
        "print(find_k_nearest_index_big(data, center, k))\n",
        "end = time.time()\n",
        "\n",
        "lapse = end - start\n",
        "total = 10\n",
        "weight = 1.5\n",
        "grace = 20\n",
        "my_point = int(total / (weight ** (lapse // grace)))\n",
        "print(f'Total time taken : {lapse} seconds')\n",
        "print(f'My point is {my_point}')"
      ]
    },
    {
      "cell_type": "markdown",
      "metadata": {
        "id": "yQxxs_MGCgMi"
      },
      "source": [
        "**Your time must be around:**\n",
        "```\n",
        "[ _____________________________________________ ]\n",
        "Total time taken : 9.744923830032349 seconds\n",
        "My point is 10\n",
        "```"
      ]
    },
    {
      "cell_type": "code",
      "execution_count": null,
      "metadata": {
        "id": "rtOBPvvQPIJo",
        "colab": {
          "base_uri": "https://localhost:8080/"
        },
        "outputId": "7df5676d-cd52-44c7-8d24-46fdc81b77d4"
      },
      "outputs": [
        {
          "output_type": "stream",
          "name": "stdout",
          "text": [
            "[ 8625157 10575612 24493637 47297630 67932745]\n",
            "Total time taken : 14.391960144042969 seconds\n",
            "My point is 10\n"
          ]
        }
      ],
      "source": [
        "# DO NOT EDIT THIS CELL\n",
        "\n",
        "import time\n",
        "\n",
        "np.random.seed(100)\n",
        "data = np.random.randn(70000000,20)   # 70 million data\n",
        "k = 5\n",
        "center = np.random.randn(20)\n",
        "start = time.time()\n",
        "print(find_k_nearest_index_big(data, center, k))\n",
        "end = time.time()\n",
        "\n",
        "lapse = end - start\n",
        "total = 10\n",
        "weight = 1.5\n",
        "grace = 40\n",
        "my_point = int(total / (weight ** (lapse // grace)))\n",
        "print(f'Total time taken : {lapse} seconds')\n",
        "print(f'My point is {my_point}')"
      ]
    },
    {
      "cell_type": "markdown",
      "source": [
        "**Your time must be around:**\n",
        "```\n",
        "[ _____________________________________________ ]\n",
        "Total time taken : 20.60638999938965 seconds\n",
        "My point is 10\n",
        "```"
      ],
      "metadata": {
        "id": "nJ_PoV4eQN8V"
      }
    },
    {
      "cell_type": "markdown",
      "metadata": {
        "id": "OClOvLcHCgMi"
      },
      "source": [
        "## Ethics:\n",
        "If you cheat, you will get negatgive of the total points.\n",
        "If the homework total is 22 and you cheat, you get -22."
      ]
    },
    {
      "cell_type": "markdown",
      "metadata": {
        "id": "KxhkWrPYCgMi"
      },
      "source": [
        "## What to submit\n",
        "\n",
        "- Run **all cells** after restarting the kernel\n",
        "- Goto \"File -> Print Preview\"\n",
        "- Print the page as pdf\n",
        "- Submit the pdf file in google classroom\n",
        "- Pdf file name must be in a form of: homework_2_prob6_홍길동_202300001.pdf\n",
        "- No late homeworks will be accepted\n",
        "- Your homework will be graded on the basis of correctness, performance, and programming skills"
      ]
    }
  ],
  "metadata": {
    "hide_input": false,
    "kernelspec": {
      "display_name": "Python 3",
      "language": "python",
      "name": "python3"
    },
    "language_info": {
      "codemirror_mode": {
        "name": "ipython",
        "version": 3
      },
      "file_extension": ".py",
      "mimetype": "text/x-python",
      "name": "python",
      "nbconvert_exporter": "python",
      "pygments_lexer": "ipython3",
      "version": "3.7.3"
    },
    "varInspector": {
      "cols": {
        "lenName": 16,
        "lenType": 16,
        "lenVar": 40
      },
      "kernels_config": {
        "python": {
          "delete_cmd_postfix": "",
          "delete_cmd_prefix": "del ",
          "library": "var_list.py",
          "varRefreshCmd": "print(var_dic_list())"
        },
        "r": {
          "delete_cmd_postfix": ") ",
          "delete_cmd_prefix": "rm(",
          "library": "var_list.r",
          "varRefreshCmd": "cat(var_dic_list()) "
        }
      },
      "types_to_exclude": [
        "module",
        "function",
        "builtin_function_or_method",
        "instance",
        "_Feature"
      ],
      "window_display": false
    },
    "colab": {
      "provenance": []
    }
  },
  "nbformat": 4,
  "nbformat_minor": 0
}