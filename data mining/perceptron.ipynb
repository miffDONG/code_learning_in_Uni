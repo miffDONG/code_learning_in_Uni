{
  "cells": [
    {
      "cell_type": "markdown",
      "metadata": {
        "id": "4vzGn_ERzGFn"
      },
      "source": [
        "# Homework 3-P. Perceptron"
      ]
    },
    {
      "cell_type": "markdown",
      "metadata": {
        "id": "1vxPDuxLzGFq"
      },
      "source": [
        "***Double Click here to edit this cell***\n",
        "\n",
        "- Name: 김현동\n",
        "- Student ID: 201901208\n",
        "- Submission date: 2023-05-09"
      ]
    },
    {
      "cell_type": "markdown",
      "metadata": {
        "id": "74_So2tfzGFq"
      },
      "source": [
        "## Do this homework on anaconda\n",
        "## Homework Purpose: Learn SGD and Perceptron"
      ]
    },
    {
      "cell_type": "markdown",
      "metadata": {
        "id": "zfQHyEPhzGFr"
      },
      "source": [
        "## Perceptron model"
      ]
    },
    {
      "cell_type": "markdown",
      "metadata": {
        "id": "Y3h699bXzGFr"
      },
      "source": [
        "![image-3.png](attachment:image-3.png)"
      ]
    },
    {
      "cell_type": "markdown",
      "metadata": {
        "id": "fz2aCXZnzGFt"
      },
      "source": [
        "### The net input of the perceptron including the bias"
      ]
    },
    {
      "cell_type": "markdown",
      "metadata": {
        "id": "hSl_M6A2zGFu"
      },
      "source": [
        "![image-2.png](attachment:image-2.png)"
      ]
    },
    {
      "cell_type": "markdown",
      "metadata": {
        "id": "fYZrgwt0zGFv"
      },
      "source": [
        "#### Remark:\n",
        "\n",
        "$$\\sum_{i=1}^{m} w_i x_i + b = b + w_1 x_1 + \\cdots + w_m x_m = (w_0, w_1, \\cdots, w_m) \\cdot (1, x_1, \\cdots, x_m)$$\n",
        "where $w_0 = b$"
      ]
    },
    {
      "cell_type": "markdown",
      "metadata": {
        "id": "7D46JjQdzGFv"
      },
      "source": [
        "### Vector form of the net input"
      ]
    },
    {
      "cell_type": "markdown",
      "metadata": {
        "id": "HN_M2kELzGFw"
      },
      "source": [
        "![image.png](attachment:image.png)"
      ]
    },
    {
      "cell_type": "markdown",
      "metadata": {
        "id": "qqOyL1b3zGFx"
      },
      "source": [
        "### The perceptron fires if and only if the net input is non-negative"
      ]
    },
    {
      "cell_type": "markdown",
      "metadata": {
        "id": "zTb_ZBNfzGFx"
      },
      "source": [
        "![image.png](attachment:image.png)"
      ]
    },
    {
      "cell_type": "markdown",
      "metadata": {
        "id": "6vARwfNrzGFx"
      },
      "source": [
        "### Perceptron as a Binary Classifier\n",
        "\n",
        "- A linear classifier uses lines to classify data points—any object on one side of the line is part of one class and any object on the other side is part of the other class. \n",
        "- A successful linear classifier could use $H_1$ or $H_2$ to discriminate between the two classes, whereas $H_3$ would be a poor decision boundary.\n",
        "- $H_1$ or $H_2$ are called a separating hyperplane"
      ]
    },
    {
      "cell_type": "markdown",
      "metadata": {
        "id": "OTEx9f7fzGFy"
      },
      "source": [
        "![image-2.png](attachment:image-2.png)"
      ]
    },
    {
      "cell_type": "markdown",
      "metadata": {
        "id": "QVr8vlw1zGFy"
      },
      "source": [
        "### Geometric Interpretation of a separating hyperplane"
      ]
    },
    {
      "cell_type": "markdown",
      "metadata": {
        "id": "ZNmEnlwkzGFz"
      },
      "source": [
        "![image-3.png](attachment:image-3.png)"
      ]
    },
    {
      "cell_type": "markdown",
      "metadata": {
        "id": "uF4BikjhzGF0"
      },
      "source": [
        "### When a data is miclassified, we move w to a certain direction\n",
        "\n",
        "- Which direction? How much should we move? Figure it out"
      ]
    },
    {
      "cell_type": "markdown",
      "metadata": {
        "id": "_zNbLZA3zGF1"
      },
      "source": [
        "![image-2.png](attachment:image-2.png)"
      ]
    },
    {
      "cell_type": "markdown",
      "metadata": {
        "id": "ae_587cazGF1"
      },
      "source": [
        "## Remark: gradient_descent.py, linear_algebra.py must be in the folder having this notebook file"
      ]
    },
    {
      "cell_type": "code",
      "execution_count": null,
      "metadata": {
        "id": "fwyHjYzuzGF1"
      },
      "outputs": [],
      "source": [
        "# run this cell\n",
        "from gradient_descent import *\n",
        "from linear_algebra import *"
      ]
    },
    {
      "cell_type": "markdown",
      "metadata": {
        "id": "5PIpFi7OzGF3"
      },
      "source": [
        "## Problem 1 (30 pts)\n",
        "\n",
        "- We want to implement a simple neural network called ```Perceptron```.\n",
        "- We will use ```minimize_stochastic``` to optimize the network"
      ]
    },
    {
      "cell_type": "markdown",
      "metadata": {
        "id": "QKz0paQDzGF3"
      },
      "source": [
        "### The code of SGD\n",
        "```python\n",
        "def in_random_order(data):\n",
        "    \"\"\"generator that returns the elements of data in random order\"\"\"\n",
        "    indexes = [i for i, _ in enumerate(data)]  # create a list of indexes\n",
        "    random.shuffle(indexes)                    # shuffle them\n",
        "    for i in indexes:                          # return the data in that order\n",
        "        yield data[i]\n",
        "        \n",
        "def minimize_stochastic(target_fn, gradient_fn, x, y, theta_0, alpha_0=0.01):\n",
        "\n",
        "    data = list(zip(x, y))\n",
        "    theta = theta_0\n",
        "    data = list(zip(x, y))\n",
        "    theta = theta_0                             # initial guess\n",
        "    alpha = alpha_0                             # initial step size\n",
        "    min_theta, min_value = None, float(\"inf\")   # the minimum so far\n",
        "    iterations_with_no_improvement = 0  \n",
        "\n",
        "    # if we ever go 100 iterations with no improvement, stop\n",
        "    while iterations_with_no_improvement < 100:\n",
        "        count += 1\n",
        "        value = sum( target_fn(x_i, y_i, theta) for x_i, y_i in data )\n",
        "\n",
        "        if value < min_value:\n",
        "            # if we've found a new minimum, remember it\n",
        "            # and go back to the original step size\n",
        "            min_theta, min_value = theta, value\n",
        "            iterations_with_no_improvement = 0\n",
        "            alpha = alpha_0\n",
        "        else:\n",
        "            # otherwise we're not improving, so try shrinking the step size\n",
        "            iterations_with_no_improvement += 1\n",
        "            alpha *= 0.9\n",
        "\n",
        "        # and take a gradient step for each of the data points\n",
        "        for x_i, y_i in in_random_order(data):\n",
        "            gradient_i = gradient_fn(x_i, y_i, theta)\n",
        "            theta = vector_subtract(theta, scalar_multiply(alpha, gradient_i))\n",
        "            \n",
        "    min_theta = theta\n",
        "    \n",
        "    return min_theta\n",
        "```"
      ]
    },
    {
      "cell_type": "markdown",
      "metadata": {
        "id": "DV_kSiRkzGF4"
      },
      "source": [
        "### You should define an error function and a gradient function for perceptron:\n",
        "### Remark: ONE or TWO lines for an error function and a gradient function are enough. If the number of lines > 2, you get a penalty"
      ]
    },
    {
      "cell_type": "markdown",
      "metadata": {
        "id": "DHMtKy-rzGF5"
      },
      "source": [
        "### Define your error function here:"
      ]
    },
    {
      "cell_type": "code",
      "execution_count": null,
      "metadata": {
        "id": "BELFMHrkzGF5"
      },
      "outputs": [],
      "source": [
        "# YOUR CODE MUST BE HERE\n",
        "def perceptron_error(x_i, y_i, w):\n",
        "    w = np.array(w).reshape(-1,1)\n",
        "    return int(np.sign(np.dot(x_i, w)) != y_i)"
      ]
    },
    {
      "cell_type": "markdown",
      "metadata": {
        "id": "xNZzRPL1zGF5"
      },
      "source": [
        "### Define your gradient function here:"
      ]
    },
    {
      "cell_type": "code",
      "execution_count": null,
      "metadata": {
        "id": "QvvoNCCrzGF6"
      },
      "outputs": [],
      "source": [
        "# # YOUR CODE MUST BE HERE\n",
        "def perceptron_error_gradient(x_i, y_i, w):\n",
        "    w = np.array(w).reshape(-1,1)\n",
        "    return (np.sign(np.dot(x_i, w)) - y_i) * x_i"
      ]
    },
    {
      "cell_type": "markdown",
      "metadata": {
        "id": "iCN_6r48zGF6"
      },
      "source": [
        "### Define a function to shade a decision boundary\n",
        "\n",
        "- The region of $w_1 \\cdot x_1 + w_2 \\cdot x_2 + w_0 \\ge 0$  are shaded as red; otherwise shaded as blue\n",
        "- ```x_min, x_max, y_min, y_max``` defines a shading area\n",
        "- The resulting shading and plotting must be very similar as shown in the given answer images"
      ]
    },
    {
      "cell_type": "code",
      "execution_count": null,
      "metadata": {
        "id": "voJbaguazGF6"
      },
      "outputs": [],
      "source": [
        "# # #YOUR CODE MUST BE HERE\n",
        "\n",
        "def shade_decision_region(X, y, w, x_min, x_max, y_min, y_max, cmap='coolwarm'):\n",
        "    \n",
        "    fig, ax = plt.subplots()\n",
        "    \n",
        "    xx, yy = np.meshgrid(np.arange(x_min, x_max, 0.01), np.arange(y_min, y_max, 0.01))\n",
        "    Z = np.array([np.sign(np.dot(w, [1, x, y])) for x, y in np.c_[xx.ravel(), yy.ravel()]])\n",
        "    Z = Z.reshape(xx.shape)\n",
        "    \n",
        "    ax.contourf(xx, yy, Z, alpha=0.5, cmap=cmap)\n",
        "    \n",
        "    X = np.array(X)\n",
        "    y = np.array(y)\n",
        "    \n",
        "    ax.scatter(X[y==-1, 1], X[y==-1, 2], marker='o', c='blue')\n",
        "    ax.scatter(X[y==1, 1], X[y==1, 2], marker='o', c='red')\n",
        "    \n",
        "    plt.show()\n"
      ]
    },
    {
      "cell_type": "markdown",
      "metadata": {
        "id": "IYVgv_h6zGF6"
      },
      "source": [
        "### Test Case 1: OR"
      ]
    },
    {
      "cell_type": "code",
      "execution_count": null,
      "metadata": {
        "scrolled": true,
        "id": "3sIkimwnzGF7",
        "colab": {
          "base_uri": "https://localhost:8080/",
          "height": 430
        },
        "outputId": "68071c74-0fb1-42f1-8d39-399a85e0aea0"
      },
      "outputs": [
        {
          "output_type": "display_data",
          "data": {
            "text/plain": [
              "<Figure size 640x480 with 1 Axes>"
            ],
            "image/png": "[encoded data removed]"
          },
          "metadata": {}
        }
      ],
      "source": [
        "# DO NOT EDIT THIS CELL\n",
        "# RUN THIS CELL\n",
        "\n",
        "import matplotlib.pyplot as plt\n",
        "import numpy as np \n",
        "\n",
        "X = [[1,0,0], [1,0,1], [1,1,0], [1,1,1]]\n",
        "y = [-1, 1, 1, 1]\n",
        "\n",
        "random.seed(2)\n",
        "theta = [1, random.random(),random.random()]\n",
        "\n",
        "w = minimize_stochastic(perceptron_error,\n",
        "                        perceptron_error_gradient,\n",
        "                        X,\n",
        "                        y,\n",
        "                        theta,\n",
        "                        0.1)\n",
        "\n",
        "shade_decision_region(X, y, w, x_min=-1, x_max=2, y_min=-1, y_max=2)"
      ]
    },
    {
      "cell_type": "markdown",
      "metadata": {
        "id": "ZBAi4zdozGF7"
      },
      "source": [
        "\n",
        "\n",
        "\n",
        "\n",
        "\n",
        "\n",
        "\n",
        "#### Your output must be similar to the following:\n",
        "\n",
        "![image.png](attachment:image.png)"
      ]
    },
    {
      "cell_type": "markdown",
      "metadata": {
        "id": "ewvqgZrmzGF7"
      },
      "source": [
        "### Test Case 2: AND"
      ]
    },
    {
      "cell_type": "code",
      "execution_count": null,
      "metadata": {
        "scrolled": false,
        "id": "AfwjY7fxzGF7",
        "colab": {
          "base_uri": "https://localhost:8080/",
          "height": 430
        },
        "outputId": "e8913596-1442-4b84-9dfc-e293817c7a0c"
      },
      "outputs": [
        {
          "output_type": "display_data",
          "data": {
            "text/plain": [
              "<Figure size 640x480 with 1 Axes>"
            ],
            "image/png": "[encoded data removed]"
          },
          "metadata": {}
        }
      ],
      "source": [
        "# DO NOT EDIT THIS CELL\n",
        "# RUN THIS CELL\n",
        "\n",
        "import matplotlib.pyplot as plt\n",
        "import numpy as np \n",
        "\n",
        "X = [[1,0,0], [1,0,1], [1,1,0], [1,1,1]]\n",
        "y = [-1, -1, -1, 1]\n",
        "\n",
        "# choose random value to start\n",
        "random.seed(2)\n",
        "theta = [1, random.random(),random.random()]\n",
        "\n",
        "w = minimize_stochastic(perceptron_error,\n",
        "                        perceptron_error_gradient,\n",
        "                        X,\n",
        "                        y,\n",
        "                        theta,\n",
        "                        0.1)\n",
        "\n",
        "shade_decision_region(X, y, w, x_min=-1, x_max=2, y_min=-1, y_max=2)"
      ]
    },
    {
      "cell_type": "markdown",
      "metadata": {
        "id": "4yV1XjuSzGF8"
      },
      "source": [
        "\n",
        "\n",
        "\n",
        "#### Your output must be similar to the following:\n",
        "\n",
        "![image.png](attachment:image.png)"
      ]
    },
    {
      "cell_type": "markdown",
      "metadata": {
        "id": "AqlNcKffzGF8"
      },
      "source": [
        "### Test Case 3: XOR"
      ]
    },
    {
      "cell_type": "code",
      "execution_count": null,
      "metadata": {
        "scrolled": false,
        "id": "MZyjUTNkzGF8",
        "colab": {
          "base_uri": "https://localhost:8080/",
          "height": 430
        },
        "outputId": "28b5e581-ff04-4120-9c26-68f7c4e6cd1d"
      },
      "outputs": [
        {
          "output_type": "display_data",
          "data": {
            "text/plain": [
              "<Figure size 640x480 with 1 Axes>"
            ],
            "image/png": "[encoded data removed]"
          },
          "metadata": {}
        }
      ],
      "source": [
        "# DO NOT EDIT THIS CELL\n",
        "# RUN THIS CELL\n",
        "\n",
        "import matplotlib.pyplot as plt\n",
        "import numpy as np \n",
        "\n",
        "X = [[1,0,0], [1,0,1], [1,1,0], [1,1,1]]\n",
        "y = [-1, 1, 1, -1]\n",
        "\n",
        "# choose random value to start\n",
        "random.seed(2)\n",
        "theta = [1, random.random(),random.random()]\n",
        "\n",
        "w = minimize_stochastic(perceptron_error,\n",
        "                        perceptron_error_gradient,\n",
        "                        X,\n",
        "                        y,\n",
        "                        theta,\n",
        "                        0.1)\n",
        "\n",
        "shade_decision_region(X, y, w, x_min=-1, x_max=2, y_min=-1, y_max=2)"
      ]
    },
    {
      "cell_type": "markdown",
      "metadata": {
        "id": "oH4cIaJDzGF8"
      },
      "source": [
        "#### Your output must be similar to the following:\n",
        "\n",
        "![image.png](attachment:image.png)"
      ]
    },
    {
      "cell_type": "markdown",
      "metadata": {
        "id": "HKsk-v4QzGF9"
      },
      "source": [
        "### Test Case 4: Right"
      ]
    },
    {
      "cell_type": "code",
      "execution_count": null,
      "metadata": {
        "scrolled": true,
        "id": "5B-jX5SzzGF9",
        "colab": {
          "base_uri": "https://localhost:8080/",
          "height": 430
        },
        "outputId": "64a349a6-6b59-4497-b5a5-404d509c97f9"
      },
      "outputs": [
        {
          "output_type": "display_data",
          "data": {
            "text/plain": [
              "<Figure size 640x480 with 1 Axes>"
            ],
            "image/png": "[encoded data removed]"
          },
          "metadata": {}
        }
      ],
      "source": [
        "# DO NOT EDIT THIS CELL\n",
        "# RUN THIS CELL\n",
        "\n",
        "import matplotlib.pyplot as plt\n",
        "import numpy as np \n",
        "\n",
        "X = [[1,0,0], [1,0,1], [1,1,0], [1,1,1]]\n",
        "y = [-1, -1, 1, 1]\n",
        "\n",
        "# choose random value to start\n",
        "random.seed(2)\n",
        "theta = [1, random.random(),random.random()]\n",
        "\n",
        "w = minimize_stochastic(perceptron_error,\n",
        "                        perceptron_error_gradient,\n",
        "                        X,\n",
        "                        y,\n",
        "                        theta,\n",
        "                        0.1)\n",
        "\n",
        "shade_decision_region(X, y, w, x_min=-1, x_max=2, y_min=-1, y_max=2)"
      ]
    },
    {
      "cell_type": "markdown",
      "metadata": {
        "id": "hLGkuzCfzGF9"
      },
      "source": [
        "\n",
        "\n",
        "\n",
        "#### Your output must be similar to the following:\n",
        "\n",
        "*   항목 추가\n",
        "*   항목 추가\n",
        "\n",
        "\n",
        "\n",
        "![image.png](attachment:image.png)"
      ]
    },
    {
      "cell_type": "markdown",
      "metadata": {
        "id": "LoZRi5_3zGF9"
      },
      "source": [
        "### Test Case 5: Upper"
      ]
    },
    {
      "cell_type": "code",
      "execution_count": null,
      "metadata": {
        "scrolled": true,
        "id": "qwY265nvzGF9",
        "colab": {
          "base_uri": "https://localhost:8080/",
          "height": 430
        },
        "outputId": "7c8b3571-8b42-48c9-c672-141f589765fc"
      },
      "outputs": [
        {
          "output_type": "display_data",
          "data": {
            "text/plain": [
              "<Figure size 640x480 with 1 Axes>"
            ],
            "image/png": "[encoded data removed]"
          },
          "metadata": {}
        }
      ],
      "source": [
        "# DO NOT EDIT THIS CELL\n",
        "# RUN THIS CELL\n",
        "\n",
        "import matplotlib.pyplot as plt\n",
        "import numpy as np \n",
        "\n",
        "X = [[1,0,0], [1,0,1], [1,1,0], [1,1,1]]\n",
        "y = [-1, 1, -1, 1]\n",
        "\n",
        "# choose random value to start\n",
        "random.seed(2)\n",
        "theta = [1, random.random(),random.random()]\n",
        "\n",
        "w = minimize_stochastic(perceptron_error,\n",
        "                        perceptron_error_gradient,\n",
        "                        X,\n",
        "                        y,\n",
        "                        theta,\n",
        "                        0.1)\n",
        "\n",
        "shade_decision_region(X, y, w, x_min=-1, x_max=2, y_min=-1, y_max=2)"
      ]
    },
    {
      "cell_type": "markdown",
      "metadata": {
        "id": "b406OVYnzGF-"
      },
      "source": [
        "#### Your output must be similar to the following:\n",
        "\n",
        "![image.png](attachment:image.png)"
      ]
    },
    {
      "cell_type": "markdown",
      "metadata": {
        "id": "BH_SbU_rzGF-"
      },
      "source": [
        "### Test Case 6: Two Clusters"
      ]
    },
    {
      "cell_type": "code",
      "execution_count": null,
      "metadata": {
        "scrolled": false,
        "id": "QFM1TeNWzGF-",
        "colab": {
          "base_uri": "https://localhost:8080/",
          "height": 430
        },
        "outputId": "664d3131-08e6-4851-c4ac-2eda59e853b7"
      },
      "outputs": [
        {
          "output_type": "display_data",
          "data": {
            "text/plain": [
              "<Figure size 640x480 with 1 Axes>"
            ],
            "image/png": "[encoded data removed]"
          },
          "metadata": {}
        }
      ],
      "source": [
        "# DO NOT EDIT THIS CELL\n",
        "# RUN THIS CELL\n",
        "\n",
        "import matplotlib.pyplot as plt\n",
        "from sklearn.datasets import make_blobs\n",
        "import random\n",
        "\n",
        "Xs, ys = make_blobs(n_samples=1000, n_features=2, centers=2, cluster_std=0.5, random_state=0)\n",
        "Xs1 = np.hstack((np.ones((Xs.shape[0],1)), Xs))\n",
        "\n",
        "# choose random value to start\n",
        "random.seed(2)\n",
        "theta = [1, random.random(),random.random()]\n",
        "\n",
        "X = Xs1.tolist()\n",
        "y = (np.where(ys == 1, 1, -1)).tolist()\n",
        "\n",
        "w = minimize_stochastic(perceptron_error,\n",
        "                        perceptron_error_gradient,\n",
        "                        X,\n",
        "                        y,\n",
        "                        theta,\n",
        "                        0.1)\n",
        "\n",
        "shade_decision_region(X, y, w, x_min=-3, x_max=7, y_min=-3, y_max=7)"
      ]
    },
    {
      "cell_type": "markdown",
      "metadata": {
        "id": "ZqaiVikZzGF-"
      },
      "source": [
        "#### Your output must be similar to the following:\n",
        "\n",
        "![image.png](attachment:image.png)"
      ]
    },
    {
      "cell_type": "markdown",
      "metadata": {
        "id": "DFB91vQgzGF_"
      },
      "source": [
        "### Test Case 7: Two Big Clusters"
      ]
    },
    {
      "cell_type": "code",
      "execution_count": null,
      "metadata": {
        "scrolled": false,
        "id": "tHN2EfwnzGF_",
        "colab": {
          "base_uri": "https://localhost:8080/",
          "height": 466
        },
        "outputId": "6108d99f-4745-47f1-d177-efa94fc459fe"
      },
      "outputs": [
        {
          "output_type": "display_data",
          "data": {
            "text/plain": [
              "<Figure size 640x480 with 1 Axes>"
            ],
            "image/png": "[encoded data removed]"
          },
          "metadata": {}
        },
        {
          "output_type": "stream",
          "name": "stdout",
          "text": [
            "Total time taken : 263.30232334136963 seconds\n",
            "My point is 4\n"
          ]
        }
      ],
      "source": [
        "# DO NOT EDIT THIS CELL\n",
        "# RUN THIS CELL\n",
        "\n",
        "import matplotlib.pyplot as plt\n",
        "from sklearn.datasets import make_blobs\n",
        "import random\n",
        "import time\n",
        "\n",
        "Xs, ys = make_blobs(n_samples=100000, n_features=2, centers=2, cluster_std=0.5, random_state=0)\n",
        "Xs1 = np.hstack((np.ones((Xs.shape[0],1)), Xs))\n",
        "\n",
        "# choose random value to start\n",
        "random.seed(2)\n",
        "theta = [1, random.random(),random.random()]\n",
        "\n",
        "X = Xs1.tolist()\n",
        "y = (np.where(ys == 1, 1, -1)).tolist()\n",
        "\n",
        "start = time.time()\n",
        "w = minimize_stochastic(perceptron_error,\n",
        "                        perceptron_error_gradient,\n",
        "                        X,\n",
        "                        y,\n",
        "                        theta,\n",
        "                        0.1)\n",
        "end = time.time()\n",
        "\n",
        "shade_decision_region(X, y, w, x_min=-3, x_max=7, y_min=-3, y_max=7)\n",
        "\n",
        "lapse = end - start\n",
        "total = 10\n",
        "weight = 1.5\n",
        "grace = 100.0\n",
        "my_point = int(total / (weight ** (lapse // grace)))\n",
        "print(f'Total time taken : {lapse} seconds')\n",
        "print(f'My point is {my_point}')"
      ]
    },
    {
      "cell_type": "markdown",
      "metadata": {
        "id": "W5Rgs_4UzGF_"
      },
      "source": [
        "#### Your output must be similar to the following:\n",
        "\n",
        "![image.png](attachment:image.png)"
      ]
    },
    {
      "cell_type": "markdown",
      "metadata": {
        "id": "ks6VaIiCzGGA"
      },
      "source": [
        "## Ethics:\n",
        "If you cheat, you will get negatgive of the total points.\n",
        "If the homework total is 22 and you cheat, you get -22."
      ]
    },
    {
      "cell_type": "markdown",
      "metadata": {
        "id": "8d5AUxVJzGGA"
      },
      "source": [
        "## What to submit\n",
        "\n",
        "- Run **all cells** after restarting the kernel\n",
        "- Goto \"File -> Print Preview\"\n",
        "- Print the page as pdf\n",
        "- Pdf file name must be in a form of: homework_3_홍길동_202200001.pdf\n",
        "- Submit the pdf file in google classroom\n",
        "- No late homeworks will be accepted\n",
        "- Your homework will be graded on the basis of correctness, performance, and programming skills"
      ]
    }
  ],
  "metadata": {
    "hide_input": false,
    "kernelspec": {
      "display_name": "Python 3",
      "language": "python",
      "name": "python3"
    },
    "language_info": {
      "codemirror_mode": {
        "name": "ipython",
        "version": 3
      },
      "file_extension": ".py",
      "mimetype": "text/x-python",
      "name": "python",
      "nbconvert_exporter": "python",
      "pygments_lexer": "ipython3",
      "version": "3.7.3"
    },
    "varInspector": {
      "cols": {
        "lenName": 16,
        "lenType": 16,
        "lenVar": 40
      },
      "kernels_config": {
        "python": {
          "delete_cmd_postfix": "",
          "delete_cmd_prefix": "del ",
          "library": "var_list.py",
          "varRefreshCmd": "print(var_dic_list())"
        },
        "r": {
          "delete_cmd_postfix": ") ",
          "delete_cmd_prefix": "rm(",
          "library": "var_list.r",
          "varRefreshCmd": "cat(var_dic_list()) "
        }
      },
      "types_to_exclude": [
        "module",
        "function",
        "builtin_function_or_method",
        "instance",
        "_Feature"
      ],
      "window_display": false
    },
    "colab": {
      "provenance": []
    }
  },
  "nbformat": 4,
  "nbformat_minor": 0
}