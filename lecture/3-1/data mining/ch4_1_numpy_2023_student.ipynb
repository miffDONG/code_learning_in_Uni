{
  "cells": [
    {
      "cell_type": "markdown",
      "metadata": {
        "id": "Nzf_bpm9mK4n"
      },
      "source": [
        "#  Introduction to Numpy\n",
        "\n",
        "Numpy, which stands for numerical Python, is a Python library package to support numerical computations. The basic data structure in numpy is a **multi-dimensional array object called ndarray**. Numpy provides a suite of functions that can **efficiently** manipulate elements of the ndarray."
      ]
    },
    {
      "cell_type": "markdown",
      "metadata": {
        "id": "c8Fe6zOemK4q"
      },
      "source": [
        "- To see the reference manual\n",
        "    - Help $\\Rightarrow$ Numpy Reference\n",
        "    - or https://numpy.org/doc/stable/index.html#\n",
        "- We will introduce basic building blocks of numpy.\n",
        "- To use a specific function, always try googling or help()."
      ]
    },
    {
      "cell_type": "markdown",
      "metadata": {
        "id": "5EqBwHmMmK4r"
      },
      "source": [
        "## Creating ndarray\n",
        "\n",
        "An ndarray can be created from a list or tuple object."
      ]
    },
    {
      "cell_type": "markdown",
      "metadata": {
        "id": "KaWNUKx3mK4s"
      },
      "source": [
        "- numpy.array is just a convenience function to create an ndarray\n",
        "- numpy.ndarray is a class\n",
        "\n",
        "*Note*:\n",
        "- Tensor is \"something\" which can be represented as multidimensional array.\n",
        "- Tensorflow is a google product for deep learning.\n",
        "- For tensorflow coding, you must be very proficient in numpy n-dimensional array."
      ]
    },
    {
      "cell_type": "code",
      "execution_count": null,
      "metadata": {
        "id": "eMc9RyUTmK4s"
      },
      "outputs": [],
      "source": [
        "import numpy"
      ]
    },
    {
      "cell_type": "code",
      "execution_count": null,
      "metadata": {
        "id": "kK-iaRGemK4u",
        "outputId": "4d93db00-f63d-4be7-bb71-70143aafba39"
      },
      "outputs": [
        {
          "name": "stdout",
          "output_type": "stream",
          "text": [
            "[1. 2. 3. 4. 5.]\n",
            "#Dimensions = 1\n",
            "Dimension = (5,)\n",
            "Size = 5\n",
            "Array type = float64\n"
          ]
        }
      ],
      "source": [
        "import numpy as np\n",
        "\n",
        "oneDim = np.array([1.0,2,3,4,5])   # a 1-dimensional array (vector)\n",
        "print(oneDim)\n",
        "print(\"#Dimensions =\", oneDim.ndim)\n",
        "print(\"Dimension =\", oneDim.shape)\n",
        "print(\"Size =\", oneDim.size)\n",
        "print(\"Array type =\", oneDim.dtype)"
      ]
    },
    {
      "cell_type": "raw",
      "metadata": {
        "id": "ypd97hLNmK4w"
      },
      "source": [
        "numpy element has only one type like C array"
      ]
    },
    {
      "cell_type": "code",
      "execution_count": null,
      "metadata": {
        "id": "JI8gtn9omK4w",
        "outputId": "f698f681-411c-4ddb-a768-645fc471f9f1"
      },
      "outputs": [
        {
          "name": "stdout",
          "output_type": "stream",
          "text": [
            "[[1 2]\n",
            " [3 4]\n",
            " [5 6]\n",
            " [7 8]]\n",
            "#Dimensions = 2\n",
            "Dimension = (4, 2)\n",
            "Size = 8\n",
            "Array type = int32\n"
          ]
        }
      ],
      "source": [
        "twoDim = np.array([[1,2],[3,4],[5,6],[7,8]])  # a two-dimensional array (matrix)\n",
        "print(twoDim)\n",
        "print(\"#Dimensions =\", twoDim.ndim)\n",
        "print(\"Dimension =\", twoDim.shape)\n",
        "print(\"Size =\", twoDim.size)\n",
        "print(\"Array type =\", twoDim.dtype)"
      ]
    },
    {
      "cell_type": "code",
      "execution_count": null,
      "metadata": {
        "id": "Hequa5C1mK4x",
        "outputId": "474304b9-8e6a-43d2-a84f-9b1dd958abe3"
      },
      "outputs": [
        {
          "name": "stdout",
          "output_type": "stream",
          "text": [
            "[['1' 'a' '3.0']\n",
            " ['2' 'b' '3.5']]\n",
            "#Dimensions = 2\n",
            "Dimension = (2, 3)\n",
            "Size = 6\n",
            "Array type = <U11\n"
          ]
        }
      ],
      "source": [
        "arrFromTuple = np.array([(1,'a',3.0),(2,'b',3.5)])  # create ndarray from tuple\n",
        "print(arrFromTuple)\n",
        "print(\"#Dimensions =\", arrFromTuple.ndim)\n",
        "print(\"Dimension =\", arrFromTuple.shape)\n",
        "print(\"Size =\", arrFromTuple.size)\n",
        "print(\"Array type =\", arrFromTuple.dtype)"
      ]
    },
    {
      "cell_type": "code",
      "execution_count": null,
      "metadata": {
        "id": "hnznt1QwmK4x",
        "outputId": "700b6dec-529f-469b-b674-caf0cd51359e"
      },
      "outputs": [
        {
          "name": "stdout",
          "output_type": "stream",
          "text": [
            "(1,)\n",
            "(2,)\n",
            "(2, 1)\n",
            "(1, 2, 3)\n",
            "(1, 1, 1, 0)\n"
          ]
        }
      ],
      "source": [
        "# Guess what is printed\n",
        "print(np.array([1]).shape)\n",
        "print(np.array([1,2]).shape)\n",
        "print(np.array([[1],[2]]).shape)\n",
        "print(np.array([[[1,2,3],[1,2,3]]]).shape)\n",
        "print(np.array([[[[]]]]).shape)"
      ]
    },
    {
      "cell_type": "markdown",
      "metadata": {
        "id": "0GW6RtCPmK4y"
      },
      "source": [
        "There are several built-in functions in numpy that can be used to create ndarrays"
      ]
    },
    {
      "cell_type": "code",
      "execution_count": null,
      "metadata": {
        "id": "YL1Mk_ARmK4y",
        "outputId": "47e9cc8e-72a0-4fd8-b318-cf706a82c24a"
      },
      "outputs": [
        {
          "name": "stdout",
          "output_type": "stream",
          "text": [
            "[0.39549071 0.83200035 0.21630632 0.92803293 0.71053543]\n",
            "[0.89132678 0.0393841  0.36250086 0.04464502 1.31660902]\n",
            "[-10  -8  -6  -4  -2   0   2   4   6   8]\n",
            "[[ 0  1  2  3]\n",
            " [ 4  5  6  7]\n",
            " [ 8  9 10 11]]\n",
            "[0.         0.11111111 0.22222222 0.33333333 0.44444444 0.55555556\n",
            " 0.66666667 0.77777778 0.88888889 1.        ]\n",
            "[1.e-03 1.e-02 1.e-01 1.e+00 1.e+01 1.e+02 1.e+03]\n"
          ]
        }
      ],
      "source": [
        "print(np.random.rand(5))      # random numbers from a uniform distribution between [0,1]\n",
        "print(np.random.randn(5))     # random numbers from a normal distribution\n",
        "print(np.arange(-10,10,2))    # similar to range, but returns ndarray instead of list\n",
        "print(np.arange(12).reshape(3,4))  # reshape to a matrix\n",
        "print(np.linspace(0,1,10))    # split interval [0,1] into 10 equally separated values\n",
        "print(np.logspace(-3,3,7))    # create ndarray with values from 10^-3 to 10^3\n",
        "                              # logspace returns numbers spaced evenly on a log scale."
      ]
    },
    {
      "cell_type": "code",
      "execution_count": null,
      "metadata": {
        "id": "ppdluULomK4z",
        "outputId": "c9080c81-b875-42cd-ad3b-19c8d1a54610"
      },
      "outputs": [
        {
          "name": "stdout",
          "output_type": "stream",
          "text": [
            "[[0. 0. 0.]\n",
            " [0. 0. 0.]]\n",
            "[[1. 1.]\n",
            " [1. 1.]\n",
            " [1. 1.]]\n",
            "[[1. 0. 0.]\n",
            " [0. 1. 0.]\n",
            " [0. 0. 1.]]\n"
          ]
        }
      ],
      "source": [
        "print(np.zeros((2,3)))        # a matrix of zeros\n",
        "print(np.ones((3,2)))         # a matrix of ones\n",
        "print(np.eye(3))              # a 3 x 3 identity matrix"
      ]
    },
    {
      "cell_type": "markdown",
      "metadata": {
        "id": "6C09ogFimK4z"
      },
      "source": [
        "## Element-wise Operations\n",
        "\n",
        "You can apply standard operators such as addition and multiplication on each element of the ndarray."
      ]
    },
    {
      "cell_type": "code",
      "execution_count": null,
      "metadata": {
        "id": "wyX_8c6OmK4z",
        "outputId": "4f94e1be-e5ea-43fa-b4fd-dc5949b4935d"
      },
      "outputs": [
        {
          "name": "stdout",
          "output_type": "stream",
          "text": [
            "[2 3 4 5 6]\n",
            "[0 1 2 3 4]\n",
            "[ 2  4  6  8 10]\n",
            "[0 1 1 2 2]\n",
            "[ 1  4  9 16 25]\n",
            "[1 0 1 0 1]\n",
            "[1.         0.5        0.33333333 0.25       0.2       ]\n"
          ]
        }
      ],
      "source": [
        "x = np.array([1,2,3,4,5])\n",
        "\n",
        "print(x + 1)      # addition\n",
        "print(x - 1)      # subtraction\n",
        "print(x * 2)      # multiplication\n",
        "print(x // 2)     # integer division\n",
        "print(x ** 2)     # square\n",
        "print(x % 2)      # modulo\n",
        "print(1 / x)      # division"
      ]
    },
    {
      "cell_type": "markdown",
      "metadata": {
        "id": "TMJCsWXBmK40"
      },
      "source": [
        "## Why Numpy?"
      ]
    },
    {
      "cell_type": "code",
      "execution_count": null,
      "metadata": {
        "id": "0a6Z7Ys_mK40",
        "outputId": "314e6d04-ae4c-43f0-86d3-a2faebb23934"
      },
      "outputs": [
        {
          "name": "stdout",
          "output_type": "stream",
          "text": [
            "sum is:1124999250000\n",
            "0.1862163543701172\n"
          ]
        }
      ],
      "source": [
        "import time\n",
        "start = time.time()\n",
        "\n",
        "# iterative sum\n",
        "total = 0\n",
        "# iterating through 1.5 Million numbers\n",
        "for item in range(0, 1500000):\n",
        "    total = total + item\n",
        "\n",
        "print('sum is:' + str(total))\n",
        "end = time.time()\n",
        "print(end - start)"
      ]
    },
    {
      "cell_type": "code",
      "execution_count": null,
      "metadata": {
        "id": "RHQ2-vksmK41",
        "outputId": "e454cf77-8271-4267-b809-ee0a368985b1"
      },
      "outputs": [
        {
          "name": "stdout",
          "output_type": "stream",
          "text": [
            "[ 3  6  9 12 15]\n",
            "[1 2 3 4 5]\n",
            "[ 2  8 18 32 50]\n",
            "[2. 2. 2. 2. 2.]\n",
            "[2 2 2 2 2]\n",
            "[     2     16    216   4096 100000]\n"
          ]
        }
      ],
      "source": [
        "x = np.array([2,4,6,8,10])\n",
        "y = np.array([1,2,3,4,5])\n",
        "\n",
        "print(x + y)\n",
        "print(x - y)\n",
        "print(x * y)\n",
        "print(x / y)\n",
        "print(x // y)\n",
        "print(x ** y)"
      ]
    },
    {
      "cell_type": "code",
      "execution_count": null,
      "metadata": {
        "id": "8ye4BUNWmK41",
        "outputId": "f086154e-ce3a-423d-8c3d-c0258b18c91a"
      },
      "outputs": [
        {
          "name": "stdout",
          "output_type": "stream",
          "text": [
            "-282181552\n",
            "0.005002021789550781\n"
          ]
        }
      ],
      "source": [
        "import numpy as np\n",
        "\n",
        "start = time.time()\n",
        "\n",
        "# vectorized sum - using numpy for vectorization\n",
        "# np.arange create the sequence of numbers from 0 to 1499999\n",
        "print(np.sum(np.arange(1500000)))\n",
        "\n",
        "end = time.time()\n",
        "print(end - start)"
      ]
    },
    {
      "cell_type": "code",
      "execution_count": null,
      "metadata": {
        "id": "cO0zOHrKmK42",
        "outputId": "f706673e-c8fe-4b3d-b08c-8edc89f713c9"
      },
      "outputs": [
        {
          "data": {
            "text/html": [
              "<div>\n",
              "<style scoped>\n",
              "    .dataframe tbody tr th:only-of-type {\n",
              "        vertical-align: middle;\n",
              "    }\n",
              "\n",
              "    .dataframe tbody tr th {\n",
              "        vertical-align: top;\n",
              "    }\n",
              "\n",
              "    .dataframe thead th {\n",
              "        text-align: right;\n",
              "    }\n",
              "</style>\n",
              "<table border=\"1\" class=\"dataframe\">\n",
              "  <thead>\n",
              "    <tr style=\"text-align: right;\">\n",
              "      <th></th>\n",
              "      <th>a</th>\n",
              "      <th>b</th>\n",
              "      <th>c</th>\n",
              "      <th>d</th>\n",
              "    </tr>\n",
              "  </thead>\n",
              "  <tbody>\n",
              "    <tr>\n",
              "      <th>0</th>\n",
              "      <td>33</td>\n",
              "      <td>31</td>\n",
              "      <td>6</td>\n",
              "      <td>23</td>\n",
              "    </tr>\n",
              "    <tr>\n",
              "      <th>1</th>\n",
              "      <td>40</td>\n",
              "      <td>30</td>\n",
              "      <td>35</td>\n",
              "      <td>17</td>\n",
              "    </tr>\n",
              "    <tr>\n",
              "      <th>2</th>\n",
              "      <td>42</td>\n",
              "      <td>25</td>\n",
              "      <td>10</td>\n",
              "      <td>45</td>\n",
              "    </tr>\n",
              "    <tr>\n",
              "      <th>3</th>\n",
              "      <td>10</td>\n",
              "      <td>38</td>\n",
              "      <td>15</td>\n",
              "      <td>45</td>\n",
              "    </tr>\n",
              "    <tr>\n",
              "      <th>4</th>\n",
              "      <td>5</td>\n",
              "      <td>28</td>\n",
              "      <td>23</td>\n",
              "      <td>39</td>\n",
              "    </tr>\n",
              "  </tbody>\n",
              "</table>\n",
              "</div>"
            ],
            "text/plain": [
              "    a   b   c   d\n",
              "0  33  31   6  23\n",
              "1  40  30  35  17\n",
              "2  42  25  10  45\n",
              "3  10  38  15  45\n",
              "4   5  28  23  39"
            ]
          },
          "execution_count": 5,
          "metadata": {},
          "output_type": "execute_result"
        }
      ],
      "source": [
        "import numpy as np\n",
        "import pandas as pd\n",
        "df = pd.DataFrame(np.random.randint(0, 50, size=(5000000, 4)), columns=('a','b', 'c', 'd'))\n",
        "# df.shape\n",
        "\n",
        "df.head()"
      ]
    },
    {
      "cell_type": "code",
      "execution_count": null,
      "metadata": {
        "id": "e4OiSEfGmK42",
        "outputId": "32d820da-4f6e-43e8-8815-11b46c50e468"
      },
      "outputs": [
        {
          "name": "stderr",
          "output_type": "stream",
          "text": [
            "C:\\Users\\ksohn\\Anaconda3\\lib\\site-packages\\ipykernel_launcher.py:7: RuntimeWarning: divide by zero encountered in long_scalars\n",
            "  import sys\n",
            "C:\\Users\\ksohn\\Anaconda3\\lib\\site-packages\\ipykernel_launcher.py:7: RuntimeWarning: invalid value encountered in long_scalars\n",
            "  import sys\n"
          ]
        },
        {
          "ename": "KeyboardInterrupt",
          "evalue": "",
          "output_type": "error",
          "traceback": [
            "\u001b[1;31m---------------------------------------------------------------------------\u001b[0m",
            "\u001b[1;31mKeyboardInterrupt\u001b[0m                         Traceback (most recent call last)",
            "\u001b[1;32m<ipython-input-6-ebe2cacf263b>\u001b[0m in \u001b[0;36m<module>\u001b[1;34m\u001b[0m\n\u001b[0;32m      3\u001b[0m \u001b[1;33m\u001b[0m\u001b[0m\n\u001b[0;32m      4\u001b[0m \u001b[1;31m# Iterating through DataFrame using iterrows\u001b[0m\u001b[1;33m\u001b[0m\u001b[1;33m\u001b[0m\u001b[1;33m\u001b[0m\u001b[0m\n\u001b[1;32m----> 5\u001b[1;33m \u001b[1;32mfor\u001b[0m \u001b[0midx\u001b[0m\u001b[1;33m,\u001b[0m \u001b[0mrow\u001b[0m \u001b[1;32min\u001b[0m \u001b[0mdf\u001b[0m\u001b[1;33m.\u001b[0m\u001b[0miterrows\u001b[0m\u001b[1;33m(\u001b[0m\u001b[1;33m)\u001b[0m\u001b[1;33m:\u001b[0m\u001b[1;33m\u001b[0m\u001b[1;33m\u001b[0m\u001b[0m\n\u001b[0m\u001b[0;32m      6\u001b[0m     \u001b[1;31m# creating a new column\u001b[0m\u001b[1;33m\u001b[0m\u001b[1;33m\u001b[0m\u001b[1;33m\u001b[0m\u001b[0m\n\u001b[0;32m      7\u001b[0m     \u001b[0mdf\u001b[0m\u001b[1;33m.\u001b[0m\u001b[0mat\u001b[0m\u001b[1;33m[\u001b[0m\u001b[0midx\u001b[0m\u001b[1;33m,\u001b[0m\u001b[1;34m'ratio'\u001b[0m\u001b[1;33m]\u001b[0m \u001b[1;33m=\u001b[0m \u001b[1;36m100\u001b[0m \u001b[1;33m*\u001b[0m \u001b[1;33m(\u001b[0m\u001b[0mrow\u001b[0m\u001b[1;33m[\u001b[0m\u001b[1;34m\"d\"\u001b[0m\u001b[1;33m]\u001b[0m \u001b[1;33m/\u001b[0m \u001b[0mrow\u001b[0m\u001b[1;33m[\u001b[0m\u001b[1;34m\"c\"\u001b[0m\u001b[1;33m]\u001b[0m\u001b[1;33m)\u001b[0m\u001b[1;33m\u001b[0m\u001b[1;33m\u001b[0m\u001b[0m\n",
            "\u001b[1;32m~\\Anaconda3\\lib\\site-packages\\pandas\\core\\frame.py\u001b[0m in \u001b[0;36miterrows\u001b[1;34m(self)\u001b[0m\n\u001b[0;32m   1011\u001b[0m         \u001b[0mklass\u001b[0m \u001b[1;33m=\u001b[0m \u001b[0mself\u001b[0m\u001b[1;33m.\u001b[0m\u001b[0m_constructor_sliced\u001b[0m\u001b[1;33m\u001b[0m\u001b[1;33m\u001b[0m\u001b[0m\n\u001b[0;32m   1012\u001b[0m         \u001b[1;32mfor\u001b[0m \u001b[0mk\u001b[0m\u001b[1;33m,\u001b[0m \u001b[0mv\u001b[0m \u001b[1;32min\u001b[0m \u001b[0mzip\u001b[0m\u001b[1;33m(\u001b[0m\u001b[0mself\u001b[0m\u001b[1;33m.\u001b[0m\u001b[0mindex\u001b[0m\u001b[1;33m,\u001b[0m \u001b[0mself\u001b[0m\u001b[1;33m.\u001b[0m\u001b[0mvalues\u001b[0m\u001b[1;33m)\u001b[0m\u001b[1;33m:\u001b[0m\u001b[1;33m\u001b[0m\u001b[1;33m\u001b[0m\u001b[0m\n\u001b[1;32m-> 1013\u001b[1;33m             \u001b[0ms\u001b[0m \u001b[1;33m=\u001b[0m \u001b[0mklass\u001b[0m\u001b[1;33m(\u001b[0m\u001b[0mv\u001b[0m\u001b[1;33m,\u001b[0m \u001b[0mindex\u001b[0m\u001b[1;33m=\u001b[0m\u001b[0mcolumns\u001b[0m\u001b[1;33m,\u001b[0m \u001b[0mname\u001b[0m\u001b[1;33m=\u001b[0m\u001b[0mk\u001b[0m\u001b[1;33m)\u001b[0m\u001b[1;33m\u001b[0m\u001b[1;33m\u001b[0m\u001b[0m\n\u001b[0m\u001b[0;32m   1014\u001b[0m             \u001b[1;32myield\u001b[0m \u001b[0mk\u001b[0m\u001b[1;33m,\u001b[0m \u001b[0ms\u001b[0m\u001b[1;33m\u001b[0m\u001b[1;33m\u001b[0m\u001b[0m\n\u001b[0;32m   1015\u001b[0m \u001b[1;33m\u001b[0m\u001b[0m\n",
            "\u001b[1;32m~\\Anaconda3\\lib\\site-packages\\pandas\\core\\series.py\u001b[0m in \u001b[0;36m__init__\u001b[1;34m(self, data, index, dtype, name, copy, fastpath)\u001b[0m\n\u001b[0;32m    327\u001b[0m                 \u001b[0mdata\u001b[0m \u001b[1;33m=\u001b[0m \u001b[0msanitize_array\u001b[0m\u001b[1;33m(\u001b[0m\u001b[0mdata\u001b[0m\u001b[1;33m,\u001b[0m \u001b[0mindex\u001b[0m\u001b[1;33m,\u001b[0m \u001b[0mdtype\u001b[0m\u001b[1;33m,\u001b[0m \u001b[0mcopy\u001b[0m\u001b[1;33m,\u001b[0m \u001b[0mraise_cast_failure\u001b[0m\u001b[1;33m=\u001b[0m\u001b[1;32mTrue\u001b[0m\u001b[1;33m)\u001b[0m\u001b[1;33m\u001b[0m\u001b[1;33m\u001b[0m\u001b[0m\n\u001b[0;32m    328\u001b[0m \u001b[1;33m\u001b[0m\u001b[0m\n\u001b[1;32m--> 329\u001b[1;33m                 \u001b[0mdata\u001b[0m \u001b[1;33m=\u001b[0m \u001b[0mSingleBlockManager\u001b[0m\u001b[1;33m.\u001b[0m\u001b[0mfrom_array\u001b[0m\u001b[1;33m(\u001b[0m\u001b[0mdata\u001b[0m\u001b[1;33m,\u001b[0m \u001b[0mindex\u001b[0m\u001b[1;33m)\u001b[0m\u001b[1;33m\u001b[0m\u001b[1;33m\u001b[0m\u001b[0m\n\u001b[0m\u001b[0;32m    330\u001b[0m \u001b[1;33m\u001b[0m\u001b[0m\n\u001b[0;32m    331\u001b[0m         \u001b[0mgeneric\u001b[0m\u001b[1;33m.\u001b[0m\u001b[0mNDFrame\u001b[0m\u001b[1;33m.\u001b[0m\u001b[0m__init__\u001b[0m\u001b[1;33m(\u001b[0m\u001b[0mself\u001b[0m\u001b[1;33m,\u001b[0m \u001b[0mdata\u001b[0m\u001b[1;33m)\u001b[0m\u001b[1;33m\u001b[0m\u001b[1;33m\u001b[0m\u001b[0m\n",
            "\u001b[1;32m~\\Anaconda3\\lib\\site-packages\\pandas\\core\\internals\\managers.py\u001b[0m in \u001b[0;36mfrom_array\u001b[1;34m(cls, array, index)\u001b[0m\n\u001b[0;32m   1534\u001b[0m         \u001b[0mConstructor\u001b[0m \u001b[1;32mfor\u001b[0m \u001b[1;32mif\u001b[0m \u001b[0mwe\u001b[0m \u001b[0mhave\u001b[0m \u001b[0man\u001b[0m \u001b[0marray\u001b[0m \u001b[0mthat\u001b[0m \u001b[1;32mis\u001b[0m \u001b[1;32mnot\u001b[0m \u001b[0myet\u001b[0m \u001b[0ma\u001b[0m \u001b[0mBlock\u001b[0m\u001b[1;33m.\u001b[0m\u001b[1;33m\u001b[0m\u001b[1;33m\u001b[0m\u001b[0m\n\u001b[0;32m   1535\u001b[0m         \"\"\"\n\u001b[1;32m-> 1536\u001b[1;33m         \u001b[0mblock\u001b[0m \u001b[1;33m=\u001b[0m \u001b[0mmake_block\u001b[0m\u001b[1;33m(\u001b[0m\u001b[0marray\u001b[0m\u001b[1;33m,\u001b[0m \u001b[0mplacement\u001b[0m\u001b[1;33m=\u001b[0m\u001b[0mslice\u001b[0m\u001b[1;33m(\u001b[0m\u001b[1;36m0\u001b[0m\u001b[1;33m,\u001b[0m \u001b[0mlen\u001b[0m\u001b[1;33m(\u001b[0m\u001b[0mindex\u001b[0m\u001b[1;33m)\u001b[0m\u001b[1;33m)\u001b[0m\u001b[1;33m,\u001b[0m \u001b[0mndim\u001b[0m\u001b[1;33m=\u001b[0m\u001b[1;36m1\u001b[0m\u001b[1;33m)\u001b[0m\u001b[1;33m\u001b[0m\u001b[1;33m\u001b[0m\u001b[0m\n\u001b[0m\u001b[0;32m   1537\u001b[0m         \u001b[1;32mreturn\u001b[0m \u001b[0mcls\u001b[0m\u001b[1;33m(\u001b[0m\u001b[0mblock\u001b[0m\u001b[1;33m,\u001b[0m \u001b[0mindex\u001b[0m\u001b[1;33m)\u001b[0m\u001b[1;33m\u001b[0m\u001b[1;33m\u001b[0m\u001b[0m\n\u001b[0;32m   1538\u001b[0m \u001b[1;33m\u001b[0m\u001b[0m\n",
            "\u001b[1;32m~\\Anaconda3\\lib\\site-packages\\pandas\\core\\internals\\blocks.py\u001b[0m in \u001b[0;36mmake_block\u001b[1;34m(values, placement, klass, ndim, dtype)\u001b[0m\n\u001b[0;32m   2715\u001b[0m         \u001b[0mvalues\u001b[0m \u001b[1;33m=\u001b[0m \u001b[0mDatetimeArray\u001b[0m\u001b[1;33m.\u001b[0m\u001b[0m_simple_new\u001b[0m\u001b[1;33m(\u001b[0m\u001b[0mvalues\u001b[0m\u001b[1;33m,\u001b[0m \u001b[0mdtype\u001b[0m\u001b[1;33m=\u001b[0m\u001b[0mdtype\u001b[0m\u001b[1;33m)\u001b[0m\u001b[1;33m\u001b[0m\u001b[1;33m\u001b[0m\u001b[0m\n\u001b[0;32m   2716\u001b[0m \u001b[1;33m\u001b[0m\u001b[0m\n\u001b[1;32m-> 2717\u001b[1;33m     \u001b[1;32mreturn\u001b[0m \u001b[0mklass\u001b[0m\u001b[1;33m(\u001b[0m\u001b[0mvalues\u001b[0m\u001b[1;33m,\u001b[0m \u001b[0mndim\u001b[0m\u001b[1;33m=\u001b[0m\u001b[0mndim\u001b[0m\u001b[1;33m,\u001b[0m \u001b[0mplacement\u001b[0m\u001b[1;33m=\u001b[0m\u001b[0mplacement\u001b[0m\u001b[1;33m)\u001b[0m\u001b[1;33m\u001b[0m\u001b[1;33m\u001b[0m\u001b[0m\n\u001b[0m\u001b[0;32m   2718\u001b[0m \u001b[1;33m\u001b[0m\u001b[0m\n\u001b[0;32m   2719\u001b[0m \u001b[1;33m\u001b[0m\u001b[0m\n",
            "\u001b[1;32m~\\Anaconda3\\lib\\site-packages\\pandas\\core\\internals\\blocks.py\u001b[0m in \u001b[0;36m__init__\u001b[1;34m(self, values, placement, ndim)\u001b[0m\n\u001b[0;32m    123\u001b[0m \u001b[1;33m\u001b[0m\u001b[0m\n\u001b[0;32m    124\u001b[0m     \u001b[1;32mdef\u001b[0m \u001b[0m__init__\u001b[0m\u001b[1;33m(\u001b[0m\u001b[0mself\u001b[0m\u001b[1;33m,\u001b[0m \u001b[0mvalues\u001b[0m\u001b[1;33m,\u001b[0m \u001b[0mplacement\u001b[0m\u001b[1;33m,\u001b[0m \u001b[0mndim\u001b[0m\u001b[1;33m=\u001b[0m\u001b[1;32mNone\u001b[0m\u001b[1;33m)\u001b[0m\u001b[1;33m:\u001b[0m\u001b[1;33m\u001b[0m\u001b[1;33m\u001b[0m\u001b[0m\n\u001b[1;32m--> 125\u001b[1;33m         \u001b[0mself\u001b[0m\u001b[1;33m.\u001b[0m\u001b[0mndim\u001b[0m \u001b[1;33m=\u001b[0m \u001b[0mself\u001b[0m\u001b[1;33m.\u001b[0m\u001b[0m_check_ndim\u001b[0m\u001b[1;33m(\u001b[0m\u001b[0mvalues\u001b[0m\u001b[1;33m,\u001b[0m \u001b[0mndim\u001b[0m\u001b[1;33m)\u001b[0m\u001b[1;33m\u001b[0m\u001b[1;33m\u001b[0m\u001b[0m\n\u001b[0m\u001b[0;32m    126\u001b[0m         \u001b[0mself\u001b[0m\u001b[1;33m.\u001b[0m\u001b[0mmgr_locs\u001b[0m \u001b[1;33m=\u001b[0m \u001b[0mplacement\u001b[0m\u001b[1;33m\u001b[0m\u001b[1;33m\u001b[0m\u001b[0m\n\u001b[0;32m    127\u001b[0m         \u001b[0mself\u001b[0m\u001b[1;33m.\u001b[0m\u001b[0mvalues\u001b[0m \u001b[1;33m=\u001b[0m \u001b[0mvalues\u001b[0m\u001b[1;33m\u001b[0m\u001b[1;33m\u001b[0m\u001b[0m\n",
            "\u001b[1;32m~\\Anaconda3\\lib\\site-packages\\pandas\\core\\internals\\blocks.py\u001b[0m in \u001b[0;36m_check_ndim\u001b[1;34m(self, values, ndim)\u001b[0m\n\u001b[0;32m    157\u001b[0m             \u001b[0mndim\u001b[0m \u001b[1;33m=\u001b[0m \u001b[0mvalues\u001b[0m\u001b[1;33m.\u001b[0m\u001b[0mndim\u001b[0m\u001b[1;33m\u001b[0m\u001b[1;33m\u001b[0m\u001b[0m\n\u001b[0;32m    158\u001b[0m \u001b[1;33m\u001b[0m\u001b[0m\n\u001b[1;32m--> 159\u001b[1;33m         \u001b[1;32mif\u001b[0m \u001b[0mself\u001b[0m\u001b[1;33m.\u001b[0m\u001b[0m_validate_ndim\u001b[0m \u001b[1;32mand\u001b[0m \u001b[0mvalues\u001b[0m\u001b[1;33m.\u001b[0m\u001b[0mndim\u001b[0m \u001b[1;33m!=\u001b[0m \u001b[0mndim\u001b[0m\u001b[1;33m:\u001b[0m\u001b[1;33m\u001b[0m\u001b[1;33m\u001b[0m\u001b[0m\n\u001b[0m\u001b[0;32m    160\u001b[0m             raise ValueError(\n\u001b[0;32m    161\u001b[0m                 \u001b[1;34m\"Wrong number of dimensions. \"\u001b[0m\u001b[1;33m\u001b[0m\u001b[1;33m\u001b[0m\u001b[0m\n",
            "\u001b[1;31mKeyboardInterrupt\u001b[0m: "
          ]
        }
      ],
      "source": [
        "import time\n",
        "start = time.time()\n",
        "\n",
        "# Iterating through DataFrame using iterrows\n",
        "for idx, row in df.iterrows():\n",
        "    # creating a new column\n",
        "    df.at[idx,'ratio'] = 100 * (row[\"d\"] / row[\"c\"])\n",
        "\n",
        "end = time.time()\n",
        "print(end - start)"
      ]
    },
    {
      "cell_type": "code",
      "execution_count": null,
      "metadata": {
        "id": "ASmVl7jymK42",
        "outputId": "8e904c0f-dcae-4fde-ce2c-4c6ccfbe01ee"
      },
      "outputs": [
        {
          "name": "stdout",
          "output_type": "stream",
          "text": [
            "0.12962055206298828\n"
          ]
        }
      ],
      "source": [
        "start = time.time()\n",
        "df[\"ratio\"] = 100 * (df[\"d\"] / df[\"c\"])\n",
        "end = time.time()\n",
        "print(end - start)"
      ]
    },
    {
      "cell_type": "markdown",
      "metadata": {
        "id": "WPiXUMSjmK43"
      },
      "source": [
        "## Indexing and Slicing\n",
        "\n",
        "There are various ways to select certain elements with an ndarray."
      ]
    },
    {
      "cell_type": "code",
      "execution_count": null,
      "metadata": {
        "id": "eLepsISZmK43",
        "outputId": "4920d929-ace7-493e-bd6b-395cbf36275a"
      },
      "outputs": [
        {
          "name": "stdout",
          "output_type": "stream",
          "text": [
            "[-5 -4 -3 -2 -1  0  1  2  3  4]\n",
            "[-2 -1]\n",
            "[1000 1000]\n",
            "[  -5   -4   -3 1000 1000    0    1    2    3    4]\n",
            "[1000 1000]\n",
            "[500 500]\n",
            "[  -5   -4   -3 1000 1000    0    1    2    3    4]\n"
          ]
        }
      ],
      "source": [
        "x = np.arange(-5,5)\n",
        "print(x)\n",
        "\n",
        "y = x[3:5]     # y is a slice, i.e., pointer to a subarray in x\n",
        "print(y)\n",
        "y[:] = 1000    # modifying the value of y will change x\n",
        "print(y)\n",
        "print(x)\n",
        "\n",
        "z = x[3:5].copy()   # makes a copy of the subarray\n",
        "print(z)\n",
        "z[:] = 500          # modifying the value of z will not affect x\n",
        "print(z)\n",
        "print(x)"
      ]
    },
    {
      "cell_type": "markdown",
      "metadata": {
        "id": "RigNREzJmK43"
      },
      "source": [
        "#### Remark: slicing a list makes a copy of the sublist, but slicing numpy array does not."
      ]
    },
    {
      "cell_type": "code",
      "execution_count": null,
      "metadata": {
        "id": "52EPCaYUmK44",
        "outputId": "441daf0b-c00a-4935-cb05-07819f1d300c"
      },
      "outputs": [
        {
          "name": "stdout",
          "output_type": "stream",
          "text": [
            "[-5, -4, -3, -2, -1, 0, 1, 2, 3, 4]\n",
            "[-2, -1]\n",
            "[-2, 1000]\n",
            "[-5, -4, -3, -2, -1, 0, 1, 2, 3, 4]\n"
          ]
        }
      ],
      "source": [
        "# Remark slicing a list makes a copy of the sublist\n",
        "x = list(range(-5,5))\n",
        "print(x)\n",
        "\n",
        "y = x[3:5]     # y is a slice, i.e., not a pointer to a list in x\n",
        "print(y)\n",
        "y[1] = 1000    # modifying the value of y does not change x\n",
        "print(y)\n",
        "print(x)"
      ]
    },
    {
      "cell_type": "code",
      "execution_count": null,
      "metadata": {
        "id": "hBrTyYmcmK44",
        "outputId": "987f6480-5c62-4c38-cc67-47de85508717"
      },
      "outputs": [
        {
          "name": "stdout",
          "output_type": "stream",
          "text": [
            "[[1, 2, 3, 4], [5, 6, 7, 8], [9, 10, 11, 12]]\n",
            "[9, 10, 11, 12]\n",
            "[9, 10, 11, 12]\n",
            "[[ 1  2  3  4]\n",
            " [ 5  6  7  8]\n",
            " [ 9 10 11 12]]\n",
            "[ 9 10 11 12]\n",
            "[ 9 10 11 12]\n",
            "[ 9 10 11 12]\n",
            "[ 3  7 11]\n",
            "[[3 4]\n",
            " [7 8]]\n",
            "[[ 3  4]\n",
            " [11 12]]\n"
          ]
        }
      ],
      "source": [
        "my2dlist = [[1,2,3,4],[5,6,7,8],[9,10,11,12]]   # a 2-dim list\n",
        "print(my2dlist)\n",
        "print(my2dlist[2])        # access the third sublist\n",
        "print(my2dlist[:][2])     # can't access third element of each sublist\n",
        "# print(my2dlist[:,2])    # this will cause syntax error\n",
        "\n",
        "my2darr = np.array(my2dlist)\n",
        "print(my2darr)\n",
        "print(my2darr[2][:])      # access the third row\n",
        "print(my2darr[2,:])       # access the third row\n",
        "print(my2darr[:][2])      # access the third row (similar to 2d list); Don't do this\n",
        "print(my2darr[:,2])       # access the third column\n",
        "print(my2darr[:2,2:])     # access the first two rows & last two columns\n",
        "print(my2darr[::2,2:])    # applying skipper"
      ]
    },
    {
      "cell_type": "markdown",
      "metadata": {
        "id": "dCsmABKdmK44"
      },
      "source": [
        "### Remark again:  It's **indexing**, not copying"
      ]
    },
    {
      "cell_type": "code",
      "execution_count": null,
      "metadata": {
        "id": "1rvmx-WamK45",
        "outputId": "edb2c910-7797-4c9b-8dcb-6a5cecfd3c28"
      },
      "outputs": [
        {
          "name": "stdout",
          "output_type": "stream",
          "text": [
            "[[ 1  2  3  4]\n",
            " [ 5  6  7  8]\n",
            " [ 9 10 11 12]]\n",
            "\n",
            "[[ 3  4]\n",
            " [11 12]]\n",
            "<class 'numpy.ndarray'>\n",
            "\n",
            "[[   1    2 1000 1000]\n",
            " [   5    6    7    8]\n",
            " [   9   10 1000 1000]]\n",
            "\n",
            "[[   1    2 2000 1000]\n",
            " [   5    6    7    8]\n",
            " [   9   10 1000 1000]]\n"
          ]
        }
      ],
      "source": [
        "my2darr = np.array([[1,2,3,4],[5,6,7,8],[9,10,11,12]])   # a 2-dim list\n",
        "print(my2darr)\n",
        "\n",
        "print()\n",
        "sliced = my2darr[::2,2:]   # applying skipper\n",
        "print(sliced)\n",
        "print(type(sliced))\n",
        "\n",
        "print()\n",
        "sliced[:,:] = 1000\n",
        "print(my2darr)\n",
        "\n",
        "print()\n",
        "sliced[0,0] = 2000\n",
        "print(my2darr)"
      ]
    },
    {
      "cell_type": "markdown",
      "metadata": {
        "id": "e4dvoHysmK45"
      },
      "source": [
        "### ndarray also supports boolean indexing (also called masking)."
      ]
    },
    {
      "cell_type": "code",
      "execution_count": null,
      "metadata": {
        "id": "5lW9TEW4mK45",
        "outputId": "97b7184b-241d-4dbb-9bb0-80224eee2004"
      },
      "outputs": [
        {
          "name": "stdout",
          "output_type": "stream",
          "text": [
            "[2 3]\n",
            "2\n",
            "\n",
            "[1 3]\n",
            "\n",
            "[3 2]\n",
            "[3 2 2 2 1]\n",
            "\n",
            "[0 0 0]\n"
          ]
        }
      ],
      "source": [
        "# slicing vs masking vs integer array indexing\n",
        "x = np.array([1,2,3])\n",
        "print(x[1:])                    # slicing\n",
        "print(x[1:][0])                    # slicing\n",
        "\n",
        "print()\n",
        "print(x[[True, False, True]])   # boolean masking\n",
        "\n",
        "print()\n",
        "print(x[[2,1]])                 # integer array indexing\n",
        "print(x[[2,1,1,1,0]])                 # integer array indexing\n",
        "\n",
        "print()\n",
        "x[[2,1,1,1,0]] = 0\n",
        "print(x)"
      ]
    },
    {
      "cell_type": "code",
      "execution_count": null,
      "metadata": {
        "id": "gXAV7Y-3mK45",
        "outputId": "91379373-2340-45a0-9f23-f07ead89e165"
      },
      "outputs": [
        {
          "name": "stdout",
          "output_type": "stream",
          "text": [
            "[[False False False False False False False]\n",
            " [False False False False False False False]\n",
            " [False False False False False False False]\n",
            " [ True  True  True  True  True  True  True]\n",
            " [ True  True  True  True  True  True  True]]\n",
            "\n",
            "[21 22 23 24 25 26 27 28 29 30 31 32 33 34]\n",
            "\n",
            "[1000 1000 1000   24   25   26   27   28   29   30   31   32   33   34]\n",
            "[[ 0  1  2  3  4  5  6]\n",
            " [ 7  8  9 10 11 12 13]\n",
            " [14 15 16 17 18 19 20]\n",
            " [21 22 23 24 25 26 27]\n",
            " [28 29 30 31 32 33 34]]\n"
          ]
        }
      ],
      "source": [
        "y = np.arange(35).reshape(5,7)\n",
        "b = y > 20\n",
        "print(b)\n",
        "\n",
        "print()\n",
        "t = y[b]   # Filtering result is always one-dimensional; it's a copy; not indexing\n",
        "print(t)\n",
        "\n",
        "print()\n",
        "t[:3] = 1000\n",
        "print(t)\n",
        "print(y)"
      ]
    },
    {
      "cell_type": "markdown",
      "metadata": {
        "id": "T6h7RtYjmK46"
      },
      "source": [
        "**LAB:** set to zero if the value is a even number in 2-d array"
      ]
    },
    {
      "cell_type": "code",
      "execution_count": null,
      "metadata": {
        "id": "rKswr0tymK46",
        "outputId": "ad0a3c80-0488-493d-c41b-4d1c13254ddc"
      },
      "outputs": [
        {
          "data": {
            "text/plain": [
              "array([[ 0,  1,  2,  3,  4,  5,  6],\n",
              "       [ 7,  8,  9, 10, 11, 12, 13],\n",
              "       [14, 15, 16, 17, 18, 19, 20],\n",
              "       [21, 22, 23, 24, 25, 26, 27],\n",
              "       [28, 29, 30, 31, 32, 33, 34]])"
            ]
          },
          "execution_count": 3,
          "metadata": {},
          "output_type": "execute_result"
        }
      ],
      "source": [
        "import numpy as np\n",
        "\n",
        "M = np.arange(35).reshape(5,7)\n",
        "M"
      ]
    },
    {
      "cell_type": "code",
      "execution_count": null,
      "metadata": {
        "id": "AIdmp-WJmK46",
        "outputId": "7300ef43-0255-41b8-fef0-020ec8a29d74"
      },
      "outputs": [
        {
          "data": {
            "text/plain": [
              "array([[ 0,  1,  0,  3,  0,  5,  0],\n",
              "       [ 7,  0,  9,  0, 11,  0, 13],\n",
              "       [ 0, 15,  0, 17,  0, 19,  0],\n",
              "       [21,  0, 23,  0, 25,  0, 27],\n",
              "       [ 0, 29,  0, 31,  0, 33,  0]])"
            ]
          },
          "execution_count": 18,
          "metadata": {},
          "output_type": "execute_result"
        }
      ],
      "source": [
        "M[M % 2 == 0] = 0\n",
        "M"
      ]
    },
    {
      "cell_type": "markdown",
      "metadata": {
        "id": "HWRXenrTmK46"
      },
      "source": [
        "**LAB:** Take negative if the value is a even number in 2-d array"
      ]
    },
    {
      "cell_type": "code",
      "execution_count": null,
      "metadata": {
        "id": "sqW-Bj64mK47",
        "outputId": "49c91da3-d881-491b-9ccd-f47cc989520d"
      },
      "outputs": [
        {
          "data": {
            "text/plain": [
              "array([[  0,   1,  -2,   3,  -4,   5,  -6],\n",
              "       [  7,  -8,   9, -10,  11, -12,  13],\n",
              "       [-14,  15, -16,  17, -18,  19, -20],\n",
              "       [ 21, -22,  23, -24,  25, -26,  27],\n",
              "       [-28,  29, -30,  31, -32,  33, -34]])"
            ]
          },
          "execution_count": 4,
          "metadata": {},
          "output_type": "execute_result"
        }
      ],
      "source": [
        "M[M % 2 == 0] = -M[M % 2 == 0]\n",
        "M"
      ]
    },
    {
      "cell_type": "code",
      "execution_count": null,
      "metadata": {
        "id": "-FHcBS1FmK47",
        "outputId": "cd6b3251-4a44-4603-8ebb-06a338672629"
      },
      "outputs": [
        {
          "data": {
            "text/plain": [
              "array([[  0,  -1,   0,  -3,   0,  -5,   0],\n",
              "       [ -7,   0,  -9,   0, -11,   0, -13],\n",
              "       [  0, -15,   0, -17,   0, -19,   0],\n",
              "       [-21,   0, -23,   0, -25,   0, -27],\n",
              "       [  0, -29,   0, -31,   0, -33,   0]])"
            ]
          },
          "execution_count": 20,
          "metadata": {},
          "output_type": "execute_result"
        }
      ],
      "source": [
        "# First Boolean masking\n",
        "\n",
        "np.where(M % 2 == 0, M, -M)"
      ]
    },
    {
      "cell_type": "markdown",
      "metadata": {
        "id": "npqdgYDgmK47"
      },
      "source": [
        "More indexing examples: **Integer array indexing**"
      ]
    },
    {
      "cell_type": "code",
      "execution_count": null,
      "metadata": {
        "id": "HEHOjBgnmK5P",
        "outputId": "f9e687c6-cdee-4b10-c611-6f1218d30887"
      },
      "outputs": [
        {
          "name": "stdout",
          "output_type": "stream",
          "text": [
            "[[ 1  2  3]\n",
            " [ 4  5  6]\n",
            " [ 7  8  9]\n",
            " [10 11 12]]\n",
            "[[ 7  8  9]\n",
            " [ 4  5  6]\n",
            " [ 1  2  3]\n",
            " [10 11 12]]\n",
            "[ 1  3  4  8 12]\n"
          ]
        }
      ],
      "source": [
        "my2darr = np.arange(1,13,1).reshape(4,3)\n",
        "print(my2darr)\n",
        "\n",
        "indices = [2,1,0,3]    # selected row indices\n",
        "print(my2darr[indices,:])\n",
        "\n",
        "rowIndex = [0,0,1,2,3]     # row index into my2darr\n",
        "columnIndex = [0,2,0,1,2]  # column index into my2darr\n",
        "print(my2darr[rowIndex,columnIndex])  # element-wise"
      ]
    },
    {
      "cell_type": "markdown",
      "metadata": {
        "id": "JiZfR-f0mK5P"
      },
      "source": [
        "## Numpy Arithmetic and Statistical Functions\n",
        "\n",
        "There are many built-in mathematical functions available for manipulating elements of nd-array."
      ]
    },
    {
      "cell_type": "code",
      "execution_count": null,
      "metadata": {
        "id": "XmFxdbs_mK5P",
        "outputId": "ce73e3ad-85d9-4bbf-94ab-4a1b5766c9b6"
      },
      "outputs": [
        {
          "name": "stdout",
          "output_type": "stream",
          "text": [
            "[-1.4  0.4 -3.2  2.5  3.4]\n",
            "\n",
            "[1.4 0.4 3.2 2.5 3.4]\n",
            "[1.18321596 0.63245553 1.78885438 1.58113883 1.84390889]\n",
            "[-1.  1. -1.  1.  1.]\n",
            "[ 0.24659696  1.4918247   0.0407622  12.18249396 29.96410005]\n",
            "[-3.2 -1.4  0.4  2.5  3.4]\n",
            "[-1.4  0.4 -3.2  2.5  3.4]\n"
          ]
        }
      ],
      "source": [
        "y = np.array([-1.4, 0.4, -3.2, 2.5, 3.4])    # generate a random vector\n",
        "print(y)\n",
        "print()\n",
        "\n",
        "print(np.abs(y))          # convert to absolute values\n",
        "print(np.sqrt(np.abs(y)))    # apply square root to each element\n",
        "print(np.sign(y))         # get the sign of each element\n",
        "print(np.exp(y))          # apply exponentiation: e^y\n",
        "print(np.sort(y))         # sort array; return a sorted copy of an array\n",
        "print(y)                  # y does not change"
      ]
    },
    {
      "cell_type": "code",
      "execution_count": null,
      "metadata": {
        "id": "7pOvTJH8mK5Q",
        "outputId": "41eac20d-e18a-4dcc-9396-7914aaa3818d"
      },
      "outputs": [
        {
          "name": "stdout",
          "output_type": "stream",
          "text": [
            "[-2 -1  0  1  2]\n",
            "[-0.5915882   0.86652443 -0.76206247 -0.18749133 -0.65986152]\n",
            "[-2.5915882  -0.13347557 -0.76206247  0.81250867  1.34013848]\n",
            "[-1.4084118  -1.86652443  0.76206247  1.18749133  2.65986152]\n",
            "[ 1.1831764  -0.86652443 -0.         -0.18749133 -1.31972304]\n",
            "[ 3.38073005 -1.15403555 -0.         -5.33357984 -3.03093897]\n",
            "[-0.5915882   0.86652443  0.          1.          2.        ]\n"
          ]
        }
      ],
      "source": [
        "x = np.arange(-2,3)\n",
        "y = np.random.randn(5)\n",
        "print(x)\n",
        "print(y)\n",
        "\n",
        "print(np.add(x,y))           # element-wise addition       x + y\n",
        "print(np.subtract(x,y))      # element-wise subtraction    x - y\n",
        "print(np.multiply(x,y))      # element-wise multiplication x * y\n",
        "print(np.divide(x,y))        # element-wise division       x / y\n",
        "print(np.maximum(x,y))       # element-wise maximum        max(x,y)"
      ]
    },
    {
      "cell_type": "code",
      "execution_count": null,
      "metadata": {
        "id": "Rf0deoUsmK5Q",
        "outputId": "befa574d-90f1-4055-a626-ca1453783f3e"
      },
      "outputs": [
        {
          "name": "stdout",
          "output_type": "stream",
          "text": [
            "[-3.2 -1.4  0.4  2.5  3.4]\n",
            "Min = -3.2\n",
            "Max = 3.4\n",
            "Average = 0.34000000000000014\n",
            "Std deviation = 2.432776191925595\n",
            "Sum = 1.7000000000000006\n"
          ]
        }
      ],
      "source": [
        "y = np.array([-3.2, -1.4, 0.4, 2.5, 3.4])    # generate a random vector\n",
        "print(y)\n",
        "\n",
        "print(\"Min =\", np.min(y))             # min\n",
        "print(\"Max =\", np.max(y))             # max\n",
        "print(\"Average =\", np.mean(y))        # mean/average\n",
        "print(\"Std deviation =\", np.std(y))   # standard deviation\n",
        "print(\"Sum =\", np.sum(y))             # sum"
      ]
    },
    {
      "cell_type": "markdown",
      "metadata": {
        "id": "gLMs_KgCmK5Q"
      },
      "source": [
        "### More on filtering"
      ]
    },
    {
      "cell_type": "code",
      "execution_count": null,
      "metadata": {
        "id": "estoNTg6mK5Q",
        "outputId": "8e3d9571-9cd4-411a-9950-f686a0bfacc8"
      },
      "outputs": [
        {
          "name": "stdout",
          "output_type": "stream",
          "text": [
            "[[ 0  1  2  3  4]\n",
            " [ 5  6  7  8  9]\n",
            " [10 11 12 13 14]\n",
            " [15 16 17 18 19]\n",
            " [20 21 22 23 24]]\n",
            "[ 1  3  5  7  9 11 13 15 17 19 21 23]\n",
            "[[4 0]\n",
            " [4 1]\n",
            " [4 2]\n",
            " [4 3]\n",
            " [4 4]]\n",
            "[[ 0  1  0  3  0]\n",
            " [ 5  0  7  0  9]\n",
            " [ 0 11  0 13  0]\n",
            " [15  0 17  0 19]\n",
            " [ 0 21  0 23  0]]\n"
          ]
        }
      ],
      "source": [
        "M = np.arange(25).reshape(5,5)\n",
        "print(M)\n",
        "print(M[M%2==1])                        # filtering in general\n",
        "print(np.argwhere(M >= 20))             # indexes satisfying condition\n",
        "print(np.where(M % 2 == 1, M, 0))       # M, 0 is broadcast"
      ]
    },
    {
      "cell_type": "markdown",
      "metadata": {
        "id": "wJFP7DDTmK5Q"
      },
      "source": [
        "### New axis\n",
        "\n",
        "- Used to increase the dimension of the existing array by one more dimension\n",
        "- shape change, for example: n x (newaxis) x m $\\Rightarrow$ n x 1 x m"
      ]
    },
    {
      "cell_type": "code",
      "execution_count": null,
      "metadata": {
        "id": "-wbVmq1ymK5R",
        "outputId": "8b41c40d-9ef1-477f-b03e-8d98fd29d954"
      },
      "outputs": [
        {
          "name": "stdout",
          "output_type": "stream",
          "text": [
            "(3,)\n",
            "(3, 1)\n",
            "(1, 3)\n"
          ]
        }
      ],
      "source": [
        "t = np.array([1,2,3])\n",
        "print(t.shape)\n",
        "x = t[:, np.newaxis]\n",
        "print(x.shape)\n",
        "y = t[np.newaxis, :]\n",
        "print(y.shape)"
      ]
    },
    {
      "cell_type": "code",
      "execution_count": null,
      "metadata": {
        "id": "9RXPhbAemK5R",
        "outputId": "5b701ec1-a5bf-4c1a-9cc3-f3e5827fa53c"
      },
      "outputs": [
        {
          "name": "stdout",
          "output_type": "stream",
          "text": [
            "[1 2 3]\n",
            "[[1]\n",
            " [2]\n",
            " [3]]\n",
            "[[1 2 3]]\n"
          ]
        }
      ],
      "source": [
        "print(t)\n",
        "print(x)\n",
        "print(y)"
      ]
    },
    {
      "cell_type": "markdown",
      "metadata": {
        "id": "YNkMfW0VmK5R"
      },
      "source": [
        "**x and y are broadcasted** (it is explained below)"
      ]
    },
    {
      "cell_type": "code",
      "execution_count": null,
      "metadata": {
        "id": "YS2py531mK5R",
        "outputId": "ee332d93-0b35-4fda-c6a3-005d85252c1a"
      },
      "outputs": [
        {
          "data": {
            "text/plain": [
              "array([[2, 3, 4],\n",
              "       [3, 4, 5],\n",
              "       [4, 5, 6]])"
            ]
          },
          "execution_count": 28,
          "metadata": {},
          "output_type": "execute_result"
        }
      ],
      "source": [
        "x + y"
      ]
    },
    {
      "cell_type": "code",
      "execution_count": null,
      "metadata": {
        "id": "PB-btjPlmK5R",
        "outputId": "19f44e24-ca4d-4fa5-dfe0-5d559b4599bc"
      },
      "outputs": [
        {
          "name": "stdout",
          "output_type": "stream",
          "text": [
            "(2, 3, 1)\n",
            "[[[1]\n",
            "  [2]\n",
            "  [3]]\n",
            "\n",
            " [[4]\n",
            "  [5]\n",
            "  [6]]]\n",
            "\n",
            "(1, 2, 3)\n",
            "[[[1 2 3]\n",
            "  [4 5 6]]]\n",
            "\n",
            "[[[1 2 3]]\n",
            "\n",
            " [[4 5 6]]]\n"
          ]
        }
      ],
      "source": [
        "t = np.array([[1,2,3],[4,5,6]])\n",
        "print(t[:, :, np.newaxis].shape)\n",
        "print(t[:, :, np.newaxis])\n",
        "print()\n",
        "\n",
        "print(t[np.newaxis, :, :].shape)\n",
        "print(t[np.newaxis, :, :])\n",
        "\n",
        "print()\n",
        "print(t[:, np.newaxis, :])"
      ]
    },
    {
      "cell_type": "markdown",
      "metadata": {
        "id": "qRX_XQO9mK5R"
      },
      "source": [
        "### n-d array axis view\n",
        "<!--img src=\"http://mathsfirst.massey.ac.nz/Algebra/CoordSystems/images/greg7_1.gif\"-->\n",
        "<img src=\"https://www.oreilly.com/library/view/elegant-scipy/9781491922927/assets/elsp_0105.png\" width=700>"
      ]
    },
    {
      "cell_type": "markdown",
      "metadata": {
        "id": "X0mn9wDHmK5S"
      },
      "source": [
        "## Broadcasting\n",
        "\n",
        "Broadcasting describes how numpy treats arrays with different shapes during arithmetic operations. Subject to certain constraints, the smaller array is “broadcast” across the larger array so that they have compatible shapes.\n",
        "\n",
        "Examples:\n",
        "```\n",
        "A      (2d array):  5 x 4\n",
        "B      (1d array):      1\n",
        "Result (2d array):  5 x 4\n",
        "\n",
        "A      (2d array):  5 x 4\n",
        "B      (1d array):      4\n",
        "Result (2d array):  5 x 4\n",
        "\n",
        "A      (3d array):  15 x 3 x 5\n",
        "B      (3d array):  15 x 1 x 5\n",
        "Result (3d array):  15 x 3 x 5\n",
        "\n",
        "A      (3d array):  15 x 3 x 5\n",
        "B      (2d array):       3 x 5\n",
        "Result (3d array):  15 x 3 x 5\n",
        "\n",
        "A      (3d array):  15 x 3 x 5\n",
        "B      (2d array):       3 x 1\n",
        "Result (3d array):  15 x 3 x 5\n",
        "```"
      ]
    },
    {
      "cell_type": "code",
      "execution_count": null,
      "metadata": {
        "id": "SfgkrG-0mK5S",
        "outputId": "6d652f42-372a-43dd-9ba9-92c734498358"
      },
      "outputs": [
        {
          "data": {
            "text/plain": [
              "array([[11, 12],\n",
              "       [13, 14]])"
            ]
          },
          "execution_count": 30,
          "metadata": {},
          "output_type": "execute_result"
        }
      ],
      "source": [
        "np.array([[1,2],[3,4]]) + np.array([[10]])"
      ]
    },
    {
      "cell_type": "code",
      "execution_count": null,
      "metadata": {
        "id": "2w-GAcH4mK5S",
        "outputId": "7459c3cb-64f8-47d1-c2cc-9c0f48098b69"
      },
      "outputs": [
        {
          "data": {
            "text/plain": [
              "array([[ 11, 102],\n",
              "       [ 13, 104]])"
            ]
          },
          "execution_count": 31,
          "metadata": {},
          "output_type": "execute_result"
        }
      ],
      "source": [
        "np.array([[1,2],[3,4]]) + np.array([[10,100]])"
      ]
    },
    {
      "cell_type": "code",
      "execution_count": null,
      "metadata": {
        "id": "aUi_Or9mmK5S",
        "outputId": "5247a811-bba8-4a85-f50c-ffd2e2e30b38"
      },
      "outputs": [
        {
          "name": "stdout",
          "output_type": "stream",
          "text": [
            "(1, 2) (2, 1)\n"
          ]
        },
        {
          "data": {
            "text/plain": [
              "array([[ 11,  12],\n",
              "       [101, 102]])"
            ]
          },
          "execution_count": 32,
          "metadata": {},
          "output_type": "execute_result"
        }
      ],
      "source": [
        "A = np.array([[1,2]])\n",
        "B = np.array([[10],[100]])\n",
        "print(A.shape, B.shape)\n",
        "C = A + B\n",
        "C"
      ]
    },
    {
      "cell_type": "code",
      "execution_count": null,
      "metadata": {
        "scrolled": true,
        "id": "BBEf1bEDmK5T",
        "outputId": "9de26c16-a6db-4c38-80dc-ed5cab38d38e"
      },
      "outputs": [
        {
          "data": {
            "text/plain": [
              "array([[1, 1, 1, 1, 1, 1, 1, 1, 1, 1],\n",
              "       [1, 1, 1, 1, 1, 1, 1, 1, 1, 1],\n",
              "       [1, 1, 1, 1, 1, 1, 1, 1, 1, 1]])"
            ]
          },
          "execution_count": 33,
          "metadata": {},
          "output_type": "execute_result"
        }
      ],
      "source": [
        "X = np.array([[1]]*3) + np.array([[0]*10])\n",
        "X"
      ]
    },
    {
      "cell_type": "code",
      "execution_count": null,
      "metadata": {
        "id": "9V9xA78HmK5T",
        "outputId": "f6066ba9-9753-4ad6-ffdf-a3325223ab3d"
      },
      "outputs": [
        {
          "data": {
            "text/plain": [
              "array([[2, 3, 4],\n",
              "       [3, 4, 5],\n",
              "       [4, 5, 6]])"
            ]
          },
          "execution_count": 34,
          "metadata": {},
          "output_type": "execute_result"
        }
      ],
      "source": [
        "a = np.array([[1],[2],[3]])\n",
        "b = a.T\n",
        "a + b"
      ]
    },
    {
      "cell_type": "markdown",
      "metadata": {
        "id": "CCfVbk0wmK5T"
      },
      "source": [
        "### Meshgrid\n",
        "\n",
        "Make D x N mesh grid for vectorized evaluations"
      ]
    },
    {
      "cell_type": "code",
      "execution_count": null,
      "metadata": {
        "id": "H3mxmPxDmK5T",
        "outputId": "70ba8c90-f742-4b9b-ee4c-cfa950958634"
      },
      "outputs": [
        {
          "data": {
            "text/plain": [
              "array([[15, 25, 35],\n",
              "       [16, 26, 36]])"
            ]
          },
          "execution_count": 35,
          "metadata": {},
          "output_type": "execute_result"
        }
      ],
      "source": [
        "v = np.array([10,20,30])   # N\n",
        "w = np.array([5,6])        # D\n",
        "X, Y = np.meshgrid(v, w)\n",
        "X + Y"
      ]
    },
    {
      "cell_type": "markdown",
      "metadata": {
        "id": "imOzQu47mK5T"
      },
      "source": [
        "### Axis ordering\n",
        "\n",
        "- By definition, the axis number of the dimension is the index of that dimension within the array's shape. It is also the position used to access that dimension during indexing.\n",
        "\n",
        "- For example, if a 2D array a has shape (5,6), then you can access a[0,0] up to a[4,5]. Axis 0 is thus the first dimension (the \"rows\"), and axis 1 is the second dimension (the \"columns\"). In higher dimensions, where \"row\" and \"column\" stop really making sense, try to think of the axes in terms of the shapes and indices involved.\n",
        "\n",
        "- If you do np.sum(axis=n), for example, then dimension n is collapsed and deleted, with each value in the new matrix equal to the sum of the corresponding collapsed values. For example, if b has shape (5,6,7,8), and you do c = b.sum(axis=2), then axis 2 (dimension with size 7) is collapsed, and the result has shape (5,6,8). Furthermore, c[x,y,z] is equal to the sum of all elements b[x,y,:,z]."
      ]
    },
    {
      "cell_type": "code",
      "execution_count": null,
      "metadata": {
        "id": "1CBAGKmNmK5T",
        "outputId": "cbcec313-fd7a-4cd4-b375-27b1700cbed3"
      },
      "outputs": [
        {
          "data": {
            "text/plain": [
              "(2, 3)"
            ]
          },
          "execution_count": 36,
          "metadata": {},
          "output_type": "execute_result"
        }
      ],
      "source": [
        "X = np.array([[0,0,0], [1,1,1]])\n",
        "X.shape\n",
        "\n",
        "# axis 0 is row; axis 1 is column"
      ]
    },
    {
      "cell_type": "code",
      "execution_count": null,
      "metadata": {
        "id": "A3EbQjcKmK5U",
        "outputId": "175eaf71-cbbf-4052-ebe3-dd16a3a32da2"
      },
      "outputs": [
        {
          "data": {
            "text/plain": [
              "array([1, 1, 1])"
            ]
          },
          "execution_count": 37,
          "metadata": {},
          "output_type": "execute_result"
        }
      ],
      "source": [
        "X.sum(axis=0)   # dimension 0 is collapsed and deleted; or aggregated over dimension 0"
      ]
    },
    {
      "cell_type": "code",
      "execution_count": null,
      "metadata": {
        "id": "PIUqYuhTmK5U",
        "outputId": "a4a70e2e-4c57-4276-a0ad-691089bb40b6"
      },
      "outputs": [
        {
          "data": {
            "text/plain": [
              "array([0, 3])"
            ]
          },
          "execution_count": 38,
          "metadata": {},
          "output_type": "execute_result"
        }
      ],
      "source": [
        "X.sum(axis=1)   # dimension 1 is collapsed and deleted; or aggregated over dimension 0"
      ]
    },
    {
      "cell_type": "code",
      "execution_count": null,
      "metadata": {
        "id": "XgRZRvY9mK5U"
      },
      "outputs": [],
      "source": [
        "X = np.array(range(1,24+1)).reshape(2,3,4)"
      ]
    },
    {
      "cell_type": "code",
      "execution_count": null,
      "metadata": {
        "id": "ebI9tL4rmK5U",
        "outputId": "457d8dab-2461-4edb-8d67-a4643f3dc0f5"
      },
      "outputs": [
        {
          "data": {
            "text/plain": [
              "(2, 3, 4)"
            ]
          },
          "execution_count": 40,
          "metadata": {},
          "output_type": "execute_result"
        }
      ],
      "source": [
        "X.shape"
      ]
    },
    {
      "cell_type": "code",
      "execution_count": null,
      "metadata": {
        "id": "dg2OaaZJmK5U",
        "outputId": "a3f2f783-c39e-4216-fd14-f19d12780a1a"
      },
      "outputs": [
        {
          "data": {
            "text/plain": [
              "array([[14, 16, 18, 20],\n",
              "       [22, 24, 26, 28],\n",
              "       [30, 32, 34, 36]])"
            ]
          },
          "execution_count": 41,
          "metadata": {},
          "output_type": "execute_result"
        }
      ],
      "source": [
        "X.sum(axis=0)"
      ]
    },
    {
      "cell_type": "code",
      "execution_count": null,
      "metadata": {
        "id": "jheP6tKimK5V",
        "outputId": "fafe399f-8599-4854-fa56-26208d2a914c"
      },
      "outputs": [
        {
          "data": {
            "text/plain": [
              "array([[15, 18, 21, 24],\n",
              "       [51, 54, 57, 60]])"
            ]
          },
          "execution_count": 42,
          "metadata": {},
          "output_type": "execute_result"
        }
      ],
      "source": [
        "X.sum(axis=1)"
      ]
    },
    {
      "cell_type": "code",
      "execution_count": null,
      "metadata": {
        "id": "9JdC7DjCmK5V",
        "outputId": "71f3f281-06e2-4a55-b0b2-6b737d0a4b8d"
      },
      "outputs": [
        {
          "data": {
            "text/plain": [
              "array([[10, 26, 42],\n",
              "       [58, 74, 90]])"
            ]
          },
          "execution_count": 43,
          "metadata": {},
          "output_type": "execute_result"
        }
      ],
      "source": [
        "X.sum(axis=2)"
      ]
    },
    {
      "cell_type": "code",
      "execution_count": null,
      "metadata": {
        "id": "vesEhcgZmK5V",
        "outputId": "d1077b96-2a60-495f-f2b6-1ab02a2da5db"
      },
      "outputs": [
        {
          "data": {
            "text/plain": [
              "array([ 78, 222])"
            ]
          },
          "execution_count": 44,
          "metadata": {},
          "output_type": "execute_result"
        }
      ],
      "source": [
        "X.sum(axis=(1,2))"
      ]
    },
    {
      "cell_type": "code",
      "execution_count": null,
      "metadata": {
        "id": "hKp2rJ5PmK5V",
        "outputId": "4d2a4238-5978-4d75-a41e-bcb599def1cc"
      },
      "outputs": [
        {
          "data": {
            "text/plain": [
              "300"
            ]
          },
          "execution_count": 45,
          "metadata": {},
          "output_type": "execute_result"
        }
      ],
      "source": [
        "X.sum(axis=(0,1,2))"
      ]
    },
    {
      "cell_type": "code",
      "execution_count": null,
      "metadata": {
        "id": "Jgb8N0PVmK5V",
        "outputId": "ca7d4eb8-2588-48f5-e6fe-f2cf966a0bb1"
      },
      "outputs": [
        {
          "data": {
            "text/plain": [
              "1.7320508075688772"
            ]
          },
          "execution_count": 46,
          "metadata": {},
          "output_type": "execute_result"
        }
      ],
      "source": [
        "# Compute the distance between 2 3-d points X, Y\n",
        "X = np.array([0,0,0])\n",
        "Y = np.array([1,1,1])\n",
        "\n",
        "np.sqrt(np.sum((X - Y)**2))"
      ]
    },
    {
      "cell_type": "code",
      "execution_count": null,
      "metadata": {
        "id": "xcAMlfIhmK5V",
        "outputId": "c6930411-96cc-47c9-8633-2e0c6eb67d3a"
      },
      "outputs": [
        {
          "name": "stdout",
          "output_type": "stream",
          "text": [
            "[[6 5 4]\n",
            " [3 2 1]]\n",
            "\n",
            "axis=0\n",
            " [[3 2 1]\n",
            " [6 5 4]]\n",
            "\n",
            "axis=-1\n",
            " [[4 5 6]\n",
            " [1 2 3]]\n",
            "\n",
            "default is -1\n",
            " [[4 5 6]\n",
            " [1 2 3]]\n",
            "\n",
            "axis=None\n",
            " [1 2 3 4 5 6]\n"
          ]
        }
      ],
      "source": [
        "import numpy as np\n",
        "X = np.array(np.arange(2*3, 0, -1).reshape(2,3))\n",
        "print(X)\n",
        "print()\n",
        "print(\"axis=0\\n\", np.sort(X, axis=0))\n",
        "print()\n",
        "print(\"axis=-1\\n\", np.sort(X, axis=-1))\n",
        "print()\n",
        "print(\"default is -1\\n\", np.sort(X))\n",
        "print()\n",
        "print(\"axis=None\\n\", np.sort(X, axis=None))"
      ]
    },
    {
      "cell_type": "markdown",
      "metadata": {
        "id": "VoP5QgQPmK5W"
      },
      "source": [
        "#### sort vs argsort vs partition vs argpartition\n",
        "\n",
        "- argmin, argmax, ..."
      ]
    },
    {
      "cell_type": "code",
      "execution_count": null,
      "metadata": {
        "id": "N3QlnwOYmK5W",
        "outputId": "47bdeafa-2210-4fa7-b8eb-6395f922ea99"
      },
      "outputs": [
        {
          "name": "stdout",
          "output_type": "stream",
          "text": [
            "X =\n",
            " [  4  10   1  20  45 100   2   1]\n",
            "sorted =\n",
            " [  1   1   2   4  10  20  45 100]\n",
            "argsorted =\n",
            " [2 7 6 0 1 3 4 5]\n",
            "partitioned first 3 =\n",
            " [  2   1   1   4  45 100  10  20]\n",
            "argpartitioned first 3 =\n",
            " [6 7 2 0 4 5 1 3]\n",
            "partitioned last 3=\n",
            " [  2   1   1   4  10  20  45 100]\n",
            "argpartitioned last 3=\n",
            " [6 7 2 0 1 3 4 5]\n"
          ]
        }
      ],
      "source": [
        "X = np.array([4,10,1,20,45,100,2,1])\n",
        "print('X =\\n', X)\n",
        "print('sorted =\\n', np.sort(X))\n",
        "print('argsorted =\\n', np.argsort(X))\n",
        "print('partitioned first 3 =\\n', np.partition(X, 3))\n",
        "print('argpartitioned first 3 =\\n', np.argpartition(X, 3))\n",
        "print('partitioned last 3=\\n', np.partition(X, -3))\n",
        "print('argpartitioned last 3=\\n', np.argpartition(X, -3))"
      ]
    },
    {
      "cell_type": "markdown",
      "metadata": {
        "id": "yJZghGn-mK5W"
      },
      "source": [
        "#### LAB\n",
        "sort 2-d array T along axis 0, sort key is the sum of elements along axis 1"
      ]
    },
    {
      "cell_type": "code",
      "execution_count": null,
      "metadata": {
        "id": "-623VDSxmK5W",
        "outputId": "02784b4f-743d-429f-90d6-81a534efaba0"
      },
      "outputs": [
        {
          "data": {
            "text/plain": [
              "array([[ 0,  1],\n",
              "       [ 2,  2],\n",
              "       [-1, 10]])"
            ]
          },
          "execution_count": 49,
          "metadata": {},
          "output_type": "execute_result"
        }
      ],
      "source": [
        "T = np.array([[2,2],[-1,10],[0,1]])\n",
        "I = np.argsort(np.sum(T, axis=1))\n",
        "T[I,:]"
      ]
    },
    {
      "cell_type": "markdown",
      "metadata": {
        "id": "1Gropbo4mK5W"
      },
      "source": [
        "## Vectorized function\n",
        "- similar to map function\n"
      ]
    },
    {
      "cell_type": "code",
      "execution_count": null,
      "metadata": {
        "id": "E1Jj4OSmmK5W",
        "outputId": "907b1be6-929d-45ec-bafd-b0d69e4af9c6"
      },
      "outputs": [
        {
          "data": {
            "text/plain": [
              "-100"
            ]
          },
          "execution_count": 8,
          "metadata": {},
          "output_type": "execute_result"
        }
      ],
      "source": [
        "import math\n",
        "\n",
        "max(1,2,3,4,5,-100, key=lambda x: math.fabs(x))"
      ]
    },
    {
      "cell_type": "code",
      "execution_count": null,
      "metadata": {
        "id": "Nw8_r6GwmK5W"
      },
      "outputs": [],
      "source": [
        "from functools import partial\n",
        "\n",
        "mymax = partial(max, key=lambda x: math.fabs(x))"
      ]
    },
    {
      "cell_type": "code",
      "execution_count": null,
      "metadata": {
        "id": "VcrCkPCfmK5X",
        "outputId": "f823e496-8898-4aa7-a9b6-71e0f0bea361"
      },
      "outputs": [
        {
          "data": {
            "text/plain": [
              "[10, 5, 6]"
            ]
          },
          "execution_count": 11,
          "metadata": {},
          "output_type": "execute_result"
        }
      ],
      "source": [
        "list(map(max, [10,2,3], [4,5,6]))"
      ]
    },
    {
      "cell_type": "code",
      "execution_count": null,
      "metadata": {
        "id": "KI3ulj9cmK5X",
        "outputId": "4d754590-d669-4993-a7b8-f9b8c07b8bdd"
      },
      "outputs": [
        {
          "data": {
            "text/plain": [
              "[-10, 5, -6]"
            ]
          },
          "execution_count": 14,
          "metadata": {},
          "output_type": "execute_result"
        }
      ],
      "source": [
        "list(map(mymax, [-10,2,3], [4,5,-6]))"
      ]
    },
    {
      "cell_type": "code",
      "execution_count": null,
      "metadata": {
        "id": "fXPGGj_6mK5X",
        "outputId": "6321d9a5-109a-44b1-d074-2f4bb233ab0e"
      },
      "outputs": [
        {
          "data": {
            "text/plain": [
              "array([100,   3,   3,   4])"
            ]
          },
          "execution_count": 50,
          "metadata": {},
          "output_type": "execute_result"
        }
      ],
      "source": [
        "u = np.array([100,2,3,4])\n",
        "v = np.array([1,2,3,4])\n",
        "w = np.array([4,3,2,1])\n",
        "np.vectorize(max)(u, v, w)"
      ]
    },
    {
      "cell_type": "code",
      "execution_count": null,
      "metadata": {
        "id": "XuNck9btmK5X",
        "outputId": "5e492e35-12c2-4a4b-9a77-16925bb09dff"
      },
      "outputs": [
        {
          "data": {
            "text/plain": [
              "array([4.12310563, 3.60555128, 3.60555128, 4.12310563])"
            ]
          },
          "execution_count": 51,
          "metadata": {},
          "output_type": "execute_result"
        }
      ],
      "source": [
        "dist = np.vectorize(lambda x, y: np.sqrt(x**2 + y**2))\n",
        "dist(v, w)"
      ]
    },
    {
      "cell_type": "code",
      "execution_count": null,
      "metadata": {
        "id": "gDA-yQx4mK5X"
      },
      "outputs": [],
      "source": [
        "# write a vectorized function calculating the Euclidean distances from 0 of 3-d points\n"
      ]
    },
    {
      "cell_type": "markdown",
      "metadata": {
        "id": "w4LH7n2tmK5X"
      },
      "source": [
        "## Numpy linear algebra\n",
        "\n",
        "Numpy provides many functions to support linear algebra operations."
      ]
    },
    {
      "cell_type": "code",
      "execution_count": null,
      "metadata": {
        "id": "na-Kwo4QmK5Y"
      },
      "outputs": [],
      "source": [
        "import numpy as np"
      ]
    },
    {
      "cell_type": "code",
      "execution_count": null,
      "metadata": {
        "id": "9RRFnBN7mK5Y",
        "outputId": "b7219421-7b07-4ba9-fb1d-e5499835ee7a"
      },
      "outputs": [
        {
          "name": "stdout",
          "output_type": "stream",
          "text": [
            "[[-0.67521745 -0.25112232 -0.53902013]\n",
            " [-0.31444559  0.26792464 -0.91960302]]\n",
            "[[-0.67521745 -0.31444559]\n",
            " [-0.25112232  0.26792464]\n",
            " [-0.53902013 -0.91960302]]\n",
            "[-0.27857094  0.11301957 -0.0460988 ]\n",
            "[0.1845624  0.16026873]\n",
            "[0.1845624  0.16026873]\n",
            "[[0.80952372 0.64072183]\n",
            " [0.64072183 1.01632936]]\n",
            "[[ 0.55479463  0.08531445  0.65312091]\n",
            " [ 0.08531445  0.13484603 -0.11102433]\n",
            " [ 0.65312091 -0.11102433  1.13621241]]\n"
          ]
        }
      ],
      "source": [
        "X = np.random.randn(2,3)    # create a 2 x 3 random matrix\n",
        "print(X)\n",
        "print(X.T)             # matrix transpose operation X^T\n",
        "\n",
        "y = np.random.randn(3) # random vector\n",
        "print(y)\n",
        "print(X.dot(y))        # matrix-vector multiplication  X * y\n",
        "print(np.dot(X,y))\n",
        "print(X.dot(X.T))      # matrix-matrix multiplication  X * X^T\n",
        "print(X.T.dot(X))      # matrix-matrix multiplication  X^T * X"
      ]
    },
    {
      "cell_type": "code",
      "execution_count": null,
      "metadata": {
        "id": "I28nK_uYmK5Y",
        "outputId": "7fca1bae-0bbd-40e6-ae23-2e67ff46ceb3"
      },
      "outputs": [
        {
          "data": {
            "text/plain": [
              "0.09250029216474008"
            ]
          },
          "execution_count": 20,
          "metadata": {},
          "output_type": "execute_result"
        }
      ],
      "source": [
        "y.dot(y)"
      ]
    },
    {
      "cell_type": "code",
      "execution_count": null,
      "metadata": {
        "id": "jKa67laumK5Y",
        "outputId": "e833af2c-7ba9-421c-e75c-53ccea41107d"
      },
      "outputs": [
        {
          "name": "stdout",
          "output_type": "stream",
          "text": [
            "[[-0.90775374  0.32656282  0.90444691]\n",
            " [ 1.40745745 -1.22468534 -0.88857523]\n",
            " [-0.82120479  0.43541336 -0.04238659]\n",
            " [-1.11534927 -0.17738222 -0.40865646]\n",
            " [ 0.4123681   0.898053   -1.278201  ]]\n",
            "[[0.38888635 0.24298312 0.21976118]\n",
            " [0.24298312 0.53504544 0.10475245]\n",
            " [0.21976118 0.10475245 0.42019325]]\n",
            "22.882373750364096\n",
            "[7.02125181 1.19959342 2.71676736]\n",
            "[[ 0.79300197 -0.59119484  0.14709362]\n",
            " [-0.35955504 -0.64908597 -0.67037868]\n",
            " [-0.49180082 -0.47872336  0.72729354]]\n"
          ]
        }
      ],
      "source": [
        "X = np.random.randn(5,3)\n",
        "print(X)\n",
        "\n",
        "C = X.T.dot(X)               # C = X^T * X is a square matrix\n",
        "\n",
        "invC = np.linalg.inv(C)      # inverse of a square matrix\n",
        "print(invC)\n",
        "detC = np.linalg.det(C)      # determinant of a square matrix\n",
        "print(detC)\n",
        "S, U = np.linalg.eig(C)      # eigenvalue S and eigenvector U of a square matrix\n",
        "print(S)\n",
        "print(U)"
      ]
    },
    {
      "cell_type": "code",
      "execution_count": null,
      "metadata": {
        "id": "apkeIBSqmK5Y",
        "outputId": "692b2c4f-c326-43c9-cd22-38fb99694911"
      },
      "outputs": [
        {
          "data": {
            "text/plain": [
              "(array([2., 1.]),\n",
              " array([[1., 0.],\n",
              "        [0., 1.]]))"
            ]
          },
          "execution_count": 232,
          "metadata": {},
          "output_type": "execute_result"
        }
      ],
      "source": [
        "L = np.array([[2,0],[0,1]])\n",
        "S, U = np.linalg.eig(L)\n",
        "S, U"
      ]
    },
    {
      "cell_type": "code",
      "execution_count": null,
      "metadata": {
        "id": "ScOEV--mmK5Y"
      },
      "outputs": [],
      "source": [
        "v = np.array([1,1])"
      ]
    },
    {
      "cell_type": "code",
      "execution_count": null,
      "metadata": {
        "id": "5hjhl9MqmK5Y",
        "outputId": "800a6097-dbb2-4133-880d-a6e8bca2bfb8"
      },
      "outputs": [
        {
          "data": {
            "text/plain": [
              "array([1024,    1])"
            ]
          },
          "execution_count": 243,
          "metadata": {},
          "output_type": "execute_result"
        }
      ],
      "source": [
        "v = L.dot(v)\n",
        "v"
      ]
    },
    {
      "cell_type": "markdown",
      "metadata": {
        "id": "fFDohF61mK5Z"
      },
      "source": [
        "### The Frobenius norm\n",
        "\n",
        "https://docs.scipy.org/doc/numpy/reference/generated/numpy.linalg.norm.html"
      ]
    },
    {
      "cell_type": "code",
      "execution_count": null,
      "metadata": {
        "id": "MBnw1jJlmK5Z",
        "outputId": "1776e85d-3f5c-4370-ecdc-fdec4415f84d"
      },
      "outputs": [
        {
          "name": "stdout",
          "output_type": "stream",
          "text": [
            "2.23606797749979\n",
            "3.0\n",
            "2.0\n",
            "1.0\n"
          ]
        }
      ],
      "source": [
        "X = np.array([1,2])\n",
        "print(np.linalg.norm(X))          # 2-norm\n",
        "print(np.linalg.norm(X, ord=1))   # 1-norm\n",
        "print(np.linalg.norm(X, ord=np.inf))          # inf-norm\n",
        "print(np.linalg.norm(X, ord=-np.inf))          # -inf-norm"
      ]
    },
    {
      "cell_type": "code",
      "execution_count": null,
      "metadata": {
        "id": "_qF6cTYVmK5Z",
        "outputId": "b6b7cb1e-d57a-4975-f675-b1d35bc44ed7"
      },
      "outputs": [
        {
          "name": "stdout",
          "output_type": "stream",
          "text": [
            "cosine = 0.0\n",
            "cosine = 0.0\n"
          ]
        }
      ],
      "source": [
        "import math\n",
        "x = np.array([1,0])\n",
        "y = np.array([0,1])\n",
        "print(\"cosine =\", x.dot(y) / (math.sqrt((x.dot(x))) * math.sqrt((y.dot(y)))))\n",
        "print(\"cosine =\", x.dot(y) / (np.linalg.norm(x) * np.linalg.norm(y)))"
      ]
    },
    {
      "cell_type": "markdown",
      "metadata": {
        "id": "tqj1Z8h9mK5Z"
      },
      "source": [
        "### LAB: distance matrix"
      ]
    },
    {
      "cell_type": "markdown",
      "metadata": {
        "id": "tanzRkMImK5Z"
      },
      "source": [
        "**In case of 1-d points**"
      ]
    },
    {
      "cell_type": "code",
      "execution_count": null,
      "metadata": {
        "id": "9ciixj8cmK5Z",
        "outputId": "0de64560-c17a-411d-938d-0d9eb5e2b53e"
      },
      "outputs": [
        {
          "data": {
            "text/plain": [
              "array([[0., 1., 2., 3., 4.],\n",
              "       [1., 0., 1., 2., 3.],\n",
              "       [2., 1., 0., 1., 2.],\n",
              "       [3., 2., 1., 0., 1.],\n",
              "       [4., 3., 2., 1., 0.]])"
            ]
          },
          "execution_count": 138,
          "metadata": {},
          "output_type": "execute_result"
        }
      ],
      "source": [
        "pts = np.array([1.,2,3,4,5])\n",
        "u = pts[:, np.newaxis]\n",
        "v = pts.T[np.newaxis, :]\n",
        "np.abs(u - v)"
      ]
    },
    {
      "cell_type": "code",
      "execution_count": null,
      "metadata": {
        "id": "t7ILIRMRmK5a",
        "outputId": "b1aa0ed4-3648-4239-c6b8-e9b77d14bd2d"
      },
      "outputs": [
        {
          "data": {
            "text/plain": [
              "array([1., 2., 3., 4., 5.])"
            ]
          },
          "execution_count": 137,
          "metadata": {},
          "output_type": "execute_result"
        }
      ],
      "source": [
        "pts.T"
      ]
    },
    {
      "cell_type": "markdown",
      "metadata": {
        "id": "dS-vtsu-mK5a"
      },
      "source": [
        "**In case of n-d points**"
      ]
    },
    {
      "cell_type": "code",
      "execution_count": null,
      "metadata": {
        "id": "yE6BTnEhmK5a",
        "outputId": "a372f81a-82cd-40eb-e799-3da50c468a9d"
      },
      "outputs": [
        {
          "name": "stdout",
          "output_type": "stream",
          "text": [
            "(3, 2)\n"
          ]
        }
      ],
      "source": [
        "pts = np.array([[1,0], [1,1], [0,1]])   # 2-d points\n",
        "print(pts.shape)\n",
        "u = pts[:, :, np.newaxis]\n",
        "v = pts.T[np.newaxis, :, :]"
      ]
    },
    {
      "cell_type": "code",
      "execution_count": null,
      "metadata": {
        "id": "eaI1h1SUmK5a",
        "outputId": "37038873-903b-4d47-c831-9915324c9d5e"
      },
      "outputs": [
        {
          "name": "stdout",
          "output_type": "stream",
          "text": [
            "(3, 2)\n"
          ]
        }
      ],
      "source": [
        "pts = np.array([[0,0], [1,1], [0,0]])   # 2-d points\n",
        "print(pts.shape)\n",
        "u = pts[:, :, np.newaxis]\n",
        "v = pts.T[np.newaxis, :, :]"
      ]
    },
    {
      "cell_type": "code",
      "execution_count": null,
      "metadata": {
        "id": "LG-k9npFmK5a",
        "outputId": "bf8bc7dc-4c35-4fcd-b78b-9a834a1a5f46"
      },
      "outputs": [
        {
          "data": {
            "text/plain": [
              "1.4142135623730951"
            ]
          },
          "execution_count": 249,
          "metadata": {},
          "output_type": "execute_result"
        }
      ],
      "source": [
        "np.linalg.norm(pts)"
      ]
    },
    {
      "cell_type": "code",
      "execution_count": null,
      "metadata": {
        "id": "4xSc6yXCmK5a",
        "outputId": "902a6005-1024-497f-b978-0cbfabb6f858"
      },
      "outputs": [
        {
          "name": "stdout",
          "output_type": "stream",
          "text": [
            "(1, 2, 3)\n",
            "(3, 2, 1)\n"
          ]
        }
      ],
      "source": [
        "print(v.shape)\n",
        "print(u.shape)"
      ]
    },
    {
      "cell_type": "code",
      "execution_count": null,
      "metadata": {
        "id": "jXGmGawgmK5b",
        "outputId": "e2c7779f-c639-4bf2-9e51-3317376207b3"
      },
      "outputs": [
        {
          "data": {
            "text/plain": [
              "array([[0.        , 1.        , 1.41421356],\n",
              "       [1.        , 0.        , 1.        ],\n",
              "       [1.41421356, 1.        , 0.        ]])"
            ]
          },
          "execution_count": 142,
          "metadata": {},
          "output_type": "execute_result"
        }
      ],
      "source": [
        "np.sqrt(np.sum((u - v)**2, axis=1))"
      ]
    },
    {
      "cell_type": "code",
      "execution_count": null,
      "metadata": {
        "scrolled": true,
        "id": "lFTab0pGmK5b",
        "outputId": "fb8ccb40-332e-4f50-97b3-9e903a08e1fe"
      },
      "outputs": [
        {
          "data": {
            "text/plain": [
              "array([[0.        , 1.        , 1.41421356],\n",
              "       [1.        , 0.        , 1.        ],\n",
              "       [1.41421356, 1.        , 0.        ]])"
            ]
          },
          "execution_count": 150,
          "metadata": {},
          "output_type": "execute_result"
        }
      ],
      "source": [
        "np.linalg.norm(u - v, axis=1)"
      ]
    },
    {
      "cell_type": "code",
      "execution_count": null,
      "metadata": {
        "id": "Ts2H9ScGmK5b",
        "outputId": "4e85eadd-27a5-4875-e8ca-1e447190e659"
      },
      "outputs": [
        {
          "name": "stdout",
          "output_type": "stream",
          "text": [
            "Help on function norm in module numpy.linalg:\n",
            "\n",
            "norm(x, ord=None, axis=None, keepdims=False)\n",
            "    Matrix or vector norm.\n",
            "    \n",
            "    This function is able to return one of eight different matrix norms,\n",
            "    or one of an infinite number of vector norms (described below), depending\n",
            "    on the value of the ``ord`` parameter.\n",
            "    \n",
            "    Parameters\n",
            "    ----------\n",
            "    x : array_like\n",
            "        Input array.  If `axis` is None, `x` must be 1-D or 2-D, unless `ord`\n",
            "        is None. If both `axis` and `ord` are None, the 2-norm of\n",
            "        ``x.ravel`` will be returned.\n",
            "    ord : {non-zero int, inf, -inf, 'fro', 'nuc'}, optional\n",
            "        Order of the norm (see table under ``Notes``). inf means numpy's\n",
            "        `inf` object. The default is None.\n",
            "    axis : {None, int, 2-tuple of ints}, optional.\n",
            "        If `axis` is an integer, it specifies the axis of `x` along which to\n",
            "        compute the vector norms.  If `axis` is a 2-tuple, it specifies the\n",
            "        axes that hold 2-D matrices, and the matrix norms of these matrices\n",
            "        are computed.  If `axis` is None then either a vector norm (when `x`\n",
            "        is 1-D) or a matrix norm (when `x` is 2-D) is returned. The default\n",
            "        is None.\n",
            "    \n",
            "        .. versionadded:: 1.8.0\n",
            "    \n",
            "    keepdims : bool, optional\n",
            "        If this is set to True, the axes which are normed over are left in the\n",
            "        result as dimensions with size one.  With this option the result will\n",
            "        broadcast correctly against the original `x`.\n",
            "    \n",
            "        .. versionadded:: 1.10.0\n",
            "    \n",
            "    Returns\n",
            "    -------\n",
            "    n : float or ndarray\n",
            "        Norm of the matrix or vector(s).\n",
            "    \n",
            "    Notes\n",
            "    -----\n",
            "    For values of ``ord <= 0``, the result is, strictly speaking, not a\n",
            "    mathematical 'norm', but it may still be useful for various numerical\n",
            "    purposes.\n",
            "    \n",
            "    The following norms can be calculated:\n",
            "    \n",
            "    =====  ============================  ==========================\n",
            "    ord    norm for matrices             norm for vectors\n",
            "    =====  ============================  ==========================\n",
            "    None   Frobenius norm                2-norm\n",
            "    'fro'  Frobenius norm                --\n",
            "    'nuc'  nuclear norm                  --\n",
            "    inf    max(sum(abs(x), axis=1))      max(abs(x))\n",
            "    -inf   min(sum(abs(x), axis=1))      min(abs(x))\n",
            "    0      --                            sum(x != 0)\n",
            "    1      max(sum(abs(x), axis=0))      as below\n",
            "    -1     min(sum(abs(x), axis=0))      as below\n",
            "    2      2-norm (largest sing. value)  as below\n",
            "    -2     smallest singular value       as below\n",
            "    other  --                            sum(abs(x)**ord)**(1./ord)\n",
            "    =====  ============================  ==========================\n",
            "    \n",
            "    The Frobenius norm is given by [1]_:\n",
            "    \n",
            "        :math:`||A||_F = [\\sum_{i,j} abs(a_{i,j})^2]^{1/2}`\n",
            "    \n",
            "    The nuclear norm is the sum of the singular values.\n",
            "    \n",
            "    References\n",
            "    ----------\n",
            "    .. [1] G. H. Golub and C. F. Van Loan, *Matrix Computations*,\n",
            "           Baltimore, MD, Johns Hopkins University Press, 1985, pg. 15\n",
            "    \n",
            "    Examples\n",
            "    --------\n",
            "    >>> from numpy import linalg as LA\n",
            "    >>> a = np.arange(9) - 4\n",
            "    >>> a\n",
            "    array([-4, -3, -2, ...,  2,  3,  4])\n",
            "    >>> b = a.reshape((3, 3))\n",
            "    >>> b\n",
            "    array([[-4, -3, -2],\n",
            "           [-1,  0,  1],\n",
            "           [ 2,  3,  4]])\n",
            "    \n",
            "    >>> LA.norm(a)\n",
            "    7.745966692414834\n",
            "    >>> LA.norm(b)\n",
            "    7.745966692414834\n",
            "    >>> LA.norm(b, 'fro')\n",
            "    7.745966692414834\n",
            "    >>> LA.norm(a, np.inf)\n",
            "    4.0\n",
            "    >>> LA.norm(b, np.inf)\n",
            "    9.0\n",
            "    >>> LA.norm(a, -np.inf)\n",
            "    0.0\n",
            "    >>> LA.norm(b, -np.inf)\n",
            "    2.0\n",
            "    \n",
            "    >>> LA.norm(a, 1)\n",
            "    20.0\n",
            "    >>> LA.norm(b, 1)\n",
            "    7.0\n",
            "    >>> LA.norm(a, -1)\n",
            "    -4.6566128774142013e-010\n",
            "    >>> LA.norm(b, -1)\n",
            "    6.0\n",
            "    >>> LA.norm(a, 2)\n",
            "    7.745966692414834\n",
            "    >>> LA.norm(b, 2)\n",
            "    7.3484692283495345\n",
            "    \n",
            "    >>> LA.norm(a, -2)\n",
            "    0.0\n",
            "    >>> LA.norm(b, -2)\n",
            "    1.8570331885190563e-016 # may vary\n",
            "    >>> LA.norm(a, 3)\n",
            "    5.8480354764257312 # may vary\n",
            "    >>> LA.norm(a, -3)\n",
            "    0.0\n",
            "    \n",
            "    Using the `axis` argument to compute vector norms:\n",
            "    \n",
            "    >>> c = np.array([[ 1, 2, 3],\n",
            "    ...               [-1, 1, 4]])\n",
            "    >>> LA.norm(c, axis=0)\n",
            "    array([ 1.41421356,  2.23606798,  5.        ])\n",
            "    >>> LA.norm(c, axis=1)\n",
            "    array([ 3.74165739,  4.24264069])\n",
            "    >>> LA.norm(c, ord=1, axis=1)\n",
            "    array([ 6.,  6.])\n",
            "    \n",
            "    Using the `axis` argument to compute matrix norms:\n",
            "    \n",
            "    >>> m = np.arange(8).reshape(2,2,2)\n",
            "    >>> LA.norm(m, axis=(1,2))\n",
            "    array([  3.74165739,  11.22497216])\n",
            "    >>> LA.norm(m[0, :, :]), LA.norm(m[1, :, :])\n",
            "    (3.7416573867739413, 11.224972160321824)\n",
            "\n"
          ]
        }
      ],
      "source": [
        "help(np.linalg.norm)"
      ]
    },
    {
      "cell_type": "markdown",
      "metadata": {
        "id": "2DIxubX4mK5b"
      },
      "source": [
        "- In your real application, use **sklearn.metrics.pairwise** to compute pairwise distances"
      ]
    },
    {
      "cell_type": "code",
      "execution_count": null,
      "metadata": {
        "scrolled": true,
        "id": "8GZykJzRmK5b",
        "outputId": "5f77b8d4-a262-49ba-9eee-074a1739593e"
      },
      "outputs": [
        {
          "name": "stdout",
          "output_type": "stream",
          "text": [
            "[[0.         1.         1.41421356]\n",
            " [1.         0.         1.        ]\n",
            " [1.41421356 1.         0.        ]]\n",
            "[[0. 1. 2.]\n",
            " [1. 0. 1.]\n",
            " [2. 1. 0.]]\n",
            "[[1.         0.70710678 0.        ]\n",
            " [0.70710678 1.         0.70710678]\n",
            " [0.         0.70710678 1.        ]]\n"
          ]
        }
      ],
      "source": [
        "from sklearn.metrics.pairwise import euclidean_distances, manhattan_distances, cosine_similarity\n",
        "\n",
        "print(euclidean_distances(pts))\n",
        "print(manhattan_distances(pts))\n",
        "print(cosine_similarity(pts))"
      ]
    },
    {
      "cell_type": "markdown",
      "metadata": {
        "id": "AKAS6GopmK5b"
      },
      "source": [
        "- If you define your own distance"
      ]
    },
    {
      "cell_type": "code",
      "execution_count": null,
      "metadata": {
        "scrolled": true,
        "id": "mAVYQukgmK5c",
        "outputId": "621d0bdb-b9cb-4445-eae5-c43884cf8fab"
      },
      "outputs": [
        {
          "name": "stdout",
          "output_type": "stream",
          "text": [
            "[[0. 1. 1.]\n",
            " [1. 0. 1.]\n",
            " [1. 1. 0.]]\n"
          ]
        }
      ],
      "source": [
        "from sklearn.metrics.pairwise import pairwise_distances\n",
        "\n",
        "inf_dist = lambda x, y : np.max(np.abs(x - y))\n",
        "print(pairwise_distances(pts, metric=inf_dist))"
      ]
    }
  ],
  "metadata": {
    "celltoolbar": "Slideshow",
    "hide_input": false,
    "kernelspec": {
      "display_name": "Python 3",
      "language": "python",
      "name": "python3"
    },
    "language_info": {
      "codemirror_mode": {
        "name": "ipython",
        "version": 3
      },
      "file_extension": ".py",
      "mimetype": "text/x-python",
      "name": "python",
      "nbconvert_exporter": "python",
      "pygments_lexer": "ipython3",
      "version": "3.8.8"
    },
    "toc": {
      "base_numbering": 1,
      "nav_menu": {},
      "number_sections": false,
      "sideBar": true,
      "skip_h1_title": true,
      "title_cell": "Table of Contents",
      "title_sidebar": "Contents",
      "toc_cell": false,
      "toc_position": {},
      "toc_section_display": true,
      "toc_window_display": false
    },
    "varInspector": {
      "cols": {
        "lenName": 16,
        "lenType": 16,
        "lenVar": 40
      },
      "kernels_config": {
        "python": {
          "delete_cmd_postfix": "",
          "delete_cmd_prefix": "del ",
          "library": "var_list.py",
          "varRefreshCmd": "print(var_dic_list())"
        },
        "r": {
          "delete_cmd_postfix": ") ",
          "delete_cmd_prefix": "rm(",
          "library": "var_list.r",
          "varRefreshCmd": "cat(var_dic_list()) "
        }
      },
      "types_to_exclude": [
        "module",
        "function",
        "builtin_function_or_method",
        "instance",
        "_Feature"
      ],
      "window_display": false
    },
    "colab": {
      "provenance": []
    }
  },
  "nbformat": 4,
  "nbformat_minor": 0
}