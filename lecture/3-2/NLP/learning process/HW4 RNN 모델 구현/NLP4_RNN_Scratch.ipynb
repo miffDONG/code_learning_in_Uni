{
 "cells": [
  {
   "cell_type": "markdown",
   "id": "be23069f",
   "metadata": {
    "id": "be23069f"
   },
   "source": [
    "# *Homework #4*"
   ]
  },
  {
   "cell_type": "markdown",
   "id": "dc360fd8",
   "metadata": {
    "id": "dc360fd8"
   },
   "source": [
    "**Double Click here to edit this cell**\n",
    "- Name : 김현동 \n",
    "- Student Id : 201901208    \n",
    "- Submission date : 2023.12."
   ]
  },
  {
   "cell_type": "markdown",
   "id": "uW_kO62TyN5Q",
   "metadata": {
    "id": "uW_kO62TyN5Q"
   },
   "source": [
    "**최종 제출 시 모든 셀을 다시 실행한 뒤 제출하세요.**"
   ]
  },
  {
   "cell_type": "markdown",
   "id": "c3236a1a",
   "metadata": {
    "id": "c3236a1a"
   },
   "source": [
    "# RNN Scratch 구현\n",
    "\n",
    "## Data load & preprocessing"
   ]
  },
  {
   "cell_type": "code",
   "execution_count": 17,
   "id": "20783e04",
   "metadata": {
    "id": "20783e04"
   },
   "outputs": [],
   "source": [
    "# 해당 셀을 실행하세요.\n",
    "import os\n",
    "import random\n",
    "from string import ascii_letters\n",
    "from IPython.display import Image\n",
    "import torch\n",
    "from torch import nn\n",
    "import torch.nn.functional as F\n",
    "from unidecode import unidecode\n",
    "\n",
    "_ = torch.manual_seed(505)"
   ]
  },
  {
   "cell_type": "code",
   "execution_count": 3,
   "id": "f4dfa230",
   "metadata": {
    "id": "f4dfa230"
   },
   "outputs": [],
   "source": [
    "# 경로를 수정 후 해당 셀을 실행하면 됩니다.\n",
    "\n",
    "# data 형태를 확인하시길 바랍니다.\n",
    "\n",
    "data_dir = \"./data/names\" # data file의 경로를 자신의 경로에 맞게 수정하여 사용\n",
    "\n",
    "lang2label = {\n",
    "    name.split(\".\")[0]: torch.tensor([i], dtype=torch.long)\n",
    "    for i, name in enumerate(os.listdir(data_dir))\n",
    "} # file 이름을 통해 label을 만들고 dictionary로 만들어주는 과정입니다.\n",
    "\n",
    "unidecode(\"Ślusàrski\")\n",
    "\n",
    "char2idx = {letter: i for i, letter in enumerate(ascii_letters + \" .,:;-'\")}\n",
    "\n",
    "num_letters = len(char2idx)\n",
    "num_langs = len(lang2label)"
   ]
  },
  {
   "cell_type": "code",
   "execution_count": 10,
   "metadata": {},
   "outputs": [
    {
     "data": {
      "text/plain": [
       "{'Arabic': tensor([0]),\n",
       " 'Chinese': tensor([1]),\n",
       " 'Czech': tensor([2]),\n",
       " 'Dutch': tensor([3]),\n",
       " 'English': tensor([4]),\n",
       " 'French': tensor([5]),\n",
       " 'German': tensor([6]),\n",
       " 'Greek': tensor([7]),\n",
       " 'Irish': tensor([8]),\n",
       " 'Italian': tensor([9]),\n",
       " 'Japanese': tensor([10]),\n",
       " 'Korean': tensor([11]),\n",
       " 'Polish': tensor([12]),\n",
       " 'Portuguese': tensor([13]),\n",
       " 'Russian': tensor([14]),\n",
       " 'Scottish': tensor([15]),\n",
       " 'Spanish': tensor([16]),\n",
       " 'Vietnamese': tensor([17])}"
      ]
     },
     "execution_count": 10,
     "metadata": {},
     "output_type": "execute_result"
    }
   ],
   "source": [
    "lang2label"
   ]
  },
  {
   "cell_type": "markdown",
   "id": "2dbffa94",
   "metadata": {
    "id": "2dbffa94"
   },
   "source": [
    "## One-hot encoding\n",
    "\n",
    "- data에 대해 one-hot encoding을 진행합니다.\n",
    "- 인자로 주어지는 name은 각 언어에 대한 성씨입니다. ex) Kim, Lee, Jang, Cho\n",
    "- name에 대해 one-hot-encoding을 진행하는 function을 작성하세요.\n",
    "- pd.get_dummies / sklearn의 library 사용 금지. → 사용시 0점\n",
    "<br>\n",
    "\n",
    "Hint : 어휘에는 총 num_letters만큼의 token이 존재합니다."
   ]
  },
  {
   "cell_type": "code",
   "execution_count": 31,
   "id": "6e6760d4",
   "metadata": {
    "id": "6e6760d4"
   },
   "outputs": [],
   "source": [
    "\"\"\"\n",
    "중복되는 값들 제거 \n",
    "\"\"\"\n",
    "\n",
    "def name2tensor(name):\n",
    "    print(name)\n",
    "    targets = le.fit_transform(name)\n",
    "    torch_name = torch.Tensor(targets)\n",
    "    tensor = torch.nn.functional.one_hot(torch_name, num_classes=-1)\n",
    "    return tensor"
   ]
  },
  {
   "cell_type": "code",
   "execution_count": 32,
   "id": "b685c91a",
   "metadata": {
    "id": "b685c91a",
    "scrolled": true
   },
   "outputs": [
    {
     "name": "stdout",
     "output_type": "stream",
     "text": [
      "Khoury\n"
     ]
    },
    {
     "ename": "NameError",
     "evalue": "name 'le' is not defined",
     "output_type": "error",
     "traceback": [
      "\u001b[1;31m---------------------------------------------------------------------------\u001b[0m",
      "\u001b[1;31mNameError\u001b[0m                                 Traceback (most recent call last)",
      "Cell \u001b[1;32mIn[32], line 11\u001b[0m\n\u001b[0;32m      9\u001b[0m \u001b[38;5;28;01mfor\u001b[39;00m name \u001b[38;5;129;01min\u001b[39;00m names:\n\u001b[0;32m     10\u001b[0m     \u001b[38;5;28;01mtry\u001b[39;00m:\n\u001b[1;32m---> 11\u001b[0m         tensor_names\u001b[38;5;241m.\u001b[39mappend(\u001b[43mname2tensor\u001b[49m\u001b[43m(\u001b[49m\u001b[43mname\u001b[49m\u001b[43m)\u001b[49m)\n\u001b[0;32m     12\u001b[0m         target_langs\u001b[38;5;241m.\u001b[39mappend(lang2label[lang])\n\u001b[0;32m     13\u001b[0m     \u001b[38;5;28;01mexcept\u001b[39;00m \u001b[38;5;167;01mKeyError\u001b[39;00m:\n",
      "Cell \u001b[1;32mIn[31], line 3\u001b[0m, in \u001b[0;36mname2tensor\u001b[1;34m(name)\u001b[0m\n\u001b[0;32m      1\u001b[0m \u001b[38;5;28;01mdef\u001b[39;00m \u001b[38;5;21mname2tensor\u001b[39m(name):\n\u001b[0;32m      2\u001b[0m     \u001b[38;5;28mprint\u001b[39m(name)\n\u001b[1;32m----> 3\u001b[0m     targets \u001b[38;5;241m=\u001b[39m \u001b[43mle\u001b[49m\u001b[38;5;241m.\u001b[39mfit_transform(name)\n\u001b[0;32m      4\u001b[0m     torch_name \u001b[38;5;241m=\u001b[39m torch\u001b[38;5;241m.\u001b[39mTensor(targets)\n\u001b[0;32m      5\u001b[0m     tensor \u001b[38;5;241m=\u001b[39m torch\u001b[38;5;241m.\u001b[39mnn\u001b[38;5;241m.\u001b[39mfunctional\u001b[38;5;241m.\u001b[39mone_hot(torch_name, num_classes\u001b[38;5;241m=\u001b[39m\u001b[38;5;241m-\u001b[39m\u001b[38;5;241m1\u001b[39m)\n",
      "\u001b[1;31mNameError\u001b[0m: name 'le' is not defined"
     ]
    }
   ],
   "source": [
    "# name2tensor를 정의하고 해당 셀을 실행하세요.\n",
    "\n",
    "tensor_names, target_langs = [], []\n",
    "\n",
    "for file in os.listdir(data_dir):\n",
    "    with open(os.path.join(data_dir, file)) as f:\n",
    "        lang = file.split(\".\")[0]\n",
    "        names = [unidecode(line.rstrip()) for line in f]\n",
    "        for name in names:\n",
    "            try:\n",
    "                tensor_names.append(name2tensor(name))\n",
    "                target_langs.append(lang2label[lang])\n",
    "            except KeyError:\n",
    "                pass"
   ]
  },
  {
   "cell_type": "code",
   "execution_count": null,
   "id": "e6cfe72a",
   "metadata": {
    "id": "e6cfe72a"
   },
   "outputs": [],
   "source": [
    "# 해당 셀을 실행하여 결과를 확인하세요.\n",
    "\n",
    "print(tensor_names[0])"
   ]
  },
  {
   "cell_type": "markdown",
   "id": "5fd667ed",
   "metadata": {
    "id": "5fd667ed"
   },
   "source": [
    "**Your Output must be**\n",
    "![onehotimg.PNG](data:image/png;base64,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)\n"
   ]
  },
  {
   "cell_type": "code",
   "execution_count": null,
   "id": "71ba25b9",
   "metadata": {
    "id": "71ba25b9"
   },
   "outputs": [],
   "source": [
    "# 해당 셀을 실행하세요.\n",
    "from sklearn.model_selection import train_test_split\n",
    "\n",
    "train_idx, test_idx = train_test_split(\n",
    "    range(len(target_langs)),\n",
    "    test_size=0.1,\n",
    "    shuffle=True\n",
    ")\n",
    "\n",
    "train_dataset = [\n",
    "    (tensor_names[i], target_langs[i])\n",
    "    for i in train_idx\n",
    "]\n",
    "\n",
    "test_dataset = [\n",
    "    (tensor_names[i], target_langs[i])\n",
    "    for i in test_idx\n",
    "]"
   ]
  },
  {
   "cell_type": "code",
   "execution_count": null,
   "id": "a0bb6472",
   "metadata": {
    "id": "a0bb6472"
   },
   "outputs": [],
   "source": [
    "print(f\"Train: {len(train_dataset)}\")\n",
    "print(f\"Test: {len(test_dataset)}\")"
   ]
  },
  {
   "cell_type": "markdown",
   "id": "2bcdc70f",
   "metadata": {
    "id": "2bcdc70f"
   },
   "source": [
    "# RNN Model\n",
    "- RNN 모델을 scratch로 구현합니다.\n",
    "<br>\n",
    "- 밑줄친 부분을 지우고 해당 부분에 올바른 코드를 작성하면 됩니다.\n",
    "<br>\n",
    "\n",
    "- RNN_Scratch에서 주어진 init, forward 외에 추가를 하면 안됩니다.\n",
    "<br>\n",
    "\n",
    "- 올바른 코드를 작성하였다면 하이퍼파라미터 튜닝을 통해 성능을 향상합니다.\n",
    "<br>\n",
    "\n",
    "- 하이퍼파라미터를 수정하여 정확도를 비교하는 과정 또한 있어야합니다.\n",
    "<br>\n",
    "\n",
    "- Inference 전에 셀을 필요한만큼 추가하여 하이퍼파라미터를 변경해가며 결과값을 비교하면 됩니다.(최소 4회 이상의 코드와 결과를 보여주어야합니다.)\n",
    "<br>\n",
    "\n",
    "- num_epochs, print_interval은 2와 3000으로 고정입니다.\n",
    "<br>\n",
    "\n",
    "- 학습하며 train_loss의 learning curve를 출력하여야합니다. 해당 부분에 대해서 필요한 코드는 추가하시면 됩니다.\n",
    "<br>\n"
   ]
  },
  {
   "cell_type": "code",
   "execution_count": null,
   "id": "53c2d1fb",
   "metadata": {
    "id": "53c2d1fb"
   },
   "outputs": [],
   "source": [
    "import torch\n",
    "import torch.nn as nn\n",
    "\n",
    "class RNN_Scratch(nn.Module):\n",
    "    def __init__(self, input_size, hidden_size, output_size):\n",
    "        super(RNN_Scratch, self).__init__()\n",
    "        self.input_size = input_size\n",
    "        self.output_size = output_size\n",
    "        self.hidden_size = hidden_size\n",
    "\n",
    "        # 입력에서 은닉층으로의 가중치와 편향\n",
    "        self.wxh = _______\n",
    "        self.bh = _______\n",
    "\n",
    "        # 은닉층에서 출력층으로의 가중치와 편향\n",
    "        self.wh_output = _______\n",
    "        self.bo = _______\n",
    "\n",
    "    def forward(self, x, state = None):\n",
    "        # 은닉 상태 초기화(0으로 초기화)\n",
    "        if state == None :\n",
    "            state = _______\n",
    "        else :\n",
    "            state, = state\n",
    "\n",
    "        # RNN forward 연산\n",
    "        for i in range(x.size(0)):\n",
    "            state = _______\n",
    "            out = _______\n",
    "\n",
    "        return out, state"
   ]
  },
  {
   "cell_type": "code",
   "execution_count": null,
   "id": "8504bf5d",
   "metadata": {
    "id": "8504bf5d"
   },
   "outputs": [],
   "source": [
    "input_size = _______\n",
    "hidden_size = _______\n",
    "output_size = _______\n",
    "learning_rate = _______\n",
    "\n",
    "model = _______\n",
    "\n",
    "criterion =  _______\n",
    "optimizer =  _______"
   ]
  },
  {
   "cell_type": "code",
   "execution_count": null,
   "id": "6170c21a",
   "metadata": {
    "id": "6170c21a"
   },
   "outputs": [],
   "source": [
    "num_epochs = 2\n",
    "print_interval = 3000\n",
    "\n",
    "for epoch in range(num_epochs):\n",
    "    random.shuffle(train_dataset)\n",
    "    for i, (name, label) in enumerate(train_dataset):\n",
    "        hidden = _______ # 은닉 상태 0으로 초기화\n",
    "\n",
    "        for char in name :\n",
    "            output, hidden = _______\n",
    "\n",
    "        loss = _______\n",
    "        optimizer._______\n",
    "        loss._______\n",
    "        nn.utils.clip_grad_norm_(model.parameters(), 1)\n",
    "        optimizer._______\n",
    "\n",
    "        if (i + 1) % print_interval == 0:\n",
    "            print(\n",
    "                f\"Epoch [{epoch + 1}/{num_epochs}], \"\n",
    "                f\"Step [{i + 1}/{len(train_dataset)}], \"\n",
    "                f\"Loss: {loss.item():.4f}\"\n",
    "            )"
   ]
  },
  {
   "cell_type": "markdown",
   "id": "166427bc",
   "metadata": {},
   "source": [
    "# Accuracy"
   ]
  },
  {
   "cell_type": "code",
   "execution_count": null,
   "id": "ddf4a7ae",
   "metadata": {
    "id": "ddf4a7ae"
   },
   "outputs": [],
   "source": [
    "num_correct = 0\n",
    "num_samples = len(test_dataset)\n",
    "\n",
    "model.eval()\n",
    "\n",
    "with torch.no_grad():\n",
    "    for name, label in test_dataset:\n",
    "        hidden_state = _______ # 은닉 상태 0으로 초기화\n",
    "        for char in name:\n",
    "            output, hidden_state = _______\n",
    "        _, pred = torch.max(output, dim=1)\n",
    "        num_correct += bool(pred == label)\n",
    "\n",
    "print(f\"Accuracy: {num_correct / num_samples * 100:.4f}%\")"
   ]
  },
  {
   "cell_type": "code",
   "execution_count": null,
   "id": "099f7dff",
   "metadata": {
    "id": "099f7dff"
   },
   "outputs": [],
   "source": []
  },
  {
   "cell_type": "code",
   "execution_count": null,
   "id": "e8000268",
   "metadata": {},
   "outputs": [],
   "source": []
  },
  {
   "cell_type": "code",
   "execution_count": null,
   "id": "b4ea61f1",
   "metadata": {
    "id": "b4ea61f1"
   },
   "outputs": [],
   "source": []
  },
  {
   "cell_type": "code",
   "execution_count": null,
   "id": "d84667be",
   "metadata": {
    "id": "d84667be"
   },
   "outputs": [],
   "source": []
  },
  {
   "cell_type": "markdown",
   "id": "780c667f",
   "metadata": {
    "id": "780c667f"
   },
   "source": [
    "# Learning curve"
   ]
  },
  {
   "cell_type": "code",
   "execution_count": null,
   "id": "80aa0c60",
   "metadata": {
    "id": "80aa0c60"
   },
   "outputs": [],
   "source": []
  },
  {
   "cell_type": "code",
   "execution_count": null,
   "id": "451fb01e",
   "metadata": {
    "id": "451fb01e"
   },
   "outputs": [],
   "source": []
  },
  {
   "cell_type": "markdown",
   "id": "6372c606",
   "metadata": {
    "id": "6372c606"
   },
   "source": [
    "# Inference"
   ]
  },
  {
   "cell_type": "code",
   "execution_count": null,
   "id": "695feb51",
   "metadata": {
    "id": "695feb51"
   },
   "outputs": [],
   "source": [
    "# 해당 셀을 실행하세요.\n",
    "\n",
    "label2lang = {label.item(): lang for lang, label in lang2label.items()}\n",
    "\n",
    "def myrnn_predict(name):\n",
    "    model.eval()\n",
    "    tensor_name = name2tensor(name)\n",
    "    with torch.no_grad():\n",
    "        hidden_state = _______ # 은닉 상태 0으로 초기화\n",
    "        for char in tensor_name:\n",
    "            output, hidden_state = _______\n",
    "        _, pred = torch.max(output, dim=1)\n",
    "    model.train()\n",
    "    return label2lang[pred.item()]"
   ]
  },
  {
   "cell_type": "markdown",
   "id": "5659fa79",
   "metadata": {
    "id": "5659fa79"
   },
   "source": [
    "### myrnn_predict를 활용하여 5개의 예시를 본인이 만들어 결과 확인하기\n",
    "- 아래에 예시를 본인이 생각하여 5가지 정도 만들어 예측 결과를 출력하시오."
   ]
  },
  {
   "cell_type": "code",
   "execution_count": null,
   "id": "a4d894d0",
   "metadata": {
    "id": "a4d894d0"
   },
   "outputs": [],
   "source": []
  }
 ],
 "metadata": {
  "colab": {
   "provenance": []
  },
  "kernelspec": {
   "display_name": "NLP_test",
   "language": "python",
   "name": "d2l"
  },
  "language_info": {
   "codemirror_mode": {
    "name": "ipython",
    "version": 3
   },
   "file_extension": ".py",
   "mimetype": "text/x-python",
   "name": "python",
   "nbconvert_exporter": "python",
   "pygments_lexer": "ipython3",
   "version": "3.9.18"
  }
 },
 "nbformat": 4,
 "nbformat_minor": 5
}
