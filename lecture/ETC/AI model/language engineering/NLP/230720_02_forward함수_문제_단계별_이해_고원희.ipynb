{
 "cells": [
  {
   "cell_type": "markdown",
   "id": "understood-mount",
   "metadata": {},
   "source": [
    "## Step1. multi-head가 없는 그냥 attention이라면?"
   ]
  },
  {
   "cell_type": "code",
   "execution_count": 2,
   "id": "asian-working",
   "metadata": {},
   "outputs": [],
   "source": [
    "def forward(self, query, key, value):\n",
    "\n",
    "    Q = self.fc_q(query)\n",
    "    K = self.fc_k(key)\n",
    "    V = self.fc_v(value)\n",
    "    # Q: [query_len, hidden_dim]\n",
    "    # K: [key_len, hidden_dim]\n",
    "    # V: [value_len, hidden_dim]\n",
    "\n",
    "    # 어텐션(attention) 스코어 계산\n",
    "    energy = torch.matmul(Q, K.permute(1, 0)) / self.scale\n",
    "    # energy: [query_len, key_len]\n",
    "\n",
    "    # 확률 분포로 변환\n",
    "    attention = torch.softmax(energy, dim=-1)\n",
    "    # attention: [query_len, key_len]\n",
    "\n",
    "    # Scaled Dot-Product Attention 계산\n",
    "    x = torch.matmul(attention, V)\n",
    "    # x: [query_len, hidden_dim]\n",
    "    return x"
   ]
  },
  {
   "cell_type": "markdown",
   "id": "rocky-psychiatry",
   "metadata": {},
   "source": [
    "matmul에 대한 파이토치 공식 문서: https://pytorch.org/docs/stable/generated/torch.matmul.html  \n",
    "파이토치에서의 matmul과 dot의 차이: https://velog.io/@regista/torch.dot-torch.matmul-torch.mm-torch.bmm  \n"
   ]
  },
  {
   "cell_type": "code",
   "execution_count": 4,
   "id": "composed-monitoring",
   "metadata": {
    "scrolled": true
   },
   "outputs": [
    {
     "data": {
      "text/plain": [
       "'In this work we employ h = 8 parallel attention layers, or heads. For each of these we use\\ndk = dv = dmodel/h = 64. Due to the reduced dimension of each head, the total computational cost\\nis similar to that of single-head attention with full dimensionality.'"
      ]
     },
     "execution_count": 4,
     "metadata": {},
     "output_type": "execute_result"
    }
   ],
   "source": [
    "\"\"\"In this work we employ h = 8 parallel attention layers, or heads. For each of these we use\n",
    "dk = dv = dmodel/h = 64. Due to the reduced dimension of each head, the total computational cost\n",
    "is similar to that of single-head attention with full dimensionality.\"\"\"\n",
    "\"\"\"문장에서 dmodel == 코드에서 hidden_dim\"\"\""
   ]
  },
  {
   "cell_type": "markdown",
   "id": "african-sunday",
   "metadata": {},
   "source": [
    "## Step2. 논문에 따라, head의 개수로 쪼갠 attention이라면?"
   ]
  },
  {
   "cell_type": "code",
   "execution_count": null,
   "id": "absent-volunteer",
   "metadata": {},
   "outputs": [],
   "source": [
    "def forward(self, query, key, value):\n",
    "\n",
    "    Q = self.fc_q(query)\n",
    "    K = self.fc_k(key)\n",
    "    V = self.fc_v(value)\n",
    "\n",
    "    # Q: [query_len, hidden_dim]\n",
    "    # K: [key_len, hidden_dim]\n",
    "    # V: [value_len, hidden_dim]\n",
    "\n",
    "    # hidden_dim → n_heads X head_dim 형태로 변형\n",
    "    # n_heads(h)개의 서로 다른 어텐션(attention) 컨셉을 학습하도록 유도\n",
    "    Q = Q.view(-1, self.n_heads, self.head_dim)\n",
    "    K = K.view(-1, self.n_heads, self.head_dim)\n",
    "    V = V.view(-1, self.n_heads, self.head_dim)\n",
    "\n",
    "    # Q: [query_len, n_heads, head_dim]\n",
    "    # K: [key_len, n_heads, head_dim]\n",
    "    # V: [value_len, n_heads, head_dim]\n",
    "    \n",
    "    Q = Q.permute(1, 0, 2)\n",
    "    K = K.permute(1, 0, 2)\n",
    "    V = V.permute(1, 0, 2)\n",
    "    \n",
    "    # Q: [n_heads, query_len, head_dim]\n",
    "    # K: [n_heads, key_len, head_dim]\n",
    "    # V: [n_heads, value_len, head_dim]\n",
    "\n",
    "    # 어텐션(attention) 스코어 계산\n",
    "    energy = torch.matmul(Q, K.permute(0, 2, 1)) / self.scale\n",
    "    # energy: [n_heads, query_len, key_len]\n",
    "\n",
    "    # 확률 분포로 변환\n",
    "    attention = torch.softmax(energy, dim=-1)\n",
    "    # attention: [n_heads, query_len, key_len]\n",
    "\n",
    "    # Scaled Dot-Product Attention 계산\n",
    "    x = torch.matmul((attention), V)\n",
    "    # x: [ n_heads, query_len, head_dim]\n",
    "\n",
    "    x = x.permute(1, 0, 2).contiguous()\n",
    "    # x: [query_len, n_heads, head_dim]\n",
    "\n",
    "    x = x.view(-1, self.hidden_dim)\n",
    "    # x: [query_len, hidden_dim]\n",
    "\n",
    "    x = self.fc_o(x)\n",
    "    # x: [query_len, hidden_dim]\n",
    "\n",
    "    return x, attention\n",
    "\n",
    "\"\"\"step1의 코드와 비교해보면, 제일 첫번째로 들어가는 차원에서 n_heads만 추가되었다 뿐이지, 그 뒤에 차원은 그대로 진행됩니다.\"\"\""
   ]
  },
  {
   "cell_type": "markdown",
   "id": "suffering-hudson",
   "metadata": {},
   "source": [
    "## Step3. 그런데 실무에서는, 이 데이터(문장)가 하나씩 들어오는 게 아니라, batch size만큼의 뭉치로 들어옵니다. 따라서 batch_size만큼 쌓여서 들어온다고 가정해줘야 합니다."
   ]
  },
  {
   "cell_type": "code",
   "execution_count": null,
   "id": "proof-utilization",
   "metadata": {},
   "outputs": [],
   "source": [
    "def forward(self, query, key, value):\n",
    "    \n",
    "    # query: [batch_size, query_len, hidden_dim]\n",
    "    # key: [batch_size, key_len, hidden_dim]\n",
    "    # value: [batch_size, value_len, hidden_dim]\n",
    "\n",
    "    batch_size = query.shape[0]\n",
    "    \n",
    "    Q = self.fc_q(query)\n",
    "    K = self.fc_k(key)\n",
    "    V = self.fc_v(value)\n",
    "\n",
    "    # Q: [batch_size, query_len, hidden_dim]\n",
    "    # K: [batch_size, key_len, hidden_dim]\n",
    "    # V: [batch_size, value_len, hidden_dim]\n",
    "\n",
    "    # hidden_dim → n_heads X head_dim 형태로 변형\n",
    "    # n_heads(h)개의 서로 다른 어텐션(attention) 컨셉을 학습하도록 유도\n",
    "    Q = Q.view(batch_size, -1, self.n_heads, self.head_dim).permute(0, 2, 1, 3)\n",
    "    K = K.view(batch_s`ze, -1, self.n_heads, self.head_dim).permute(0, 2, 1, 3)\n",
    "    V = V.view(batch_size, -1, self.n_heads, self.head_dim).permute(0, 2, 1, 3)\n",
    "\n",
    "    # Q: [batch_size, n_heads, query_len, head_dim]\n",
    "    # K: [batch_size, n_heads, key_len, head_dim]\n",
    "    # V: [batch_size, n_heads, value_len, head_dim]\n",
    "\n",
    "    # 어텐션(attention) 스코어 계산\n",
    "    energy = torch.matmul(Q, K.permute(0, 1, 3, 2)) / self.scale\n",
    "    # energy: [batch_size, n_heads, query_len, key_len]\n",
    "\n",
    "    # 확률 분포로 변환\n",
    "    attention = torch.softmax(energy, dim=-1)\n",
    "    # attention: [batch_size, n_heads, query_len, key_len]\n",
    "\n",
    "    # Scaled Dot-Product Attention 계산\n",
    "    x = torch.matmul(self.dropout(attention), V)\n",
    "    # x: [batch_size, n_heads, query_len, head_dim]\n",
    "\n",
    "    x = x.permute(0, 2, 1, 3).contiguous()\n",
    "    # x: [batch_size, query_len, n_heads, head_dim]\n",
    "\n",
    "    x = x.view(batch_size, -1, self.hidden_dim)\n",
    "    # x: [batch_size, query_len, hidden_dim]\n",
    "\n",
    "    x = self.fc_o(x)\n",
    "    # x: [batch_size, query_len, hidden_dim]\n",
    "\n",
    "    return x, attention"
   ]
  },
  {
   "cell_type": "markdown",
   "id": "frequent-techno",
   "metadata": {},
   "source": [
    "## Step4. mask가 있을 경우"
   ]
  },
  {
   "cell_type": "markdown",
   "id": "human-entry",
   "metadata": {},
   "source": [
    "masked_fill 파이토치 공식 문서: https://pytorch.org/docs/stable/generated/torch.Tensor.masked_fill_.html#torch.Tensor.masked_fill_"
   ]
  },
  {
   "cell_type": "code",
   "execution_count": null,
   "id": "sexual-latino",
   "metadata": {},
   "outputs": [],
   "source": [
    "def forward(self, query, key, value, mask=None):\n",
    "\n",
    "    batch_size = query.shape[0]\n",
    "\n",
    "    # query: [batch_size, query_len, hidden_dim]\n",
    "    # key: [batch_size, key_len, hidden_dim]\n",
    "    # value: [batch_size, value_len, hidden_dim]\n",
    "    Q = self.fc_q(query)\n",
    "    K = self.fc_k(key)\n",
    "    V = self.fc_v(value)\n",
    "\n",
    "    # Q: [batch_size, query_len, hidden_dim]\n",
    "    # K: [batch_size, key_len, hidden_dim]\n",
    "    # V: [batch_size, value_len, hidden_dim]\n",
    "\n",
    "    # hidden_dim → n_heads X head_dim 형태로 변형\n",
    "    # n_heads(h)개의 서로 다른 어텐션(attention) 컨셉을 학습하도록 유도\n",
    "    Q = Q.view(batch_size, -1, self.n_heads, self.head_dim).permute(0, 2, 1, 3)\n",
    "    K = K.view(batch_size, -1, self.n_heads, self.head_dim).permute(0, 2, 1, 3)\n",
    "    V = V.view(batch_size, -1, self.n_heads, self.head_dim).permute(0, 2, 1, 3)\n",
    "\n",
    "    # Q: [batch_size, n_heads, query_len, head_dim]\n",
    "    # K: [batch_size, n_heads, key_len, head_dim]\n",
    "    # V: [batch_size, n_heads, value_len, head_dim]\n",
    "\n",
    "    # 어텐션(attention) 스코어 계산\n",
    "    energy = torch.matmul(Q, K.permute(0, 1, 3, 2)) / self.scale\n",
    "    # energy: [batch_size, n_heads, query_len, key_len]\n",
    "\n",
    "    # 마스크(mask)를 사용하는 경우\n",
    "    if mask is not None:\n",
    "        # 마스크(mask) 값이 0인 부분을 -1e10으로 채우기\n",
    "        energy = energy.masked_fill(mask==0, -1e10)\n",
    "    \n",
    "    # 확률 분포로 변환\n",
    "    attention = torch.softmax(energy, dim=-1)\n",
    "    # attention: [batch_size, n_heads, query_len, key_len]\n",
    "\n",
    "    # Scaled Dot-Product Attention 계산\n",
    "    x = torch.matmul(self.dropout(attention), V)\n",
    "    # x: [batch_size, n_heads, query_len, head_dim]\n",
    "\n",
    "    x = x.permute(0, 2, 1, 3).contiguous()\n",
    "    # x: [batch_size, query_len, n_heads, head_dim]\n",
    "\n",
    "    x = x.view(batch_size, -1, self.hidden_dim)\n",
    "    # x: [batch_size, query_len, hidden_dim]\n",
    "\n",
    "    x = self.fc_o(x)\n",
    "    # x: [batch_size, query_len, hidden_dim]\n",
    "\n",
    "    return x, attention"
   ]
  }
 ],
 "metadata": {
  "kernelspec": {
   "display_name": "Python 3",
   "language": "python",
   "name": "python3"
  },
  "language_info": {
   "codemirror_mode": {
    "name": "ipython",
    "version": 3
   },
   "file_extension": ".py",
   "mimetype": "text/x-python",
   "name": "python",
   "nbconvert_exporter": "python",
   "pygments_lexer": "ipython3",
   "version": "3.8.5"
  }
 },
 "nbformat": 4,
 "nbformat_minor": 5
}
