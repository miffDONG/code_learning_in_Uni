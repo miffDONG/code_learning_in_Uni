{
 "cells": [
  {
   "cell_type": "code",
   "execution_count": 17,
   "metadata": {},
   "outputs": [
    {
     "name": "stdout",
     "output_type": "stream",
     "text": [
      "[[[ 0  1  2  3]\n",
      "  [ 4  5  6  7]]\n",
      "\n",
      " [[ 8  9 10 11]\n",
      "  [12 13 14 15]]]\n",
      "(2, 2, 4)\n",
      "3\n",
      "int32\n",
      "4\n",
      "16\n",
      "<class 'numpy.ndarray'>\n"
     ]
    }
   ],
   "source": [
    "import numpy as np\n",
    "\n",
    "sample = np.arange(16).reshape(2,2,4) #(0,1,2) 차원\n",
    "print(sample)\n",
    "print(sample.shape)\n",
    "print(sample.ndim) \n",
    "print(sample.dtype.name)\n",
    "print(sample.itemsize)\n",
    "print(sample.size)\n",
    "print(type(sample))"
   ]
  },
  {
   "cell_type": "code",
   "execution_count": 29,
   "metadata": {},
   "outputs": [
    {
     "name": "stdout",
     "output_type": "stream",
     "text": [
      "[[[[  0   1   2   3   4]\n",
      "   [  5   6   7   8   9]\n",
      "   [ 10  11  12  13  14]\n",
      "   [ 15  16  17  18  19]]\n",
      "\n",
      "  [[ 20  21  22  23  24]\n",
      "   [ 25  26  27  28  29]\n",
      "   [ 30  31  32  33  34]\n",
      "   [ 35  36  37  38  39]]\n",
      "\n",
      "  [[ 40  41  42  43  44]\n",
      "   [ 45  46  47  48  49]\n",
      "   [ 50  51  52  53  54]\n",
      "   [ 55  56  57  58  59]]]\n",
      "\n",
      "\n",
      " [[[ 60  61  62  63  64]\n",
      "   [ 65  66  67  68  69]\n",
      "   [ 70  71  72  73  74]\n",
      "   [ 75  76  77  78  79]]\n",
      "\n",
      "  [[ 80  81  82  83  84]\n",
      "   [ 85  86  87  88  89]\n",
      "   [ 90  91  92  93  94]\n",
      "   [ 95  96  97  98  99]]\n",
      "\n",
      "  [[100 101 102 103 104]\n",
      "   [105 106 107 108 109]\n",
      "   [110 111 112 113 114]\n",
      "   [115 116 117 118 119]]]]\n",
      "\n",
      "[[[[  0  60]\n",
      "   [ 20  80]\n",
      "   [ 40 100]]\n",
      "\n",
      "  [[  5  65]\n",
      "   [ 25  85]\n",
      "   [ 45 105]]\n",
      "\n",
      "  [[ 10  70]\n",
      "   [ 30  90]\n",
      "   [ 50 110]]\n",
      "\n",
      "  [[ 15  75]\n",
      "   [ 35  95]\n",
      "   [ 55 115]]]\n",
      "\n",
      "\n",
      " [[[  1  61]\n",
      "   [ 21  81]\n",
      "   [ 41 101]]\n",
      "\n",
      "  [[  6  66]\n",
      "   [ 26  86]\n",
      "   [ 46 106]]\n",
      "\n",
      "  [[ 11  71]\n",
      "   [ 31  91]\n",
      "   [ 51 111]]\n",
      "\n",
      "  [[ 16  76]\n",
      "   [ 36  96]\n",
      "   [ 56 116]]]\n",
      "\n",
      "\n",
      " [[[  2  62]\n",
      "   [ 22  82]\n",
      "   [ 42 102]]\n",
      "\n",
      "  [[  7  67]\n",
      "   [ 27  87]\n",
      "   [ 47 107]]\n",
      "\n",
      "  [[ 12  72]\n",
      "   [ 32  92]\n",
      "   [ 52 112]]\n",
      "\n",
      "  [[ 17  77]\n",
      "   [ 37  97]\n",
      "   [ 57 117]]]\n",
      "\n",
      "\n",
      " [[[  3  63]\n",
      "   [ 23  83]\n",
      "   [ 43 103]]\n",
      "\n",
      "  [[  8  68]\n",
      "   [ 28  88]\n",
      "   [ 48 108]]\n",
      "\n",
      "  [[ 13  73]\n",
      "   [ 33  93]\n",
      "   [ 53 113]]\n",
      "\n",
      "  [[ 18  78]\n",
      "   [ 38  98]\n",
      "   [ 58 118]]]\n",
      "\n",
      "\n",
      " [[[  4  64]\n",
      "   [ 24  84]\n",
      "   [ 44 104]]\n",
      "\n",
      "  [[  9  69]\n",
      "   [ 29  89]\n",
      "   [ 49 109]]\n",
      "\n",
      "  [[ 14  74]\n",
      "   [ 34  94]\n",
      "   [ 54 114]]\n",
      "\n",
      "  [[ 19  79]\n",
      "   [ 39  99]\n",
      "   [ 59 119]]]]\n"
     ]
    }
   ],
   "source": [
    "sample = np.arange(120).reshape(2,3,4,5) \n",
    "print(sample,end='\\n\\n')\n",
    "print(sample.T) # (5,4,3,2)"
   ]
  },
  {
   "cell_type": "code",
   "execution_count": 32,
   "metadata": {},
   "outputs": [
    {
     "name": "stdout",
     "output_type": "stream",
     "text": [
      "[0.  0.2 0.4 0.6 0.8 1. ]\n",
      "[0.  0.2 0.4 0.6 0.8]\n"
     ]
    }
   ],
   "source": [
    "c = np.linspace(0,1,6)\n",
    "d = np.linspace(0,1,5,endpoint=False)\n",
    "print(c)\n",
    "print(d)"
   ]
  },
  {
   "cell_type": "code",
   "execution_count": 48,
   "metadata": {},
   "outputs": [
    {
     "name": "stdout",
     "output_type": "stream",
     "text": [
      "400\n",
      "[[130 160]\n",
      " [400 520]]\n"
     ]
    }
   ],
   "source": [
    "a = np.array([20,30,40,50])\n",
    "b = np.arange(1,5)\n",
    "a-b\n",
    "print(a@b) # 내적. 같은 인덱스에 있는 요소들의 곱들의 합\n",
    "sample1 = np.arange(6).reshape(2,3) #(0,1,2) 차원\n",
    "sample2 = np.array([[10,20],[30,40],[50,60]])\n",
    "# print(sample1)\n",
    "# print(sample2)\n",
    "# print(sample2-sample1)\n",
    "print(sample1@sample2) # 행렬계산 * 차원 중요"
   ]
  },
  {
   "cell_type": "code",
   "execution_count": null,
   "metadata": {},
   "outputs": [],
   "source": []
  }
 ],
 "metadata": {
  "kernelspec": {
   "display_name": "Python 3",
   "language": "python",
   "name": "python3"
  },
  "language_info": {
   "codemirror_mode": {
    "name": "ipython",
    "version": 3
   },
   "file_extension": ".py",
   "mimetype": "text/x-python",
   "name": "python",
   "nbconvert_exporter": "python",
   "pygments_lexer": "ipython3",
   "version": "3.12.1"
  }
 },
 "nbformat": 4,
 "nbformat_minor": 2
}
