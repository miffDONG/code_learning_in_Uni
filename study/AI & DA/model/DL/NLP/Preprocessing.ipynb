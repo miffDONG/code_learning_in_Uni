{
 "cells": [
  {
   "cell_type": "markdown",
   "id": "9fa937f7-4e66-4054-a723-e627a8682602",
   "metadata": {},
   "source": [
    "## 문장 토큰화 -> 단어 토큰화 -> nomalization -> 불용어 제거"
   ]
  },
  {
   "cell_type": "code",
   "execution_count": 1,
   "id": "e1047e0a-bbc9-42bb-85da-28a7f584bfe0",
   "metadata": {},
   "outputs": [],
   "source": [
    "from nltk.tokenize import sent_tokenize,word_tokenize\n",
    "from nltk.corpus import stopwords"
   ]
  },
  {
   "cell_type": "code",
   "execution_count": 2,
   "id": "c590829e-5f76-4470-9cbb-49f2f627201f",
   "metadata": {},
   "outputs": [
    {
     "ename": "NameError",
     "evalue": "name 'raw_text' is not defined",
     "output_type": "error",
     "traceback": [
      "\u001b[1;31m---------------------------------------------------------------------------\u001b[0m",
      "\u001b[1;31mNameError\u001b[0m                                 Traceback (most recent call last)",
      "Cell \u001b[1;32mIn[2], line 5\u001b[0m\n\u001b[0;32m      2\u001b[0m preprocessed_sentences \u001b[38;5;241m=\u001b[39m []\n\u001b[0;32m      3\u001b[0m stop_words \u001b[38;5;241m=\u001b[39m \u001b[38;5;28mset\u001b[39m(stopwords\u001b[38;5;241m.\u001b[39mwords(\u001b[38;5;124m'\u001b[39m\u001b[38;5;124menglish\u001b[39m\u001b[38;5;124m'\u001b[39m))\n\u001b[1;32m----> 5\u001b[0m sentences \u001b[38;5;241m=\u001b[39m sent_tokenize(\u001b[43mraw_text\u001b[49m)\n\u001b[0;32m      7\u001b[0m \u001b[38;5;28;01mfor\u001b[39;00m sentence \u001b[38;5;129;01min\u001b[39;00m sentences:\n\u001b[0;32m      8\u001b[0m     tokened_sentence \u001b[38;5;241m=\u001b[39m words_tokenize(sentence)\n",
      "\u001b[1;31mNameError\u001b[0m: name 'raw_text' is not defined"
     ]
    }
   ],
   "source": [
    "vocab = {}\n",
    "preprocessed_sentences = []\n",
    "stop_words = set(stopwords.words('english'))\n",
    "\n",
    "sentences = sent_tokenize(raw_text)\n",
    "\n",
    "for sentence in sentences:\n",
    "    tokened_sentence = words_tokenize(sentence)\n",
    "    result = []\n",
    "\n",
    "    for word in tokenized:\n",
    "        word = word.lower()\n",
    "        if word not in stop_words:\n",
    "            if len(word) > 2:\n",
    "                result.append(word)\n",
    "                if word not in vocab:\n",
    "                    vocab[word] = 0\n",
    "                vocab[word] +=1\n",
    "    preprocessed_sentences.append(result)"
   ]
  },
  {
   "cell_type": "markdown",
   "id": "8bad4d5f-7942-4f6b-9a45-afc01ab98cbf",
   "metadata": {},
   "source": [
    "### integer encoding"
   ]
  },
  {
   "cell_type": "code",
   "execution_count": 6,
   "id": "41a4de3d-b6e9-4b41-875d-2013169509cc",
   "metadata": {},
   "outputs": [],
   "source": [
    "word_to_index = {}\n",
    "i = 0\n",
    "for (word,frequency) in vocab_sorted:\n",
    "    if frequency > 1:\n",
    "        i += 1\n",
    "        word_to_index[word] = i"
   ]
  },
  {
   "cell_type": "code",
   "execution_count": 15,
   "id": "8b2832b4-cb65-4cef-a3af-c4dd9121708b",
   "metadata": {},
   "outputs": [
    {
     "name": "stdout",
     "output_type": "stream",
     "text": [
      "a\n"
     ]
    }
   ],
   "source": [
    "vocab_size = 5\n",
    "\n",
    "words_frequency = [word for word, index in word_to_index.items() if index >= vocab_size+1]\n",
    "\n",
    "for w in words_frequency:\n",
    "    del word_to_index[w]\n",
    "\n",
    "\"\"\"frequency에 5 이상의 index를 기록하고 word_to_index에서 삭제\n",
    "-> dictionary가 나오게 됌. matching 된것.\n",
    "그리고 token화 된 문장을 encoding을 시작하는데 문제점. matching되지 않는 단어가 있을 수 있음. \n",
    "OOV (out of vocab) : 6 추가해서 인코딩.\n",
    "\"\"\""
   ]
  },
  {
   "cell_type": "code",
   "execution_count": null,
   "id": "d7b77760-850e-4231-8d13-d52828bb0d93",
   "metadata": {},
   "outputs": [],
   "source": []
  }
 ],
 "metadata": {
  "kernelspec": {
   "display_name": "Python 3 (ipykernel)",
   "language": "python",
   "name": "python3"
  },
  "language_info": {
   "codemirror_mode": {
    "name": "ipython",
    "version": 3
   },
   "file_extension": ".py",
   "mimetype": "text/x-python",
   "name": "python",
   "nbconvert_exporter": "python",
   "pygments_lexer": "ipython3",
   "version": "3.9.17"
  }
 },
 "nbformat": 4,
 "nbformat_minor": 5
}
