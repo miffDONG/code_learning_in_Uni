{
 "cells": [
  {
   "cell_type": "code",
   "execution_count": 1,
   "id": "7d69954a-399b-416e-96d2-baff5e803539",
   "metadata": {},
   "outputs": [],
   "source": [
    "import re"
   ]
  },
  {
   "cell_type": "code",
   "execution_count": 28,
   "id": "520b2bd3-b36f-45d1-a357-9d48497100c8",
   "metadata": {},
   "outputs": [],
   "source": [
    "r= re.compile(\"a.c\")"
   ]
  },
  {
   "cell_type": "code",
   "execution_count": 29,
   "id": "c88b2083-0c7e-4a0a-b00e-823cc8a2d556",
   "metadata": {},
   "outputs": [],
   "source": [
    "r.search(\"KKK\")"
   ]
  },
  {
   "cell_type": "code",
   "execution_count": 30,
   "id": "2a48cffe-41e2-4131-b5f1-d5c918faa2bc",
   "metadata": {},
   "outputs": [
    {
     "data": {
      "text/plain": [
       "<re.Match object; span=(3, 6), match='abc'>"
      ]
     },
     "execution_count": 30,
     "metadata": {},
     "output_type": "execute_result"
    }
   ],
   "source": [
    "r.search(\"sdfabc\")"
   ]
  },
  {
   "cell_type": "code",
   "execution_count": 31,
   "id": "d09f30e6-facd-43ae-9544-e304e6a4d6b1",
   "metadata": {},
   "outputs": [],
   "source": [
    "r.match(\"sdfabc\")"
   ]
  },
  {
   "cell_type": "code",
   "execution_count": 9,
   "id": "726e9931-93f2-4c55-a670-894e2dbf80f7",
   "metadata": {},
   "outputs": [
    {
     "data": {
      "text/plain": [
       "<re.Match object; span=(0, 2), match='ac'>"
      ]
     },
     "execution_count": 9,
     "metadata": {},
     "output_type": "execute_result"
    }
   ],
   "source": [
    "r = re.compile(\"ab?c\")\n",
    "r.search(\"ac\")"
   ]
  },
  {
   "cell_type": "code",
   "execution_count": 11,
   "id": "4d9a9d25-9b6c-4314-85a2-815fc5e5cb7d",
   "metadata": {},
   "outputs": [
    {
     "data": {
      "text/plain": [
       "<re.Match object; span=(0, 3), match='abc'>"
      ]
     },
     "execution_count": 11,
     "metadata": {},
     "output_type": "execute_result"
    }
   ],
   "source": [
    "r.search(\"abc\")"
   ]
  },
  {
   "cell_type": "code",
   "execution_count": 12,
   "id": "c87df02e-eef8-4493-bf31-beabea0e923b",
   "metadata": {},
   "outputs": [],
   "source": [
    "r = re.compile(\"^ab\")"
   ]
  },
  {
   "cell_type": "code",
   "execution_count": 13,
   "id": "54d9d4f0-5f41-4a97-a8f4-d23053ce4429",
   "metadata": {},
   "outputs": [
    {
     "data": {
      "text/plain": [
       "<re.Match object; span=(0, 2), match='ab'>"
      ]
     },
     "execution_count": 13,
     "metadata": {},
     "output_type": "execute_result"
    }
   ],
   "source": [
    "r.search(\"abdsf\")"
   ]
  },
  {
   "cell_type": "code",
   "execution_count": 14,
   "id": "aabc9218-3922-4dbc-a59c-49992bcbf99d",
   "metadata": {},
   "outputs": [],
   "source": [
    "r.search(\"adsfab\")"
   ]
  },
  {
   "cell_type": "code",
   "execution_count": 15,
   "id": "af25c3f4-1349-468d-bcb4-ec81974639c1",
   "metadata": {},
   "outputs": [
    {
     "data": {
      "text/plain": [
       "<re.Match object; span=(0, 9), match='aaaaaaabc'>"
      ]
     },
     "execution_count": 15,
     "metadata": {},
     "output_type": "execute_result"
    }
   ],
   "source": [
    "r = re.compile(\"a{3,}bc\")\n",
    "r.search(\"aaaaaaabc\")"
   ]
  },
  {
   "cell_type": "code",
   "execution_count": 25,
   "id": "3c114df6-a299-4588-a17a-50fdfe9be526",
   "metadata": {},
   "outputs": [
    {
     "name": "stdout",
     "output_type": "stream",
     "text": [
      "<re.Match object; span=(0, 1), match='a'>\n",
      "<re.Match object; span=(0, 1), match='a'>\n",
      "<re.Match object; span=(0, 1), match='a'>\n",
      "['a', 'a', 'a', 'a']\n",
      "<callable_iterator object at 0x000002B7260354C0>\n"
     ]
    }
   ],
   "source": [
    "r = re.compile(\"[abc]\")\n",
    "print(r.search(\"a\"))\n",
    "print(r.search(\"aaaaa\"))\n",
    "print(r.match(\"aaaa\"))\n",
    "print(r.findall(\"aaaa\"))"
   ]
  },
  {
   "cell_type": "code",
   "execution_count": 26,
   "id": "bcca2ee1-e9bc-4d25-ab44-09f0952b643b",
   "metadata": {},
   "outputs": [
    {
     "name": "stdout",
     "output_type": "stream",
     "text": [
      "<re.Match object; span=(0, 1), match='a'>\n",
      "<re.Match object; span=(1, 2), match='a'>\n",
      "<re.Match object; span=(2, 3), match='a'>\n",
      "<re.Match object; span=(3, 4), match='a'>\n"
     ]
    }
   ],
   "source": [
    "a = r.finditer(\"aaaa\")\n",
    "for i in a:\n",
    "    print(i)"
   ]
  },
  {
   "cell_type": "code",
   "execution_count": 27,
   "id": "2100a0e1-2be6-498e-9571-94561357c4ea",
   "metadata": {},
   "outputs": [
    {
     "ename": "TypeError",
     "evalue": "sub() missing required argument 'string' (pos 2)",
     "output_type": "error",
     "traceback": [
      "\u001b[1;31m---------------------------------------------------------------------------\u001b[0m",
      "\u001b[1;31mTypeError\u001b[0m                                 Traceback (most recent call last)",
      "Cell \u001b[1;32mIn[27], line 1\u001b[0m\n\u001b[1;32m----> 1\u001b[0m \u001b[43mr\u001b[49m\u001b[38;5;241;43m.\u001b[39;49m\u001b[43msub\u001b[49m\u001b[43m(\u001b[49m\u001b[38;5;124;43m\"\u001b[39;49m\u001b[38;5;124;43maaaa\u001b[39;49m\u001b[38;5;124;43m\"\u001b[39;49m\u001b[43m)\u001b[49m\n",
      "\u001b[1;31mTypeError\u001b[0m: sub() missing required argument 'string' (pos 2)"
     ]
    }
   ],
   "source": [
    "r.sub(\"aaaa\")"
   ]
  },
  {
   "cell_type": "code",
   "execution_count": 33,
   "id": "b5509405-7818-4199-b71b-c782138fbe7d",
   "metadata": {},
   "outputs": [
    {
     "data": {
      "text/plain": [
       "['딸기,수박,참외,메론']"
      ]
     },
     "execution_count": 33,
     "metadata": {},
     "output_type": "execute_result"
    }
   ],
   "source": [
    "text = \"딸기,수박,참외,메론\"\n",
    "re.split(\" \",text)"
   ]
  },
  {
   "cell_type": "code",
   "execution_count": 47,
   "id": "7a717432-66f2-46e1-bcbf-c107958e970b",
   "metadata": {},
   "outputs": [],
   "source": [
    "text = \"\"\"100   JOHN   name\n",
    "What l10 we30  asdf34\n",
    "\"\"\""
   ]
  },
  {
   "cell_type": "code",
   "execution_count": 43,
   "id": "5b7d026b-3f2e-41a1-85b4-77602eeb660e",
   "metadata": {},
   "outputs": [
    {
     "data": {
      "text/plain": [
       "['100', 'john', 'name', 'what', 'l10', 'we30', 'asdf34', '']"
      ]
     },
     "execution_count": 43,
     "metadata": {},
     "output_type": "execute_result"
    }
   ],
   "source": [
    "re.split('\\s+',text)"
   ]
  },
  {
   "cell_type": "code",
   "execution_count": 44,
   "id": "781203f6-5233-46df-9ae6-fb3b78a87daf",
   "metadata": {},
   "outputs": [
    {
     "data": {
      "text/plain": [
       "['100', '10', '30', '34']"
      ]
     },
     "execution_count": 44,
     "metadata": {},
     "output_type": "execute_result"
    }
   ],
   "source": [
    "re.findall('\\d+',text)"
   ]
  },
  {
   "cell_type": "code",
   "execution_count": 53,
   "id": "b5b5848e-3932-49ee-8cf3-268916ae1ee2",
   "metadata": {},
   "outputs": [
    {
     "data": {
      "text/plain": [
       "['JOHN', 'W']"
      ]
     },
     "execution_count": 53,
     "metadata": {},
     "output_type": "execute_result"
    }
   ],
   "source": [
    "re.findall('[A-Z]{1,5}',text)"
   ]
  },
  {
   "cell_type": "code",
   "execution_count": null,
   "id": "970565a8-a13f-42a6-bc1b-0abca41cb3b0",
   "metadata": {},
   "outputs": [],
   "source": [
    "vocab = {}\n",
    "preprocessed_sentences = []\n",
    "stop_words = set(stopwords.words('english'))\n",
    "\n",
    "sentences = sent_tokenize(raw_text)\n",
    "\n",
    "for sentence in sentences:\n",
    "    tokened_sentence = words_tokenize(sentence)\n",
    "    result = []\n",
    "\n",
    "    for word in tokenized:\n",
    "        word = word.lower()\n",
    "        if word not in stop_words:\n",
    "            if len(word) > 2:\n",
    "                result.append(word)\n",
    "                if word not in vocab:\n",
    "                    vocab[word] = 0\n",
    "                vocab[word] +=1\n",
    "    preprocessed_sentences.append(result)"
   ]
  }
 ],
 "metadata": {
  "kernelspec": {
   "display_name": "Python 3 (ipykernel)",
   "language": "python",
   "name": "python3"
  },
  "language_info": {
   "codemirror_mode": {
    "name": "ipython",
    "version": 3
   },
   "file_extension": ".py",
   "mimetype": "text/x-python",
   "name": "python",
   "nbconvert_exporter": "python",
   "pygments_lexer": "ipython3",
   "version": "3.9.17"
  }
 },
 "nbformat": 4,
 "nbformat_minor": 5
}
