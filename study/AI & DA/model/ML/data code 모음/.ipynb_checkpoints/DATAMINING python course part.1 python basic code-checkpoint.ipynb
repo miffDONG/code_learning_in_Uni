{
 "cells": [
  {
   "cell_type": "markdown",
   "id": "11163374",
   "metadata": {},
   "source": [
    "우선순위 고려 : (){}[]"
   ]
  },
  {
   "cell_type": "code",
   "execution_count": 1,
   "id": "e59be419",
   "metadata": {},
   "outputs": [
    {
     "name": "stdout",
     "output_type": "stream",
     "text": [
      "5\n"
     ]
    }
   ],
   "source": [
    "back_slash = 2 + \\\n",
    "3\n",
    "print(back_slash)"
   ]
  },
  {
   "cell_type": "code",
   "execution_count": 8,
   "id": "d83e2386",
   "metadata": {},
   "outputs": [
    {
     "name": "stdout",
     "output_type": "stream",
     "text": [
      "None\n"
     ]
    }
   ],
   "source": [
    "dic = {\"joel\":80, \"tim\":90}\n",
    "print(dic.get(\"kate\"))"
   ]
  },
  {
   "cell_type": "code",
   "execution_count": 11,
   "id": "6aa0e4f3",
   "metadata": {},
   "outputs": [
    {
     "ename": "AttributeError",
     "evalue": "'dict' object has no attribute 'item'",
     "output_type": "error",
     "traceback": [
      "\u001b[1;31m---------------------------------------------------------------------------\u001b[0m",
      "\u001b[1;31mAttributeError\u001b[0m                            Traceback (most recent call last)",
      "\u001b[1;32m~\\AppData\\Local\\Temp\\ipykernel_17992\\4284322574.py\u001b[0m in \u001b[0;36m<module>\u001b[1;34m\u001b[0m\n\u001b[1;32m----> 1\u001b[1;33m \u001b[0mdic\u001b[0m\u001b[1;33m.\u001b[0m\u001b[0mitem\u001b[0m\u001b[1;33m(\u001b[0m\u001b[1;33m)\u001b[0m\u001b[1;33m\u001b[0m\u001b[1;33m\u001b[0m\u001b[0m\n\u001b[0m",
      "\u001b[1;31mAttributeError\u001b[0m: 'dict' object has no attribute 'item'"
     ]
    }
   ],
   "source": [
    "dic.items()"
   ]
  },
  {
   "cell_type": "code",
   "execution_count": 13,
   "id": "3cbf7854",
   "metadata": {},
   "outputs": [
    {
     "name": "stdout",
     "output_type": "stream",
     "text": [
      "{'I': 1, 'am': 1, 'a': 1, 'bpy': 1}\n"
     ]
    }
   ],
   "source": [
    "count = {}\n",
    "a = ['I','am','a','bpy']\n",
    "\n",
    "for i in a:\n",
    "    try:\n",
    "        count[i] = +1\n",
    "    except keyerror:\n",
    "        count[i] = 1\n",
    "print(count)"
   ]
  },
  {
   "cell_type": "code",
   "execution_count": 18,
   "id": "a3051f47",
   "metadata": {},
   "outputs": [
    {
     "name": "stdout",
     "output_type": "stream",
     "text": [
      "defaultdict(<function <lambda> at 0x000001F53C57AD30>, {'I': 101, 'am': 101, 'a': 101, 'bpy': 101})\n"
     ]
    }
   ],
   "source": [
    "from collections import defaultdict\n",
    "\n",
    "word_counts = defaultdict(lambda : 100)\n",
    "\n",
    "for word in a:\n",
    "    word_counts[word] +=1\n",
    "print(word_counts)"
   ]
  },
  {
   "cell_type": "code",
   "execution_count": null,
   "id": "cc7f6924",
   "metadata": {},
   "outputs": [],
   "source": []
  },
  {
   "cell_type": "code",
   "execution_count": null,
   "id": "45b05f44",
   "metadata": {},
   "outputs": [],
   "source": []
  },
  {
   "cell_type": "code",
   "execution_count": null,
   "id": "93b7b57a",
   "metadata": {},
   "outputs": [],
   "source": []
  },
  {
   "cell_type": "code",
   "execution_count": null,
   "id": "704079cf",
   "metadata": {},
   "outputs": [],
   "source": []
  },
  {
   "cell_type": "code",
   "execution_count": null,
   "id": "8800d213",
   "metadata": {},
   "outputs": [],
   "source": []
  },
  {
   "cell_type": "code",
   "execution_count": 2,
   "id": "0b7db6c4",
   "metadata": {},
   "outputs": [],
   "source": [
    "No_BS = (1+\n",
    "         2+\n",
    "         3+\n",
    "         4+\n",
    "         5+\n",
    "         6)\n",
    "No_BS\n",
    "\n",
    "easier_to_read = [[1,2,3],\n",
    "                  [4,5,6],\n",
    "                  [7,8,9]]"
   ]
  },
  {
   "cell_type": "markdown",
   "id": "19711cb6",
   "metadata": {},
   "source": [
    "### MODULES"
   ]
  },
  {
   "cell_type": "code",
   "execution_count": 3,
   "id": "d4c03e51",
   "metadata": {},
   "outputs": [
    {
     "data": {
      "text/plain": [
       "re.compile(r'[0-9]+', re.IGNORECASE|re.UNICODE)"
      ]
     },
     "execution_count": 3,
     "metadata": {},
     "output_type": "execute_result"
    }
   ],
   "source": [
    "import re\n",
    "re.compile(\"[0-9]+\",re.I)"
   ]
  },
  {
   "cell_type": "code",
   "execution_count": 4,
   "id": "73cf4155",
   "metadata": {},
   "outputs": [],
   "source": [
    "from collections import defaultdict, Counter\n"
   ]
  },
  {
   "cell_type": "code",
   "execution_count": 5,
   "id": "4069c80e",
   "metadata": {},
   "outputs": [
    {
     "data": {
      "text/plain": [
       "defaultdict(int, {'key1': 0, 'key2': 'str'})"
      ]
     },
     "execution_count": 5,
     "metadata": {},
     "output_type": "execute_result"
    }
   ],
   "source": [
    "int_dict = defaultdict(int)\n",
    "int_dict['key1']\n",
    "int_dict['key2']='str'\n",
    "int_dict"
   ]
  },
  {
   "cell_type": "code",
   "execution_count": 6,
   "id": "64d2e51b",
   "metadata": {},
   "outputs": [
    {
     "data": {
      "text/plain": [
       "defaultdict(int,\n",
       "            {'d': 2,\n",
       "             'o': 2,\n",
       "             'n': 2,\n",
       "             'g': 2,\n",
       "             \"'\": 1,\n",
       "             's': 1,\n",
       "             ' ': 2,\n",
       "             'f': 1,\n",
       "             'a': 1,\n",
       "             't': 1,\n",
       "             'e': 1,\n",
       "             'r': 1})"
      ]
     },
     "execution_count": 6,
     "metadata": {},
     "output_type": "execute_result"
    }
   ],
   "source": [
    "letter = 'dongdong\\'s fater '\n",
    "\n",
    "letter_dict = defaultdict(int)\n",
    "for let in letter:\n",
    "    letter_dict[let]+=1\n",
    "letter_dict"
   ]
  },
  {
   "cell_type": "code",
   "execution_count": null,
   "id": "23e860dc",
   "metadata": {},
   "outputs": [],
   "source": []
  },
  {
   "cell_type": "code",
   "execution_count": 15,
   "id": "953959d6",
   "metadata": {},
   "outputs": [
    {
     "data": {
      "text/plain": [
       "defaultdict(int, {'kim': 2, 'kang': 1})"
      ]
     },
     "execution_count": 15,
     "metadata": {},
     "output_type": "execute_result"
    }
   ],
   "source": [
    "name_list = [('kim','hyundong'),('kang','hodong'),('kim','yuna')]\n",
    "\n",
    "### (default 값 입력)\n",
    "name_dict = defaultdict(list)\n",
    "name_dic = defaultdict(int)\n",
    "for k,v in name_list:\n",
    "    name_dict[k].append(v)\n",
    "    name_dic[k]+=1\n",
    "name_dict\n",
    "name_dic"
   ]
  },
  {
   "cell_type": "code",
   "execution_count": 16,
   "id": "33a93f27",
   "metadata": {},
   "outputs": [
    {
     "name": "stdout",
     "output_type": "stream",
     "text": [
      "2\n"
     ]
    }
   ],
   "source": [
    "##함수 인자로 함수를>????\n",
    "\n",
    "def double(x):\n",
    "    return x*2\n",
    "\n",
    "def apply_to_one(f):\n",
    "    return f(1)\n",
    "    \n",
    "y = apply_to_one(double)\n",
    "\n",
    "print(y)\n"
   ]
  },
  {
   "cell_type": "markdown",
   "id": "1a2a80ea",
   "metadata": {},
   "source": [
    "### Lambda function"
   ]
  },
  {
   "cell_type": "code",
   "execution_count": 17,
   "id": "e61ae54f",
   "metadata": {},
   "outputs": [
    {
     "ename": "TypeError",
     "evalue": "'int' object is not callable",
     "output_type": "error",
     "traceback": [
      "\u001b[1;31m---------------------------------------------------------------------------\u001b[0m",
      "\u001b[1;31mTypeError\u001b[0m                                 Traceback (most recent call last)",
      "\u001b[1;32m~\\AppData\\Local\\Temp\\ipykernel_14188\\4232181346.py\u001b[0m in \u001b[0;36m<module>\u001b[1;34m\u001b[0m\n\u001b[0;32m      1\u001b[0m \u001b[0my_r\u001b[0m \u001b[1;33m=\u001b[0m \u001b[0mapply_to_one\u001b[0m\u001b[1;33m(\u001b[0m\u001b[1;32mlambda\u001b[0m \u001b[0mw\u001b[0m \u001b[1;33m:\u001b[0m \u001b[0mw\u001b[0m\u001b[1;33m+\u001b[0m\u001b[1;36m4\u001b[0m\u001b[1;33m)\u001b[0m\u001b[1;33m\u001b[0m\u001b[1;33m\u001b[0m\u001b[0m\n\u001b[0;32m      2\u001b[0m \u001b[1;33m\u001b[0m\u001b[0m\n\u001b[1;32m----> 3\u001b[1;33m \u001b[0mprint\u001b[0m\u001b[1;33m(\u001b[0m\u001b[0my_r\u001b[0m\u001b[1;33m(\u001b[0m\u001b[1;36m5\u001b[0m\u001b[1;33m)\u001b[0m\u001b[1;33m)\u001b[0m\u001b[1;33m\u001b[0m\u001b[1;33m\u001b[0m\u001b[0m\n\u001b[0m",
      "\u001b[1;31mTypeError\u001b[0m: 'int' object is not callable"
     ]
    }
   ],
   "source": [
    "y_r = apply_to_one(lambda w : w+4)\n",
    "\n",
    "print(y_r(5))"
   ]
  },
  {
   "cell_type": "markdown",
   "id": "174772bf",
   "metadata": {},
   "source": [
    "Lambda example"
   ]
  },
  {
   "cell_type": "code",
   "execution_count": 18,
   "id": "a87a6d81",
   "metadata": {},
   "outputs": [
    {
     "data": {
      "text/plain": [
       "120"
      ]
     },
     "execution_count": 18,
     "metadata": {},
     "output_type": "execute_result"
    }
   ],
   "source": [
    "# list(map(lambda x:x**2,range(5)))\n",
    "\n",
    "a=[1,2,3,4,5]\n",
    "b=[4,5,6,7,8]\n",
    "from functools import reduce\n",
    "\n",
    "#x*y x와 y의 각각의 list를 계산하고 싶은데 어떻게 하징\n",
    "\n",
    "reduce(lambda x,y:x*y,[1,2,3,4,5])"
   ]
  },
  {
   "cell_type": "code",
   "execution_count": null,
   "id": "8f0f4434",
   "metadata": {},
   "outputs": [],
   "source": [
    "import re as regex\n",
    "my_regex = regex.compile(\"[0-9]+\", regex.I)\n",
    "\n",
    "# re module을 regex로 표현하겠다.\n",
    "# as를 안 쓸경우 re.function"
   ]
  },
  {
   "cell_type": "code",
   "execution_count": null,
   "id": "6f9bac5a",
   "metadata": {},
   "outputs": [],
   "source": [
    "from collections import defaultdict\n",
    "\n",
    "help(defaultdict)"
   ]
  },
  {
   "cell_type": "code",
   "execution_count": null,
   "id": "516baf4d",
   "metadata": {},
   "outputs": [],
   "source": [
    "def double(x):\n",
    "    return x * 2\n",
    "\n",
    "double(2)"
   ]
  },
  {
   "cell_type": "code",
   "execution_count": null,
   "id": "4394096b",
   "metadata": {},
   "outputs": [],
   "source": [
    "#예외처리 try, except, else, finally\n",
    "\n",
    "#기본 try except \n",
    "try:\n",
    "    print(5/0)\n",
    "except:\n",
    "    print('this is wrong division, Think one more time')\n",
    "\n",
    "# else\n",
    "# 오류 발생 시 except와 반대로 작동.\n",
    "# 오류나면 except 정상작동 하면 else\n",
    "\n",
    "else: \n",
    "    print('right division')\n",
    "\n",
    "finally:\n",
    "    print('그래서 이 값 어디다가 쓸건데')"
   ]
  },
  {
   "cell_type": "code",
   "execution_count": null,
   "id": "f404bab3",
   "metadata": {},
   "outputs": [],
   "source": [
    "#error 남 \n",
    "\n",
    "try:\n",
    "    age = int(input())\n",
    "    if age < 0:\n",
    "        raise NotImplementedError:\n",
    "            \n",
    "    print(age)\n",
    "except NotImplemetedError:\n",
    "    print('NotImplementedError')"
   ]
  },
  {
   "cell_type": "code",
   "execution_count": null,
   "id": "521a4631",
   "metadata": {},
   "outputs": [],
   "source": [
    "### list 활용\n",
    "\n",
    "integer_list = [1,2,3]\n",
    "list =[\"string\",0.1,True]\n",
    "#list를 2차원 list로 변경하기 가능.\n",
    "list_of_list = [integer_list,list,[]]\n",
    "print(list_of_list)"
   ]
  },
  {
   "cell_type": "code",
   "execution_count": null,
   "id": "fa6e42de",
   "metadata": {},
   "outputs": [],
   "source": []
  },
  {
   "cell_type": "code",
   "execution_count": null,
   "id": "f00691b5",
   "metadata": {},
   "outputs": [],
   "source": [
    "#list 확장방법\n",
    "x=[0,1,2,3,4,5,6,7,8,9]\n",
    "\n",
    "x.extend([10,11,12,13])\n",
    "x\n",
    "x+=[1,2,3]\n",
    "x"
   ]
  },
  {
   "cell_type": "code",
   "execution_count": null,
   "id": "44602e9a",
   "metadata": {},
   "outputs": [],
   "source": [
    "# return에 따른 결과\n",
    "\n",
    "# return 2개 됌 \n",
    "def sum_and_product(x,y):\n",
    "    return (x+y),(x*y)\n",
    "\n",
    "# 결과를 받는 변수가 몇개인지에 따라 해당 변수의 type 결정됌\n",
    "\n",
    "# int \n",
    "s,p = sum_and_product(2,3)\n",
    "print(s,p)\n",
    "\n",
    "# tuple\n",
    "t = sum_and_product(2,3)\n",
    "print(t)"
   ]
  },
  {
   "cell_type": "code",
   "execution_count": null,
   "id": "aa203185",
   "metadata": {},
   "outputs": [],
   "source": [
    "#tuple\n",
    "\n",
    "my_tuple = (1,2,3,4,5)\n",
    "\n",
    "my_tuple"
   ]
  },
  {
   "cell_type": "markdown",
   "id": "0e267bff",
   "metadata": {},
   "source": [
    "\n",
    "\n",
    "dictionary\n",
    "\n"
   ]
  },
  {
   "cell_type": "code",
   "execution_count": null,
   "id": "9606a3ad",
   "metadata": {},
   "outputs": [],
   "source": [
    "# 생성 \n",
    "a = dict()\n",
    "b = {}\n",
    "grades ={'hyundong':19, 'sdf':20}\n",
    "\n",
    "print(a,b,grades)\n",
    "\n",
    "#특징\n",
    "# key값이 겹치면 가장 최근 update 된 내용이 value로 들어감.\n",
    "\n",
    "print(grades['hyundong'])\n",
    "\n",
    "print(grades.values())\n",
    "\n",
    "print(grades.keys())\n",
    "\n",
    "print(grades.get(grades))"
   ]
  },
  {
   "cell_type": "code",
   "execution_count": null,
   "id": "94237ff3",
   "metadata": {},
   "outputs": [],
   "source": [
    "def apply_to_one(f):\n",
    "    return f(1)\n",
    "\n",
    "my_double = double\n",
    "x = apply_to_one(my_double)\n",
    "\n",
    "print(x)"
   ]
  },
  {
   "cell_type": "code",
   "execution_count": null,
   "id": "79658a71",
   "metadata": {},
   "outputs": [],
   "source": [
    "import random\n",
    "lottery = range(60)\n",
    "winning_num = random.sample(lottery,6)\n",
    "\n",
    "print(winning_num)"
   ]
  },
  {
   "cell_type": "code",
   "execution_count": null,
   "id": "490a4ca2",
   "metadata": {},
   "outputs": [],
   "source": [
    "#split(\"[\\n]+\")  + 기호 pattern 생성\n",
    "\n",
    "#text pattern help(re) -> . ^ $\n",
    "import re\n",
    "print(all([\n",
    "    not re.match(\"a\", \"cat\"),\n",
    "    re.search(\"a\",\"cat\"),\n",
    "]))"
   ]
  },
  {
   "cell_type": "code",
   "execution_count": null,
   "id": "075f78e2",
   "metadata": {},
   "outputs": [],
   "source": [
    "help(re)"
   ]
  },
  {
   "cell_type": "code",
   "execution_count": null,
   "id": "662bfbc1",
   "metadata": {},
   "outputs": [],
   "source": [
    "import re\n",
    "\n",
    "#\n",
    "print(re.search(\"ast\", \"astasdfa d 123 sgkfd ast\"))"
   ]
  },
  {
   "cell_type": "code",
   "execution_count": null,
   "id": "dbe81625",
   "metadata": {},
   "outputs": [],
   "source": [
    "list1 = ['a','b','z']\n",
    "list2 = [1,2,3]\n",
    "list3 = ['!','@','#']\n",
    "#zip 묶고 풀고\n",
    "t=list(zip(list1,list2,list3))\n",
    "a,b,c = zip(*t)\n",
    "print(b)"
   ]
  },
  {
   "cell_type": "code",
   "execution_count": null,
   "id": "a3364039",
   "metadata": {},
   "outputs": [],
   "source": []
  },
  {
   "cell_type": "code",
   "execution_count": 25,
   "id": "7500788c",
   "metadata": {},
   "outputs": [
    {
     "data": {
      "text/plain": [
       "{'I': 2, 'am': 1, 'a': 1, 'boy': 1, 'love': 1, 'you': 1}"
      ]
     },
     "execution_count": 25,
     "metadata": {},
     "output_type": "execute_result"
    }
   ],
   "source": [
    "#dict 생성 또는 value 변경\n",
    "#key가 없었으면 생성 존재하면 변경\n",
    "\n",
    "\n",
    "documents = ['I','am','a','boy']\n",
    "pl = ['I','love','you']\n",
    "documents += pl\n",
    "\n",
    "\n",
    "# 방법 변화\n",
    "# 1. if else, word_counts에 key 존재하면 value+=1\n",
    "# 2. try except \"\n",
    "\n",
    "# 3. .get(key, default 값)\n",
    "word_counts = {}\n",
    "for word in documents:\n",
    "    now_counts = word_counts.get(word,0)\n",
    "    word_counts[word] = now_counts+1\n",
    "word_counts\n",
    "        \n"
   ]
  },
  {
   "cell_type": "markdown",
   "id": "82a79b07",
   "metadata": {},
   "source": [
    "defaultdict"
   ]
  },
  {
   "cell_type": "code",
   "execution_count": 28,
   "id": "4b51164b",
   "metadata": {},
   "outputs": [
    {
     "name": "stdout",
     "output_type": "stream",
     "text": [
      "defaultdict(<class 'int'>, {'I': 2, 'am': 1, 'a': 1, 'boy': 1, 'love': 1, 'you': 1})\n",
      "Counter({'I': 2, 'am': 1, 'a': 1, 'boy': 1, 'love': 1, 'you': 1})\n"
     ]
    }
   ],
   "source": [
    "from collections import defaultdict,Counter\n",
    "\n",
    "word_co = defaultdict(int)\n",
    "for word in documents:\n",
    "    word_co[word]+=1\n",
    "    \n",
    "print(word_co)\n",
    "\n",
    "#will use it to create histogram\n",
    "\n",
    "word_counts = Counter(documents)\n",
    "print(word_counts)"
   ]
  },
  {
   "cell_type": "code",
   "execution_count": null,
   "id": "c0307887",
   "metadata": {},
   "outputs": [],
   "source": [
    "dd_dict = defaultdict(dict)\n",
    "dd_dict['joel']['city'] = \"Seatle\"\n",
    "\n",
    "dd_dict"
   ]
  },
  {
   "cell_type": "code",
   "execution_count": 23,
   "id": "4396ece4",
   "metadata": {},
   "outputs": [
    {
     "data": {
      "text/plain": [
       "defaultdict(list, {2: [1]})"
      ]
     },
     "execution_count": 23,
     "metadata": {},
     "output_type": "execute_result"
    }
   ],
   "source": [
    "#다른 자료형의 defaultdict는 되는데 왜 list는 안 될까\n",
    "dd_list = defaultdict(list)\n",
    "dd_list[2].append(1)\n",
    "\n",
    "dd_list"
   ]
  },
  {
   "cell_type": "code",
   "execution_count": 37,
   "id": "39eec38f",
   "metadata": {},
   "outputs": [
    {
     "data": {
      "text/plain": [
       "'odd'"
      ]
     },
     "execution_count": 37,
     "metadata": {},
     "output_type": "execute_result"
    }
   ],
   "source": [
    "# def parity(x):\n",
    "#     return \"even\" if x%2 == 0 else \"odd\"\n",
    "\n",
    "x=1\n",
    "\"even\" if x%2 == 0 else \"odd\""
   ]
  },
  {
   "cell_type": "code",
   "execution_count": 41,
   "id": "1ed6986e",
   "metadata": {},
   "outputs": [
    {
     "name": "stdout",
     "output_type": "stream",
     "text": [
      "None\n"
     ]
    }
   ],
   "source": [
    "False\n",
    "print(None)"
   ]
  },
  {
   "cell_type": "code",
   "execution_count": 43,
   "id": "e1b94502",
   "metadata": {},
   "outputs": [
    {
     "name": "stdout",
     "output_type": "stream",
     "text": [
      "a\n"
     ]
    }
   ],
   "source": [
    "s = 'abc'\n",
    "if s:\n",
    "    first_char = s[0]\n",
    "else:\n",
    "    first_char = \"\"\n",
    "    \n",
    "print(first_char)"
   ]
  },
  {
   "cell_type": "code",
   "execution_count": 46,
   "id": "b98bdbef",
   "metadata": {},
   "outputs": [
    {
     "data": {
      "text/plain": [
       "{0: 0, 1: 1, 2: 4, 3: 9, 4: 16}"
      ]
     },
     "execution_count": 46,
     "metadata": {},
     "output_type": "execute_result"
    }
   ],
   "source": [
    "square_dict = { x : x*x for x in range(5)}\n",
    "square_dict"
   ]
  },
  {
   "cell_type": "code",
   "execution_count": 50,
   "id": "5522e56f",
   "metadata": {},
   "outputs": [
    {
     "name": "stdout",
     "output_type": "stream",
     "text": [
      "[0, 0, 0]\n"
     ]
    },
    {
     "data": {
      "text/plain": [
       "{0}"
      ]
     },
     "execution_count": 50,
     "metadata": {},
     "output_type": "execute_result"
    }
   ],
   "source": [
    "even_numbers = [x for x in range(5) if x%2==0]\n",
    "\n",
    "zeroes = [0 for _ in even_numbers]\n",
    "\n",
    "print(zeroes)\n",
    "set(zeroes)"
   ]
  },
  {
   "cell_type": "code",
   "execution_count": 54,
   "id": "e17fb037",
   "metadata": {},
   "outputs": [
    {
     "data": {
      "text/plain": [
       "[(0, 1),\n",
       " (0, 2),\n",
       " (0, 3),\n",
       " (0, 4),\n",
       " (0, 5),\n",
       " (0, 6),\n",
       " (0, 7),\n",
       " (0, 8),\n",
       " (0, 9),\n",
       " (1, 2),\n",
       " (1, 3),\n",
       " (1, 4),\n",
       " (1, 5),\n",
       " (1, 6),\n",
       " (1, 7),\n",
       " (1, 8),\n",
       " (1, 9),\n",
       " (2, 3),\n",
       " (2, 4),\n",
       " (2, 5),\n",
       " (2, 6),\n",
       " (2, 7),\n",
       " (2, 8),\n",
       " (2, 9),\n",
       " (3, 4),\n",
       " (3, 5),\n",
       " (3, 6),\n",
       " (3, 7),\n",
       " (3, 8),\n",
       " (3, 9),\n",
       " (4, 5),\n",
       " (4, 6),\n",
       " (4, 7),\n",
       " (4, 8),\n",
       " (4, 9),\n",
       " (5, 6),\n",
       " (5, 7),\n",
       " (5, 8),\n",
       " (5, 9),\n",
       " (6, 7),\n",
       " (6, 8),\n",
       " (6, 9),\n",
       " (7, 8),\n",
       " (7, 9),\n",
       " (8, 9)]"
      ]
     },
     "execution_count": 54,
     "metadata": {},
     "output_type": "execute_result"
    }
   ],
   "source": [
    "pairs = [(x,y) for x in range(10) for y in range(x+1, 10)]\n",
    "\n",
    "pairs"
   ]
  },
  {
   "cell_type": "code",
   "execution_count": null,
   "id": "d655f2f7",
   "metadata": {},
   "outputs": [],
   "source": [
    "### 21page부터 다시"
   ]
  },
  {
   "cell_type": "code",
   "execution_count": 57,
   "id": "815f70cd",
   "metadata": {},
   "outputs": [
    {
     "name": "stdout",
     "output_type": "stream",
     "text": [
      "0\n",
      "1\n",
      "2\n",
      "3\n",
      "4\n",
      "5\n",
      "6\n",
      "7\n",
      "8\n",
      "9\n"
     ]
    }
   ],
   "source": [
    "def lazy_range(n):\n",
    "    i=0\n",
    "    while i < n:\n",
    "        yield i\n",
    "        i += 1\n",
    "        \n",
    "for i in lazy_range(10):\n",
    "    print(i)"
   ]
  },
  {
   "cell_type": "code",
   "execution_count": 14,
   "id": "6e6f6fb8",
   "metadata": {},
   "outputs": [
    {
     "ename": "NameError",
     "evalue": "name 'lazy_range' is not defined",
     "output_type": "error",
     "traceback": [
      "\u001b[1;31m---------------------------------------------------------------------------\u001b[0m",
      "\u001b[1;31mNameError\u001b[0m                                 Traceback (most recent call last)",
      "\u001b[1;32m~\\AppData\\Local\\Temp\\ipykernel_11844\\2982332153.py\u001b[0m in \u001b[0;36m<module>\u001b[1;34m\u001b[0m\n\u001b[0;32m      1\u001b[0m \u001b[1;31m# yield 저장 안되는 값\u001b[0m\u001b[1;33m\u001b[0m\u001b[1;33m\u001b[0m\u001b[0m\n\u001b[0;32m      2\u001b[0m \u001b[1;31m# 값 쓰고 메모리 삭제\u001b[0m\u001b[1;33m\u001b[0m\u001b[1;33m\u001b[0m\u001b[0m\n\u001b[1;32m----> 3\u001b[1;33m \u001b[1;32mfor\u001b[0m \u001b[0mi\u001b[0m \u001b[1;32min\u001b[0m \u001b[0mlazy_range\u001b[0m\u001b[1;33m(\u001b[0m\u001b[1;36m10000\u001b[0m\u001b[1;33m)\u001b[0m\u001b[1;33m:\u001b[0m\u001b[1;33m\u001b[0m\u001b[1;33m\u001b[0m\u001b[0m\n\u001b[0m\u001b[0;32m      4\u001b[0m     \u001b[1;32mif\u001b[0m \u001b[0mi\u001b[0m \u001b[1;33m==\u001b[0m \u001b[1;36m3\u001b[0m\u001b[1;33m:\u001b[0m \u001b[1;32mbreak\u001b[0m\u001b[1;33m\u001b[0m\u001b[1;33m\u001b[0m\u001b[0m\n\u001b[0;32m      5\u001b[0m     \u001b[0mprint\u001b[0m\u001b[1;33m(\u001b[0m\u001b[0mi\u001b[0m\u001b[1;33m)\u001b[0m\u001b[1;33m\u001b[0m\u001b[1;33m\u001b[0m\u001b[0m\n",
      "\u001b[1;31mNameError\u001b[0m: name 'lazy_range' is not defined"
     ]
    }
   ],
   "source": [
    "# yield 저장 안되는 값 \n",
    "# 값 쓰고 메모리 삭제 \n",
    "for i in lazy_range(10000):\n",
    "    if i == 3: break\n",
    "    print(i)"
   ]
  },
  {
   "cell_type": "code",
   "execution_count": 1,
   "id": "27500501",
   "metadata": {},
   "outputs": [
    {
     "ename": "NameError",
     "evalue": "name 'lazy_range' is not defined",
     "output_type": "error",
     "traceback": [
      "\u001b[1;31m---------------------------------------------------------------------------\u001b[0m",
      "\u001b[1;31mNameError\u001b[0m                                 Traceback (most recent call last)",
      "\u001b[1;32m~\\AppData\\Local\\Temp\\ipykernel_14332\\2111491683.py\u001b[0m in \u001b[0;36m<module>\u001b[1;34m\u001b[0m\n\u001b[0;32m      1\u001b[0m \u001b[1;31m#generator 활용\u001b[0m\u001b[1;33m\u001b[0m\u001b[1;33m\u001b[0m\u001b[0m\n\u001b[0;32m      2\u001b[0m \u001b[1;31m#사용할때는 next(변수) function\u001b[0m\u001b[1;33m\u001b[0m\u001b[1;33m\u001b[0m\u001b[0m\n\u001b[1;32m----> 3\u001b[1;33m \u001b[0mt\u001b[0m \u001b[1;33m=\u001b[0m \u001b[0mlazy_range\u001b[0m\u001b[1;33m(\u001b[0m\u001b[1;36m3\u001b[0m\u001b[1;33m)\u001b[0m\u001b[1;33m\u001b[0m\u001b[1;33m\u001b[0m\u001b[0m\n\u001b[0m\u001b[0;32m      4\u001b[0m \u001b[0mnext\u001b[0m\u001b[1;33m(\u001b[0m\u001b[0mt\u001b[0m\u001b[1;33m)\u001b[0m\u001b[1;33m\u001b[0m\u001b[1;33m\u001b[0m\u001b[0m\n\u001b[0;32m      5\u001b[0m \u001b[0mnext\u001b[0m\u001b[1;33m(\u001b[0m\u001b[0mt\u001b[0m\u001b[1;33m)\u001b[0m\u001b[1;33m\u001b[0m\u001b[1;33m\u001b[0m\u001b[0m\n",
      "\u001b[1;31mNameError\u001b[0m: name 'lazy_range' is not defined"
     ]
    }
   ],
   "source": [
    "#generator 활용\n",
    "#사용할때는 next(변수) function \n",
    "t = lazy_range(3)\n",
    "next(t)\n",
    "next(t)"
   ]
  },
  {
   "cell_type": "code",
   "execution_count": 6,
   "id": "098cb293",
   "metadata": {},
   "outputs": [
    {
     "name": "stdout",
     "output_type": "stream",
     "text": [
      "0\n",
      "1\n",
      "2\n"
     ]
    }
   ],
   "source": [
    "for k in range(10000):\n",
    "    if k == 3 : break\n",
    "    print(k)"
   ]
  },
  {
   "cell_type": "code",
   "execution_count": 12,
   "id": "e114d474",
   "metadata": {},
   "outputs": [
    {
     "data": {
      "text/plain": [
       "[0, 2, 4, 6, 8]"
      ]
     },
     "execution_count": 12,
     "metadata": {},
     "output_type": "execute_result"
    }
   ],
   "source": [
    "lazy_evens =  list(i for i in range(10) if i % 2 == 0)\n",
    "lazy_evens"
   ]
  },
  {
   "cell_type": "code",
   "execution_count": 13,
   "id": "ca832f7e",
   "metadata": {},
   "outputs": [],
   "source": [
    "import random"
   ]
  },
  {
   "cell_type": "code",
   "execution_count": null,
   "id": "345fdb05",
   "metadata": {},
   "outputs": [],
   "source": []
  },
  {
   "cell_type": "code",
   "execution_count": null,
   "id": "1f7d054e",
   "metadata": {},
   "outputs": [],
   "source": []
  },
  {
   "cell_type": "code",
   "execution_count": null,
   "id": "37df0c41",
   "metadata": {},
   "outputs": [],
   "source": []
  },
  {
   "cell_type": "code",
   "execution_count": null,
   "id": "e17904d1",
   "metadata": {},
   "outputs": [],
   "source": []
  },
  {
   "cell_type": "code",
   "execution_count": null,
   "id": "cff90025",
   "metadata": {},
   "outputs": [],
   "source": []
  },
  {
   "cell_type": "code",
   "execution_count": null,
   "id": "def6ead1",
   "metadata": {},
   "outputs": [],
   "source": []
  },
  {
   "cell_type": "code",
   "execution_count": null,
   "id": "8237d65a",
   "metadata": {},
   "outputs": [],
   "source": []
  },
  {
   "cell_type": "code",
   "execution_count": null,
   "id": "28c860c5",
   "metadata": {},
   "outputs": [],
   "source": []
  }
 ],
 "metadata": {
  "kernelspec": {
   "display_name": "Python 3 (ipykernel)",
   "language": "python",
   "name": "python3"
  },
  "language_info": {
   "codemirror_mode": {
    "name": "ipython",
    "version": 3
   },
   "file_extension": ".py",
   "mimetype": "text/x-python",
   "name": "python",
   "nbconvert_exporter": "python",
   "pygments_lexer": "ipython3",
   "version": "3.9.13"
  }
 },
 "nbformat": 4,
 "nbformat_minor": 5
}
