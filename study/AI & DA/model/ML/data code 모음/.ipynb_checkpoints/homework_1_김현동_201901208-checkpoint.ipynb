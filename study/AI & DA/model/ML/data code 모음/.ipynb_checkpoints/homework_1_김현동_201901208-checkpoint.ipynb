{
 "cells": [
  {
   "cell_type": "markdown",
   "metadata": {},
   "source": [
    "# Homework 1. Frequent itemset"
   ]
  },
  {
   "cell_type": "markdown",
   "metadata": {},
   "source": [
    "***Double Click here to edit this cell***\n",
    "\n",
    "- Name: \n",
    "- Student ID: \n",
    "- Submission date: "
   ]
  },
  {
   "cell_type": "markdown",
   "metadata": {},
   "source": [
    "\n",
    "#### We want to practice the python skills in Chap 2 Crash course\n",
    "#### *Remark. Do not use numpy, pandas, sklearn, or any module implementing the solution directly. If you use them, you get 0 point*"
   ]
  },
  {
   "cell_type": "markdown",
   "metadata": {},
   "source": [
    "## Frequent itemset\n",
    "- ***Support*** is an indication of how frequently the itemset $X$ appears in the dataset $T$.\n",
    "- The support of X with respect to T is defined as the proportion of transactions t in the dataset which contains the itemset X.\n",
    "\n",
    "$$\n",
    "{\\displaystyle \\mathrm {supp} (X)={\\frac {|\\{t\\in T;X\\subseteq t\\}|}{|T|}}} \n",
    "$$\n",
    "\n",
    "- Frequent itemset is an itemset whose support $\\ge$ ***min_sup***."
   ]
  },
  {
   "cell_type": "markdown",
   "metadata": {},
   "source": [
    "## Data set\n",
    "\n",
    "- Each line in the following can be imagined as a market basket, which contains items you buy."
   ]
  },
  {
   "cell_type": "code",
   "execution_count": 1,
   "metadata": {},
   "outputs": [],
   "source": [
    "# DO NOT EDIT THIS CELL\n",
    "data_str = 'apple,beer,rice,chicken\\n'\n",
    "data_str += 'apple,beer,rice\\n'\n",
    "data_str += 'apple,beer\\n'\n",
    "data_str += 'apple,mango\\n'\n",
    "data_str += 'milk,beer,rice,chicken\\n'\n",
    "data_str += 'milk,beer,rice\\n'\n",
    "data_str += 'milk,beer\\n'\n",
    "data_str += 'milk,mango'"
   ]
  },
  {
   "cell_type": "markdown",
   "metadata": {},
   "source": [
    "## Problem 1 (2 pts)\n",
    "\n",
    "- Define a function ***record_gen*** generating a list of items each ***next***.\n",
    "- It must be a generator.\n",
    "- Use ***yield*** instead of ***return***"
   ]
  },
  {
   "cell_type": "code",
   "execution_count": 2,
   "metadata": {
    "hide_input": false
   },
   "outputs": [],
   "source": [
    "# YOUR CODE MUST BE HERE\n",
    "\n",
    "\n",
    "\n"
   ]
  },
  {
   "cell_type": "code",
   "execution_count": 3,
   "metadata": {},
   "outputs": [
    {
     "name": "stdout",
     "output_type": "stream",
     "text": [
      "['apple', 'beer', 'chicken', 'rice']\n"
     ]
    }
   ],
   "source": [
    "# DO NOT EDIT THIS CELL\n",
    "test = gen_record(data_str)\n",
    "print(sorted(next(test)))"
   ]
  },
  {
   "cell_type": "markdown",
   "metadata": {},
   "source": [
    "**Your output must be:**\n",
    "```\n",
    "['apple', 'beer', 'chicken', 'rice']\n",
    "```"
   ]
  },
  {
   "cell_type": "code",
   "execution_count": 4,
   "metadata": {},
   "outputs": [
    {
     "name": "stdout",
     "output_type": "stream",
     "text": [
      "['apple', 'beer', 'rice']\n"
     ]
    }
   ],
   "source": [
    "# DO NOT EDIT THIS CELL\n",
    "print(sorted(next(test)))"
   ]
  },
  {
   "cell_type": "markdown",
   "metadata": {},
   "source": [
    "**Your output must be:**\n",
    "```\n",
    "['apple', 'beer', 'rice']\n",
    "```"
   ]
  },
  {
   "cell_type": "markdown",
   "metadata": {},
   "source": [
    "## Problem 2 (10 pts)\n",
    "\n",
    "- Define a function ***gen_frequent_1_itemset*** generating 1-itemset.\n",
    "- It must be a generator.\n",
    "- We want to find frequent 1-itemset (itemset containing only 1 item)\n",
    "- Use \"set, reduce, or map\" at least once\n",
    "- Your output must be a sorted list of items"
   ]
  },
  {
   "cell_type": "code",
   "execution_count": 5,
   "metadata": {},
   "outputs": [],
   "source": [
    "# YOUR CODE MUST BE HERE\n",
    "\n",
    "\n",
    "\n",
    "\n",
    "\n",
    "\n",
    "\n"
   ]
  },
  {
   "cell_type": "code",
   "execution_count": 6,
   "metadata": {
    "scrolled": true
   },
   "outputs": [
    {
     "name": "stdout",
     "output_type": "stream",
     "text": [
      "['apple', 'beer', 'milk', 'rice']\n"
     ]
    }
   ],
   "source": [
    "# DO NOT EDIT THIS CELL\n",
    "dataset = list(gen_record(data_str))\n",
    "print(sorted(list(gen_frequent_1_itemset(dataset, 0.5))))"
   ]
  },
  {
   "cell_type": "markdown",
   "metadata": {},
   "source": [
    "**Your output must be (sorted list):**\n",
    "```\n",
    "['apple', 'beer', 'milk', 'rice']\n",
    "```"
   ]
  },
  {
   "cell_type": "code",
   "execution_count": 7,
   "metadata": {},
   "outputs": [
    {
     "name": "stdout",
     "output_type": "stream",
     "text": [
      "['beer']\n"
     ]
    }
   ],
   "source": [
    "# DO NOT EDIT THIS CELL\n",
    "dataset = list(gen_record(data_str))\n",
    "print(sorted(list(gen_frequent_1_itemset(dataset, 0.7))))"
   ]
  },
  {
   "cell_type": "markdown",
   "metadata": {},
   "source": [
    "**Your output must be (sorted list):**\n",
    "```\n",
    "['beer']\n",
    "```"
   ]
  },
  {
   "cell_type": "code",
   "execution_count": 8,
   "metadata": {
    "hide_input": false
   },
   "outputs": [
    {
     "name": "stdout",
     "output_type": "stream",
     "text": [
      "['apple', 'beer', 'chicken', 'mango', 'milk', 'rice']\n"
     ]
    }
   ],
   "source": [
    "# DO NOT EDIT THIS CELL\n",
    "dataset = list(gen_record(data_str))\n",
    "print(sorted(list(gen_frequent_1_itemset(dataset, 0.2))))"
   ]
  },
  {
   "cell_type": "markdown",
   "metadata": {},
   "source": [
    "**Your output must be (sorted list):**\n",
    "```\n",
    "['apple', 'beer', 'chicken', 'mango', 'milk', 'rice']\n",
    "```"
   ]
  },
  {
   "cell_type": "markdown",
   "metadata": {},
   "source": [
    "## Problem 3 (10 pts)\n",
    "\n",
    "- Define a function ***gen_frequent_2_itemset*** generating 2-itemset.\n",
    "- It must be a generator.\n",
    "- We want to find frequent 2-itemset (itemset containing only 2 items)\n",
    "- Use \"set, reduce, or map\" at least once\n",
    "- Your output must be a sorted list of sorted 2-tuple"
   ]
  },
  {
   "cell_type": "code",
   "execution_count": 9,
   "metadata": {},
   "outputs": [],
   "source": [
    "# YOUR CODE MUST BE HERE\n",
    "\n",
    "\n",
    "\n",
    "\n",
    "\n",
    "\n",
    "\n",
    "\n"
   ]
  },
  {
   "cell_type": "code",
   "execution_count": 10,
   "metadata": {},
   "outputs": [
    {
     "name": "stdout",
     "output_type": "stream",
     "text": [
      "[('beer', 'rice')]\n"
     ]
    }
   ],
   "source": [
    "# DO NOT EDIT THIS CELL\n",
    "dataset = list(gen_record(data_str))\n",
    "print(sorted(list(gen_frequent_2_itemset(dataset, 0.5))))"
   ]
  },
  {
   "cell_type": "markdown",
   "metadata": {},
   "source": [
    "**Your output must be:**\n",
    "```\n",
    "[('beer', 'rice')]\n",
    "```"
   ]
  },
  {
   "cell_type": "code",
   "execution_count": 11,
   "metadata": {},
   "outputs": [
    {
     "name": "stdout",
     "output_type": "stream",
     "text": [
      "[('apple', 'beer'), ('beer', 'milk'), ('beer', 'rice')]\n"
     ]
    }
   ],
   "source": [
    "# DO NOT EDIT THIS CELL\n",
    "dataset = list(gen_record(data_str))\n",
    "print(sorted(list(gen_frequent_2_itemset(dataset, 0.3))))"
   ]
  },
  {
   "cell_type": "markdown",
   "metadata": {},
   "source": [
    "**Your output must be:**\n",
    "```\n",
    "[('apple', 'beer'), ('beer', 'milk'), ('beer', 'rice')]\n",
    "```"
   ]
  },
  {
   "cell_type": "code",
   "execution_count": 12,
   "metadata": {},
   "outputs": [
    {
     "name": "stdout",
     "output_type": "stream",
     "text": [
      "[('apple', 'beer'), ('apple', 'rice'), ('beer', 'chicken'), ('beer', 'milk'), ('beer', 'rice'), ('chicken', 'rice'), ('milk', 'rice')]\n"
     ]
    }
   ],
   "source": [
    "# DO NOT EDIT THIS CELL\n",
    "dataset = list(gen_record(data_str))\n",
    "print(sorted(list(gen_frequent_2_itemset(dataset, 0.2))))"
   ]
  },
  {
   "cell_type": "markdown",
   "metadata": {},
   "source": [
    "**Your output must be:**\n",
    "```\n",
    "[('apple', 'beer'), ('apple', 'rice'), ('beer', 'chicken'), ('beer', 'milk'), ('beer', 'rice'), ('chicken', 'rice'), ('milk', 'rice')]\n",
    "```"
   ]
  },
  {
   "cell_type": "markdown",
   "metadata": {},
   "source": [
    "## Problem 4 (10 pts)\n",
    "\n",
    "- Define a function ***gen_frequent_3_itemset*** generating 3-itemset.\n",
    "- It must be a generator.\n",
    "- We want to find frequent 3-itemset (itemset containing only 3 items)\n",
    "- Use \"set, reduce, or map\" at least once\n",
    "- Your output must be a sorted list of sorted 3-tuple"
   ]
  },
  {
   "cell_type": "code",
   "execution_count": 13,
   "metadata": {},
   "outputs": [],
   "source": [
    "# YOUR CODE MUST BE HERE\n",
    "\n",
    "\n",
    "\n",
    "\n",
    "\n",
    "\n",
    "\n",
    "\n",
    "\n",
    "\n",
    "\n",
    "\n"
   ]
  },
  {
   "cell_type": "code",
   "execution_count": 14,
   "metadata": {},
   "outputs": [
    {
     "name": "stdout",
     "output_type": "stream",
     "text": [
      "[('apple', 'beer', 'rice'), ('beer', 'chicken', 'rice'), ('beer', 'milk', 'rice')]\n"
     ]
    }
   ],
   "source": [
    "# DO NOT EDIT THIS CELL\n",
    "dataset = list(gen_record(data_str))\n",
    "print(sorted(list(gen_frequent_3_itemset(dataset, 0.25))))"
   ]
  },
  {
   "cell_type": "markdown",
   "metadata": {},
   "source": [
    "**Your output must be:**\n",
    "```\n",
    "[('apple', 'beer', 'rice'), ('beer', 'chicken', 'rice'), ('beer', 'milk', 'rice')]\n",
    "```"
   ]
  },
  {
   "cell_type": "code",
   "execution_count": 15,
   "metadata": {},
   "outputs": [
    {
     "name": "stdout",
     "output_type": "stream",
     "text": [
      "[('apple', 'beer', 'chicken'), ('apple', 'beer', 'rice'), ('apple', 'chicken', 'rice'), ('beer', 'chicken', 'milk'), ('beer', 'chicken', 'rice'), ('beer', 'milk', 'rice'), ('chicken', 'milk', 'rice')]\n"
     ]
    }
   ],
   "source": [
    "# DO NOT EDIT THIS CELL\n",
    "dataset = list(gen_record(data_str))\n",
    "print(sorted(list(gen_frequent_3_itemset(dataset, 0.1))))"
   ]
  },
  {
   "cell_type": "markdown",
   "metadata": {},
   "source": [
    "**Your output must be:**\n",
    "```\n",
    "[('apple', 'beer', 'chicken'), ('apple', 'beer', 'rice'), ('apple', 'chicken', 'rice'), ('beer', 'chicken', 'milk'), ('beer', 'chicken', 'rice'), ('beer', 'milk', 'rice'), ('chicken', 'milk', 'rice')]\n",
    "```"
   ]
  },
  {
   "cell_type": "code",
   "execution_count": 16,
   "metadata": {},
   "outputs": [
    {
     "name": "stdout",
     "output_type": "stream",
     "text": [
      "[]\n"
     ]
    }
   ],
   "source": [
    "# DO NOT EDIT THIS CELL\n",
    "dataset = list(gen_record(data_str))\n",
    "print(sorted(list(gen_frequent_3_itemset(dataset, 0.3))))"
   ]
  },
  {
   "cell_type": "markdown",
   "metadata": {},
   "source": [
    "**Your output must be:**\n",
    "```\n",
    "[]\n",
    "```"
   ]
  },
  {
   "cell_type": "markdown",
   "metadata": {},
   "source": [
    "## Problem 5 (20 pts)\n",
    "\n",
    "- We want to check the performance of your implementation\n",
    "- bread_basket.csv must be in the folder of this notebook"
   ]
  },
  {
   "cell_type": "code",
   "execution_count": 17,
   "metadata": {},
   "outputs": [],
   "source": [
    "import pandas as pd\n",
    "bread = pd.read_csv('bread_basket.csv')"
   ]
  },
  {
   "cell_type": "code",
   "execution_count": 18,
   "metadata": {},
   "outputs": [
    {
     "data": {
      "text/html": [
       "<div>\n",
       "<style scoped>\n",
       "    .dataframe tbody tr th:only-of-type {\n",
       "        vertical-align: middle;\n",
       "    }\n",
       "\n",
       "    .dataframe tbody tr th {\n",
       "        vertical-align: top;\n",
       "    }\n",
       "\n",
       "    .dataframe thead th {\n",
       "        text-align: right;\n",
       "    }\n",
       "</style>\n",
       "<table border=\"1\" class=\"dataframe\">\n",
       "  <thead>\n",
       "    <tr style=\"text-align: right;\">\n",
       "      <th></th>\n",
       "      <th>Transaction</th>\n",
       "      <th>Item</th>\n",
       "      <th>date_time</th>\n",
       "      <th>period_day</th>\n",
       "      <th>weekday_weekend</th>\n",
       "    </tr>\n",
       "  </thead>\n",
       "  <tbody>\n",
       "    <tr>\n",
       "      <th>0</th>\n",
       "      <td>1</td>\n",
       "      <td>Bread</td>\n",
       "      <td>30-10-2016 09:58</td>\n",
       "      <td>morning</td>\n",
       "      <td>weekend</td>\n",
       "    </tr>\n",
       "    <tr>\n",
       "      <th>1</th>\n",
       "      <td>2</td>\n",
       "      <td>Scandinavian</td>\n",
       "      <td>30-10-2016 10:05</td>\n",
       "      <td>morning</td>\n",
       "      <td>weekend</td>\n",
       "    </tr>\n",
       "    <tr>\n",
       "      <th>2</th>\n",
       "      <td>2</td>\n",
       "      <td>Scandinavian</td>\n",
       "      <td>30-10-2016 10:05</td>\n",
       "      <td>morning</td>\n",
       "      <td>weekend</td>\n",
       "    </tr>\n",
       "    <tr>\n",
       "      <th>3</th>\n",
       "      <td>3</td>\n",
       "      <td>Hot chocolate</td>\n",
       "      <td>30-10-2016 10:07</td>\n",
       "      <td>morning</td>\n",
       "      <td>weekend</td>\n",
       "    </tr>\n",
       "    <tr>\n",
       "      <th>4</th>\n",
       "      <td>3</td>\n",
       "      <td>Jam</td>\n",
       "      <td>30-10-2016 10:07</td>\n",
       "      <td>morning</td>\n",
       "      <td>weekend</td>\n",
       "    </tr>\n",
       "  </tbody>\n",
       "</table>\n",
       "</div>"
      ],
      "text/plain": [
       "   Transaction           Item         date_time period_day weekday_weekend\n",
       "0            1          Bread  30-10-2016 09:58    morning         weekend\n",
       "1            2   Scandinavian  30-10-2016 10:05    morning         weekend\n",
       "2            2   Scandinavian  30-10-2016 10:05    morning         weekend\n",
       "3            3  Hot chocolate  30-10-2016 10:07    morning         weekend\n",
       "4            3            Jam  30-10-2016 10:07    morning         weekend"
      ]
     },
     "execution_count": 18,
     "metadata": {},
     "output_type": "execute_result"
    }
   ],
   "source": [
    "bread.head()"
   ]
  },
  {
   "cell_type": "code",
   "execution_count": 19,
   "metadata": {},
   "outputs": [
    {
     "data": {
      "text/html": [
       "<div>\n",
       "<style scoped>\n",
       "    .dataframe tbody tr th:only-of-type {\n",
       "        vertical-align: middle;\n",
       "    }\n",
       "\n",
       "    .dataframe tbody tr th {\n",
       "        vertical-align: top;\n",
       "    }\n",
       "\n",
       "    .dataframe thead th {\n",
       "        text-align: right;\n",
       "    }\n",
       "</style>\n",
       "<table border=\"1\" class=\"dataframe\">\n",
       "  <thead>\n",
       "    <tr style=\"text-align: right;\">\n",
       "      <th></th>\n",
       "      <th>Transaction</th>\n",
       "      <th>Item</th>\n",
       "    </tr>\n",
       "  </thead>\n",
       "  <tbody>\n",
       "    <tr>\n",
       "      <th>0</th>\n",
       "      <td>1</td>\n",
       "      <td>Bread</td>\n",
       "    </tr>\n",
       "    <tr>\n",
       "      <th>1</th>\n",
       "      <td>2</td>\n",
       "      <td>Scandinavian</td>\n",
       "    </tr>\n",
       "    <tr>\n",
       "      <th>2</th>\n",
       "      <td>2</td>\n",
       "      <td>Scandinavian</td>\n",
       "    </tr>\n",
       "    <tr>\n",
       "      <th>3</th>\n",
       "      <td>3</td>\n",
       "      <td>Hot chocolate</td>\n",
       "    </tr>\n",
       "    <tr>\n",
       "      <th>4</th>\n",
       "      <td>3</td>\n",
       "      <td>Jam</td>\n",
       "    </tr>\n",
       "    <tr>\n",
       "      <th>5</th>\n",
       "      <td>3</td>\n",
       "      <td>Cookies</td>\n",
       "    </tr>\n",
       "    <tr>\n",
       "      <th>6</th>\n",
       "      <td>4</td>\n",
       "      <td>Muffin</td>\n",
       "    </tr>\n",
       "    <tr>\n",
       "      <th>7</th>\n",
       "      <td>5</td>\n",
       "      <td>Coffee</td>\n",
       "    </tr>\n",
       "    <tr>\n",
       "      <th>8</th>\n",
       "      <td>5</td>\n",
       "      <td>Pastry</td>\n",
       "    </tr>\n",
       "    <tr>\n",
       "      <th>9</th>\n",
       "      <td>5</td>\n",
       "      <td>Bread</td>\n",
       "    </tr>\n",
       "  </tbody>\n",
       "</table>\n",
       "</div>"
      ],
      "text/plain": [
       "   Transaction           Item\n",
       "0            1          Bread\n",
       "1            2   Scandinavian\n",
       "2            2   Scandinavian\n",
       "3            3  Hot chocolate\n",
       "4            3            Jam\n",
       "5            3        Cookies\n",
       "6            4         Muffin\n",
       "7            5         Coffee\n",
       "8            5         Pastry\n",
       "9            5          Bread"
      ]
     },
     "execution_count": 19,
     "metadata": {},
     "output_type": "execute_result"
    }
   ],
   "source": [
    "bread_transactions = bread[[\"Transaction\", \"Item\"]]\n",
    "bread_transactions.head(10)"
   ]
  },
  {
   "cell_type": "code",
   "execution_count": 20,
   "metadata": {
    "scrolled": false
   },
   "outputs": [
    {
     "data": {
      "text/html": [
       "<div>\n",
       "<style scoped>\n",
       "    .dataframe tbody tr th:only-of-type {\n",
       "        vertical-align: middle;\n",
       "    }\n",
       "\n",
       "    .dataframe tbody tr th {\n",
       "        vertical-align: top;\n",
       "    }\n",
       "\n",
       "    .dataframe thead th {\n",
       "        text-align: right;\n",
       "    }\n",
       "</style>\n",
       "<table border=\"1\" class=\"dataframe\">\n",
       "  <thead>\n",
       "    <tr style=\"text-align: right;\">\n",
       "      <th></th>\n",
       "      <th>Transaction</th>\n",
       "      <th>Item</th>\n",
       "    </tr>\n",
       "  </thead>\n",
       "  <tbody>\n",
       "    <tr>\n",
       "      <th>20497</th>\n",
       "      <td>9681</td>\n",
       "      <td>Tea</td>\n",
       "    </tr>\n",
       "    <tr>\n",
       "      <th>20498</th>\n",
       "      <td>9681</td>\n",
       "      <td>Spanish Brunch</td>\n",
       "    </tr>\n",
       "    <tr>\n",
       "      <th>20499</th>\n",
       "      <td>9681</td>\n",
       "      <td>Christmas common</td>\n",
       "    </tr>\n",
       "    <tr>\n",
       "      <th>20500</th>\n",
       "      <td>9682</td>\n",
       "      <td>Muffin</td>\n",
       "    </tr>\n",
       "    <tr>\n",
       "      <th>20501</th>\n",
       "      <td>9682</td>\n",
       "      <td>Tacos/Fajita</td>\n",
       "    </tr>\n",
       "    <tr>\n",
       "      <th>20502</th>\n",
       "      <td>9682</td>\n",
       "      <td>Coffee</td>\n",
       "    </tr>\n",
       "    <tr>\n",
       "      <th>20503</th>\n",
       "      <td>9682</td>\n",
       "      <td>Tea</td>\n",
       "    </tr>\n",
       "    <tr>\n",
       "      <th>20504</th>\n",
       "      <td>9683</td>\n",
       "      <td>Coffee</td>\n",
       "    </tr>\n",
       "    <tr>\n",
       "      <th>20505</th>\n",
       "      <td>9683</td>\n",
       "      <td>Pastry</td>\n",
       "    </tr>\n",
       "    <tr>\n",
       "      <th>20506</th>\n",
       "      <td>9684</td>\n",
       "      <td>Smoothies</td>\n",
       "    </tr>\n",
       "  </tbody>\n",
       "</table>\n",
       "</div>"
      ],
      "text/plain": [
       "       Transaction              Item\n",
       "20497         9681               Tea\n",
       "20498         9681    Spanish Brunch\n",
       "20499         9681  Christmas common\n",
       "20500         9682            Muffin\n",
       "20501         9682      Tacos/Fajita\n",
       "20502         9682            Coffee\n",
       "20503         9682               Tea\n",
       "20504         9683            Coffee\n",
       "20505         9683            Pastry\n",
       "20506         9684         Smoothies"
      ]
     },
     "execution_count": 20,
     "metadata": {},
     "output_type": "execute_result"
    }
   ],
   "source": [
    "bread_transactions.tail(10)"
   ]
  },
  {
   "cell_type": "code",
   "execution_count": 21,
   "metadata": {
    "scrolled": true
   },
   "outputs": [
    {
     "data": {
      "text/plain": [
       "(20507, 2)"
      ]
     },
     "execution_count": 21,
     "metadata": {},
     "output_type": "execute_result"
    }
   ],
   "source": [
    "bread_transactions.shape"
   ]
  },
  {
   "cell_type": "code",
   "execution_count": 22,
   "metadata": {},
   "outputs": [
    {
     "data": {
      "text/plain": [
       "[[1, 'Bread'],\n",
       " [2, 'Scandinavian'],\n",
       " [2, 'Scandinavian'],\n",
       " [3, 'Hot chocolate'],\n",
       " [3, 'Jam'],\n",
       " [3, 'Cookies'],\n",
       " [4, 'Muffin'],\n",
       " [5, 'Coffee'],\n",
       " [5, 'Pastry'],\n",
       " [5, 'Bread']]"
      ]
     },
     "execution_count": 22,
     "metadata": {},
     "output_type": "execute_result"
    }
   ],
   "source": [
    "bread_transactions_list = bread_transactions.values.tolist()\n",
    "bread_transactions_list[:10]"
   ]
  },
  {
   "cell_type": "code",
   "execution_count": 23,
   "metadata": {},
   "outputs": [
    {
     "data": {
      "text/plain": [
       "[[7133, 'Cookies'],\n",
       " [1386, 'Coffee'],\n",
       " [8216, 'Coffee'],\n",
       " [7305, 'Chicken Stew'],\n",
       " [9015, 'Soup'],\n",
       " [5208, 'Coke'],\n",
       " [8846, 'Coffee'],\n",
       " [2077, 'Bread'],\n",
       " [7106, 'Sandwich'],\n",
       " [421, 'Bread']]"
      ]
     },
     "execution_count": 23,
     "metadata": {},
     "output_type": "execute_result"
    }
   ],
   "source": [
    "import random\n",
    "random.shuffle(bread_transactions_list)\n",
    "bread_transactions_list[:10]"
   ]
  },
  {
   "cell_type": "markdown",
   "metadata": {},
   "source": [
    "### Transform bread_transactions_list to bread_dataset, which is a list of lists of items"
   ]
  },
  {
   "cell_type": "code",
   "execution_count": 24,
   "metadata": {},
   "outputs": [],
   "source": [
    "# YOUR CODE MUST BE HERE\n",
    "\n",
    "\n",
    "\n",
    "\n",
    "\n",
    "\n"
   ]
  },
  {
   "cell_type": "code",
   "execution_count": null,
   "metadata": {},
   "outputs": [],
   "source": [
    "# DO NOT EDIT THIS CELL\n",
    "\n",
    "import time\n",
    "start = time.time()\n",
    "print(sorted(list(gen_frequent_3_itemset(bread_dataset, min_sup=0.01))))\n",
    "end = time.time()\n",
    "\n",
    "lapse = end - start\n",
    "total = 10\n",
    "weight = 1.5\n",
    "grace = 6.0\n",
    "my_point = int(total / (weight ** (lapse // grace)))\n",
    "print(f'Total time taken : {lapse} seconds')\n",
    "print(f'My point is {my_point}')"
   ]
  },
  {
   "cell_type": "markdown",
   "metadata": {
    "hide_input": false
   },
   "source": [
    "**Your output must be (total time taken must be around 4 seconds. Your point depends on time taken):**\n",
    "```\n",
    "[('Bread', 'Cake', 'Coffee'), ('Bread', 'Coffee', 'Pastry'), ('Cake', 'Coffee', 'Tea')]\n",
    "Total time taken : 4.363343238830566 seconds\n",
    "My point is 10\n",
    "```"
   ]
  },
  {
   "cell_type": "code",
   "execution_count": null,
   "metadata": {},
   "outputs": [],
   "source": [
    "# DO NOT EDIT THIS CELL\n",
    "\n",
    "import time\n",
    "start = time.time()\n",
    "print(sorted(list(gen_frequent_2_itemset(bread_dataset, min_sup=0.03))))\n",
    "end = time.time()\n",
    "\n",
    "lapse = end - start\n",
    "total = 10\n",
    "weight = 1.5\n",
    "grace = 2.0\n",
    "my_point = int(total / (weight ** (lapse // grace)))\n",
    "print(f'Total time taken : {lapse} seconds')\n",
    "print(f'My point is {my_point}')"
   ]
  },
  {
   "cell_type": "markdown",
   "metadata": {},
   "source": [
    "**Your output must be (total time taken must be around 1.5 seconds. Your point depends on time taken):**\n",
    "```\n",
    "[('Bread', 'Coffee'), ('Cake', 'Coffee'), ('Coffee', 'Medialuna'), ('Coffee', 'Pastry'), ('Coffee', 'Sandwich'), ('Coffee', 'Tea')]\n",
    "Total time taken : 1.4521141052246094 seconds\n",
    "My point is 10\n",
    "```"
   ]
  },
  {
   "cell_type": "markdown",
   "metadata": {},
   "source": [
    "## Ethics:\n",
    "If you cheat, you will get negative of the total points.\n",
    "If the homework total is 22 and you cheat, you get -22."
   ]
  },
  {
   "cell_type": "markdown",
   "metadata": {},
   "source": [
    "## What to submit\n",
    "\n",
    "- Run **all cells** after restarting the kernel\n",
    "- Goto \"File -> Print Preview\"\n",
    "- Print the page as pdf\n",
    "- Submit the pdf file in google classroom\n",
    "- Pdf file name must be in a form of: homework_1_홍길동_202300001.pdf\n",
    "- No late homeworks will be accepted\n",
    "- Your homework will be graded on the basis of correctness, performance, and programming skills"
   ]
  }
 ],
 "metadata": {
  "celltoolbar": "Slideshow",
  "hide_input": false,
  "kernelspec": {
   "display_name": "Python 3",
   "language": "python",
   "name": "python3"
  },
  "language_info": {
   "codemirror_mode": {
    "name": "ipython",
    "version": 3
   },
   "file_extension": ".py",
   "mimetype": "text/x-python",
   "name": "python",
   "nbconvert_exporter": "python",
   "pygments_lexer": "ipython3",
   "version": "3.7.3"
  }
 },
 "nbformat": 4,
 "nbformat_minor": 2
}
