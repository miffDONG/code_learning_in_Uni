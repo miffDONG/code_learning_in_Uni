{
 "cells": [
  {
   "cell_type": "code",
   "execution_count": 2,
   "id": "55620353",
   "metadata": {},
   "outputs": [
    {
     "data": {
      "text/plain": [
       "array([[-4.00562909e-01,  1.70796574e-01],\n",
       "       [-1.03671202e+00, -3.82958080e-01],\n",
       "       [ 4.23370355e-02, -1.64816445e-01],\n",
       "       [-9.06914314e-01,  1.58967596e+00],\n",
       "       [ 8.64094390e-01, -6.07061923e-01],\n",
       "       [-1.10489004e+00, -8.45461390e-01],\n",
       "       [ 1.01680008e+00, -1.52837811e+00],\n",
       "       [ 1.51868433e-01, -7.58467841e-01],\n",
       "       [-2.58773244e-01, -9.13508005e-01],\n",
       "       [ 1.21488429e+00, -8.16730062e-01],\n",
       "       [ 9.38810394e-01,  1.27813296e-01],\n",
       "       [ 1.67542868e+00, -7.73923816e-01],\n",
       "       [-4.23809591e-01, -2.67651541e-01],\n",
       "       [-7.10769672e-02, -7.71242594e-01],\n",
       "       [-8.64667348e-01, -9.46343052e-02],\n",
       "       [ 4.93163180e-01, -9.40242609e-01],\n",
       "       [-1.67852240e+00,  4.81776339e-01],\n",
       "       [-1.02528638e-02, -6.12778512e-01],\n",
       "       [-6.45540585e-01, -1.34012499e+00],\n",
       "       [ 1.27469388e-01, -1.25317757e-01],\n",
       "       [ 2.10236732e-02, -1.33170075e+00],\n",
       "       [ 2.50582791e-01, -1.08418061e+00],\n",
       "       [-1.57864168e+00,  1.18437829e+00],\n",
       "       [-9.63257391e-01, -6.73565301e-02],\n",
       "       [-1.33753907e+00, -3.14912992e-01],\n",
       "       [ 1.63653841e-01, -6.62382551e-01],\n",
       "       [-3.21756970e-01,  2.78624721e-01],\n",
       "       [-6.76425735e-01, -3.30037709e-01],\n",
       "       [-8.10809528e-01,  6.14196177e-01],\n",
       "       [ 1.34837610e+00,  1.08282111e+00],\n",
       "       [-1.02581890e+00, -6.32235529e-01],\n",
       "       [ 1.14892907e+00, -4.85120501e-01],\n",
       "       [ 5.03792770e-01, -8.60804285e-01],\n",
       "       [ 5.15296038e-01,  6.96766197e-01],\n",
       "       [ 1.45780748e+00,  7.29235901e-01],\n",
       "       [ 3.74840929e-02, -1.01160175e-01],\n",
       "       [-5.85117819e-01,  7.33984159e-01],\n",
       "       [-2.00196836e-01, -1.72009259e-01],\n",
       "       [ 6.26693912e-01, -2.85208033e-01],\n",
       "       [-1.87683343e+00,  1.44476477e+00],\n",
       "       [ 7.29230522e-01, -6.61233942e-01],\n",
       "       [-6.05554263e-01, -4.48217550e-02],\n",
       "       [ 3.62246354e-01, -2.34178295e+00],\n",
       "       [ 1.11704615e-01,  1.60823404e-02],\n",
       "       [-1.22915440e+00,  1.04474653e+00],\n",
       "       [ 1.36843312e+00, -1.82299083e+00],\n",
       "       [-1.96830587e-01,  9.87846752e-01],\n",
       "       [ 7.50443013e-01, -6.61396021e-01],\n",
       "       [ 6.90392428e-01,  2.06749312e+00],\n",
       "       [-1.52419297e+00, -3.02866692e+00],\n",
       "       [ 4.02615718e-01,  7.81765315e-02],\n",
       "       [ 7.84930649e-01,  6.15170602e-01],\n",
       "       [ 7.72003540e-01, -3.16847793e-01],\n",
       "       [ 3.12683458e-02,  3.31778026e-01],\n",
       "       [-1.18109451e+00, -4.58806434e-01],\n",
       "       [-1.44616084e+00, -6.20194768e-02],\n",
       "       [-9.47193806e-02,  9.49154540e-01],\n",
       "       [ 6.44933488e-01, -1.37667310e+00],\n",
       "       [ 6.77294228e-01, -1.84056506e+00],\n",
       "       [ 7.97972159e-01, -9.82818686e-01],\n",
       "       [ 3.25251713e+00,  6.32190249e-01],\n",
       "       [ 9.88600765e-01,  3.69769034e-01],\n",
       "       [-4.33331926e-01,  1.99760479e+00],\n",
       "       [-1.53436202e-01,  5.08597560e-01],\n",
       "       [ 1.26192017e-01, -1.12289946e+00],\n",
       "       [ 1.26759941e+00,  8.06057822e-01],\n",
       "       [ 1.12959554e+00, -2.30392991e-01],\n",
       "       [ 1.94325823e+00, -6.59749620e-01],\n",
       "       [-4.61026103e-01, -7.69067559e-01],\n",
       "       [-4.09821602e-01,  2.90786349e-02],\n",
       "       [-1.13757680e-01, -8.16189698e-01],\n",
       "       [ 3.48431406e-01, -1.57359523e+00],\n",
       "       [ 4.80404484e-01,  1.13371795e+00],\n",
       "       [ 6.84320921e-01, -1.61935308e-01],\n",
       "       [ 3.20523248e-01, -1.42867718e+00],\n",
       "       [-1.62608197e+00, -4.24804240e-01],\n",
       "       [-4.46184534e-01, -2.12574362e-01],\n",
       "       [ 8.34037456e-01,  1.57031801e+00],\n",
       "       [-7.40861620e-02,  9.44196924e-01],\n",
       "       [-9.24081135e-01, -9.37026464e-01],\n",
       "       [-7.62203072e-01,  1.26770971e+00],\n",
       "       [ 1.01554677e+00, -2.32781658e+00],\n",
       "       [ 4.72318123e-01, -4.68667590e-01],\n",
       "       [ 4.72538946e-01, -3.84148478e-01],\n",
       "       [ 1.66630730e+00,  6.49401592e-01],\n",
       "       [ 1.32234855e+00, -8.87361641e-01],\n",
       "       [ 2.17305875e-01, -7.90022446e-01],\n",
       "       [-1.13987303e+00, -1.49117946e+00],\n",
       "       [ 1.27385537e+00, -1.44409958e+00],\n",
       "       [ 5.02585524e-01, -1.08212602e+00],\n",
       "       [ 2.66911730e-01,  7.62553393e-01],\n",
       "       [-5.54729390e-01,  1.13688796e+00],\n",
       "       [ 1.21315571e-03,  8.02624099e-01],\n",
       "       [ 6.88897512e-01, -3.02304448e-01],\n",
       "       [-5.13570428e-01,  1.77605583e+00],\n",
       "       [ 6.45898842e-01, -7.66568403e-02],\n",
       "       [ 3.16297643e-01,  1.02478235e+00],\n",
       "       [-4.58937655e-01, -1.61437564e+00],\n",
       "       [-1.40730856e-01,  1.22223298e+00],\n",
       "       [ 9.47650703e-01, -6.03796298e-01]])"
      ]
     },
     "execution_count": 2,
     "metadata": {},
     "output_type": "execute_result"
    }
   ],
   "source": [
    "import numpy as np\n",
    "np.random.randn(100,2)"
   ]
  },
  {
   "cell_type": "markdown",
   "id": "02862ec2",
   "metadata": {},
   "source": [
    "### median\n",
    "\n",
    "##### quantile : 일정한 크기를 기준으로 data 처리\n",
    "\n",
    "\n",
    "##### percentile : 백분위 0% 최소값 100% 최대값 \n",
    "\n",
    "# make mode of numpy version  \n",
    "만들어보기 \n",
    "\n",
    "de_mean() 평균과 모든 value에 대한 거리,평균을 0으로 \n",
    "\n",
    "np.ptp() : peak to peak\n",
    "\n",
    "dot() Sum of Squares\n",
    "\n",
    "covariance 방향성. 같은 선상. 같은 방향이면 양으로, 다른 방향이면 음으로, 상관 없으면(내적이 0) 0\n",
    "\n",
    "\n"
   ]
  },
  {
   "cell_type": "code",
   "execution_count": 1,
   "id": "e18ddbf5",
   "metadata": {},
   "outputs": [
    {
     "name": "stdout",
     "output_type": "stream",
     "text": [
      "Help on class zip in module builtins:\n",
      "\n",
      "class zip(object)\n",
      " |  zip(*iterables) --> A zip object yielding tuples until an input is exhausted.\n",
      " |  \n",
      " |     >>> list(zip('abcdefg', range(3), range(4)))\n",
      " |     [('a', 0, 0), ('b', 1, 1), ('c', 2, 2)]\n",
      " |  \n",
      " |  The zip object yields n-length tuples, where n is the number of iterables\n",
      " |  passed as positional arguments to zip().  The i-th element in every tuple\n",
      " |  comes from the i-th iterable argument to zip().  This continues until the\n",
      " |  shortest argument is exhausted.\n",
      " |  \n",
      " |  Methods defined here:\n",
      " |  \n",
      " |  __getattribute__(self, name, /)\n",
      " |      Return getattr(self, name).\n",
      " |  \n",
      " |  __iter__(self, /)\n",
      " |      Implement iter(self).\n",
      " |  \n",
      " |  __next__(self, /)\n",
      " |      Implement next(self).\n",
      " |  \n",
      " |  __reduce__(...)\n",
      " |      Return state information for pickling.\n",
      " |  \n",
      " |  ----------------------------------------------------------------------\n",
      " |  Static methods defined here:\n",
      " |  \n",
      " |  __new__(*args, **kwargs) from builtins.type\n",
      " |      Create and return a new object.  See help(type) for accurate signature.\n",
      "\n"
     ]
    }
   ],
   "source": [
    "help(zip)"
   ]
  },
  {
   "cell_type": "code",
   "execution_count": 21,
   "id": "36ca9b26",
   "metadata": {},
   "outputs": [
    {
     "data": {
      "image/png": "[encoded data removed]",
      "text/plain": [
       "<Figure size 640x480 with 1 Axes>"
      ]
     },
     "metadata": {},
     "output_type": "display_data"
    }
   ],
   "source": [
    "\n",
    "%matplotlib inline\n",
    "\n",
    "import matplotlib.pyplot as plt\n",
    "import numpy as np\n",
    "\n",
    "def plot_medoid(data):\n",
    "    # 점 그래프 그리기\n",
    "    plt.scatter(data[:,0],data[:,1])\n",
    "    \n",
    "    medoid = np.median(data,axis=0)\n",
    "    # 평균 좌표에 빨간색 네모 점 그리기\n",
    "    plt.scatter(medoid[0], medoid[1], color='red', marker='s')\n",
    "    \n",
    "    # 그래프 보여주기\n",
    "    plt.show()\n",
    "\n",
    "\n",
    "np.random.seed(0)\n",
    "data = np.random.randn(10,2)\n",
    "plot_medoid(data)"
   ]
  },
  {
   "cell_type": "code",
   "execution_count": null,
   "id": "daa8b9c5",
   "metadata": {},
   "outputs": [],
   "source": []
  },
  {
   "cell_type": "code",
   "execution_count": 24,
   "id": "0acf6669",
   "metadata": {},
   "outputs": [
    {
     "data": {
      "image/png": "[encoded data removed]",
      "text/plain": [
       "<Figure size 640x480 with 1 Axes>"
      ]
     },
     "metadata": {},
     "output_type": "display_data"
    }
   ],
   "source": [
    "import matplotlib.pyplot as plt\n",
    "import numpy as np\n",
    "np.random.seed(0)\n",
    "a = np.random.randn(10,2)\n",
    "# a=np.array([[1.1,1.2],[2.11,2.1],[3.1,3.2]])\n",
    "plt.plot(a[:,0],a[:,1],'o')\n",
    "medoid = np.median(a,axis=0)\n",
    "plt.plot(medoid[0],medoid[1],'s',color='red')\n",
    "plt.show()"
   ]
  },
  {
   "cell_type": "code",
   "execution_count": null,
   "id": "96eb5731",
   "metadata": {},
   "outputs": [],
   "source": []
  },
  {
   "cell_type": "code",
   "execution_count": null,
   "id": "d4611104",
   "metadata": {},
   "outputs": [],
   "source": []
  },
  {
   "cell_type": "code",
   "execution_count": null,
   "id": "f073d770",
   "metadata": {},
   "outputs": [],
   "source": []
  }
 ],
 "metadata": {
  "kernelspec": {
   "display_name": "Python 3 (ipykernel)",
   "language": "python",
   "name": "python3"
  },
  "language_info": {
   "codemirror_mode": {
    "name": "ipython",
    "version": 3
   },
   "file_extension": ".py",
   "mimetype": "text/x-python",
   "name": "python",
   "nbconvert_exporter": "python",
   "pygments_lexer": "ipython3",
   "version": "3.9.13"
  }
 },
 "nbformat": 4,
 "nbformat_minor": 5
}
