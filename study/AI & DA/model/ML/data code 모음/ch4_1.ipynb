{
 "cells": [
  {
   "cell_type": "markdown",
   "id": "b67511f3",
   "metadata": {},
   "source": [
    "# plt.axis() 범위 지정 \n",
    " \n",
    " argument - x.min , x.max , y.min , y.max \n",
    " \n",
    "# \n"
   ]
  },
  {
   "cell_type": "code",
   "execution_count": 1,
   "id": "fd176cb4",
   "metadata": {},
   "outputs": [
    {
     "ename": "NameError",
     "evalue": "name 'oneDIm' is not defined",
     "output_type": "error",
     "traceback": [
      "\u001b[1;31m---------------------------------------------------------------------------\u001b[0m",
      "\u001b[1;31mNameError\u001b[0m                                 Traceback (most recent call last)",
      "\u001b[1;32m~\\AppData\\Local\\Temp\\ipykernel_19716\\2224341805.py\u001b[0m in \u001b[0;36m<module>\u001b[1;34m\u001b[0m\n\u001b[0;32m      4\u001b[0m \u001b[1;31m#np.float np.int\u001b[0m\u001b[1;33m\u001b[0m\u001b[1;33m\u001b[0m\u001b[0m\n\u001b[0;32m      5\u001b[0m \u001b[0moneDim\u001b[0m \u001b[1;33m=\u001b[0m \u001b[0mnp\u001b[0m\u001b[1;33m.\u001b[0m\u001b[0marray\u001b[0m\u001b[1;33m(\u001b[0m\u001b[1;33m[\u001b[0m\u001b[1;36m1.0\u001b[0m\u001b[1;33m,\u001b[0m\u001b[1;36m2\u001b[0m\u001b[1;33m,\u001b[0m\u001b[1;36m3\u001b[0m\u001b[1;33m,\u001b[0m\u001b[1;36m4\u001b[0m\u001b[1;33m,\u001b[0m\u001b[1;36m5\u001b[0m\u001b[1;33m]\u001b[0m\u001b[1;33m)\u001b[0m\u001b[1;33m\u001b[0m\u001b[1;33m\u001b[0m\u001b[0m\n\u001b[1;32m----> 6\u001b[1;33m \u001b[0mprint\u001b[0m\u001b[1;33m(\u001b[0m\u001b[0moneDIm\u001b[0m\u001b[1;33m)\u001b[0m\u001b[1;33m\u001b[0m\u001b[1;33m\u001b[0m\u001b[0m\n\u001b[0m\u001b[0;32m      7\u001b[0m \u001b[0mprint\u001b[0m\u001b[1;33m(\u001b[0m\u001b[1;34m\"Dimensinos=\"\u001b[0m\u001b[1;33m,\u001b[0m \u001b[0moneDim\u001b[0m\u001b[1;33m.\u001b[0m\u001b[0mndim\u001b[0m\u001b[1;33m)\u001b[0m \u001b[1;31m#몇 차원 배열?\u001b[0m\u001b[1;33m\u001b[0m\u001b[1;33m\u001b[0m\u001b[0m\n\u001b[0;32m      8\u001b[0m \u001b[0mprint\u001b[0m\u001b[1;33m(\u001b[0m\u001b[1;34m\"Dimension=\"\u001b[0m\u001b[1;33m,\u001b[0m\u001b[0moneDim\u001b[0m\u001b[1;33m.\u001b[0m\u001b[0mshape\u001b[0m\u001b[1;33m)\u001b[0m \u001b[1;31m# 몇 * 몇? tuple 출력\u001b[0m\u001b[1;33m\u001b[0m\u001b[1;33m\u001b[0m\u001b[0m\n",
      "\u001b[1;31mNameError\u001b[0m: name 'oneDIm' is not defined"
     ]
    }
   ],
   "source": [
    "import numpy as np\n",
    "\n",
    "\n",
    "#np.float np.int\n",
    "oneDim = np.array([1.0,2,3,4,5])\n",
    "print(oneDIm)\n",
    "print(\"Dimensinos=\", oneDim.ndim) #몇 차원 배열?\n",
    "print(\"Dimension=\",oneDim.shape) # 몇 * 몇? tuple 출력\n",
    "print(\"s\")"
   ]
  },
  {
   "cell_type": "code",
   "execution_count": null,
   "id": "a394dde2",
   "metadata": {},
   "outputs": [],
   "source": [
    "print(np.logspace(-3,3,7)) ## multiple이 같1다. log(x1)-log"
   ]
  },
  {
   "cell_type": "code",
   "execution_count": null,
   "id": "7b1568e6",
   "metadata": {},
   "outputs": [],
   "source": [
    "x=np.arange(-5,5)\n",
    "\n",
    "\n",
    "y = x[3:5] #python에서는 copy하지만 np는 pinter\n",
    "print(y)\n",
    "y[:] = 1000\n",
    "print(y)\n",
    "print(x)\n"
   ]
  },
  {
   "cell_type": "code",
   "execution_count": null,
   "id": "c0e3387f",
   "metadata": {},
   "outputs": [],
   "source": [
    "#In[14]\n",
    "\n"
   ]
  },
  {
   "cell_type": "code",
   "execution_count": null,
   "id": "722c72a6",
   "metadata": {},
   "outputs": [],
   "source": []
  },
  {
   "cell_type": "markdown",
   "id": "a51ce691",
   "metadata": {},
   "source": [
    "### integer array indexing"
   ]
  },
  {
   "cell_type": "markdown",
   "id": "95b4d0ce",
   "metadata": {},
   "source": [
    "univercial function???"
   ]
  },
  {
   "cell_type": "code",
   "execution_count": null,
   "id": "8cd03e2f",
   "metadata": {},
   "outputs": [],
   "source": [
    "### sorting\n",
    "\n",
    "t= np.random.randint(10,size=12).reshape(3,4)\n",
    "print(t)\n",
    "print()\n",
    "\n",
    "print(np.sort(t))\n",
    "print()\n",
    "print(np.sort(t, axis=0)) ###### axis 축 y축 0 x축 1 z축 2"
   ]
  },
  {
   "cell_type": "code",
   "execution_count": null,
   "id": "4f4a1755",
   "metadata": {},
   "outputs": [],
   "source": []
  },
  {
   "cell_type": "code",
   "execution_count": 2,
   "id": "e1d73516",
   "metadata": {},
   "outputs": [],
   "source": [
    "import numpy as np\n",
    "import pandas as pd"
   ]
  },
  {
   "cell_type": "code",
   "execution_count": null,
   "id": "cd5a2b78",
   "metadata": {},
   "outputs": [],
   "source": []
  },
  {
   "cell_type": "markdown",
   "id": "fb65aa1a",
   "metadata": {},
   "source": [
    "### inplace 하게 저장됌. = memery에 저장됌.\n",
    "a[:] =\n",
    "\n",
    "### inplace 하지 않음. memry에 저장이 안됌. == 연산자 결과 false \n",
    "a = "
   ]
  },
  {
   "cell_type": "code",
   "execution_count": null,
   "id": "0eb12473",
   "metadata": {},
   "outputs": [],
   "source": []
  },
  {
   "cell_type": "code",
   "execution_count": 3,
   "id": "d68e2fa0",
   "metadata": {
    "scrolled": true
   },
   "outputs": [
    {
     "name": "stdout",
     "output_type": "stream",
     "text": [
      "[[ 0  1  2  3  4]\n",
      " [ 5  6  7  8  9]\n",
      " [10 11 12 13 14]\n",
      " [15 16 17 18 19]\n",
      " [20 21 22 23 24]]\n",
      "[ 1  3  5  7  9 11 13 15 17 19 21 23]\n",
      "[[4 0]\n",
      " [4 1]\n",
      " [4 2]\n",
      " [4 3]\n",
      " [4 4]]\n",
      "[[ 0  1  0  3  0]\n",
      " [ 5  0  7  0  9]\n",
      " [ 0 11  0 13  0]\n",
      " [15  0 17  0 19]\n",
      " [ 0 21  0 23  0]]\n"
     ]
    }
   ],
   "source": [
    "\n",
    "M = np.arange(25).reshape(5,5)\n",
    "print(M)\n",
    "print(M[M%2==1])\n",
    "print(np.argwhere(M>=20))  #print index\n",
    "print(np.where(M%2==1,M,0))   #홀수 값은 원래 값 짝수 값은 0 출력"
   ]
  },
  {
   "cell_type": "code",
   "execution_count": 4,
   "id": "8380f48e",
   "metadata": {},
   "outputs": [
    {
     "name": "stdout",
     "output_type": "stream",
     "text": [
      "[0 2 4]\n"
     ]
    }
   ],
   "source": [
    "import numpy as np\n",
    "arr = np.array([1, -2, 3, -4, 5])\n",
    "idx = np.where(arr > 0)[0]\n",
    "\n",
    "print(idx)"
   ]
  },
  {
   "cell_type": "markdown",
   "id": "bbc0f6bb",
   "metadata": {},
   "source": [
    "###New axic\n",
    "\n",
    "shape이 다를 때 연산. 일반적으로 연산이 안될거같음.\n",
    "\n",
    "그런데 가능함. broad casting memory를 차지하지 않음. copy가 아님.\n",
    "\n",
    "np.newaxs는 1로 치환. In[29]\n",
    "\n",
    "\n"
   ]
  },
  {
   "cell_type": "code",
   "execution_count": 5,
   "id": "df2b26d3",
   "metadata": {},
   "outputs": [
    {
     "data": {
      "text/plain": [
       "array([[2, 3, 4],\n",
       "       [3, 4, 5],\n",
       "       [4, 5, 6]])"
      ]
     },
     "execution_count": 5,
     "metadata": {},
     "output_type": "execute_result"
    }
   ],
   "source": [
    "a = np.array([[1],[2],[3]])\n",
    "b = a.T\n",
    "b + a\n"
   ]
  },
  {
   "cell_type": "code",
   "execution_count": 1,
   "id": "8b84c047",
   "metadata": {},
   "outputs": [
    {
     "name": "stdout",
     "output_type": "stream",
     "text": [
      "{1: ['Bread'], 2: ['Scandinavian'], 3: ['Jam', 'Cookies', 'Hot chocolate'], 4: ['Muffin'], 5: ['Bread', 'Pastry', 'Coffee']}\n"
     ]
    }
   ],
   "source": [
    "arr = [\n",
    "    [1, 'Bread'],\n",
    "    [2, 'Scandinavian'],\n",
    "    [2, 'Scandinavian'],\n",
    "    [3, 'Hot chocolate'],\n",
    "    [3, 'Jam'],\n",
    "    [3, 'Cookies'],\n",
    "    [4, 'Muffin'],\n",
    "    [5, 'Coffee'],\n",
    "    [5, 'Pastry'],\n",
    "    [5, 'Bread']\n",
    "]\n",
    "\n",
    "# 중복값 제거를 위해 set을 사용하여 중복을 제거한 key값의 리스트 생성\n",
    "keys = list(set([sublist[0] for sublist in arr]))\n",
    "\n",
    "# key를 key로, 중복 제거한 value 리스트를 value로 갖는 딕셔너리 생성\n",
    "result_dict = {key: list(set([sublist[1] for sublist in arr if sublist[0] == key])) for key in keys}\n",
    "\n",
    "print(result_dict)\n"
   ]
  },
  {
   "cell_type": "code",
   "execution_count": null,
   "id": "f2583369",
   "metadata": {},
   "outputs": [],
   "source": []
  },
  {
   "cell_type": "code",
   "execution_count": 10,
   "id": "2acdfc90",
   "metadata": {},
   "outputs": [
    {
     "data": {
      "text/plain": [
       "array([[-9., -9.],\n",
       "       [-7., -7.],\n",
       "       [-5., -5.],\n",
       "       [-3., -3.],\n",
       "       [-1., -1.],\n",
       "       [ 1.,  1.],\n",
       "       [ 3.,  3.],\n",
       "       [ 5.,  5.],\n",
       "       [ 7.,  7.],\n",
       "       [ 9.,  9.]])"
      ]
     },
     "execution_count": 10,
     "metadata": {},
     "output_type": "execute_result"
    }
   ],
   "source": [
    "import numpy as np\n",
    "\n",
    "x = np.array(range(20)).reshape(10,2)\n",
    "\n",
    "x - np.mean(x, axis=0)"
   ]
  },
  {
   "cell_type": "code",
   "execution_count": null,
   "id": "2a97bc94",
   "metadata": {},
   "outputs": [],
   "source": [
    "x = np.array(range(20)).reshape(10,2)"
   ]
  },
  {
   "cell_type": "code",
   "execution_count": 11,
   "id": "5b3383cb",
   "metadata": {},
   "outputs": [
    {
     "data": {
      "text/plain": [
       "array([[-9., -9.],\n",
       "       [-7., -7.],\n",
       "       [-5., -5.],\n",
       "       [-3., -3.],\n",
       "       [-1., -1.],\n",
       "       [ 1.,  1.],\n",
       "       [ 3.,  3.],\n",
       "       [ 5.,  5.],\n",
       "       [ 7.,  7.],\n",
       "       [ 9.,  9.]])"
      ]
     },
     "execution_count": 11,
     "metadata": {},
     "output_type": "execute_result"
    }
   ],
   "source": [
    "# scale 차이에 따른 점수 변환 \n",
    "(x - x.mean(axis=0,keepdims=True))/x.std(axis=0,keepdims=True) *10 + 50\n",
    "\n",
    "#표준편차 0~1 "
   ]
  },
  {
   "cell_type": "code",
   "execution_count": 22,
   "id": "ce521a64",
   "metadata": {},
   "outputs": [
    {
     "name": "stdout",
     "output_type": "stream",
     "text": [
      "sorted = \n",
      " [ 1  1  3  4  5  8 10]\n",
      "argsorted = \n",
      " [2 5 3 0 4 6 1]\n",
      "partitioned \n",
      " [ 1  3  1  4  5 10  8]\n"
     ]
    }
   ],
   "source": [
    "#argsort vs sort\n",
    "\n",
    "x = np.array([4,10,1,3,5,1,8])\n",
    "\n",
    "print('sorted = \\n', np.sort(x))\n",
    "print('argsorted = \\n', np.argsort(x)) ## index 출력 \n",
    "print('partitioned \\n', np.partition(x,3)) #sort는 아니지만 작은거 n개와 나머지\n",
    "\n"
   ]
  },
  {
   "cell_type": "code",
   "execution_count": 27,
   "id": "3de53fda",
   "metadata": {},
   "outputs": [
    {
     "data": {
      "text/plain": [
       "array([ 3,  7, 11])"
      ]
     },
     "execution_count": 27,
     "metadata": {},
     "output_type": "execute_result"
    }
   ],
   "source": [
    "t = np.array([[1,2],[3,4],[5,6]])\n",
    "np.sum(t, axis=1)"
   ]
  },
  {
   "cell_type": "code",
   "execution_count": null,
   "id": "0ac1cbca",
   "metadata": {},
   "outputs": [],
   "source": []
  },
  {
   "cell_type": "code",
   "execution_count": null,
   "id": "aabf1c36",
   "metadata": {},
   "outputs": [],
   "source": []
  },
  {
   "cell_type": "code",
   "execution_count": null,
   "id": "e7600118",
   "metadata": {},
   "outputs": [],
   "source": []
  },
  {
   "cell_type": "code",
   "execution_count": null,
   "id": "382f32be",
   "metadata": {},
   "outputs": [],
   "source": []
  },
  {
   "cell_type": "code",
   "execution_count": null,
   "id": "6fca5190",
   "metadata": {},
   "outputs": [],
   "source": []
  },
  {
   "cell_type": "code",
   "execution_count": null,
   "id": "4e546e75",
   "metadata": {},
   "outputs": [],
   "source": []
  }
 ],
 "metadata": {
  "kernelspec": {
   "display_name": "Python 3 (ipykernel)",
   "language": "python",
   "name": "python3"
  },
  "language_info": {
   "codemirror_mode": {
    "name": "ipython",
    "version": 3
   },
   "file_extension": ".py",
   "mimetype": "text/x-python",
   "name": "python",
   "nbconvert_exporter": "python",
   "pygments_lexer": "ipython3",
   "version": "3.9.13"
  }
 },
 "nbformat": 4,
 "nbformat_minor": 5
}
