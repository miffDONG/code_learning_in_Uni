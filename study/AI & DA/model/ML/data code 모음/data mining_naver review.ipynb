{
 "cells": [
  {
   "cell_type": "code",
   "execution_count": 1,
   "id": "14ed93d6",
   "metadata": {},
   "outputs": [
    {
     "name": "stdout",
     "output_type": "stream",
     "text": [
      "<Response [200]>\n"
     ]
    }
   ],
   "source": [
    "#request\n",
    "\n",
    "import requests\n",
    "\n",
    "url = \"https://movie.naver.com/movie/bi/mi/review.naver?code=74977\"\n",
    "resp = requests.get(url)\n",
    "print(resp)"
   ]
  },
  {
   "cell_type": "code",
   "execution_count": 2,
   "id": "70acb2fb",
   "metadata": {},
   "outputs": [
    {
     "name": "stdout",
     "output_type": "stream",
     "text": [
      "<class 'bs4.BeautifulSoup'>\n"
     ]
    }
   ],
   "source": [
    "from bs4 import BeautifulSoup\n",
    "\n",
    "#\n",
    "soup = BeautifulSoup(resp.text, 'html.parser')\n",
    "print(type(soup))"
   ]
  },
  {
   "cell_type": "code",
   "execution_count": 7,
   "id": "712be147",
   "metadata": {},
   "outputs": [],
   "source": [
    "review_list_tag = soup.find(name='ul', attrs={'class':'rvw_list_area'})\n",
    "\n",
    "review_list_tags = review_list_tag.find_all(name='li')"
   ]
  },
  {
   "cell_type": "code",
   "execution_count": 8,
   "id": "f10be47a",
   "metadata": {},
   "outputs": [
    {
     "name": "stdout",
     "output_type": "stream",
     "text": [
      "10\n",
      "10\n",
      "10\n"
     ]
    }
   ],
   "source": [
    "import re\n",
    "\n",
    "title_list = []\n",
    "uid_list = []\n",
    "url_list = []\n",
    "\n",
    "for li_tag in review_list_tags:\n",
    "    review_title = li_tag.find_all(name='a')[0].get_text()\n",
    "    title_list.append(review_title)\n",
    "    \n",
    "    review_uid = li_tag.find_all(name='a')[1].get_text()\n",
    "    uid_list.append(review_title)\n",
    "    \n",
    "    review_nid = re.findall('\\d{7}',li_tag.find('a').get('onclick'))[0]\n",
    "    review_url = f\"https://movie.naver.com/movie/bi/mi/reviewread.naver?nid={review_nid}&code=74977&order=#tab\"\n",
    "    url_list.append(review_url)\n",
    "    \n",
    "print(len(title_list))\n",
    "print(len(uid_list))\n",
    "print(len(url_list))"
   ]
  },
  {
   "cell_type": "code",
   "execution_count": 11,
   "id": "4c20726a",
   "metadata": {},
   "outputs": [
    {
     "name": "stdout",
     "output_type": "stream",
     "text": [
      "10\n"
     ]
    }
   ],
   "source": [
    "text_list = []\n",
    "\n",
    "for url in url_list:\n",
    "    resp_text = requests.get(url)\n",
    "    soup_text = BeautifulSoup(resp_text.text, 'html.parser')\n",
    "\n",
    "    review_text_tag = soup_text.find(name='div', attrs={'class':'user_tx_area'})\n",
    "\n",
    "    review_text = review_text_tag.get_text()\n",
    "    text_list.append(review_text)\n",
    "    \n",
    "    \n",
    "print(len(text_list))"
   ]
  },
  {
   "cell_type": "code",
   "execution_count": 14,
   "id": "5b709a9a",
   "metadata": {},
   "outputs": [
    {
     "name": "stdout",
     "output_type": "stream",
     "text": [
      "                                         title  \\\n",
      "0     <아바타 2> 주인공 \"네이티리\" 캐릭터 컨셉 아트 이미지 대공개...    \n",
      "1                         2014년에 이글을 읽는사람들에게..   \n",
      "2             [필독, 스압] 위대한 지휘관, 쿼리치대령을 추모하며...   \n",
      "3                             아바타2 3,4 제작소식 모음   \n",
      "4                                     아바타2 스토리   \n",
      "5       아바타 2 ? 1에서 끝내지 그러냐 ? / 2014. 4. 13 수정   \n",
      "6                 이 영화보고 욕하지 말란 법 있냐? 있으면 가져와봐   \n",
      "7  <아바타2> 시고니 위버 신작 아바타 스케일도 크고 안경없이 3D로 볼수 있다   \n",
      "8                                 아바타2 추천합니다!!   \n",
      "9                진정한 명작은 사람들이 사랑할 때 사라져 주는것<뭐래   \n",
      "\n",
      "                                          user  \\\n",
      "0     <아바타 2> 주인공 \"네이티리\" 캐릭터 컨셉 아트 이미지 대공개...    \n",
      "1                         2014년에 이글을 읽는사람들에게..   \n",
      "2             [필독, 스압] 위대한 지휘관, 쿼리치대령을 추모하며...   \n",
      "3                             아바타2 3,4 제작소식 모음   \n",
      "4                                     아바타2 스토리   \n",
      "5       아바타 2 ? 1에서 끝내지 그러냐 ? / 2014. 4. 13 수정   \n",
      "6                 이 영화보고 욕하지 말란 법 있냐? 있으면 가져와봐   \n",
      "7  <아바타2> 시고니 위버 신작 아바타 스케일도 크고 안경없이 3D로 볼수 있다   \n",
      "8                                 아바타2 추천합니다!!   \n",
      "9                진정한 명작은 사람들이 사랑할 때 사라져 주는것<뭐래   \n",
      "\n",
      "                                              review  \n",
      "0  \\n\\n\\n\\n\\n아바타 2\\n\\n감독\\n제임스 카메론\\n출연\\n시고니 위버, 스티...  \n",
      "1  \\n2014년에 아바타2가 개봉하다니ㅋ\\n \\n아바타1,, 정말 재밌게 봤었는데\\n...  \n",
      "2  \\n영화 아바타는.끝까지 우리 인류의 번영과 이익을 위해 사투를 벌이다 죽어간 위대...  \n",
      "3  \\n \\n \\n \\n<<  아바타 속편 제작소식 모음  >>\\n \\n\\n \\n \\n...  \n",
      "4  \\n전작의 경우 cg는 혁명적이었지만제임스 카메론이 14년동안 구상한거 치곤 스토리...  \n",
      "5  \\n솔까 이제 추천수 2위 ( 2013년 1월 19일 오후 10시 38분 기준 ) ...  \n",
      "6  \\r\\n\\t\\t\\t\\t이 영화보고 욕하지 말란 법 있냐? 있으면 가져와봐 대체 몇 ...  \n",
      "7  \\n12월 2일(한국시간) 미국 연예매체 버라이어티는 할리우드 배우 시고니 위버의 ...  \n",
      "8  \\n아바타1에서 조금 아쉬운장면들이 몇몇있었는데 이번에\\n그 아쉬운 장면을 체워줄꺼...  \n",
      "9  \\n아바타 1 걍 전설이었지\\n2009년때 아바타 안보고 학교 오면 왕따 됬었고.....  \n"
     ]
    }
   ],
   "source": [
    "dict_data = {\n",
    "    'title' : title_list,\n",
    "    'user' : uid_list,\n",
    "    'review' : text_list\n",
    "}\n",
    "\n",
    "import pandas as pd\n",
    "\n",
    "df_data = pd.DataFrame(dict_data)\n",
    "print(df_data)\n",
    "\n",
    "# csv 파일로 저장\n",
    "df_data.to_csv(\"naver_review.csv\")"
   ]
  },
  {
   "cell_type": "code",
   "execution_count": 13,
   "id": "e1c50d3e",
   "metadata": {},
   "outputs": [
    {
     "data": {
      "text/html": [
       "<div>\n",
       "<style scoped>\n",
       "    .dataframe tbody tr th:only-of-type {\n",
       "        vertical-align: middle;\n",
       "    }\n",
       "\n",
       "    .dataframe tbody tr th {\n",
       "        vertical-align: top;\n",
       "    }\n",
       "\n",
       "    .dataframe thead th {\n",
       "        text-align: right;\n",
       "    }\n",
       "</style>\n",
       "<table border=\"1\" class=\"dataframe\">\n",
       "  <thead>\n",
       "    <tr style=\"text-align: right;\">\n",
       "      <th></th>\n",
       "      <th>Unnamed: 0</th>\n",
       "      <th>title</th>\n",
       "      <th>user</th>\n",
       "      <th>review</th>\n",
       "    </tr>\n",
       "  </thead>\n",
       "  <tbody>\n",
       "    <tr>\n",
       "      <th>0</th>\n",
       "      <td>0</td>\n",
       "      <td>&lt;아바타 2&gt; 주인공 \"네이티리\" 캐릭터 컨셉 아트 이미지 대공개...</td>\n",
       "      <td>&lt;아바타 2&gt; 주인공 \"네이티리\" 캐릭터 컨셉 아트 이미지 대공개...</td>\n",
       "      <td>\\n\\n\\n\\n\\n아바타 2\\n\\n감독\\n제임스 카메론\\n출연\\n시고니 위버, 스티...</td>\n",
       "    </tr>\n",
       "    <tr>\n",
       "      <th>1</th>\n",
       "      <td>1</td>\n",
       "      <td>2014년에 이글을 읽는사람들에게..</td>\n",
       "      <td>2014년에 이글을 읽는사람들에게..</td>\n",
       "      <td>\\n2014년에 아바타2가 개봉하다니ㅋ\\n \\n아바타1,, 정말 재밌게 봤었는데\\n...</td>\n",
       "    </tr>\n",
       "    <tr>\n",
       "      <th>2</th>\n",
       "      <td>2</td>\n",
       "      <td>[필독, 스압] 위대한 지휘관, 쿼리치대령을 추모하며...</td>\n",
       "      <td>[필독, 스압] 위대한 지휘관, 쿼리치대령을 추모하며...</td>\n",
       "      <td>\\n영화 아바타는.끝까지 우리 인류의 번영과 이익을 위해 사투를 벌이다 죽어간 위대...</td>\n",
       "    </tr>\n",
       "    <tr>\n",
       "      <th>3</th>\n",
       "      <td>3</td>\n",
       "      <td>아바타2 3,4 제작소식 모음</td>\n",
       "      <td>아바타2 3,4 제작소식 모음</td>\n",
       "      <td>\\n \\n \\n \\n&lt;&lt;  아바타 속편 제작소식 모음  &gt;&gt;\\n \\n\\n \\n \\n...</td>\n",
       "    </tr>\n",
       "    <tr>\n",
       "      <th>4</th>\n",
       "      <td>4</td>\n",
       "      <td>아바타2 스토리</td>\n",
       "      <td>아바타2 스토리</td>\n",
       "      <td>\\n전작의 경우 cg는 혁명적이었지만제임스 카메론이 14년동안 구상한거 치곤 스토리...</td>\n",
       "    </tr>\n",
       "  </tbody>\n",
       "</table>\n",
       "</div>"
      ],
      "text/plain": [
       "   Unnamed: 0                                     title  \\\n",
       "0           0  <아바타 2> 주인공 \"네이티리\" 캐릭터 컨셉 아트 이미지 대공개...    \n",
       "1           1                      2014년에 이글을 읽는사람들에게..   \n",
       "2           2          [필독, 스압] 위대한 지휘관, 쿼리치대령을 추모하며...   \n",
       "3           3                          아바타2 3,4 제작소식 모음   \n",
       "4           4                                  아바타2 스토리   \n",
       "\n",
       "                                       user  \\\n",
       "0  <아바타 2> 주인공 \"네이티리\" 캐릭터 컨셉 아트 이미지 대공개...    \n",
       "1                      2014년에 이글을 읽는사람들에게..   \n",
       "2          [필독, 스압] 위대한 지휘관, 쿼리치대령을 추모하며...   \n",
       "3                          아바타2 3,4 제작소식 모음   \n",
       "4                                  아바타2 스토리   \n",
       "\n",
       "                                              review  \n",
       "0  \\n\\n\\n\\n\\n아바타 2\\n\\n감독\\n제임스 카메론\\n출연\\n시고니 위버, 스티...  \n",
       "1  \\n2014년에 아바타2가 개봉하다니ㅋ\\n \\n아바타1,, 정말 재밌게 봤었는데\\n...  \n",
       "2  \\n영화 아바타는.끝까지 우리 인류의 번영과 이익을 위해 사투를 벌이다 죽어간 위대...  \n",
       "3  \\n \\n \\n \\n<<  아바타 속편 제작소식 모음  >>\\n \\n\\n \\n \\n...  \n",
       "4  \\n전작의 경우 cg는 혁명적이었지만제임스 카메론이 14년동안 구상한거 치곤 스토리...  "
      ]
     },
     "execution_count": 13,
     "metadata": {},
     "output_type": "execute_result"
    }
   ],
   "source": [
    "test= pd.read_csv('naver_review.csv')\n",
    "\n",
    "test.head()"
   ]
  }
 ],
 "metadata": {
  "kernelspec": {
   "display_name": "Python 3 (ipykernel)",
   "language": "python",
   "name": "python3"
  },
  "language_info": {
   "codemirror_mode": {
    "name": "ipython",
    "version": 3
   },
   "file_extension": ".py",
   "mimetype": "text/x-python",
   "name": "python",
   "nbconvert_exporter": "python",
   "pygments_lexer": "ipython3",
   "version": "3.11.1"
  }
 },
 "nbformat": 4,
 "nbformat_minor": 5
}
