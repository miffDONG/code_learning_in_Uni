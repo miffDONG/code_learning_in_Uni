{
 "cells": [
  {
   "cell_type": "code",
   "execution_count": 1,
   "id": "ca8062f2",
   "metadata": {},
   "outputs": [
    {
     "name": "stdout",
     "output_type": "stream",
     "text": [
      "<Response [200]>\n"
     ]
    }
   ],
   "source": [
    "import requests\n",
    "\n",
    "# url = \"https://movie.naver.com/movie/point/af/list.naver?st=nickname&sword=74977\"\n",
    "url = \"https://movie.naver.com/movie/bi/mi/review.naver?code=74977\"\n",
    "resp = requests.get(url)\n",
    "print(resp)"
   ]
  },
  {
   "cell_type": "code",
   "execution_count": 2,
   "id": "ba3cbc9b",
   "metadata": {},
   "outputs": [],
   "source": [
    "# resp.text[150:500]"
   ]
  },
  {
   "cell_type": "code",
   "execution_count": 2,
   "id": "83ff8b59",
   "metadata": {},
   "outputs": [
    {
     "name": "stdout",
     "output_type": "stream",
     "text": [
      "<class 'bs4.BeautifulSoup'>\n"
     ]
    }
   ],
   "source": [
    "from bs4 import BeautifulSoup\n",
    "\n",
    "soup = BeautifulSoup(resp.text, 'html.parser')\n",
    "\n",
    "print(type(soup))"
   ]
  },
  {
   "cell_type": "code",
   "execution_count": 3,
   "id": "9afa3450",
   "metadata": {},
   "outputs": [
    {
     "name": "stdout",
     "output_type": "stream",
     "text": [
      "<title>ìí end - ì£¼ìì ë³´</title>\n",
      "ìí end - ì£¼ìì ë³´\n"
     ]
    }
   ],
   "source": [
    "title_tag = soup.find(name='title')\n",
    "print(title_tag)\n",
    "\n",
    "title_text = title_tag.get_text()\n",
    "print(title_text)"
   ]
  },
  {
   "cell_type": "code",
   "execution_count": 4,
   "id": "bed0fddc",
   "metadata": {},
   "outputs": [
    {
     "name": "stdout",
     "output_type": "stream",
     "text": [
      "span 태그:  None\n"
     ]
    },
    {
     "ename": "AttributeError",
     "evalue": "'NoneType' object has no attribute 'find'",
     "output_type": "error",
     "traceback": [
      "\u001b[1;31m---------------------------------------------------------------------------\u001b[0m",
      "\u001b[1;31mAttributeError\u001b[0m                            Traceback (most recent call last)",
      "\u001b[1;32m~\\AppData\\Local\\Temp\\ipykernel_17432\\3598188588.py\u001b[0m in \u001b[0;36m<module>\u001b[1;34m\u001b[0m\n\u001b[0;32m      3\u001b[0m \u001b[0mprint\u001b[0m\u001b[1;33m(\u001b[0m\u001b[1;34m\"span 태그: \"\u001b[0m\u001b[1;33m,\u001b[0m \u001b[0mcount_tag\u001b[0m\u001b[1;33m)\u001b[0m\u001b[1;33m\u001b[0m\u001b[1;33m\u001b[0m\u001b[0m\n\u001b[0;32m      4\u001b[0m \u001b[1;33m\u001b[0m\u001b[0m\n\u001b[1;32m----> 5\u001b[1;33m \u001b[0mcount_tag\u001b[0m \u001b[1;33m=\u001b[0m \u001b[0mcount_tag\u001b[0m\u001b[1;33m.\u001b[0m\u001b[0mfind\u001b[0m\u001b[1;33m(\u001b[0m\u001b[0mname\u001b[0m\u001b[1;33m=\u001b[0m\u001b[1;34m'em'\u001b[0m\u001b[1;33m)\u001b[0m\u001b[1;33m\u001b[0m\u001b[1;33m\u001b[0m\u001b[0m\n\u001b[0m\u001b[0;32m      6\u001b[0m \u001b[0mprint\u001b[0m\u001b[1;33m(\u001b[0m\u001b[1;34m\"em 태그: \"\u001b[0m\u001b[1;33m,\u001b[0m\u001b[0mcount_tag\u001b[0m\u001b[1;33m)\u001b[0m\u001b[1;33m\u001b[0m\u001b[1;33m\u001b[0m\u001b[0m\n\u001b[0;32m      7\u001b[0m \u001b[1;33m\u001b[0m\u001b[0m\n",
      "\u001b[1;31mAttributeError\u001b[0m: 'NoneType' object has no attribute 'find'"
     ]
    }
   ],
   "source": [
    "count_tag = soup.find(name='span', attrs={'class':'cnt'})\n",
    "# count_tag = soup.find(name='span', class='cnt')\n",
    "print(\"span 태그: \", count_tag)\n",
    "\n",
    "count_tag = count_tag.find(name='em')\n",
    "print(\"em 태그: \",count_tag)\n",
    "\n",
    "count_text = count_tag.get_text()\n",
    "print(\"텍스트: \",count_text)"
   ]
  },
  {
   "cell_type": "code",
   "execution_count": 23,
   "id": "da4eb582",
   "metadata": {},
   "outputs": [
    {
     "name": "stdout",
     "output_type": "stream",
     "text": [
      "li 태그의 수:  10\n",
      "\n",
      "\n",
      "<li>\n",
      "<a href=\"#\" onclick=\"clickcr(this, 'rli.title', '', '', event); showReviewDetail(4061113)\"><strong>&lt;아바타 2&gt; 주인공 \"네이티리\" 캐릭터 컨셉 아트 이미지 대공개... </strong></a>\n",
      "<span class=\"user\"><a href=\"#\" onclick=\"clickcr(this, 'rli.uid', '', '', event); showReviewListByNid('4061113');\">insu****</a> <em>2015.09.30</em><em>추천 189</em></span>\n",
      "<p><a href=\"#\" onclick=\"clickcr(this, 'rli.content', '', '', event); showReviewDetail(4061113);\">        아바타 2      감독   제임스 카메론   출연   시고니 위버, 스티븐 랭, 조 샐다나, 샘 워싱턴   개봉   2017 미국      리뷰보기      ​*** 아바타 2 (2017) ***장르: Sci-Fi, 판타지, 모험, 액션감독: 제임스 카메론주연:...</a></p>\n",
      "</li>\n"
     ]
    }
   ],
   "source": [
    "review_list_tag = soup.find(name='ul', attrs={'class':'rvw_list_area'})\n",
    "\n",
    "review_list_tags = review_list_tag.find_all(name='li')\n",
    "print('li 태그의 수: ', len(review_list_tags))\n",
    "print(\"\\n\")\n",
    "\n",
    "print(review_list_tags[0])"
   ]
  },
  {
   "cell_type": "code",
   "execution_count": 7,
   "id": "83e306e7",
   "metadata": {},
   "outputs": [
    {
     "name": "stdout",
     "output_type": "stream",
     "text": [
      "제목: <아바타 2> 주인공 \"네이티리\" 캐릭터 컨셉 아트 이미지 대공개...  \n",
      "\n",
      "사용자: insu**** \n",
      "\n",
      "내용:         아바타 2      감독   제임스 카메론   출연   시고니 위버, 스티븐 랭, 조 샐다나, 샘 워싱턴   개봉   2017 미국      리뷰보기      ​*** 아바타 2 (2017) ***장르: Sci-Fi, 판타지, 모험, 액션감독: 제임스 카메론주연:... \n",
      "\n"
     ]
    }
   ],
   "source": [
    "review_title = review_list_tags[0].find_all(name='a')[0].get_text()\n",
    "print(\"제목:\", review_title,\"\\n\")\n",
    "\n",
    "review_uid = review_list_tags[0].find_all(name='a')[1].get_text()\n",
    "print(\"사용자:\",review_uid,\"\\n\")\n",
    "\n",
    "review_content = review_list_tags[0].find_all(name='a')[2].get_text()\n",
    "print(\"내용:\", review_content,'\\n')"
   ]
  },
  {
   "cell_type": "code",
   "execution_count": 8,
   "id": "76075373",
   "metadata": {},
   "outputs": [
    {
     "data": {
      "text/plain": [
       "\"clickcr(this, 'rli.title', '', '', event); showReviewDetail(4061113)\""
      ]
     },
     "execution_count": 8,
     "metadata": {},
     "output_type": "execute_result"
    }
   ],
   "source": [
    "review_nid = review_list_tags[0].find('a').get('onclick')\n",
    "review_nid"
   ]
  },
  {
   "cell_type": "code",
   "execution_count": 9,
   "id": "6631d97e",
   "metadata": {},
   "outputs": [
    {
     "name": "stdout",
     "output_type": "stream",
     "text": [
      "4061113\n"
     ]
    }
   ],
   "source": [
    "import re\n",
    "\n",
    "review_nid = re.findall('\\d{7}',review_nid)[0]\n",
    "print(review_nid)"
   ]
  },
  {
   "cell_type": "code",
   "execution_count": 10,
   "id": "44f4ec56",
   "metadata": {},
   "outputs": [
    {
     "data": {
      "text/plain": [
       "'https://movie.naver.com/movie/bi/mi/reviewread.naver?nid=4061113&code=74977&order=#tab'"
      ]
     },
     "execution_count": 10,
     "metadata": {},
     "output_type": "execute_result"
    }
   ],
   "source": [
    "review_url = f\"https://movie.naver.com/movie/bi/mi/reviewread.naver?nid={review_nid}&code=74977&order=#tab\"\n",
    "review_url"
   ]
  },
  {
   "cell_type": "code",
   "execution_count": 25,
   "id": "c143087b",
   "metadata": {},
   "outputs": [
    {
     "name": "stdout",
     "output_type": "stream",
     "text": [
      "10\n",
      "10\n",
      "10\n"
     ]
    }
   ],
   "source": [
    "title_list = []\n",
    "uid_list = []\n",
    "url_list = []\n",
    "\n",
    "for li_tag in review_list_tags:\n",
    "#     review_list_tags = review_list_tag.find_all(name='li')\n",
    "#     print(review_list_tags)\n",
    "#     print(li_tag)\n",
    "    \n",
    "    review_title = li_tag.find_all(name='a')[0].get_text()\n",
    "    title_list.append(review_title)\n",
    "    \n",
    "    review_uid = li_tag.find_all(name='a')[1].get_text()\n",
    "    uid_list.append(review_uid)\n",
    "    \n",
    "    review_nid = re.findall('\\d{7}',li_tag.find('a').get('onclick'))[0]\n",
    "    review_url = f\"https://movie.naver.com/movie/bi/mi/reviewread.naver?nid={review_nid}&code=74977&order=#tab\"\n",
    "    url_list.append(review_url)\n",
    "    \n",
    "print(len(title_list))\n",
    "print(len(uid_list))\n",
    "print(len(url_list))"
   ]
  },
  {
   "cell_type": "code",
   "execution_count": 12,
   "id": "00d13290",
   "metadata": {},
   "outputs": [
    {
     "name": "stdout",
     "output_type": "stream",
     "text": [
      "['https://movie.naver.com/movie/bi/mi/reviewread.naver?nid=4061113&code=74977&order=#tab', 'https://movie.naver.com/movie/bi/mi/reviewread.naver?nid=2415599&code=74977&order=#tab', 'https://movie.naver.com/movie/bi/mi/reviewread.naver?nid=4469161&code=74977&order=#tab', 'https://movie.naver.com/movie/bi/mi/reviewread.naver?nid=3330958&code=74977&order=#tab', 'https://movie.naver.com/movie/bi/mi/reviewread.naver?nid=4312454&code=74977&order=#tab', 'https://movie.naver.com/movie/bi/mi/reviewread.naver?nid=2860659&code=74977&order=#tab', 'https://movie.naver.com/movie/bi/mi/reviewread.naver?nid=4496289&code=74977&order=#tab', 'https://movie.naver.com/movie/bi/mi/reviewread.naver?nid=4417995&code=74977&order=#tab', 'https://movie.naver.com/movie/bi/mi/reviewread.naver?nid=2204846&code=74977&order=#tab', 'https://movie.naver.com/movie/bi/mi/reviewread.naver?nid=3638168&code=74977&order=#tab']\n"
     ]
    }
   ],
   "source": [
    "print(url_list)"
   ]
  },
  {
   "cell_type": "code",
   "execution_count": 13,
   "id": "7e0df541",
   "metadata": {},
   "outputs": [
    {
     "name": "stdout",
     "output_type": "stream",
     "text": [
      "\n",
      "\n",
      "\n",
      "\n",
      "\n",
      "아바타 2\n",
      "\n",
      "감독\n",
      "제임스 카메론\n",
      "출연\n",
      "시고니 위버, 스티븐 랭, 조 샐다나, 샘 워싱턴\n",
      "개봉\n",
      "2017 미국\n",
      "\n",
      "리뷰보기\n",
      "\n",
      "\n",
      "​*** 아바타 2 (2017) ***장르: Sci-Fi, 판타지, 모험, 액션감독: 제임스 카메론주연: 조 셀다나 (네이티리 역), 샘 워싱턴 (제이크 설리 역), 시고니 위버 (그레이스 어거스틴 역), 스티븐 랭 (마일즈 쿼리치 역)...국적: 미국북미 개봉일: 2017년 12월 25일2017년 12월 25일 북미 개봉작으로 기대를 모으고 있는 영화 아바타 2...특히나 주인공 \"네이티리\" 의 캐릭터 이미지가 공개가 되어서 올려봅니다.배우 조 샐다나와 샘 워싱턴, 시고니 위버 그리고 스티븐 랭까지 전편에서 출연했었던 배우들이 그대로 출연을 하고 있어서더욱 기대가 되는 영화인 것 같습니다. 아무튼 제임스 카메론 감독의 영화 아바타 2편을 시작으로2018년 아바타 3와 2019년 아바타 4까지 진행되고 있어서 앞으로 더욱 기대되는 영화 아바타인 것 같습니다.\n",
      "\n"
     ]
    }
   ],
   "source": [
    "# resp_text = requests.get(url_list[0])\n",
    "# soup_text = BeautifulSoup(resp_text.text, 'html.parser')\n",
    "\n",
    "# review_text_tag = soup_text.find(name='div', attrs={'class':'user_tx_area'})\n",
    "\n",
    "# review_text = review_text_tag.get_text()\n",
    "# print(review_text)"
   ]
  },
  {
   "cell_type": "code",
   "execution_count": 14,
   "id": "80718b36",
   "metadata": {},
   "outputs": [
    {
     "name": "stdout",
     "output_type": "stream",
     "text": [
      "10\n"
     ]
    }
   ],
   "source": [
    "text_list = []\n",
    "\n",
    "for url in url_list:\n",
    "    resp_text = requests.get(url)\n",
    "    soup_text = BeautifulSoup(resp_text.text, 'html.parser')\n",
    "\n",
    "    review_text_tag = soup_text.find(name='div', attrs={'class':'user_tx_area'})\n",
    "\n",
    "    review_text = review_text_tag.get_text()\n",
    "    text_list.append(review_text)\n",
    "    \n",
    "    \n",
    "print(len(text_list))"
   ]
  },
  {
   "cell_type": "code",
   "execution_count": 26,
   "id": "772bf811",
   "metadata": {},
   "outputs": [
    {
     "data": {
      "text/html": [
       "<div>\n",
       "<style scoped>\n",
       "    .dataframe tbody tr th:only-of-type {\n",
       "        vertical-align: middle;\n",
       "    }\n",
       "\n",
       "    .dataframe tbody tr th {\n",
       "        vertical-align: top;\n",
       "    }\n",
       "\n",
       "    .dataframe thead th {\n",
       "        text-align: right;\n",
       "    }\n",
       "</style>\n",
       "<table border=\"1\" class=\"dataframe\">\n",
       "  <thead>\n",
       "    <tr style=\"text-align: right;\">\n",
       "      <th></th>\n",
       "      <th>title</th>\n",
       "      <th>user</th>\n",
       "      <th>review</th>\n",
       "    </tr>\n",
       "  </thead>\n",
       "  <tbody>\n",
       "    <tr>\n",
       "      <th>0</th>\n",
       "      <td>&lt;아바타 2&gt; 주인공 \"네이티리\" 캐릭터 컨셉 아트 이미지 대공개...</td>\n",
       "      <td>insu****</td>\n",
       "      <td>\\n\\n\\n\\n\\n아바타 2\\n\\n감독\\n제임스 카메론\\n출연\\n시고니 위버, 스티...</td>\n",
       "    </tr>\n",
       "    <tr>\n",
       "      <th>1</th>\n",
       "      <td>2014년에 이글을 읽는사람들에게..</td>\n",
       "      <td>xnzm****</td>\n",
       "      <td>\\n2014년에 아바타2가 개봉하다니ㅋ\\n \\n아바타1,, 정말 재밌게 봤었는데\\n...</td>\n",
       "    </tr>\n",
       "    <tr>\n",
       "      <th>2</th>\n",
       "      <td>[필독, 스압] 위대한 지휘관, 쿼리치대령을 추모하며...</td>\n",
       "      <td>alwa****</td>\n",
       "      <td>\\n영화 아바타는.끝까지 우리 인류의 번영과 이익을 위해 사투를 벌이다 죽어간 위대...</td>\n",
       "    </tr>\n",
       "    <tr>\n",
       "      <th>3</th>\n",
       "      <td>아바타2 3,4 제작소식 모음</td>\n",
       "      <td>soqu****</td>\n",
       "      <td>\\n \\n \\n \\n&lt;&lt;  아바타 속편 제작소식 모음  &gt;&gt;\\n \\n\\n \\n \\n...</td>\n",
       "    </tr>\n",
       "    <tr>\n",
       "      <th>4</th>\n",
       "      <td>아바타2 스토리</td>\n",
       "      <td>doub****</td>\n",
       "      <td>\\n전작의 경우 cg는 혁명적이었지만제임스 카메론이 14년동안 구상한거 치곤 스토리...</td>\n",
       "    </tr>\n",
       "    <tr>\n",
       "      <th>5</th>\n",
       "      <td>아바타 2 ? 1에서 끝내지 그러냐 ? / 2014. 4. 13 수정</td>\n",
       "      <td>tcs1****</td>\n",
       "      <td>\\n솔까 이제 추천수 2위 ( 2013년 1월 19일 오후 10시 38분 기준 ) ...</td>\n",
       "    </tr>\n",
       "    <tr>\n",
       "      <th>6</th>\n",
       "      <td>이 영화보고 욕하지 말란 법 있냐? 있으면 가져와봐</td>\n",
       "      <td>ksh6****</td>\n",
       "      <td>\\r\\n\\t\\t\\t\\t이 영화보고 욕하지 말란 법 있냐? 있으면 가져와봐 대체 몇 ...</td>\n",
       "    </tr>\n",
       "    <tr>\n",
       "      <th>7</th>\n",
       "      <td>&lt;아바타2&gt; 시고니 위버 신작 아바타 스케일도 크고 안경없이 3D로 볼수 있다</td>\n",
       "      <td>ges5****</td>\n",
       "      <td>\\n12월 2일(한국시간) 미국 연예매체 버라이어티는 할리우드 배우 시고니 위버의 ...</td>\n",
       "    </tr>\n",
       "    <tr>\n",
       "      <th>8</th>\n",
       "      <td>아바타2 추천합니다!!</td>\n",
       "      <td>wjdq****</td>\n",
       "      <td>\\n아바타1에서 조금 아쉬운장면들이 몇몇있었는데 이번에\\n그 아쉬운 장면을 체워줄꺼...</td>\n",
       "    </tr>\n",
       "    <tr>\n",
       "      <th>9</th>\n",
       "      <td>진정한 명작은 사람들이 사랑할 때 사라져 주는것&lt;뭐래</td>\n",
       "      <td>sia0****</td>\n",
       "      <td>\\n아바타 1 걍 전설이었지\\n2009년때 아바타 안보고 학교 오면 왕따 됬었고.....</td>\n",
       "    </tr>\n",
       "  </tbody>\n",
       "</table>\n",
       "</div>"
      ],
      "text/plain": [
       "                                         title      user  \\\n",
       "0     <아바타 2> 주인공 \"네이티리\" 캐릭터 컨셉 아트 이미지 대공개...   insu****   \n",
       "1                         2014년에 이글을 읽는사람들에게..  xnzm****   \n",
       "2             [필독, 스압] 위대한 지휘관, 쿼리치대령을 추모하며...  alwa****   \n",
       "3                             아바타2 3,4 제작소식 모음  soqu****   \n",
       "4                                     아바타2 스토리  doub****   \n",
       "5       아바타 2 ? 1에서 끝내지 그러냐 ? / 2014. 4. 13 수정  tcs1****   \n",
       "6                 이 영화보고 욕하지 말란 법 있냐? 있으면 가져와봐  ksh6****   \n",
       "7  <아바타2> 시고니 위버 신작 아바타 스케일도 크고 안경없이 3D로 볼수 있다  ges5****   \n",
       "8                                 아바타2 추천합니다!!  wjdq****   \n",
       "9                진정한 명작은 사람들이 사랑할 때 사라져 주는것<뭐래  sia0****   \n",
       "\n",
       "                                              review  \n",
       "0  \\n\\n\\n\\n\\n아바타 2\\n\\n감독\\n제임스 카메론\\n출연\\n시고니 위버, 스티...  \n",
       "1  \\n2014년에 아바타2가 개봉하다니ㅋ\\n \\n아바타1,, 정말 재밌게 봤었는데\\n...  \n",
       "2  \\n영화 아바타는.끝까지 우리 인류의 번영과 이익을 위해 사투를 벌이다 죽어간 위대...  \n",
       "3  \\n \\n \\n \\n<<  아바타 속편 제작소식 모음  >>\\n \\n\\n \\n \\n...  \n",
       "4  \\n전작의 경우 cg는 혁명적이었지만제임스 카메론이 14년동안 구상한거 치곤 스토리...  \n",
       "5  \\n솔까 이제 추천수 2위 ( 2013년 1월 19일 오후 10시 38분 기준 ) ...  \n",
       "6  \\r\\n\\t\\t\\t\\t이 영화보고 욕하지 말란 법 있냐? 있으면 가져와봐 대체 몇 ...  \n",
       "7  \\n12월 2일(한국시간) 미국 연예매체 버라이어티는 할리우드 배우 시고니 위버의 ...  \n",
       "8  \\n아바타1에서 조금 아쉬운장면들이 몇몇있었는데 이번에\\n그 아쉬운 장면을 체워줄꺼...  \n",
       "9  \\n아바타 1 걍 전설이었지\\n2009년때 아바타 안보고 학교 오면 왕따 됬었고.....  "
      ]
     },
     "execution_count": 26,
     "metadata": {},
     "output_type": "execute_result"
    }
   ],
   "source": [
    "dict_data = {\n",
    "    'title' : title_list,\n",
    "    'user' : uid_list,\n",
    "    'review' : text_list\n",
    "}\n",
    "\n",
    "import pandas as pd\n",
    "\n",
    "df_data = pd.DataFrame(dict_data)\n",
    "df_data"
   ]
  },
  {
   "cell_type": "code",
   "execution_count": 16,
   "id": "71e8ed6e",
   "metadata": {},
   "outputs": [],
   "source": [
    "df_data.to_csv(\"naver_review.csv\")"
   ]
  },
  {
   "cell_type": "code",
   "execution_count": 17,
   "id": "33119b03",
   "metadata": {},
   "outputs": [
    {
     "data": {
      "text/html": [
       "<div>\n",
       "<style scoped>\n",
       "    .dataframe tbody tr th:only-of-type {\n",
       "        vertical-align: middle;\n",
       "    }\n",
       "\n",
       "    .dataframe tbody tr th {\n",
       "        vertical-align: top;\n",
       "    }\n",
       "\n",
       "    .dataframe thead th {\n",
       "        text-align: right;\n",
       "    }\n",
       "</style>\n",
       "<table border=\"1\" class=\"dataframe\">\n",
       "  <thead>\n",
       "    <tr style=\"text-align: right;\">\n",
       "      <th></th>\n",
       "      <th>Unnamed: 0</th>\n",
       "      <th>title</th>\n",
       "      <th>user</th>\n",
       "      <th>review</th>\n",
       "    </tr>\n",
       "  </thead>\n",
       "  <tbody>\n",
       "    <tr>\n",
       "      <th>0</th>\n",
       "      <td>0</td>\n",
       "      <td>&lt;아바타 2&gt; 주인공 \"네이티리\" 캐릭터 컨셉 아트 이미지 대공개...</td>\n",
       "      <td>&lt;아바타 2&gt; 주인공 \"네이티리\" 캐릭터 컨셉 아트 이미지 대공개...</td>\n",
       "      <td>\\n\\n\\n\\n\\n아바타 2\\n\\n감독\\n제임스 카메론\\n출연\\n시고니 위버, 스티...</td>\n",
       "    </tr>\n",
       "    <tr>\n",
       "      <th>1</th>\n",
       "      <td>1</td>\n",
       "      <td>2014년에 이글을 읽는사람들에게..</td>\n",
       "      <td>2014년에 이글을 읽는사람들에게..</td>\n",
       "      <td>\\n2014년에 아바타2가 개봉하다니ㅋ\\n \\n아바타1,, 정말 재밌게 봤었는데\\n...</td>\n",
       "    </tr>\n",
       "    <tr>\n",
       "      <th>2</th>\n",
       "      <td>2</td>\n",
       "      <td>[필독, 스압] 위대한 지휘관, 쿼리치대령을 추모하며...</td>\n",
       "      <td>[필독, 스압] 위대한 지휘관, 쿼리치대령을 추모하며...</td>\n",
       "      <td>\\n영화 아바타는.끝까지 우리 인류의 번영과 이익을 위해 사투를 벌이다 죽어간 위대...</td>\n",
       "    </tr>\n",
       "    <tr>\n",
       "      <th>3</th>\n",
       "      <td>3</td>\n",
       "      <td>아바타2 3,4 제작소식 모음</td>\n",
       "      <td>아바타2 3,4 제작소식 모음</td>\n",
       "      <td>\\n \\n \\n \\n&lt;&lt;  아바타 속편 제작소식 모음  &gt;&gt;\\n \\n\\n \\n \\n...</td>\n",
       "    </tr>\n",
       "    <tr>\n",
       "      <th>4</th>\n",
       "      <td>4</td>\n",
       "      <td>아바타2 스토리</td>\n",
       "      <td>아바타2 스토리</td>\n",
       "      <td>\\n전작의 경우 cg는 혁명적이었지만제임스 카메론이 14년동안 구상한거 치곤 스토리...</td>\n",
       "    </tr>\n",
       "  </tbody>\n",
       "</table>\n",
       "</div>"
      ],
      "text/plain": [
       "   Unnamed: 0                                     title  \\\n",
       "0           0  <아바타 2> 주인공 \"네이티리\" 캐릭터 컨셉 아트 이미지 대공개...    \n",
       "1           1                      2014년에 이글을 읽는사람들에게..   \n",
       "2           2          [필독, 스압] 위대한 지휘관, 쿼리치대령을 추모하며...   \n",
       "3           3                          아바타2 3,4 제작소식 모음   \n",
       "4           4                                  아바타2 스토리   \n",
       "\n",
       "                                       user  \\\n",
       "0  <아바타 2> 주인공 \"네이티리\" 캐릭터 컨셉 아트 이미지 대공개...    \n",
       "1                      2014년에 이글을 읽는사람들에게..   \n",
       "2          [필독, 스압] 위대한 지휘관, 쿼리치대령을 추모하며...   \n",
       "3                          아바타2 3,4 제작소식 모음   \n",
       "4                                  아바타2 스토리   \n",
       "\n",
       "                                              review  \n",
       "0  \\n\\n\\n\\n\\n아바타 2\\n\\n감독\\n제임스 카메론\\n출연\\n시고니 위버, 스티...  \n",
       "1  \\n2014년에 아바타2가 개봉하다니ㅋ\\n \\n아바타1,, 정말 재밌게 봤었는데\\n...  \n",
       "2  \\n영화 아바타는.끝까지 우리 인류의 번영과 이익을 위해 사투를 벌이다 죽어간 위대...  \n",
       "3  \\n \\n \\n \\n<<  아바타 속편 제작소식 모음  >>\\n \\n\\n \\n \\n...  \n",
       "4  \\n전작의 경우 cg는 혁명적이었지만제임스 카메론이 14년동안 구상한거 치곤 스토리...  "
      ]
     },
     "execution_count": 17,
     "metadata": {},
     "output_type": "execute_result"
    }
   ],
   "source": [
    "test= pd.read_csv('naver_review.csv')\n",
    "\n",
    "test.head()"
   ]
  },
  {
   "cell_type": "code",
   "execution_count": 18,
   "id": "c1df1477",
   "metadata": {},
   "outputs": [
    {
     "data": {
      "text/plain": [
       "'\\n\\n\\n\\n\\n아바타 2\\n\\n감독\\n제임스 카메론\\n출연\\n시고니 위버, 스티븐 랭, 조 샐다나, 샘 워싱턴\\n개봉\\n2017 미국\\n\\n리뷰보기\\n\\n\\n\\u200b*** 아바타 2 (2017) ***장르: Sci-Fi, 판타지, 모험, 액션감독: 제임스 카메론주연: 조 셀다나 (네이티리 역), 샘 워싱턴 (제이크 설리 역), 시고니 위버 (그레이스 어거스틴 역), 스티븐 랭 (마일즈 쿼리치 역)...국적: 미국북미 개봉일: 2017년 12월 25일2017년 12월 25일 북미 개봉작으로 기대를 모으고 있는 영화 아바타 2...특히나 주인공 \"네이티리\" 의 캐릭터 이미지가 공개가 되어서 올려봅니다.배우 조 샐다나와 샘 워싱턴, 시고니 위버 그리고 스티븐 랭까지 전편에서 출연했었던 배우들이 그대로 출연을 하고 있어서더욱 기대가 되는 영화인 것 같습니다. 아무튼 제임스 카메론 감독의 영화 아바타 2편을 시작으로2018년 아바타 3와 2019년 아바타 4까지 진행되고 있어서 앞으로 더욱 기대되는 영화 아바타인 것 같습니다.\\n'"
      ]
     },
     "execution_count": 18,
     "metadata": {},
     "output_type": "execute_result"
    }
   ],
   "source": [
    "test_sample = test['review'][0]\n",
    "test_sample"
   ]
  },
  {
   "cell_type": "code",
   "execution_count": 19,
   "id": "f3af5632",
   "metadata": {},
   "outputs": [
    {
     "data": {
      "text/plain": [
       "'아바타감독제임스카메론출연시고니위버스티븐랭조샐다나샘워싱턴개봉미국리뷰보기아바타장르판타지모험액션감독제임스카메론주연조셀다나네이티리역샘워싱턴제이크설리역시고니위버그레이스어거스틴역스티븐랭마일즈쿼리치역국적미국북미개봉일년월일년월일북미개봉작으로기대를모으고있는영화아바타특히나주인공네이티리의캐릭터이미지가공개가되어서올려봅니다배우조샐다나와샘워싱턴시고니위버그리고스티븐랭까지전편에서출연했었던배우들이그대로출연을하고있어서더욱기대가되는영화인것같습니다아무튼제임스카메론감독의영화아바타편을시작으로년아바타와년아바타까지진행되고있어서앞으로더욱기대되는영화아바타인것같습니다'"
      ]
     },
     "execution_count": 19,
     "metadata": {},
     "output_type": "execute_result"
    }
   ],
   "source": [
    "test_sample = re.sub(r\"[^가-힣]\",\"\",test_sample)\n",
    "test_sample"
   ]
  },
  {
   "cell_type": "code",
   "execution_count": 20,
   "id": "88b08ce0",
   "metadata": {},
   "outputs": [
    {
     "name": "stdout",
     "output_type": "stream",
     "text": [
      "Requirement already satisfied: konlpy in c:\\users\\hyundong\\anaconda3\\lib\\site-packages (0.6.0)\n",
      "Requirement already satisfied: numpy>=1.6 in c:\\users\\hyundong\\anaconda3\\lib\\site-packages (from konlpy) (1.21.5)\n",
      "Requirement already satisfied: lxml>=4.1.0 in c:\\users\\hyundong\\anaconda3\\lib\\site-packages (from konlpy) (4.9.1)\n",
      "Requirement already satisfied: JPype1>=0.7.0 in c:\\users\\hyundong\\anaconda3\\lib\\site-packages (from konlpy) (1.4.1)\n",
      "Requirement already satisfied: packaging in c:\\users\\hyundong\\anaconda3\\lib\\site-packages (from JPype1>=0.7.0->konlpy) (21.3)\n",
      "Requirement already satisfied: pyparsing!=3.0.5,>=2.0.2 in c:\\users\\hyundong\\anaconda3\\lib\\site-packages (from packaging->JPype1>=0.7.0->konlpy) (3.0.9)\n"
     ]
    }
   ],
   "source": [
    "! pip install konlpy"
   ]
  },
  {
   "cell_type": "code",
   "execution_count": 21,
   "id": "f0431542",
   "metadata": {},
   "outputs": [
    {
     "ename": "NameError",
     "evalue": "name 'okt' is not defined",
     "output_type": "error",
     "traceback": [
      "\u001b[1;31m---------------------------------------------------------------------------\u001b[0m",
      "\u001b[1;31mNameError\u001b[0m                                 Traceback (most recent call last)",
      "\u001b[1;32m~\\AppData\\Local\\Temp\\ipykernel_14172\\3110496439.py\u001b[0m in \u001b[0;36m<module>\u001b[1;34m\u001b[0m\n\u001b[1;32m----> 1\u001b[1;33m \u001b[0mtokens\u001b[0m \u001b[1;33m=\u001b[0m \u001b[0mokt\u001b[0m\u001b[1;33m.\u001b[0m\u001b[0mnouns\u001b[0m\u001b[1;33m(\u001b[0m\u001b[0mtest_sample\u001b[0m\u001b[1;33m)\u001b[0m\u001b[1;33m\u001b[0m\u001b[1;33m\u001b[0m\u001b[0m\n\u001b[0m\u001b[0;32m      2\u001b[0m \u001b[0mcleaned_tokens\u001b[0m \u001b[1;33m=\u001b[0m \u001b[1;33m[\u001b[0m\u001b[1;33m]\u001b[0m\u001b[1;33m\u001b[0m\u001b[1;33m\u001b[0m\u001b[0m\n\u001b[0;32m      3\u001b[0m \u001b[1;32mfor\u001b[0m \u001b[0mword\u001b[0m \u001b[1;32min\u001b[0m \u001b[0mtokens\u001b[0m\u001b[1;33m:\u001b[0m\u001b[1;33m\u001b[0m\u001b[1;33m\u001b[0m\u001b[0m\n\u001b[0;32m      4\u001b[0m     \u001b[1;32mif\u001b[0m \u001b[1;32mNone\u001b[0m\u001b[1;33m:\u001b[0m\u001b[1;33m\u001b[0m\u001b[1;33m\u001b[0m\u001b[0m\n\u001b[0;32m      5\u001b[0m         \u001b[1;32mNone\u001b[0m\u001b[1;33m\u001b[0m\u001b[1;33m\u001b[0m\u001b[0m\n",
      "\u001b[1;31mNameError\u001b[0m: name 'okt' is not defined"
     ]
    }
   ],
   "source": [
    "tokens = okt.nouns(test_sample)\n",
    "cleaned_tokens = []\n",
    "for word in tokens:\n",
    "    if None:\n",
    "        None\n",
    "    else:\n",
    "        None\n",
    "cleaned_review = \" \".join(cleaned_tokens)\n",
    "\n",
    "cleaned_review"
   ]
  }
 ],
 "metadata": {
  "kernelspec": {
   "display_name": "Python 3 (ipykernel)",
   "language": "python",
   "name": "python3"
  },
  "language_info": {
   "codemirror_mode": {
    "name": "ipython",
    "version": 3
   },
   "file_extension": ".py",
   "mimetype": "text/x-python",
   "name": "python",
   "nbconvert_exporter": "python",
   "pygments_lexer": "ipython3",
   "version": "3.9.13"
  }
 },
 "nbformat": 4,
 "nbformat_minor": 5
}
