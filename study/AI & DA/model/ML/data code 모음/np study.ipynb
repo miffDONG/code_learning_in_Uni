{
 "cells": [
  {
   "cell_type": "code",
   "execution_count": 1,
   "id": "6dd4c69d",
   "metadata": {},
   "outputs": [],
   "source": [
    "import numpy as np"
   ]
  },
  {
   "cell_type": "code",
   "execution_count": 19,
   "id": "99838f57",
   "metadata": {},
   "outputs": [
    {
     "ename": "TypeError",
     "evalue": "Field elements must be 2- or 3-tuples, got '[15, 12, 13, 14, 15]'",
     "output_type": "error",
     "traceback": [
      "\u001b[1;31m---------------------------------------------------------------------------\u001b[0m",
      "\u001b[1;31mTypeError\u001b[0m                                 Traceback (most recent call last)",
      "\u001b[1;32m~\\AppData\\Local\\Temp\\ipykernel_14916\\3938032201.py\u001b[0m in \u001b[0;36m<module>\u001b[1;34m\u001b[0m\n\u001b[1;32m----> 1\u001b[1;33m \u001b[0moneDim\u001b[0m \u001b[1;33m=\u001b[0m \u001b[0mnp\u001b[0m\u001b[1;33m.\u001b[0m\u001b[0marray\u001b[0m\u001b[1;33m(\u001b[0m\u001b[1;33m[\u001b[0m\u001b[1;33m[\u001b[0m\u001b[1;36m1\u001b[0m\u001b[1;33m,\u001b[0m\u001b[1;36m2\u001b[0m\u001b[1;33m,\u001b[0m\u001b[1;36m3\u001b[0m\u001b[1;33m,\u001b[0m\u001b[1;36m4\u001b[0m\u001b[1;33m,\u001b[0m\u001b[1;36m5\u001b[0m\u001b[1;33m]\u001b[0m\u001b[1;33m,\u001b[0m\u001b[1;33m[\u001b[0m\u001b[1;36m7\u001b[0m\u001b[1;33m,\u001b[0m\u001b[1;36m8\u001b[0m\u001b[1;33m,\u001b[0m\u001b[1;36m9\u001b[0m\u001b[1;33m,\u001b[0m\u001b[1;36m10\u001b[0m\u001b[1;33m,\u001b[0m\u001b[1;36m11\u001b[0m\u001b[1;33m]\u001b[0m\u001b[1;33m]\u001b[0m\u001b[1;33m,\u001b[0m\u001b[1;33m[\u001b[0m\u001b[1;33m[\u001b[0m\u001b[1;36m15\u001b[0m\u001b[1;33m,\u001b[0m\u001b[1;36m12\u001b[0m\u001b[1;33m,\u001b[0m\u001b[1;36m13\u001b[0m\u001b[1;33m,\u001b[0m\u001b[1;36m14\u001b[0m\u001b[1;33m,\u001b[0m\u001b[1;36m15\u001b[0m\u001b[1;33m]\u001b[0m\u001b[1;33m,\u001b[0m\u001b[1;33m[\u001b[0m\u001b[1;36m21\u001b[0m\u001b[1;33m,\u001b[0m\u001b[1;36m22\u001b[0m\u001b[1;33m,\u001b[0m\u001b[1;36m23\u001b[0m\u001b[1;33m,\u001b[0m\u001b[1;36m24\u001b[0m\u001b[1;33m,\u001b[0m\u001b[1;36m52\u001b[0m\u001b[1;33m]\u001b[0m\u001b[1;33m]\u001b[0m\u001b[1;33m)\u001b[0m\u001b[1;33m\u001b[0m\u001b[1;33m\u001b[0m\u001b[0m\n\u001b[0m\u001b[0;32m      2\u001b[0m \u001b[0moneStr\u001b[0m \u001b[1;33m=\u001b[0m\u001b[0mnp\u001b[0m\u001b[1;33m.\u001b[0m\u001b[0marray\u001b[0m\u001b[1;33m(\u001b[0m\u001b[1;33m[\u001b[0m\u001b[1;34m'a'\u001b[0m\u001b[1;33m,\u001b[0m\u001b[1;34m'b'\u001b[0m\u001b[1;33m,\u001b[0m\u001b[1;34m'c'\u001b[0m\u001b[1;33m,\u001b[0m\u001b[1;34m'd'\u001b[0m\u001b[1;33m]\u001b[0m\u001b[1;33m)\u001b[0m\u001b[1;33m\u001b[0m\u001b[1;33m\u001b[0m\u001b[0m\n\u001b[0;32m      3\u001b[0m \u001b[0mprint\u001b[0m\u001b[1;33m(\u001b[0m\u001b[0moneDim\u001b[0m\u001b[1;33m)\u001b[0m\u001b[1;33m\u001b[0m\u001b[1;33m\u001b[0m\u001b[0m\n\u001b[0;32m      4\u001b[0m \u001b[0mprint\u001b[0m\u001b[1;33m(\u001b[0m\u001b[0moneStr\u001b[0m\u001b[1;33m)\u001b[0m\u001b[1;33m\u001b[0m\u001b[1;33m\u001b[0m\u001b[0m\n\u001b[0;32m      5\u001b[0m \u001b[0mprint\u001b[0m\u001b[1;33m(\u001b[0m\u001b[0moneDim\u001b[0m\u001b[1;33m.\u001b[0m\u001b[0mndim\u001b[0m\u001b[1;33m)\u001b[0m\u001b[1;33m\u001b[0m\u001b[1;33m\u001b[0m\u001b[0m\n",
      "\u001b[1;31mTypeError\u001b[0m: Field elements must be 2- or 3-tuples, got '[15, 12, 13, 14, 15]'"
     ]
    }
   ],
   "source": [
    "oneDim = np.array([[1,2,3,4,5],[7,8,9,10,11]],[[15,12,13,14,15],[21,22,23,24,52]])\n",
    "oneStr =np.array(['a','b','c','d'])\n",
    "print(oneDim)\n",
    "print(oneStr)\n",
    "print(oneDim.ndim)\n",
    "print(oneDim.size)\n",
    "#고차원부터 저차원으로 읽음\n",
    "print(oneDim.shape)\n"
   ]
  },
  {
   "cell_type": "code",
   "execution_count": 25,
   "id": "59c62054",
   "metadata": {},
   "outputs": [
    {
     "name": "stdout",
     "output_type": "stream",
     "text": [
      "(1,)\n",
      "(1, 1, 2, 2)\n"
     ]
    }
   ],
   "source": [
    "#차원이 맞아야 함.\n",
    "\n",
    "print(np.array([1]).shape)\n",
    "print(np.array([[[[1,2],[1,2]]]]).shape)"
   ]
  },
  {
   "cell_type": "code",
   "execution_count": 26,
   "id": "497bd0f3",
   "metadata": {},
   "outputs": [
    {
     "name": "stdout",
     "output_type": "stream",
     "text": [
      "True\n"
     ]
    }
   ],
   "source": [
    "print((1,2)==(1,2,))"
   ]
  },
  {
   "cell_type": "code",
   "execution_count": 40,
   "id": "ea57c2b2",
   "metadata": {},
   "outputs": [
    {
     "name": "stdout",
     "output_type": "stream",
     "text": [
      "[[[0.28237764 0.89669387]\n",
      "  [0.28517222 0.29917658]]\n",
      "\n",
      " [[0.36455876 0.87100312]\n",
      "  [0.88525171 0.84562705]]]\n"
     ]
    }
   ],
   "source": [
    "np.arange(-10,10,2).reshape(1,2,5)\n",
    "print(np.random.rand(2,2,2))\n",
    "print(np.logspace)"
   ]
  },
  {
   "cell_type": "code",
   "execution_count": 42,
   "id": "dce777fc",
   "metadata": {},
   "outputs": [
    {
     "name": "stdout",
     "output_type": "stream",
     "text": [
      "[2 4 6]\n"
     ]
    }
   ],
   "source": [
    "a= np.array([1,2,3])\n",
    "b = np.array([1,2,3])\n",
    "print(a+b)"
   ]
  },
  {
   "cell_type": "code",
   "execution_count": 57,
   "id": "26f0c957",
   "metadata": {},
   "outputs": [
    {
     "name": "stdout",
     "output_type": "stream",
     "text": [
      "[2 3]\n",
      "[  1 100 100   4   5   6]\n"
     ]
    }
   ],
   "source": [
    "#numpy slicing은 주소를 공유한다. not copy.\n",
    "#list는 값을 복사해서 새로운 list를 만듬.\n",
    "a=np.array([1,2,3,4,5,6])\n",
    "x = a[1:3]\n",
    "print(x)\n",
    "x[:]=100\n",
    "print(a)"
   ]
  },
  {
   "cell_type": "code",
   "execution_count": 67,
   "id": "9a6c020d",
   "metadata": {},
   "outputs": [
    {
     "name": "stdout",
     "output_type": "stream",
     "text": [
      "[[   1    2 1000    4]\n",
      " [   5    6    7    8]\n",
      " [   9   10 1000   12]]\n",
      "[[   1    2 2000    4]\n",
      " [   5    6    7    8]\n",
      " [   9   10 1000   12]]\n"
     ]
    }
   ],
   "source": [
    "a = np.array([[1,2,3,4],[5,6,7,8],[9,10,11,12]])\n",
    "sliced = a[::2,2:]\n",
    "sliced[:,:1] = 1000\n",
    "print(a)\n",
    "sliced[0,0] = 2000\n",
    "print(a)"
   ]
  },
  {
   "cell_type": "code",
   "execution_count": 77,
   "id": "c94e4a7a",
   "metadata": {},
   "outputs": [
    {
     "data": {
      "text/plain": [
       "array([[1000,   12],\n",
       "       [   7,    8]])"
      ]
     },
     "execution_count": 77,
     "metadata": {},
     "output_type": "execute_result"
    }
   ],
   "source": [
    "a[[2,1],2:]"
   ]
  },
  {
   "cell_type": "code",
   "execution_count": 79,
   "id": "14a2b588",
   "metadata": {},
   "outputs": [
    {
     "name": "stdout",
     "output_type": "stream",
     "text": [
      "[21 22 23 24 25 26 27 28 29 30 31 32 33 34]\n"
     ]
    }
   ],
   "source": [
    "y= np.arange(35).reshape(5,7)\n",
    "t=y[y>20]\n",
    "print(t)"
   ]
  },
  {
   "cell_type": "code",
   "execution_count": 89,
   "id": "94e76f76",
   "metadata": {},
   "outputs": [
    {
     "name": "stdout",
     "output_type": "stream",
     "text": [
      "[2 3]\n",
      "[1 2 3]\n"
     ]
    }
   ],
   "source": [
    "x=np.array([1,2,3])\n",
    "y=x[x>1]\n",
    "print(y)\n",
    "y[0]=100\n",
    "print(x)"
   ]
  },
  {
   "cell_type": "code",
   "execution_count": 94,
   "id": "30862cb2",
   "metadata": {},
   "outputs": [
    {
     "data": {
      "text/plain": [
       "array([[  0,   1,  -2,   3,  -4,   5,  -6],\n",
       "       [  7,  -8,   9, -10,  11, -12,  13],\n",
       "       [-14,  15, -16,  17, -18,  19, -20],\n",
       "       [ 21, -22,  23, -24,  25, -26,  27],\n",
       "       [-28,  29, -30,  31, -32,  33, -34]])"
      ]
     },
     "execution_count": 94,
     "metadata": {},
     "output_type": "execute_result"
    }
   ],
   "source": [
    "M = np.arange(35).reshape(5,7)\n",
    "M[M%2==0]= -M[M%2==0]\n",
    "M"
   ]
  },
  {
   "cell_type": "code",
   "execution_count": 95,
   "id": "adacd8b6",
   "metadata": {},
   "outputs": [
    {
     "data": {
      "text/plain": [
       "array([[100, 200, 200, 100, 200, 200, 100],\n",
       "       [200, 200, 100, 200, 200, 100, 200],\n",
       "       [200, 100, 200, 200, 100, 200, 200],\n",
       "       [100, 200, 200, 100, 200, 200, 100],\n",
       "       [200, 200, 100, 200, 200, 100, 200]])"
      ]
     },
     "execution_count": 95,
     "metadata": {},
     "output_type": "execute_result"
    }
   ],
   "source": [
    "np.where(M%3==0,100,200)"
   ]
  },
  {
   "cell_type": "code",
   "execution_count": 99,
   "id": "004f2839",
   "metadata": {},
   "outputs": [
    {
     "name": "stdout",
     "output_type": "stream",
     "text": [
      "[[ 1  2  3]\n",
      " [ 4  5  6]\n",
      " [ 7  8  9]\n",
      " [10 11 12]]\n",
      "\n",
      "[[ 7  8  9]\n",
      " [ 4  5  6]\n",
      " [ 1  2  3]\n",
      " [10 11 12]]\n",
      "\n",
      "[[ 1  2  3]\n",
      " [ 4  5  6]\n",
      " [ 7  8  9]\n",
      " [10 11 12]]\n"
     ]
    }
   ],
   "source": [
    "m2arr=np.arange(1,13).reshape(4,3)\n",
    "print(m2arr)\n",
    "indices = [2,1,0,3]\n",
    "y = m2arr[indices]\n",
    "print()\n",
    "print(y)\n",
    "print()\n",
    "print(m2arr)"
   ]
  },
  {
   "cell_type": "code",
   "execution_count": null,
   "id": "d1cfe3f3",
   "metadata": {},
   "outputs": [],
   "source": [
    "np.add\n",
    "np.subtract\n",
    "np.multiply\n",
    "#다른 np.array 비교\n",
    "np.maximum "
   ]
  },
  {
   "cell_type": "code",
   "execution_count": 101,
   "id": "9989683e",
   "metadata": {},
   "outputs": [
    {
     "name": "stdout",
     "output_type": "stream",
     "text": [
      "[[1 1 1]]\n",
      "[[1]\n",
      " [1]\n",
      " [1]]\n"
     ]
    }
   ],
   "source": [
    "a=np.array([[1]]*3)\n",
    "b=a.T\n",
    "print(b)\n",
    "print(a)"
   ]
  },
  {
   "cell_type": "code",
   "execution_count": 102,
   "id": "e5d7f0a2",
   "metadata": {},
   "outputs": [
    {
     "data": {
      "text/plain": [
       "array([[[ 1,  2,  3,  4],\n",
       "        [ 5,  6,  7,  8],\n",
       "        [ 9, 10, 11, 12]],\n",
       "\n",
       "       [[13, 14, 15, 16],\n",
       "        [17, 18, 19, 20],\n",
       "        [21, 22, 23, 24]]])"
      ]
     },
     "execution_count": 102,
     "metadata": {},
     "output_type": "execute_result"
    }
   ],
   "source": [
    "np.array(range(1,25)).reshape(2,3,4)"
   ]
  },
  {
   "cell_type": "code",
   "execution_count": 105,
   "id": "adb6f324",
   "metadata": {},
   "outputs": [
    {
     "data": {
      "text/plain": [
       "array([5.09901951, 6.32455532, 7.61577311, 8.94427191])"
      ]
     },
     "execution_count": 105,
     "metadata": {},
     "output_type": "execute_result"
    }
   ],
   "source": [
    "v=np.array([1,2,3,4])\n",
    "w=np.array([5,6,7,8])\n",
    "dist = lambda x,y:np.sqrt(x**2+y**2)\n",
    "dist(v,w)"
   ]
  },
  {
   "cell_type": "code",
   "execution_count": 111,
   "id": "ecbbc644",
   "metadata": {},
   "outputs": [
    {
     "name": "stdout",
     "output_type": "stream",
     "text": [
      "[[14 32]\n",
      " [32 77]]\n",
      "[[17 22 27]\n",
      " [22 29 36]\n",
      " [27 36 45]]\n"
     ]
    }
   ],
   "source": [
    "x=np.array([[1,2,3],[4,5,6]])\n",
    "y=x.T\n",
    "print(x.dot(x.T))\n",
    "print(y.dot(x))"
   ]
  },
  {
   "cell_type": "code",
   "execution_count": 115,
   "id": "409736da",
   "metadata": {},
   "outputs": [
    {
     "name": "stdout",
     "output_type": "stream",
     "text": [
      "[[ 0  1  2]\n",
      " [ 3  4  5]\n",
      " [ 6  7  8]\n",
      " [ 9 10 11]\n",
      " [12 13 14]]\n",
      "[[270 300 330]\n",
      " [300 335 370]\n",
      " [330 370 410]]\n",
      "[[ 2.69823507e+13 -5.39647014e+13  2.69823507e+13]\n",
      " [-5.39647014e+13  1.07929403e+14 -5.39647014e+13]\n",
      " [ 2.69823507e+13 -5.39647014e+13  2.69823507e+13]]\n"
     ]
    }
   ],
   "source": [
    "x=np.arange(15).reshape(5,3)\n",
    "print(x)\n",
    "c=x.T.dot(x)\n",
    "print(c)\n",
    "print(np.linalg.inv(c))"
   ]
  },
  {
   "cell_type": "code",
   "execution_count": 117,
   "id": "cc7e4eb6",
   "metadata": {},
   "outputs": [
    {
     "data": {
      "text/plain": [
       "<matplotlib.patches.FancyArrow at 0x2767b4417c0>"
      ]
     },
     "execution_count": 117,
     "metadata": {},
     "output_type": "execute_result"
    },
    {
     "data": {
      "image/png": "[encoded data removed]",
      "text/plain": [
       "<Figure size 500x500 with 1 Axes>"
      ]
     },
     "metadata": {},
     "output_type": "display_data"
    }
   ],
   "source": [
    "%matplotlib inline\n",
    "import numpy as np\n",
    "import matplotlib.pyplot as plt\n",
    "\n",
    "plt.figure(figsize=(5,5))\n",
    "plt.axis([0,4,0,4])\n",
    "\n",
    "v = np.array([1,2])\n",
    "w = np.array([2,1])\n",
    "plt.arrow(0,0,v[0],v[1], head_width=0.05,head_length=0.1)"
   ]
  },
  {
   "cell_type": "code",
   "execution_count": 135,
   "id": "4e8db1d9",
   "metadata": {},
   "outputs": [
    {
     "name": "stdout",
     "output_type": "stream",
     "text": [
      "False\n",
      "2.23606797749979\n",
      "2.23606797749979\n"
     ]
    }
   ],
   "source": [
    "v=[0,1,1,0]\n",
    "w=[0,100,100,0]\n",
    "\n",
    "n=np.dot(v,w)\n",
    "m=np.linalg.norm(v)*np.linalg.norm(w)\n",
    "np.linalg.norm(v)\n",
    "np.linalg.norm(w)\n",
    "\n",
    "v=[1,2]\n",
    "print(np.sqrt(np.linalg.norm(v)) np.dot(v,v))\n",
    "print(np.sqrt(np.dot(v,v)))\n",
    "print(np.linalg.norm(v))"
   ]
  },
  {
   "cell_type": "code",
   "execution_count": 136,
   "id": "362a5ce8",
   "metadata": {},
   "outputs": [
    {
     "data": {
      "text/plain": [
       "array([[ 7,  7],\n",
       "       [14, 14]])"
      ]
     },
     "execution_count": 136,
     "metadata": {},
     "output_type": "execute_result"
    }
   ],
   "source": [
    "A=[[1,1],[2,2]]\n",
    "B=[[3,3],[4,4]]\n",
    "np.matmul(A,B)"
   ]
  },
  {
   "cell_type": "code",
   "execution_count": 183,
   "id": "c0646293",
   "metadata": {},
   "outputs": [
    {
     "data": {
      "text/plain": [
       "{'whiskers': [<matplotlib.lines.Line2D at 0x2767cea2550>,\n",
       "  <matplotlib.lines.Line2D at 0x2767cea2820>],\n",
       " 'caps': [<matplotlib.lines.Line2D at 0x2767cea2af0>,\n",
       "  <matplotlib.lines.Line2D at 0x2767cea2dc0>],\n",
       " 'boxes': [<matplotlib.lines.Line2D at 0x2767cea22e0>],\n",
       " 'medians': [<matplotlib.lines.Line2D at 0x2767ceaf0d0>],\n",
       " 'fliers': [<matplotlib.lines.Line2D at 0x2767ceaf3a0>],\n",
       " 'means': []}"
      ]
     },
     "execution_count": 183,
     "metadata": {},
     "output_type": "execute_result"
    },
    {
     "data": {
      "image/png": "[encoded data removed]",
      "text/plain": [
       "<Figure size 640x480 with 1 Axes>"
      ]
     },
     "metadata": {},
     "output_type": "display_data"
    }
   ],
   "source": [
    "from collections import Counter\n",
    "\n",
    "# A=[10,10,20,35,12,61,23,25,12,34,5,3,23,56,32,13,54,22,55,44,33,12]\n",
    "# friend_counts = Counter(A)\n",
    "# xs=range(101)\n",
    "# ys = list(friend_counts.values())\n",
    "# print(ys)\n",
    "# plt.bar(xs,ys)\n",
    "# plt.axis([0,101,0,25])\n",
    "\n",
    "A=[-100,10,10,20,35,12,61,23,25,12,34,5,3,23,56,32,13,54,22,55,44,33,12,100]\n",
    "friend_counts = Counter(A)\n",
    "# xs=range(101)\n",
    "# # ys = list(friend_counts.values())\n",
    "# ys=[friend_counts[x] for x in xs]\n",
    "# print(ys)\n",
    "# plt.bar(xs,ys)\n",
    "plt.boxplot(friend_counts)"
   ]
  },
  {
   "cell_type": "code",
   "execution_count": 184,
   "id": "794e0e7a",
   "metadata": {},
   "outputs": [
    {
     "name": "stdout",
     "output_type": "stream",
     "text": [
      "[ 1  2  3  7  9 10]\n",
      "2.25\n",
      "5.0\n"
     ]
    }
   ],
   "source": [
    "a=[10,9,7,3,2,1]\n",
    "print(np.sort(a))\n",
    "print(np.quantile(a,0.25))\n",
    "print(np.quantile(a,0.5))"
   ]
  },
  {
   "cell_type": "code",
   "execution_count": 189,
   "id": "a3ccbbc6",
   "metadata": {},
   "outputs": [
    {
     "data": {
      "text/plain": [
       "3.496029493900505"
      ]
     },
     "execution_count": 189,
     "metadata": {},
     "output_type": "execute_result"
    }
   ],
   "source": [
    "np.std(a)"
   ]
  },
  {
   "cell_type": "code",
   "execution_count": 198,
   "id": "9c492952",
   "metadata": {},
   "outputs": [
    {
     "data": {
      "image/png": "[encoded data removed]",
      "text/plain": [
       "<Figure size 640x480 with 2 Axes>"
      ]
     },
     "metadata": {},
     "output_type": "display_data"
    }
   ],
   "source": [
    "import numpy as np\n",
    "import matplotlib.pyplot as plt\n",
    "\n",
    "x1 = np.random.randn(100)\n",
    "x2=np.random.randn(100)\n",
    "y=3*x1-2*x2 + np.random.rand(100)\n",
    "w1_vals = np.linspace(-5,5,100)\n",
    "w2_vals = np.linspace(-5,5,100)\n",
    "w1_mesh,w2_mesh=np.meshgrid(w1_vals,w2_vals)\n",
    "\n",
    "j = np.zeros((len(w1_vals),len(w2_vals)))\n",
    "for i in range(len(w1_vals)):\n",
    "    for k in range(len(w2_vals)):\n",
    "        w1 = w1_vals[i]\n",
    "        w2 = w2_vals[k]\n",
    "        y_pred = w1*x1 + w2*x2\n",
    "        j[i,k] = np.mean((y_pred-y)**2)\n",
    "        \n",
    "plt.figure()\n",
    "plt.contourf(w1_mesh,w2_mesh,j.T,levels=20, cmap='coolwarm')\n",
    "plt.colorbar()\n",
    "plt.xlabel('w1')\n",
    "plt.ylabel('w2')\n",
    "plt.title('error')\n",
    "plt.show()\n",
    "\n",
    "\n"
   ]
  },
  {
   "cell_type": "code",
   "execution_count": 200,
   "id": "c3695919",
   "metadata": {},
   "outputs": [
    {
     "ename": "NameError",
     "evalue": "name 'sum_of_squares_gradient' is not defined",
     "output_type": "error",
     "traceback": [
      "\u001b[1;31m---------------------------------------------------------------------------\u001b[0m",
      "\u001b[1;31mNameError\u001b[0m                                 Traceback (most recent call last)",
      "\u001b[1;32m~\\AppData\\Local\\Temp\\ipykernel_14916\\1787251024.py\u001b[0m in \u001b[0;36m<module>\u001b[1;34m\u001b[0m\n\u001b[0;32m      3\u001b[0m \u001b[1;33m\u001b[0m\u001b[0m\n\u001b[0;32m      4\u001b[0m \u001b[1;32mwhile\u001b[0m \u001b[1;32mTrue\u001b[0m\u001b[1;33m:\u001b[0m\u001b[1;33m\u001b[0m\u001b[1;33m\u001b[0m\u001b[0m\n\u001b[1;32m----> 5\u001b[1;33m     \u001b[0mgradient\u001b[0m \u001b[1;33m=\u001b[0m \u001b[0msum_of_squares_gradient\u001b[0m\u001b[1;33m(\u001b[0m\u001b[0mv\u001b[0m\u001b[1;33m)\u001b[0m\u001b[1;33m\u001b[0m\u001b[1;33m\u001b[0m\u001b[0m\n\u001b[0m\u001b[0;32m      6\u001b[0m \u001b[1;33m\u001b[0m\u001b[0m\n",
      "\u001b[1;31mNameError\u001b[0m: name 'sum_of_squares_gradient' is not defined"
     ]
    }
   ],
   "source": [
    "v=[np.random.randint(-10,10) for i in range(2)]\n",
    "tolerance = 0.0000001\n",
    "\n",
    "while True:\n",
    "    gradient = sum_of_squares_gradient(v)\n",
    "    "
   ]
  },
  {
   "cell_type": "code",
   "execution_count": null,
   "id": "13319fe9",
   "metadata": {},
   "outputs": [],
   "source": []
  },
  {
   "cell_type": "code",
   "execution_count": 205,
   "id": "0a0193bd",
   "metadata": {},
   "outputs": [
    {
     "data": {
      "text/plain": [
       "array([[[1, 2, 3]],\n",
       "\n",
       "       [[4, 5, 6]]])"
      ]
     },
     "execution_count": 205,
     "metadata": {},
     "output_type": "execute_result"
    }
   ],
   "source": [
    "t = np.array([[1,2,3],[4,5,6]])\n",
    "t_x = t[:,np.newaxis,:]\n",
    "t_x.shape\n",
    "t_x"
   ]
  }
 ],
 "metadata": {
  "kernelspec": {
   "display_name": "Python 3 (ipykernel)",
   "language": "python",
   "name": "python3"
  },
  "language_info": {
   "codemirror_mode": {
    "name": "ipython",
    "version": 3
   },
   "file_extension": ".py",
   "mimetype": "text/x-python",
   "name": "python",
   "nbconvert_exporter": "python",
   "pygments_lexer": "ipython3",
   "version": "3.9.13"
  }
 },
 "nbformat": 4,
 "nbformat_minor": 5
}
