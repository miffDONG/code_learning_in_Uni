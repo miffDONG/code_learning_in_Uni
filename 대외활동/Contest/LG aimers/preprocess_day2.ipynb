{
 "cells": [
  {
   "cell_type": "markdown",
   "id": "017e9265",
   "metadata": {},
   "source": [
    "# 영업 성공 여부 분류 경진대회"
   ]
  },
  {
   "cell_type": "markdown",
   "id": "38bd1e78",
   "metadata": {},
   "source": [
    "# 할 것\n",
    "\n",
    "결측치 처리\n",
    "파생변수 생성"
   ]
  },
  {
   "cell_type": "markdown",
   "id": "acdab431",
   "metadata": {},
   "source": [
    "## 1. 데이터 확인"
   ]
  },
  {
   "cell_type": "markdown",
   "id": "2b8341e8",
   "metadata": {},
   "source": [
    "### 필수 라이브러리"
   ]
  },
  {
   "cell_type": "code",
   "execution_count": 1,
   "id": "a315cc58",
   "metadata": {},
   "outputs": [],
   "source": [
    "import pandas as pd\n",
    "import numpy as np\n",
    "from sklearn.metrics import (\n",
    "    accuracy_score,\n",
    "    confusion_matrix,\n",
    "    f1_score,\n",
    "    precision_score,\n",
    "    recall_score,\n",
    ")\n",
    "from sklearn.model_selection import train_test_split\n",
    "from sklearn.tree import DecisionTreeClassifier\n",
    "\n",
    "pd.set_option('display.max_rows', None)\n",
    "pd.set_option('display.max_columns', None)\n",
    "\n",
    "def seed_everything(seed):\n",
    "    np.random.seed(seed) #numpy를 사용할 경우 고정\n",
    "seed_everything(42)"
   ]
  },
  {
   "cell_type": "markdown",
   "id": "412f98cc",
   "metadata": {},
   "source": [
    "### 데이터 셋 읽어오기"
   ]
  },
  {
   "cell_type": "code",
   "execution_count": 2,
   "id": "7ada941e",
   "metadata": {},
   "outputs": [],
   "source": [
    "df_train = pd.read_csv(\"train.csv\") # 학습용 데이터\n",
    "df_test = pd.read_csv(\"submission.csv\") # 테스트 데이터(제출파일의 데이터)"
   ]
  },
  {
   "cell_type": "code",
   "execution_count": 3,
   "id": "be1ee974",
   "metadata": {},
   "outputs": [
    {
     "data": {
      "text/html": [
       "<div>\n",
       "<style scoped>\n",
       "    .dataframe tbody tr th:only-of-type {\n",
       "        vertical-align: middle;\n",
       "    }\n",
       "\n",
       "    .dataframe tbody tr th {\n",
       "        vertical-align: top;\n",
       "    }\n",
       "\n",
       "    .dataframe thead th {\n",
       "        text-align: right;\n",
       "    }\n",
       "</style>\n",
       "<table border=\"1\" class=\"dataframe\">\n",
       "  <thead>\n",
       "    <tr style=\"text-align: right;\">\n",
       "      <th></th>\n",
       "      <th>bant_submit</th>\n",
       "      <th>customer_country</th>\n",
       "      <th>business_unit</th>\n",
       "      <th>com_reg_ver_win_rate</th>\n",
       "      <th>customer_idx</th>\n",
       "      <th>customer_type</th>\n",
       "      <th>enterprise</th>\n",
       "      <th>historical_existing_cnt</th>\n",
       "      <th>id_strategic_ver</th>\n",
       "      <th>it_strategic_ver</th>\n",
       "      <th>idit_strategic_ver</th>\n",
       "      <th>customer_job</th>\n",
       "      <th>lead_desc_length</th>\n",
       "      <th>inquiry_type</th>\n",
       "      <th>product_category</th>\n",
       "      <th>product_subcategory</th>\n",
       "      <th>product_modelname</th>\n",
       "      <th>customer_country.1</th>\n",
       "      <th>customer_position</th>\n",
       "      <th>response_corporate</th>\n",
       "      <th>expected_timeline</th>\n",
       "      <th>ver_cus</th>\n",
       "      <th>ver_pro</th>\n",
       "      <th>ver_win_rate_x</th>\n",
       "      <th>ver_win_ratio_per_bu</th>\n",
       "      <th>business_area</th>\n",
       "      <th>business_subarea</th>\n",
       "      <th>lead_owner</th>\n",
       "      <th>is_converted</th>\n",
       "    </tr>\n",
       "  </thead>\n",
       "  <tbody>\n",
       "    <tr>\n",
       "      <th>0</th>\n",
       "      <td>1.0</td>\n",
       "      <td>/Quezon City/Philippines</td>\n",
       "      <td>AS</td>\n",
       "      <td>0.066667</td>\n",
       "      <td>32160</td>\n",
       "      <td>End-Customer</td>\n",
       "      <td>Enterprise</td>\n",
       "      <td>NaN</td>\n",
       "      <td>NaN</td>\n",
       "      <td>NaN</td>\n",
       "      <td>NaN</td>\n",
       "      <td>purchasing</td>\n",
       "      <td>62</td>\n",
       "      <td>Quotation or purchase consultation</td>\n",
       "      <td>multi-split</td>\n",
       "      <td>NaN</td>\n",
       "      <td>NaN</td>\n",
       "      <td>/Quezon City/Philippines</td>\n",
       "      <td>entry level</td>\n",
       "      <td>LGEPH</td>\n",
       "      <td>less than 3 months</td>\n",
       "      <td>1</td>\n",
       "      <td>0</td>\n",
       "      <td>0.003079</td>\n",
       "      <td>0.026846</td>\n",
       "      <td>corporate / office</td>\n",
       "      <td>Engineering</td>\n",
       "      <td>0</td>\n",
       "      <td>True</td>\n",
       "    </tr>\n",
       "    <tr>\n",
       "      <th>1</th>\n",
       "      <td>1.0</td>\n",
       "      <td>/PH-00/Philippines</td>\n",
       "      <td>AS</td>\n",
       "      <td>0.066667</td>\n",
       "      <td>23122</td>\n",
       "      <td>End-Customer</td>\n",
       "      <td>Enterprise</td>\n",
       "      <td>12.0</td>\n",
       "      <td>NaN</td>\n",
       "      <td>NaN</td>\n",
       "      <td>NaN</td>\n",
       "      <td>media and communication</td>\n",
       "      <td>96</td>\n",
       "      <td>Quotation or purchase consultation</td>\n",
       "      <td>multi-split</td>\n",
       "      <td>NaN</td>\n",
       "      <td>NaN</td>\n",
       "      <td>/PH-00/Philippines</td>\n",
       "      <td>ceo/founder</td>\n",
       "      <td>LGEPH</td>\n",
       "      <td>less than 3 months</td>\n",
       "      <td>1</td>\n",
       "      <td>0</td>\n",
       "      <td>0.003079</td>\n",
       "      <td>0.026846</td>\n",
       "      <td>corporate / office</td>\n",
       "      <td>Advertising</td>\n",
       "      <td>1</td>\n",
       "      <td>True</td>\n",
       "    </tr>\n",
       "    <tr>\n",
       "      <th>2</th>\n",
       "      <td>1.0</td>\n",
       "      <td>/Kolkata /India</td>\n",
       "      <td>AS</td>\n",
       "      <td>0.088889</td>\n",
       "      <td>1755</td>\n",
       "      <td>End-Customer</td>\n",
       "      <td>Enterprise</td>\n",
       "      <td>144.0</td>\n",
       "      <td>NaN</td>\n",
       "      <td>NaN</td>\n",
       "      <td>NaN</td>\n",
       "      <td>engineering</td>\n",
       "      <td>56</td>\n",
       "      <td>Product Information</td>\n",
       "      <td>single-split</td>\n",
       "      <td>NaN</td>\n",
       "      <td>NaN</td>\n",
       "      <td>/Kolkata /India</td>\n",
       "      <td>partner</td>\n",
       "      <td>LGEIL</td>\n",
       "      <td>less than 3 months</td>\n",
       "      <td>1</td>\n",
       "      <td>0</td>\n",
       "      <td>0.003079</td>\n",
       "      <td>0.026846</td>\n",
       "      <td>corporate / office</td>\n",
       "      <td>Construction</td>\n",
       "      <td>2</td>\n",
       "      <td>True</td>\n",
       "    </tr>\n",
       "    <tr>\n",
       "      <th>3</th>\n",
       "      <td>1.0</td>\n",
       "      <td>/Bhubaneswar/India</td>\n",
       "      <td>AS</td>\n",
       "      <td>0.088889</td>\n",
       "      <td>4919</td>\n",
       "      <td>End-Customer</td>\n",
       "      <td>Enterprise</td>\n",
       "      <td>NaN</td>\n",
       "      <td>NaN</td>\n",
       "      <td>NaN</td>\n",
       "      <td>NaN</td>\n",
       "      <td>entrepreneurship</td>\n",
       "      <td>44</td>\n",
       "      <td>Quotation or purchase consultation</td>\n",
       "      <td>vrf</td>\n",
       "      <td>NaN</td>\n",
       "      <td>NaN</td>\n",
       "      <td>/Bhubaneswar/India</td>\n",
       "      <td>ceo/founder</td>\n",
       "      <td>LGEIL</td>\n",
       "      <td>less than 3 months</td>\n",
       "      <td>1</td>\n",
       "      <td>0</td>\n",
       "      <td>0.003079</td>\n",
       "      <td>0.026846</td>\n",
       "      <td>corporate / office</td>\n",
       "      <td>IT/Software</td>\n",
       "      <td>3</td>\n",
       "      <td>True</td>\n",
       "    </tr>\n",
       "    <tr>\n",
       "      <th>4</th>\n",
       "      <td>1.0</td>\n",
       "      <td>/Hyderabad/India</td>\n",
       "      <td>AS</td>\n",
       "      <td>0.088889</td>\n",
       "      <td>17126</td>\n",
       "      <td>Specifier/ Influencer</td>\n",
       "      <td>Enterprise</td>\n",
       "      <td>NaN</td>\n",
       "      <td>NaN</td>\n",
       "      <td>NaN</td>\n",
       "      <td>NaN</td>\n",
       "      <td>consulting</td>\n",
       "      <td>97</td>\n",
       "      <td>Quotation or purchase consultation</td>\n",
       "      <td>multi-split</td>\n",
       "      <td>NaN</td>\n",
       "      <td>NaN</td>\n",
       "      <td>/Hyderabad/India</td>\n",
       "      <td>partner</td>\n",
       "      <td>LGEIL</td>\n",
       "      <td>less than 3 months</td>\n",
       "      <td>0</td>\n",
       "      <td>0</td>\n",
       "      <td>0.003079</td>\n",
       "      <td>0.026846</td>\n",
       "      <td>corporate / office</td>\n",
       "      <td>NaN</td>\n",
       "      <td>4</td>\n",
       "      <td>True</td>\n",
       "    </tr>\n",
       "  </tbody>\n",
       "</table>\n",
       "</div>"
      ],
      "text/plain": [
       "   bant_submit          customer_country business_unit  com_reg_ver_win_rate  \\\n",
       "0          1.0  /Quezon City/Philippines            AS              0.066667   \n",
       "1          1.0        /PH-00/Philippines            AS              0.066667   \n",
       "2          1.0           /Kolkata /India            AS              0.088889   \n",
       "3          1.0        /Bhubaneswar/India            AS              0.088889   \n",
       "4          1.0          /Hyderabad/India            AS              0.088889   \n",
       "\n",
       "   customer_idx          customer_type  enterprise  historical_existing_cnt  \\\n",
       "0         32160           End-Customer  Enterprise                      NaN   \n",
       "1         23122           End-Customer  Enterprise                     12.0   \n",
       "2          1755           End-Customer  Enterprise                    144.0   \n",
       "3          4919           End-Customer  Enterprise                      NaN   \n",
       "4         17126  Specifier/ Influencer  Enterprise                      NaN   \n",
       "\n",
       "   id_strategic_ver  it_strategic_ver  idit_strategic_ver  \\\n",
       "0               NaN               NaN                 NaN   \n",
       "1               NaN               NaN                 NaN   \n",
       "2               NaN               NaN                 NaN   \n",
       "3               NaN               NaN                 NaN   \n",
       "4               NaN               NaN                 NaN   \n",
       "\n",
       "              customer_job  lead_desc_length  \\\n",
       "0               purchasing                62   \n",
       "1  media and communication                96   \n",
       "2              engineering                56   \n",
       "3         entrepreneurship                44   \n",
       "4               consulting                97   \n",
       "\n",
       "                         inquiry_type product_category product_subcategory  \\\n",
       "0  Quotation or purchase consultation      multi-split                 NaN   \n",
       "1  Quotation or purchase consultation      multi-split                 NaN   \n",
       "2                 Product Information     single-split                 NaN   \n",
       "3  Quotation or purchase consultation              vrf                 NaN   \n",
       "4  Quotation or purchase consultation      multi-split                 NaN   \n",
       "\n",
       "  product_modelname        customer_country.1 customer_position  \\\n",
       "0               NaN  /Quezon City/Philippines       entry level   \n",
       "1               NaN        /PH-00/Philippines       ceo/founder   \n",
       "2               NaN           /Kolkata /India           partner   \n",
       "3               NaN        /Bhubaneswar/India       ceo/founder   \n",
       "4               NaN          /Hyderabad/India           partner   \n",
       "\n",
       "  response_corporate   expected_timeline  ver_cus  ver_pro  ver_win_rate_x  \\\n",
       "0              LGEPH  less than 3 months        1        0        0.003079   \n",
       "1              LGEPH  less than 3 months        1        0        0.003079   \n",
       "2              LGEIL  less than 3 months        1        0        0.003079   \n",
       "3              LGEIL  less than 3 months        1        0        0.003079   \n",
       "4              LGEIL  less than 3 months        0        0        0.003079   \n",
       "\n",
       "   ver_win_ratio_per_bu       business_area business_subarea  lead_owner  \\\n",
       "0              0.026846  corporate / office      Engineering           0   \n",
       "1              0.026846  corporate / office      Advertising           1   \n",
       "2              0.026846  corporate / office     Construction           2   \n",
       "3              0.026846  corporate / office      IT/Software           3   \n",
       "4              0.026846  corporate / office              NaN           4   \n",
       "\n",
       "   is_converted  \n",
       "0          True  \n",
       "1          True  \n",
       "2          True  \n",
       "3          True  \n",
       "4          True  "
      ]
     },
     "execution_count": 3,
     "metadata": {},
     "output_type": "execute_result"
    }
   ],
   "source": [
    "df_train.head()"
   ]
  },
  {
   "cell_type": "code",
   "execution_count": 4,
   "id": "6566bfd2",
   "metadata": {},
   "outputs": [
    {
     "name": "stderr",
     "output_type": "stream",
     "text": [
      "/tmp/ipykernel_79/929980573.py:9: SettingWithCopyWarning: \n",
      "A value is trying to be set on a copy of a slice from a DataFrame.\n",
      "Try using .loc[row_indexer,col_indexer] = value instead\n",
      "\n",
      "See the caveats in the documentation: https://pandas.pydata.org/pandas-docs/stable/user_guide/indexing.html#returning-a-view-versus-a-copy\n",
      "  mis_val_data['ratio'] = mis_val_data['mis_val'] / 59299\n"
     ]
    },
    {
     "data": {
      "text/html": [
       "<div>\n",
       "<style scoped>\n",
       "    .dataframe tbody tr th:only-of-type {\n",
       "        vertical-align: middle;\n",
       "    }\n",
       "\n",
       "    .dataframe tbody tr th {\n",
       "        vertical-align: top;\n",
       "    }\n",
       "\n",
       "    .dataframe thead th {\n",
       "        text-align: right;\n",
       "    }\n",
       "</style>\n",
       "<table border=\"1\" class=\"dataframe\">\n",
       "  <thead>\n",
       "    <tr style=\"text-align: right;\">\n",
       "      <th></th>\n",
       "      <th>mis_val</th>\n",
       "      <th>mis_val_bool</th>\n",
       "      <th>ratio</th>\n",
       "    </tr>\n",
       "  </thead>\n",
       "  <tbody>\n",
       "    <tr>\n",
       "      <th>inquiry_type</th>\n",
       "      <td>941</td>\n",
       "      <td>True</td>\n",
       "      <td>0.015869</td>\n",
       "    </tr>\n",
       "    <tr>\n",
       "      <th>customer_country.1</th>\n",
       "      <td>982</td>\n",
       "      <td>True</td>\n",
       "      <td>0.016560</td>\n",
       "    </tr>\n",
       "    <tr>\n",
       "      <th>customer_country</th>\n",
       "      <td>982</td>\n",
       "      <td>True</td>\n",
       "      <td>0.016560</td>\n",
       "    </tr>\n",
       "    <tr>\n",
       "      <th>customer_job</th>\n",
       "      <td>18733</td>\n",
       "      <td>True</td>\n",
       "      <td>0.315908</td>\n",
       "    </tr>\n",
       "    <tr>\n",
       "      <th>product_category</th>\n",
       "      <td>19374</td>\n",
       "      <td>True</td>\n",
       "      <td>0.326717</td>\n",
       "    </tr>\n",
       "    <tr>\n",
       "      <th>expected_timeline</th>\n",
       "      <td>30863</td>\n",
       "      <td>True</td>\n",
       "      <td>0.520464</td>\n",
       "    </tr>\n",
       "    <tr>\n",
       "      <th>business_area</th>\n",
       "      <td>40882</td>\n",
       "      <td>True</td>\n",
       "      <td>0.689421</td>\n",
       "    </tr>\n",
       "    <tr>\n",
       "      <th>ver_win_rate_x</th>\n",
       "      <td>40882</td>\n",
       "      <td>True</td>\n",
       "      <td>0.689421</td>\n",
       "    </tr>\n",
       "    <tr>\n",
       "      <th>customer_type</th>\n",
       "      <td>43961</td>\n",
       "      <td>True</td>\n",
       "      <td>0.741345</td>\n",
       "    </tr>\n",
       "    <tr>\n",
       "      <th>ver_win_ratio_per_bu</th>\n",
       "      <td>43995</td>\n",
       "      <td>True</td>\n",
       "      <td>0.741918</td>\n",
       "    </tr>\n",
       "    <tr>\n",
       "      <th>com_reg_ver_win_rate</th>\n",
       "      <td>44731</td>\n",
       "      <td>True</td>\n",
       "      <td>0.754330</td>\n",
       "    </tr>\n",
       "    <tr>\n",
       "      <th>historical_existing_cnt</th>\n",
       "      <td>45543</td>\n",
       "      <td>True</td>\n",
       "      <td>0.768023</td>\n",
       "    </tr>\n",
       "    <tr>\n",
       "      <th>product_subcategory</th>\n",
       "      <td>50064</td>\n",
       "      <td>True</td>\n",
       "      <td>0.844264</td>\n",
       "    </tr>\n",
       "    <tr>\n",
       "      <th>product_modelname</th>\n",
       "      <td>50070</td>\n",
       "      <td>True</td>\n",
       "      <td>0.844365</td>\n",
       "    </tr>\n",
       "    <tr>\n",
       "      <th>business_subarea</th>\n",
       "      <td>53773</td>\n",
       "      <td>True</td>\n",
       "      <td>0.906811</td>\n",
       "    </tr>\n",
       "    <tr>\n",
       "      <th>idit_strategic_ver</th>\n",
       "      <td>54734</td>\n",
       "      <td>True</td>\n",
       "      <td>0.923017</td>\n",
       "    </tr>\n",
       "    <tr>\n",
       "      <th>id_strategic_ver</th>\n",
       "      <td>55855</td>\n",
       "      <td>True</td>\n",
       "      <td>0.941921</td>\n",
       "    </tr>\n",
       "    <tr>\n",
       "      <th>it_strategic_ver</th>\n",
       "      <td>58178</td>\n",
       "      <td>True</td>\n",
       "      <td>0.981096</td>\n",
       "    </tr>\n",
       "  </tbody>\n",
       "</table>\n",
       "</div>"
      ],
      "text/plain": [
       "                         mis_val  mis_val_bool     ratio\n",
       "inquiry_type                 941          True  0.015869\n",
       "customer_country.1           982          True  0.016560\n",
       "customer_country             982          True  0.016560\n",
       "customer_job               18733          True  0.315908\n",
       "product_category           19374          True  0.326717\n",
       "expected_timeline          30863          True  0.520464\n",
       "business_area              40882          True  0.689421\n",
       "ver_win_rate_x             40882          True  0.689421\n",
       "customer_type              43961          True  0.741345\n",
       "ver_win_ratio_per_bu       43995          True  0.741918\n",
       "com_reg_ver_win_rate       44731          True  0.754330\n",
       "historical_existing_cnt    45543          True  0.768023\n",
       "product_subcategory        50064          True  0.844264\n",
       "product_modelname          50070          True  0.844365\n",
       "business_subarea           53773          True  0.906811\n",
       "idit_strategic_ver         54734          True  0.923017\n",
       "id_strategic_ver           55855          True  0.941921\n",
       "it_strategic_ver           58178          True  0.981096"
      ]
     },
     "execution_count": 4,
     "metadata": {},
     "output_type": "execute_result"
    }
   ],
   "source": [
    "# 결측치가 있는 변수 및 결측률 파악 \n",
    "\n",
    "mis_val = df_train.isnull().sum()\n",
    "mis_val_bool = mis_val >= 1\n",
    "mis_val_df = pd.concat([mis_val, mis_val_bool], axis = 1)\n",
    "mis_val_df = mis_val_df.rename(columns = {0 : 'mis_val', 1 : 'mis_val_bool'})\n",
    "\n",
    "mis_val_data = mis_val_df.loc[mis_val_df['mis_val_bool'] == True, :]\n",
    "mis_val_data['ratio'] = mis_val_data['mis_val'] / 59299\n",
    "mis_val_data_sorted = mis_val_data.sort_values(by='ratio', ascending=True)\n",
    "mis_val_data_sorted"
   ]
  },
  {
   "cell_type": "code",
   "execution_count": 6,
   "id": "dd794e9d",
   "metadata": {},
   "outputs": [
    {
     "data": {
      "text/plain": [
       "array(['Quotation or purchase consultation', 'Product Information',\n",
       "       'Quotation or Purchase Consultation', 'Other',\n",
       "       'Usage or technical consultation', 'Trainings', 'Services',\n",
       "       'Sales Inquiry', 'Etc.', 'Technical Support',\n",
       "       'Usage or Technical Consultation', 'Technical Consultation',\n",
       "       'Request for Partnership', nan, 'sales', 'technical',\n",
       "       'usage or technical consultation',\n",
       "       'usage_or_technical_consultation', 'other',\n",
       "       'quotation_or_purchase_consultation', 'other_', 'Request a Demo',\n",
       "       'Request for Distributorship', 'Request for quotation or purchase',\n",
       "       'Request for technical consulting', '(Select ID_Needs)',\n",
       "       'One Quick:Flex', 'AIO', 'Needs', 'Purchase',\n",
       "       'technical_consultation', 'Customer Suggestions', 'Event Inquiry',\n",
       "       'Others', 'OEM/ODM Request', 'Hospital TV', 'others',\n",
       "       'i want to know the details about it', 'EDUCATIONAL EQUIPMENTS',\n",
       "       'Digital platform', 'TV interactive', 'teach',\n",
       "       'Display Textbook and photos', 'High inch 86 / 98 or 110',\n",
       "       'quotation_', 'Purchase or Quotation', 'display product',\n",
       "       'first Info and pricing', 'Sales inquiry',\n",
       "       'estoy buscando para Ecuador este producto LG MAGNIT micro LED, para un cliente de 138 pulgadas, con envió marítimo.',\n",
       "       'Hola me pueden cotizar 19 pantallas interactivas de 100 pulgadas entregadas en Guayaquil -Ecuador.',\n",
       "       'window facing product',\n",
       "       'Vui lòng báo giá giúp mình sản phẩm đo thân nhiệt Xin cảm ơn',\n",
       "       'Probeam precio', 'Quotation or Purchase consultation',\n",
       "       'Hotel TV products', 'Pantallas Interactivas para Clinicas',\n",
       "       'Solicito apoyo para realizar cotizacion de los dispositivos que ofrecen en la solución\\xa0One Quick:\\xa0',\n",
       "       'Intégrateur historique du George V', 'ETC.', 'IDB',\n",
       "       'Not specified', 'for school', 'Media Inquiry', 'LED Signage',\n",
       "       'Standalone', 'Video Wall',\n",
       "       'Toi muon tim hieu thong tin ky thuat, gia ca cua sp de su dung',\n",
       "       'tôi cần tham khảo giá và giải pháp từ LG',\n",
       "       'Preciso de um monitor médico para radiografia convencional e tomogrtafia.',\n",
       "       'VRF', 'Evento_SdelEstero'], dtype=object)"
      ]
     },
     "execution_count": 6,
     "metadata": {},
     "output_type": "execute_result"
    }
   ],
   "source": [
    "# idit_strategic_ver , it_strategic_ver , id_strategic_ver 세 columns 값들이 array([nan,  1.])\n",
    "# historical_existing_cnt nan = 0\n",
    "\n",
    "#inquiry_type - 대소문자 통합 -> 전부 소문자로\n",
    "\n",
    "df_train['inquiry_type'].unique()"
   ]
  },
  {
   "cell_type": "markdown",
   "id": "c831434b",
   "metadata": {},
   "source": [
    "### inquiry_type - 대소문자 통합"
   ]
  },
  {
   "cell_type": "code",
   "execution_count": 10,
   "id": "78937159",
   "metadata": {},
   "outputs": [],
   "source": [
    "df_train['inquiry_type'] = df_train['inquiry_type'].str.lower()"
   ]
  },
  {
   "cell_type": "code",
   "execution_count": null,
   "id": "cdfeda20",
   "metadata": {},
   "outputs": [],
   "source": [
    "# 1. 분석의 목적과 목적에 맞는 변수 확인\n",
    "# 데이터의 구조와 변수 목록을 살펴봅니다.\n",
    "print(\"데이터 정보:\")\n",
    "print(df_train.info())\n",
    "\n",
    "# 2. 데이터형 확인 및 데이터 오류/누락 여부 확인\n",
    "# 각 열의 데이터 유형 및 결측치 확인\n",
    "print(\"\\n\\n\\n데이터 유형 및 결측치:\")\n",
    "print(df_train.dtypes)\n",
    "print(df_train.isnull().sum())\n",
    "\n",
    "# 3. 데이터 분포 확인\n",
    "# 데이터의 기술 통계량을 계산하여 분포를 확인합니다.\n",
    "print(\"\\n\\n\\n데이터 기술 통계량:\")\n",
    "print(df_train.describe())"
   ]
  },
  {
   "cell_type": "code",
   "execution_count": null,
   "id": "258e8398",
   "metadata": {},
   "outputs": [],
   "source": [
    "df_train[['customer_country','customer_country.1']].head()"
   ]
  },
  {
   "cell_type": "code",
   "execution_count": null,
   "id": "e55bcfef",
   "metadata": {},
   "outputs": [],
   "source": [
    "# customer_country와 customer_country.1이 동시에 결측값을 가지는 행의 개수 \n",
    "df_train[df_train['customer_country.1'].isnull() & df_train['customer_country'].isnull()].shape[0]"
   ]
  },
  {
   "cell_type": "code",
   "execution_count": null,
   "id": "9ed5fd9f",
   "metadata": {},
   "outputs": [],
   "source": [
    "pre_train = pre_train.dropna(subset=['customer_country'])"
   ]
  },
  {
   "cell_type": "code",
   "execution_count": null,
   "id": "d3d10db7",
   "metadata": {},
   "outputs": [],
   "source": [
    "mis_val = pre_train.isnull().sum()\n",
    "mis_val_bool = mis_val >= 1\n",
    "mis_val_df = pd.concat([mis_val, mis_val_bool], axis = 1)\n",
    "mis_val_df = mis_val_df.rename(columns = {0 : 'mis_val', 1 : 'mis_val_bool'})\n",
    "\n",
    "mis_val_data = mis_val_df.loc[mis_val_df['mis_val_bool'] == True, :]\n",
    "mis_val_data['ratio'] = mis_val_data['mis_val'] / 59299\n",
    "mis_val_data_sorted = mis_val_data.sort_values(by='ratio', ascending=True)\n",
    "mis_val_data_sorted"
   ]
  },
  {
   "cell_type": "code",
   "execution_count": null,
   "id": "07db9491",
   "metadata": {},
   "outputs": [],
   "source": [
    "pre_train['customer_country'] = pre_train['customer_country'].apply(lambda x: x.split('/')[-1])\n",
    "df_test['customer_country'] = df_test['customer_country'].apply(lambda x: x.split('/')[-1])"
   ]
  },
  {
   "cell_type": "code",
   "execution_count": null,
   "id": "67bcf4e0",
   "metadata": {},
   "outputs": [],
   "source": [
    "pre_train.head()"
   ]
  },
  {
   "cell_type": "markdown",
   "id": "af526c13",
   "metadata": {},
   "source": [
    "## 2. 데이터 전처리"
   ]
  },
  {
   "cell_type": "markdown",
   "id": "4bd47e00",
   "metadata": {},
   "source": [
    "### 레이블 인코딩"
   ]
  },
  {
   "cell_type": "code",
   "execution_count": null,
   "id": "0b42b1a1",
   "metadata": {},
   "outputs": [],
   "source": [
    "def label_encoding(series: pd.Series) -> pd.Series:\n",
    "    \"\"\"범주형 데이터를 시리즈 형태로 받아 숫자형 데이터로 변환합니다.\"\"\"\n",
    "\n",
    "    my_dict = {}\n",
    "\n",
    "    # 모든 요소를 문자열로 변환\n",
    "    series = series.astype(str)\n",
    "\n",
    "    for idx, value in enumerate(sorted(series.unique())):\n",
    "        my_dict[value] = idx\n",
    "    series = series.map(my_dict)\n",
    "\n",
    "    return series"
   ]
  },
  {
   "cell_type": "code",
   "execution_count": null,
   "id": "881a4612",
   "metadata": {},
   "outputs": [],
   "source": [
    "# 레이블 인코딩할 칼럼들\n",
    "label_columns = [\n",
    "    \"customer_country\",\n",
    "    \"business_subarea\",\n",
    "    \"business_area\",\n",
    "    \"business_unit\",\n",
    "    \"customer_type\",\n",
    "    \"enterprise\",\n",
    "    \"customer_job\",\n",
    "    \"inquiry_type\",\n",
    "    \"product_category\",\n",
    "    \"product_subcategory\",\n",
    "    \"product_modelname\",\n",
    "    \"customer_country.1\",\n",
    "    \"customer_position\",\n",
    "    \"response_corporate\",\n",
    "    \"expected_timeline\",\n",
    "]\n",
    "\n",
    "label_columns = list(set(label_columns)-set(drop_columns))\n",
    "\n",
    "df_all = pd.concat([pre_train[label_columns], pre_test[label_columns]])\n",
    "\n",
    "for col in label_columns:\n",
    "    df_all[col] = label_encoding(df_all[col])"
   ]
  },
  {
   "cell_type": "code",
   "execution_count": null,
   "id": "c29812eb",
   "metadata": {},
   "outputs": [],
   "source": [
    "df_all.head()"
   ]
  },
  {
   "cell_type": "markdown",
   "id": "3a477f93",
   "metadata": {},
   "source": [
    "다시 학습 데이터와 제출 데이터를 분리합니다."
   ]
  },
  {
   "cell_type": "code",
   "execution_count": null,
   "id": "ff10c5fb",
   "metadata": {},
   "outputs": [],
   "source": [
    "for col in label_columns:  \n",
    "    pre_train[col] = df_all.iloc[: len(pre_train)][col]\n",
    "    pre_test[col] = df_all.iloc[len(pre_train) :][col]"
   ]
  },
  {
   "cell_type": "code",
   "execution_count": null,
   "id": "8032dc94",
   "metadata": {},
   "outputs": [],
   "source": [
    "t = pre_train.copy()\n",
    "corr = t.corr()\n",
    "corr.style.background_gradient(cmap = 'coolwarm')"
   ]
  },
  {
   "cell_type": "code",
   "execution_count": null,
   "id": "54c13f55",
   "metadata": {},
   "outputs": [],
   "source": [
    "pre_train = pre_train.drop(labels = ['customer_country.1'],axis=1)\n",
    "pre_test = pre_test.drop(labels = ['customer_country.1'],axis=1)"
   ]
  },
  {
   "cell_type": "code",
   "execution_count": null,
   "id": "ad671159",
   "metadata": {},
   "outputs": [],
   "source": [
    "print(pre_train.columns)\n",
    "print(\"\\n\\n\\n\")\n",
    "print(pre_test.columns)"
   ]
  },
  {
   "cell_type": "markdown",
   "id": "d332358a",
   "metadata": {},
   "source": [
    "### 2-2. 학습, 검증 데이터 분리"
   ]
  },
  {
   "cell_type": "code",
   "execution_count": null,
   "id": "27c9e205",
   "metadata": {},
   "outputs": [],
   "source": [
    "x_train, x_val, y_train, y_val = train_test_split(\n",
    "    pre_train.drop(\"is_converted\", axis=1),\n",
    "    pre_train[\"is_converted\"],\n",
    "    test_size=0.2,\n",
    "    shuffle=True,\n",
    "    random_state=400,\n",
    ")"
   ]
  },
  {
   "cell_type": "markdown",
   "id": "79ecfa9b",
   "metadata": {},
   "source": [
    "## 3. 모델 학습"
   ]
  },
  {
   "cell_type": "markdown",
   "id": "3caf257b",
   "metadata": {},
   "source": [
    "### 모델 정의 "
   ]
  },
  {
   "cell_type": "code",
   "execution_count": null,
   "id": "e4509af0",
   "metadata": {},
   "outputs": [],
   "source": [
    "model = DecisionTreeClassifier(random_state=42)"
   ]
  },
  {
   "cell_type": "markdown",
   "id": "cacd5ed8",
   "metadata": {},
   "source": [
    "### 모델 학습"
   ]
  },
  {
   "cell_type": "code",
   "execution_count": null,
   "id": "766d1980",
   "metadata": {},
   "outputs": [],
   "source": [
    "model.fit(x_train.fillna(0), y_train)"
   ]
  },
  {
   "cell_type": "markdown",
   "id": "6bf2de5f",
   "metadata": {},
   "source": [
    "### 모델 성능 보기"
   ]
  },
  {
   "cell_type": "code",
   "execution_count": null,
   "id": "c8871444",
   "metadata": {},
   "outputs": [],
   "source": [
    "def get_clf_eval(y_test, y_pred=None):\n",
    "    confusion = confusion_matrix(y_test, y_pred, labels=[True, False])\n",
    "    accuracy = accuracy_score(y_test, y_pred)\n",
    "    precision = precision_score(y_test, y_pred, labels=[True, False])\n",
    "    recall = recall_score(y_test, y_pred)\n",
    "    F1 = f1_score(y_test, y_pred, labels=[True, False])\n",
    "\n",
    "    print(\"오차행렬:\\n\", confusion)\n",
    "    print(\"\\n정확도: {:.4f}\".format(accuracy))\n",
    "    print(\"정밀도: {:.4f}\".format(precision))\n",
    "    print(\"재현율: {:.4f}\".format(recall))\n",
    "    print(\"F1: {:.4f}\".format(F1))"
   ]
  },
  {
   "cell_type": "code",
   "execution_count": null,
   "id": "56a86373",
   "metadata": {},
   "outputs": [],
   "source": [
    "pred = model.predict(x_val.fillna(0))\n",
    "get_clf_eval(y_val, pred)"
   ]
  },
  {
   "cell_type": "markdown",
   "id": "7adf8300",
   "metadata": {},
   "source": [
    "## 4. 제출하기"
   ]
  },
  {
   "cell_type": "markdown",
   "id": "9d0b6e17",
   "metadata": {},
   "source": [
    "### 테스트 데이터 예측"
   ]
  },
  {
   "cell_type": "code",
   "execution_count": null,
   "id": "43daa73c",
   "metadata": {},
   "outputs": [],
   "source": [
    "# 예측에 필요한 데이터 분리\n",
    "x_test = pre_test.drop([\"is_converted\"], axis=1)"
   ]
  },
  {
   "cell_type": "code",
   "execution_count": null,
   "id": "d13f7a6e",
   "metadata": {},
   "outputs": [],
   "source": [
    "test_pred = model.predict(x_test.fillna(0))\n",
    "sum(test_pred) # True로 예측된 개수"
   ]
  },
  {
   "cell_type": "markdown",
   "id": "47f18e6a",
   "metadata": {},
   "source": [
    "### 제출 파일 작성"
   ]
  },
  {
   "cell_type": "code",
   "execution_count": null,
   "id": "3128a458",
   "metadata": {},
   "outputs": [],
   "source": [
    "# 제출 데이터 읽어오기 (df_test는 전처리된 데이터가 저장됨)\n",
    "df_sub = pd.read_csv(\"submission.csv\")\n",
    "df_sub[\"is_converted\"] = test_pred\n",
    "\n",
    "# 제출 파일 저장\n",
    "df_sub.to_csv(\"submission.csv\", index=False)"
   ]
  },
  {
   "cell_type": "markdown",
   "id": "ec7867ce",
   "metadata": {},
   "source": [
    "**우측 상단의 제출 버튼을 클릭해 결과를 확인하세요**"
   ]
  }
 ],
 "metadata": {
  "kernelspec": {
   "display_name": "Python 3 (ipykernel)",
   "language": "python",
   "name": "python3"
  },
  "language_info": {
   "codemirror_mode": {
    "name": "ipython",
    "version": 3
   },
   "file_extension": ".py",
   "mimetype": "text/x-python",
   "name": "python",
   "nbconvert_exporter": "python",
   "pygments_lexer": "ipython3",
   "version": "3.10.13"
  }
 },
 "nbformat": 4,
 "nbformat_minor": 5
}
