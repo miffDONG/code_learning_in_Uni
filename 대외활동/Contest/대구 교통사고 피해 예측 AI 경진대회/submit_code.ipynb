{
  "cells": [
    {
      "cell_type": "code",
      "source": [
        "!pip install mljar-supervised\n",
        "!pip install category_encoders"
      ],
      "metadata": {
        "id": "CWlz8o4KNThr"
      },
      "execution_count": null,
      "outputs": []
    },
    {
      "cell_type": "code",
      "source": [
        "import pandas as pd\n",
        "import numpy as np\n",
        "import random\n",
        "import os\n",
        "from sklearn.preprocessing import LabelEncoder\n",
        "from supervised import AutoML\n",
        "import torch\n",
        "from sklearn.preprocessing import OneHotEncoder\n",
        "from category_encoders.target_encoder import TargetEncoder\n",
        "\n",
        "N_THREADS = 20\n",
        "N_FOLDS = 5\n",
        "RANDOM_STATE = 42\n",
        "TEST_SIZE = 0.2\n",
        "TIMEOUT = 3*3600\n",
        "TARGET_NAME = 'ECLO'\n",
        "\n",
        "np.random.seed(RANDOM_STATE)\n",
        "torch.set_num_threads(N_THREADS)\n",
        "\n",
        "train_df=pd.read_csv(\"/content/drive/MyDrive/대구 교통사고 피해 예측 경진대회/train.csv\")\n",
        "test_df=pd.read_csv(\"/content/drive/MyDrive/대구 교통사고 피해 예측 경진대회/test.csv\")\n",
        "cctv=pd.read_csv(\"/content/drive/MyDrive/대구 교통사고 피해 예측 경진대회/CCTV 밀도.csv\")"
      ],
      "metadata": {
        "id": "4LnDBpHYjsyi"
      },
      "execution_count": null,
      "outputs": []
    },
    {
      "cell_type": "code",
      "source": [
        "cctv=pd.read_csv(\"/content/drive/MyDrive/대구 교통사고 피해 예측 경진대회/CCTV 밀도.csv\")[['구', '밀도','정규화밀도']]\n",
        "\n",
        "cctv.rename(columns={'구': '군'}, inplace=True)\n",
        "\n",
        "cctv = cctv.groupby(['군']).agg({'밀도':'first','정규화밀도':'first'}).reset_index()"
      ],
      "metadata": {
        "id": "HlU3ZLOGWVUA"
      },
      "execution_count": null,
      "outputs": []
    },
    {
      "cell_type": "code",
      "execution_count": null,
      "metadata": {
        "id": "3QmgWXbaadbE"
      },
      "outputs": [],
      "source": [
        "import holidays\n",
        "def make_holi(x):\n",
        "    kr_holi = holidays.KR()\n",
        "\n",
        "    if x in kr_holi:\n",
        "        return 1\n",
        "    else:\n",
        "        return 0\n",
        "\n",
        "train_df[\"holiday\"] = train_df[\"사고일시\"].map(lambda x : make_holi(x))\n",
        "test_df[\"holiday\"] = test_df[\"사고일시\"].map(lambda x : make_holi(x))\n"
      ]
    },
    {
      "cell_type": "code",
      "execution_count": null,
      "metadata": {
        "id": "98ICI4IoamW_"
      },
      "outputs": [],
      "source": [
        "#파생 변수 생성 1 : 날짜, 시간정보 생성\n",
        "time_pattern = r'(\\d{4})-(\\d{1,2})-(\\d{1,2}) (\\d{1,2})'\n",
        "\n",
        "train_df[['연', '월', '일', '시간']] = train_df['사고일시'].str.extract(time_pattern)\n",
        "train_df[['연', '월', '일', '시간']] = train_df[['연', '월', '일', '시간']].apply(pd.to_numeric) # 추출된 문자열을 수치화해줍니다\n",
        "train_df = train_df.drop(columns=['사고일시']) # 정보 추출이 완료된 '사고일시' 컬럼은 제거합니다\n",
        "\n",
        "# 해당 과정을 test_x에 대해서도 반복해줍니다\n",
        "test_df[['연', '월', '일', '시간']] = test_df['사고일시'].str.extract(time_pattern)\n",
        "test_df[['연', '월', '일', '시간']] = test_df[['연', '월', '일', '시간']].apply(pd.to_numeric)\n",
        "test_df = test_df.drop(columns=['사고일시'])\n"
      ]
    },
    {
      "cell_type": "code",
      "execution_count": null,
      "metadata": {
        "colab": {
          "base_uri": "https://localhost:8080/"
        },
        "id": "TPCimQOXa9EW",
        "outputId": "780630ac-08a9-4232-850e-b3f5b801d3d6"
      },
      "outputs": [
        {
          "output_type": "stream",
          "name": "stdout",
          "text": [
            "                   ID   요일 기상상태              시군구             도로형태 노면상태  사고유형  \\\n",
            "0      ACCIDENT_00000  화요일   맑음     대구광역시 중구 대신동         단일로 - 기타   건조  차대사람   \n",
            "1      ACCIDENT_00001  화요일   흐림    대구광역시 달서구 감삼동         단일로 - 기타   건조  차대사람   \n",
            "2      ACCIDENT_00002  화요일   맑음    대구광역시 수성구 두산동         단일로 - 기타   건조  차대사람   \n",
            "3      ACCIDENT_00003  화요일   맑음     대구광역시 북구 복현동         단일로 - 기타   건조   차대차   \n",
            "4      ACCIDENT_00004  화요일   맑음     대구광역시 동구 신암동         단일로 - 기타   건조   차대차   \n",
            "...               ...  ...  ...              ...              ...  ...   ...   \n",
            "39604  ACCIDENT_39604  금요일   맑음  대구광역시 수성구 수성동3가       교차로 - 교차로안   건조   차대차   \n",
            "39605  ACCIDENT_39605  금요일   맑음    대구광역시 달서구 상인동         단일로 - 기타   건조   차대차   \n",
            "39606  ACCIDENT_39606  금요일   맑음    대구광역시 달서구 월성동       교차로 - 교차로안   건조   차대차   \n",
            "39607  ACCIDENT_39607  금요일   맑음     대구광역시 달서구 장동          기타 - 기타   건조   차대차   \n",
            "39608  ACCIDENT_39608  금요일   맑음     대구광역시 서구 비산동  단일로 - 지하차도(도로)내   건조   차대차   \n",
            "\n",
            "      사고유형 - 세부분류       법규위반 가해운전자 차종  ... 경상자수 부상자수 ECLO holiday     연   월  \\\n",
            "0      길가장자리구역통행중    안전운전불이행       승용  ...    0    0    5       1  2019   1   \n",
            "1           보도통행중         기타       승용  ...    1    0    3       1  2019   1   \n",
            "2           차도통행중    안전운전불이행       승용  ...    1    0    3       1  2019   1   \n",
            "3              추돌    안전운전불이행       승용  ...    0    0    5       1  2019   1   \n",
            "4              추돌    안전운전불이행       승용  ...    1    0    3       1  2019   1   \n",
            "...           ...        ...      ...  ...  ...  ...  ...     ...   ...  ..   \n",
            "39604        측면충돌       신호위반       승용  ...    1    0    3       0  2021  12   \n",
            "39605        측면충돌    안전거리미확보       승용  ...    1    0    3       0  2021  12   \n",
            "39606        측면충돌  교차로운행방법위반       승용  ...    0    0   10       0  2021  12   \n",
            "39607          추돌    안전운전불이행       승용  ...    1    0    3       0  2021  12   \n",
            "39608        측면충돌    안전운전불이행       승용  ...    2    0    6       0  2021  12   \n",
            "\n",
            "        일  시간    군      구  \n",
            "0       1   0   중구    대신동  \n",
            "1       1   0  달서구    감삼동  \n",
            "2       1   1  수성구    두산동  \n",
            "3       1   2   북구    복현동  \n",
            "4       1   4   동구    신암동  \n",
            "...    ..  ..  ...    ...  \n",
            "39604  31  19  수성구  수성동3가  \n",
            "39605  31  19  달서구    상인동  \n",
            "39606  31  21  달서구    월성동  \n",
            "39607  31  22  달서구     장동  \n",
            "39608  31  23   서구    비산동  \n",
            "\n",
            "[39609 rows x 29 columns]\n"
          ]
        }
      ],
      "source": [
        "#파생 변수 생성 2 : 군, 구로 나누기\n",
        "\n",
        "train_df['군'] = ''\n",
        "train_df['구'] = ''\n",
        "\n",
        "test_df['군'] = ''\n",
        "test_df['구'] = ''\n",
        "\n",
        "# 주소 분리 및 군과 구 열에 저장\n",
        "for i in range(0, len(train_df)):\n",
        "    address = train_df['시군구'][i]\n",
        "    elements = address.split(\" \")\n",
        "    if len(elements) == 3:\n",
        "        city = elements[0]\n",
        "        county = elements[1]\n",
        "        district = elements[2]\n",
        "        train_df.at[i, '군'] = county\n",
        "        train_df.at[i, '구'] = district\n",
        "    else:\n",
        "        print(f\"잘못된 주소 형식입니다: {address}\")\n",
        "\n",
        "# 결과 출력\n",
        "print(train_df)"
      ]
    },
    {
      "cell_type": "code",
      "execution_count": null,
      "metadata": {
        "colab": {
          "base_uri": "https://localhost:8080/"
        },
        "id": "8GL-t-Kudnw8",
        "outputId": "2f594aed-966b-4744-ebd0-26a4db89dba1"
      },
      "outputs": [
        {
          "output_type": "stream",
          "name": "stdout",
          "text": [
            "                   ID   요일 기상상태              시군구         도로형태 노면상태  사고유형  \\\n",
            "0      ACCIDENT_39609  토요일   맑음     대구광역시 수성구 상동   교차로 - 교차로안   건조  차대사람   \n",
            "1      ACCIDENT_39610  토요일   맑음    대구광역시 수성구 지산동     단일로 - 기타   건조  차대사람   \n",
            "2      ACCIDENT_39611  토요일   맑음  대구광역시 수성구 수성동2가   교차로 - 교차로안   건조   차대차   \n",
            "3      ACCIDENT_39612  토요일   맑음    대구광역시 수성구 신매동     단일로 - 기타   건조   차대차   \n",
            "4      ACCIDENT_39613  토요일   맑음    대구광역시 달서구 감삼동   교차로 - 교차로안   건조   차대차   \n",
            "...               ...  ...  ...              ...          ...  ...   ...   \n",
            "10958  ACCIDENT_50567  토요일   맑음     대구광역시 남구 대명동     단일로 - 터널   건조   차대차   \n",
            "10959  ACCIDENT_50568  토요일   맑음    대구광역시 수성구 시지동     단일로 - 기타   건조   차대차   \n",
            "10960  ACCIDENT_50569  토요일   맑음    대구광역시 수성구 연호동     단일로 - 기타   건조   차대차   \n",
            "10961  ACCIDENT_50570  토요일   맑음    대구광역시 수성구 범물동  교차로 - 교차로부근   건조   차대차   \n",
            "10962  ACCIDENT_50571  토요일   맑음     대구광역시 동구 효목동  교차로 - 교차로부근   건조   차대차   \n",
            "\n",
            "       holiday     연   월   일  시간    군      구  \n",
            "0            1  2022   1   1   1  수성구     상동  \n",
            "1            1  2022   1   1   1  수성구    지산동  \n",
            "2            1  2022   1   1   4  수성구  수성동2가  \n",
            "3            1  2022   1   1   4  수성구    신매동  \n",
            "4            1  2022   1   1   6  달서구    감삼동  \n",
            "...        ...   ...  ..  ..  ..  ...    ...  \n",
            "10958        0  2022  12  31  18   남구    대명동  \n",
            "10959        0  2022  12  31  18  수성구    시지동  \n",
            "10960        0  2022  12  31  20  수성구    연호동  \n",
            "10961        0  2022  12  31  20  수성구    범물동  \n",
            "10962        0  2022  12  31  21   동구    효목동  \n",
            "\n",
            "[10963 rows x 14 columns]\n"
          ]
        }
      ],
      "source": [
        "for i in range(0, len(test_df)):\n",
        "    address = test_df['시군구'][i]\n",
        "    elements = address.split(\" \")\n",
        "    if len(elements) == 3:\n",
        "        city = elements[0]\n",
        "        county = elements[1]\n",
        "        district = elements[2]\n",
        "        test_df.at[i, '군'] = county\n",
        "        test_df.at[i, '구'] = district\n",
        "    else:\n",
        "        print(f\"잘못된 주소 형식입니다: {address}\")\n",
        "\n",
        "# 결과 출력\n",
        "print(test_df)"
      ]
    },
    {
      "cell_type": "code",
      "source": [
        "test_df = pd.merge(test_df, cctv, how='left', on=['군'])\n",
        "train_df = pd.merge(train_df, cctv, how='left', on=['군'])"
      ],
      "metadata": {
        "id": "-5AQ7Gn2jLwW"
      },
      "execution_count": null,
      "outputs": []
    },
    {
      "cell_type": "code",
      "execution_count": null,
      "metadata": {
        "id": "P4B2pCsabnxD"
      },
      "outputs": [],
      "source": [
        "#파생 변수 추출 3 : 도로 형태 정보 추출\n",
        "road_pattern = r'(.+) - (.+)'\n",
        "\n",
        "train_df[['도로형태1', '도로형태2']] = train_df['도로형태'].str.extract(road_pattern)\n",
        "train_df = train_df.drop(columns=['도로형태'])\n",
        "\n",
        "test_df[['도로형태1', '도로형태2']] = test_df['도로형태'].str.extract(road_pattern)\n",
        "test_df = test_df.drop(columns=['도로형태'])"
      ]
    },
    {
      "cell_type": "code",
      "execution_count": null,
      "metadata": {
        "id": "O-ML0UBAbqLF"
      },
      "outputs": [],
      "source": [
        "# 파생변수4: 사고 발생 시간대 생성\n",
        "def classify_time_of_day(hour):\n",
        "    if 0 <= hour < 6:\n",
        "        return '새벽'\n",
        "    elif 6 <= hour < 12:\n",
        "        return '오전'\n",
        "    elif 12 <= hour < 18:\n",
        "        return '오후'\n",
        "    else:\n",
        "        return '저녁'\n",
        "\n",
        "# '사고 발생 시간대' 파생 변수 추가\n",
        "train_df['사고 발생 시간대'] = train_df['시간'].apply(lambda x: classify_time_of_day(x))\n",
        "test_df['사고 발생 시간대'] = test_df['시간'].apply(lambda x: classify_time_of_day(x))"
      ]
    },
    {
      "cell_type": "code",
      "execution_count": null,
      "metadata": {
        "id": "rRFS44AcbvwC"
      },
      "outputs": [],
      "source": [
        "# 파생변수 5: ECLO가 높은 주말에 가중치 부여\n",
        "train_df['요일 가중치'] = train_df['요일'].apply(lambda x: 1.2 if x in ['토요일', '일요일'] else 1.0)\n",
        "test_df['요일 가중치'] = test_df['요일'].apply(lambda x: 1.2 if x in ['토요일', '일요일'] else 1.0)"
      ]
    },
    {
      "cell_type": "code",
      "execution_count": null,
      "metadata": {
        "id": "4jztteUObxGs"
      },
      "outputs": [],
      "source": [
        "# 파생변수 6: 교차로, 구조물이 있을 때 가중치 부여\n",
        "train_df['Crossroad'] = train_df['도로형태1'].apply(lambda x: 1 if '교차로' in x else 0)\n",
        "# 기타 데이터를 제외한 경우에 가중치를 두 배로 주는 가중치 변수 생성\n",
        "train_df['도로형태 가중치'] = train_df.apply(lambda row: 1.2 if row['Crossroad'] == 1 and '기타' not in row['도로형태2'] else 1, axis=1)\n",
        "train_df = train_df.drop(columns=['Crossroad'])\n",
        "\n",
        "test_df['Crossroad'] = test_df['도로형태1'].apply(lambda x: 1 if '교차로' in x else 0)\n",
        "# 기타 데이터를 제외한 경우에 가중치를 두 배로 주는 가중치 변수 생성\n",
        "test_df['도로형태 가중치'] = test_df.apply(lambda row: 1.2 if row['Crossroad'] == 1 and '기타' not in row['도로형태2'] else 1, axis=1)\n",
        "test_df = test_df.drop(columns=['Crossroad'])"
      ]
    },
    {
      "cell_type": "code",
      "execution_count": null,
      "metadata": {
        "colab": {
          "base_uri": "https://localhost:8080/"
        },
        "id": "ptp_8zR_byaa",
        "outputId": "0238338c-d41c-4213-ef54-6c158bada6a7"
      },
      "outputs": [
        {
          "output_type": "stream",
          "name": "stderr",
          "text": [
            "<ipython-input-21-5e46896d2f68>:1: DtypeWarning: Columns (2) have mixed types. Specify dtype option on import or set low_memory=False.\n"
          ]
        }
      ],
      "source": [
        "light_df=pd.read_csv(\"/content/drive/MyDrive/대구 교통사고 피해 예측 경진대회/대구 보안등 정보.csv\",encoding='cp949')[['설치개수', '소재지지번주소']]\n",
        "\n",
        "location_pattern = r'(\\S+) (\\S+) (\\S+) (\\S+)'\n",
        "\n",
        "light_df[['도시', '군', '구', '번지']] = light_df['소재지지번주소'].str.extract(location_pattern)\n",
        "light_df = light_df.drop(columns=['소재지지번주소', '번지'])\n",
        "\n",
        "light_df = light_df.groupby(['도시', '군', '구']).sum().reset_index()\n",
        "light_df.reset_index(inplace=True, drop=True)"
      ]
    },
    {
      "cell_type": "code",
      "execution_count": null,
      "metadata": {
        "id": "GacX7CoXb7Jd"
      },
      "outputs": [],
      "source": [
        "child_area_df=pd.read_csv(\"/content/drive/MyDrive/대구 교통사고 피해 예측 경진대회/대구 어린이 보호 구역 정보.csv\",encoding='cp949').drop_duplicates()[['소재지지번주소']]\n",
        "child_area_df['cnt'] = 1\n",
        "\n",
        "location_pattern = r'(\\S+) (\\S+) (\\S+) (\\S+)'\n",
        "\n",
        "child_area_df[['도시', '군', '구', '번지']] = child_area_df['소재지지번주소'].str.extract(location_pattern)\n",
        "child_area_df = child_area_df.drop(columns=['소재지지번주소', '번지'])\n",
        "\n",
        "child_area_df = child_area_df.groupby(['도시', '군', '구']).sum().reset_index()\n",
        "child_area_df.reset_index(inplace=True, drop=True)"
      ]
    },
    {
      "cell_type": "code",
      "execution_count": null,
      "metadata": {
        "id": "ax9k9S-PcGeK"
      },
      "outputs": [],
      "source": [
        "parking_df=pd.read_csv(\"/content/drive/MyDrive/대구 교통사고 피해 예측 경진대회/대구 주차장 정보.csv\",encoding='cp949')[['소재지지번주소', '급지구분']]\n",
        "\n",
        "parking_df = pd.get_dummies(parking_df, columns=['급지구분'])\n",
        "\n",
        "location_pattern = r'(\\S+) (\\S+) (\\S+) (\\S+)'\n",
        "\n",
        "parking_df[['도시', '군', '구', '번지']] = parking_df['소재지지번주소'].str.extract(location_pattern)\n",
        "parking_df = parking_df.drop(columns=['소재지지번주소', '번지'])\n",
        "\n",
        "parking_df = parking_df.groupby(['도시', '군', '구']).sum().reset_index()\n",
        "parking_df.reset_index(inplace=True, drop=True)"
      ]
    },
    {
      "cell_type": "code",
      "execution_count": null,
      "metadata": {
        "id": "DJlUkVo9cKvy"
      },
      "outputs": [],
      "source": [
        "train_df = pd.merge(train_df, light_df, how='left', on=['군', '구'])\n",
        "train_df = pd.merge(train_df, child_area_df, how='left', on=['군', '구'])\n",
        "train_df = pd.merge(train_df, parking_df, how='left', on=['군', '구'])\n",
        "\n",
        "test_df = pd.merge(test_df, light_df, how='left', on=['군', '구'])\n",
        "test_df = pd.merge(test_df, child_area_df, how='left', on=['군', '구'])\n",
        "test_df = pd.merge(test_df, parking_df, how='left', on=['군', '구'])"
      ]
    },
    {
      "cell_type": "code",
      "execution_count": null,
      "metadata": {
        "id": "wzhC-SJ2cMto"
      },
      "outputs": [],
      "source": [
        "# train_df와 test_df의 기상상태 및 노면상태 열 선택\n",
        "train_categorical_data = train_df[['군']]\n",
        "test_categorical_data = test_df[['군']]\n",
        "\n",
        "# OneHotEncoder 인스턴스 생성 및 fit_transform 수행\n",
        "encoder = OneHotEncoder()\n",
        "train_encoded = encoder.fit_transform(train_categorical_data)\n",
        "test_encoded = encoder.transform(test_categorical_data)\n",
        "\n",
        "# OneHotEncoder가 사용한 카테고리 목록을 가져와서 카테고리 이름을 열 이름으로 변환\n",
        "feature_names = encoder.get_feature_names_out(['군'])\n",
        "\n",
        "# 밀집 행렬로 변환 (선택 사항)\n",
        "train_encoded_dense = train_encoded.toarray()\n",
        "test_encoded_dense = test_encoded.toarray()\n",
        "\n",
        "# 데이터프레임으로 변환 (선택 사항)\n",
        "import pandas as pd\n",
        "\n",
        "train_encoded_df = pd.DataFrame(train_encoded_dense, columns=feature_names, index=train_df.index)\n",
        "test_encoded_df = pd.DataFrame(test_encoded_dense, columns=feature_names, index=test_df.index)\n",
        "\n",
        "# 기존 열 제거\n",
        "train_df = train_df.drop(['군', ], axis=1)\n",
        "test_df = test_df.drop(['군'], axis=1)\n",
        "\n",
        "# 인코딩된 열 추가\n",
        "train_df = pd.concat([train_df, train_encoded_df], axis=1)\n",
        "test_df = pd.concat([test_df, test_encoded_df], axis=1)\n"
      ]
    },
    {
      "cell_type": "code",
      "execution_count": null,
      "metadata": {
        "id": "Q66WdaBHeZSh"
      },
      "outputs": [],
      "source": [
        "accident_counts = train_df['시군구'].value_counts().reset_index()\n",
        "accident_counts.columns = ['시군구', '사고횟수']\n",
        "\n",
        "# '시군구'별 사고 횟수를 train_df에 매핑하기 위해 '시군구' 컬럼을 기준으로 사고 횟수를 가져옵니다.\n",
        "train_df['사고발생횟수'] = train_df['시군구'].map(accident_counts.set_index('시군구')['사고횟수'])\n",
        "# '시군구'별 사고 횟수를 train_df에 매핑하기 위해 '시군구' 컬럼을 기준으로 사고 횟수를 가져옵니다.\n",
        "test_df['사고발생횟수'] = test_df['시군구'].map(accident_counts.set_index('시군구')['사고횟수'])"
      ]
    },
    {
      "cell_type": "code",
      "execution_count": null,
      "metadata": {
        "id": "4733NKOoer19"
      },
      "outputs": [],
      "source": [
        "def group_season(df):\n",
        "    df.loc[(df['월'] == 3) | (df['월'] == 4) | (df['월'] == 5), 'season'] = '봄'\n",
        "    df.loc[(df['월'] == 6) | (df['월'] == 7) | (df['월'] == 8), 'season'] = '여름'\n",
        "    df.loc[(df['월'] == 9) | (df['월'] == 10) | (df['월'] == 11), 'season'] = '가을'\n",
        "    df.loc[(df['월'] == 12) | (df['월'] == 1) | (df['월'] == 2), 'season'] = '겨울'\n",
        "    return df['season']\n",
        "\n",
        "train_df['season'] = group_season(train_df)\n",
        "test_df['season'] = group_season(test_df)"
      ]
    },
    {
      "cell_type": "code",
      "execution_count": null,
      "metadata": {
        "id": "XM52u_xmf71x"
      },
      "outputs": [],
      "source": [
        "train_df = train_df.drop(columns=['시간','연','월','일','도시','구','도시_x','도시_y'])\n",
        "test_df = test_df.drop(columns=['시간','연','월','일','도시','구','도시_x','도시_y','ID','시군구'])"
      ]
    },
    {
      "cell_type": "code",
      "execution_count": null,
      "metadata": {
        "id": "F1o4Y1Z-m4Qm"
      },
      "outputs": [],
      "source": [
        "categorical_features = ['요일','도로형태1','도로형태2','사고유형','기상상태', '노면상태','season','사고 발생 시간대']\n",
        "\n",
        "for i in categorical_features:\n",
        "    tr_encoder = TargetEncoder(cols=[i])\n",
        "    train_df[i] = tr_encoder.fit_transform(train_df[i], train_df['ECLO'])\n",
        "    test_df[i] = tr_encoder.transform(test_df[i])"
      ]
    },
    {
      "cell_type": "code",
      "execution_count": null,
      "metadata": {
        "id": "Kq6taqzvoTbn"
      },
      "outputs": [],
      "source": [
        "train_df = train_df.drop(columns=['군_남구','군_달서구','군_달성군','군_동구','군_북구','군_서구','군_수성구','군_중구'])\n",
        "test_df = test_df.drop(columns=['군_남구','군_달서구','군_달성군','군_동구','군_북구','군_서구','군_수성구','군_중구'])"
      ]
    },
    {
      "cell_type": "code",
      "execution_count": null,
      "metadata": {
        "id": "TMKnURdaoYkn"
      },
      "outputs": [],
      "source": [
        "train_df.fillna(0, inplace=True)\n",
        "test_df.fillna(0, inplace=True)"
      ]
    },
    {
      "cell_type": "code",
      "execution_count": null,
      "metadata": {
        "id": "-rKTzzb2n6qP"
      },
      "outputs": [],
      "source": [
        "y_train = train_df['ECLO']\n",
        "\n",
        "# train, test 데이터간 컬럼 동기화\n",
        "cols = test_df.columns\n",
        "X_train = train_df[cols]\n",
        "X_test = test_df"
      ]
    },
    {
      "cell_type": "code",
      "source": [
        "!pip install lightautoml"
      ],
      "metadata": {
        "id": "fRRZZhYQpyAv"
      },
      "execution_count": null,
      "outputs": []
    },
    {
      "cell_type": "code",
      "source": [
        "pip install --upgrade log-calls"
      ],
      "metadata": {
        "colab": {
          "base_uri": "https://localhost:8080/"
        },
        "id": "hvkcC4FLqkJD",
        "outputId": "661501ed-7dc0-4194-aa05-612599757657"
      },
      "execution_count": null,
      "outputs": [
        {
          "output_type": "stream",
          "name": "stdout",
          "text": [
            "Requirement already satisfied: log-calls in /usr/local/lib/python3.10/dist-packages (0.3.2)\n"
          ]
        }
      ]
    },
    {
      "cell_type": "code",
      "source": [
        "pip install --upgrade lightautoml"
      ],
      "metadata": {
        "id": "aB7KpY0Qqw70",
        "outputId": "a09768b8-371b-43c5-820e-b0d993dac8db",
        "colab": {
          "base_uri": "https://localhost:8080/"
        }
      },
      "execution_count": null,
      "outputs": [
        {
          "output_type": "stream",
          "name": "stdout",
          "text": [
            "Requirement already satisfied: lightautoml in /usr/local/lib/python3.10/dist-packages (0.2.15)\n",
            "Collecting lightautoml\n",
            "  Using cached LightAutoML-0.2.16-py3-none-any.whl (262 kB)\n",
            "Requirement already satisfied: albumentations>=0.4.6 in /usr/local/lib/python3.10/dist-packages (from lightautoml) (1.3.1)\n",
            "Requirement already satisfied: autowoe>=1.2 in /usr/local/lib/python3.10/dist-packages (from lightautoml) (1.3.2)\n",
            "Requirement already satisfied: catboost in /usr/local/lib/python3.10/dist-packages (from lightautoml) (1.2.2)\n",
            "Requirement already satisfied: cmaes in /usr/local/lib/python3.10/dist-packages (from lightautoml) (0.10.0)\n",
            "Requirement already satisfied: efficientnet-pytorch in /usr/local/lib/python3.10/dist-packages (from lightautoml) (0.7.1)\n",
            "Requirement already satisfied: gensim>=4 in /usr/local/lib/python3.10/dist-packages (from lightautoml) (4.3.2)\n",
            "Requirement already satisfied: holidays in /usr/local/lib/python3.10/dist-packages (from lightautoml) (0.37)\n",
            "Requirement already satisfied: jinja2 in /usr/local/lib/python3.10/dist-packages (from lightautoml) (3.1.2)\n",
            "Requirement already satisfied: joblib in /usr/local/lib/python3.10/dist-packages (from lightautoml) (1.3.2)\n",
            "Requirement already satisfied: json2html in /usr/local/lib/python3.10/dist-packages (from lightautoml) (1.3.0)\n",
            "Requirement already satisfied: lightgbm<3.0,>=2.3 in /usr/local/lib/python3.10/dist-packages (from lightautoml) (2.3.1)\n",
            "Requirement already satisfied: log-calls in /usr/local/lib/python3.10/dist-packages (from lightautoml) (0.3.2)\n",
            "Requirement already satisfied: networkx in /usr/local/lib/python3.10/dist-packages (from lightautoml) (3.2.1)\n",
            "Requirement already satisfied: nltk in /usr/local/lib/python3.10/dist-packages (from lightautoml) (3.8.1)\n",
            "Requirement already satisfied: numpy in /usr/local/lib/python3.10/dist-packages (from lightautoml) (1.23.5)\n",
            "Requirement already satisfied: opencv-python in /usr/local/lib/python3.10/dist-packages (from lightautoml) (4.8.0.76)\n",
            "Requirement already satisfied: optuna in /usr/local/lib/python3.10/dist-packages (from lightautoml) (3.4.0)\n",
            "Requirement already satisfied: pandas>=1 in /usr/local/lib/python3.10/dist-packages (from lightautoml) (2.1.4)\n",
            "Requirement already satisfied: poetry-core<2.0.0,>=1.0.0 in /usr/local/lib/python3.10/dist-packages (from lightautoml) (1.8.1)\n",
            "Requirement already satisfied: pywavelets in /usr/local/lib/python3.10/dist-packages (from lightautoml) (1.5.0)\n",
            "Requirement already satisfied: pyyaml in /usr/local/lib/python3.10/dist-packages (from lightautoml) (6.0.1)\n",
            "Requirement already satisfied: scikit-image in /usr/local/lib/python3.10/dist-packages (from lightautoml) (0.19.3)\n",
            "Requirement already satisfied: scikit-learn>=0.22 in /usr/local/lib/python3.10/dist-packages (from lightautoml) (1.2.2)\n",
            "Requirement already satisfied: scipy in /usr/local/lib/python3.10/dist-packages (from lightautoml) (1.11.4)\n",
            "Requirement already satisfied: seaborn in /usr/local/lib/python3.10/dist-packages (from lightautoml) (0.12.2)\n",
            "INFO: pip is looking at multiple versions of lightautoml to determine which version is compatible with other requirements. This could take a while.\n",
            "Requirement already satisfied: torch>=1.6 in /usr/local/lib/python3.10/dist-packages (from lightautoml) (2.1.0+cu118)\n",
            "Requirement already satisfied: torchvision in /usr/local/lib/python3.10/dist-packages (from lightautoml) (0.16.0+cu118)\n",
            "Requirement already satisfied: tqdm in /usr/local/lib/python3.10/dist-packages (from lightautoml) (4.66.1)\n",
            "Requirement already satisfied: transformers>=4 in /usr/local/lib/python3.10/dist-packages (from lightautoml) (4.35.2)\n",
            "Requirement already satisfied: webencodings in /usr/local/lib/python3.10/dist-packages (from lightautoml) (0.5.1)\n",
            "Requirement already satisfied: qudida>=0.0.4 in /usr/local/lib/python3.10/dist-packages (from albumentations>=0.4.6->lightautoml) (0.0.4)\n",
            "Requirement already satisfied: opencv-python-headless>=4.1.1 in /usr/local/lib/python3.10/dist-packages (from albumentations>=0.4.6->lightautoml) (4.8.1.78)\n",
            "Requirement already satisfied: StrEnum<0.5.0,>=0.4.7 in /usr/local/lib/python3.10/dist-packages (from autowoe>=1.2->lightautoml) (0.4.15)\n",
            "Requirement already satisfied: matplotlib in /usr/local/lib/python3.10/dist-packages (from autowoe>=1.2->lightautoml) (3.7.1)\n",
            "Requirement already satisfied: pytest in /usr/local/lib/python3.10/dist-packages (from autowoe>=1.2->lightautoml) (7.4.3)\n",
            "Requirement already satisfied: pytz in /usr/local/lib/python3.10/dist-packages (from autowoe>=1.2->lightautoml) (2023.3.post1)\n",
            "Requirement already satisfied: sphinx in /usr/local/lib/python3.10/dist-packages (from autowoe>=1.2->lightautoml) (5.0.2)\n",
            "Requirement already satisfied: sphinx-rtd-theme in /usr/local/lib/python3.10/dist-packages (from autowoe>=1.2->lightautoml) (2.0.0)\n",
            "Requirement already satisfied: python-dateutil>=2.8.2 in /usr/local/lib/python3.10/dist-packages (from pandas>=1->lightautoml) (2.8.2)\n",
            "Requirement already satisfied: tzdata>=2022.1 in /usr/local/lib/python3.10/dist-packages (from pandas>=1->lightautoml) (2023.3)\n",
            "Requirement already satisfied: pillow!=7.1.0,!=7.1.1,!=8.3.0,>=6.1.0 in /usr/local/lib/python3.10/dist-packages (from scikit-image->lightautoml) (9.4.0)\n",
            "Requirement already satisfied: imageio>=2.4.1 in /usr/local/lib/python3.10/dist-packages (from scikit-image->lightautoml) (2.31.6)\n",
            "Requirement already satisfied: tifffile>=2019.7.26 in /usr/local/lib/python3.10/dist-packages (from scikit-image->lightautoml) (2023.9.26)\n",
            "Requirement already satisfied: packaging>=20.0 in /usr/local/lib/python3.10/dist-packages (from scikit-image->lightautoml) (23.2)\n",
            "Requirement already satisfied: threadpoolctl>=2.0.0 in /usr/local/lib/python3.10/dist-packages (from scikit-learn>=0.22->lightautoml) (3.2.0)\n",
            "Requirement already satisfied: filelock in /usr/local/lib/python3.10/dist-packages (from torch>=1.6->lightautoml) (3.13.1)\n",
            "Requirement already satisfied: typing-extensions in /usr/local/lib/python3.10/dist-packages (from torch>=1.6->lightautoml) (4.5.0)\n",
            "Requirement already satisfied: sympy in /usr/local/lib/python3.10/dist-packages (from torch>=1.6->lightautoml) (1.12)\n",
            "Requirement already satisfied: fsspec in /usr/local/lib/python3.10/dist-packages (from torch>=1.6->lightautoml) (2023.6.0)\n",
            "Requirement already satisfied: triton==2.1.0 in /usr/local/lib/python3.10/dist-packages (from torch>=1.6->lightautoml) (2.1.0)\n",
            "Requirement already satisfied: huggingface-hub<1.0,>=0.16.4 in /usr/local/lib/python3.10/dist-packages (from transformers>=4->lightautoml) (0.19.4)\n",
            "Requirement already satisfied: regex!=2019.12.17 in /usr/local/lib/python3.10/dist-packages (from transformers>=4->lightautoml) (2023.6.3)\n",
            "Requirement already satisfied: requests in /usr/local/lib/python3.10/dist-packages (from transformers>=4->lightautoml) (2.31.0)\n",
            "Requirement already satisfied: tokenizers<0.19,>=0.14 in /usr/local/lib/python3.10/dist-packages (from transformers>=4->lightautoml) (0.15.0)\n",
            "Requirement already satisfied: safetensors>=0.3.1 in /usr/local/lib/python3.10/dist-packages (from transformers>=4->lightautoml) (0.4.1)\n",
            "Requirement already satisfied: graphviz in /usr/local/lib/python3.10/dist-packages (from catboost->lightautoml) (0.20.1)\n",
            "Requirement already satisfied: plotly in /usr/local/lib/python3.10/dist-packages (from catboost->lightautoml) (5.15.0)\n",
            "Requirement already satisfied: six in /usr/local/lib/python3.10/dist-packages (from catboost->lightautoml) (1.16.0)\n",
            "Requirement already satisfied: smart-open>=1.8.1 in /usr/local/lib/python3.10/dist-packages (from gensim>=4->lightautoml) (6.4.0)\n",
            "Requirement already satisfied: MarkupSafe>=2.0 in /usr/local/lib/python3.10/dist-packages (from jinja2->lightautoml) (2.1.3)\n",
            "Requirement already satisfied: click in /usr/local/lib/python3.10/dist-packages (from nltk->lightautoml) (8.1.7)\n",
            "Requirement already satisfied: alembic>=1.5.0 in /usr/local/lib/python3.10/dist-packages (from optuna->lightautoml) (1.13.0)\n",
            "Requirement already satisfied: colorlog in /usr/local/lib/python3.10/dist-packages (from optuna->lightautoml) (6.8.0)\n",
            "Requirement already satisfied: sqlalchemy>=1.3.0 in /usr/local/lib/python3.10/dist-packages (from optuna->lightautoml) (2.0.23)\n",
            "Requirement already satisfied: Mako in /usr/local/lib/python3.10/dist-packages (from alembic>=1.5.0->optuna->lightautoml) (1.3.0)\n",
            "Requirement already satisfied: contourpy>=1.0.1 in /usr/local/lib/python3.10/dist-packages (from matplotlib->autowoe>=1.2->lightautoml) (1.2.0)\n",
            "Requirement already satisfied: cycler>=0.10 in /usr/local/lib/python3.10/dist-packages (from matplotlib->autowoe>=1.2->lightautoml) (0.12.1)\n",
            "Requirement already satisfied: fonttools>=4.22.0 in /usr/local/lib/python3.10/dist-packages (from matplotlib->autowoe>=1.2->lightautoml) (4.45.1)\n",
            "Requirement already satisfied: kiwisolver>=1.0.1 in /usr/local/lib/python3.10/dist-packages (from matplotlib->autowoe>=1.2->lightautoml) (1.4.5)\n",
            "Requirement already satisfied: pyparsing>=2.3.1 in /usr/local/lib/python3.10/dist-packages (from matplotlib->autowoe>=1.2->lightautoml) (3.1.1)\n",
            "Requirement already satisfied: greenlet!=0.4.17 in /usr/local/lib/python3.10/dist-packages (from sqlalchemy>=1.3.0->optuna->lightautoml) (3.0.1)\n",
            "Requirement already satisfied: tenacity>=6.2.0 in /usr/local/lib/python3.10/dist-packages (from plotly->catboost->lightautoml) (8.2.3)\n",
            "Requirement already satisfied: iniconfig in /usr/local/lib/python3.10/dist-packages (from pytest->autowoe>=1.2->lightautoml) (2.0.0)\n",
            "Requirement already satisfied: pluggy<2.0,>=0.12 in /usr/local/lib/python3.10/dist-packages (from pytest->autowoe>=1.2->lightautoml) (1.3.0)\n",
            "Requirement already satisfied: exceptiongroup>=1.0.0rc8 in /usr/local/lib/python3.10/dist-packages (from pytest->autowoe>=1.2->lightautoml) (1.2.0)\n",
            "Requirement already satisfied: tomli>=1.0.0 in /usr/local/lib/python3.10/dist-packages (from pytest->autowoe>=1.2->lightautoml) (2.0.1)\n",
            "Requirement already satisfied: charset-normalizer<4,>=2 in /usr/local/lib/python3.10/dist-packages (from requests->transformers>=4->lightautoml) (3.3.2)\n",
            "Requirement already satisfied: idna<4,>=2.5 in /usr/local/lib/python3.10/dist-packages (from requests->transformers>=4->lightautoml) (3.6)\n",
            "Requirement already satisfied: urllib3<3,>=1.21.1 in /usr/local/lib/python3.10/dist-packages (from requests->transformers>=4->lightautoml) (2.0.7)\n",
            "Requirement already satisfied: certifi>=2017.4.17 in /usr/local/lib/python3.10/dist-packages (from requests->transformers>=4->lightautoml) (2023.11.17)\n",
            "Requirement already satisfied: sphinxcontrib-applehelp in /usr/local/lib/python3.10/dist-packages (from sphinx->autowoe>=1.2->lightautoml) (1.0.7)\n",
            "Requirement already satisfied: sphinxcontrib-devhelp in /usr/local/lib/python3.10/dist-packages (from sphinx->autowoe>=1.2->lightautoml) (1.0.5)\n",
            "Requirement already satisfied: sphinxcontrib-jsmath in /usr/local/lib/python3.10/dist-packages (from sphinx->autowoe>=1.2->lightautoml) (1.0.1)\n",
            "Requirement already satisfied: sphinxcontrib-htmlhelp>=2.0.0 in /usr/local/lib/python3.10/dist-packages (from sphinx->autowoe>=1.2->lightautoml) (2.0.4)\n",
            "Requirement already satisfied: sphinxcontrib-serializinghtml>=1.1.5 in /usr/local/lib/python3.10/dist-packages (from sphinx->autowoe>=1.2->lightautoml) (1.1.9)\n",
            "Requirement already satisfied: sphinxcontrib-qthelp in /usr/local/lib/python3.10/dist-packages (from sphinx->autowoe>=1.2->lightautoml) (1.0.6)\n",
            "Requirement already satisfied: Pygments>=2.0 in /usr/local/lib/python3.10/dist-packages (from sphinx->autowoe>=1.2->lightautoml) (2.16.1)\n",
            "Requirement already satisfied: docutils<0.19,>=0.14 in /usr/local/lib/python3.10/dist-packages (from sphinx->autowoe>=1.2->lightautoml) (0.18.1)\n",
            "Requirement already satisfied: snowballstemmer>=1.1 in /usr/local/lib/python3.10/dist-packages (from sphinx->autowoe>=1.2->lightautoml) (2.2.0)\n",
            "Requirement already satisfied: babel>=1.3 in /usr/local/lib/python3.10/dist-packages (from sphinx->autowoe>=1.2->lightautoml) (2.13.1)\n",
            "Requirement already satisfied: alabaster<0.8,>=0.7 in /usr/local/lib/python3.10/dist-packages (from sphinx->autowoe>=1.2->lightautoml) (0.7.13)\n",
            "Requirement already satisfied: imagesize in /usr/local/lib/python3.10/dist-packages (from sphinx->autowoe>=1.2->lightautoml) (1.4.1)\n",
            "Requirement already satisfied: sphinxcontrib-jquery<5,>=4 in /usr/local/lib/python3.10/dist-packages (from sphinx-rtd-theme->autowoe>=1.2->lightautoml) (4.1)\n",
            "Requirement already satisfied: mpmath>=0.19 in /usr/local/lib/python3.10/dist-packages (from sympy->torch>=1.6->lightautoml) (1.3.0)\n"
          ]
        }
      ]
    },
    {
      "cell_type": "code",
      "source": [
        "from lightautoml.automl.presets.tabular_presets import TabularAutoML\n",
        "from lightautoml.tasks import Task\n",
        "from lightautoml.report.report_deco import ReportDeco\n",
        "from sklearn.metrics import mean_squared_error\n",
        "\n",
        "def rmse(y_true, y_pred, **kwargs):\n",
        "    return mean_squared_error(y_true, y_pred, squared = False, **kwargs)\n",
        "\n",
        "task = Task('reg', )"
      ],
      "metadata": {
        "colab": {
          "base_uri": "https://localhost:8080/",
          "height": 405
        },
        "id": "n42VlMWOphh5",
        "outputId": "4c7263e5-1dbf-4031-f675-cc0716d5e4f9"
      },
      "execution_count": null,
      "outputs": [
        {
          "output_type": "error",
          "ename": "TypeError",
          "evalue": "ignored",
          "traceback": [
            "\u001b[0;31m---------------------------------------------------------------------------\u001b[0m",
            "\u001b[0;31mTypeError\u001b[0m                                 Traceback (most recent call last)",
            "\u001b[0;32m<ipython-input-46-e06b3bd57c89>\u001b[0m in \u001b[0;36m<cell line: 1>\u001b[0;34m()\u001b[0m\n\u001b[0;32m----> 1\u001b[0;31m \u001b[0;32mfrom\u001b[0m \u001b[0mlightautoml\u001b[0m\u001b[0;34m.\u001b[0m\u001b[0mautoml\u001b[0m\u001b[0;34m.\u001b[0m\u001b[0mpresets\u001b[0m\u001b[0;34m.\u001b[0m\u001b[0mtabular_presets\u001b[0m \u001b[0;32mimport\u001b[0m \u001b[0mTabularAutoML\u001b[0m\u001b[0;34m\u001b[0m\u001b[0;34m\u001b[0m\u001b[0m\n\u001b[0m\u001b[1;32m      2\u001b[0m \u001b[0;32mfrom\u001b[0m \u001b[0mlightautoml\u001b[0m\u001b[0;34m.\u001b[0m\u001b[0mtasks\u001b[0m \u001b[0;32mimport\u001b[0m \u001b[0mTask\u001b[0m\u001b[0;34m\u001b[0m\u001b[0;34m\u001b[0m\u001b[0m\n\u001b[1;32m      3\u001b[0m \u001b[0;32mfrom\u001b[0m \u001b[0mlightautoml\u001b[0m\u001b[0;34m.\u001b[0m\u001b[0mreport\u001b[0m\u001b[0;34m.\u001b[0m\u001b[0mreport_deco\u001b[0m \u001b[0;32mimport\u001b[0m \u001b[0mReportDeco\u001b[0m\u001b[0;34m\u001b[0m\u001b[0;34m\u001b[0m\u001b[0m\n\u001b[1;32m      4\u001b[0m \u001b[0;32mfrom\u001b[0m \u001b[0msklearn\u001b[0m\u001b[0;34m.\u001b[0m\u001b[0mmetrics\u001b[0m \u001b[0;32mimport\u001b[0m \u001b[0mmean_squared_error\u001b[0m\u001b[0;34m\u001b[0m\u001b[0;34m\u001b[0m\u001b[0m\n\u001b[1;32m      5\u001b[0m \u001b[0;34m\u001b[0m\u001b[0m\n",
            "\u001b[0;32m/usr/local/lib/python3.10/dist-packages/lightautoml/automl/presets/tabular_presets.py\u001b[0m in \u001b[0;36m<module>\u001b[0;34m\u001b[0m\n\u001b[1;32m     12\u001b[0m \u001b[0;32mfrom\u001b[0m \u001b[0mpandas\u001b[0m \u001b[0;32mimport\u001b[0m \u001b[0mDataFrame\u001b[0m\u001b[0;34m\u001b[0m\u001b[0;34m\u001b[0m\u001b[0m\n\u001b[1;32m     13\u001b[0m \u001b[0;34m\u001b[0m\u001b[0m\n\u001b[0;32m---> 14\u001b[0;31m \u001b[0;32mfrom\u001b[0m \u001b[0;34m.\u001b[0m\u001b[0mbase\u001b[0m \u001b[0;32mimport\u001b[0m \u001b[0mAutoMLPreset\u001b[0m\u001b[0;34m,\u001b[0m \u001b[0mupd_params\u001b[0m\u001b[0;34m\u001b[0m\u001b[0;34m\u001b[0m\u001b[0m\n\u001b[0m\u001b[1;32m     15\u001b[0m \u001b[0;32mfrom\u001b[0m \u001b[0;34m.\u001b[0m\u001b[0mutils\u001b[0m \u001b[0;32mimport\u001b[0m \u001b[0mcalc_feats_permutation_imps\u001b[0m\u001b[0;34m\u001b[0m\u001b[0;34m\u001b[0m\u001b[0m\n\u001b[1;32m     16\u001b[0m \u001b[0;32mfrom\u001b[0m \u001b[0;34m.\u001b[0m\u001b[0;34m.\u001b[0m\u001b[0mblend\u001b[0m \u001b[0;32mimport\u001b[0m \u001b[0mWeightedBlender\u001b[0m\u001b[0;34m,\u001b[0m \u001b[0mMeanBlender\u001b[0m\u001b[0;34m\u001b[0m\u001b[0;34m\u001b[0m\u001b[0m\n",
            "\u001b[0;32m/usr/local/lib/python3.10/dist-packages/lightautoml/automl/presets/base.py\u001b[0m in \u001b[0;36m<module>\u001b[0;34m\u001b[0m\n\u001b[1;32m     10\u001b[0m \u001b[0;32mfrom\u001b[0m \u001b[0mlog_calls\u001b[0m \u001b[0;32mimport\u001b[0m \u001b[0mrecord_history\u001b[0m\u001b[0;34m\u001b[0m\u001b[0;34m\u001b[0m\u001b[0m\n\u001b[1;32m     11\u001b[0m \u001b[0;34m\u001b[0m\u001b[0m\n\u001b[0;32m---> 12\u001b[0;31m \u001b[0;32mfrom\u001b[0m \u001b[0;34m.\u001b[0m\u001b[0;34m.\u001b[0m\u001b[0mbase\u001b[0m \u001b[0;32mimport\u001b[0m \u001b[0mAutoML\u001b[0m\u001b[0;34m\u001b[0m\u001b[0;34m\u001b[0m\u001b[0m\n\u001b[0m\u001b[1;32m     13\u001b[0m \u001b[0;32mfrom\u001b[0m \u001b[0;34m...\u001b[0m\u001b[0mdataset\u001b[0m\u001b[0;34m.\u001b[0m\u001b[0mbase\u001b[0m \u001b[0;32mimport\u001b[0m \u001b[0mLAMLDataset\u001b[0m\u001b[0;34m\u001b[0m\u001b[0;34m\u001b[0m\u001b[0m\n\u001b[1;32m     14\u001b[0m \u001b[0;32mfrom\u001b[0m \u001b[0;34m...\u001b[0m\u001b[0mtasks\u001b[0m \u001b[0;32mimport\u001b[0m \u001b[0mTask\u001b[0m\u001b[0;34m\u001b[0m\u001b[0;34m\u001b[0m\u001b[0m\n",
            "\u001b[0;32m/usr/local/lib/python3.10/dist-packages/lightautoml/automl/base.py\u001b[0m in \u001b[0;36m<module>\u001b[0;34m\u001b[0m\n\u001b[1;32m      6\u001b[0m \u001b[0;32mfrom\u001b[0m \u001b[0mlog_calls\u001b[0m \u001b[0;32mimport\u001b[0m \u001b[0mrecord_history\u001b[0m\u001b[0;34m\u001b[0m\u001b[0;34m\u001b[0m\u001b[0m\n\u001b[1;32m      7\u001b[0m \u001b[0;34m\u001b[0m\u001b[0m\n\u001b[0;32m----> 8\u001b[0;31m \u001b[0;32mfrom\u001b[0m \u001b[0;34m.\u001b[0m\u001b[0mblend\u001b[0m \u001b[0;32mimport\u001b[0m \u001b[0mBlender\u001b[0m\u001b[0;34m,\u001b[0m \u001b[0mBestModelSelector\u001b[0m\u001b[0;34m\u001b[0m\u001b[0;34m\u001b[0m\u001b[0m\n\u001b[0m\u001b[1;32m      9\u001b[0m \u001b[0;32mfrom\u001b[0m \u001b[0;34m.\u001b[0m\u001b[0;34m.\u001b[0m\u001b[0mdataset\u001b[0m\u001b[0;34m.\u001b[0m\u001b[0mbase\u001b[0m \u001b[0;32mimport\u001b[0m \u001b[0mLAMLDataset\u001b[0m\u001b[0;34m\u001b[0m\u001b[0;34m\u001b[0m\u001b[0m\n\u001b[1;32m     10\u001b[0m \u001b[0;32mfrom\u001b[0m \u001b[0;34m.\u001b[0m\u001b[0;34m.\u001b[0m\u001b[0mdataset\u001b[0m\u001b[0;34m.\u001b[0m\u001b[0mutils\u001b[0m \u001b[0;32mimport\u001b[0m \u001b[0mconcatenate\u001b[0m\u001b[0;34m\u001b[0m\u001b[0;34m\u001b[0m\u001b[0m\n",
            "\u001b[0;32m/usr/local/lib/python3.10/dist-packages/lightautoml/automl/blend.py\u001b[0m in \u001b[0;36m<module>\u001b[0;34m\u001b[0m\n\u001b[1;32m      7\u001b[0m \u001b[0;32mfrom\u001b[0m \u001b[0mscipy\u001b[0m\u001b[0;34m.\u001b[0m\u001b[0moptimize\u001b[0m \u001b[0;32mimport\u001b[0m \u001b[0mminimize_scalar\u001b[0m\u001b[0;34m\u001b[0m\u001b[0;34m\u001b[0m\u001b[0m\n\u001b[1;32m      8\u001b[0m \u001b[0;34m\u001b[0m\u001b[0m\n\u001b[0;32m----> 9\u001b[0;31m \u001b[0;32mfrom\u001b[0m \u001b[0;34m.\u001b[0m\u001b[0;34m.\u001b[0m\u001b[0mdataset\u001b[0m\u001b[0;34m.\u001b[0m\u001b[0mbase\u001b[0m \u001b[0;32mimport\u001b[0m \u001b[0mLAMLDataset\u001b[0m\u001b[0;34m\u001b[0m\u001b[0;34m\u001b[0m\u001b[0m\n\u001b[0m\u001b[1;32m     10\u001b[0m \u001b[0;32mfrom\u001b[0m \u001b[0;34m.\u001b[0m\u001b[0;34m.\u001b[0m\u001b[0mdataset\u001b[0m\u001b[0;34m.\u001b[0m\u001b[0mnp_pd_dataset\u001b[0m \u001b[0;32mimport\u001b[0m \u001b[0mNumpyDataset\u001b[0m\u001b[0;34m\u001b[0m\u001b[0;34m\u001b[0m\u001b[0m\n\u001b[1;32m     11\u001b[0m \u001b[0;32mfrom\u001b[0m \u001b[0;34m.\u001b[0m\u001b[0;34m.\u001b[0m\u001b[0mdataset\u001b[0m\u001b[0;34m.\u001b[0m\u001b[0mroles\u001b[0m \u001b[0;32mimport\u001b[0m \u001b[0mNumericRole\u001b[0m\u001b[0;34m\u001b[0m\u001b[0;34m\u001b[0m\u001b[0m\n",
            "\u001b[0;32m/usr/local/lib/python3.10/dist-packages/lightautoml/dataset/base.py\u001b[0m in \u001b[0;36m<module>\u001b[0;34m\u001b[0m\n\u001b[1;32m      6\u001b[0m \u001b[0;32mfrom\u001b[0m \u001b[0mlog_calls\u001b[0m \u001b[0;32mimport\u001b[0m \u001b[0mrecord_history\u001b[0m\u001b[0;34m\u001b[0m\u001b[0;34m\u001b[0m\u001b[0m\n\u001b[1;32m      7\u001b[0m \u001b[0;34m\u001b[0m\u001b[0m\n\u001b[0;32m----> 8\u001b[0;31m \u001b[0;32mfrom\u001b[0m \u001b[0;34m.\u001b[0m\u001b[0mroles\u001b[0m \u001b[0;32mimport\u001b[0m \u001b[0mColumnRole\u001b[0m\u001b[0;34m\u001b[0m\u001b[0;34m\u001b[0m\u001b[0m\n\u001b[0m\u001b[1;32m      9\u001b[0m \u001b[0;32mfrom\u001b[0m \u001b[0;34m.\u001b[0m\u001b[0;34m.\u001b[0m\u001b[0mtasks\u001b[0m\u001b[0;34m.\u001b[0m\u001b[0mbase\u001b[0m \u001b[0;32mimport\u001b[0m \u001b[0mTask\u001b[0m\u001b[0;34m\u001b[0m\u001b[0;34m\u001b[0m\u001b[0m\n\u001b[1;32m     10\u001b[0m \u001b[0;34m\u001b[0m\u001b[0m\n",
            "\u001b[0;32m/usr/local/lib/python3.10/dist-packages/lightautoml/dataset/roles.py\u001b[0m in \u001b[0;36m<module>\u001b[0;34m\u001b[0m\n\u001b[1;32m     13\u001b[0m \u001b[0;34m\u001b[0m\u001b[0m\n\u001b[1;32m     14\u001b[0m \u001b[0;34m@\u001b[0m\u001b[0mrecord_history\u001b[0m\u001b[0;34m(\u001b[0m\u001b[0menabled\u001b[0m\u001b[0;34m=\u001b[0m\u001b[0;32mFalse\u001b[0m\u001b[0;34m)\u001b[0m\u001b[0;34m\u001b[0m\u001b[0;34m\u001b[0m\u001b[0m\n\u001b[0;32m---> 15\u001b[0;31m \u001b[0;32mclass\u001b[0m \u001b[0mColumnRole\u001b[0m\u001b[0;34m:\u001b[0m\u001b[0;34m\u001b[0m\u001b[0;34m\u001b[0m\u001b[0m\n\u001b[0m\u001b[1;32m     16\u001b[0m     \"\"\"Abstract class for column role.\n\u001b[1;32m     17\u001b[0m \u001b[0;34m\u001b[0m\u001b[0m\n",
            "\u001b[0;32m/usr/local/lib/python3.10/dist-packages/log_calls/log_calls.py\u001b[0m in \u001b[0;36m__call__\u001b[0;34m(self, f_or_klass)\u001b[0m\n\u001b[1;32m   1689\u001b[0m             \u001b[0;31m#+*+*+*+*+*+*+*+*+*+*+*+*+*+*+*+*+*+*+*+*+*+*+*+*+*+*+*+*+*+*+*+*\u001b[0m\u001b[0;34m\u001b[0m\u001b[0;34m\u001b[0m\u001b[0m\n\u001b[1;32m   1690\u001b[0m \u001b[0;34m\u001b[0m\u001b[0m\n\u001b[0;32m-> 1691\u001b[0;31m             \u001b[0mself\u001b[0m\u001b[0;34m.\u001b[0m\u001b[0m_class__call__\u001b[0m\u001b[0;34m(\u001b[0m\u001b[0mklass\u001b[0m\u001b[0;34m)\u001b[0m      \u001b[0;31m# modifies klass (methods & inner classes) (if not builtin)\u001b[0m\u001b[0;34m\u001b[0m\u001b[0;34m\u001b[0m\u001b[0m\n\u001b[0m\u001b[1;32m   1692\u001b[0m             \u001b[0mself\u001b[0m\u001b[0;34m.\u001b[0m\u001b[0m_add_class_attrs\u001b[0m\u001b[0;34m(\u001b[0m\u001b[0mklass\u001b[0m\u001b[0;34m)\u001b[0m    \u001b[0;31m# v0.3.0v20 traps TypeError for builtins\u001b[0m\u001b[0;34m\u001b[0m\u001b[0;34m\u001b[0m\u001b[0m\n\u001b[1;32m   1693\u001b[0m             \u001b[0;32mreturn\u001b[0m \u001b[0mklass\u001b[0m\u001b[0;34m\u001b[0m\u001b[0;34m\u001b[0m\u001b[0m\n",
            "\u001b[0;32m/usr/local/lib/python3.10/dist-packages/log_calls/log_calls.py\u001b[0m in \u001b[0;36m_class__call__\u001b[0;34m(self, klass)\u001b[0m\n\u001b[1;32m   1480\u001b[0m                     \u001b[0mnew_omit\u001b[0m \u001b[0;34m+=\u001b[0m \u001b[0mdeco_obj\u001b[0m\u001b[0;34m.\u001b[0m\u001b[0m_omit\u001b[0m\u001b[0;34m\u001b[0m\u001b[0;34m\u001b[0m\u001b[0m\n\u001b[1;32m   1481\u001b[0m \u001b[0;34m\u001b[0m\u001b[0m\n\u001b[0;32m-> 1482\u001b[0;31m                 new_class = self.__class__(\n\u001b[0m\u001b[1;32m   1483\u001b[0m                     \u001b[0msettings\u001b[0m\u001b[0;34m=\u001b[0m\u001b[0mnew_settings\u001b[0m\u001b[0;34m,\u001b[0m\u001b[0;34m\u001b[0m\u001b[0;34m\u001b[0m\u001b[0m\n\u001b[1;32m   1484\u001b[0m                     \u001b[0monly\u001b[0m\u001b[0;34m=\u001b[0m\u001b[0mnew_only\u001b[0m\u001b[0;34m,\u001b[0m\u001b[0;34m\u001b[0m\u001b[0;34m\u001b[0m\u001b[0m\n",
            "\u001b[0;32m/usr/local/lib/python3.10/dist-packages/log_calls/log_calls.py\u001b[0m in \u001b[0;36m__call__\u001b[0;34m(self, f_or_klass)\u001b[0m\n\u001b[1;32m   1690\u001b[0m \u001b[0;34m\u001b[0m\u001b[0m\n\u001b[1;32m   1691\u001b[0m             \u001b[0mself\u001b[0m\u001b[0;34m.\u001b[0m\u001b[0m_class__call__\u001b[0m\u001b[0;34m(\u001b[0m\u001b[0mklass\u001b[0m\u001b[0;34m)\u001b[0m      \u001b[0;31m# modifies klass (methods & inner classes) (if not builtin)\u001b[0m\u001b[0;34m\u001b[0m\u001b[0;34m\u001b[0m\u001b[0m\n\u001b[0;32m-> 1692\u001b[0;31m             \u001b[0mself\u001b[0m\u001b[0;34m.\u001b[0m\u001b[0m_add_class_attrs\u001b[0m\u001b[0;34m(\u001b[0m\u001b[0mklass\u001b[0m\u001b[0;34m)\u001b[0m    \u001b[0;31m# v0.3.0v20 traps TypeError for builtins\u001b[0m\u001b[0;34m\u001b[0m\u001b[0;34m\u001b[0m\u001b[0m\n\u001b[0m\u001b[1;32m   1693\u001b[0m             \u001b[0;32mreturn\u001b[0m \u001b[0mklass\u001b[0m\u001b[0;34m\u001b[0m\u001b[0;34m\u001b[0m\u001b[0m\n\u001b[1;32m   1694\u001b[0m \u001b[0;34m\u001b[0m\u001b[0m\n",
            "\u001b[0;32m/usr/local/lib/python3.10/dist-packages/log_calls/log_calls.py\u001b[0m in \u001b[0;36m_add_class_attrs\u001b[0;34m(self, klass)\u001b[0m\n\u001b[1;32m   2136\u001b[0m         \u001b[0mthis_deco_class\u001b[0m \u001b[0;34m=\u001b[0m \u001b[0mself\u001b[0m\u001b[0;34m.\u001b[0m\u001b[0m__class__\u001b[0m\u001b[0;34m\u001b[0m\u001b[0;34m\u001b[0m\u001b[0m\n\u001b[1;32m   2137\u001b[0m         \u001b[0mthis_deco_class_name\u001b[0m \u001b[0;34m=\u001b[0m \u001b[0mthis_deco_class\u001b[0m\u001b[0;34m.\u001b[0m\u001b[0m__name__\u001b[0m\u001b[0;34m\u001b[0m\u001b[0;34m\u001b[0m\u001b[0m\n\u001b[0;32m-> 2138\u001b[0;31m         setattr(\n\u001b[0m\u001b[1;32m   2139\u001b[0m             \u001b[0mklass\u001b[0m\u001b[0;34m,\u001b[0m\u001b[0;34m\u001b[0m\u001b[0;34m\u001b[0m\u001b[0m\n\u001b[1;32m   2140\u001b[0m             \u001b[0;34m'get_'\u001b[0m \u001b[0;34m+\u001b[0m \u001b[0mthis_deco_class_name\u001b[0m \u001b[0;34m+\u001b[0m \u001b[0;34m'_wrapper'\u001b[0m\u001b[0;34m,\u001b[0m\u001b[0;34m\u001b[0m\u001b[0;34m\u001b[0m\u001b[0m\n",
            "\u001b[0;31mTypeError\u001b[0m: cannot set 'get_record_history_wrapper' attribute of immutable type 'object'"
          ]
        }
      ]
    },
    {
      "cell_type": "code",
      "source": [
        "from google.colab import drive\n",
        "drive.mount('/content/drive')"
      ],
      "metadata": {
        "colab": {
          "base_uri": "https://localhost:8080/"
        },
        "id": "YzJKe_iD8ws8",
        "outputId": "cef73193-47cb-4691-f6f0-25927c3d54bf"
      },
      "execution_count": null,
      "outputs": [
        {
          "output_type": "stream",
          "name": "stdout",
          "text": [
            "Drive already mounted at /content/drive; to attempt to forcibly remount, call drive.mount(\"/content/drive\", force_remount=True).\n"
          ]
        }
      ]
    },
    {
      "cell_type": "code",
      "source": [
        "import matplotlib\n",
        "matplotlib.use('Agg')"
      ],
      "metadata": {
        "id": "9Dj__MGu86i1"
      },
      "execution_count": null,
      "outputs": []
    },
    {
      "cell_type": "code",
      "execution_count": null,
      "metadata": {
        "id": "cxxU41u0tPUO"
      },
      "outputs": [],
      "source": [
        "automl = AutoML(mode=\"Compete\",\n",
        "                algorithms = ['Random Forest', 'LightGBM', 'Xgboost', 'CatBoost'],\n",
        "                n_jobs = -1,total_time_limit=43200, eval_metric=\"rmse\", ml_task = \"regression\",)\n",
        "#3.209155"
      ]
    },
    {
      "cell_type": "code",
      "execution_count": null,
      "metadata": {
        "colab": {
          "base_uri": "https://localhost:8080/",
          "height": 1000
        },
        "id": "icb3FNQRwKR0",
        "outputId": "24b86f9e-2b3f-4f0b-953b-317641c2165c"
      },
      "outputs": [
        {
          "output_type": "stream",
          "name": "stdout",
          "text": [
            "AutoML directory: AutoML_2\n",
            "The task is regression with evaluation metric rmse\n",
            "AutoML will use algorithms: ['Random Forest', 'LightGBM', 'Xgboost', 'CatBoost']\n",
            "AutoML will stack models\n",
            "AutoML will ensemble available models\n",
            "AutoML steps: ['adjust_validation', 'simple_algorithms', 'default_algorithms', 'not_so_random', 'golden_features', 'kmeans_features', 'insert_random_feature', 'features_selection', 'hill_climbing_1', 'hill_climbing_2', 'boost_on_errors', 'ensemble', 'stack', 'ensemble_stacked']\n",
            "* Step adjust_validation will try to check up to 1 model\n",
            "There was an error during 1_DecisionTree training.\n",
            "Please check AutoML_2/errors.md for details.\n",
            "Skip simple_algorithms because no parameters were generated.\n",
            "* Step default_algorithms will try to check up to 4 models\n",
            "There was an error during 1_Default_LightGBM training.\n",
            "Please check AutoML_2/errors.md for details.\n",
            "There was an error during 2_Default_Xgboost training.\n",
            "Please check AutoML_2/errors.md for details.\n",
            "There was an error during 3_Default_CatBoost training.\n",
            "Please check AutoML_2/errors.md for details.\n",
            "There was an error during 4_Default_RandomForest training.\n",
            "Please check AutoML_2/errors.md for details.\n",
            "* Step not_so_random will try to check up to 36 models\n",
            "There was an error during 10_LightGBM training.\n",
            "Please check AutoML_2/errors.md for details.\n",
            "There was an error during 1_Xgboost training.\n",
            "Please check AutoML_2/errors.md for details.\n",
            "There was an error during 19_CatBoost training.\n",
            "Please check AutoML_2/errors.md for details.\n",
            "There was an error during 28_RandomForest training.\n",
            "Please check AutoML_2/errors.md for details.\n",
            "There was an error during 11_LightGBM training.\n",
            "Please check AutoML_2/errors.md for details.\n",
            "There was an error during 2_Xgboost training.\n",
            "Please check AutoML_2/errors.md for details.\n",
            "There was an error during 20_CatBoost training.\n",
            "Please check AutoML_2/errors.md for details.\n",
            "There was an error during 29_RandomForest training.\n",
            "Please check AutoML_2/errors.md for details.\n",
            "There was an error during 12_LightGBM training.\n",
            "Please check AutoML_2/errors.md for details.\n",
            "There was an error during 3_Xgboost training.\n",
            "Please check AutoML_2/errors.md for details.\n",
            "There was an error during 21_CatBoost training.\n",
            "Please check AutoML_2/errors.md for details.\n",
            "There was an error during 30_RandomForest training.\n",
            "Please check AutoML_2/errors.md for details.\n",
            "There was an error during 13_LightGBM training.\n",
            "Please check AutoML_2/errors.md for details.\n",
            "There was an error during 4_Xgboost training.\n",
            "Please check AutoML_2/errors.md for details.\n",
            "There was an error during 22_CatBoost training.\n",
            "Please check AutoML_2/errors.md for details.\n",
            "There was an error during 31_RandomForest training.\n",
            "Please check AutoML_2/errors.md for details.\n",
            "There was an error during 14_LightGBM training.\n",
            "Please check AutoML_2/errors.md for details.\n",
            "There was an error during 5_Xgboost training.\n",
            "Please check AutoML_2/errors.md for details.\n",
            "There was an error during 23_CatBoost training.\n",
            "Please check AutoML_2/errors.md for details.\n",
            "There was an error during 32_RandomForest training.\n",
            "Please check AutoML_2/errors.md for details.\n",
            "There was an error during 15_LightGBM training.\n",
            "Please check AutoML_2/errors.md for details.\n",
            "There was an error during 6_Xgboost training.\n",
            "Please check AutoML_2/errors.md for details.\n",
            "There was an error during 24_CatBoost training.\n",
            "Please check AutoML_2/errors.md for details.\n",
            "There was an error during 33_RandomForest training.\n",
            "Please check AutoML_2/errors.md for details.\n",
            "There was an error during 16_LightGBM training.\n",
            "Please check AutoML_2/errors.md for details.\n",
            "There was an error during 7_Xgboost training.\n",
            "Please check AutoML_2/errors.md for details.\n",
            "There was an error during 25_CatBoost training.\n",
            "Please check AutoML_2/errors.md for details.\n",
            "There was an error during 34_RandomForest training.\n",
            "Please check AutoML_2/errors.md for details.\n",
            "There was an error during 17_LightGBM training.\n",
            "Please check AutoML_2/errors.md for details.\n",
            "There was an error during 8_Xgboost training.\n",
            "Please check AutoML_2/errors.md for details.\n"
          ]
        },
        {
          "output_type": "stream",
          "name": "stderr",
          "text": [
            "ERROR:supervised.exceptions:No models produced. \n",
            "Please check your data or submit a Github issue at https://github.com/mljar/mljar-supervised/issues/new.\n"
          ]
        },
        {
          "output_type": "stream",
          "name": "stdout",
          "text": [
            "There was an error during 26_CatBoost training.\n",
            "Please check AutoML_2/errors.md for details.\n",
            "There was an error during 35_RandomForest training.\n",
            "Please check AutoML_2/errors.md for details.\n",
            "There was an error during 18_LightGBM training.\n",
            "Please check AutoML_2/errors.md for details.\n",
            "There was an error during 9_Xgboost training.\n",
            "Please check AutoML_2/errors.md for details.\n",
            "There was an error during 27_CatBoost training.\n",
            "Please check AutoML_2/errors.md for details.\n",
            "There was an error during 36_RandomForest training.\n",
            "Please check AutoML_2/errors.md for details.\n",
            "Skip golden_features because no parameters were generated.\n",
            "'score' Traceback (most recent call last):\n",
            "  File \"/usr/local/lib/python3.10/dist-packages/supervised/tuner/mljar_tuner.py\", line 225, in generate_params\n",
            "    return self.get_kmeans_features_params(\n",
            "  File \"/usr/local/lib/python3.10/dist-packages/supervised/tuner/mljar_tuner.py\", line 1188, in get_kmeans_features_params\n",
            "    df_models, algorithms = self.df_models_algorithms(\n",
            "  File \"/usr/local/lib/python3.10/dist-packages/supervised/tuner/mljar_tuner.py\", line 1113, in df_models_algorithms\n",
            "    df_models.sort_values(by=\"score\", ascending=True, inplace=True)\n",
            "  File \"/usr/local/lib/python3.10/dist-packages/pandas/core/frame.py\", line 6944, in sort_values\n",
            "    k = self._get_label_or_level_values(by[0], axis=axis)\n",
            "  File \"/usr/local/lib/python3.10/dist-packages/pandas/core/generic.py\", line 1844, in _get_label_or_level_values\n",
            "    raise KeyError(key)\n",
            "KeyError: 'score'\n",
            "\n",
            "Skip kmeans_features because no parameters were generated.\n",
            "Skip insert_random_feature because no parameters were generated.\n",
            "Skip features_selection because no parameters were generated.\n"
          ]
        },
        {
          "output_type": "error",
          "ename": "AutoMLException",
          "evalue": "ignored",
          "traceback": [
            "\u001b[0;31m---------------------------------------------------------------------------\u001b[0m",
            "\u001b[0;31mAutoMLException\u001b[0m                           Traceback (most recent call last)",
            "\u001b[0;32m<ipython-input-35-7a52a5d8533a>\u001b[0m in \u001b[0;36m<cell line: 1>\u001b[0;34m()\u001b[0m\n\u001b[0;32m----> 1\u001b[0;31m \u001b[0mautoml\u001b[0m\u001b[0;34m.\u001b[0m\u001b[0mfit\u001b[0m\u001b[0;34m(\u001b[0m\u001b[0mX_train\u001b[0m\u001b[0;34m,\u001b[0m \u001b[0my_train\u001b[0m\u001b[0;34m)\u001b[0m\u001b[0;34m\u001b[0m\u001b[0;34m\u001b[0m\u001b[0m\n\u001b[0m",
            "\u001b[0;32m/usr/local/lib/python3.10/dist-packages/supervised/automl.py\u001b[0m in \u001b[0;36mfit\u001b[0;34m(self, X, y, sample_weight, cv, sensitive_features)\u001b[0m\n\u001b[1;32m    431\u001b[0m             \u001b[0mAutoML\u001b[0m \u001b[0mobject\u001b[0m\u001b[0;34m:\u001b[0m \u001b[0mReturns\u001b[0m\u001b[0;31m \u001b[0m\u001b[0;31m`\u001b[0m\u001b[0mself\u001b[0m\u001b[0;31m`\u001b[0m\u001b[0;34m\u001b[0m\u001b[0;34m\u001b[0m\u001b[0m\n\u001b[1;32m    432\u001b[0m         \"\"\"\n\u001b[0;32m--> 433\u001b[0;31m         \u001b[0;32mreturn\u001b[0m \u001b[0mself\u001b[0m\u001b[0;34m.\u001b[0m\u001b[0m_fit\u001b[0m\u001b[0;34m(\u001b[0m\u001b[0mX\u001b[0m\u001b[0;34m,\u001b[0m \u001b[0my\u001b[0m\u001b[0;34m,\u001b[0m \u001b[0msample_weight\u001b[0m\u001b[0;34m,\u001b[0m \u001b[0mcv\u001b[0m\u001b[0;34m,\u001b[0m \u001b[0msensitive_features\u001b[0m\u001b[0;34m)\u001b[0m\u001b[0;34m\u001b[0m\u001b[0;34m\u001b[0m\u001b[0m\n\u001b[0m\u001b[1;32m    434\u001b[0m \u001b[0;34m\u001b[0m\u001b[0m\n\u001b[1;32m    435\u001b[0m     \u001b[0;32mdef\u001b[0m \u001b[0mpredict\u001b[0m\u001b[0;34m(\u001b[0m\u001b[0mself\u001b[0m\u001b[0;34m,\u001b[0m \u001b[0mX\u001b[0m\u001b[0;34m:\u001b[0m \u001b[0mUnion\u001b[0m\u001b[0;34m[\u001b[0m\u001b[0mList\u001b[0m\u001b[0;34m,\u001b[0m \u001b[0mnumpy\u001b[0m\u001b[0;34m.\u001b[0m\u001b[0mndarray\u001b[0m\u001b[0;34m,\u001b[0m \u001b[0mpandas\u001b[0m\u001b[0;34m.\u001b[0m\u001b[0mDataFrame\u001b[0m\u001b[0;34m]\u001b[0m\u001b[0;34m)\u001b[0m \u001b[0;34m->\u001b[0m \u001b[0mnumpy\u001b[0m\u001b[0;34m.\u001b[0m\u001b[0mndarray\u001b[0m\u001b[0;34m:\u001b[0m\u001b[0;34m\u001b[0m\u001b[0;34m\u001b[0m\u001b[0m\n",
            "\u001b[0;32m/usr/local/lib/python3.10/dist-packages/supervised/base_automl.py\u001b[0m in \u001b[0;36m_fit\u001b[0;34m(self, X, y, sample_weight, cv, sensitive_features)\u001b[0m\n\u001b[1;32m   1252\u001b[0m \u001b[0;34m\u001b[0m\u001b[0m\n\u001b[1;32m   1253\u001b[0m         \u001b[0;32mexcept\u001b[0m \u001b[0mException\u001b[0m \u001b[0;32mas\u001b[0m \u001b[0me\u001b[0m\u001b[0;34m:\u001b[0m\u001b[0;34m\u001b[0m\u001b[0;34m\u001b[0m\u001b[0m\n\u001b[0;32m-> 1254\u001b[0;31m             \u001b[0;32mraise\u001b[0m \u001b[0me\u001b[0m\u001b[0;34m\u001b[0m\u001b[0;34m\u001b[0m\u001b[0m\n\u001b[0m\u001b[1;32m   1255\u001b[0m \u001b[0;34m\u001b[0m\u001b[0m\n\u001b[1;32m   1256\u001b[0m         \u001b[0;32mreturn\u001b[0m \u001b[0mself\u001b[0m\u001b[0;34m\u001b[0m\u001b[0;34m\u001b[0m\u001b[0m\n",
            "\u001b[0;32m/usr/local/lib/python3.10/dist-packages/supervised/base_automl.py\u001b[0m in \u001b[0;36m_fit\u001b[0;34m(self, X, y, sample_weight, cv, sensitive_features)\u001b[0m\n\u001b[1;32m   1148\u001b[0m                 \u001b[0;32mif\u001b[0m \u001b[0;34m\"hill_climbing\"\u001b[0m \u001b[0;32min\u001b[0m \u001b[0mstep\u001b[0m \u001b[0;32mor\u001b[0m \u001b[0mstep\u001b[0m \u001b[0;32min\u001b[0m \u001b[0;34m[\u001b[0m\u001b[0;34m\"ensemble\"\u001b[0m\u001b[0;34m,\u001b[0m \u001b[0;34m\"stack\"\u001b[0m\u001b[0;34m]\u001b[0m\u001b[0;34m:\u001b[0m\u001b[0;34m\u001b[0m\u001b[0;34m\u001b[0m\u001b[0m\n\u001b[1;32m   1149\u001b[0m                     \u001b[0;32mif\u001b[0m \u001b[0mlen\u001b[0m\u001b[0;34m(\u001b[0m\u001b[0mself\u001b[0m\u001b[0;34m.\u001b[0m\u001b[0m_models\u001b[0m\u001b[0;34m)\u001b[0m \u001b[0;34m==\u001b[0m \u001b[0;36m0\u001b[0m\u001b[0;34m:\u001b[0m\u001b[0;34m\u001b[0m\u001b[0;34m\u001b[0m\u001b[0m\n\u001b[0;32m-> 1150\u001b[0;31m                         raise AutoMLException(\n\u001b[0m\u001b[1;32m   1151\u001b[0m                             \u001b[0;34m\"No models produced. \\nPlease check your data or\"\u001b[0m\u001b[0;34m\u001b[0m\u001b[0;34m\u001b[0m\u001b[0m\n\u001b[1;32m   1152\u001b[0m                             \u001b[0;34m\" submit a Github issue at https://github.com/mljar/mljar-supervised/issues/new.\"\u001b[0m\u001b[0;34m\u001b[0m\u001b[0;34m\u001b[0m\u001b[0m\n",
            "\u001b[0;31mAutoMLException\u001b[0m: No models produced. \nPlease check your data or submit a Github issue at https://github.com/mljar/mljar-supervised/issues/new."
          ]
        }
      ],
      "source": [
        "automl.fit(X_train, y_train)"
      ]
    },
    {
      "cell_type": "code",
      "source": [
        "pred = automl.predict(X_test)"
      ],
      "metadata": {
        "id": "9BoAkwgJ6Wyv",
        "colab": {
          "base_uri": "https://localhost:8080/",
          "height": 182
        },
        "outputId": "dc259434-e849-4d12-c1d2-5ac552aa1c0f"
      },
      "execution_count": null,
      "outputs": [
        {
          "output_type": "error",
          "ename": "NameError",
          "evalue": "ignored",
          "traceback": [
            "\u001b[0;31m---------------------------------------------------------------------------\u001b[0m",
            "\u001b[0;31mNameError\u001b[0m                                 Traceback (most recent call last)",
            "\u001b[0;32m<ipython-input-1-18e4b7355294>\u001b[0m in \u001b[0;36m<cell line: 1>\u001b[0;34m()\u001b[0m\n\u001b[0;32m----> 1\u001b[0;31m \u001b[0mpred\u001b[0m \u001b[0;34m=\u001b[0m \u001b[0mautoml\u001b[0m\u001b[0;34m.\u001b[0m\u001b[0mpredict\u001b[0m\u001b[0;34m(\u001b[0m\u001b[0mX_test\u001b[0m\u001b[0;34m)\u001b[0m\u001b[0;34m\u001b[0m\u001b[0;34m\u001b[0m\u001b[0m\n\u001b[0m",
            "\u001b[0;31mNameError\u001b[0m: name 'automl' is not defined"
          ]
        }
      ]
    },
    {
      "cell_type": "code",
      "source": [
        "submission = pd.read_csv('/content/drive/MyDrive/대구 교통사고 피해 예측 경진대회/sample_submission.csv')\n",
        "\n",
        "submission['ECLO'] = pred\n",
        "submission.loc[ submission['ECLO'] < 0.0, 'ECLO'] = 0.0\n",
        "min(submission['ECLO'])"
      ],
      "metadata": {
        "colab": {
          "base_uri": "https://localhost:8080/"
        },
        "id": "d0QkkNXyBOPy",
        "outputId": "329c9969-bdd7-46c0-efbc-47b733bef810"
      },
      "execution_count": null,
      "outputs": [
        {
          "output_type": "execute_result",
          "data": {
            "text/plain": [
              "2.69994854927063"
            ]
          },
          "metadata": {},
          "execution_count": 57
        }
      ]
    },
    {
      "cell_type": "code",
      "source": [
        "submission.to_csv('/content/drive/MyDrive/대구 교통사고 피해 예측 경진대회/automl_ss3.csv', index=False)"
      ],
      "metadata": {
        "id": "AlDjrU-FIFtJ"
      },
      "execution_count": null,
      "outputs": []
    },
    {
      "cell_type": "code",
      "source": [],
      "metadata": {
        "id": "8dpx0yuiMwOb"
      },
      "execution_count": null,
      "outputs": []
    },
    {
      "cell_type": "code",
      "source": [],
      "metadata": {
        "id": "VSgq_uPXTnrr"
      },
      "execution_count": null,
      "outputs": []
    },
    {
      "cell_type": "code",
      "source": [],
      "metadata": {
        "id": "GDEC2DHTafIZ"
      },
      "execution_count": null,
      "outputs": []
    },
    {
      "cell_type": "code",
      "source": [],
      "metadata": {
        "id": "-Teby1IZhWlg"
      },
      "execution_count": null,
      "outputs": []
    },
    {
      "cell_type": "code",
      "source": [],
      "metadata": {
        "id": "7IMelGAAoOCW"
      },
      "execution_count": null,
      "outputs": []
    },
    {
      "cell_type": "code",
      "source": [],
      "metadata": {
        "id": "3kswC9UxvFfu"
      },
      "execution_count": null,
      "outputs": []
    },
    {
      "cell_type": "code",
      "source": [],
      "metadata": {
        "id": "CC95zH1RO9J8"
      },
      "execution_count": null,
      "outputs": []
    },
    {
      "cell_type": "code",
      "source": [],
      "metadata": {
        "id": "XTXJvFVWV0nE"
      },
      "execution_count": null,
      "outputs": []
    },
    {
      "cell_type": "code",
      "source": [],
      "metadata": {
        "id": "Sp2O2X_ocsD6"
      },
      "execution_count": null,
      "outputs": []
    },
    {
      "cell_type": "code",
      "source": [],
      "metadata": {
        "id": "KuUOX70ljjg8"
      },
      "execution_count": null,
      "outputs": []
    },
    {
      "cell_type": "code",
      "source": [],
      "metadata": {
        "id": "WReiAxmhqa9n"
      },
      "execution_count": null,
      "outputs": []
    },
    {
      "cell_type": "code",
      "source": [],
      "metadata": {
        "id": "37OBQ9yCxSbM"
      },
      "execution_count": null,
      "outputs": []
    },
    {
      "cell_type": "code",
      "source": [],
      "metadata": {
        "id": "PoEJkDLf4J38"
      },
      "execution_count": null,
      "outputs": []
    },
    {
      "cell_type": "code",
      "source": [],
      "metadata": {
        "id": "zCxX3jSagUEF"
      },
      "execution_count": null,
      "outputs": []
    }
  ],
  "metadata": {
    "colab": {
      "provenance": []
    },
    "kernelspec": {
      "display_name": "Python 3",
      "name": "python3"
    },
    "language_info": {
      "name": "python"
    }
  },
  "nbformat": 4,
  "nbformat_minor": 0
}