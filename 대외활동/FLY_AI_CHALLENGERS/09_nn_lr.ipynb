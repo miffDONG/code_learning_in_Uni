{
  "nbformat": 4,
  "nbformat_minor": 0,
  "metadata": {
    "colab": {
      "provenance": []
    },
    "kernelspec": {
      "name": "python3",
      "display_name": "Python 3"
    },
    "language_info": {
      "name": "python"
    }
  },
  "cells": [
    {
      "cell_type": "markdown",
      "source": [
        "# nn"
      ],
      "metadata": {
        "id": "228lBN47w2Ok"
      }
    },
    {
      "cell_type": "code",
      "execution_count": 2,
      "metadata": {
        "id": "b0jo3v7Nw0Bo"
      },
      "outputs": [],
      "source": [
        "import numpy as np\n",
        "import pandas as pd\n",
        "import matplotlib.pyplot as plt\n",
        "\n",
        "import tensorflow as tf\n",
        "import keras"
      ]
    },
    {
      "cell_type": "code",
      "source": [
        "print(tf.__version__)\n",
        "print(keras.__version__)"
      ],
      "metadata": {
        "colab": {
          "base_uri": "https://localhost:8080/"
        },
        "id": "fjQggfDOxGyX",
        "outputId": "43ca270a-0064-4370-ed5d-263592a9cf59"
      },
      "execution_count": 3,
      "outputs": [
        {
          "output_type": "stream",
          "name": "stdout",
          "text": [
            "2.15.0\n",
            "2.15.0\n"
          ]
        }
      ]
    },
    {
      "cell_type": "code",
      "source": [
        "!pip install ipython-autotime\n",
        "%load_ext autotime"
      ],
      "metadata": {
        "colab": {
          "base_uri": "https://localhost:8080/"
        },
        "id": "JQlDeo79xOop",
        "outputId": "6d5c5045-b163-4409-8af4-ddc208b455a7"
      },
      "execution_count": 4,
      "outputs": [
        {
          "output_type": "stream",
          "name": "stdout",
          "text": [
            "Collecting ipython-autotime\n",
            "  Downloading ipython_autotime-0.3.2-py2.py3-none-any.whl (7.0 kB)\n",
            "Requirement already satisfied: ipython in /usr/local/lib/python3.10/dist-packages (from ipython-autotime) (7.34.0)\n",
            "Requirement already satisfied: setuptools>=18.5 in /usr/local/lib/python3.10/dist-packages (from ipython->ipython-autotime) (67.7.2)\n",
            "Collecting jedi>=0.16 (from ipython->ipython-autotime)\n",
            "  Downloading jedi-0.19.1-py2.py3-none-any.whl (1.6 MB)\n",
            "\u001b[2K     \u001b[90m━━━━━━━━━━━━━━━━━━━━━━━━━━━━━━━━━━━━━━━━\u001b[0m \u001b[32m1.6/1.6 MB\u001b[0m \u001b[31m6.9 MB/s\u001b[0m eta \u001b[36m0:00:00\u001b[0m\n",
            "\u001b[?25hRequirement already satisfied: decorator in /usr/local/lib/python3.10/dist-packages (from ipython->ipython-autotime) (4.4.2)\n",
            "Requirement already satisfied: pickleshare in /usr/local/lib/python3.10/dist-packages (from ipython->ipython-autotime) (0.7.5)\n",
            "Requirement already satisfied: traitlets>=4.2 in /usr/local/lib/python3.10/dist-packages (from ipython->ipython-autotime) (5.7.1)\n",
            "Requirement already satisfied: prompt-toolkit!=3.0.0,!=3.0.1,<3.1.0,>=2.0.0 in /usr/local/lib/python3.10/dist-packages (from ipython->ipython-autotime) (3.0.47)\n",
            "Requirement already satisfied: pygments in /usr/local/lib/python3.10/dist-packages (from ipython->ipython-autotime) (2.16.1)\n",
            "Requirement already satisfied: backcall in /usr/local/lib/python3.10/dist-packages (from ipython->ipython-autotime) (0.2.0)\n",
            "Requirement already satisfied: matplotlib-inline in /usr/local/lib/python3.10/dist-packages (from ipython->ipython-autotime) (0.1.7)\n",
            "Requirement already satisfied: pexpect>4.3 in /usr/local/lib/python3.10/dist-packages (from ipython->ipython-autotime) (4.9.0)\n",
            "Requirement already satisfied: parso<0.9.0,>=0.8.3 in /usr/local/lib/python3.10/dist-packages (from jedi>=0.16->ipython->ipython-autotime) (0.8.4)\n",
            "Requirement already satisfied: ptyprocess>=0.5 in /usr/local/lib/python3.10/dist-packages (from pexpect>4.3->ipython->ipython-autotime) (0.7.0)\n",
            "Requirement already satisfied: wcwidth in /usr/local/lib/python3.10/dist-packages (from prompt-toolkit!=3.0.0,!=3.0.1,<3.1.0,>=2.0.0->ipython->ipython-autotime) (0.2.13)\n",
            "Installing collected packages: jedi, ipython-autotime\n",
            "Successfully installed ipython-autotime-0.3.2 jedi-0.19.1\n",
            "time: 333 µs (started: 2024-06-28 02:56:14 +00:00)\n"
          ]
        }
      ]
    },
    {
      "cell_type": "markdown",
      "source": [
        "## 1. 데이터 준비"
      ],
      "metadata": {
        "id": "ItMBwvn5xas_"
      }
    },
    {
      "cell_type": "code",
      "source": [
        "x_train = np.array([1,2,3,4,5])\n",
        "y_train = np.array([2,4,6,8,10])+1\n",
        "y_train"
      ],
      "metadata": {
        "colab": {
          "base_uri": "https://localhost:8080/"
        },
        "id": "a3M5LLr3xXgD",
        "outputId": "39807955-3cf9-4ffd-d26d-5f15237690a6"
      },
      "execution_count": 5,
      "outputs": [
        {
          "output_type": "execute_result",
          "data": {
            "text/plain": [
              "array([ 3,  5,  7,  9, 11])"
            ]
          },
          "metadata": {},
          "execution_count": 5
        },
        {
          "output_type": "stream",
          "name": "stdout",
          "text": [
            "time: 9.74 ms (started: 2024-06-28 02:57:20 +00:00)\n"
          ]
        }
      ]
    },
    {
      "cell_type": "code",
      "source": [
        "plt.scatter(x_train, y_train)\n",
        "plt.show"
      ],
      "metadata": {
        "colab": {
          "base_uri": "https://localhost:8080/",
          "height": 619
        },
        "id": "l4-wH28OxsFD",
        "outputId": "feee4d0e-f714-414a-c807-bc487c8d7594"
      },
      "execution_count": 6,
      "outputs": [
        {
          "output_type": "execute_result",
          "data": {
            "text/plain": [
              "<function matplotlib.pyplot.show(close=None, block=None)>"
            ],
            "text/html": [
              "<div style=\"max-width:800px; border: 1px solid var(--colab-border-color);\"><style>\n",
              "      pre.function-repr-contents {\n",
              "        overflow-x: auto;\n",
              "        padding: 8px 12px;\n",
              "        max-height: 500px;\n",
              "      }\n",
              "\n",
              "      pre.function-repr-contents.function-repr-contents-collapsed {\n",
              "        cursor: pointer;\n",
              "        max-height: 100px;\n",
              "      }\n",
              "    </style>\n",
              "    <pre style=\"white-space: initial; background:\n",
              "         var(--colab-secondary-surface-color); padding: 8px 12px;\n",
              "         border-bottom: 1px solid var(--colab-border-color);\"><b>matplotlib.pyplot.show</b><br/>def show(*args, **kwargs)</pre><pre class=\"function-repr-contents function-repr-contents-collapsed\" style=\"\"><a class=\"filepath\" style=\"display:none\" href=\"#\">/usr/local/lib/python3.10/dist-packages/matplotlib/pyplot.py</a>Display all open figures.\n",
              "\n",
              "Parameters\n",
              "----------\n",
              "block : bool, optional\n",
              "    Whether to wait for all figures to be closed before returning.\n",
              "\n",
              "    If `True` block and run the GUI main loop until all figure windows\n",
              "    are closed.\n",
              "\n",
              "    If `False` ensure that all figure windows are displayed and return\n",
              "    immediately.  In this case, you are responsible for ensuring\n",
              "    that the event loop is running to have responsive figures.\n",
              "\n",
              "    Defaults to True in non-interactive mode and to False in interactive\n",
              "    mode (see `.pyplot.isinteractive`).\n",
              "\n",
              "See Also\n",
              "--------\n",
              "ion : Enable interactive mode, which shows / updates the figure after\n",
              "      every plotting command, so that calling ``show()`` is not necessary.\n",
              "ioff : Disable interactive mode.\n",
              "savefig : Save the figure to an image file instead of showing it on screen.\n",
              "\n",
              "Notes\n",
              "-----\n",
              "**Saving figures to file and showing a window at the same time**\n",
              "\n",
              "If you want an image file as well as a user interface window, use\n",
              "`.pyplot.savefig` before `.pyplot.show`. At the end of (a blocking)\n",
              "``show()`` the figure is closed and thus unregistered from pyplot. Calling\n",
              "`.pyplot.savefig` afterwards would save a new and thus empty figure. This\n",
              "limitation of command order does not apply if the show is non-blocking or\n",
              "if you keep a reference to the figure and use `.Figure.savefig`.\n",
              "\n",
              "**Auto-show in jupyter notebooks**\n",
              "\n",
              "The jupyter backends (activated via ``%matplotlib inline``,\n",
              "``%matplotlib notebook``, or ``%matplotlib widget``), call ``show()`` at\n",
              "the end of every cell by default. Thus, you usually don&#x27;t have to call it\n",
              "explicitly there.</pre>\n",
              "      <script>\n",
              "      if (google.colab.kernel.accessAllowed && google.colab.files && google.colab.files.view) {\n",
              "        for (const element of document.querySelectorAll('.filepath')) {\n",
              "          element.style.display = 'block'\n",
              "          element.onclick = (event) => {\n",
              "            event.preventDefault();\n",
              "            event.stopPropagation();\n",
              "            google.colab.files.view(element.textContent, 401);\n",
              "          };\n",
              "        }\n",
              "      }\n",
              "      for (const element of document.querySelectorAll('.function-repr-contents')) {\n",
              "        element.onclick = (event) => {\n",
              "          event.preventDefault();\n",
              "          event.stopPropagation();\n",
              "          element.classList.toggle('function-repr-contents-collapsed');\n",
              "        };\n",
              "      }\n",
              "      </script>\n",
              "      </div>"
            ]
          },
          "metadata": {},
          "execution_count": 6
        },
        {
          "output_type": "display_data",
          "data": {
            "text/plain": [
              "<Figure size 640x480 with 1 Axes>"
            ],
            "image/png": "[encoded data removed]"
          },
          "metadata": {}
        },
        {
          "output_type": "stream",
          "name": "stdout",
          "text": [
            "time: 676 ms (started: 2024-06-28 02:57:38 +00:00)\n"
          ]
        }
      ]
    },
    {
      "cell_type": "markdown",
      "source": [],
      "metadata": {
        "id": "zfXOhTbex-M6"
      }
    },
    {
      "cell_type": "markdown",
      "source": [
        "## Linear Regression"
      ],
      "metadata": {
        "id": "GduNLjwmx-az"
      }
    },
    {
      "cell_type": "code",
      "source": [
        "from sklearn.linear_model import LinearRegression\n",
        "\n",
        "lr = LinearRegression()\n",
        "lr.fit(x_train.reshape(-1,1), y_train)"
      ],
      "metadata": {
        "colab": {
          "base_uri": "https://localhost:8080/",
          "height": 94
        },
        "id": "dNEi9bl4xuLC",
        "outputId": "528a112d-9505-4272-aba6-fd8d9e6b9cba"
      },
      "execution_count": 7,
      "outputs": [
        {
          "output_type": "execute_result",
          "data": {
            "text/plain": [
              "LinearRegression()"
            ],
            "text/html": [
              "<style>#sk-container-id-1 {color: black;background-color: white;}#sk-container-id-1 pre{padding: 0;}#sk-container-id-1 div.sk-toggleable {background-color: white;}#sk-container-id-1 label.sk-toggleable__label {cursor: pointer;display: block;width: 100%;margin-bottom: 0;padding: 0.3em;box-sizing: border-box;text-align: center;}#sk-container-id-1 label.sk-toggleable__label-arrow:before {content: \"▸\";float: left;margin-right: 0.25em;color: #696969;}#sk-container-id-1 label.sk-toggleable__label-arrow:hover:before {color: black;}#sk-container-id-1 div.sk-estimator:hover label.sk-toggleable__label-arrow:before {color: black;}#sk-container-id-1 div.sk-toggleable__content {max-height: 0;max-width: 0;overflow: hidden;text-align: left;background-color: #f0f8ff;}#sk-container-id-1 div.sk-toggleable__content pre {margin: 0.2em;color: black;border-radius: 0.25em;background-color: #f0f8ff;}#sk-container-id-1 input.sk-toggleable__control:checked~div.sk-toggleable__content {max-height: 200px;max-width: 100%;overflow: auto;}#sk-container-id-1 input.sk-toggleable__control:checked~label.sk-toggleable__label-arrow:before {content: \"▾\";}#sk-container-id-1 div.sk-estimator input.sk-toggleable__control:checked~label.sk-toggleable__label {background-color: #d4ebff;}#sk-container-id-1 div.sk-label input.sk-toggleable__control:checked~label.sk-toggleable__label {background-color: #d4ebff;}#sk-container-id-1 input.sk-hidden--visually {border: 0;clip: rect(1px 1px 1px 1px);clip: rect(1px, 1px, 1px, 1px);height: 1px;margin: -1px;overflow: hidden;padding: 0;position: absolute;width: 1px;}#sk-container-id-1 div.sk-estimator {font-family: monospace;background-color: #f0f8ff;border: 1px dotted black;border-radius: 0.25em;box-sizing: border-box;margin-bottom: 0.5em;}#sk-container-id-1 div.sk-estimator:hover {background-color: #d4ebff;}#sk-container-id-1 div.sk-parallel-item::after {content: \"\";width: 100%;border-bottom: 1px solid gray;flex-grow: 1;}#sk-container-id-1 div.sk-label:hover label.sk-toggleable__label {background-color: #d4ebff;}#sk-container-id-1 div.sk-serial::before {content: \"\";position: absolute;border-left: 1px solid gray;box-sizing: border-box;top: 0;bottom: 0;left: 50%;z-index: 0;}#sk-container-id-1 div.sk-serial {display: flex;flex-direction: column;align-items: center;background-color: white;padding-right: 0.2em;padding-left: 0.2em;position: relative;}#sk-container-id-1 div.sk-item {position: relative;z-index: 1;}#sk-container-id-1 div.sk-parallel {display: flex;align-items: stretch;justify-content: center;background-color: white;position: relative;}#sk-container-id-1 div.sk-item::before, #sk-container-id-1 div.sk-parallel-item::before {content: \"\";position: absolute;border-left: 1px solid gray;box-sizing: border-box;top: 0;bottom: 0;left: 50%;z-index: -1;}#sk-container-id-1 div.sk-parallel-item {display: flex;flex-direction: column;z-index: 1;position: relative;background-color: white;}#sk-container-id-1 div.sk-parallel-item:first-child::after {align-self: flex-end;width: 50%;}#sk-container-id-1 div.sk-parallel-item:last-child::after {align-self: flex-start;width: 50%;}#sk-container-id-1 div.sk-parallel-item:only-child::after {width: 0;}#sk-container-id-1 div.sk-dashed-wrapped {border: 1px dashed gray;margin: 0 0.4em 0.5em 0.4em;box-sizing: border-box;padding-bottom: 0.4em;background-color: white;}#sk-container-id-1 div.sk-label label {font-family: monospace;font-weight: bold;display: inline-block;line-height: 1.2em;}#sk-container-id-1 div.sk-label-container {text-align: center;}#sk-container-id-1 div.sk-container {/* jupyter's `normalize.less` sets `[hidden] { display: none; }` but bootstrap.min.css set `[hidden] { display: none !important; }` so we also need the `!important` here to be able to override the default hidden behavior on the sphinx rendered scikit-learn.org. See: https://github.com/scikit-learn/scikit-learn/issues/21755 */display: inline-block !important;position: relative;}#sk-container-id-1 div.sk-text-repr-fallback {display: none;}</style><div id=\"sk-container-id-1\" class=\"sk-top-container\"><div class=\"sk-text-repr-fallback\"><pre>LinearRegression()</pre><b>In a Jupyter environment, please rerun this cell to show the HTML representation or trust the notebook. <br />On GitHub, the HTML representation is unable to render, please try loading this page with nbviewer.org.</b></div><div class=\"sk-container\" hidden><div class=\"sk-item\"><div class=\"sk-estimator sk-toggleable\"><input class=\"sk-toggleable__control sk-hidden--visually\" id=\"sk-estimator-id-1\" type=\"checkbox\" checked><label for=\"sk-estimator-id-1\" class=\"sk-toggleable__label sk-toggleable__label-arrow\">LinearRegression</label><div class=\"sk-toggleable__content\"><pre>LinearRegression()</pre></div></div></div></div></div>"
            ]
          },
          "metadata": {},
          "execution_count": 7
        },
        {
          "output_type": "stream",
          "name": "stdout",
          "text": [
            "time: 449 ms (started: 2024-06-28 03:04:10 +00:00)\n"
          ]
        }
      ]
    },
    {
      "cell_type": "code",
      "source": [
        "lr.coef_, lr.intercept_"
      ],
      "metadata": {
        "colab": {
          "base_uri": "https://localhost:8080/"
        },
        "id": "28NCo9qmzOGD",
        "outputId": "94009be9-d258-4c1a-93ac-ddb1a6af33bb"
      },
      "execution_count": 9,
      "outputs": [
        {
          "output_type": "execute_result",
          "data": {
            "text/plain": [
              "(array([2.]), 1.0)"
            ]
          },
          "metadata": {},
          "execution_count": 9
        },
        {
          "output_type": "stream",
          "name": "stdout",
          "text": [
            "time: 7.6 ms (started: 2024-06-28 03:09:36 +00:00)\n"
          ]
        }
      ]
    },
    {
      "cell_type": "code",
      "source": [
        "from keras import layers\n",
        "\n",
        "model = keras.Sequential(\n",
        "    layers.Dense(units=1, input_shape=(1,))\n",
        ")\n",
        "\n",
        "model.summary()"
      ],
      "metadata": {
        "colab": {
          "base_uri": "https://localhost:8080/"
        },
        "id": "59mTyRE10dps",
        "outputId": "026f3b08-fa65-4259-e477-79279e1e1737"
      },
      "execution_count": 10,
      "outputs": [
        {
          "output_type": "stream",
          "name": "stdout",
          "text": [
            "Model: \"sequential\"\n",
            "_________________________________________________________________\n",
            " Layer (type)                Output Shape              Param #   \n",
            "=================================================================\n",
            " dense (Dense)               (None, 1)                 2         \n",
            "                                                                 \n",
            "=================================================================\n",
            "Total params: 2 (8.00 Byte)\n",
            "Trainable params: 2 (8.00 Byte)\n",
            "Non-trainable params: 0 (0.00 Byte)\n",
            "_________________________________________________________________\n",
            "time: 402 ms (started: 2024-06-28 03:12:19 +00:00)\n"
          ]
        }
      ]
    },
    {
      "cell_type": "code",
      "source": [
        "model.compile(loss='mse', optimizer='adam', metrics=['mse'])\n",
        "model.fit(x_train.reshape(-1,1), y_train, epochs=100,batch_size=len(x_train))"
      ],
      "metadata": {
        "colab": {
          "base_uri": "https://localhost:8080/"
        },
        "id": "HQ4lX-eV1Fdt",
        "outputId": "55e9a7a3-b651-42a6-b741-b547264b0ffa"
      },
      "execution_count": 11,
      "outputs": [
        {
          "output_type": "stream",
          "name": "stdout",
          "text": [
            "Epoch 1/100\n",
            "1/1 [==============================] - 2s 2s/step - loss: 44.1812 - mse: 44.1812\n",
            "Epoch 2/100\n",
            "1/1 [==============================] - 0s 19ms/step - loss: 44.1249 - mse: 44.1249\n",
            "Epoch 3/100\n",
            "1/1 [==============================] - 0s 34ms/step - loss: 44.0686 - mse: 44.0686\n",
            "Epoch 4/100\n",
            "1/1 [==============================] - 0s 18ms/step - loss: 44.0123 - mse: 44.0123\n",
            "Epoch 5/100\n",
            "1/1 [==============================] - 0s 18ms/step - loss: 43.9561 - mse: 43.9561\n",
            "Epoch 6/100\n",
            "1/1 [==============================] - 0s 16ms/step - loss: 43.8999 - mse: 43.8999\n",
            "Epoch 7/100\n",
            "1/1 [==============================] - 0s 28ms/step - loss: 43.8437 - mse: 43.8437\n",
            "Epoch 8/100\n",
            "1/1 [==============================] - 0s 27ms/step - loss: 43.7876 - mse: 43.7876\n",
            "Epoch 9/100\n",
            "1/1 [==============================] - 0s 18ms/step - loss: 43.7315 - mse: 43.7315\n",
            "Epoch 10/100\n",
            "1/1 [==============================] - 0s 23ms/step - loss: 43.6755 - mse: 43.6755\n",
            "Epoch 11/100\n",
            "1/1 [==============================] - 0s 24ms/step - loss: 43.6195 - mse: 43.6195\n",
            "Epoch 12/100\n",
            "1/1 [==============================] - 0s 28ms/step - loss: 43.5636 - mse: 43.5636\n",
            "Epoch 13/100\n",
            "1/1 [==============================] - 0s 24ms/step - loss: 43.5077 - mse: 43.5077\n",
            "Epoch 14/100\n",
            "1/1 [==============================] - 0s 23ms/step - loss: 43.4518 - mse: 43.4518\n",
            "Epoch 15/100\n",
            "1/1 [==============================] - 0s 17ms/step - loss: 43.3960 - mse: 43.3960\n",
            "Epoch 16/100\n",
            "1/1 [==============================] - 0s 15ms/step - loss: 43.3402 - mse: 43.3402\n",
            "Epoch 17/100\n",
            "1/1 [==============================] - 0s 15ms/step - loss: 43.2845 - mse: 43.2845\n",
            "Epoch 18/100\n",
            "1/1 [==============================] - 0s 14ms/step - loss: 43.2288 - mse: 43.2288\n",
            "Epoch 19/100\n",
            "1/1 [==============================] - 0s 16ms/step - loss: 43.1732 - mse: 43.1732\n",
            "Epoch 20/100\n",
            "1/1 [==============================] - 0s 15ms/step - loss: 43.1176 - mse: 43.1176\n",
            "Epoch 21/100\n",
            "1/1 [==============================] - 0s 15ms/step - loss: 43.0620 - mse: 43.0620\n",
            "Epoch 22/100\n",
            "1/1 [==============================] - 0s 13ms/step - loss: 43.0065 - mse: 43.0065\n",
            "Epoch 23/100\n",
            "1/1 [==============================] - 0s 13ms/step - loss: 42.9511 - mse: 42.9511\n",
            "Epoch 24/100\n",
            "1/1 [==============================] - 0s 13ms/step - loss: 42.8957 - mse: 42.8957\n",
            "Epoch 25/100\n",
            "1/1 [==============================] - 0s 12ms/step - loss: 42.8403 - mse: 42.8403\n",
            "Epoch 26/100\n",
            "1/1 [==============================] - 0s 14ms/step - loss: 42.7850 - mse: 42.7850\n",
            "Epoch 27/100\n",
            "1/1 [==============================] - 0s 20ms/step - loss: 42.7297 - mse: 42.7297\n",
            "Epoch 28/100\n",
            "1/1 [==============================] - 0s 32ms/step - loss: 42.6745 - mse: 42.6745\n",
            "Epoch 29/100\n",
            "1/1 [==============================] - 0s 26ms/step - loss: 42.6194 - mse: 42.6194\n",
            "Epoch 30/100\n",
            "1/1 [==============================] - 0s 25ms/step - loss: 42.5643 - mse: 42.5643\n",
            "Epoch 31/100\n",
            "1/1 [==============================] - 0s 20ms/step - loss: 42.5092 - mse: 42.5092\n",
            "Epoch 32/100\n",
            "1/1 [==============================] - 0s 12ms/step - loss: 42.4542 - mse: 42.4542\n",
            "Epoch 33/100\n",
            "1/1 [==============================] - 0s 12ms/step - loss: 42.3992 - mse: 42.3992\n",
            "Epoch 34/100\n",
            "1/1 [==============================] - 0s 12ms/step - loss: 42.3443 - mse: 42.3443\n",
            "Epoch 35/100\n",
            "1/1 [==============================] - 0s 15ms/step - loss: 42.2895 - mse: 42.2895\n",
            "Epoch 36/100\n",
            "1/1 [==============================] - 0s 12ms/step - loss: 42.2346 - mse: 42.2346\n",
            "Epoch 37/100\n",
            "1/1 [==============================] - 0s 18ms/step - loss: 42.1799 - mse: 42.1799\n",
            "Epoch 38/100\n",
            "1/1 [==============================] - 0s 18ms/step - loss: 42.1252 - mse: 42.1252\n",
            "Epoch 39/100\n",
            "1/1 [==============================] - 0s 17ms/step - loss: 42.0705 - mse: 42.0705\n",
            "Epoch 40/100\n",
            "1/1 [==============================] - 0s 18ms/step - loss: 42.0159 - mse: 42.0159\n",
            "Epoch 41/100\n",
            "1/1 [==============================] - 0s 19ms/step - loss: 41.9614 - mse: 41.9614\n",
            "Epoch 42/100\n",
            "1/1 [==============================] - 0s 19ms/step - loss: 41.9069 - mse: 41.9069\n",
            "Epoch 43/100\n",
            "1/1 [==============================] - 0s 18ms/step - loss: 41.8524 - mse: 41.8524\n",
            "Epoch 44/100\n",
            "1/1 [==============================] - 0s 17ms/step - loss: 41.7980 - mse: 41.7980\n",
            "Epoch 45/100\n",
            "1/1 [==============================] - 0s 18ms/step - loss: 41.7437 - mse: 41.7437\n",
            "Epoch 46/100\n",
            "1/1 [==============================] - 0s 18ms/step - loss: 41.6894 - mse: 41.6894\n",
            "Epoch 47/100\n",
            "1/1 [==============================] - 0s 31ms/step - loss: 41.6351 - mse: 41.6351\n",
            "Epoch 48/100\n",
            "1/1 [==============================] - 0s 20ms/step - loss: 41.5809 - mse: 41.5809\n",
            "Epoch 49/100\n",
            "1/1 [==============================] - 0s 25ms/step - loss: 41.5268 - mse: 41.5268\n",
            "Epoch 50/100\n",
            "1/1 [==============================] - 0s 20ms/step - loss: 41.4727 - mse: 41.4727\n",
            "Epoch 51/100\n",
            "1/1 [==============================] - 0s 28ms/step - loss: 41.4187 - mse: 41.4187\n",
            "Epoch 52/100\n",
            "1/1 [==============================] - 0s 24ms/step - loss: 41.3647 - mse: 41.3647\n",
            "Epoch 53/100\n",
            "1/1 [==============================] - 0s 25ms/step - loss: 41.3107 - mse: 41.3107\n",
            "Epoch 54/100\n",
            "1/1 [==============================] - 0s 23ms/step - loss: 41.2569 - mse: 41.2569\n",
            "Epoch 55/100\n",
            "1/1 [==============================] - 0s 25ms/step - loss: 41.2030 - mse: 41.2030\n",
            "Epoch 56/100\n",
            "1/1 [==============================] - 0s 22ms/step - loss: 41.1493 - mse: 41.1493\n",
            "Epoch 57/100\n",
            "1/1 [==============================] - 0s 29ms/step - loss: 41.0955 - mse: 41.0955\n",
            "Epoch 58/100\n",
            "1/1 [==============================] - 0s 53ms/step - loss: 41.0419 - mse: 41.0419\n",
            "Epoch 59/100\n",
            "1/1 [==============================] - 0s 38ms/step - loss: 40.9882 - mse: 40.9882\n",
            "Epoch 60/100\n",
            "1/1 [==============================] - 0s 32ms/step - loss: 40.9347 - mse: 40.9347\n",
            "Epoch 61/100\n",
            "1/1 [==============================] - 0s 25ms/step - loss: 40.8812 - mse: 40.8812\n",
            "Epoch 62/100\n",
            "1/1 [==============================] - 0s 23ms/step - loss: 40.8277 - mse: 40.8277\n",
            "Epoch 63/100\n",
            "1/1 [==============================] - 0s 32ms/step - loss: 40.7743 - mse: 40.7743\n",
            "Epoch 64/100\n",
            "1/1 [==============================] - 0s 34ms/step - loss: 40.7209 - mse: 40.7209\n",
            "Epoch 65/100\n",
            "1/1 [==============================] - 0s 31ms/step - loss: 40.6676 - mse: 40.6676\n",
            "Epoch 66/100\n",
            "1/1 [==============================] - 0s 35ms/step - loss: 40.6144 - mse: 40.6144\n",
            "Epoch 67/100\n",
            "1/1 [==============================] - 0s 26ms/step - loss: 40.5612 - mse: 40.5612\n",
            "Epoch 68/100\n",
            "1/1 [==============================] - 0s 25ms/step - loss: 40.5080 - mse: 40.5080\n",
            "Epoch 69/100\n",
            "1/1 [==============================] - 0s 15ms/step - loss: 40.4549 - mse: 40.4549\n",
            "Epoch 70/100\n",
            "1/1 [==============================] - 0s 15ms/step - loss: 40.4019 - mse: 40.4019\n",
            "Epoch 71/100\n",
            "1/1 [==============================] - 0s 21ms/step - loss: 40.3489 - mse: 40.3489\n",
            "Epoch 72/100\n",
            "1/1 [==============================] - 0s 18ms/step - loss: 40.2959 - mse: 40.2959\n",
            "Epoch 73/100\n",
            "1/1 [==============================] - 0s 18ms/step - loss: 40.2430 - mse: 40.2430\n",
            "Epoch 74/100\n",
            "1/1 [==============================] - 0s 16ms/step - loss: 40.1902 - mse: 40.1902\n",
            "Epoch 75/100\n",
            "1/1 [==============================] - 0s 15ms/step - loss: 40.1374 - mse: 40.1374\n",
            "Epoch 76/100\n",
            "1/1 [==============================] - 0s 15ms/step - loss: 40.0847 - mse: 40.0847\n",
            "Epoch 77/100\n",
            "1/1 [==============================] - 0s 15ms/step - loss: 40.0320 - mse: 40.0320\n",
            "Epoch 78/100\n",
            "1/1 [==============================] - 0s 12ms/step - loss: 39.9793 - mse: 39.9793\n",
            "Epoch 79/100\n",
            "1/1 [==============================] - 0s 18ms/step - loss: 39.9268 - mse: 39.9268\n",
            "Epoch 80/100\n",
            "1/1 [==============================] - 0s 16ms/step - loss: 39.8742 - mse: 39.8742\n",
            "Epoch 81/100\n",
            "1/1 [==============================] - 0s 14ms/step - loss: 39.8218 - mse: 39.8218\n",
            "Epoch 82/100\n",
            "1/1 [==============================] - 0s 16ms/step - loss: 39.7693 - mse: 39.7693\n",
            "Epoch 83/100\n",
            "1/1 [==============================] - 0s 14ms/step - loss: 39.7170 - mse: 39.7170\n",
            "Epoch 84/100\n",
            "1/1 [==============================] - 0s 16ms/step - loss: 39.6646 - mse: 39.6646\n",
            "Epoch 85/100\n",
            "1/1 [==============================] - 0s 16ms/step - loss: 39.6124 - mse: 39.6124\n",
            "Epoch 86/100\n",
            "1/1 [==============================] - 0s 12ms/step - loss: 39.5602 - mse: 39.5602\n",
            "Epoch 87/100\n",
            "1/1 [==============================] - 0s 12ms/step - loss: 39.5080 - mse: 39.5080\n",
            "Epoch 88/100\n",
            "1/1 [==============================] - 0s 11ms/step - loss: 39.4559 - mse: 39.4559\n",
            "Epoch 89/100\n",
            "1/1 [==============================] - 0s 11ms/step - loss: 39.4038 - mse: 39.4038\n",
            "Epoch 90/100\n",
            "1/1 [==============================] - 0s 12ms/step - loss: 39.3518 - mse: 39.3518\n",
            "Epoch 91/100\n",
            "1/1 [==============================] - 0s 12ms/step - loss: 39.2998 - mse: 39.2998\n",
            "Epoch 92/100\n",
            "1/1 [==============================] - 0s 13ms/step - loss: 39.2479 - mse: 39.2479\n",
            "Epoch 93/100\n",
            "1/1 [==============================] - 0s 11ms/step - loss: 39.1961 - mse: 39.1961\n",
            "Epoch 94/100\n",
            "1/1 [==============================] - 0s 10ms/step - loss: 39.1443 - mse: 39.1443\n",
            "Epoch 95/100\n",
            "1/1 [==============================] - 0s 11ms/step - loss: 39.0925 - mse: 39.0925\n",
            "Epoch 96/100\n",
            "1/1 [==============================] - 0s 10ms/step - loss: 39.0408 - mse: 39.0408\n",
            "Epoch 97/100\n",
            "1/1 [==============================] - 0s 10ms/step - loss: 38.9892 - mse: 38.9892\n",
            "Epoch 98/100\n",
            "1/1 [==============================] - 0s 12ms/step - loss: 38.9376 - mse: 38.9376\n",
            "Epoch 99/100\n",
            "1/1 [==============================] - 0s 19ms/step - loss: 38.8860 - mse: 38.8860\n",
            "Epoch 100/100\n",
            "1/1 [==============================] - 0s 20ms/step - loss: 38.8345 - mse: 38.8345\n"
          ]
        },
        {
          "output_type": "execute_result",
          "data": {
            "text/plain": [
              "<keras.src.callbacks.History at 0x7959b938db10>"
            ]
          },
          "metadata": {},
          "execution_count": 11
        },
        {
          "output_type": "stream",
          "name": "stdout",
          "text": [
            "time: 7.35 s (started: 2024-06-28 03:19:07 +00:00)\n"
          ]
        }
      ]
    },
    {
      "cell_type": "code",
      "source": [
        "model.get_weights()"
      ],
      "metadata": {
        "colab": {
          "base_uri": "https://localhost:8080/"
        },
        "id": "U_aZNsF-3O8o",
        "outputId": "7b84d668-2c99-4fdc-f109-d64dcf796b51"
      },
      "execution_count": 12,
      "outputs": [
        {
          "output_type": "execute_result",
          "data": {
            "text/plain": [
              "[array([[0.37164304]], dtype=float32), array([0.09888333], dtype=float32)]"
            ]
          },
          "metadata": {},
          "execution_count": 12
        },
        {
          "output_type": "stream",
          "name": "stdout",
          "text": [
            "time: 16.4 ms (started: 2024-06-28 03:21:50 +00:00)\n"
          ]
        }
      ]
    },
    {
      "cell_type": "code",
      "source": [
        "model.predict([[10]])"
      ],
      "metadata": {
        "colab": {
          "base_uri": "https://localhost:8080/"
        },
        "id": "nvyEDsvk3efz",
        "outputId": "d4e080c2-995f-4c31-fe5f-49cbbdda1a9d"
      },
      "execution_count": 14,
      "outputs": [
        {
          "output_type": "stream",
          "name": "stdout",
          "text": [
            "1/1 [==============================] - 0s 158ms/step\n"
          ]
        },
        {
          "output_type": "execute_result",
          "data": {
            "text/plain": [
              "array([[3.8153138]], dtype=float32)"
            ]
          },
          "metadata": {},
          "execution_count": 14
        },
        {
          "output_type": "stream",
          "name": "stdout",
          "text": [
            "time: 266 ms (started: 2024-06-28 03:23:29 +00:00)\n"
          ]
        }
      ]
    },
    {
      "cell_type": "code",
      "source": [
        "plt.scatter(x_train, y_train)\n",
        "plt.plot(x_train, model.predict(x_train.reshape(-1,1)))\n",
        "plt.plot(x_train, lr.predict(x_train.reshape(-1,1)))\n",
        "plt.show()"
      ],
      "metadata": {
        "colab": {
          "base_uri": "https://localhost:8080/",
          "height": 467
        },
        "id": "WN_4UczO3_Wa",
        "outputId": "b1d0e571-2310-4e77-bcbe-8aa3c17c1dcc"
      },
      "execution_count": 19,
      "outputs": [
        {
          "output_type": "stream",
          "name": "stdout",
          "text": [
            "1/1 [==============================] - 0s 43ms/step\n"
          ]
        },
        {
          "output_type": "display_data",
          "data": {
            "text/plain": [
              "<Figure size 640x480 with 1 Axes>"
            ],
            "image/png": "[encoded data removed]"
          },
          "metadata": {}
        },
        {
          "output_type": "stream",
          "name": "stdout",
          "text": [
            "time: 597 ms (started: 2024-06-28 03:27:58 +00:00)\n"
          ]
        }
      ]
    }
  ]
}