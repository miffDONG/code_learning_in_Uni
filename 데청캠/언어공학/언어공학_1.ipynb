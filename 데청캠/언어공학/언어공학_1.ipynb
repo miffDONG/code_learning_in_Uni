{
  "nbformat": 4,
  "nbformat_minor": 0,
  "metadata": {
    "colab": {
      "provenance": []
    },
    "kernelspec": {
      "name": "python3",
      "display_name": "Python 3"
    },
    "language_info": {
      "name": "python"
    }
  },
  "cells": [
    {
      "cell_type": "code",
      "execution_count": 34,
      "metadata": {
        "colab": {
          "base_uri": "https://localhost:8080/"
        },
        "id": "q4T92PXty6XF",
        "outputId": "2610674c-b950-4635-98c4-ab9752f1f4b5"
      },
      "outputs": [
        {
          "output_type": "stream",
          "name": "stdout",
          "text": [
            "['They', 'jump', 'over', 'the', 'fence']\n",
            "['T']\n",
            "['h']\n",
            "['e']\n",
            "['y']\n",
            "[]\n",
            "['j']\n",
            "['u']\n",
            "['m']\n",
            "['p']\n",
            "[]\n"
          ]
        }
      ],
      "source": [
        "import string\n",
        "file = '/content/drive/MyDrive/데청캠/cmubet.txt'\n",
        "f = open(file,'r')\n",
        "# print(f)\n",
        "\n",
        "lines = f.readlines()\n",
        "\n",
        "line1= 'They jump over the fence'\n",
        "line2= 'The sun gently warmed the soft, green grass in the peaceful meadow.'\n",
        "line2 = line2.translate(str.maketrans(\"\",\"\",string.punctuation))\n",
        "print(line1.split())\n",
        "# print(line2.split())\n",
        "\n",
        "# for word in line1:\n",
        "#   for li in lines:\n",
        "#     findW=list(li.split())[0]\n",
        "#     if word == findW:\n",
        "#       print(findW)\n",
        "#       print(li.split()[1:])\n",
        "\n",
        "i = 0\n",
        "for li in line1:\n",
        "  if i == 10:\n",
        "    break\n",
        "  findW=li.split()\n",
        "  print(findW)\n",
        "  # print(list(li.split()))\n",
        "  i+=1"
      ]
    },
    {
      "cell_type": "code",
      "source": [
        "  for li in range(len(lines)):\n",
        "    findW=lines[li].split()[0][1:]\n"
      ],
      "metadata": {
        "id": "tRGDORst559o"
      },
      "execution_count": null,
      "outputs": []
    }
  ]
}